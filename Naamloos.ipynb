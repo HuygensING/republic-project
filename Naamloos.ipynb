{
 "cells": [
  {
   "cell_type": "code",
   "execution_count": 2,
   "metadata": {},
   "outputs": [],
   "source": [
    "from fuzzy_search.fuzzy_context_searcher import FuzzyContextSearcher\n",
    "from fuzzy_search.fuzzy_phrase_searcher import FuzzyPhraseSearcher\n",
    "from fuzzy_search.fuzzy_searcher import FuzzySearcher\n",
    "from fuzzy_search.fuzzy_phrase_model import PhraseModel"
   ]
  },
  {
   "cell_type": "code",
   "execution_count": 6,
   "metadata": {},
   "outputs": [],
   "source": [
    "config = {\n",
    "    \"char_match_threshold\": 0.8,\n",
    "    \"ngram_threshold\": 0.6,\n",
    "    \"levenshtein_threshold\": 0.8,\n",
    "    \"ignorecase\": False,\n",
    "    \"ngram_size\": 2,\n",
    "    \"skip_size\": 2,\n",
    "}\n",
    "fcs = FuzzyContextSearcher(config=config)\n",
    "fps = FuzzyPhraseSearcher(config=config)\n",
    "\n",
    "phrase = PhraseModel()"
   ]
  },
  {
   "cell_type": "code",
   "execution_count": 8,
   "metadata": {},
   "outputs": [
    {
     "data": {
      "text/plain": [
       "[{'phrase': 'PRAESIDE Den Heere',\n",
       "  'variants': ['BRAS',\n",
       "   'P R A E S I D E Den Heere',\n",
       "   'BR JE 3.1. DE, Den Heere',\n",
       "   'PRASIDE Den Heere',\n",
       "   'DR AS 1D E Den Heere',\n",
       "   'Pros',\n",
       "   'PR&S',\n",
       "   'P R AE S I D E Den Heere',\n",
       "   'PRA&S',\n",
       "   'P R A S I D E Den Heere',\n",
       "   'PR&AS',\n",
       "   'PRAES',\n",
       "   'PRA',\n",
       "   'PR A31 DE; Den Heere',\n",
       "   'PRESIDE Den Heere',\n",
       "   'P R E S I D E Den Heere',\n",
       "   'PR ASL DE Den Heere',\n",
       "   'PRES',\n",
       "   'PREAS',\n",
       "   'PRAESIDE Den Heere'],\n",
       "  'custom': {'phrase': 'PRAESIDE Den Heere',\n",
       "   'variants': ['PRASIDE Den Heere',\n",
       "    'PRESIDE Den Heere',\n",
       "    'P R A E S I D E Den Heere',\n",
       "    'PRAESIDE Den Heere',\n",
       "    'P R A S I D E Den Heere',\n",
       "    'P R E S I D E Den Heere',\n",
       "    'P R AE S I D E Den Heere',\n",
       "    'DR AS 1D E Den Heere',\n",
       "    'PR ASL DE Den Heere',\n",
       "    'PR A31 DE; Den Heere',\n",
       "    'BR JE 3.1. DE, Den Heere',\n",
       "    'PRAES',\n",
       "    'PR&S',\n",
       "    'PREAS',\n",
       "    'Pros',\n",
       "    'PRES',\n",
       "    'PR&AS',\n",
       "    'PRA&S',\n",
       "    'PRA',\n",
       "    'BRAS']}},\n",
       " {'phrase': 'PRAESENTIBUS',\n",
       "  'variants': ['PRASELNTIBUS',\n",
       "   'PRA&ASEHNTIBUS',\n",
       "   'PRESENTIBUS',\n",
       "   'Prasentibus',\n",
       "   'TIDUS',\n",
       "   'TIEBUS',\n",
       "   'ENTIBUS',\n",
       "   'TIBUS',\n",
       "   'TIBDUS',\n",
       "   'TIBDUDS',\n",
       "   'PR&SENTIBUS',\n",
       "   'TLBUS',\n",
       "   'TIBÚS',\n",
       "   'TIBÜS',\n",
       "   'TIBÚUS'],\n",
       "  'custom': {'phrase': 'PRAESENTIBUS',\n",
       "   'variants': ['Prasentibus',\n",
       "    'PRESENTIBUS',\n",
       "    'TIBÚS',\n",
       "    'TIBDUS',\n",
       "    'TIEBUS',\n",
       "    'PRA&ASEHNTIBUS',\n",
       "    'TIBÚUS',\n",
       "    'TIDUS',\n",
       "    'TLBUS',\n",
       "    'TIBUS',\n",
       "    'TIBÜS',\n",
       "    'TIBDUDS',\n",
       "    'PR&SENTIBUS',\n",
       "    'ENTIBUS',\n",
       "    'PRASELNTIBUS']}}]"
      ]
     },
     "execution_count": 8,
     "metadata": {},
     "output_type": "execute_result"
    }
   ],
   "source": [
    "vs = ['PRASIDE Den Heere',\n",
    "          'PRESIDE Den Heere',\n",
    "          'P R A E S I D E Den Heere',\n",
    "          'PRAESIDE Den Heere',\n",
    "          'P R A S I D E Den Heere',\n",
    "          'P R E S I D E Den Heere',\n",
    "          'P R AE S I D E Den Heere',\n",
    "          'DR AS 1D E Den Heere',\n",
    "          'PR ASL DE Den Heere',\n",
    "          'PR A31 DE; Den Heere',\n",
    "          'BR JE 3.1. DE, Den Heere']\n",
    "vs = vs + ekwz['PRAS']\n",
    "pvs = ['PRASENTIBUS',\n",
    "                'PRESENTIBUS',\n",
    "                'P R A E S E N T I B U S',\n",
    "                'P RAE SE N TI B U S',\n",
    "                'PRA&SENTIBUS']\n",
    "variants = [{'phrase': 'PRAESIDE Den Heere', 'variants': vs},\n",
    "            {'phrase':'PRAESENTIBUS', \"variants\":ekwz['PRASENTIBUS']}]\n",
    "phrase_model = PhraseModel(model=variants)\n",
    "phrase_model.json"
   ]
  },
  {
   "cell_type": "code",
   "execution_count": 9,
   "metadata": {},
   "outputs": [],
   "source": [
    "from republic.data.delegate_database import ekwz\n",
    "# create a list of domain keywords and phrases\n",
    "# variants = [{'phrase': k, 'variants': v} for k, v in ekwz.items()]\n",
    "# # create a PhraseModel object from the domain phrases\n",
    "#phrase_model = PhraseModel(model=variants,)\n",
    "#phrase_model.add_phrases(ekwz.keys())\n",
    "# phrase_model.add_variants(variants)\n",
    "fps.index_phrase_model(phrase_model=phrase_model)\n",
    "fcs.index_phrase_model(phrase_model=phrase_model)"
   ]
  },
  {
   "cell_type": "code",
   "execution_count": 11,
   "metadata": {},
   "outputs": [
    {
     "data": {
      "text/plain": [
       "['Prasentibus',\n",
       " 'PRESENTIBUS',\n",
       " 'TIBÚS',\n",
       " 'TIBDUS',\n",
       " 'TIEBUS',\n",
       " 'PRA&ASEHNTIBUS',\n",
       " 'TIBÚUS',\n",
       " 'TIDUS',\n",
       " 'TLBUS',\n",
       " 'TIBUS',\n",
       " 'TIBÜS',\n",
       " 'TIBDUDS',\n",
       " 'PR&SENTIBUS',\n",
       " 'ENTIBUS',\n",
       " 'PRASELNTIBUS',\n",
       " 'PRASENTIBUS',\n",
       " 'PRESENTIBUS',\n",
       " 'P R A E S E N T I B U S',\n",
       " 'P RAE SE N TI B U S',\n",
       " 'PRA&SENTIBUS']"
      ]
     },
     "execution_count": 11,
     "metadata": {},
     "output_type": "execute_result"
    }
   ],
   "source": [
    "p = ekwz['PRASENTIBUS']\n",
    "pvs = ['PRASENTIBUS',\n",
    "                'PRESENTIBUS',\n",
    "                'P R A E S E N T I B U S',\n",
    "                'P RAE SE N TI B U S',\n",
    "                'PRA&SENTIBUS']\n",
    "p+pvs"
   ]
  },
  {
   "cell_type": "code",
   "execution_count": 12,
   "metadata": {},
   "outputs": [],
   "source": [
    "from fuzzy_search.fuzzy_string import score_levenshtein_similarity_ratio"
   ]
  },
  {
   "cell_type": "code",
   "execution_count": 13,
   "metadata": {},
   "outputs": [
    {
     "data": {
      "text/plain": [
       "PhraseMatch(phrase: \"PRAESIDE Den Heere\", variant: \"PRAESIDE Den Heere\",string: \"PRAESIDE Den Heere\", offset: 0)"
      ]
     },
     "execution_count": 13,
     "metadata": {},
     "output_type": "execute_result"
    }
   ],
   "source": [
    "res = fps.find_matches(text=\"PRAESIDE Den Heere\", include_variants=True, use_word_boundaries=False, allow_overlapping_matches=True)\n",
    "# for item in res:\n",
    "#     print(item.score_levenshtein_similarity())\n",
    "from scipy.special import softmax\n",
    "from numpy import argmax\n",
    "def score_match(match):\n",
    "    result = sum([match.levenshtein_similarity, match.character_overlap, match.ngram_overlap, score_levenshtein_similarity_ratio(str(match.variant.exact_string),str(match.phrase.exact_string))])\n",
    "    return result\n",
    "\n",
    "b = argmax(softmax([score_match(i) for i in res]))\n",
    "res[b]"
   ]
  },
  {
   "cell_type": "code",
   "execution_count": 16,
   "metadata": {},
   "outputs": [
    {
     "data": {
      "text/plain": [
       "[]"
      ]
     },
     "execution_count": 16,
     "metadata": {},
     "output_type": "execute_result"
    }
   ],
   "source": [
    "res"
   ]
  },
  {
   "cell_type": "code",
   "execution_count": 23,
   "metadata": {},
   "outputs": [
    {
     "data": {
      "text/plain": [
       "[{33, 34, 35, 36, 37}, {63, 64, 65, 66}]"
      ]
     },
     "execution_count": 23,
     "metadata": {},
     "output_type": "execute_result"
    }
   ],
   "source": [
    "from republic.helper.utils import *\n",
    "res = fps.find_matches(text=\"ie Veucris den 5. Januaris 1725. PR&ASIDE, Den Heere Bentinck. PRASENTIEBUS, De Heeren Jan Welderen , van Dam, Torck , met een extraordinaris Gedeputeerde uyt de Provincie van Gelderlandt. Van Maasdam , vanden Boeizelaar , Raadtpenfionaris van Hoornbeeck , met een extraordinaris Gedeputeerde uyt de Provincie van Hollandt ende Welt-Vrieslandt. Velters, Ockere , Noey; van Hoorn , met een extraordinaris Gedeputeerde uyt de Provincie van Zeelandt. Van Renswoude , van Voor{t. Van Schwartzenbergh, vander Waayen, Vegilin Van I{elmuden. Van Iddekinge ‚ van Tamminga.\"\n",
    ", include_variants=True, use_word_boundaries=False, allow_overlapping_matches=True)\n",
    "mx = max([score_match(m) for m in res])\n",
    "[m for m in res if score_match(m)==mx]\n",
    "r = res[0]\n",
    "r.end - r.offset\n",
    "ranges = [set(range(r.offset, r.end)) for r in res]\n",
    "p = pairwise\n",
    "setpair = []\n",
    "for pair in p(ranges):\n",
    "    pair = list(pair)\n",
    "    pair.sort()\n",
    "    if pair[0].intersection(pair[1]):\n",
    "        if pair[0].issubset(pair[1]):\n",
    "            setpair.append(pair[1])\n",
    "setpair  "
   ]
  },
  {
   "cell_type": "code",
   "execution_count": 25,
   "metadata": {},
   "outputs": [
    {
     "ename": "SyntaxError",
     "evalue": "invalid syntax (<ipython-input-25-0c157bab0b15>, line 6)",
     "output_type": "error",
     "traceback": [
      "\u001b[0;36m  File \u001b[0;32m\"<ipython-input-25-0c157bab0b15>\"\u001b[0;36m, line \u001b[0;32m6\u001b[0m\n\u001b[0;31m    Out[22]:\u001b[0m\n\u001b[0m            ^\u001b[0m\n\u001b[0;31mSyntaxError\u001b[0m\u001b[0;31m:\u001b[0m invalid syntax\n"
     ]
    }
   ],
   "source": [
    "mx = max(ranges, key=len)\n",
    "\n",
    "ranges.pop(ranges.index(mx))\n",
    "\n",
    "groupby(ranges, key=lambda x:set(x) & mx)\n",
    "Out[23]: <itertools.groupby at 0x109ead9b0>\n",
    "\n",
    "In [24]: list(groupby(ranges, key=lambda x:set(x) & mx))\n",
    "Out[24]:\n",
    "[(set(), <itertools._grouper at 0x109cf5b90>),\n",
    " ({12, 13, 14, 15, 16}, <itertools._grouper at 0x109af6150>),\n",
    " ({12, 13, 14, 15, 16, 17}, <itertools._grouper at 0x109af6190>),\n",
    " ({12, 13, 14, 15}, <itertools._grouper at 0x109af6c50>)]\n",
    "\n",
    "In [25]: for item in ranges:\n",
    "    ...:     print(set(item) & set(mx)\n",
    "    ...:     )\n",
    "    ...:\n",
    "set()\n",
    "set()\n",
    "{12, 13, 14, 15, 16}\n",
    "{12, 13, 14, 15, 16}\n",
    "{12, 13, 14, 15, 16, 17}\n",
    "{12, 13, 14, 15}\n",
    "\n",
    "In [26]: list(groupby(ranges, key=lambda x:set(x) & set(mx)))\n",
    "Out[26]:\n",
    "[(set(), <itertools._grouper at 0x109eb3f50>),\n",
    " ({12, 13, 14, 15, 16}, <itertools._grouper at 0x109c0fb50>),\n",
    " ({12, 13, 14, 15, 16, 17}, <itertools._grouper at 0x109c0f6d0>),\n",
    " ({12, 13, 14, 15}, <itertools._grouper at 0x109c0ff50>)]\n",
    "\n",
    "In [27]: for item in enumerate(ranges):\n",
    "    ...:     if set(item[1]) & set(mx):\n",
    "    ...:         ranges.pop(item[0])\n",
    "    ...:\n",
    "    ...:\n",
    "\n",
    "In [28]: ranges\n",
    "Out[28]: [{0, 1, 2, 3}, {0, 1, 2, 3}, {12, 13, 14, 15, 16}, {12, 13, 14, 15}]\n",
    "\n",
    "In [29]: mx\n",
    "Out[29]: {12, 13, 14, 15, 16, 17}\n",
    "\n",
    "In [30]: for item in enumerate(ranges):\n",
    "    ...:     if set(item[1]) & set(mx):\n",
    "    ...:         ranges.pop(item[0])\n",
    "    ...:\n",
    "    ...:\n",
    "\n",
    "In [31]: ranges\n",
    "Out[31]: [{0, 1, 2, 3}, {0, 1, 2, 3}, {12, 13, 14, 15}]\n",
    "\n",
    "In [32]: for item in enumerate(ranges):\n",
    "    ...:     if set(item[1]) & set(mx):\n",
    "    ...:         ranges.pop(item[0])\n",
    "    ...:\n",
    "    ...:\n",
    "\n",
    "In [33]: ranges\n",
    "Out[33]: [{0, 1, 2, 3}, {0, 1, 2, 3}]\n",
    "\n",
    "In [34]: mx = max(ranges, len)\n",
    "---------------------------------------------------------------------------\n",
    "TypeError                                 Traceback (most recent call last)\n",
    "<ipython-input-34-e37f3554337d> in <module>\n",
    "----> 1 mx = max(ranges, len)\n",
    "\n",
    "TypeError: '>' not supported between instances of 'builtin_function_or_method' and 'list'\n",
    "\n",
    "In [35]: mx = max(ranges, len)"
   ]
  },
  {
   "cell_type": "code",
   "execution_count": null,
   "metadata": {},
   "outputs": [],
   "source": []
  }
 ],
 "metadata": {
  "kernelspec": {
   "display_name": "republic",
   "language": "python",
   "name": "republic"
  },
  "language_info": {
   "codemirror_mode": {
    "name": "ipython",
    "version": 3
   },
   "file_extension": ".py",
   "mimetype": "text/x-python",
   "name": "python",
   "nbconvert_exporter": "python",
   "pygments_lexer": "ipython3",
   "version": "3.8.5"
  }
 },
 "nbformat": 4,
 "nbformat_minor": 4
}
