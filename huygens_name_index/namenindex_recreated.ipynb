{
 "cells": [
  {
   "cell_type": "code",
   "execution_count": 1,
   "metadata": {},
   "outputs": [],
   "source": [
    "# This reload library is just used for developing the REPUBLIC hOCR parser \n",
    "# and can be removed once this module is stable.\n",
    "%reload_ext autoreload\n",
    "%autoreload 2"
   ]
  },
  {
   "cell_type": "code",
   "execution_count": 2,
   "metadata": {},
   "outputs": [],
   "source": [
    "import os\n",
    "import random\n",
    "import re\n",
    "import dateutil\n",
    "import pandas as pd\n",
    "import html\n",
    "from names import common\n",
    "from lxml import etree\n",
    "from tarfile import TarFile\n",
    "from lxml.cssselect import CSSSelector"
   ]
  },
  {
   "cell_type": "code",
   "execution_count": 3,
   "metadata": {},
   "outputs": [],
   "source": [
    "basedir = \"./namenindex/\"\n",
    "srcdirs = ['anhalt_dessau_henriette_amalia_von',\n",
    "           'archives',\n",
    "           'bourbon_charlotte_de',\n",
    "           'braunschweig-wolfenbüttel_sophia_hedwig_von',\n",
    "           'de_witt',\n",
    "           'elbing',\n",
    "           'gachard', \n",
    "           'grotius',\n",
    "           'hanover_anne_of',\n",
    "           'heinsius',\n",
    "           'huygens_constantijn',\n",
    "           'oldenbarnevelt',\n",
    "           'oranje_nassau_albertine_agnes_van',\n",
    "           'raa',  \n",
    "           'schutte', \n",
    "           'solms_braunfels_amalia_von', \n",
    "           'stuart_mary_ii',\n",
    "           'stuart_mary_i',\n",
    "           'willemiii', \n",
    "           'wvo']"
   ]
  },
  {
   "cell_type": "code",
   "execution_count": 4,
   "metadata": {},
   "outputs": [],
   "source": [
    "# basedir = \"/Users/rikhoekstra/develop/namenindex/\""
   ]
  },
  {
   "cell_type": "code",
   "execution_count": 5,
   "metadata": {},
   "outputs": [],
   "source": [
    "# os.listdir(basedir)"
   ]
  },
  {
   "cell_type": "code",
   "execution_count": 6,
   "metadata": {},
   "outputs": [],
   "source": [
    "\n",
    "# srcdirs = ['heinsius', 'schutte', 'raa', 'oldenbarnevelt', 'gachard', 'elbing',\n",
    "#           'willemiii', 'wvo']\n",
    "# all_src = ['thorbecke',\n",
    "#  'wvo',\n",
    "#  'groen',\n",
    "#  'beaufort',\n",
    "#  'zekerheid',\n",
    "#  'europa',\n",
    "#  'egodocumenten',\n",
    "#  'kpp',\n",
    "#  'willemiii',\n",
    "#  'nib',\n",
    "#  'elbing',\n",
    "#  'staatsregeling',\n",
    "#  'heinsius',\n",
    "#  'raa',\n",
    "#  'archives',\n",
    "#  'cid',\n",
    "#  'bwn',\n",
    "#  'gachard',\n",
    "#  'oldenbarnevelt',\n",
    "#  'schutte']"
   ]
  },
  {
   "cell_type": "code",
   "execution_count": 7,
   "metadata": {},
   "outputs": [],
   "source": [
    "all_src = srcdirs"
   ]
  },
  {
   "cell_type": "code",
   "execution_count": 8,
   "metadata": {},
   "outputs": [
    {
     "name": "stdout",
     "output_type": "stream",
     "text": [
      "-  anhalt_dessau_henriette_amalia_von\n",
      "-  archives\n",
      "-  bourbon_charlotte_de\n",
      "-  braunschweig-wolfenbüttel_sophia_hedwig_von\n",
      "-  de_witt\n",
      "-  elbing\n",
      "-  gachard\n",
      "-  grotius\n",
      "-  hanover_anne_of\n",
      "-  heinsius\n",
      "-  huygens_constantijn\n",
      "-  oldenbarnevelt\n",
      "-  oranje_nassau_albertine_agnes_van\n",
      "-  raa\n",
      "-  schutte\n",
      "-  solms_braunfels_amalia_von\n",
      "-  stuart_mary_ii\n",
      "-  stuart_mary_i\n",
      "-  willemiii\n",
      "-  wvo\n"
     ]
    }
   ],
   "source": [
    "for f in all_src:\n",
    "    print ('- ', f)"
   ]
  },
  {
   "cell_type": "code",
   "execution_count": 10,
   "metadata": {},
   "outputs": [
    {
     "ename": "FileNotFoundError",
     "evalue": "[Errno 2] No such file or directory: './namenindex/braunschweig-wolfenbüttel_sophia_hedwig_von/out'",
     "output_type": "error",
     "traceback": [
      "\u001b[0;31m---------------------------------------------------------------------------\u001b[0m",
      "\u001b[0;31mFileNotFoundError\u001b[0m                         Traceback (most recent call last)",
      "Cell \u001b[0;32mIn[10], line 8\u001b[0m\n\u001b[1;32m      5\u001b[0m \u001b[38;5;66;03m# random sample files, I don't think there is much more information in these files, \u001b[39;00m\n\u001b[1;32m      6\u001b[0m \u001b[38;5;66;03m# though there might be in other collections\u001b[39;00m\n\u001b[1;32m      7\u001b[0m dr \u001b[38;5;241m=\u001b[39m os\u001b[38;5;241m.\u001b[39mpath\u001b[38;5;241m.\u001b[39mjoin(basedir, srcdirs[\u001b[38;5;241m3\u001b[39m], \u001b[38;5;124m'\u001b[39m\u001b[38;5;124mout\u001b[39m\u001b[38;5;124m'\u001b[39m)\n\u001b[0;32m----> 8\u001b[0m fls \u001b[38;5;241m=\u001b[39m [os\u001b[38;5;241m.\u001b[39mpath\u001b[38;5;241m.\u001b[39mjoin(dr, f) \u001b[38;5;28;01mfor\u001b[39;00m f \u001b[38;5;129;01min\u001b[39;00m \u001b[43mos\u001b[49m\u001b[38;5;241;43m.\u001b[39;49m\u001b[43mlistdir\u001b[49m\u001b[43m(\u001b[49m\u001b[43mdr\u001b[49m\u001b[43m)\u001b[49m \u001b[38;5;28;01mif\u001b[39;00m \u001b[38;5;124m'\u001b[39m\u001b[38;5;124m.xml\u001b[39m\u001b[38;5;124m'\u001b[39m \u001b[38;5;129;01min\u001b[39;00m f]\n\u001b[1;32m     10\u001b[0m randomfiles \u001b[38;5;241m=\u001b[39m random\u001b[38;5;241m.\u001b[39msample(fls, \u001b[38;5;241m10\u001b[39m)\n\u001b[1;32m     12\u001b[0m \u001b[38;5;28;01mfor\u001b[39;00m fl \u001b[38;5;129;01min\u001b[39;00m randomfiles:\n",
      "\u001b[0;31mFileNotFoundError\u001b[0m: [Errno 2] No such file or directory: './namenindex/braunschweig-wolfenbüttel_sophia_hedwig_von/out'"
     ]
    }
   ],
   "source": [
    "# what are we dealing with (these files are biodes)\n",
    "\n",
    "fn = 'out/0013.xml'\n",
    "\n",
    "# random sample files, I don't think there is much more information in these files, \n",
    "# though there might be in other collections\n",
    "dr = os.path.join(basedir, srcdirs[3], 'out')\n",
    "fls = [os.path.join(dr, f) for f in os.listdir(dr) if '.xml' in f]\n",
    "\n",
    "randomfiles = random.sample(fls, 10)\n",
    "          \n",
    "for fl in randomfiles:\n",
    "\n",
    "    doc = etree.parse(fl)\n",
    "    root = doc.getroot()\n",
    "    print (fl)\n",
    "    for item in root.getchildren():\n",
    "\n",
    "        print(etree.tostring(item))\n",
    "    print('\\n\\n')"
   ]
  },
  {
   "cell_type": "code",
   "execution_count": 8,
   "metadata": {},
   "outputs": [
    {
     "name": "stdout",
     "output_type": "stream",
     "text": [
      "/Users/rikhoekstra/develop/namenindex/heinsius/out/4677.xml\n",
      "b'<fileDesc>\\n    <title/>\\n    <ref target=\"http://www.inghist.nl/retroboeken/heinsius/#accessor=accessor_index&amp;accessor_href=accessor_index%3FSearchSource%253Autf-8%253Austring%3DNoot%252C%2520Roger%2520Walter%2520van%2520der%252C%2520Baron%2520van%2520Carloo\"/>\\n    <publisher>\\n      <name>Instituut voor Nederlandse Geschiedenis</name>\\n      <ref target=\"http://www.inghist.nl/\"/>\\n    </publisher>\\n  </fileDesc>\\n  '\n",
      "b'<person>\\n    <persName>Noot, Roger Walter van der, Baron van Carloo</persName>\\n  </person>\\n  '\n",
      "b'<biography>\\n    <text>(&amp;#134; 1710) Burgemeester van Brussel 1700-02 en lid van de Staten van Brabant.  Wauters, &lt;I&gt;Histoire des environs de Bruxelles&lt;/I&gt;, III, 652.</text>\\n  </biography>\\n'\n",
      "\n",
      "\n",
      "\n",
      "/Users/rikhoekstra/develop/namenindex/heinsius/out/2870.xml\n",
      "b'<fileDesc>\\n    <title/>\\n    <ref target=\"http://www.inghist.nl/retroboeken/heinsius/#accessor=accessor_index&amp;accessor_href=accessor_index%3FSearchSource%253Autf-8%253Austring%3DHattagie%252C%2520Sultana\"/>\\n    <publisher>\\n      <name>Instituut voor Nederlandse Geschiedenis</name>\\n      <ref target=\"http://www.inghist.nl/\"/>\\n    </publisher>\\n  </fileDesc>\\n  '\n",
      "b'<person>\\n    <persName>Hattagie, Sultana</persName>\\n  </person>\\n  '\n",
      "b'<biography>\\n    <text>Zuster van sultan Achmed III van Turkije.</text>\\n  </biography>\\n'\n",
      "\n",
      "\n",
      "\n",
      "/Users/rikhoekstra/develop/namenindex/heinsius/out/4583.xml\n",
      "b'<fileDesc>\\n    <title/>\\n    <ref target=\"http://www.inghist.nl/retroboeken/heinsius/#accessor=accessor_index&amp;accessor_href=accessor_index%3FSearchSource%253Autf-8%253Austring%3DNassau-Dietz%252C%2520Prins%2520van%252C%2520zie%2520Johan%2520Willem%2520Friso\"/>\\n    <publisher>\\n      <name>Instituut voor Nederlandse Geschiedenis</name>\\n      <ref target=\"http://www.inghist.nl/\"/>\\n    </publisher>\\n  </fileDesc>\\n  '\n",
      "b'<person>\\n    <persName>Nassau-Dietz, Prins van, zie Johan Willem Friso</persName>\\n  </person>\\n  '\n",
      "b'<biography/>\\n'\n",
      "\n",
      "\n",
      "\n",
      "/Users/rikhoekstra/develop/namenindex/heinsius/out/4187.xml\n",
      "b'<fileDesc>\\n    <title/>\\n    <ref target=\"http://www.inghist.nl/retroboeken/heinsius/#accessor=accessor_index&amp;accessor_href=accessor_index%3FSearchSource%253Autf-8%253Austring%3DMarillac%252C%2520Jean-Fran%25C3%25A7ois%252C%2520Markies%2520de\"/>\\n    <publisher>\\n      <name>Instituut voor Nederlandse Geschiedenis</name>\\n      <ref target=\"http://www.inghist.nl/\"/>\\n    </publisher>\\n  </fileDesc>\\n  '\n",
      "b'<person>\\n    <persName>Marillac, Jean-Fran&#231;ois, Markies de</persName>\\n  </person>\\n  '\n",
      "b'<biography>\\n    <text>(&amp;#134; 1704) Frans brigadier; gouverneur van B&#233;thune; gesneuveld bij  H&#246;chstadt. &lt;I&gt;Dictionnaire de la Noblesse&lt;/I&gt;, 9.</text>\\n  </biography>\\n'\n",
      "\n",
      "\n",
      "\n",
      "/Users/rikhoekstra/develop/namenindex/heinsius/out/2310.xml\n",
      "b'<fileDesc>\\n    <title/>\\n    <ref target=\"http://www.inghist.nl/retroboeken/heinsius/#accessor=accessor_index&amp;accessor_href=accessor_index%3FSearchSource%253Autf-8%253Austring%3DFredericks%252C%2520Jacob\"/>\\n    <publisher>\\n      <name>Instituut voor Nederlandse Geschiedenis</name>\\n      <ref target=\"http://www.inghist.nl/\"/>\\n    </publisher>\\n  </fileDesc>\\n  '\n",
      "b'<person>\\n    <persName>Fredericks, Jacob</persName>\\n  </person>\\n  '\n",
      "b'<biography>\\n    <text>Nederlands schipper op de Levant, 1712.</text>\\n  </biography>\\n'\n",
      "\n",
      "\n",
      "\n",
      "/Users/rikhoekstra/develop/namenindex/heinsius/out/3026.xml\n",
      "b'<fileDesc>\\n    <title/>\\n    <ref target=\"http://www.inghist.nl/retroboeken/heinsius/#accessor=accessor_index&amp;accessor_href=accessor_index%3FSearchSource%253Autf-8%253Austring%3DHeuvel%252C%2520%2528Mr\"/>\\n    <publisher>\\n      <name>Instituut voor Nederlandse Geschiedenis</name>\\n      <ref target=\"http://www.inghist.nl/\"/>\\n    </publisher>\\n  </fileDesc>\\n  '\n",
      "b'<person>\\n    <persName>Heuvel, (Mr</persName>\\n  </person>\\n  '\n",
      "b'<biography>\\n    <text>) Jacob van Den.  (&amp;#134; 1702) Commissaris-instructeur te Maastricht en president-schepen van  den Vroenhove sinds 1697.</text>\\n  </biography>\\n'\n",
      "\n",
      "\n",
      "\n",
      "/Users/rikhoekstra/develop/namenindex/heinsius/out/3826.xml\n",
      "b'<fileDesc>\\n    <title/>\\n    <ref target=\"http://www.inghist.nl/retroboeken/heinsius/#accessor=accessor_index&amp;accessor_href=accessor_index%3FSearchSource%253Autf-8%253Austring%3DLestevenon%252C%2520Bregitta\"/>\\n    <publisher>\\n      <name>Instituut voor Nederlandse Geschiedenis</name>\\n      <ref target=\"http://www.inghist.nl/\"/>\\n    </publisher>\\n  </fileDesc>\\n  '\n",
      "b'<person>\\n    <persName>Lestevenon, Bregitta</persName>\\n  </person>\\n  '\n",
      "b\"<biography>\\n    <text>(1668-1747) Oudere zuster van Buys' vrouw Elisabeth; getrouwd met Berend Willem  Ploos van Amstel, heer van Schonauwen (&amp;#134; 1721). Elias, &lt;I&gt;Vroedschap&lt;/I&gt;;  &lt;I&gt;Genealogische en Heraldische Bladen,&lt;/I&gt; II (1907), 366.</text>\\n  </biography>\\n\"\n",
      "\n",
      "\n",
      "\n",
      "/Users/rikhoekstra/develop/namenindex/heinsius/out/6177.xml\n",
      "b'<fileDesc>\\n    <title/>\\n    <ref target=\"http://www.inghist.nl/retroboeken/heinsius/#accessor=accessor_index&amp;accessor_href=accessor_index%3FSearchSource%253Autf-8%253Austring%3DSweerts%252C%2520Samuel\"/>\\n    <publisher>\\n      <name>Instituut voor Nederlandse Geschiedenis</name>\\n      <ref target=\"http://www.inghist.nl/\"/>\\n    </publisher>\\n  </fileDesc>\\n  '\n",
      "b'<person>\\n    <persName>Sweerts, Samuel</persName>\\n  </person>\\n  '\n",
      "b'<biography>\\n    <text>Rentmeester der domeinen van Willem III te Breda. Hora Siccama, &lt;I&gt;Aanteekeningen&lt;/I&gt;.</text>\\n  </biography>\\n'\n",
      "\n",
      "\n",
      "\n",
      "/Users/rikhoekstra/develop/namenindex/heinsius/out/4036.xml\n",
      "b'<fileDesc>\\n    <title/>\\n    <ref target=\"http://www.inghist.nl/retroboeken/heinsius/#accessor=accessor_index&amp;accessor_href=accessor_index%3FSearchSource%253Autf-8%253Austring%3DLudolphi%252C%2520Ludolph\"/>\\n    <publisher>\\n      <name>Instituut voor Nederlandse Geschiedenis</name>\\n      <ref target=\"http://www.inghist.nl/\"/>\\n    </publisher>\\n  </fileDesc>\\n  '\n",
      "b'<person>\\n    <persName>Ludolphi, Ludolph</persName>\\n  </person>\\n  '\n",
      "b'<biography>\\n    <text>Groninger (stedelijk) regent; 1707-08 lid van de Raad van State; 1710-11 gecommitteerde  in de Amsterdamse Admiraliteit.</text>\\n  </biography>\\n'\n",
      "\n",
      "\n",
      "\n",
      "/Users/rikhoekstra/develop/namenindex/heinsius/out/0484.xml\n",
      "b'<fileDesc>\\n    <title/>\\n    <ref target=\"http://www.inghist.nl/retroboeken/heinsius/#accessor=accessor_index&amp;accessor_href=accessor_index%3FSearchSource%253Autf-8%253Austring%3DBellamont%252C%2520Graaf%2520van%252C%2520zie%2520Coote%252C%2520Nanfan\"/>\\n    <publisher>\\n      <name>Instituut voor Nederlandse Geschiedenis</name>\\n      <ref target=\"http://www.inghist.nl/\"/>\\n    </publisher>\\n  </fileDesc>\\n  '\n",
      "b'<person>\\n    <persName>Bellamont, Graaf van, zie Coote, Nanfan</persName>\\n  </person>\\n  '\n",
      "b'<biography/>\\n'\n",
      "\n",
      "\n",
      "\n"
     ]
    }
   ],
   "source": [
    "# what are we dealing with (these files are biodes)\n",
    "\n",
    "fn = 'out/0013.xml'\n",
    "\n",
    "# random sample files, I don't think there is much more information in these files, \n",
    "# though there might be in other collections\n",
    "dr = os.path.join(basedir, srcdirs[0], 'out')\n",
    "fls = [os.path.join(dr, f) for f in os.listdir(dr) if '.xml' in f]\n",
    "\n",
    "randomfiles = random.sample(fls, 10)\n",
    "          \n",
    "for fl in randomfiles:\n",
    "\n",
    "    doc = etree.parse(fl)\n",
    "    root = doc.getroot()\n",
    "    print (fl)\n",
    "    for item in root.getchildren():\n",
    "\n",
    "        print(etree.tostring(item))\n",
    "    print('\\n\\n')"
   ]
  },
  {
   "cell_type": "code",
   "execution_count": 11,
   "metadata": {},
   "outputs": [
    {
     "name": "stdout",
     "output_type": "stream",
     "text": [
      "['heinsius', '#accessor=accessor_index&accessor_href=accessor_index%3FSearchSource%253Autf-8%253Austring%3DFrancisco%2520Este%252C%2520Prins%2520van%2520Modena']\n"
     ]
    },
    {
     "data": {
      "text/plain": [
       "'(1698-1780) Oudste zoon van hertog Rinaldo III van Modena, volgt in 1737 zijn  vader op.'"
      ]
     },
     "execution_count": 11,
     "metadata": {},
     "output_type": "execute_result"
    }
   ],
   "source": [
    "# first we need selectors. For these files the following seem to be enough\n",
    "sel1 = CSSSelector(\"fileDesc\")\n",
    "sel2 = CSSSelector(\"ref\")\n",
    "sel3 = CSSSelector(\"persName\")\n",
    "sel4 = CSSSelector(\"biography text\")\n",
    "\n",
    "#test some\n",
    "t = etree.parse(\"/Users/rikhoekstra/develop/namenindex/heinsius/out/2288.xml\")\n",
    "root = t.getroot()\n",
    "ref = sel2(root)[0]\n",
    "url = ref.get(\"target\")\n",
    "print(url.split('/')[-2:])\n",
    "s4 = sel4(root)[0]\n",
    "s4.text"
   ]
  },
  {
   "cell_type": "code",
   "execution_count": 12,
   "metadata": {},
   "outputs": [
    {
     "data": {
      "text/plain": [
       "'† 1725'"
      ]
     },
     "execution_count": 12,
     "metadata": {},
     "output_type": "execute_result"
    }
   ],
   "source": [
    "import html\n",
    "html.unescape(\"&#134; 1725\")"
   ]
  },
  {
   "cell_type": "code",
   "execution_count": 13,
   "metadata": {},
   "outputs": [
    {
     "name": "stdout",
     "output_type": "stream",
     "text": [
      "first try\n",
      "{'gebyr': '1666', 'dthyr': '1729'}\n",
      "{'gebyr': '1695', 'dthyr': ''}\n",
      "{'gebyr': '1695', 'dthyr': ''}\n",
      "{'gebyr': '1725', 'dthyr': ''}\n",
      "\n",
      "\n",
      "\n",
      "{'gebyr': '1667', 'dthyr': '1737'}\n",
      "new try with a function\n",
      "{'by': '1666', 'dy': '1729'}\n",
      "{'by': '', 'dy': '1695'}\n",
      "{'by': '1695', 'dy': ''}\n",
      "{'by': '', 'dy': '1725'}\n",
      "{'by': '1667', 'dy': '1737'}\n"
     ]
    }
   ],
   "source": [
    "# hm, upon closer inspection there are quite some life years. Can we extract these?\n",
    "# who knows if we're also going to do something with the 'zie ook's\n",
    "# see what we do with the † signs later on\n",
    "\n",
    "# first make our regular expressions\n",
    "\n",
    "pat = re.compile('(\\(.*[0-9]+.*\\))')\n",
    "byr = re.compile('\\(?(?P<gebyr>[0-9]{4})-?(?P<dthyr>[.|†]*|[0-9]{4})\\)')\n",
    "\n",
    "# test on some patterns we can come up with\n",
    "print('first try')\n",
    "print(byr.search('(1666-1729)').groupdict()) #expected result {'gebyr': '1666', 'eyr': '1729'}\n",
    "print(byr.search('(?-1695)').groupdict()) # er {'gebyr': '', 'eyr': '1695'}\n",
    "print(byr.search('(1695-)').groupdict()) # er {'gebyr': '1695', 'eyr': ''}\n",
    "print(byr.search('(† 1725)').groupdict()) # er {'gebyr': '', 'eyr': '1725'}\n",
    "print('\\n\\n')\n",
    "\n",
    "t1 = '(1667-1737) Predikant in het Gulikse; 1700-06 te Smyrna; 1707 hoogleraar in de  Oosterse talen aan de Leidse Hogeschool; 1707-09 studiereis naar het Nabije Oosten;  24 maart 1710 aanvaardde hij zijn ambt in Leiden. <I>NNBW</I>.'\n",
    "\n",
    "print (byr.search(t1).groupdict()) # er {'gebyr': '1667', 'eyr': '1737'}\n",
    "\n",
    "# nice, but it's the old trap of trying to do everything with one regex. We turn this into a function\n",
    "\n",
    "def spot_years(text):\n",
    "    result = {'by': '',\n",
    "              'dy': ''}\n",
    "    byr = re.compile('\\(([0-9]{4})') \n",
    "    eyr = re.compile(\"([0-9]{4})\\)\")\n",
    "    byd = byr.search(text)\n",
    "    if byd:\n",
    "        by = byd.groups()[0]\n",
    "        result['by'] = by\n",
    "    eyrd = eyr.search(text)\n",
    "    if eyrd:\n",
    "        ey = eyrd.groups()[0]\n",
    "        result['dy'] = ey\n",
    "    return result\n",
    "\n",
    "# test on same cases\n",
    "print('new try with a function')\n",
    "print(spot_years('(1666-1729)'))\n",
    "print(spot_years('(?-1695)'))\n",
    "print(spot_years('(1695-)'))\n",
    "print(spot_years('(† 1725)'))\n",
    "print (spot_years(t1)) \n",
    "\n",
    "\n",
    "# this seems a lot better"
   ]
  },
  {
   "cell_type": "code",
   "execution_count": 14,
   "metadata": {},
   "outputs": [
    {
     "name": "stdout",
     "output_type": "stream",
     "text": [
      "b'<text>(1698-1780) Oudste zoon van hertog Rinaldo III van Modena, volgt in 1737 zijn  vader op.</text>\\n  '\n",
      "{'by': '1698', 'dy': '1780'}\n",
      "b'<text>(1698-1780) Oudste zoon van hertog Rinaldo III van Modena, volgt in 1737 zijn  vader op.</text>\\n  '\n",
      "{'by': '1698', 'dy': '1780'}\n"
     ]
    }
   ],
   "source": [
    "inf = etree.parse('/Users/rikhoekstra/develop/namenindex/raa/out/1009.xml')\n",
    "def get_events(infile):\n",
    "    \"\"\"get events such as birthday and death day from biodes\"\"\"\n",
    "    sel = CSSSelector('event')\n",
    "    sel_p = CSSSelector('place')\n",
    "    out = {}\n",
    "    for item in sel(infile):\n",
    "        t = item.attrib['type'] \n",
    "        out[t] = item.attrib['when']\n",
    "        p = sel_p(item)\n",
    "        if p is not []:\n",
    "            p = p[0]\n",
    "            out[\"{i}-{p}\".format(i=t, p=p.tag)]= p.text\n",
    "\n",
    "    if 'birth' in out.keys():\n",
    "        try:\n",
    "            b = out.get('birth').split('-')[0] # hope birthyears are all same format\n",
    "            out['by'] = b\n",
    "        except TypeError:\n",
    "            pass\n",
    "        try:\n",
    "            d = out.get('death').split('-')[0]\n",
    "            out['dy'] = d\n",
    "        except TypeError:\n",
    "            pass\n",
    "    else:\n",
    "        t = sel4(infile)\n",
    "        t = '{}'.format(etree.tostring(t[0]))\n",
    "        print(t)\n",
    "        out = spot_years(t)\n",
    "    return(out)\n",
    "        \n",
    "\n",
    "def get_persnaam(infile):\n",
    "    \"\"\"get persname from biodes\"\"\"\n",
    "    out = {}\n",
    "    sel = CSSSelector('name')\n",
    "    pnames = sel3(infile)[0]\n",
    "    nms = sel(pnames)\n",
    "    fullname = \" \".join([n.text for n in nms])\n",
    "    out['fullname'] = fullname\n",
    "    for item in nms:\n",
    "        t = item.get('type') \n",
    "        out[t] = item.text\n",
    "    return out \n",
    "oefenfile = etree.parse(\"/Users/rikhoekstra/develop/namenindex/heinsius/out/2288.xml\")    \n",
    "#print(get_events(inf))\n",
    "print(get_events(oefenfile))\n",
    "\n",
    "#print(get_persnaam(inf))\n",
    "print(get_events(oefenfile))"
   ]
  },
  {
   "cell_type": "code",
   "execution_count": 15,
   "metadata": {},
   "outputs": [
    {
     "name": "stdout",
     "output_type": "stream",
     "text": [
      "{'geslachtsnaam': 'Merwede', 'fullname': 'mr. Daniel IV van de Merwede', 'birth': None, 'death': '1331', 'by': 0, 'dy': '1331', 'bp': '', 'dp': '', 'biography': '', 'reference': '', 'prepositie': 'mr.', 'voornaam': 'Daniel IV', 'intrapositie': 'van de', 'birth-place': None, 'death-place': None, '_root': <cyfunction Element at 0x1196efba0>}\n",
      "{'geslachtsnaam': 'Tonckens', 'fullname': 'Joachimus Lunsingh Tonckens', 'birth': None, 'death': '1821', 'by': 0, 'dy': '1821', 'bp': '', 'dp': '', 'biography': '', 'reference': '', 'voornaam': 'Joachimus Lunsingh', 'birth-place': None, 'death-place': None, '_root': <cyfunction Element at 0x1196efba0>}\n",
      "{'geslachtsnaam': 'Francisco Este', 'fullname': 'Francisco Este, Prins van Modena', 'birth': None, 'death': None, 'by': '1698', 'dy': '1780', 'bp': '', 'dp': '', 'biography': '(1698-1780) Oudste zoon van hertog Rinaldo III van Modena, volgt in 1737 zijn  vader op.', 'reference': '', '_root': <cyfunction Element at 0x1196efba0>}\n"
     ]
    },
    {
     "ename": "NameError",
     "evalue": "name 'randomfiles' is not defined",
     "output_type": "error",
     "traceback": [
      "\u001b[0;31m---------------------------------------------------------------------------\u001b[0m",
      "\u001b[0;31mNameError\u001b[0m                                 Traceback (most recent call last)",
      "Cell \u001b[0;32mIn[15], line 218\u001b[0m\n\u001b[1;32m    214\u001b[0m r \u001b[38;5;241m=\u001b[39m {k:\u001b[38;5;28mvars\u001b[39m(i)[k] \u001b[38;5;28;01mfor\u001b[39;00m k \u001b[38;5;129;01min\u001b[39;00m \u001b[38;5;28mvars\u001b[39m(i) \u001b[38;5;28;01mif\u001b[39;00m k \u001b[38;5;129;01mnot\u001b[39;00m \u001b[38;5;129;01min\u001b[39;00m [\u001b[38;5;124m'\u001b[39m\u001b[38;5;124msrc\u001b[39m\u001b[38;5;124m'\u001b[39m]}\n\u001b[1;32m    215\u001b[0m \u001b[38;5;28mprint\u001b[39m(r)\n\u001b[0;32m--> 218\u001b[0m \u001b[38;5;28;01mfor\u001b[39;00m f \u001b[38;5;129;01min\u001b[39;00m \u001b[43mrandomfiles\u001b[49m:\n\u001b[1;32m    219\u001b[0m     i \u001b[38;5;241m=\u001b[39m IndexItem(f)\n\u001b[1;32m    220\u001b[0m     r \u001b[38;5;241m=\u001b[39m {k:\u001b[38;5;28mvars\u001b[39m(i)[k] \u001b[38;5;28;01mfor\u001b[39;00m k \u001b[38;5;129;01min\u001b[39;00m \u001b[38;5;28mvars\u001b[39m(i) \u001b[38;5;28;01mif\u001b[39;00m k \u001b[38;5;129;01mnot\u001b[39;00m \u001b[38;5;129;01min\u001b[39;00m [\u001b[38;5;124m'\u001b[39m\u001b[38;5;124msrc\u001b[39m\u001b[38;5;124m'\u001b[39m]}\n",
      "\u001b[0;31mNameError\u001b[0m: name 'randomfiles' is not defined"
     ]
    }
   ],
   "source": [
    "# ok, this does not do what I want, for being from the old namenindex\n",
    "# we'll create a new indexitem class with the things I need\n",
    "# it'll take the xml as input and use cssselectors for getting data instead of arcane xpaths\n",
    "# and steal from the old product what I can use\n",
    "\n",
    "from names.common import PREFIXES, POSTFIXES, VOORVOEGSELS, TUSSENVOEGSELS, ROMANS\n",
    "from names.common import  TERRITORIALE_TITELS, STOP_WORDS, R_STOPWORDS #ACHTERVOEGSELS,\n",
    "\n",
    "\n",
    "class IndexItem(object):\n",
    "    def __init__(self, src='', content=''):\n",
    "        \"\"\"src is the name of an xmlfile with biodes data\n",
    "        adapted this so that if there is no filename but a string, this will also work\"\"\"\n",
    "        if src != '':\n",
    "            self.src = etree.parse(src)\n",
    "        else:\n",
    "            self.src = etree.fromstring(content)\n",
    "        #self.names = [] # don't need this\n",
    "        self.geslachtsnaam = ''\n",
    "        self.fullname = ''\n",
    "        self.birth = None\n",
    "        self.death = None\n",
    "        self.by = 0 # birth year (or should this be a period with start and end)\n",
    "        self.dy = 0 # death year\n",
    "        self.bp = '' # birthplace\n",
    "        self.dp = '' # dying place\n",
    "        self.biography = ''\n",
    "        self.reference = ''\n",
    "        self.populate()\n",
    "        \n",
    "    def populate(self):\n",
    "        self.get_names()\n",
    "        self.get_years()\n",
    "        self.get_biography()\n",
    "        self.get_reference()\n",
    "        self.guess_geslachtsnaam()\n",
    "        \n",
    "    def get_biography(self):\n",
    "        b = sel4(self.src)\n",
    "        if len(b) > 0:\n",
    "            bio = b[0].text\n",
    "            bio = html.unescape(bio)\n",
    "            self.biography = bio\n",
    "        \n",
    "    def get_names(self):\n",
    "        \"\"\"get names from biodes. adapted this from above\"\"\"\n",
    "        out = {}\n",
    "        sel = CSSSelector('name')\n",
    "        pnames = sel3(self.src)[0]\n",
    "        ptext = pnames.text\n",
    "        nms = sel(pnames)\n",
    "        self.fullname = \" \".join([n.text for n in nms])\n",
    "        for item in nms:\n",
    "            t = item.get('type') \n",
    "            setattr(self, t, item.text)\n",
    "        if self.fullname == '':\n",
    "            if ptext != '':\n",
    "                self.fullname = ptext\n",
    "        \n",
    "    def get_years(self):\n",
    "        from IPython.core.debugger import set_trace\n",
    "        \"\"\"get events such as birthday and death day from biodes\"\"\"\n",
    "        sel = CSSSelector('event')\n",
    "        sel_p = CSSSelector('place')\n",
    "        for item in sel(self.src):\n",
    "            t = item.attrib['type'] \n",
    "            try:\n",
    "                setattr(self, t, item.attrib['when'])\n",
    "            except KeyError:\n",
    "                pass\n",
    "            p = sel_p(item)\n",
    "            try:\n",
    "                if len(p) > 0:\n",
    "                    p = p[0]\n",
    "                    plc = \"{i}-{p}\".format(i=t, p=p.tag)\n",
    "                    setattr(self, plc, p.text)\n",
    "            except IndexError:\n",
    "                print(p)\n",
    "                set_trace()\n",
    "\n",
    "        if self.birth or self.death is not None:\n",
    "            try:\n",
    "                b = getattr(self, 'birth').split('-')[0] # hope birthyears are all same format\n",
    "                setattr(self, 'by', b)\n",
    "            except (TypeError, AttributeError) :\n",
    "                pass\n",
    "            try:\n",
    "                d = getattr(self, 'death').split('-')[0]\n",
    "                self.dy = d\n",
    "            except (TypeError, AttributeError):\n",
    "                pass\n",
    "        else:\n",
    "            self.get_yrs_from_txt()\n",
    "            \n",
    "    def get_yrs_from_txt(self):\n",
    "        \"\"\"try to get birth and death years from biography\"\"\"\n",
    "        t = sel4(self.src)\n",
    "        try:\n",
    "            t = '{}'.format(etree.tostring(t[0]))\n",
    "            out = spot_years(t)\n",
    "        \n",
    "            for key in out.keys():\n",
    "                setattr(self, key, out[key])\n",
    "        except IndexError:\n",
    "            pass\n",
    "        \n",
    "    def get_reference(self):\n",
    "        \"\"\"try to get reference from 'zie verwijzing'\"\"\"\n",
    "        pat = re.compile('.* zie (.*)')\n",
    "        try:\n",
    "            reference = pat.search(self.biography).groups()[0]\n",
    "            reference = reference.strip()\n",
    "            if len(reference) > 0:\n",
    "                if reference[-1] == '.':\n",
    "                    reference = reference[:-1]\n",
    "            self.reference = reference\n",
    "        except AttributeError: # lame but useful\n",
    "            pass\n",
    "\n",
    "    def _guess_geslachtsnaam_in_string(self, s, hints=[]):\n",
    "        \"\"\"TODO strip achtervoegsels (like Junior)\"\"\"\n",
    "        naam = s\n",
    "        #xXXX dit is HEEL primitief\n",
    "\n",
    "        #alle woorden die tussen haakjes staan zijn niet de achternaam, en filteren we er uit\n",
    "        #(maar de haakjes in \"Ha(c)ks\" blijven staan)\n",
    "        naam = re.sub(r'(?<!\\w)\\(.*?\\)', '', naam)\n",
    "        naam = naam.strip()\n",
    "\n",
    "\n",
    "        if ', ' in naam: #als er een komma in de naam staat, dan is dat wat voor de komma staat de achternaam\n",
    "            guessed_naam = naam.split(',')[0]\n",
    "        elif 'startswithgeslachtsnaam' in hints: #er staat geen komma (ofzo) in, maar we weten wel dat de naam\n",
    "            #met een achternaam begint: dan moet het wel de hele string zijn\n",
    "            guessed_naam = naam\n",
    "        elif re.match('[A-Z]\\.', naam):\n",
    "            #als de naam met een initiaal begint, fitleren we alle intiitale er uit, en is de rest de achternaam\n",
    "            guessed_naam = naam[re.match('([A-Z]\\.)+',naam).end():]\n",
    "\n",
    "        elif ' ' in naam:\n",
    "            #als er een spatie\n",
    "            candidates = naam.split(' ')\n",
    "            if candidates[-1] in ROMANS:\n",
    "                #als de naam op ene ORMAN numeral eindigt, dan gaan we er van uit dat er geen achternaam is\n",
    "                #(merk op dat dit mis gaat bij amerikaanse namen als \"John Styuivesandt III\"\n",
    "                guessed_naam = ''\n",
    "            else:\n",
    "                guessed_naam = candidates[-1]\n",
    "        else:\n",
    "            guessed_naam = naam\n",
    "\n",
    "\n",
    "        #een speciaal geval zijn namen van getrouwde dames, zoals 'Angela Boter-de Groot'\n",
    "        if '-' in naam:\n",
    "            for tussenvoegsel in TUSSENVOEGSELS:\n",
    "                if '-%s' % tussenvoegsel in naam:\n",
    "                    i = naam.find('-%s' % tussenvoegsel)\n",
    "                    if i > -1:\n",
    "                        guessed_naam = self._guess_geslachtsnaam_in_string(naam[:i], hints)\n",
    "                        guessed_naam = guessed_naam + naam[i:]\n",
    "        guessed_naam = self._strip_tussenvoegels(guessed_naam)\n",
    "        return guessed_naam\n",
    "\n",
    "    def _strip_tussenvoegels(self,s):\n",
    "        s = s.strip()\n",
    "        for tussenvoegsel in TUSSENVOEGSELS:\n",
    "            if s.startswith(tussenvoegsel +  ' ' ):\n",
    "                s = s[len(tussenvoegsel):]\n",
    "                s = self._strip_tussenvoegels(s)\n",
    "                break\n",
    "        return s.strip()\n",
    "    \n",
    "    def guess_geslachtsnaam(self, hints=[], change_xml=True):\n",
    "        \"\"\"probeer te raden wat de geslachtsnaam is\n",
    "        en verander de gegevens xml boom naargelang\n",
    "\n",
    "        bv:\n",
    "        >>> naam.to_string()\n",
    "        '<persName>Puk, Pietje</persName>\n",
    "        >>> naam.guess_geslachtsnaam()\n",
    "        >>> naam.to_string()\n",
    "        '<persName><name type=\"geslachtsnaam\">Puk</name>, Pietje</persName>\n",
    "\n",
    "        hints: is een lijst met de volgende mogelijkheden:\n",
    "             ['startswithgeslachtsnaam']\n",
    "\n",
    "        >>> naam.fromstring('AAA BBB')\n",
    "        >>> naam.guess_geslachtsnaam()\n",
    "        'BBB'\n",
    "        >>> naam.guess_geslachtsnaam(hints=['startswithgeslachtsnaam'])\n",
    "        'AAA'\n",
    "        \"\"\"\n",
    "        self._root = etree.Element\n",
    "        if self.geslachtsnaam: #als we al een geslachtsnaam hebben, is er weinig te raden\n",
    "            pass\n",
    "\n",
    "        else:\n",
    "            guessed_geslachtsnaam = self._guess_geslachtsnaam_in_string(self.fullname, hints)\n",
    "            self.geslachtsnaam = guessed_geslachtsnaam #but guessed\n",
    "        return self\n",
    "\n",
    "\n",
    "\n",
    "# test\n",
    "i = IndexItem('/Users/rikhoekstra/develop/namenindex/raa/out/6294.xml')\n",
    "r = {k:vars(i)[k] for k in vars(i) if k not in ['src']}\n",
    "print(r)\n",
    "\n",
    "i = IndexItem('/Users/rikhoekstra/develop/namenindex/raa/out/3187.xml')\n",
    "r = {k:vars(i)[k] for k in vars(i) if k not in ['src']}\n",
    "print(r)\n",
    "\n",
    "i = IndexItem(\"/Users/rikhoekstra/develop/namenindex/heinsius/out/2288.xml\")\n",
    "r = {k:vars(i)[k] for k in vars(i) if k not in ['src']}\n",
    "print(r)\n",
    "\n",
    "\n",
    "for f in randomfiles:\n",
    "    i = IndexItem(f)\n",
    "    r = {k:vars(i)[k] for k in vars(i) if k not in ['src']}\n",
    "    print(r)"
   ]
  },
  {
   "cell_type": "code",
   "execution_count": 16,
   "metadata": {},
   "outputs": [],
   "source": [
    "# we can do something with the following code, but don't know yet if extended item is a good idea\n",
    "#ok, incorporated partially in indexitem, leave this for further reference\n",
    "\n",
    "from names.common import PREFIXES, POSTFIXES, VOORVOEGSELS, TUSSENVOEGSELS, ROMANS\n",
    "from names.common import  TERRITORIALE_TITELS, STOP_WORDS, R_STOPWORDS #ACHTERVOEGSELS,\n",
    "\n",
    "\n",
    "class ExtendedIndexItem(IndexItem):\n",
    "    def _guess_geslachtsnaam_in_string(self, s, hints=[]):\n",
    "            naam = s\n",
    "            #xXXX dit is HEEL primitief\n",
    "\n",
    "            #alle woorden die tussen haakjes staan zijn niet de achternaam, en filteren we er uit\n",
    "            #(maar de haakjes in \"Ha(c)ks\" blijven staan)\n",
    "            naam = re.sub(r'(?<!\\w)\\(.*?\\)', '', naam)\n",
    "            naam = naam.strip()\n",
    "\n",
    "\n",
    "            if ', ' in naam: #als er een komma in de naam staat, dan is dat wat voor de komma staat de achternaam\n",
    "                guessed_naam = naam.split(',')[0]\n",
    "            elif 'startswithgeslachtsnaam' in hints: #er staat geen komma (ofzo) in, maar we weten wel dat de naam\n",
    "                #met een achternaam begint: dan moet het wel de hele string zijn\n",
    "                guessed_naam = naam\n",
    "            elif re.match('[A-Z]\\.', naam):\n",
    "                #als de naam met een initiaal begint, fitleren we alle intiitale er uit, en is de rest de achternaam\n",
    "                guessed_naam = naam[re.match('([A-Z]\\.)+',naam).end():]\n",
    "\n",
    "            elif ' ' in naam:\n",
    "                #als er een spatie\n",
    "                candidates = naam.split(' ')\n",
    "                if candidates[-1] in ROMANS:\n",
    "                    #als de naam op ene ORMAN numeral eindigt, dan gaan we er van uit dat er geen achternaam is\n",
    "                    #(merk op dat dit mis gaat bij amerikaanse namen als \"John Styuivesandt III\"\n",
    "                    guessed_naam = ''\n",
    "                else:\n",
    "                    guessed_naam = candidates[-1]\n",
    "            else:\n",
    "                guessed_naam = naam\n",
    "\n",
    "\n",
    "            #een speciaal geval zijn namen van getrouwde dames, zoals 'Angela Boter-de Groot'\n",
    "            if '-' in naam:\n",
    "                for tussenvoegsel in TUSSENVOEGSELS:\n",
    "                    if '-%s' % tussenvoegsel in naam:\n",
    "                        i = naam.find('-%s' % tussenvoegsel)\n",
    "                        if i > -1:\n",
    "                            guessed_naam = self._guess_geslachtsnaam_in_string(naam[:i], hints)\n",
    "                            guessed_naam = guessed_naam + naam[i:]\n",
    "            guessed_naam = self._strip_tussenvoegels(guessed_naam)\n",
    "            return guessed_naam\n",
    "\n",
    "    def _strip_tussenvoegels(self,s):\n",
    "        s = s.strip()\n",
    "        for tussenvoegsel in TUSSENVOEGSELS:\n",
    "            if s.startswith(tussenvoegsel +  ' ' ):\n",
    "                s = s[len(tussenvoegsel):]\n",
    "                s = self._strip_tussenvoegels(s)\n",
    "                break\n",
    "        return s.strip()\n",
    "    \n",
    "    def guess_geslachtsnaam(self, hints=[], change_xml=True):\n",
    "        \"\"\"probeer te raden wat de geslachtsnaam is\n",
    "        en verander de gegevens xml boom naargelang\n",
    "\n",
    "        bv:\n",
    "        >>> naam.to_string()\n",
    "        '<persName>Puk, Pietje</persName>\n",
    "        >>> naam.guess_geslachtsnaam()\n",
    "        >>> naam.to_string()\n",
    "        '<persName><name type=\"geslachtsnaam\">Puk</name>, Pietje</persName>\n",
    "\n",
    "        hints: is een lijst met de volgende mogelijkheden:\n",
    "             ['startswithgeslachtsnaam']\n",
    "\n",
    "        >>> naam.fromstring('AAA BBB')\n",
    "        >>> naam.guess_geslachtsnaam()\n",
    "        'BBB'\n",
    "        >>> naam.guess_geslachtsnaam(hints=['startswithgeslachtsnaam'])\n",
    "        'AAA'\n",
    "        \"\"\"\n",
    "        self._root = etree.Element\n",
    "        if self.geslachtsnaam: #als we al een geslachtsnaam hebben, is er weinig te raden\n",
    "            pass\n",
    "\n",
    "        else:\n",
    "            guessed_geslachtsnaam = self._guess_geslachtsnaam_in_string(self.fullname, hints)\n",
    "            self.geslachtsnaam = guessed_geslachtsnaam #but guessed\n",
    "        return self\n",
    "\n",
    "\n",
    "    def guess_normal_form(self, change_xml=True, ):\n",
    "        \"\"\"return 'normal form' vna de vorm \"Gesalchtsnaam, prepositie voornaam intrapostie, postpostiie\"\"\"\n",
    "        #als we de achternaam niet expliciet is gegeven, dan doen we een educted guess\n",
    "        try:\n",
    "            self._root\n",
    "        except AttributeError:\n",
    "            self.from_string(self.xml)\n",
    "        try:\n",
    "            return self._normal_form\n",
    "        except AttributeError:\n",
    "\n",
    "            self.guess_geslachtsnaam(change_xml=change_xml)\n",
    "            if self.geslachtsnaam():\n",
    "                rest = self.serialize(exclude=['geslachtsnaam'])\n",
    "                rest = rest.replace(',', '')\n",
    "                rest = rest.replace('  ', ' ')\n",
    "                rest = rest.strip()\n",
    "                if rest:\n",
    "                    s = '%s, %s' % (self.geslachtsnaam(),  rest)\n",
    "                else:\n",
    "                    s = '%s' % (self.geslachtsnaam())\n",
    "            else:\n",
    "                s = self.serialize()\n",
    "\n",
    "            #alles wat tussen haakjes staat gaat er uit\n",
    "            s = re.sub('\\(.*?\\)', '', s)\n",
    "\n",
    "            #alles wat in HOOFDLETTERS staat wordt Hoofdletters, behalve tussenvoegsels en romans\n",
    "            result = ''\n",
    "            for s in s.split():\n",
    "                if s == s.lower():\n",
    "                    pass\n",
    "                elif s in ROMANS + TUSSENVOEGSELS:\n",
    "                    pass\n",
    "                elif u'.' in s:\n",
    "                    pass\n",
    "                else:\n",
    "                    s =  s.capitalize()\n",
    "                result += ' '  + s\n",
    "            result = result.strip()\n",
    "            self._normal_form = result\n",
    "        return result\n",
    "\n",
    "\n",
    "    def initials(self):\n",
    "\n",
    "        s = self.guess_normal_form()\n",
    "        return ' '.join([s[0] for s in re.findall('\\w+', s) if s not in STOP_WORDS])\n",
    "    \n",
    "    def _name_parts(self):\n",
    "        s = self.serialize()\n",
    "        return re.findall('\\S+', s)\n",
    "\n",
    "    def contains_initials(self):\n",
    "        #all parts of the name are initials, except  \"geslachtsnaam\" or ROMANS or TUSSENVOEGSELS\n",
    "        g = self.guess_geslachtsnaam().geslachtsnaam()\n",
    "        for p in self._name_parts():\n",
    "            if p.endswith('.') and p not in VOORVOEGSELS + TERRITORIALE_TITELS:\n",
    "                return True\n",
    "#            if (p in g) or p.endswith('.') or p.endswith(',') or p in TUSSENVOEGSELS:\n",
    "#                pass\n",
    "#           else:\n",
    "#               return False\n",
    "        return False"
   ]
  },
  {
   "cell_type": "code",
   "execution_count": 17,
   "metadata": {
    "scrolled": true
   },
   "outputs": [
    {
     "ename": "FileNotFoundError",
     "evalue": "[Errno 2] No such file or directory: './namenindex/anhalt_dessau_henriette_amalia_von/out.tar.gz'",
     "output_type": "error",
     "traceback": [
      "\u001b[0;31m---------------------------------------------------------------------------\u001b[0m",
      "\u001b[0;31mFileNotFoundError\u001b[0m                         Traceback (most recent call last)",
      "Cell \u001b[0;32mIn[17], line 1\u001b[0m\n\u001b[0;32m----> 1\u001b[0m tar \u001b[38;5;241m=\u001b[39m \u001b[43mTarFile\u001b[49m\u001b[38;5;241;43m.\u001b[39;49m\u001b[43mopen\u001b[49m\u001b[43m(\u001b[49m\u001b[43mos\u001b[49m\u001b[38;5;241;43m.\u001b[39;49m\u001b[43mpath\u001b[49m\u001b[38;5;241;43m.\u001b[39;49m\u001b[43mjoin\u001b[49m\u001b[43m(\u001b[49m\u001b[43mbasedir\u001b[49m\u001b[43m,\u001b[49m\u001b[43m \u001b[49m\u001b[43msrcdirs\u001b[49m\u001b[43m[\u001b[49m\u001b[38;5;241;43m0\u001b[39;49m\u001b[43m]\u001b[49m\u001b[43m,\u001b[49m\u001b[43m \u001b[49m\u001b[38;5;124;43m\"\u001b[39;49m\u001b[38;5;124;43mout.tar.gz\u001b[39;49m\u001b[38;5;124;43m\"\u001b[39;49m\u001b[43m)\u001b[49m\u001b[43m,\u001b[49m\u001b[43m \u001b[49m\u001b[38;5;124;43m\"\u001b[39;49m\u001b[38;5;124;43mr:gz\u001b[39;49m\u001b[38;5;124;43m\"\u001b[39;49m\u001b[43m)\u001b[49m\n\u001b[1;32m      2\u001b[0m rescoll \u001b[38;5;241m=\u001b[39m []\n\u001b[1;32m      3\u001b[0m record \u001b[38;5;241m=\u001b[39m {}\n",
      "File \u001b[0;32m/usr/local/Cellar/python@3.9/3.9.10/Frameworks/Python.framework/Versions/3.9/lib/python3.9/tarfile.py:1629\u001b[0m, in \u001b[0;36mTarFile.open\u001b[0;34m(cls, name, mode, fileobj, bufsize, **kwargs)\u001b[0m\n\u001b[1;32m   1627\u001b[0m     \u001b[38;5;28;01melse\u001b[39;00m:\n\u001b[1;32m   1628\u001b[0m         \u001b[38;5;28;01mraise\u001b[39;00m CompressionError(\u001b[38;5;124m\"\u001b[39m\u001b[38;5;124munknown compression type \u001b[39m\u001b[38;5;132;01m%r\u001b[39;00m\u001b[38;5;124m\"\u001b[39m \u001b[38;5;241m%\u001b[39m comptype)\n\u001b[0;32m-> 1629\u001b[0m     \u001b[38;5;28;01mreturn\u001b[39;00m \u001b[43mfunc\u001b[49m\u001b[43m(\u001b[49m\u001b[43mname\u001b[49m\u001b[43m,\u001b[49m\u001b[43m \u001b[49m\u001b[43mfilemode\u001b[49m\u001b[43m,\u001b[49m\u001b[43m \u001b[49m\u001b[43mfileobj\u001b[49m\u001b[43m,\u001b[49m\u001b[43m \u001b[49m\u001b[38;5;241;43m*\u001b[39;49m\u001b[38;5;241;43m*\u001b[39;49m\u001b[43mkwargs\u001b[49m\u001b[43m)\u001b[49m\n\u001b[1;32m   1631\u001b[0m \u001b[38;5;28;01melif\u001b[39;00m \u001b[38;5;124m\"\u001b[39m\u001b[38;5;124m|\u001b[39m\u001b[38;5;124m\"\u001b[39m \u001b[38;5;129;01min\u001b[39;00m mode:\n\u001b[1;32m   1632\u001b[0m     filemode, comptype \u001b[38;5;241m=\u001b[39m mode\u001b[38;5;241m.\u001b[39msplit(\u001b[38;5;124m\"\u001b[39m\u001b[38;5;124m|\u001b[39m\u001b[38;5;124m\"\u001b[39m, \u001b[38;5;241m1\u001b[39m)\n",
      "File \u001b[0;32m/usr/local/Cellar/python@3.9/3.9.10/Frameworks/Python.framework/Versions/3.9/lib/python3.9/tarfile.py:1675\u001b[0m, in \u001b[0;36mTarFile.gzopen\u001b[0;34m(cls, name, mode, fileobj, compresslevel, **kwargs)\u001b[0m\n\u001b[1;32m   1672\u001b[0m     \u001b[38;5;28;01mraise\u001b[39;00m CompressionError(\u001b[38;5;124m\"\u001b[39m\u001b[38;5;124mgzip module is not available\u001b[39m\u001b[38;5;124m\"\u001b[39m)\n\u001b[1;32m   1674\u001b[0m \u001b[38;5;28;01mtry\u001b[39;00m:\n\u001b[0;32m-> 1675\u001b[0m     fileobj \u001b[38;5;241m=\u001b[39m \u001b[43mGzipFile\u001b[49m\u001b[43m(\u001b[49m\u001b[43mname\u001b[49m\u001b[43m,\u001b[49m\u001b[43m \u001b[49m\u001b[43mmode\u001b[49m\u001b[43m \u001b[49m\u001b[38;5;241;43m+\u001b[39;49m\u001b[43m \u001b[49m\u001b[38;5;124;43m\"\u001b[39;49m\u001b[38;5;124;43mb\u001b[39;49m\u001b[38;5;124;43m\"\u001b[39;49m\u001b[43m,\u001b[49m\u001b[43m \u001b[49m\u001b[43mcompresslevel\u001b[49m\u001b[43m,\u001b[49m\u001b[43m \u001b[49m\u001b[43mfileobj\u001b[49m\u001b[43m)\u001b[49m\n\u001b[1;32m   1676\u001b[0m \u001b[38;5;28;01mexcept\u001b[39;00m \u001b[38;5;167;01mOSError\u001b[39;00m:\n\u001b[1;32m   1677\u001b[0m     \u001b[38;5;28;01mif\u001b[39;00m fileobj \u001b[38;5;129;01mis\u001b[39;00m \u001b[38;5;129;01mnot\u001b[39;00m \u001b[38;5;28;01mNone\u001b[39;00m \u001b[38;5;129;01mand\u001b[39;00m mode \u001b[38;5;241m==\u001b[39m \u001b[38;5;124m'\u001b[39m\u001b[38;5;124mr\u001b[39m\u001b[38;5;124m'\u001b[39m:\n",
      "File \u001b[0;32m/usr/local/Cellar/python@3.9/3.9.10/Frameworks/Python.framework/Versions/3.9/lib/python3.9/gzip.py:173\u001b[0m, in \u001b[0;36mGzipFile.__init__\u001b[0;34m(self, filename, mode, compresslevel, fileobj, mtime)\u001b[0m\n\u001b[1;32m    171\u001b[0m     mode \u001b[38;5;241m+\u001b[39m\u001b[38;5;241m=\u001b[39m \u001b[38;5;124m'\u001b[39m\u001b[38;5;124mb\u001b[39m\u001b[38;5;124m'\u001b[39m\n\u001b[1;32m    172\u001b[0m \u001b[38;5;28;01mif\u001b[39;00m fileobj \u001b[38;5;129;01mis\u001b[39;00m \u001b[38;5;28;01mNone\u001b[39;00m:\n\u001b[0;32m--> 173\u001b[0m     fileobj \u001b[38;5;241m=\u001b[39m \u001b[38;5;28mself\u001b[39m\u001b[38;5;241m.\u001b[39mmyfileobj \u001b[38;5;241m=\u001b[39m \u001b[43mbuiltins\u001b[49m\u001b[38;5;241;43m.\u001b[39;49m\u001b[43mopen\u001b[49m\u001b[43m(\u001b[49m\u001b[43mfilename\u001b[49m\u001b[43m,\u001b[49m\u001b[43m \u001b[49m\u001b[43mmode\u001b[49m\u001b[43m \u001b[49m\u001b[38;5;129;43;01mor\u001b[39;49;00m\u001b[43m \u001b[49m\u001b[38;5;124;43m'\u001b[39;49m\u001b[38;5;124;43mrb\u001b[39;49m\u001b[38;5;124;43m'\u001b[39;49m\u001b[43m)\u001b[49m\n\u001b[1;32m    174\u001b[0m \u001b[38;5;28;01mif\u001b[39;00m filename \u001b[38;5;129;01mis\u001b[39;00m \u001b[38;5;28;01mNone\u001b[39;00m:\n\u001b[1;32m    175\u001b[0m     filename \u001b[38;5;241m=\u001b[39m \u001b[38;5;28mgetattr\u001b[39m(fileobj, \u001b[38;5;124m'\u001b[39m\u001b[38;5;124mname\u001b[39m\u001b[38;5;124m'\u001b[39m, \u001b[38;5;124m'\u001b[39m\u001b[38;5;124m'\u001b[39m)\n",
      "\u001b[0;31mFileNotFoundError\u001b[0m: [Errno 2] No such file or directory: './namenindex/anhalt_dessau_henriette_amalia_von/out.tar.gz'"
     ]
    }
   ],
   "source": [
    "tar = TarFile.open(os.path.join(basedir, srcdirs[0], \"out.tar.gz\"), \"r:gz\")\n",
    "rescoll = []\n",
    "record = {}\n",
    "for member in tar.getmembers():\n",
    "    record = {}\n",
    "    by = ''\n",
    "    ey = ''\n",
    "    f = tar.extractfile(member)\n",
    "    if f is not None:\n",
    "        content = f.read()\n",
    "    doc = etree.fromstring(content)\n",
    "    root = doc.getroottree()\n",
    "    name = sel3(root)[0]\n",
    "    name = name.text\n",
    "    ref = sel2(root)[0]\n",
    "    url = ref.get(\"target\")\n",
    "    collection = url.split('/')[-2:]\n",
    "    bio = sel4(root)\n",
    "    if bio:\n",
    "        bio = bio[0].text\n",
    "        bio = html.unescape(bio)\n",
    "        result = pat.search(bio)    \n",
    "        if result:\n",
    "            try:\n",
    "                r = spot_years(result.groups()[0])\n",
    "                by = r.get('gebyr')\n",
    "                ey= r.get('eyr')\n",
    "            except AttributeError:\n",
    "                pass\n",
    "    record['name'] = name\n",
    "    record['collection'] = collection[0]\n",
    "    record['path'] = collection[1]\n",
    "    record['bio'] = bio\n",
    "    record['birthyear'] = by\n",
    "    record['deceased'] = ey\n",
    "    rescoll.append(record)\n",
    "\n",
    "df = pd.DataFrame().from_records(rescoll)\n",
    "df.head(30)\n",
    "\n"
   ]
  },
  {
   "cell_type": "code",
   "execution_count": 18,
   "metadata": {},
   "outputs": [
    {
     "ename": "NameError",
     "evalue": "name 'df' is not defined",
     "output_type": "error",
     "traceback": [
      "\u001b[0;31m---------------------------------------------------------------------------\u001b[0m",
      "\u001b[0;31mNameError\u001b[0m                                 Traceback (most recent call last)",
      "Cell \u001b[0;32mIn[18], line 2\u001b[0m\n\u001b[1;32m      1\u001b[0m baseurl \u001b[38;5;241m=\u001b[39m \u001b[38;5;124m\"\u001b[39m\u001b[38;5;124mhttp://resources.huygens.knaw.nl/retroboeken/heinsius/\u001b[39m\u001b[38;5;124m\"\u001b[39m\n\u001b[0;32m----> 2\u001b[0m toturl \u001b[38;5;241m=\u001b[39m baseurl \u001b[38;5;241m+\u001b[39m \u001b[43mdf\u001b[49m\u001b[38;5;241m.\u001b[39miloc[\u001b[38;5;241m0\u001b[39m]\u001b[38;5;241m.\u001b[39mpath\n\u001b[1;32m      3\u001b[0m toturl\n\u001b[1;32m      5\u001b[0m \u001b[38;5;66;03m# hmm, index is offline\u001b[39;00m\n",
      "\u001b[0;31mNameError\u001b[0m: name 'df' is not defined"
     ]
    }
   ],
   "source": [
    "baseurl = \"http://resources.huygens.knaw.nl/retroboeken/heinsius/\"\n",
    "toturl = baseurl + df.iloc[0].path\n",
    "toturl\n",
    "\n",
    "# hmm, index is offline"
   ]
  },
  {
   "cell_type": "code",
   "execution_count": 19,
   "metadata": {},
   "outputs": [],
   "source": [
    "#maar zo kan het ook\n",
    "baseurl = \"http://resources.huygens.knaw.nl/retro/search/?SearchableText%3Austring%3Autf8=Deynaud\" # daar gaan we nog s op kauwen"
   ]
  },
  {
   "cell_type": "code",
   "execution_count": 20,
   "metadata": {},
   "outputs": [
    {
     "ename": "NameError",
     "evalue": "name 'df' is not defined",
     "output_type": "error",
     "traceback": [
      "\u001b[0;31m---------------------------------------------------------------------------\u001b[0m",
      "\u001b[0;31mNameError\u001b[0m                                 Traceback (most recent call last)",
      "Cell \u001b[0;32mIn[20], line 1\u001b[0m\n\u001b[0;32m----> 1\u001b[0m \u001b[43mdf\u001b[49m\u001b[38;5;241m.\u001b[39mto_json(\u001b[38;5;124m'\u001b[39m\u001b[38;5;124mheinsiusindex.json\u001b[39m\u001b[38;5;124m'\u001b[39m, orient\u001b[38;5;241m=\u001b[39m\u001b[38;5;124m\"\u001b[39m\u001b[38;5;124mrecords\u001b[39m\u001b[38;5;124m\"\u001b[39m)\n",
      "\u001b[0;31mNameError\u001b[0m: name 'df' is not defined"
     ]
    }
   ],
   "source": [
    "df.to_json('heinsiusindex.json', orient=\"records\")"
   ]
  },
  {
   "cell_type": "markdown",
   "metadata": {},
   "source": [
    "Does this also work with another source? I tried it and it does, so we're going to generalize it\n",
    "\n",
    "_Edit:_ this was a bit too fast; it worked by no means with all collections "
   ]
  },
  {
   "cell_type": "code",
   "execution_count": 19,
   "metadata": {},
   "outputs": [],
   "source": [
    "def convert_source(basedir, srcdir, basurl=baseurl):\n",
    "    tar = TarFile.open(os.path.join(basedir, srcdir, \"out.tar.gz\"), \"r:gz\")\n",
    "    rescoll = []\n",
    "    record = {}\n",
    "    for member in tar.getmembers():\n",
    "        record = {}\n",
    "        by = ''\n",
    "        ey = ''\n",
    "        f = tar.extractfile(member)\n",
    "        if f is not None:\n",
    "            content = f.read()\n",
    "        doc = etree.fromstring(content)\n",
    "        root = doc.getroottree()\n",
    "        name = sel3(root)[0]\n",
    "        name = name.text\n",
    "        ref = sel2(root)[0]\n",
    "        url = ref.get(\"target\")\n",
    "        collection = url.split('/')[-2:]\n",
    "        bio = sel4(root)\n",
    "        if bio:\n",
    "            bio = bio[0].text\n",
    "            bio = html.unescape(bio)\n",
    "            result = pat.search(bio)    \n",
    "            if result:\n",
    "                try:\n",
    "                    r = spot_years(result.groups()[0])\n",
    "                    by = r.get('gebyr')\n",
    "                    ey= r.get('eyr')\n",
    "                except AttributeError:\n",
    "                    pass\n",
    "        record['name'] = name\n",
    "        record['collection'] = collection[0]\n",
    "        record['path'] = collection[1]\n",
    "        record['bio'] = bio\n",
    "        record['birthyear'] = by\n",
    "        record['deceased'] = ey\n",
    "        rescoll.append(record)\n",
    "\n",
    "    df2 = pd.DataFrame().from_records(rescoll)\n",
    "    return df2\n",
    "\n"
   ]
  },
  {
   "cell_type": "code",
   "execution_count": 20,
   "metadata": {},
   "outputs": [],
   "source": [
    "from tqdm import tqdm_notebook\n",
    "def convert_sources(basedir, srcdir):\n",
    "    tar = TarFile.open(os.path.join(basedir, srcdir, \"out.tar.gz\"), \"r:gz\")\n",
    "    rescoll = []\n",
    "    members = tar.getmembers()\n",
    "    progressbar1 = tqdm_notebook(total=len(members))\n",
    "    for member in members:\n",
    "        f = tar.extractfile(member)\n",
    "        if f is not None:\n",
    "            content = f.read()\n",
    "        i = ExtendedIndexItem(content=content)\n",
    "        r = {k:vars(i)[k] for k in vars(i) if k not in ['src', '_root']}\n",
    "        r['collection'] = srcdir\n",
    "        rescoll.append(r)\n",
    "        progressbar1.update()\n",
    "    df = pd.DataFrame().from_records(rescoll)\n",
    "    return df"
   ]
  },
  {
   "cell_type": "code",
   "execution_count": 21,
   "metadata": {},
   "outputs": [
    {
     "name": "stderr",
     "output_type": "stream",
     "text": [
      "/var/folders/9y/s7573g1n3q9fz78c71ryxj4m0000gn/T/ipykernel_89366/3284577240.py:2: TqdmDeprecationWarning: This function will be removed in tqdm==5.0.0\n",
      "Please use `tqdm.notebook.tqdm` instead of `tqdm.tqdm_notebook`\n",
      "  progressbar1 = tqdm_notebook(total=len(srcdirs))\n"
     ]
    },
    {
     "data": {
      "application/vnd.jupyter.widget-view+json": {
       "model_id": "c7c821780c94416c971edf033514b206",
       "version_major": 2,
       "version_minor": 0
      },
      "text/plain": [
       "  0%|          | 0/8 [00:00<?, ?it/s]"
      ]
     },
     "metadata": {},
     "output_type": "display_data"
    },
    {
     "name": "stdout",
     "output_type": "stream",
     "text": [
      "converting:  heinsius\n"
     ]
    },
    {
     "name": "stderr",
     "output_type": "stream",
     "text": [
      "/var/folders/9y/s7573g1n3q9fz78c71ryxj4m0000gn/T/ipykernel_89366/834589833.py:6: TqdmDeprecationWarning: This function will be removed in tqdm==5.0.0\n",
      "Please use `tqdm.notebook.tqdm` instead of `tqdm.tqdm_notebook`\n",
      "  progressbar1 = tqdm_notebook(total=len(members))\n"
     ]
    },
    {
     "data": {
      "application/vnd.jupyter.widget-view+json": {
       "model_id": "15f44d0ab9ec4c5a80a5a9d7e3b61fb1",
       "version_major": 2,
       "version_minor": 0
      },
      "text/plain": [
       "  0%|          | 0/6899 [00:00<?, ?it/s]"
      ]
     },
     "metadata": {},
     "output_type": "display_data"
    },
    {
     "name": "stdout",
     "output_type": "stream",
     "text": [
      "converting:  schutte\n",
      "appending:  schutte\n"
     ]
    },
    {
     "name": "stderr",
     "output_type": "stream",
     "text": [
      "/var/folders/9y/s7573g1n3q9fz78c71ryxj4m0000gn/T/ipykernel_89366/834589833.py:6: TqdmDeprecationWarning: This function will be removed in tqdm==5.0.0\n",
      "Please use `tqdm.notebook.tqdm` instead of `tqdm.tqdm_notebook`\n",
      "  progressbar1 = tqdm_notebook(total=len(members))\n"
     ]
    },
    {
     "data": {
      "application/vnd.jupyter.widget-view+json": {
       "model_id": "6f769b06378c4210bbb69354145ecf67",
       "version_major": 2,
       "version_minor": 0
      },
      "text/plain": [
       "  0%|          | 0/11938 [00:00<?, ?it/s]"
      ]
     },
     "metadata": {},
     "output_type": "display_data"
    },
    {
     "name": "stdout",
     "output_type": "stream",
     "text": [
      "converting:  raa\n",
      "appending:  raa\n"
     ]
    },
    {
     "name": "stderr",
     "output_type": "stream",
     "text": [
      "/var/folders/9y/s7573g1n3q9fz78c71ryxj4m0000gn/T/ipykernel_89366/834589833.py:6: TqdmDeprecationWarning: This function will be removed in tqdm==5.0.0\n",
      "Please use `tqdm.notebook.tqdm` instead of `tqdm.tqdm_notebook`\n",
      "  progressbar1 = tqdm_notebook(total=len(members))\n"
     ]
    },
    {
     "data": {
      "application/vnd.jupyter.widget-view+json": {
       "model_id": "5b9b719761f148d789c4acd388834077",
       "version_major": 2,
       "version_minor": 0
      },
      "text/plain": [
       "  0%|          | 0/40006 [00:00<?, ?it/s]"
      ]
     },
     "metadata": {},
     "output_type": "display_data"
    },
    {
     "name": "stdout",
     "output_type": "stream",
     "text": [
      "converting:  oldenbarnevelt\n",
      "appending:  oldenbarnevelt\n"
     ]
    },
    {
     "name": "stderr",
     "output_type": "stream",
     "text": [
      "/var/folders/9y/s7573g1n3q9fz78c71ryxj4m0000gn/T/ipykernel_89366/834589833.py:6: TqdmDeprecationWarning: This function will be removed in tqdm==5.0.0\n",
      "Please use `tqdm.notebook.tqdm` instead of `tqdm.tqdm_notebook`\n",
      "  progressbar1 = tqdm_notebook(total=len(members))\n"
     ]
    },
    {
     "data": {
      "application/vnd.jupyter.widget-view+json": {
       "model_id": "18a7b1f5e69844c7876f2ea06701ad40",
       "version_major": 2,
       "version_minor": 0
      },
      "text/plain": [
       "  0%|          | 0/453 [00:00<?, ?it/s]"
      ]
     },
     "metadata": {},
     "output_type": "display_data"
    },
    {
     "name": "stderr",
     "output_type": "stream",
     "text": [
      "/var/folders/9y/s7573g1n3q9fz78c71ryxj4m0000gn/T/ipykernel_89366/834589833.py:6: TqdmDeprecationWarning: This function will be removed in tqdm==5.0.0\n",
      "Please use `tqdm.notebook.tqdm` instead of `tqdm.tqdm_notebook`\n",
      "  progressbar1 = tqdm_notebook(total=len(members))\n"
     ]
    },
    {
     "name": "stdout",
     "output_type": "stream",
     "text": [
      "converting:  gachard\n",
      "appending:  gachard\n"
     ]
    },
    {
     "data": {
      "application/vnd.jupyter.widget-view+json": {
       "model_id": "883c954c7daa44d2bef349e4fc0ac81c",
       "version_major": 2,
       "version_minor": 0
      },
      "text/plain": [
       "  0%|          | 0/66 [00:00<?, ?it/s]"
      ]
     },
     "metadata": {},
     "output_type": "display_data"
    },
    {
     "name": "stdout",
     "output_type": "stream",
     "text": [
      "converting:  elbing\n",
      "appending:  elbing\n"
     ]
    },
    {
     "name": "stderr",
     "output_type": "stream",
     "text": [
      "/var/folders/9y/s7573g1n3q9fz78c71ryxj4m0000gn/T/ipykernel_89366/834589833.py:6: TqdmDeprecationWarning: This function will be removed in tqdm==5.0.0\n",
      "Please use `tqdm.notebook.tqdm` instead of `tqdm.tqdm_notebook`\n",
      "  progressbar1 = tqdm_notebook(total=len(members))\n"
     ]
    },
    {
     "data": {
      "application/vnd.jupyter.widget-view+json": {
       "model_id": "edadd61f57d94a6c842fdbe0b9c46789",
       "version_major": 2,
       "version_minor": 0
      },
      "text/plain": [
       "  0%|          | 0/1159 [00:00<?, ?it/s]"
      ]
     },
     "metadata": {},
     "output_type": "display_data"
    },
    {
     "name": "stdout",
     "output_type": "stream",
     "text": [
      "converting:  willemiii\n",
      "appending:  willemiii\n"
     ]
    },
    {
     "name": "stderr",
     "output_type": "stream",
     "text": [
      "/var/folders/9y/s7573g1n3q9fz78c71ryxj4m0000gn/T/ipykernel_89366/834589833.py:6: TqdmDeprecationWarning: This function will be removed in tqdm==5.0.0\n",
      "Please use `tqdm.notebook.tqdm` instead of `tqdm.tqdm_notebook`\n",
      "  progressbar1 = tqdm_notebook(total=len(members))\n"
     ]
    },
    {
     "data": {
      "application/vnd.jupyter.widget-view+json": {
       "model_id": "f4ad1b469d4841a782da492d75a5f546",
       "version_major": 2,
       "version_minor": 0
      },
      "text/plain": [
       "  0%|          | 0/511 [00:00<?, ?it/s]"
      ]
     },
     "metadata": {},
     "output_type": "display_data"
    },
    {
     "name": "stdout",
     "output_type": "stream",
     "text": [
      "converting:  wvo\n",
      "appending:  wvo\n"
     ]
    },
    {
     "name": "stderr",
     "output_type": "stream",
     "text": [
      "/var/folders/9y/s7573g1n3q9fz78c71ryxj4m0000gn/T/ipykernel_89366/834589833.py:6: TqdmDeprecationWarning: This function will be removed in tqdm==5.0.0\n",
      "Please use `tqdm.notebook.tqdm` instead of `tqdm.tqdm_notebook`\n",
      "  progressbar1 = tqdm_notebook(total=len(members))\n"
     ]
    },
    {
     "data": {
      "application/vnd.jupyter.widget-view+json": {
       "model_id": "b99aa3c6337f49dbabcda004f4eb0919",
       "version_major": 2,
       "version_minor": 0
      },
      "text/plain": [
       "  0%|          | 0/3078 [00:00<?, ?it/s]"
      ]
     },
     "metadata": {},
     "output_type": "display_data"
    },
    {
     "data": {
      "text/html": [
       "<div>\n",
       "<style scoped>\n",
       "    .dataframe tbody tr th:only-of-type {\n",
       "        vertical-align: middle;\n",
       "    }\n",
       "\n",
       "    .dataframe tbody tr th {\n",
       "        vertical-align: top;\n",
       "    }\n",
       "\n",
       "    .dataframe thead th {\n",
       "        text-align: right;\n",
       "    }\n",
       "</style>\n",
       "<table border=\"1\" class=\"dataframe\">\n",
       "  <thead>\n",
       "    <tr style=\"text-align: right;\">\n",
       "      <th></th>\n",
       "      <th>geslachtsnaam</th>\n",
       "      <th>fullname</th>\n",
       "      <th>birth</th>\n",
       "      <th>death</th>\n",
       "      <th>by</th>\n",
       "      <th>dy</th>\n",
       "      <th>bp</th>\n",
       "      <th>dp</th>\n",
       "      <th>biography</th>\n",
       "      <th>reference</th>\n",
       "      <th>collection</th>\n",
       "      <th>voornaam</th>\n",
       "      <th>intrapositie</th>\n",
       "      <th>birth-place</th>\n",
       "      <th>death-place</th>\n",
       "      <th>prepositie</th>\n",
       "    </tr>\n",
       "  </thead>\n",
       "  <tbody>\n",
       "    <tr>\n",
       "      <th>0</th>\n",
       "      <td>Deynaud</td>\n",
       "      <td>Deynaud, N</td>\n",
       "      <td>None</td>\n",
       "      <td>None</td>\n",
       "      <td></td>\n",
       "      <td></td>\n",
       "      <td></td>\n",
       "      <td></td>\n",
       "      <td>N.  Hugenoots predikant in Duitsland, met een ...</td>\n",
       "      <td></td>\n",
       "      <td>heinsius</td>\n",
       "      <td>NaN</td>\n",
       "      <td>NaN</td>\n",
       "      <td>NaN</td>\n",
       "      <td>NaN</td>\n",
       "      <td>NaN</td>\n",
       "    </tr>\n",
       "    <tr>\n",
       "      <th>1</th>\n",
       "      <td>La Tour</td>\n",
       "      <td>La Tour, François-Egon de, prins van Auvergne,...</td>\n",
       "      <td>None</td>\n",
       "      <td>None</td>\n",
       "      <td></td>\n",
       "      <td></td>\n",
       "      <td></td>\n",
       "      <td></td>\n",
       "      <td>La Tour, François-Egon de, prins van Auvergne,...</td>\n",
       "      <td></td>\n",
       "      <td>heinsius</td>\n",
       "      <td>NaN</td>\n",
       "      <td>NaN</td>\n",
       "      <td>NaN</td>\n",
       "      <td>NaN</td>\n",
       "      <td>NaN</td>\n",
       "    </tr>\n",
       "    <tr>\n",
       "      <th>2</th>\n",
       "      <td>Grignan</td>\n",
       "      <td>Grignan, François d'Adhémar de Monteil, Graaf van</td>\n",
       "      <td>None</td>\n",
       "      <td>None</td>\n",
       "      <td></td>\n",
       "      <td>1715</td>\n",
       "      <td></td>\n",
       "      <td></td>\n",
       "      <td>(† 1715) Frans edelman en offcier; luitenant-g...</td>\n",
       "      <td></td>\n",
       "      <td>heinsius</td>\n",
       "      <td>NaN</td>\n",
       "      <td>NaN</td>\n",
       "      <td>NaN</td>\n",
       "      <td>NaN</td>\n",
       "      <td>NaN</td>\n",
       "    </tr>\n",
       "    <tr>\n",
       "      <th>3</th>\n",
       "      <td>Watrigand</td>\n",
       "      <td>Watrigand, Jacques</td>\n",
       "      <td>None</td>\n",
       "      <td>None</td>\n",
       "      <td></td>\n",
       "      <td>1708</td>\n",
       "      <td></td>\n",
       "      <td></td>\n",
       "      <td>(† 1708) Nederlands officier; ritmeester in he...</td>\n",
       "      <td></td>\n",
       "      <td>heinsius</td>\n",
       "      <td>NaN</td>\n",
       "      <td>NaN</td>\n",
       "      <td>NaN</td>\n",
       "      <td>NaN</td>\n",
       "      <td>NaN</td>\n",
       "    </tr>\n",
       "    <tr>\n",
       "      <th>4</th>\n",
       "      <td>Aa</td>\n",
       "      <td>Aa, Boudewijn van der</td>\n",
       "      <td>None</td>\n",
       "      <td>None</td>\n",
       "      <td></td>\n",
       "      <td></td>\n",
       "      <td></td>\n",
       "      <td></td>\n",
       "      <td>Broer van de Leidse boekdrukker Pieter van der...</td>\n",
       "      <td></td>\n",
       "      <td>heinsius</td>\n",
       "      <td>NaN</td>\n",
       "      <td>NaN</td>\n",
       "      <td>NaN</td>\n",
       "      <td>NaN</td>\n",
       "      <td>NaN</td>\n",
       "    </tr>\n",
       "    <tr>\n",
       "      <th>...</th>\n",
       "      <td>...</td>\n",
       "      <td>...</td>\n",
       "      <td>...</td>\n",
       "      <td>...</td>\n",
       "      <td>...</td>\n",
       "      <td>...</td>\n",
       "      <td>...</td>\n",
       "      <td>...</td>\n",
       "      <td>...</td>\n",
       "      <td>...</td>\n",
       "      <td>...</td>\n",
       "      <td>...</td>\n",
       "      <td>...</td>\n",
       "      <td>...</td>\n",
       "      <td>...</td>\n",
       "      <td>...</td>\n",
       "    </tr>\n",
       "    <tr>\n",
       "      <th>64105</th>\n",
       "      <td>Witte</td>\n",
       "      <td>Klaas de Witte</td>\n",
       "      <td>None</td>\n",
       "      <td>None</td>\n",
       "      <td>0</td>\n",
       "      <td>0</td>\n",
       "      <td></td>\n",
       "      <td></td>\n",
       "      <td></td>\n",
       "      <td></td>\n",
       "      <td>wvo</td>\n",
       "      <td>NaN</td>\n",
       "      <td>NaN</td>\n",
       "      <td>NaN</td>\n",
       "      <td>NaN</td>\n",
       "      <td>NaN</td>\n",
       "    </tr>\n",
       "    <tr>\n",
       "      <th>64106</th>\n",
       "      <td>Guillaume de Maulde</td>\n",
       "      <td>Guillaume de Maulde, heer van Mansart</td>\n",
       "      <td>None</td>\n",
       "      <td>None</td>\n",
       "      <td>0</td>\n",
       "      <td>0</td>\n",
       "      <td></td>\n",
       "      <td></td>\n",
       "      <td></td>\n",
       "      <td></td>\n",
       "      <td>wvo</td>\n",
       "      <td>NaN</td>\n",
       "      <td>NaN</td>\n",
       "      <td>NaN</td>\n",
       "      <td>NaN</td>\n",
       "      <td>NaN</td>\n",
       "    </tr>\n",
       "    <tr>\n",
       "      <th>64107</th>\n",
       "      <td>Lostadt</td>\n",
       "      <td>Elsabe van Lostadt</td>\n",
       "      <td>None</td>\n",
       "      <td>None</td>\n",
       "      <td>0</td>\n",
       "      <td>0</td>\n",
       "      <td></td>\n",
       "      <td></td>\n",
       "      <td></td>\n",
       "      <td></td>\n",
       "      <td>wvo</td>\n",
       "      <td>NaN</td>\n",
       "      <td>NaN</td>\n",
       "      <td>NaN</td>\n",
       "      <td>NaN</td>\n",
       "      <td>NaN</td>\n",
       "    </tr>\n",
       "    <tr>\n",
       "      <th>64108</th>\n",
       "      <td>Baert</td>\n",
       "      <td>Hans Baert</td>\n",
       "      <td>None</td>\n",
       "      <td>None</td>\n",
       "      <td>0</td>\n",
       "      <td>0</td>\n",
       "      <td></td>\n",
       "      <td></td>\n",
       "      <td></td>\n",
       "      <td></td>\n",
       "      <td>wvo</td>\n",
       "      <td>NaN</td>\n",
       "      <td>NaN</td>\n",
       "      <td>NaN</td>\n",
       "      <td>NaN</td>\n",
       "      <td>NaN</td>\n",
       "    </tr>\n",
       "    <tr>\n",
       "      <th>64109</th>\n",
       "      <td>Zierikzee</td>\n",
       "      <td>magistraat van Zierikzee</td>\n",
       "      <td>None</td>\n",
       "      <td>None</td>\n",
       "      <td>0</td>\n",
       "      <td>0</td>\n",
       "      <td></td>\n",
       "      <td></td>\n",
       "      <td></td>\n",
       "      <td></td>\n",
       "      <td>wvo</td>\n",
       "      <td>NaN</td>\n",
       "      <td>NaN</td>\n",
       "      <td>NaN</td>\n",
       "      <td>NaN</td>\n",
       "      <td>NaN</td>\n",
       "    </tr>\n",
       "  </tbody>\n",
       "</table>\n",
       "<p>64110 rows × 16 columns</p>\n",
       "</div>"
      ],
      "text/plain": [
       "             geslachtsnaam                                           fullname  \\\n",
       "0                  Deynaud                                         Deynaud, N   \n",
       "1                  La Tour  La Tour, François-Egon de, prins van Auvergne,...   \n",
       "2                  Grignan  Grignan, François d'Adhémar de Monteil, Graaf van   \n",
       "3                Watrigand                                 Watrigand, Jacques   \n",
       "4                       Aa                              Aa, Boudewijn van der   \n",
       "...                    ...                                                ...   \n",
       "64105                Witte                                     Klaas de Witte   \n",
       "64106  Guillaume de Maulde              Guillaume de Maulde, heer van Mansart   \n",
       "64107              Lostadt                                 Elsabe van Lostadt   \n",
       "64108                Baert                                         Hans Baert   \n",
       "64109            Zierikzee                           magistraat van Zierikzee   \n",
       "\n",
       "      birth death by    dy bp dp  \\\n",
       "0      None  None                  \n",
       "1      None  None                  \n",
       "2      None  None     1715         \n",
       "3      None  None     1708         \n",
       "4      None  None                  \n",
       "...     ...   ... ..   ... .. ..   \n",
       "64105  None  None  0     0         \n",
       "64106  None  None  0     0         \n",
       "64107  None  None  0     0         \n",
       "64108  None  None  0     0         \n",
       "64109  None  None  0     0         \n",
       "\n",
       "                                               biography reference collection  \\\n",
       "0      N.  Hugenoots predikant in Duitsland, met een ...             heinsius   \n",
       "1      La Tour, François-Egon de, prins van Auvergne,...             heinsius   \n",
       "2      († 1715) Frans edelman en offcier; luitenant-g...             heinsius   \n",
       "3      († 1708) Nederlands officier; ritmeester in he...             heinsius   \n",
       "4      Broer van de Leidse boekdrukker Pieter van der...             heinsius   \n",
       "...                                                  ...       ...        ...   \n",
       "64105                                                                     wvo   \n",
       "64106                                                                     wvo   \n",
       "64107                                                                     wvo   \n",
       "64108                                                                     wvo   \n",
       "64109                                                                     wvo   \n",
       "\n",
       "      voornaam intrapositie birth-place death-place prepositie  \n",
       "0          NaN          NaN         NaN         NaN        NaN  \n",
       "1          NaN          NaN         NaN         NaN        NaN  \n",
       "2          NaN          NaN         NaN         NaN        NaN  \n",
       "3          NaN          NaN         NaN         NaN        NaN  \n",
       "4          NaN          NaN         NaN         NaN        NaN  \n",
       "...        ...          ...         ...         ...        ...  \n",
       "64105      NaN          NaN         NaN         NaN        NaN  \n",
       "64106      NaN          NaN         NaN         NaN        NaN  \n",
       "64107      NaN          NaN         NaN         NaN        NaN  \n",
       "64108      NaN          NaN         NaN         NaN        NaN  \n",
       "64109      NaN          NaN         NaN         NaN        NaN  \n",
       "\n",
       "[64110 rows x 16 columns]"
      ]
     },
     "execution_count": 21,
     "metadata": {},
     "output_type": "execute_result"
    }
   ],
   "source": [
    "\n",
    "dfs = ''\n",
    "progressbar1 = tqdm_notebook(total=len(srcdirs))\n",
    "for item in srcdirs:\n",
    "    print(\"converting: \", item)\n",
    "    progressbar1.update()\n",
    "    if not type(dfs) == type(pd.DataFrame()):\n",
    "        dfs = convert_sources(basedir, item)\n",
    "    else:\n",
    "        print(\"appending: \", item)\n",
    "        dfss = convert_sources(basedir, item)\n",
    "        dfs = pd.concat([dfs, dfss], ignore_index=True, sort=False)\n",
    "dfs\n"
   ]
  },
  {
   "cell_type": "code",
   "execution_count": 24,
   "metadata": {
    "scrolled": true
   },
   "outputs": [],
   "source": [
    "dfs.to_csv('/Users/rikhoekstra/Downloads/namenindex_20231116.tsv.gz',sep='\\t',compression='gzip')"
   ]
  },
  {
   "cell_type": "code",
   "execution_count": 27,
   "metadata": {},
   "outputs": [
    {
     "data": {
      "text/html": [
       "<div>\n",
       "<style scoped>\n",
       "    .dataframe tbody tr th:only-of-type {\n",
       "        vertical-align: middle;\n",
       "    }\n",
       "\n",
       "    .dataframe tbody tr th {\n",
       "        vertical-align: top;\n",
       "    }\n",
       "\n",
       "    .dataframe thead th {\n",
       "        text-align: right;\n",
       "    }\n",
       "</style>\n",
       "<table border=\"1\" class=\"dataframe\">\n",
       "  <thead>\n",
       "    <tr style=\"text-align: right;\">\n",
       "      <th></th>\n",
       "      <th>geslachtsnaam</th>\n",
       "      <th>fullname</th>\n",
       "      <th>birth</th>\n",
       "      <th>death</th>\n",
       "      <th>by</th>\n",
       "      <th>dy</th>\n",
       "      <th>bp</th>\n",
       "      <th>dp</th>\n",
       "      <th>biography</th>\n",
       "      <th>reference</th>\n",
       "      <th>collection</th>\n",
       "      <th>voornaam</th>\n",
       "      <th>intrapositie</th>\n",
       "      <th>birth-place</th>\n",
       "      <th>death-place</th>\n",
       "      <th>prepositie</th>\n",
       "    </tr>\n",
       "  </thead>\n",
       "  <tbody>\n",
       "    <tr>\n",
       "      <th>18837</th>\n",
       "      <td>Haan</td>\n",
       "      <td>Pieter Josephus de Haan</td>\n",
       "      <td>None</td>\n",
       "      <td>1828</td>\n",
       "      <td>0</td>\n",
       "      <td>1828</td>\n",
       "      <td></td>\n",
       "      <td></td>\n",
       "      <td></td>\n",
       "      <td></td>\n",
       "      <td>raa</td>\n",
       "      <td>Pieter Josephus</td>\n",
       "      <td>de</td>\n",
       "      <td>None</td>\n",
       "      <td>None</td>\n",
       "      <td>NaN</td>\n",
       "    </tr>\n",
       "    <tr>\n",
       "      <th>18838</th>\n",
       "      <td>Valencijn</td>\n",
       "      <td>Martinus comte (Empire) Valencijn</td>\n",
       "      <td>None</td>\n",
       "      <td>1785-02-14</td>\n",
       "      <td>0</td>\n",
       "      <td>1785</td>\n",
       "      <td></td>\n",
       "      <td></td>\n",
       "      <td></td>\n",
       "      <td></td>\n",
       "      <td>raa</td>\n",
       "      <td>Martinus</td>\n",
       "      <td>comte (Empire)</td>\n",
       "      <td>None</td>\n",
       "      <td>None</td>\n",
       "      <td>NaN</td>\n",
       "    </tr>\n",
       "    <tr>\n",
       "      <th>18839</th>\n",
       "      <td>Reede</td>\n",
       "      <td>mr.dr. Godert Adriaan hertog van Reede</td>\n",
       "      <td>None</td>\n",
       "      <td>1691-09-09</td>\n",
       "      <td>0</td>\n",
       "      <td>1691</td>\n",
       "      <td></td>\n",
       "      <td></td>\n",
       "      <td></td>\n",
       "      <td></td>\n",
       "      <td>raa</td>\n",
       "      <td>Godert Adriaan</td>\n",
       "      <td>hertog van</td>\n",
       "      <td>None</td>\n",
       "      <td>None</td>\n",
       "      <td>mr.dr.</td>\n",
       "    </tr>\n",
       "    <tr>\n",
       "      <th>18840</th>\n",
       "      <td>Meulen</td>\n",
       "      <td>mr.dr. Quirijn comte (Empire) van der Meulen</td>\n",
       "      <td>None</td>\n",
       "      <td>None</td>\n",
       "      <td>0</td>\n",
       "      <td>0</td>\n",
       "      <td></td>\n",
       "      <td></td>\n",
       "      <td></td>\n",
       "      <td></td>\n",
       "      <td>raa</td>\n",
       "      <td>Quirijn</td>\n",
       "      <td>comte (Empire) van der</td>\n",
       "      <td>None</td>\n",
       "      <td>None</td>\n",
       "      <td>mr.dr.</td>\n",
       "    </tr>\n",
       "    <tr>\n",
       "      <th>18841</th>\n",
       "      <td>Lantman</td>\n",
       "      <td>Jacob Pietersz. comte (Empire) Lantman</td>\n",
       "      <td>None</td>\n",
       "      <td>None</td>\n",
       "      <td>0</td>\n",
       "      <td>0</td>\n",
       "      <td></td>\n",
       "      <td></td>\n",
       "      <td></td>\n",
       "      <td></td>\n",
       "      <td>raa</td>\n",
       "      <td>Jacob Pietersz.</td>\n",
       "      <td>comte (Empire)</td>\n",
       "      <td>None</td>\n",
       "      <td>None</td>\n",
       "      <td>NaN</td>\n",
       "    </tr>\n",
       "    <tr>\n",
       "      <th>...</th>\n",
       "      <td>...</td>\n",
       "      <td>...</td>\n",
       "      <td>...</td>\n",
       "      <td>...</td>\n",
       "      <td>...</td>\n",
       "      <td>...</td>\n",
       "      <td>...</td>\n",
       "      <td>...</td>\n",
       "      <td>...</td>\n",
       "      <td>...</td>\n",
       "      <td>...</td>\n",
       "      <td>...</td>\n",
       "      <td>...</td>\n",
       "      <td>...</td>\n",
       "      <td>...</td>\n",
       "      <td>...</td>\n",
       "    </tr>\n",
       "    <tr>\n",
       "      <th>58838</th>\n",
       "      <td>Heeren</td>\n",
       "      <td>Walterus Johannis Heeren</td>\n",
       "      <td>None</td>\n",
       "      <td>1838</td>\n",
       "      <td>0</td>\n",
       "      <td>1838</td>\n",
       "      <td></td>\n",
       "      <td></td>\n",
       "      <td></td>\n",
       "      <td></td>\n",
       "      <td>raa</td>\n",
       "      <td>Walterus Johannis</td>\n",
       "      <td>NaN</td>\n",
       "      <td>None</td>\n",
       "      <td>None</td>\n",
       "      <td>NaN</td>\n",
       "    </tr>\n",
       "    <tr>\n",
       "      <th>58839</th>\n",
       "      <td>Cappelle</td>\n",
       "      <td>Aart van Cappelle</td>\n",
       "      <td>None</td>\n",
       "      <td>None</td>\n",
       "      <td>0</td>\n",
       "      <td>0</td>\n",
       "      <td></td>\n",
       "      <td></td>\n",
       "      <td></td>\n",
       "      <td></td>\n",
       "      <td>raa</td>\n",
       "      <td>Aart</td>\n",
       "      <td>van</td>\n",
       "      <td>None</td>\n",
       "      <td>None</td>\n",
       "      <td>NaN</td>\n",
       "    </tr>\n",
       "    <tr>\n",
       "      <th>58840</th>\n",
       "      <td>graaf</td>\n",
       "      <td>mr. Klaas graaf</td>\n",
       "      <td>None</td>\n",
       "      <td>None</td>\n",
       "      <td>0</td>\n",
       "      <td>0</td>\n",
       "      <td></td>\n",
       "      <td></td>\n",
       "      <td></td>\n",
       "      <td></td>\n",
       "      <td>raa</td>\n",
       "      <td>Klaas</td>\n",
       "      <td>graaf</td>\n",
       "      <td>None</td>\n",
       "      <td>None</td>\n",
       "      <td>mr.</td>\n",
       "    </tr>\n",
       "    <tr>\n",
       "      <th>58841</th>\n",
       "      <td>Groos</td>\n",
       "      <td>dr. Nicolaas Sikkel Groos</td>\n",
       "      <td>2004</td>\n",
       "      <td>None</td>\n",
       "      <td>2004</td>\n",
       "      <td>0</td>\n",
       "      <td></td>\n",
       "      <td></td>\n",
       "      <td></td>\n",
       "      <td></td>\n",
       "      <td>raa</td>\n",
       "      <td>Nicolaas</td>\n",
       "      <td>Sikkel</td>\n",
       "      <td>Woerden</td>\n",
       "      <td>None</td>\n",
       "      <td>dr.</td>\n",
       "    </tr>\n",
       "    <tr>\n",
       "      <th>58842</th>\n",
       "      <td>Willemsz.</td>\n",
       "      <td>mr. Filips graaf Willemsz.</td>\n",
       "      <td>None</td>\n",
       "      <td>1363</td>\n",
       "      <td>0</td>\n",
       "      <td>1363</td>\n",
       "      <td></td>\n",
       "      <td></td>\n",
       "      <td></td>\n",
       "      <td></td>\n",
       "      <td>raa</td>\n",
       "      <td>Filips</td>\n",
       "      <td>graaf</td>\n",
       "      <td>None</td>\n",
       "      <td>None</td>\n",
       "      <td>mr.</td>\n",
       "    </tr>\n",
       "  </tbody>\n",
       "</table>\n",
       "<p>40006 rows × 16 columns</p>\n",
       "</div>"
      ],
      "text/plain": [
       "      geslachtsnaam                                      fullname birth  \\\n",
       "18837          Haan                       Pieter Josephus de Haan  None   \n",
       "18838     Valencijn             Martinus comte (Empire) Valencijn  None   \n",
       "18839         Reede        mr.dr. Godert Adriaan hertog van Reede  None   \n",
       "18840        Meulen  mr.dr. Quirijn comte (Empire) van der Meulen  None   \n",
       "18841       Lantman        Jacob Pietersz. comte (Empire) Lantman  None   \n",
       "...             ...                                           ...   ...   \n",
       "58838        Heeren                      Walterus Johannis Heeren  None   \n",
       "58839      Cappelle                             Aart van Cappelle  None   \n",
       "58840         graaf                               mr. Klaas graaf  None   \n",
       "58841         Groos                     dr. Nicolaas Sikkel Groos  2004   \n",
       "58842     Willemsz.                    mr. Filips graaf Willemsz.  None   \n",
       "\n",
       "            death    by    dy bp dp biography reference collection  \\\n",
       "18837        1828     0  1828                                  raa   \n",
       "18838  1785-02-14     0  1785                                  raa   \n",
       "18839  1691-09-09     0  1691                                  raa   \n",
       "18840        None     0     0                                  raa   \n",
       "18841        None     0     0                                  raa   \n",
       "...           ...   ...   ... .. ..       ...       ...        ...   \n",
       "58838        1838     0  1838                                  raa   \n",
       "58839        None     0     0                                  raa   \n",
       "58840        None     0     0                                  raa   \n",
       "58841        None  2004     0                                  raa   \n",
       "58842        1363     0  1363                                  raa   \n",
       "\n",
       "                voornaam            intrapositie birth-place death-place  \\\n",
       "18837    Pieter Josephus                      de        None        None   \n",
       "18838           Martinus          comte (Empire)        None        None   \n",
       "18839     Godert Adriaan              hertog van        None        None   \n",
       "18840            Quirijn  comte (Empire) van der        None        None   \n",
       "18841    Jacob Pietersz.          comte (Empire)        None        None   \n",
       "...                  ...                     ...         ...         ...   \n",
       "58838  Walterus Johannis                     NaN        None        None   \n",
       "58839               Aart                     van        None        None   \n",
       "58840              Klaas                   graaf        None        None   \n",
       "58841           Nicolaas                  Sikkel     Woerden        None   \n",
       "58842             Filips                   graaf        None        None   \n",
       "\n",
       "      prepositie  \n",
       "18837        NaN  \n",
       "18838        NaN  \n",
       "18839     mr.dr.  \n",
       "18840     mr.dr.  \n",
       "18841        NaN  \n",
       "...          ...  \n",
       "58838        NaN  \n",
       "58839        NaN  \n",
       "58840        mr.  \n",
       "58841        dr.  \n",
       "58842        mr.  \n",
       "\n",
       "[40006 rows x 16 columns]"
      ]
     },
     "execution_count": 27,
     "metadata": {},
     "output_type": "execute_result"
    }
   ],
   "source": [
    "dfs.collection.describe()\n",
    "dfs.loc[dfs.collection == 'raa']"
   ]
  },
  {
   "cell_type": "code",
   "execution_count": 28,
   "metadata": {},
   "outputs": [
    {
     "name": "stderr",
     "output_type": "stream",
     "text": [
      "/var/folders/9y/s7573g1n3q9fz78c71ryxj4m0000gn/T/ipykernel_44182/2492982288.py:2: TqdmDeprecationWarning: This function will be removed in tqdm==5.0.0\n",
      "Please use `tqdm.notebook.tqdm` instead of `tqdm.tqdm_notebook`\n",
      "  progressbar1 = tqdm_notebook(total=len(srcdirs))\n"
     ]
    },
    {
     "data": {
      "application/vnd.jupyter.widget-view+json": {
       "model_id": "62f0c9b70c8d4ac7956ad05fa75fad27",
       "version_major": 2,
       "version_minor": 0
      },
      "text/plain": [
       "  0%|          | 0/8 [00:00<?, ?it/s]"
      ]
     },
     "metadata": {},
     "output_type": "display_data"
    },
    {
     "name": "stderr",
     "output_type": "stream",
     "text": [
      "/var/folders/9y/s7573g1n3q9fz78c71ryxj4m0000gn/T/ipykernel_44182/834589833.py:6: TqdmDeprecationWarning: This function will be removed in tqdm==5.0.0\n",
      "Please use `tqdm.notebook.tqdm` instead of `tqdm.tqdm_notebook`\n",
      "  progressbar1 = tqdm_notebook(total=len(members))\n"
     ]
    },
    {
     "name": "stdout",
     "output_type": "stream",
     "text": [
      "converting:  thorbecke\n",
      "appending:  thorbecke\n"
     ]
    },
    {
     "data": {
      "application/vnd.jupyter.widget-view+json": {
       "model_id": "7cb7484af8334a25aed4d0ff25fe4919",
       "version_major": 2,
       "version_minor": 0
      },
      "text/plain": [
       "  0%|          | 0/2002 [00:00<?, ?it/s]"
      ]
     },
     "metadata": {},
     "output_type": "display_data"
    },
    {
     "name": "stdout",
     "output_type": "stream",
     "text": [
      "converting:  wvo\n",
      "appending:  wvo\n"
     ]
    },
    {
     "name": "stderr",
     "output_type": "stream",
     "text": [
      "/var/folders/9y/s7573g1n3q9fz78c71ryxj4m0000gn/T/ipykernel_44182/834589833.py:6: TqdmDeprecationWarning: This function will be removed in tqdm==5.0.0\n",
      "Please use `tqdm.notebook.tqdm` instead of `tqdm.tqdm_notebook`\n",
      "  progressbar1 = tqdm_notebook(total=len(members))\n"
     ]
    },
    {
     "data": {
      "application/vnd.jupyter.widget-view+json": {
       "model_id": "f286bd855436437a823c9a85bf10b2ee",
       "version_major": 2,
       "version_minor": 0
      },
      "text/plain": [
       "  0%|          | 0/3078 [00:00<?, ?it/s]"
      ]
     },
     "metadata": {},
     "output_type": "display_data"
    },
    {
     "name": "stdout",
     "output_type": "stream",
     "text": [
      "converting:  groen\n",
      "appending:  groen\n"
     ]
    },
    {
     "name": "stderr",
     "output_type": "stream",
     "text": [
      "/var/folders/9y/s7573g1n3q9fz78c71ryxj4m0000gn/T/ipykernel_44182/834589833.py:6: TqdmDeprecationWarning: This function will be removed in tqdm==5.0.0\n",
      "Please use `tqdm.notebook.tqdm` instead of `tqdm.tqdm_notebook`\n",
      "  progressbar1 = tqdm_notebook(total=len(members))\n"
     ]
    },
    {
     "data": {
      "application/vnd.jupyter.widget-view+json": {
       "model_id": "5fce3d8a7ae840b680739b6a46736d98",
       "version_major": 2,
       "version_minor": 0
      },
      "text/plain": [
       "  0%|          | 0/2073 [00:00<?, ?it/s]"
      ]
     },
     "metadata": {},
     "output_type": "display_data"
    },
    {
     "name": "stdout",
     "output_type": "stream",
     "text": [
      "converting:  beaufort\n",
      "appending:  beaufort\n"
     ]
    },
    {
     "name": "stderr",
     "output_type": "stream",
     "text": [
      "/var/folders/9y/s7573g1n3q9fz78c71ryxj4m0000gn/T/ipykernel_44182/834589833.py:6: TqdmDeprecationWarning: This function will be removed in tqdm==5.0.0\n",
      "Please use `tqdm.notebook.tqdm` instead of `tqdm.tqdm_notebook`\n",
      "  progressbar1 = tqdm_notebook(total=len(members))\n"
     ]
    },
    {
     "data": {
      "application/vnd.jupyter.widget-view+json": {
       "model_id": "380dbb797b924ecdbec52890fb9f0e87",
       "version_major": 2,
       "version_minor": 0
      },
      "text/plain": [
       "  0%|          | 0/1773 [00:00<?, ?it/s]"
      ]
     },
     "metadata": {},
     "output_type": "display_data"
    },
    {
     "name": "stdout",
     "output_type": "stream",
     "text": [
      "converting:  zekerheid\n",
      "appending:  zekerheid\n"
     ]
    },
    {
     "name": "stderr",
     "output_type": "stream",
     "text": [
      "/var/folders/9y/s7573g1n3q9fz78c71ryxj4m0000gn/T/ipykernel_44182/834589833.py:6: TqdmDeprecationWarning: This function will be removed in tqdm==5.0.0\n",
      "Please use `tqdm.notebook.tqdm` instead of `tqdm.tqdm_notebook`\n",
      "  progressbar1 = tqdm_notebook(total=len(members))\n"
     ]
    },
    {
     "data": {
      "application/vnd.jupyter.widget-view+json": {
       "model_id": "90eed3c3d2ad46beb398899b988590ca",
       "version_major": 2,
       "version_minor": 0
      },
      "text/plain": [
       "  0%|          | 0/99 [00:00<?, ?it/s]"
      ]
     },
     "metadata": {},
     "output_type": "display_data"
    },
    {
     "name": "stdout",
     "output_type": "stream",
     "text": [
      "converting:  europa\n",
      "appending:  europa\n"
     ]
    },
    {
     "name": "stderr",
     "output_type": "stream",
     "text": [
      "/var/folders/9y/s7573g1n3q9fz78c71ryxj4m0000gn/T/ipykernel_44182/834589833.py:6: TqdmDeprecationWarning: This function will be removed in tqdm==5.0.0\n",
      "Please use `tqdm.notebook.tqdm` instead of `tqdm.tqdm_notebook`\n",
      "  progressbar1 = tqdm_notebook(total=len(members))\n"
     ]
    },
    {
     "data": {
      "application/vnd.jupyter.widget-view+json": {
       "model_id": "f6eefc5283874cb581b7910a78929c6d",
       "version_major": 2,
       "version_minor": 0
      },
      "text/plain": [
       "  0%|          | 0/7681 [00:00<?, ?it/s]"
      ]
     },
     "metadata": {},
     "output_type": "display_data"
    },
    {
     "name": "stdout",
     "output_type": "stream",
     "text": [
      "converting:  egodocumenten\n",
      "appending:  egodocumenten\n"
     ]
    },
    {
     "name": "stderr",
     "output_type": "stream",
     "text": [
      "/var/folders/9y/s7573g1n3q9fz78c71ryxj4m0000gn/T/ipykernel_44182/834589833.py:6: TqdmDeprecationWarning: This function will be removed in tqdm==5.0.0\n",
      "Please use `tqdm.notebook.tqdm` instead of `tqdm.tqdm_notebook`\n",
      "  progressbar1 = tqdm_notebook(total=len(members))\n"
     ]
    },
    {
     "data": {
      "application/vnd.jupyter.widget-view+json": {
       "model_id": "7223fc6690e14df6ab0db41ddd557889",
       "version_major": 2,
       "version_minor": 0
      },
      "text/plain": [
       "  0%|          | 0/3472 [00:00<?, ?it/s]"
      ]
     },
     "metadata": {},
     "output_type": "display_data"
    },
    {
     "name": "stdout",
     "output_type": "stream",
     "text": [
      "converting:  kpp\n",
      "appending:  kpp\n"
     ]
    },
    {
     "name": "stderr",
     "output_type": "stream",
     "text": [
      "/var/folders/9y/s7573g1n3q9fz78c71ryxj4m0000gn/T/ipykernel_44182/834589833.py:6: TqdmDeprecationWarning: This function will be removed in tqdm==5.0.0\n",
      "Please use `tqdm.notebook.tqdm` instead of `tqdm.tqdm_notebook`\n",
      "  progressbar1 = tqdm_notebook(total=len(members))\n"
     ]
    },
    {
     "data": {
      "application/vnd.jupyter.widget-view+json": {
       "model_id": "2322ded762bb4ab3aec4874c233f3128",
       "version_major": 2,
       "version_minor": 0
      },
      "text/plain": [
       "  0%|          | 0/711 [00:00<?, ?it/s]"
      ]
     },
     "metadata": {},
     "output_type": "display_data"
    },
    {
     "name": "stdout",
     "output_type": "stream",
     "text": [
      "converting:  willemiii\n",
      "appending:  willemiii\n"
     ]
    },
    {
     "name": "stderr",
     "output_type": "stream",
     "text": [
      "/var/folders/9y/s7573g1n3q9fz78c71ryxj4m0000gn/T/ipykernel_44182/834589833.py:6: TqdmDeprecationWarning: This function will be removed in tqdm==5.0.0\n",
      "Please use `tqdm.notebook.tqdm` instead of `tqdm.tqdm_notebook`\n",
      "  progressbar1 = tqdm_notebook(total=len(members))\n"
     ]
    },
    {
     "data": {
      "application/vnd.jupyter.widget-view+json": {
       "model_id": "482c227aaf4a41e2bf944d01e98be9e3",
       "version_major": 2,
       "version_minor": 0
      },
      "text/plain": [
       "  0%|          | 0/511 [00:00<?, ?it/s]"
      ]
     },
     "metadata": {},
     "output_type": "display_data"
    },
    {
     "name": "stdout",
     "output_type": "stream",
     "text": [
      "converting:  nib\n",
      "appending:  nib\n"
     ]
    },
    {
     "name": "stderr",
     "output_type": "stream",
     "text": [
      "/var/folders/9y/s7573g1n3q9fz78c71ryxj4m0000gn/T/ipykernel_44182/834589833.py:6: TqdmDeprecationWarning: This function will be removed in tqdm==5.0.0\n",
      "Please use `tqdm.notebook.tqdm` instead of `tqdm.tqdm_notebook`\n",
      "  progressbar1 = tqdm_notebook(total=len(members))\n"
     ]
    },
    {
     "data": {
      "application/vnd.jupyter.widget-view+json": {
       "model_id": "1b34b52cf4a04a43b063ff99d9a284c3",
       "version_major": 2,
       "version_minor": 0
      },
      "text/plain": [
       "  0%|          | 0/5175 [00:00<?, ?it/s]"
      ]
     },
     "metadata": {},
     "output_type": "display_data"
    },
    {
     "name": "stdout",
     "output_type": "stream",
     "text": [
      "converting:  elbing\n",
      "appending:  elbing\n"
     ]
    },
    {
     "name": "stderr",
     "output_type": "stream",
     "text": [
      "/var/folders/9y/s7573g1n3q9fz78c71ryxj4m0000gn/T/ipykernel_44182/834589833.py:6: TqdmDeprecationWarning: This function will be removed in tqdm==5.0.0\n",
      "Please use `tqdm.notebook.tqdm` instead of `tqdm.tqdm_notebook`\n",
      "  progressbar1 = tqdm_notebook(total=len(members))\n"
     ]
    },
    {
     "data": {
      "application/vnd.jupyter.widget-view+json": {
       "model_id": "9051ab988b7a4c17b195104d613163bc",
       "version_major": 2,
       "version_minor": 0
      },
      "text/plain": [
       "  0%|          | 0/1159 [00:00<?, ?it/s]"
      ]
     },
     "metadata": {},
     "output_type": "display_data"
    },
    {
     "name": "stdout",
     "output_type": "stream",
     "text": [
      "converting:  staatsregeling\n",
      "appending:  staatsregeling\n"
     ]
    },
    {
     "name": "stderr",
     "output_type": "stream",
     "text": [
      "/var/folders/9y/s7573g1n3q9fz78c71ryxj4m0000gn/T/ipykernel_44182/834589833.py:6: TqdmDeprecationWarning: This function will be removed in tqdm==5.0.0\n",
      "Please use `tqdm.notebook.tqdm` instead of `tqdm.tqdm_notebook`\n",
      "  progressbar1 = tqdm_notebook(total=len(members))\n"
     ]
    },
    {
     "data": {
      "application/vnd.jupyter.widget-view+json": {
       "model_id": "9428ec3bfbcb4cb79481271b750d1f73",
       "version_major": 2,
       "version_minor": 0
      },
      "text/plain": [
       "  0%|          | 0/104 [00:00<?, ?it/s]"
      ]
     },
     "metadata": {},
     "output_type": "display_data"
    },
    {
     "name": "stdout",
     "output_type": "stream",
     "text": [
      "converting:  heinsius\n",
      "appending:  heinsius\n"
     ]
    },
    {
     "name": "stderr",
     "output_type": "stream",
     "text": [
      "/var/folders/9y/s7573g1n3q9fz78c71ryxj4m0000gn/T/ipykernel_44182/834589833.py:6: TqdmDeprecationWarning: This function will be removed in tqdm==5.0.0\n",
      "Please use `tqdm.notebook.tqdm` instead of `tqdm.tqdm_notebook`\n",
      "  progressbar1 = tqdm_notebook(total=len(members))\n"
     ]
    },
    {
     "data": {
      "application/vnd.jupyter.widget-view+json": {
       "model_id": "60725c4022d44394972fcb52548d2e38",
       "version_major": 2,
       "version_minor": 0
      },
      "text/plain": [
       "  0%|          | 0/6899 [00:00<?, ?it/s]"
      ]
     },
     "metadata": {},
     "output_type": "display_data"
    },
    {
     "name": "stdout",
     "output_type": "stream",
     "text": [
      "converting:  raa\n",
      "appending:  raa\n"
     ]
    },
    {
     "name": "stderr",
     "output_type": "stream",
     "text": [
      "/var/folders/9y/s7573g1n3q9fz78c71ryxj4m0000gn/T/ipykernel_44182/834589833.py:6: TqdmDeprecationWarning: This function will be removed in tqdm==5.0.0\n",
      "Please use `tqdm.notebook.tqdm` instead of `tqdm.tqdm_notebook`\n",
      "  progressbar1 = tqdm_notebook(total=len(members))\n"
     ]
    },
    {
     "data": {
      "application/vnd.jupyter.widget-view+json": {
       "model_id": "3cffea411c104b53a2178b78dc028e17",
       "version_major": 2,
       "version_minor": 0
      },
      "text/plain": [
       "  0%|          | 0/40006 [00:00<?, ?it/s]"
      ]
     },
     "metadata": {},
     "output_type": "display_data"
    },
    {
     "name": "stdout",
     "output_type": "stream",
     "text": [
      "converting:  archives\n",
      "appending:  archives\n"
     ]
    },
    {
     "name": "stderr",
     "output_type": "stream",
     "text": [
      "/var/folders/9y/s7573g1n3q9fz78c71ryxj4m0000gn/T/ipykernel_44182/834589833.py:6: TqdmDeprecationWarning: This function will be removed in tqdm==5.0.0\n",
      "Please use `tqdm.notebook.tqdm` instead of `tqdm.tqdm_notebook`\n",
      "  progressbar1 = tqdm_notebook(total=len(members))\n"
     ]
    },
    {
     "data": {
      "application/vnd.jupyter.widget-view+json": {
       "model_id": "29784f131a0e40e6b20e828143033fee",
       "version_major": 2,
       "version_minor": 0
      },
      "text/plain": [
       "  0%|          | 0/1146 [00:00<?, ?it/s]"
      ]
     },
     "metadata": {},
     "output_type": "display_data"
    },
    {
     "name": "stdout",
     "output_type": "stream",
     "text": [
      "converting:  cid\n",
      "appending:  cid\n"
     ]
    },
    {
     "name": "stderr",
     "output_type": "stream",
     "text": [
      "/var/folders/9y/s7573g1n3q9fz78c71ryxj4m0000gn/T/ipykernel_44182/834589833.py:6: TqdmDeprecationWarning: This function will be removed in tqdm==5.0.0\n",
      "Please use `tqdm.notebook.tqdm` instead of `tqdm.tqdm_notebook`\n",
      "  progressbar1 = tqdm_notebook(total=len(members))\n"
     ]
    },
    {
     "data": {
      "application/vnd.jupyter.widget-view+json": {
       "model_id": "230224af6561413f97d9e3d3949b06d2",
       "version_major": 2,
       "version_minor": 0
      },
      "text/plain": [
       "  0%|          | 0/32166 [00:00<?, ?it/s]"
      ]
     },
     "metadata": {},
     "output_type": "display_data"
    },
    {
     "name": "stdout",
     "output_type": "stream",
     "text": [
      "converting:  bwn\n",
      "appending:  bwn\n"
     ]
    },
    {
     "name": "stderr",
     "output_type": "stream",
     "text": [
      "/var/folders/9y/s7573g1n3q9fz78c71ryxj4m0000gn/T/ipykernel_44182/834589833.py:6: TqdmDeprecationWarning: This function will be removed in tqdm==5.0.0\n",
      "Please use `tqdm.notebook.tqdm` instead of `tqdm.tqdm_notebook`\n",
      "  progressbar1 = tqdm_notebook(total=len(members))\n"
     ]
    },
    {
     "data": {
      "application/vnd.jupyter.widget-view+json": {
       "model_id": "c822a899b2ed4bf7b0b7a885c9cfaeb8",
       "version_major": 2,
       "version_minor": 0
      },
      "text/plain": [
       "  0%|          | 0/2079 [00:00<?, ?it/s]"
      ]
     },
     "metadata": {},
     "output_type": "display_data"
    },
    {
     "name": "stdout",
     "output_type": "stream",
     "text": [
      "converting:  gachard\n",
      "appending:  gachard\n"
     ]
    },
    {
     "name": "stderr",
     "output_type": "stream",
     "text": [
      "/var/folders/9y/s7573g1n3q9fz78c71ryxj4m0000gn/T/ipykernel_44182/834589833.py:6: TqdmDeprecationWarning: This function will be removed in tqdm==5.0.0\n",
      "Please use `tqdm.notebook.tqdm` instead of `tqdm.tqdm_notebook`\n",
      "  progressbar1 = tqdm_notebook(total=len(members))\n"
     ]
    },
    {
     "data": {
      "application/vnd.jupyter.widget-view+json": {
       "model_id": "e89924f21c8641debc8354d6e6405cdd",
       "version_major": 2,
       "version_minor": 0
      },
      "text/plain": [
       "  0%|          | 0/66 [00:00<?, ?it/s]"
      ]
     },
     "metadata": {},
     "output_type": "display_data"
    },
    {
     "name": "stdout",
     "output_type": "stream",
     "text": [
      "converting:  oldenbarnevelt\n",
      "appending:  oldenbarnevelt\n"
     ]
    },
    {
     "name": "stderr",
     "output_type": "stream",
     "text": [
      "/var/folders/9y/s7573g1n3q9fz78c71ryxj4m0000gn/T/ipykernel_44182/834589833.py:6: TqdmDeprecationWarning: This function will be removed in tqdm==5.0.0\n",
      "Please use `tqdm.notebook.tqdm` instead of `tqdm.tqdm_notebook`\n",
      "  progressbar1 = tqdm_notebook(total=len(members))\n"
     ]
    },
    {
     "data": {
      "application/vnd.jupyter.widget-view+json": {
       "model_id": "9d47db69d3454d73b34dc6cea8aea6eb",
       "version_major": 2,
       "version_minor": 0
      },
      "text/plain": [
       "  0%|          | 0/453 [00:00<?, ?it/s]"
      ]
     },
     "metadata": {},
     "output_type": "display_data"
    },
    {
     "name": "stdout",
     "output_type": "stream",
     "text": [
      "converting:  schutte\n",
      "appending:  schutte\n"
     ]
    },
    {
     "name": "stderr",
     "output_type": "stream",
     "text": [
      "/var/folders/9y/s7573g1n3q9fz78c71ryxj4m0000gn/T/ipykernel_44182/834589833.py:6: TqdmDeprecationWarning: This function will be removed in tqdm==5.0.0\n",
      "Please use `tqdm.notebook.tqdm` instead of `tqdm.tqdm_notebook`\n",
      "  progressbar1 = tqdm_notebook(total=len(members))\n"
     ]
    },
    {
     "data": {
      "application/vnd.jupyter.widget-view+json": {
       "model_id": "9e9f764cbdba4a5ca4992f5bb4fd7eb5",
       "version_major": 2,
       "version_minor": 0
      },
      "text/plain": [
       "  0%|          | 0/11938 [00:00<?, ?it/s]"
      ]
     },
     "metadata": {},
     "output_type": "display_data"
    },
    {
     "data": {
      "text/html": [
       "<div>\n",
       "<style scoped>\n",
       "    .dataframe tbody tr th:only-of-type {\n",
       "        vertical-align: middle;\n",
       "    }\n",
       "\n",
       "    .dataframe tbody tr th {\n",
       "        vertical-align: top;\n",
       "    }\n",
       "\n",
       "    .dataframe thead th {\n",
       "        text-align: right;\n",
       "    }\n",
       "</style>\n",
       "<table border=\"1\" class=\"dataframe\">\n",
       "  <thead>\n",
       "    <tr style=\"text-align: right;\">\n",
       "      <th></th>\n",
       "      <th>geslachtsnaam</th>\n",
       "      <th>fullname</th>\n",
       "      <th>birth</th>\n",
       "      <th>death</th>\n",
       "      <th>by</th>\n",
       "      <th>dy</th>\n",
       "      <th>bp</th>\n",
       "      <th>dp</th>\n",
       "      <th>biography</th>\n",
       "      <th>reference</th>\n",
       "      <th>collection</th>\n",
       "      <th>voornaam</th>\n",
       "      <th>intrapositie</th>\n",
       "      <th>birth-place</th>\n",
       "      <th>death-place</th>\n",
       "      <th>prepositie</th>\n",
       "    </tr>\n",
       "  </thead>\n",
       "  <tbody>\n",
       "    <tr>\n",
       "      <th>0</th>\n",
       "      <td>Deynaud</td>\n",
       "      <td>Deynaud, N</td>\n",
       "      <td>None</td>\n",
       "      <td>None</td>\n",
       "      <td></td>\n",
       "      <td></td>\n",
       "      <td></td>\n",
       "      <td></td>\n",
       "      <td>N.  Hugenoots predikant in Duitsland, met een ...</td>\n",
       "      <td></td>\n",
       "      <td>heinsius</td>\n",
       "      <td>NaN</td>\n",
       "      <td>NaN</td>\n",
       "      <td>NaN</td>\n",
       "      <td>NaN</td>\n",
       "      <td>NaN</td>\n",
       "    </tr>\n",
       "    <tr>\n",
       "      <th>1</th>\n",
       "      <td>La Tour</td>\n",
       "      <td>La Tour, François-Egon de, prins van Auvergne,...</td>\n",
       "      <td>None</td>\n",
       "      <td>None</td>\n",
       "      <td></td>\n",
       "      <td></td>\n",
       "      <td></td>\n",
       "      <td></td>\n",
       "      <td>La Tour, François-Egon de, prins van Auvergne,...</td>\n",
       "      <td></td>\n",
       "      <td>heinsius</td>\n",
       "      <td>NaN</td>\n",
       "      <td>NaN</td>\n",
       "      <td>NaN</td>\n",
       "      <td>NaN</td>\n",
       "      <td>NaN</td>\n",
       "    </tr>\n",
       "    <tr>\n",
       "      <th>2</th>\n",
       "      <td>Grignan</td>\n",
       "      <td>Grignan, François d'Adhémar de Monteil, Graaf van</td>\n",
       "      <td>None</td>\n",
       "      <td>None</td>\n",
       "      <td></td>\n",
       "      <td>1715</td>\n",
       "      <td></td>\n",
       "      <td></td>\n",
       "      <td>(† 1715) Frans edelman en offcier; luitenant-g...</td>\n",
       "      <td></td>\n",
       "      <td>heinsius</td>\n",
       "      <td>NaN</td>\n",
       "      <td>NaN</td>\n",
       "      <td>NaN</td>\n",
       "      <td>NaN</td>\n",
       "      <td>NaN</td>\n",
       "    </tr>\n",
       "    <tr>\n",
       "      <th>3</th>\n",
       "      <td>Watrigand</td>\n",
       "      <td>Watrigand, Jacques</td>\n",
       "      <td>None</td>\n",
       "      <td>None</td>\n",
       "      <td></td>\n",
       "      <td>1708</td>\n",
       "      <td></td>\n",
       "      <td></td>\n",
       "      <td>(† 1708) Nederlands officier; ritmeester in he...</td>\n",
       "      <td></td>\n",
       "      <td>heinsius</td>\n",
       "      <td>NaN</td>\n",
       "      <td>NaN</td>\n",
       "      <td>NaN</td>\n",
       "      <td>NaN</td>\n",
       "      <td>NaN</td>\n",
       "    </tr>\n",
       "    <tr>\n",
       "      <th>4</th>\n",
       "      <td>Aa</td>\n",
       "      <td>Aa, Boudewijn van der</td>\n",
       "      <td>None</td>\n",
       "      <td>None</td>\n",
       "      <td></td>\n",
       "      <td></td>\n",
       "      <td></td>\n",
       "      <td></td>\n",
       "      <td>Broer van de Leidse boekdrukker Pieter van der...</td>\n",
       "      <td></td>\n",
       "      <td>heinsius</td>\n",
       "      <td>NaN</td>\n",
       "      <td>NaN</td>\n",
       "      <td>NaN</td>\n",
       "      <td>NaN</td>\n",
       "      <td>NaN</td>\n",
       "    </tr>\n",
       "    <tr>\n",
       "      <th>...</th>\n",
       "      <td>...</td>\n",
       "      <td>...</td>\n",
       "      <td>...</td>\n",
       "      <td>...</td>\n",
       "      <td>...</td>\n",
       "      <td>...</td>\n",
       "      <td>...</td>\n",
       "      <td>...</td>\n",
       "      <td>...</td>\n",
       "      <td>...</td>\n",
       "      <td>...</td>\n",
       "      <td>...</td>\n",
       "      <td>...</td>\n",
       "      <td>...</td>\n",
       "      <td>...</td>\n",
       "      <td>...</td>\n",
       "    </tr>\n",
       "    <tr>\n",
       "      <th>76043</th>\n",
       "      <td>Broedelet</td>\n",
       "      <td>Broedelet, Jacobus</td>\n",
       "      <td>None</td>\n",
       "      <td>None</td>\n",
       "      <td>0</td>\n",
       "      <td>0</td>\n",
       "      <td></td>\n",
       "      <td></td>\n",
       "      <td></td>\n",
       "      <td></td>\n",
       "      <td>schutte</td>\n",
       "      <td>NaN</td>\n",
       "      <td>NaN</td>\n",
       "      <td>NaN</td>\n",
       "      <td>NaN</td>\n",
       "      <td>NaN</td>\n",
       "    </tr>\n",
       "    <tr>\n",
       "      <th>76044</th>\n",
       "      <td>Milan(o)</td>\n",
       "      <td>Milan(o)</td>\n",
       "      <td>None</td>\n",
       "      <td>None</td>\n",
       "      <td>0</td>\n",
       "      <td>0</td>\n",
       "      <td></td>\n",
       "      <td></td>\n",
       "      <td></td>\n",
       "      <td></td>\n",
       "      <td>schutte</td>\n",
       "      <td>NaN</td>\n",
       "      <td>NaN</td>\n",
       "      <td>NaN</td>\n",
       "      <td>NaN</td>\n",
       "      <td>NaN</td>\n",
       "    </tr>\n",
       "    <tr>\n",
       "      <th>76045</th>\n",
       "      <td>James</td>\n",
       "      <td>James, James French</td>\n",
       "      <td>None</td>\n",
       "      <td>None</td>\n",
       "      <td>0</td>\n",
       "      <td>0</td>\n",
       "      <td></td>\n",
       "      <td></td>\n",
       "      <td></td>\n",
       "      <td></td>\n",
       "      <td>schutte</td>\n",
       "      <td>NaN</td>\n",
       "      <td>NaN</td>\n",
       "      <td>NaN</td>\n",
       "      <td>NaN</td>\n",
       "      <td>NaN</td>\n",
       "    </tr>\n",
       "    <tr>\n",
       "      <th>76046</th>\n",
       "      <td>Knuyt</td>\n",
       "      <td>Knuyt, Johan de</td>\n",
       "      <td>None</td>\n",
       "      <td>None</td>\n",
       "      <td>0</td>\n",
       "      <td>0</td>\n",
       "      <td></td>\n",
       "      <td></td>\n",
       "      <td></td>\n",
       "      <td></td>\n",
       "      <td>schutte</td>\n",
       "      <td>NaN</td>\n",
       "      <td>NaN</td>\n",
       "      <td>NaN</td>\n",
       "      <td>NaN</td>\n",
       "      <td>NaN</td>\n",
       "    </tr>\n",
       "    <tr>\n",
       "      <th>76047</th>\n",
       "      <td>Denemarken</td>\n",
       "      <td>Denemarken, Sofia Magdalena van</td>\n",
       "      <td>None</td>\n",
       "      <td>None</td>\n",
       "      <td>0</td>\n",
       "      <td>0</td>\n",
       "      <td></td>\n",
       "      <td></td>\n",
       "      <td></td>\n",
       "      <td></td>\n",
       "      <td>schutte</td>\n",
       "      <td>NaN</td>\n",
       "      <td>NaN</td>\n",
       "      <td>NaN</td>\n",
       "      <td>NaN</td>\n",
       "      <td>NaN</td>\n",
       "    </tr>\n",
       "  </tbody>\n",
       "</table>\n",
       "<p>76048 rows × 16 columns</p>\n",
       "</div>"
      ],
      "text/plain": [
       "      geslachtsnaam                                           fullname birth  \\\n",
       "0           Deynaud                                         Deynaud, N  None   \n",
       "1           La Tour  La Tour, François-Egon de, prins van Auvergne,...  None   \n",
       "2           Grignan  Grignan, François d'Adhémar de Monteil, Graaf van  None   \n",
       "3         Watrigand                                 Watrigand, Jacques  None   \n",
       "4                Aa                              Aa, Boudewijn van der  None   \n",
       "...             ...                                                ...   ...   \n",
       "76043     Broedelet                                 Broedelet, Jacobus  None   \n",
       "76044      Milan(o)                                           Milan(o)  None   \n",
       "76045         James                                James, James French  None   \n",
       "76046         Knuyt                                   Knuyt, Johan de   None   \n",
       "76047    Denemarken                    Denemarken, Sofia Magdalena van  None   \n",
       "\n",
       "      death by    dy bp dp                                          biography  \\\n",
       "0      None                 N.  Hugenoots predikant in Duitsland, met een ...   \n",
       "1      None                 La Tour, François-Egon de, prins van Auvergne,...   \n",
       "2      None     1715        († 1715) Frans edelman en offcier; luitenant-g...   \n",
       "3      None     1708        († 1708) Nederlands officier; ritmeester in he...   \n",
       "4      None                 Broer van de Leidse boekdrukker Pieter van der...   \n",
       "...     ... ..   ... .. ..                                                ...   \n",
       "76043  None  0     0                                                            \n",
       "76044  None  0     0                                                            \n",
       "76045  None  0     0                                                            \n",
       "76046  None  0     0                                                            \n",
       "76047  None  0     0                                                            \n",
       "\n",
       "      reference collection voornaam intrapositie birth-place death-place  \\\n",
       "0                 heinsius      NaN          NaN         NaN         NaN   \n",
       "1                 heinsius      NaN          NaN         NaN         NaN   \n",
       "2                 heinsius      NaN          NaN         NaN         NaN   \n",
       "3                 heinsius      NaN          NaN         NaN         NaN   \n",
       "4                 heinsius      NaN          NaN         NaN         NaN   \n",
       "...         ...        ...      ...          ...         ...         ...   \n",
       "76043              schutte      NaN          NaN         NaN         NaN   \n",
       "76044              schutte      NaN          NaN         NaN         NaN   \n",
       "76045              schutte      NaN          NaN         NaN         NaN   \n",
       "76046              schutte      NaN          NaN         NaN         NaN   \n",
       "76047              schutte      NaN          NaN         NaN         NaN   \n",
       "\n",
       "      prepositie  \n",
       "0            NaN  \n",
       "1            NaN  \n",
       "2            NaN  \n",
       "3            NaN  \n",
       "4            NaN  \n",
       "...          ...  \n",
       "76043        NaN  \n",
       "76044        NaN  \n",
       "76045        NaN  \n",
       "76046        NaN  \n",
       "76047        NaN  \n",
       "\n",
       "[76048 rows x 16 columns]"
      ]
     },
     "execution_count": 28,
     "metadata": {},
     "output_type": "execute_result"
    }
   ],
   "source": [
    "\n",
    "ndfs = ''\n",
    "progressbar1 = tqdm_notebook(total=len(srcdirs))\n",
    "for item in all_src:\n",
    "    print(\"converting: \", item)\n",
    "    progressbar1.update()\n",
    "    if not type(dfs) == type(pd.DataFrame()):\n",
    "        ndfs = convert_sources(basedir, item)\n",
    "    else:\n",
    "        print(\"appending: \", item)\n",
    "        dfss = convert_sources(basedir, item)\n",
    "        ndfs = pd.concat([dfs, dfss], ignore_index=True, sort=False)\n",
    "ndfs\n"
   ]
  },
  {
   "cell_type": "code",
   "execution_count": 29,
   "metadata": {},
   "outputs": [],
   "source": [
    "ndfs.reset_index(drop=True, inplace=True)"
   ]
  },
  {
   "cell_type": "code",
   "execution_count": 28,
   "metadata": {},
   "outputs": [
    {
     "data": {
      "text/plain": [
       "56045"
      ]
     },
     "execution_count": 28,
     "metadata": {},
     "output_type": "execute_result"
    }
   ],
   "source": [
    "ndfs.to_json('./ni_new_2021.json', orient=\"records\")\n",
    "len(ndfs)"
   ]
  },
  {
   "cell_type": "code",
   "execution_count": 29,
   "metadata": {},
   "outputs": [],
   "source": [
    "def convert_sources(basedir, srcdir):\n",
    "    tar = TarFile.open(os.path.join(basedir, srcdir, \"out.tar.gz\"), \"r:gz\")\n",
    "    rescoll = []\n",
    "    for member in tar.getmembers():\n",
    "        f = tar.extractfile(member)\n",
    "        if f is not None:\n",
    "            content = f.read()\n",
    "        i = ExtendedIndexItem(content=content)\n",
    "        r = {k:vars(i)[k] for k in vars(i) if k not in ['src']}\n",
    "        r['collection'] = srcdir\n",
    "        rescoll.append(r)\n",
    "    df = pd.DataFrame().from_records(rescoll)\n",
    "    return df"
   ]
  },
  {
   "cell_type": "raw",
   "metadata": {},
   "source": [
    "f = open(os.path.join(basedir, 'raa', 'out/40001.xml'))\n",
    "\n",
    "content = f.read()\n",
    "i = ExtendedIndexItem(content=content)\n"
   ]
  },
  {
   "cell_type": "raw",
   "metadata": {},
   "source": [
    "i.geslachtsnaam"
   ]
  },
  {
   "cell_type": "markdown",
   "metadata": {},
   "source": [
    "# To Elastic Search"
   ]
  },
  {
   "cell_type": "code",
   "execution_count": null,
   "metadata": {},
   "outputs": [],
   "source": []
  },
  {
   "cell_type": "code",
   "execution_count": 48,
   "metadata": {},
   "outputs": [],
   "source": [
    "# Run this cell to import the necessary libraries and initiate an Elasticsearch object.\n",
    "from elasticsearch import Elasticsearch\n",
    "from elasticsearch.exceptions import RequestError\n",
    "import datetime\n",
    "\n",
    "import json\n",
    "from IPython.core.display import display, HTML\n",
    "import re\n",
    "\n",
    "es = Elasticsearch(timeout=30, max_retries=10, retry_on_timeout=True) "
   ]
  },
  {
   "cell_type": "code",
   "execution_count": 63,
   "metadata": {},
   "outputs": [],
   "source": [
    "def init_es(es='', index='', doc_type='', jsonsrc='', jsonfl=''):\n",
    "    es = Elasticsearch(timeout=30, max_retries=10, retry_on_timeout=True)\n",
    "    # create mapping in index (the index should already exist)\n",
    "    index = index\n",
    "    indextype = doc_type\n",
    "    if not es.indices.exists(index):\n",
    "        es.indices.create(index)\n",
    "    request_body = {\n",
    "                \"naam\": {\n",
    "                        \"properties\":{\n",
    "                            'geslachtsnaam': {\"type\":\"string\"},\n",
    "                            'fullname': {\"type\":\"string\"},\n",
    "                            'birth': {\"type\":\"string\"},\n",
    "                            'death': {\"type\":\"string\"},\n",
    "                            'by': {\"type\":\"integer\"},\n",
    "                            'dy': {\"type\":\"integer\"},\n",
    "                            'bp': {\"type\":\"string\"},\n",
    "                            'dp': {\"type\":\"string\"},\n",
    "                            'biography': {\"type\":\"text\"},\n",
    "                            'reference': {\"type\":\"string\"}\n",
    "                        }\n",
    "                    },\n",
    "        }\n",
    "\n",
    "    INDEX_NAME=index\n",
    "    es.indices.put_mapping(index = index, doc_type=doc_type,  body=request_body)\n",
    "\n",
    "    if not jsonsrc:\n",
    "        data_dict = json.load('ni_nw.json')\n",
    "    else:\n",
    "        data_dict = jsonsrc\n",
    "\n",
    "    bulk_data = []\n",
    "    for item in data_dict:\n",
    "        try:\n",
    "            bulk_data.append({'index':{'_type':indextype,\n",
    "                                       '_index':index,\n",
    "                                       '_id':'%s' % item.get('id')}})\n",
    "            bulk_data.append(item)\n",
    "        except KeyError:\n",
    "            print (item)\n",
    "\n",
    "    es.bulk(index=index, body=bulk_data, refresh=True)"
   ]
  },
  {
   "cell_type": "code",
   "execution_count": null,
   "metadata": {},
   "outputs": [],
   "source": [
    "with open('./ni_nw.json') as fl:\n",
    "    jsonsrc = json.load(fp=fl)\n",
    "init_es(es=es,\n",
    "        index='namen_new',\n",
    "        doc_type='naam', \n",
    "        jsonsrc=jsonsrc, jsonfl=''\n",
    "       )"
   ]
  },
  {
   "cell_type": "code",
   "execution_count": 76,
   "metadata": {},
   "outputs": [],
   "source": [
    "data_dict = jsonsrc"
   ]
  },
  {
   "cell_type": "code",
   "execution_count": 71,
   "metadata": {},
   "outputs": [
    {
     "data": {
      "text/plain": [
       "dict_keys(['geslachtsnaam', 'fullname', 'birth', 'death', 'by', 'dy', 'bp', 'dp', 'biography', 'reference', 'collection', 'voornaam', 'intrapositie', 'birth-place', 'death-place', 'prepositie'])"
      ]
     },
     "execution_count": 71,
     "metadata": {},
     "output_type": "execute_result"
    }
   ],
   "source": [
    "data_dict.keys()"
   ]
  },
  {
   "cell_type": "code",
   "execution_count": 77,
   "metadata": {},
   "outputs": [],
   "source": [
    "index = 'index'\n",
    "indextype = 'naam'\n",
    "bulk_data = []\n",
    "for item in data_dict:\n",
    "    try:\n",
    "        bulk_data.append({'index':{'_type':indextype,\n",
    "                                   '_index':index,\n",
    "                                   '_id':'%s' % item.get('id')}})\n",
    "        bulk_data.append(item)\n",
    "    except KeyError:\n",
    "        print (item)\n"
   ]
  },
  {
   "cell_type": "code",
   "execution_count": 79,
   "metadata": {
    "scrolled": true
   },
   "outputs": [
    {
     "data": {
      "text/plain": [
       "[{'index': {'_type': 'naam', '_index': 'index', '_id': 'None'}},\n",
       " {'geslachtsnaam': 'Deynaud',\n",
       "  'fullname': 'Deynaud, N',\n",
       "  'birth': None,\n",
       "  'death': None,\n",
       "  'by': '',\n",
       "  'dy': '',\n",
       "  'bp': '',\n",
       "  'dp': '',\n",
       "  'biography': 'N.  Hugenoots predikant in Duitsland, met een jaargeld van de Staten-Generaal, 1710.',\n",
       "  'reference': '',\n",
       "  'collection': 'heinsius',\n",
       "  'voornaam': None,\n",
       "  'intrapositie': None,\n",
       "  'birth-place': None,\n",
       "  'death-place': None,\n",
       "  'prepositie': None},\n",
       " {'index': {'_type': 'naam', '_index': 'index', '_id': 'None'}},\n",
       " {'geslachtsnaam': 'La Tour',\n",
       "  'fullname': 'La Tour, François-Egon de, prins van Auvergne, markies van',\n",
       "  'birth': None,\n",
       "  'death': None,\n",
       "  'by': '',\n",
       "  'dy': '',\n",
       "  'bp': '',\n",
       "  'dp': '',\n",
       "  'biography': 'La Tour, François-Egon de, prins van Auvergne, markies van',\n",
       "  'reference': '',\n",
       "  'collection': 'heinsius',\n",
       "  'voornaam': None,\n",
       "  'intrapositie': None,\n",
       "  'birth-place': None,\n",
       "  'death-place': None,\n",
       "  'prepositie': None},\n",
       " {'index': {'_type': 'naam', '_index': 'index', '_id': 'None'}},\n",
       " {'geslachtsnaam': 'Grignan',\n",
       "  'fullname': \"Grignan, François d'Adhémar de Monteil, Graaf van\",\n",
       "  'birth': None,\n",
       "  'death': None,\n",
       "  'by': '',\n",
       "  'dy': '1715',\n",
       "  'bp': '',\n",
       "  'dp': '',\n",
       "  'biography': '(† 1715) Frans edelman en offcier; luitenant-generaal in de Provence. Saint-Simon,  <I>Mémoires</I>.',\n",
       "  'reference': '',\n",
       "  'collection': 'heinsius',\n",
       "  'voornaam': None,\n",
       "  'intrapositie': None,\n",
       "  'birth-place': None,\n",
       "  'death-place': None,\n",
       "  'prepositie': None},\n",
       " {'index': {'_type': 'naam', '_index': 'index', '_id': 'None'}},\n",
       " {'geslachtsnaam': 'Watrigand',\n",
       "  'fullname': 'Watrigand, Jacques',\n",
       "  'birth': None,\n",
       "  'death': None,\n",
       "  'by': '',\n",
       "  'dy': '1708',\n",
       "  'bp': '',\n",
       "  'dp': '',\n",
       "  'biography': '(† 1708) Nederlands officier; ritmeester in het regiment Chanclos 1702.',\n",
       "  'reference': '',\n",
       "  'collection': 'heinsius',\n",
       "  'voornaam': None,\n",
       "  'intrapositie': None,\n",
       "  'birth-place': None,\n",
       "  'death-place': None,\n",
       "  'prepositie': None},\n",
       " {'index': {'_type': 'naam', '_index': 'index', '_id': 'None'}},\n",
       " {'geslachtsnaam': 'Aa',\n",
       "  'fullname': 'Aa, Boudewijn van der',\n",
       "  'birth': None,\n",
       "  'death': None,\n",
       "  'by': '',\n",
       "  'dy': '',\n",
       "  'bp': '',\n",
       "  'dp': '',\n",
       "  'biography': 'Broer van de Leidse boekdrukker Pieter van der Aa, dienend in Oost-Indië  in 1709.',\n",
       "  'reference': '',\n",
       "  'collection': 'heinsius',\n",
       "  'voornaam': None,\n",
       "  'intrapositie': None,\n",
       "  'birth-place': None,\n",
       "  'death-place': None,\n",
       "  'prepositie': None}]"
      ]
     },
     "execution_count": 79,
     "metadata": {},
     "output_type": "execute_result"
    }
   ],
   "source": [
    "bulk_data[:10]"
   ]
  },
  {
   "cell_type": "code",
   "execution_count": 80,
   "metadata": {},
   "outputs": [
    {
     "data": {
      "text/plain": [
       "[{'geslachtsnaam': 'Deynaud',\n",
       "  'fullname': 'Deynaud, N',\n",
       "  'birth': None,\n",
       "  'death': None,\n",
       "  'by': '',\n",
       "  'dy': '',\n",
       "  'bp': '',\n",
       "  'dp': '',\n",
       "  'biography': 'N.  Hugenoots predikant in Duitsland, met een jaargeld van de Staten-Generaal, 1710.',\n",
       "  'reference': '',\n",
       "  'collection': 'heinsius',\n",
       "  'voornaam': None,\n",
       "  'intrapositie': None,\n",
       "  'birth-place': None,\n",
       "  'death-place': None,\n",
       "  'prepositie': None},\n",
       " {'geslachtsnaam': 'La Tour',\n",
       "  'fullname': 'La Tour, François-Egon de, prins van Auvergne, markies van',\n",
       "  'birth': None,\n",
       "  'death': None,\n",
       "  'by': '',\n",
       "  'dy': '',\n",
       "  'bp': '',\n",
       "  'dp': '',\n",
       "  'biography': 'La Tour, François-Egon de, prins van Auvergne, markies van',\n",
       "  'reference': '',\n",
       "  'collection': 'heinsius',\n",
       "  'voornaam': None,\n",
       "  'intrapositie': None,\n",
       "  'birth-place': None,\n",
       "  'death-place': None,\n",
       "  'prepositie': None},\n",
       " {'geslachtsnaam': 'Grignan',\n",
       "  'fullname': \"Grignan, François d'Adhémar de Monteil, Graaf van\",\n",
       "  'birth': None,\n",
       "  'death': None,\n",
       "  'by': '',\n",
       "  'dy': '1715',\n",
       "  'bp': '',\n",
       "  'dp': '',\n",
       "  'biography': '(† 1715) Frans edelman en offcier; luitenant-generaal in de Provence. Saint-Simon,  <I>Mémoires</I>.',\n",
       "  'reference': '',\n",
       "  'collection': 'heinsius',\n",
       "  'voornaam': None,\n",
       "  'intrapositie': None,\n",
       "  'birth-place': None,\n",
       "  'death-place': None,\n",
       "  'prepositie': None},\n",
       " {'geslachtsnaam': 'Watrigand',\n",
       "  'fullname': 'Watrigand, Jacques',\n",
       "  'birth': None,\n",
       "  'death': None,\n",
       "  'by': '',\n",
       "  'dy': '1708',\n",
       "  'bp': '',\n",
       "  'dp': '',\n",
       "  'biography': '(† 1708) Nederlands officier; ritmeester in het regiment Chanclos 1702.',\n",
       "  'reference': '',\n",
       "  'collection': 'heinsius',\n",
       "  'voornaam': None,\n",
       "  'intrapositie': None,\n",
       "  'birth-place': None,\n",
       "  'death-place': None,\n",
       "  'prepositie': None},\n",
       " {'geslachtsnaam': 'Aa',\n",
       "  'fullname': 'Aa, Boudewijn van der',\n",
       "  'birth': None,\n",
       "  'death': None,\n",
       "  'by': '',\n",
       "  'dy': '',\n",
       "  'bp': '',\n",
       "  'dp': '',\n",
       "  'biography': 'Broer van de Leidse boekdrukker Pieter van der Aa, dienend in Oost-Indië  in 1709.',\n",
       "  'reference': '',\n",
       "  'collection': 'heinsius',\n",
       "  'voornaam': None,\n",
       "  'intrapositie': None,\n",
       "  'birth-place': None,\n",
       "  'death-place': None,\n",
       "  'prepositie': None},\n",
       " {'geslachtsnaam': 'Francisca Christine',\n",
       "  'fullname': 'Francisca Christine, Gravin van Palts-Sulzbach',\n",
       "  'birth': None,\n",
       "  'death': None,\n",
       "  'by': '1696',\n",
       "  'dy': '1776',\n",
       "  'bp': '',\n",
       "  'dp': '',\n",
       "  'biography': '(1696-1776) Vorstin-abdis van Thorn 1717; abdis van Essen 1726. Houtmortels, <I>Thorn</I>.',\n",
       "  'reference': '',\n",
       "  'collection': 'heinsius',\n",
       "  'voornaam': None,\n",
       "  'intrapositie': None,\n",
       "  'birth-place': None,\n",
       "  'death-place': None,\n",
       "  'prepositie': None},\n",
       " {'geslachtsnaam': 'La Fontaine',\n",
       "  'fullname': 'La Fontaine, Pietro de',\n",
       "  'birth': None,\n",
       "  'death': None,\n",
       "  'by': '',\n",
       "  'dy': '1725',\n",
       "  'bp': '',\n",
       "  'dp': '',\n",
       "  'biography': '(† 1725) Secretaris te Constantinopel van zijn oom Jacob Colyer. Schutte,  <I>Nederlandse vertegenwoordigers</I>.',\n",
       "  'reference': '',\n",
       "  'collection': 'heinsius',\n",
       "  'voornaam': None,\n",
       "  'intrapositie': None,\n",
       "  'birth-place': None,\n",
       "  'death-place': None,\n",
       "  'prepositie': None},\n",
       " {'geslachtsnaam': 'Aemilius',\n",
       "  'fullname': 'Aemilius, Robertus',\n",
       "  'birth': None,\n",
       "  'death': None,\n",
       "  'by': '',\n",
       "  'dy': '',\n",
       "  'bp': '',\n",
       "  'dp': '',\n",
       "  'biography': 'Regent van het Statencollege te Leiden,1709, als opvolger van Petrus Hollebeek.',\n",
       "  'reference': '',\n",
       "  'collection': 'heinsius',\n",
       "  'voornaam': None,\n",
       "  'intrapositie': None,\n",
       "  'birth-place': None,\n",
       "  'death-place': None,\n",
       "  'prepositie': None},\n",
       " {'geslachtsnaam': 'Wassenaer',\n",
       "  'fullname': 'Wassenaer, Johan Hendrik van, Heer van Obdam',\n",
       "  'birth': None,\n",
       "  'death': None,\n",
       "  'by': '1683',\n",
       "  'dy': '1745',\n",
       "  'bp': '',\n",
       "  'dp': '',\n",
       "  'biography': '(1683-1745) Zoon van Jacob van Wassenaer-Obdam; 1714 heer van Obdam. Obreen, <I>Wassenaer</I>,  147.',\n",
       "  'reference': '',\n",
       "  'collection': 'heinsius',\n",
       "  'voornaam': None,\n",
       "  'intrapositie': None,\n",
       "  'birth-place': None,\n",
       "  'death-place': None,\n",
       "  'prepositie': None},\n",
       " {'geslachtsnaam': 'Lannoy',\n",
       "  'fullname': 'Lannoy, Johan Hendrik de',\n",
       "  'birth': None,\n",
       "  'death': None,\n",
       "  'by': '',\n",
       "  'dy': '1731',\n",
       "  'bp': '',\n",
       "  'dp': '',\n",
       "  'biography': '(† 1731) Nederlands officier; 1710 majoor van de infanterie; 1712 luitenant-kolonel;  1727 kolonel-commandant. Ringoir, <I>Hoofdofficieren infanterie</I>.',\n",
       "  'reference': '',\n",
       "  'collection': 'heinsius',\n",
       "  'voornaam': None,\n",
       "  'intrapositie': None,\n",
       "  'birth-place': None,\n",
       "  'death-place': None,\n",
       "  'prepositie': None}]"
      ]
     },
     "execution_count": 80,
     "metadata": {},
     "output_type": "execute_result"
    }
   ],
   "source": [
    "data_dict[:10]"
   ]
  },
  {
   "cell_type": "code",
   "execution_count": null,
   "metadata": {},
   "outputs": [],
   "source": []
  }
 ],
 "metadata": {
  "kernel_info": {
   "name": "python3"
  },
  "kernelspec": {
   "display_name": "republic3.9",
   "language": "python",
   "name": "republic3.9"
  },
  "language_info": {
   "codemirror_mode": {
    "name": "ipython",
    "version": 3
   },
   "file_extension": ".py",
   "mimetype": "text/x-python",
   "name": "python",
   "nbconvert_exporter": "python",
   "pygments_lexer": "ipython3",
   "version": "3.9.10"
  },
  "nteract": {
   "version": "0.15.0"
  },
  "toc": {
   "base_numbering": 1,
   "nav_menu": {},
   "number_sections": true,
   "sideBar": true,
   "skip_h1_title": false,
   "title_cell": "Table of Contents",
   "title_sidebar": "Contents",
   "toc_cell": false,
   "toc_position": {},
   "toc_section_display": true,
   "toc_window_display": false
  },
  "toc-autonumbering": true,
  "toc-showcode": true,
  "toc-showmarkdowntxt": true
 },
 "nbformat": 4,
 "nbformat_minor": 4
}
