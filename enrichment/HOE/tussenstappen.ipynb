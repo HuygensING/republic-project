{
 "cells": [
  {
   "cell_type": "markdown",
   "metadata": {},
   "source": [
    "Tussenstap: nieuwe labels aanmaken"
   ]
  },
  {
   "cell_type": "code",
   "execution_count": null,
   "metadata": {},
   "outputs": [],
   "source": [
    "gerwel = []\n",
    "df_unmatched['lowertag'] = df_unmatched['lowertag'].str.strip()\n",
    "\n",
    "\n",
    "with open(\"gerwel.py\", \"r\") as file:\n",
    "    for line in file:\n",
    "        gerwel.append(line.strip())\n",
    "\n",
    "print(gerwel)\n",
    "gerwel_set = set(gerwel)\n",
    "\n",
    "#Deze zijn volgens Ger WEL een hoedanigheid\n",
    "df_ger_unmatched = df_unmatched[df_unmatched['lowertag'].isin(gerwel_set)]\n",
    "len(df_ger_unmatched)"
   ]
  },
  {
   "cell_type": "code",
   "execution_count": null,
   "metadata": {},
   "outputs": [],
   "source": [
    "df_unmatched.to_csv('df_ger_unmatched.tsv', sep='\\t')\n",
    "df_unmatched_q = df_unmatched[~df_unmatched['lowertag'].isin(gerwel_set)] \n",
    "df_unmatched_q.to_csv('ger_checken.tsv', sep='\\t')#Dit zijn de twijfelgevallen\n",
    "len(df_unmatched_q) "
   ]
  },
  {
   "cell_type": "code",
   "execution_count": null,
   "metadata": {},
   "outputs": [],
   "source": [
    "# Als Ger heeft gezegd dat het geen hoedanigheid is, drop it. \n",
    "gerniet = []\n",
    "df_unmatched['lowertag'] = df_unmatched['lowertag'].str.strip()\n",
    "\n",
    "with open(\"gerniet.py\", \"r\") as file:\n",
    "    for line in file:\n",
    "        gerniet.append(line.strip())\n",
    "\n",
    "print(gerniet)\n",
    "gerniet_set = set(gerniet)\n",
    "\n",
    "df_unmatched['delete'] = df_unmatched.apply(lambda row: 'x' if row['lowertag'] in gerniet_set else row['delete'], axis=1)\n",
    "df.update(df_unmatched)\n",
    "df_delete = df[df['delete'] == 'x']\n",
    "df_zonder_delete = df[~(df['delete'] == 'x')]\n",
    "df_matched = df_zonder_delete[df_zonder_delete[['anno_name1', 'anno_name2', 'anno_name3', 'anno_name4']].notna().any(axis=1)]\n",
    "df_unmatched = df_zonder_delete[df_zonder_delete[anno_columns].isna().all(axis=1) & ~df['delete'].astype(str).eq('x')]\n",
    "df_unmatched = df_unmatched.drop(common_indices)\n",
    "len(df_unmatched)\n"
   ]
  },
  {
   "cell_type": "markdown",
   "metadata": {},
   "source": [
    "lijst ter organisatie"
   ]
  },
  {
   "cell_type": "code",
   "execution_count": null,
   "metadata": {},
   "outputs": [],
   "source": [
    "import pandas as pd\n",
    "\n",
    "# Group df_matched by 'anno_name1' (Hoedanigheid) and find the top three 'tag' values with the highest corresponding 'aantal'\n",
    "top_tags = df_matched.groupby('anno_name1').apply(lambda x: x.nlargest(3, 'aantal')).reset_index(drop=True)\n",
    "\n",
    "# Merge the top three 'tag' values back into df_grouped based on the 'Hoedanigheid' column\n",
    "enriched_df_grouped = pd.merge(df_grouped, top_tags.groupby('anno_name1')['tag'].apply(lambda x: ';'.join([f'\"{tag}\"' for tag in x])).reset_index(), how='left', left_on='Hoedanigheid', right_on='anno_name1')\n",
    "\n",
    "# Rename the merged column to 'tags' and drop the redundant 'anno_name1' column\n",
    "enriched_df_grouped = enriched_df_grouped.rename(columns={'tag': 'tags'}).drop(columns='anno_name1')\n",
    "\n",
    "# Print the enriched DataFrame\n",
    "enriched_df_grouped.head(100)"
   ]
  },
  {
   "cell_type": "code",
   "execution_count": null,
   "metadata": {},
   "outputs": [],
   "source": [
    "# Rename the \"Pattern\" column to \"Patterns\"\n",
    "enriched_df_grouped = enriched_df_grouped.rename(columns={'Pattern': 'Patterns'})\n",
    "enriched_df_grouped = enriched_df_grouped.rename(columns={'Categorie': 'Categorie GD'})\n",
    "enriched_df_grouped = enriched_df_grouped.rename(columns={'Dictionary': 'Categorie NG'})\n",
    "\n",
    "# Drop the first column\n",
    "enriched_df_grouped = enriched_df_grouped.drop(columns=enriched_df_grouped.columns[0])\n",
    "\n",
    "# Reorganize columns\n",
    "enriched_df_grouped = enriched_df_grouped[['Hoedanigheid', 'Categorie GD', 'Level_2', 'Categorie NG', 'Patterns', 'tags']]\n",
    "\n",
    "# Print the updated DataFrame\n",
    "print(enriched_df_grouped)\n"
   ]
  },
  {
   "cell_type": "code",
   "execution_count": null,
   "metadata": {},
   "outputs": [],
   "source": [
    "enriched_df_grouped['Categorie GD'] = enriched_df_grouped['Categorie GD'].apply(lambda x: ', '.join(sorted(set(str(x).split(', ')) - {''})))\n",
    "enriched_df_grouped.to_csv('HOED_cats.tsv', sep='\\t')"
   ]
  },
  {
   "cell_type": "code",
   "execution_count": null,
   "metadata": {},
   "outputs": [],
   "source": [
    "hoedanigheden = new_df['anno_name1'].unique().tolist()\n",
    "len(hoedanigheden)"
   ]
  },
  {
   "cell_type": "code",
   "execution_count": null,
   "metadata": {},
   "outputs": [],
   "source": [
    "import pickle\n",
    "\n",
    "# Assuming hoedanigheden is your list\n",
    "\n",
    "# Define the file name for the pickle file\n",
    "pickle_file = \"hoedanigheden.pkl\"\n",
    "\n",
    "# Dump the list into the pickle file\n",
    "with open(pickle_file, \"wb\") as f:\n",
    "    pickle.dump(hoedanigheden, f)\n",
    "\n",
    "print(f\"List 'hoedanigheden' has been dumped into '{pickle_file}' successfully.\")\n"
   ]
  }
 ],
 "metadata": {
  "kernelspec": {
   "display_name": "Python 3 (ipykernel)",
   "language": "python",
   "name": "python3"
  },
  "language_info": {
   "codemirror_mode": {
    "name": "ipython",
    "version": 3
   },
   "file_extension": ".py",
   "mimetype": "text/x-python",
   "name": "python",
   "nbconvert_exporter": "python",
   "pygments_lexer": "ipython3",
   "version": "3.10.12"
  }
 },
 "nbformat": 4,
 "nbformat_minor": 4
}
