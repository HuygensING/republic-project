{
 "cells": [
  {
   "cell_type": "code",
   "execution_count": 1,
   "id": "e498001d",
   "metadata": {
    "tags": []
   },
   "outputs": [
    {
     "name": "stdout",
     "output_type": "stream",
     "text": [
      "adding project dir to path: /Users/marijnkoolen/Code/Huygens/republic-project\n"
     ]
    }
   ],
   "source": [
    "# This reload library is just used for developing the REPUBLIC hOCR parser \n",
    "# and can be removed once this module is stable.\n",
    "%reload_ext autoreload\n",
    "%autoreload 2\n",
    "\n",
    "\n",
    "# This is needed to add the repo dir to the path so jupyter\n",
    "# can load the republic modules directly from the notebooks\n",
    "import os\n",
    "import sys\n",
    "repo_name = 'republic-project'\n",
    "repo_dir = os.path.split(os.getcwd())[0].split(repo_name)[0] + repo_name\n",
    "print(\"adding project dir to path:\", repo_dir)\n",
    "if repo_dir not in sys.path:\n",
    "    sys.path = [repo_dir] + sys.path\n",
    "else:\n",
    "    sys.path.remove(repo_dir)\n",
    "    sys.path = [repo_dir] + sys.path\n",
    "    \n"
   ]
  },
  {
   "cell_type": "code",
   "execution_count": null,
   "id": "6c553e04-bc99-4153-bf22-ed5a066dde31",
   "metadata": {
    "tags": []
   },
   "outputs": [],
   "source": []
  },
  {
   "cell_type": "code",
   "execution_count": 2,
   "id": "21e41118",
   "metadata": {
    "tags": []
   },
   "outputs": [
    {
     "name": "stdout",
     "output_type": "stream",
     "text": [
      "2023-06-16 18:24:05,804 SequenceTagger predicts: Dictionary with 35 tags: O, S-HOE, B-HOE, E-HOE, I-HOE, S-LOC, B-LOC, E-LOC, I-LOC, S-PER, B-PER, E-PER, I-PER, S-ORG, B-ORG, E-ORG, I-ORG, S-DAT, B-DAT, E-DAT, I-DAT, S-RES, B-RES, E-RES, I-RES, S-COM, B-COM, E-COM, I-COM, S-NAM, B-NAM, E-NAM, I-NAM, <START>, <STOP>\n"
     ]
    }
   ],
   "source": [
    "from flair.models import SequenceTagger\n",
    "\n",
    "flair_dir = f'{repo_dir}/data/embeddings/flair_embeddings/'\n",
    "\n",
    "# load the model you trained\n",
    "model_dir = '../../data/embeddings/flair_embeddings/resources/taggers/ner-tbd-DAT-train_1.0-without_flair-mini_batch_size_8/'\n",
    "train_size = 1.0\n",
    "layer_name = 'DAT'\n",
    "use_flair = True\n",
    "with_flair = 'with_flair' if use_flair else 'without_flair'\n",
    "\n",
    "model = {}\n",
    "\n",
    "layers = ['DAT', 'HOE', 'LOC', 'ORG', 'COM', 'PER', 'RES', 'NAM']\n",
    "\n",
    "for layer_name in ['single_layer']:\n",
    "    model_dir = f'{flair_dir}/resources/taggers/ner-tbd-{layer_name}-train_{train_size}-{with_flair}-mini_batch_size_8'\n",
    "\n",
    "    model[layer_name] = SequenceTagger.load(f'{model_dir}/final-model.pt')\n",
    "\n"
   ]
  },
  {
   "cell_type": "code",
   "execution_count": 3,
   "id": "ab5ed31c",
   "metadata": {
    "tags": []
   },
   "outputs": [],
   "source": [
    "from IPython.display import HTML as html_print\n"
   ]
  },
  {
   "cell_type": "code",
   "execution_count": 44,
   "id": "cf261d31",
   "metadata": {
    "tags": []
   },
   "outputs": [
    {
     "name": "stdout",
     "output_type": "stream",
     "text": [
      "single_layer 163\n"
     ]
    }
   ],
   "source": [
    "from collections import defaultdict\n",
    "\n",
    "import republic.tag.entities as ent_tag\n",
    "\n",
    "docs = defaultdict(list)\n",
    "\n",
    "for layer in model:\n",
    "    layer_test_file = ent_tag.get_layer_test_file(layer, repo_dir)\n",
    "    docs[layer] = [doc for doc in ent_tag.read_test_file(layer_test_file)]\n",
    "    print(layer, len(docs[layer]))"
   ]
  },
  {
   "cell_type": "code",
   "execution_count": 5,
   "id": "d2b75898",
   "metadata": {
    "tags": []
   },
   "outputs": [
    {
     "data": {
      "text/html": [
       "<h2>Tagger</h2><p>ONtfangen een Missive van den <font color='red'>Lieutetenant Collonel</font> <font color='SlateBlue'>L . Deyts ,</font> <font color='red'>Commandeur van</font> <font color='green'>Viissingen</font> , geschreven te <font color='green'>Yperen</font> den <font color='blue'>eersten deeser loopende maand</font> , daar by zaan haar Hoog Mogende kennisse . geevende dat , in gevolge het verlof geobtineert van <font color='red'>sijn Doorlugtige Hoogheid</font> om sig uit sijn <font color='red'>Commandement van</font> <font color='green'>Vlissingen</font> te moogen absenteeren na <font color='green'>Yperen</font> in sijn Guarnisoen , als <font color='red'>Lieutenant Collonel by het eerste Battaillon van den</font> <font color='red'>Lieutenant Generaal</font> <font color='SlateBlue'>de Braauw</font> , hy te <font color='green'>Yperen</font> voornoemd was aangekoomen , en dat hy by absentie van den <font color='red'>Commandeur</font> <font color='SlateBlue'>de Casembroot</font> , sig aldaar den oudsten in rang bevindende , het commando van den <font color='red'>Major Beek</font> op hem genoomen hadde . WAAR op geen resolutie is gevallen .</p>\n",
       "\n",
       "<h2>Manual</h2><p>ONtfangen een Missive van den <font color='red'>Lieutetenant Collonel</font> <font color='SlateBlue'>L . Deyts ,</font> <font color='red'>Commandeur van</font> <font color='green'>Viissingen</font> , geschreven te <font color='green'>Yperen</font> den <font color='blue'>eersten deeser loopende maand</font> , daar by zaan haar Hoog Mogende kennisse . geevende dat , in gevolge het verlof geobtineert van <font color='red'>sijn Doorlugtige Hoogheid</font> om sig uit sijn <font color='red'>Commandement van</font> <font color='green'>Vlissingen</font> te moogen absenteeren na <font color='green'>Yperen</font> in sijn Guarnisoen , als <font color='red'>Lieutenant Collonel by het eerste Battaillon van den</font> <font color='red'>Lieutenant Generaal</font> <font color='SlateBlue'>de Braauw</font> , hy te <font color='green'>Yperen</font> voornoemd was aangekoomen , en dat hy by absentie van den <font color='red'>Commandeur</font> <font color='SlateBlue'>de Casembroot</font> , sig aldaar den oudsten in rang bevindende , het commando van den <font color='red'>Major Beek</font> op hem genoomen hadde . WAAR op geen resolutie is gevallen .</p>\n",
       "\n",
       "<h2>Tagger</h2><p> ONtfangen een Missive van den <font color='red'>Capitein</font> <font color='SlateBlue'>van Kinsbergen</font> , geschreven aan Boord van <font color='Orange'>' s Lands Fregat Argo</font> den <font color='blue'>27 der voorleeden maand</font> , leggende te <font color='green'>Mallaga</font> , geaddresseert aan den <font color='red'>Griffier</font> <font color='SlateBlue'>Fagel</font> , houdende , dat ten tyde dat met de Commissie van <font color='red'>haar Hoog Mog . den Reiser van</font> <font color='green'>Marocco</font> was gechargeert , aan sijne <font color='red'>Heeren en Meesters</font> rapport gedaan hadde , dat alsoo hem onbewust was , op wat voet het Huis van den <font color='red'>geweesen</font> <font color='red'>Consul</font> <font color='SlateBlue'>Rossignol</font> by haar Hoog Mog wierd geconsidereert , hy den <font color='red'>Consul</font> <font color='SlateBlue'>Blount</font> hadde gelast , om de Vlag van gemelde Huis soo lang te laten waayen , tot hy daar omtrent nadere ordre van haar Hoog Mog . soude hebben bekoomen . Dat gemelde <font color='red'>Consul</font> door een Brief van den <font color='blue'>30 Maart</font> hem kennisse hadde gegeeven , dat hy tot nog toe geene nadere ordres van haar Hoog Mog . dienaangaande ontfangen hadde , en dat bevreest was dat den Reiser dat Huis soude eigenen : maakende als na gewoonte pretensie op den armen <font color='red'>geweesenen</font> <font color='red'>Consul</font> <font color='SlateBlue'>Rossignol</font> , bevorens hy hem uit sijn Land wilde laten gaan . WAAR op gedelibereert zynde , hebben de <font color='purple'>Heeren Gedeputeerden van de Provincie van Holland en Westvriesland</font> de voorschreve Missive Copielyk overgenoomen , om in den haaren breeder gecommuniceert te worden .</p>\n",
       "\n",
       "<h2>Manual</h2><p> ONtfangen een Missive van den <font color='red'>Capitein</font> <font color='SlateBlue'>van Kinsbergen</font> , geschreven aan Boord van <font color='Orange'>' s Lands Fregat Argo</font> den <font color='blue'>27 der voorleeden maand</font> , leggende te <font color='green'>Mallaga</font> , geaddresseert aan den <font color='red'>Griffier</font> <font color='SlateBlue'>Fagel</font> , houdende , dat ten tyde dat met de Commissie van <font color='red'>haar Hoog Mog . den Reiser van</font> <font color='green'>Marocco</font> was gechargeert , aan sijne <font color='red'>Heeren en Meesters</font> rapport gedaan hadde , dat alsoo hem onbewust was , op wat voet het Huis van den <font color='red'>geweesen</font> <font color='red'>Consul</font> <font color='SlateBlue'>Rossignol</font> by haar Hoog Mog wierd geconsidereert , hy den <font color='red'>Consul</font> <font color='SlateBlue'>Blount</font> hadde gelast , om de Vlag van gemelde Huis soo lang te laten waayen , tot hy daar omtrent nadere ordre van haar Hoog Mog . soude hebben bekoomen . Dat gemelde <font color='red'>Consul</font> door een Brief van den <font color='blue'>30 Maart</font> hem kennisse hadde gegeeven , dat hy tot nog toe geene nadere ordres van haar Hoog Mog . dienaangaande ontfangen hadde , en dat bevreest was dat den Reiser dat Huis soude eigenen : maakende als na gewoonte pretensie op den armen <font color='red'>geweesenen</font> <font color='red'>Consul</font> <font color='SlateBlue'>Rossignol</font> , bevorens hy hem uit sijn Land wilde laten gaan . WAAR op gedelibereert zynde , hebben de <font color='purple'>Heeren Gedeputeerden van de Provincie van Holland en Westvriesland</font> de voorschreve Missive Copielyk overgenoomen , om in den haaren breeder gecommuniceert te worden .</p>\n",
       "\n",
       "<h2>Tagger</h2><p> ONtfangen twee Missiven van den <font color='SlateBlue'>Heere Boreel ,</font> <font color='red'>haar Hoogh Mogende extraordinaris Ambassadeur aan het</font> <font color='purple'>Hof van</font> <font color='red'>sijne Majesteyt den Koningh van</font> <font color='green'>Groot-Brittannien</font> , geschreeven te <font color='green'>Londen</font> den <font color='blue'>eersten en vierden deeser loopende maand</font> , houdende advertentie . WAAR op geen resolutie is gevallen .</p>\n",
       "\n",
       "<h2>Manual</h2><p> ONtfangen twee Missiven van den <font color='SlateBlue'>Heere Boreel ,</font> <font color='red'>haar Hoogh Mogende extraordinaris Ambassadeur aan het</font> <font color='purple'>Hof van</font> <font color='red'>sijne Majesteyt den Koningh van</font> <font color='green'>Groot-Brittannien</font> , geschreeven te <font color='green'>Londen</font> den <font color='blue'>eersten en vierden deeser loopende maand</font> , houdende advertentie . WAAR op geen resolutie is gevallen .</p>\n",
       "\n",
       "<h2>Tagger</h2><p> Ontfangen een Missive van de <font color='purple'>Neder-Rhijnsche West-Phaelsche Creyts - Vergaderingh tot</font> <font color='green'>Keulen</font> , geschreven tot <font color='green'>Keulen</font> den <font color='blue'>elfden der voorlede maendt Mey</font> , houdende , dat de <font color='red'>Gedeputeerden van den</font> <font color='red'>Heere Grave van</font> <font color='green'>Reckheym</font> als een notoire mede-Staet van de <font color='green'>Neder-Rhijnsche West-Phaelsche Creyts</font> , aen haer by de tegenwoordige Creyts-Vergaderingh wederom klagende hadde te kennen gegeven , in wat voegen verscheyde <font color='red'>Burgers en Ingezetenen der</font> <font color='green'>Stadt Maestricht</font> , dewelcke in het <font color='green'>Graefschap Reckheym</font> veel aensienlijcke erf - goederen notoiclijck besaten , ende vervolgens schuldigh waren , daer van oock , gelijck andere Conforenses . in ' s Landts ordinaris en extraordinaris lasten , van rechtswegen te contribueren , sigh pretenselijck onderston den , sonder de geringhste wettige oorsaeck , daer van op eygener authoriteyt te bevryden ; versoeckende dat haer Hoogh Mogende geliefden aen <font color='purple'>Burgermeesteren ende Raedt der</font> <font color='green'>Stadt Maestricht</font> , serieuselijck te beveelen , datse meergemelde hare Maestrightsche Burgers aenstonts tot werckelijcke voldoeninge van hare schuldigheyt , soo ordinaris als extraordinaris , gelijck als sy de selve in haer Hoogh Mogende eygen ende andere nabuyrige Territorien werckelijck ende willigh droegen , tam de praterito quam prasenti & profuturo , onaengesien het van haer misschien voorwende , maer by gemelde <font color='green'>Creyts</font> noyt plaets vindende particulier Contract , effective souden hebben aen te houden , ten eynde niet nodigh mochte wesen van wegens de gesamentlijcke <font color='green'>Creyts</font> , selfs tegens soodanige nalatige Contribuanten , conform de <font color='green'>Rijcks - en Creyts-Ordonnantien</font> sonder verder uytstel met de executie te procederen . Waer op gedelibereert zynde , is goetgevonden ende verstaen , dat Copie van de voorschreve Missive gestelt sal werden in handen van de <font color='red'>Heeren haer Hoogh Mogende Commissarissen Deciseurs</font> , die eerstdaeghs sullen gaen naer <font color='green'>Maestright</font> , om haer op de gelegentheyt van de saecke te informeren , en der selver bericht en advis daer op aen haer Hoogh Mogende te laten toekomen .</p>\n",
       "\n",
       "<h2>Manual</h2><p> Ontfangen een Missive van de <font color='purple'>Neder-Rhijnsche West-Phaelsche Creyts - Vergaderingh tot</font> <font color='green'>Keulen</font> , geschreven tot <font color='green'>Keulen</font> den <font color='blue'>elfden der voorlede maendt Mey</font> , houdende , dat de <font color='red'>Gedeputeerden van den</font> <font color='red'>Heere Grave van</font> <font color='green'>Reckheym</font> als een notoire mede-Staet van de <font color='green'>Neder-Rhijnsche West-Phaelsche Creyts</font> , aen haer by de tegenwoordige Creyts-Vergaderingh wederom klagende hadde te kennen gegeven , in wat voegen verscheyde <font color='red'>Burgers en Ingezetenen der</font> <font color='green'>Stadt Maestricht</font> , dewelcke in het <font color='green'>Graefschap Reckheym</font> veel aensienlijcke erf - goederen notoiclijck besaten , ende vervolgens schuldigh waren , daer van oock , gelijck andere Conforenses . in ' s Landts ordinaris en extraordinaris lasten , van rechtswegen te contribueren , sigh pretenselijck onderston den , sonder de geringhste wettige oorsaeck , daer van op eygener authoriteyt te bevryden ; versoeckende dat haer Hoogh Mogende geliefden aen <font color='purple'>Burgermeesteren ende Raedt der</font> <font color='green'>Stadt Maestricht</font> , serieuselijck te beveelen , datse meergemelde hare Maestrightsche Burgers aenstonts tot werckelijcke voldoeninge van hare schuldigheyt , soo ordinaris als extraordinaris , gelijck als sy de selve in haer Hoogh Mogende eygen ende andere nabuyrige Territorien werckelijck ende willigh droegen , tam de praterito quam prasenti & profuturo , onaengesien het van haer misschien voorwende , maer by gemelde <font color='green'>Creyts</font> noyt plaets vindende particulier Contract , effective souden hebben aen te houden , ten eynde niet nodigh mochte wesen van wegens de gesamentlijcke <font color='green'>Creyts</font> , selfs tegens soodanige nalatige Contribuanten , conform de <font color='green'>Rijcks - en Creyts-Ordonnantien</font> sonder verder uytstel met de executie te procederen . Waer op gedelibereert zynde , is goetgevonden ende verstaen , dat Copie van de voorschreve Missive gestelt sal werden in handen van de <font color='red'>Heeren haer Hoogh Mogende Commissarissen Deciseurs</font> , die eerstdaeghs sullen gaen naer <font color='green'>Maestright</font> , om haer op de gelegentheyt van de saecke te informeren , en der selver bericht en advis daer op aen haer Hoogh Mogende te laten toekomen .</p>"
      ],
      "text/plain": [
       "<IPython.core.display.HTML object>"
      ]
     },
     "execution_count": 5,
     "metadata": {},
     "output_type": "execute_result"
    }
   ],
   "source": [
    "\n",
    "LAYER_COLOR = {\n",
    "    'DAT': 'blue',\n",
    "    'HOE': 'red',\n",
    "    'LOC': 'green',\n",
    "    'ORG': 'purple',\n",
    "    'PER': 'SlateBlue',\n",
    "    'RES': 'DodgerBlue',\n",
    "    'COM': 'MediumSeaGreen',\n",
    "    'NAM': 'Orange'\n",
    "}\n",
    "\n",
    "\n",
    "\n",
    "layer_name = 'single_layer'\n",
    "texts = []\n",
    "\n",
    "for di in range(len(docs[layer_name])):\n",
    "    doc = docs[layer][di]\n",
    "    sentence = Sentence(doc['text'])\n",
    "    model[layer].predict(sentence)\n",
    "    tagged_position = get_tagged_positions(sentence)\n",
    "    #print('\\nTAGGED_POSITION:', tagged_position, '\\n')\n",
    "    #print('\\nTAG_POSITION:', doc['tag_position'], '\\n')\n",
    "    text = highlight_tagged_text(sentence)\n",
    "    texts.append('<h2>Tagger</h2>' + text)\n",
    "    #print('TAGGED:', text)\n",
    "    text = highlight_tagged_text(sentence)\n",
    "    #print('TAG:', text)\n",
    "    texts.append('<h2>Manual</h2>' + text)\n",
    "    if di > 2:\n",
    "        break\n",
    "    \n",
    "html_print('\\n\\n'.join(texts))"
   ]
  },
  {
   "cell_type": "code",
   "execution_count": 7,
   "id": "7daf8cd4",
   "metadata": {
    "tags": []
   },
   "outputs": [
    {
     "data": {
      "text/html": [
       "<p>Na maanden om de hete brij heen draaien heeft <font color='SlateBlue'>Joe Biden</font> officieel bekendgemaakt wat iedereen al had verwacht: hij gaat op voor een tweede termijn als <font color='red'>president</font>.</p>\n",
       "\n",
       "<p>Net als in 2020 zet <font color='SlateBlue'>Biden</font> zichzelf neer als de beste kandidaat die het kan opnemen tegen de <font color='purple'>beweging van</font> <font color='SlateBlue'>Donald Trump</font>, die hij omschrijft als <font color='red'>extremisten</font> die verworven vrijheden willen afpakken van de gewone <font color='red'>Amerikaan</font>.</p>\n",
       "\n",
       "<p><font color='SlateBlue'>Als</font> <font color='SlateBlue'>Donald Trump de</font> <font color='red'>Republikeinse presidentskandidaat</font> wordt, kan de race om het Witte Huis volgend jaar zomaar een revanchewedstrijd worden. Maar de kiezer is minder enthousiast over dit déjà vu-scenario. In een nieuwe peiling van NBC News zegt 70 procent dat <font color='SlateBlue'>Biden</font> zich niet opnieuw verkiesbaar moet stellen (de peiling werd gehouden voor de officiële bekendmaking) en 60 procent vindt dat <font color='SlateBlue'>Trump</font> niet nog een keer <font color='red'>presidentskandidaat</font> moet zijn. Dit betekent niet dat de kiezer niet op hen zou stemmen, maar de metaalmoeheid neemt toe.</p>"
      ],
      "text/plain": [
       "<IPython.core.display.HTML object>"
      ]
     },
     "execution_count": 7,
     "metadata": {},
     "output_type": "execute_result"
    }
   ],
   "source": [
    "# source: https://nos.nl/artikel/2472853-weer-biden-tegen-trump-voor-de-amerikanen-hoeft-dat-niet-zo\n",
    "raw_texts = [\n",
    "    \"\"\"Na maanden om de hete brij heen draaien heeft Joe Biden officieel bekendgemaakt wat iedereen al had verwacht: hij gaat op voor een tweede termijn als president.\"\"\",\n",
    "    \"\"\"Net als in 2020 zet Biden zichzelf neer als de beste kandidaat die het kan opnemen tegen de beweging van Donald Trump, die hij omschrijft als extremisten die verworven vrijheden willen afpakken van de gewone Amerikaan.\"\"\",\n",
    "    \"\"\"Als Donald Trump de Republikeinse presidentskandidaat wordt, kan de race om het Witte Huis volgend jaar zomaar een revanchewedstrijd worden. Maar de kiezer is minder enthousiast over dit déjà vu-scenario. In een nieuwe peiling van NBC News zegt 70 procent dat Biden zich niet opnieuw verkiesbaar moet stellen (de peiling werd gehouden voor de officiële bekendmaking) en 60 procent vindt dat Trump niet nog een keer presidentskandidaat moet zijn. Dit betekent niet dat de kiezer niet op hen zou stemmen, maar de metaalmoeheid neemt toe.\"\"\"\n",
    "]\n",
    "\n",
    "\n",
    "\n",
    "\n",
    "tagged_texts = []\n",
    "\n",
    "for text in raw_texts:\n",
    "    sentence = Sentence(text)\n",
    "    model[layer].predict(sentence)\n",
    "    tagged_position = get_tagged_positions(sentence)\n",
    "    text = highlight_tagged_text(sentence)\n",
    "    tagged_texts.append(text)\n",
    "    \n",
    "html_print('\\n\\n'.join(tagged_texts))\n"
   ]
  },
  {
   "cell_type": "code",
   "execution_count": 8,
   "id": "796b65b1",
   "metadata": {
    "tags": []
   },
   "outputs": [
    {
     "data": {
      "text/html": [
       "<p>Ik vond dit boek op een kamer van een <font color='red'>cliënt die ik verzorgde</font>, ik was geïntrigeerd over de titel en het liet me niet meer los. Daarom heb ik het boek tijdens mijn vakantie meegenomen. Tot nu toe heb ik daar geen spijt van gehad.</p>\n",
       "\n",
       "<p>Het is het dagboek van <font color='SlateBlue'>Hendrik Groen,</font> <font color='red'>Hendrik woont in een verzorgingshuis in</font> <font color='green'>Nederland</font>, hij heeft een paar ouderdomskwaaltjes waarover hij regelmatig een overleg heeft met zijn <font color='red'>huisarts en geriater</font>. Het leuke aan deze gesprekjes vond ik dat hij ze steeds op stang jaagt met de vraag om dé pil. Zonder dat hij er voorlopig gebruik van wil maken want er zijn nog genoeg leuke dingen in het leven volgens <font color='SlateBlue'>Hendrik.</font></p>\n",
       "\n",
       "<p>Hij besluit om het anders te gaan doen. Hij verzamelt een groepje medestanders en richt de club oud-maar-nog-niet-dood op. Samen organiseren ze om de beurt een uitje. Een kookworkshop, golfen, of naar een 3D film. Iets wat de <font color='red'>activiteitenbegeleiders van het huis</font> niet direct aan zouden denken. Maar ook iets wat de <font color='red'>kok en de directrice van het huis</font> niet echt kunnen waarderen maar omdat de reglementen niet openbaar worden gemaakt niet verboden kunnen worden.</p>"
      ],
      "text/plain": [
       "<IPython.core.display.HTML object>"
      ]
     },
     "execution_count": 8,
     "metadata": {},
     "output_type": "execute_result"
    }
   ],
   "source": [
    "raw_texts = [\n",
    "    \"\"\"Ik vond dit boek op een kamer van een cliënt die ik verzorgde, ik was geïntrigeerd over de titel en het liet me niet meer los. Daarom heb ik het boek tijdens mijn vakantie meegenomen. Tot nu toe heb ik daar geen spijt van gehad.\"\"\",\n",
    "    \"\"\"Het is het dagboek van Hendrik Groen, Hendrik woont in een verzorgingshuis in Nederland, hij heeft een paar ouderdomskwaaltjes waarover hij regelmatig een overleg heeft met zijn huisarts en geriater. Het leuke aan deze gesprekjes vond ik dat hij ze steeds op stang jaagt met de vraag om dé pil. Zonder dat hij er voorlopig gebruik van wil maken want er zijn nog genoeg leuke dingen in het leven volgens Hendrik.\"\"\",\n",
    "    \"\"\"Hij besluit om het anders te gaan doen. Hij verzamelt een groepje medestanders en richt de club oud-maar-nog-niet-dood op. Samen organiseren ze om de beurt een uitje. Een kookworkshop, golfen, of naar een 3D film. Iets wat de activiteitenbegeleiders van het huis niet direct aan zouden denken. Maar ook iets wat de kok en de directrice van het huis niet echt kunnen waarderen maar omdat de reglementen niet openbaar worden gemaakt niet verboden kunnen worden.\"\"\"\n",
    "]\n",
    "\n",
    "tagged_texts = []\n",
    "\n",
    "for text in raw_texts:\n",
    "    sentence = Sentence(text)\n",
    "    model[layer].predict(sentence)\n",
    "    tagged_position = get_tagged_positions(sentence)\n",
    "    text = highlight_tagged_text(sentence)\n",
    "    tagged_texts.append(text)\n",
    "    \n",
    "html_print('\\n\\n'.join(tagged_texts))\n"
   ]
  },
  {
   "cell_type": "code",
   "execution_count": 8,
   "id": "acf5b643",
   "metadata": {
    "tags": []
   },
   "outputs": [
    {
     "data": {
      "text/html": [
       "<p>Ontfangen een missive vanden <font color='red'>Commissaris</font> <font color='SlateBlue'>Johan reimst</font>, geschreven tot <font color='green'>Paris</font> den <font color='blue'>3e. deses</font> & daernevens drie bijlagen, houdende poincten van conlideratie, raeckende t' stuck vande marine; Waerop gedelibereert sijnde hebben d'Heeren van <font color='purple'>Hollandt</font> vande voors missive ende bijlagen versocht copie die haer E. wort geaccordeert om den haren breder gecommuniceert te worden, & sal oock aen d‛andere provincien des begerende gelijcke copie gegeven worden. o: <font color='red'>ordinaris ambassadeur in</font> <font color='green'>Engelandt</font> geschre ven tot <font color='green'>Londen</font> den <font color='blue'>tweeden deses</font> houdende advertentie, ende onder anderen eenige poincten van — consideratie. Waerop gedelibereert sijnde, hebben de Provincien daervan versocht copie om in den haren breder gecommuniceert te worden, die haer E wert geaccordeert.</p>"
      ],
      "text/plain": [
       "<IPython.core.display.HTML object>"
      ]
     },
     "execution_count": 8,
     "metadata": {},
     "output_type": "execute_result"
    }
   ],
   "source": [
    "text = \"\"\"Ontfangen een missive vanden Commissaris Johan reimst, geschreven tot Paris den 3e. deses & daernevens drie bijlagen, houdende poincten van conlideratie, raeckende t' stuck vande marine; Waerop gedelibereert sijnde hebben d'Heeren van Hollandt vande voors missive ende bijlagen versocht copie die haer E. wort geaccordeert om den haren breder gecommuniceert te worden, & sal oock aen d‛andere provincien des begerende gelijcke copie gegeven worden. o: ordinaris ambassadeur in Engelandt geschre ven tot Londen den tweeden deses houdende advertentie, ende onder anderen eenige poincten van — consideratie. Waerop gedelibereert sijnde, hebben de Provincien daervan versocht copie om in den haren breder gecommuniceert te worden, die haer E wert geaccordeert.\"\"\"\n",
    "\n",
    "#text = \"\"\"Ende sal mt gene voors: is bij aenschrijvinge aenden meerwelgem: heer Prince willen van Nassau bekent gemaeckt worden, met authorisatie, om bij soo verre de noot sulcx mochte comen te vereijfschen, de voors: Compagnie te peerde, ende te voet alle, off soodanigh getal van deselve, als hij sal oordeelen noodigh te hebben, bij sichte ontbieden, ende deselve provisionelijck te rengeren onder soodanige heeft-officieren, als sijn vorsel: Dooch:, ten meesten — dienste van den Lande geraden vinden zal. Des dat soo wanneer de voors: — tweede Lijste in 't gehtel bij nader deliberatie sal wesen gearresteert, deselve Compagnien wederm gerengeert ende gebruijckt sullen werden onder soodanige regemecten, ende hooft officieren, als ij deselve Lijste breeder sal wesen — geexpresseert. Ende wert den Raed van State versocht de officieren van de bovengeroerde Compagnien aen te schrijven, datse haer gereet sullen hebben te houden — om aenstonts opt ontfangen van de ordre van den meergem: heer prince willem te connen Marcheren, als mede soodanigen ordre te stellen ende die) voorsieninge doen, ten eijnde dat de voors: Compagnien tot de voors: — expeditie gebruijckt werdende in haer bandeliers met cruijt, loot, ende lonten, uijt de respective magasijnen behoorlijck voorsien mogen werden: — mitsgaders de officieren te voet aente schrijven, datse hare Compagnien hebben te formeren in twee deelen musquettiers, en een deel piecken, ende in cas — deselve daer toe eenige wapenen van Nooden, ofte te verwisselen moesten — hebben, deselve onder hare recipissen te lichten uijt de respective magasijnen, mits dat deselve op haer wederkeeren behoorlijck werden gerestitueert, dat oock de crancke, ende mmipotente soldaten, ende die althans op Zee — geemploijeert mochten sijn, uijt de andere Compagnien in deselve guarnisoen „nen, ofte daerontrent gelegen werden verwisselt, ende geremplaceert. Des wert den voorn: Raed van State, oock wijders versocht, alle de officieren — alhier in den hage sijnde, achte doen seggen, datse haer naer hunne respective Guarnisoenen sullen hebben te begeven, oock de Gouverneurs ende Commandeurs te ordonneren, datse alle de absente officieren sullen hebben te beschrijven, om in hare respective Guarnisoenen te verschijnen, ende aldaer te — verblijven tot nader ordre. Ende sullen alle de voorn: Compagnien, voor soo veel sij sullen comen te ageren, naer de expeditie wederleeren in hunne respective guarnisoenen, daer sij uijt getrocken sijn, Eijntlijck is verstaen, dat aede Provincie van Stadt Groningen ende Ommelanden, gelijck oock — aen den Gouverneur van Wesel, ende Commandeurs van Lieroort, Bellinge, wolde, ende Langhackerschans, geschreven sal worden, dat deselve sigh exactelijck willen informeren, ende doen informeren, wat bij den Bisschep van Minister — ende sijne Troupes soude mogen aengevangen, ende ondernomen werden: — gevende daer van telckens spoedige advertentie aen haer Ho:Mo: mitsgas aen den meergem: heer Prince willen van Nassau, Wijders is verstaen, dat de voors: tweede Lijste, voor soo veel aengaet de resterende Compagnien — te peerde ende te voet, daerinne gementioneert, op dewelcke noch niet en is geresolveert, andermael gestelt sal werden in handen vande opgem: heeren hare Ho:Mo: Gedepe., ende Gecome uijt den Raed van State, op nader te visiteren, examineren, ende daer van rapport te doen. Ende sal van alle het gene voors: is Extract gesonden werden aenden meerwelgem: heer Prince Willem van Nassau, om te strecken tot sijne narichtnnge, met recommandatie, omme Lomme, ende daer het behoort conrespondentie te houden, ende doen houden, oock trachten soo veel mogelijck te vernemen, wat daecontrent omgaet, ende hare ho:Mo: van tijt tot tijt advertentie daervan geven. sullende alle de depesches hier uijt resulterende werden — geexpedieert\"\"\"\n",
    "\n",
    "tagged_text = tag_text(text, model)\n",
    "highlighted_text = highlight_tagged_text(tagged_text)\n",
    "\n",
    "html_print(highlighted_text)\n"
   ]
  },
  {
   "cell_type": "code",
   "execution_count": null,
   "id": "8e8f45ce",
   "metadata": {},
   "outputs": [],
   "source": []
  },
  {
   "cell_type": "markdown",
   "id": "6619cd3f-5a04-43c5-9f7f-9e1250f7eef0",
   "metadata": {},
   "source": [
    "## Entities and Formulas"
   ]
  },
  {
   "cell_type": "code",
   "execution_count": 9,
   "id": "a7451dbe",
   "metadata": {
    "tags": []
   },
   "outputs": [],
   "source": [
    "from republic.elastic.republic_elasticsearch import initialize_es\n",
    "\n",
    "rep_es = initialize_es()"
   ]
  },
  {
   "cell_type": "code",
   "execution_count": 9,
   "id": "a61c26ed",
   "metadata": {
    "tags": []
   },
   "outputs": [],
   "source": [
    "import re\n",
    "\n",
    "\n",
    "def separate_special_tags(text, special_tags):\n",
    "    for tag in special_tags:\n",
    "        text = text.replace(f'><{tag}', f'> <{tag}')\n",
    "        text = text.replace(f'{tag}><', f'{tag}> <')\n",
    "    return text\n",
    "\n",
    "\n",
    "def merge_tags(text):\n",
    "    special_tags = ['DAT', 'RES']\n",
    "    text = text.replace('> <', '><')\n",
    "    text = separate_special_tags(text, special_tags)\n",
    "    merged_text = text\n",
    "    replacements = []\n",
    "    for m in re.finditer(r'((<[A-Z]+>)+)', text):\n",
    "        tag_string = m.group(1)\n",
    "        if tag_string[1:-1] in special_tags:\n",
    "            merge_tag = tag_string\n",
    "        elif '<DAT>' in tag_string:\n",
    "            raise ValueError('Date merged with other tags:', tag_string)\n",
    "        elif '<COM>' in tag_string:\n",
    "            merge_tag = '<COM>'\n",
    "        elif tag_string.startswith('<HOE>'):\n",
    "            merge_tag = '<HOE>'\n",
    "        elif tag_string.startswith('<ORG>'):\n",
    "            merge_tag = '<ORG>'\n",
    "        elif tag_string.startswith('<LOC>'):\n",
    "            merge_tag = '<LOC>'\n",
    "        elif '<HOE>' in tag_string:\n",
    "            merge_tag = '<HOE>'\n",
    "        elif '<PER>' in tag_string:\n",
    "            merge_tag = '<PER>'\n",
    "        else:\n",
    "            print('UNEXPECTED TAG:', tag_string)\n",
    "        replacements.append((m.start(), tag_string, merge_tag))\n",
    "    for start, tag_string, merge_tag in replacements[::-1]:\n",
    "        end = start + len(tag_string)\n",
    "        merged_text = merged_text[:start] + merge_tag + merged_text[end:]\n",
    "    return merged_text\n",
    "\n"
   ]
  },
  {
   "cell_type": "code",
   "execution_count": null,
   "id": "23fc3bf8-c2e1-4b60-a1a6-d1792dec2918",
   "metadata": {},
   "outputs": [],
   "source": [
    "query = {}\n",
    "resolutions = rep_es.retrieve_resolutions_by_query(None, size=150)\n",
    "\n",
    "for resolution in resolutions:\n",
    "    res_text = '\\n'.join([para.text for para in resolution.paragraphs])\n",
    "    text = res_text\n",
    "    target_words = ['gedelibereerdt', 'gedelibereert', 'deliberatie']\n",
    "    if any([target_word in res_text for target_word in target_words]):\n",
    "        continue\n",
    "    if 'op geen resolutie is gevallen' in res_text.lower():\n",
    "        continue\n",
    "    #print(res_text)\n",
    "    sentence = Sentence(res_text)\n",
    "    model[layer].predict(sentence)\n",
    "    tagged_positions = get_tagged_positions(sentence)\n",
    "    for tagged_position in tagged_positions:\n",
    "        start, end = tagged_position\n",
    "        tag_type = tagged_positions[tagged_position]\n",
    "        #print(start, end, tag_type, text[start:end])\n",
    "        text = text[:start] + f'<{tag_type}>' + text[end:]\n",
    "        #print(text)\n",
    "        #print('\\n')\n",
    "    merged_text = merge_tags(text)\n",
    "    print(merged_text)\n",
    "    print('\\n\\n')\n"
   ]
  },
  {
   "cell_type": "code",
   "execution_count": 58,
   "id": "84165737",
   "metadata": {
    "scrolled": true,
    "tags": []
   },
   "outputs": [
    {
     "name": "stdout",
     "output_type": "stream",
     "text": [
      "total hits: {'value': 4150, 'relation': 'eq'} \thits per scroll: 10\n",
      "3771 1000 session-1716-05-16-ordinaris-num-1-attendance_list\n",
      "3771 2000 session-1716-05-11-ordinaris-num-1-resolution-7\n",
      "3771 3000 session-1716-05-22-ordinaris-num-1-resolution-25\n",
      "3771 4000 session-1716-01-10-ordinaris-num-1-resolution-5\n",
      "3771 4150 session-1716-12-28-ordinaris-num-1-resolution-15\n",
      "total hits: {'value': 4084, 'relation': 'eq'} \thits per scroll: 10\n",
      "3772 1000 session-1717-07-16-ordinaris-num-1-resolution-7\n",
      "3772 2000 session-1717-06-15-ordinaris-num-1-resolution-16\n",
      "3772 3000 session-1717-11-17-ordinaris-num-1-resolution-5\n",
      "3772 4000 session-1717-09-17-ordinaris-num-1-attendance_list\n",
      "3772 4084 session-1717-07-01-ordinaris-num-1-attendance_list\n",
      "total hits: {'value': 3862, 'relation': 'eq'} \thits per scroll: 10\n",
      "3773 1000 session-1718-03-31-ordinaris-num-1-resolution-1\n",
      "3773 2000 session-1718-09-13-ordinaris-num-1-attendance_list\n",
      "3773 3000 session-1718-03-24-ordinaris-num-1-resolution-10\n",
      "3773 3862 session-1718-07-25-ordinaris-num-1-resolution-5\n",
      "total hits: {'value': 3558, 'relation': 'eq'} \thits per scroll: 10\n",
      "3774 1000 session-1719-03-13-ordinaris-num-1-resolution-17\n",
      "3774 2000 session-1719-06-13-ordinaris-num-1-attendance_list\n",
      "3774 3000 session-1719-04-24-ordinaris-num-1-resolution-11\n",
      "3774 3558 session-1719-01-01-ordinaris-num-1-attendance_list\n",
      "total hits: {'value': 3109, 'relation': 'eq'} \thits per scroll: 10\n"
     ]
    },
    {
     "ename": "KeyboardInterrupt",
     "evalue": "",
     "output_type": "error",
     "traceback": [
      "\u001b[0;31m---------------------------------------------------------------------------\u001b[0m",
      "\u001b[0;31mKeyboardInterrupt\u001b[0m                         Traceback (most recent call last)",
      "Cell \u001b[0;32mIn[58], line 26\u001b[0m\n\u001b[1;32m     24\u001b[0m text \u001b[38;5;241m=\u001b[39m res_text\n\u001b[1;32m     25\u001b[0m sentence \u001b[38;5;241m=\u001b[39m Sentence(res_text)\n\u001b[0;32m---> 26\u001b[0m \u001b[43mmodel\u001b[49m\u001b[43m[\u001b[49m\u001b[43mlayer\u001b[49m\u001b[43m]\u001b[49m\u001b[38;5;241;43m.\u001b[39;49m\u001b[43mpredict\u001b[49m\u001b[43m(\u001b[49m\u001b[43msentence\u001b[49m\u001b[43m)\u001b[49m\n\u001b[1;32m     27\u001b[0m tagged_positions \u001b[38;5;241m=\u001b[39m get_tagged_positions(sentence)\n\u001b[1;32m     28\u001b[0m \u001b[38;5;28;01mfor\u001b[39;00m tagged_position \u001b[38;5;129;01min\u001b[39;00m tagged_positions:\n",
      "File \u001b[0;32m~/.local/share/virtualenvs/fuzzy-search-KYi4BGOl/lib/python3.10/site-packages/flair/models/sequence_tagger_model.py:483\u001b[0m, in \u001b[0;36mSequenceTagger.predict\u001b[0;34m(self, sentences, mini_batch_size, return_probabilities_for_all_classes, verbose, label_name, return_loss, embedding_storage_mode, force_token_predictions)\u001b[0m\n\u001b[1;32m    480\u001b[0m     \u001b[38;5;28;01mcontinue\u001b[39;00m\n\u001b[1;32m    482\u001b[0m \u001b[38;5;66;03m# get features from forward propagation\u001b[39;00m\n\u001b[0;32m--> 483\u001b[0m sentence_tensor, lengths \u001b[38;5;241m=\u001b[39m \u001b[38;5;28;43mself\u001b[39;49m\u001b[38;5;241;43m.\u001b[39;49m\u001b[43m_prepare_tensors\u001b[49m\u001b[43m(\u001b[49m\u001b[43mbatch\u001b[49m\u001b[43m)\u001b[49m\n\u001b[1;32m    484\u001b[0m features \u001b[38;5;241m=\u001b[39m \u001b[38;5;28mself\u001b[39m\u001b[38;5;241m.\u001b[39mforward(sentence_tensor, lengths)\n\u001b[1;32m    486\u001b[0m \u001b[38;5;66;03m# remove previously predicted labels of this type\u001b[39;00m\n",
      "File \u001b[0;32m~/.local/share/virtualenvs/fuzzy-search-KYi4BGOl/lib/python3.10/site-packages/flair/models/sequence_tagger_model.py:287\u001b[0m, in \u001b[0;36mSequenceTagger._prepare_tensors\u001b[0;34m(self, data_points)\u001b[0m\n\u001b[1;32m    285\u001b[0m \u001b[38;5;28;01melse\u001b[39;00m:\n\u001b[1;32m    286\u001b[0m     sentences \u001b[38;5;241m=\u001b[39m data_points\n\u001b[0;32m--> 287\u001b[0m \u001b[38;5;28;43mself\u001b[39;49m\u001b[38;5;241;43m.\u001b[39;49m\u001b[43membeddings\u001b[49m\u001b[38;5;241;43m.\u001b[39;49m\u001b[43membed\u001b[49m\u001b[43m(\u001b[49m\u001b[43msentences\u001b[49m\u001b[43m)\u001b[49m\n\u001b[1;32m    289\u001b[0m \u001b[38;5;66;03m# make a zero-padded tensor for the whole sentence\u001b[39;00m\n\u001b[1;32m    290\u001b[0m lengths, sentence_tensor \u001b[38;5;241m=\u001b[39m \u001b[38;5;28mself\u001b[39m\u001b[38;5;241m.\u001b[39m_make_padded_tensor_for_batch(sentences)\n",
      "File \u001b[0;32m~/.local/share/virtualenvs/fuzzy-search-KYi4BGOl/lib/python3.10/site-packages/flair/embeddings/token.py:101\u001b[0m, in \u001b[0;36mStackedEmbeddings.embed\u001b[0;34m(self, sentences, static_embeddings)\u001b[0m\n\u001b[1;32m     98\u001b[0m     sentences \u001b[38;5;241m=\u001b[39m [sentences]\n\u001b[1;32m    100\u001b[0m \u001b[38;5;28;01mfor\u001b[39;00m embedding \u001b[38;5;129;01min\u001b[39;00m \u001b[38;5;28mself\u001b[39m\u001b[38;5;241m.\u001b[39membeddings:\n\u001b[0;32m--> 101\u001b[0m     \u001b[43membedding\u001b[49m\u001b[38;5;241;43m.\u001b[39;49m\u001b[43membed\u001b[49m\u001b[43m(\u001b[49m\u001b[43msentences\u001b[49m\u001b[43m)\u001b[49m\n",
      "File \u001b[0;32m~/.local/share/virtualenvs/fuzzy-search-KYi4BGOl/lib/python3.10/site-packages/flair/embeddings/base.py:49\u001b[0m, in \u001b[0;36mEmbeddings.embed\u001b[0;34m(self, data_points)\u001b[0m\n\u001b[1;32m     46\u001b[0m     data_points \u001b[38;5;241m=\u001b[39m [data_points]\n\u001b[1;32m     48\u001b[0m \u001b[38;5;28;01mif\u001b[39;00m \u001b[38;5;129;01mnot\u001b[39;00m \u001b[38;5;28mself\u001b[39m\u001b[38;5;241m.\u001b[39m_everything_embedded(data_points):\n\u001b[0;32m---> 49\u001b[0m     \u001b[38;5;28;43mself\u001b[39;49m\u001b[38;5;241;43m.\u001b[39;49m\u001b[43m_add_embeddings_internal\u001b[49m\u001b[43m(\u001b[49m\u001b[43mdata_points\u001b[49m\u001b[43m)\u001b[49m\n\u001b[1;32m     51\u001b[0m \u001b[38;5;28;01mreturn\u001b[39;00m data_points\n",
      "File \u001b[0;32m~/.local/share/virtualenvs/fuzzy-search-KYi4BGOl/lib/python3.10/site-packages/flair/embeddings/transformer.py:662\u001b[0m, in \u001b[0;36mTransformerBaseEmbeddings._add_embeddings_internal\u001b[0;34m(self, sentences)\u001b[0m\n\u001b[1;32m    660\u001b[0m gradient_context \u001b[38;5;241m=\u001b[39m torch\u001b[38;5;241m.\u001b[39menable_grad() \u001b[38;5;28;01mif\u001b[39;00m (\u001b[38;5;28mself\u001b[39m\u001b[38;5;241m.\u001b[39mfine_tune \u001b[38;5;129;01mand\u001b[39;00m \u001b[38;5;28mself\u001b[39m\u001b[38;5;241m.\u001b[39mtraining) \u001b[38;5;28;01melse\u001b[39;00m torch\u001b[38;5;241m.\u001b[39mno_grad()\n\u001b[1;32m    661\u001b[0m \u001b[38;5;28;01mwith\u001b[39;00m gradient_context:\n\u001b[0;32m--> 662\u001b[0m     embeddings \u001b[38;5;241m=\u001b[39m \u001b[38;5;28;43mself\u001b[39;49m\u001b[38;5;241;43m.\u001b[39;49m\u001b[43m_forward_tensors\u001b[49m\u001b[43m(\u001b[49m\u001b[43mtensors\u001b[49m\u001b[43m)\u001b[49m\n\u001b[1;32m    664\u001b[0m \u001b[38;5;28;01mif\u001b[39;00m \u001b[38;5;28mself\u001b[39m\u001b[38;5;241m.\u001b[39mdocument_embedding:\n\u001b[1;32m    665\u001b[0m     document_embedding \u001b[38;5;241m=\u001b[39m embeddings[\u001b[38;5;124m\"\u001b[39m\u001b[38;5;124mdocument_embeddings\u001b[39m\u001b[38;5;124m\"\u001b[39m]\n",
      "File \u001b[0;32m~/.local/share/virtualenvs/fuzzy-search-KYi4BGOl/lib/python3.10/site-packages/flair/embeddings/transformer.py:1319\u001b[0m, in \u001b[0;36mTransformerEmbeddings._forward_tensors\u001b[0;34m(self, tensors)\u001b[0m\n\u001b[1;32m   1318\u001b[0m \u001b[38;5;28;01mdef\u001b[39;00m \u001b[38;5;21m_forward_tensors\u001b[39m(\u001b[38;5;28mself\u001b[39m, tensors) \u001b[38;5;241m-\u001b[39m\u001b[38;5;241m>\u001b[39m Dict[\u001b[38;5;28mstr\u001b[39m, torch\u001b[38;5;241m.\u001b[39mTensor]:\n\u001b[0;32m-> 1319\u001b[0m     \u001b[38;5;28;01mreturn\u001b[39;00m \u001b[38;5;28;43mself\u001b[39;49m\u001b[38;5;241;43m.\u001b[39;49m\u001b[43mforward\u001b[49m\u001b[43m(\u001b[49m\u001b[38;5;241;43m*\u001b[39;49m\u001b[38;5;241;43m*\u001b[39;49m\u001b[43mtensors\u001b[49m\u001b[43m)\u001b[49m\n",
      "File \u001b[0;32m~/.local/share/virtualenvs/fuzzy-search-KYi4BGOl/lib/python3.10/site-packages/flair/embeddings/transformer.py:1223\u001b[0m, in \u001b[0;36mTransformerEmbeddings.forward\u001b[0;34m(self, input_ids, sub_token_lengths, token_lengths, attention_mask, overflow_to_sample_mapping, word_ids, langs, bbox, pixel_values)\u001b[0m\n\u001b[1;32m   1221\u001b[0m \u001b[38;5;28;01mif\u001b[39;00m pixel_values \u001b[38;5;129;01mis\u001b[39;00m \u001b[38;5;129;01mnot\u001b[39;00m \u001b[38;5;28;01mNone\u001b[39;00m:\n\u001b[1;32m   1222\u001b[0m     model_kwargs[\u001b[38;5;124m\"\u001b[39m\u001b[38;5;124mpixel_values\u001b[39m\u001b[38;5;124m\"\u001b[39m] \u001b[38;5;241m=\u001b[39m pixel_values\n\u001b[0;32m-> 1223\u001b[0m hidden_states \u001b[38;5;241m=\u001b[39m \u001b[38;5;28;43mself\u001b[39;49m\u001b[38;5;241;43m.\u001b[39;49m\u001b[43mmodel\u001b[49m\u001b[43m(\u001b[49m\u001b[43minput_ids\u001b[49m\u001b[43m,\u001b[49m\u001b[43m \u001b[49m\u001b[38;5;241;43m*\u001b[39;49m\u001b[38;5;241;43m*\u001b[39;49m\u001b[43mmodel_kwargs\u001b[49m\u001b[43m)\u001b[49m[\u001b[38;5;241m-\u001b[39m\u001b[38;5;241m1\u001b[39m]\n\u001b[1;32m   1224\u001b[0m \u001b[38;5;66;03m# make the tuple a tensor; makes working with it easier.\u001b[39;00m\n\u001b[1;32m   1225\u001b[0m hidden_states \u001b[38;5;241m=\u001b[39m torch\u001b[38;5;241m.\u001b[39mstack(hidden_states)\n",
      "File \u001b[0;32m~/.local/share/virtualenvs/fuzzy-search-KYi4BGOl/lib/python3.10/site-packages/torch/nn/modules/module.py:1501\u001b[0m, in \u001b[0;36mModule._call_impl\u001b[0;34m(self, *args, **kwargs)\u001b[0m\n\u001b[1;32m   1496\u001b[0m \u001b[38;5;66;03m# If we don't have any hooks, we want to skip the rest of the logic in\u001b[39;00m\n\u001b[1;32m   1497\u001b[0m \u001b[38;5;66;03m# this function, and just call forward.\u001b[39;00m\n\u001b[1;32m   1498\u001b[0m \u001b[38;5;28;01mif\u001b[39;00m \u001b[38;5;129;01mnot\u001b[39;00m (\u001b[38;5;28mself\u001b[39m\u001b[38;5;241m.\u001b[39m_backward_hooks \u001b[38;5;129;01mor\u001b[39;00m \u001b[38;5;28mself\u001b[39m\u001b[38;5;241m.\u001b[39m_backward_pre_hooks \u001b[38;5;129;01mor\u001b[39;00m \u001b[38;5;28mself\u001b[39m\u001b[38;5;241m.\u001b[39m_forward_hooks \u001b[38;5;129;01mor\u001b[39;00m \u001b[38;5;28mself\u001b[39m\u001b[38;5;241m.\u001b[39m_forward_pre_hooks\n\u001b[1;32m   1499\u001b[0m         \u001b[38;5;129;01mor\u001b[39;00m _global_backward_pre_hooks \u001b[38;5;129;01mor\u001b[39;00m _global_backward_hooks\n\u001b[1;32m   1500\u001b[0m         \u001b[38;5;129;01mor\u001b[39;00m _global_forward_hooks \u001b[38;5;129;01mor\u001b[39;00m _global_forward_pre_hooks):\n\u001b[0;32m-> 1501\u001b[0m     \u001b[38;5;28;01mreturn\u001b[39;00m \u001b[43mforward_call\u001b[49m\u001b[43m(\u001b[49m\u001b[38;5;241;43m*\u001b[39;49m\u001b[43margs\u001b[49m\u001b[43m,\u001b[49m\u001b[43m \u001b[49m\u001b[38;5;241;43m*\u001b[39;49m\u001b[38;5;241;43m*\u001b[39;49m\u001b[43mkwargs\u001b[49m\u001b[43m)\u001b[49m\n\u001b[1;32m   1502\u001b[0m \u001b[38;5;66;03m# Do not call functions when jit is used\u001b[39;00m\n\u001b[1;32m   1503\u001b[0m full_backward_hooks, non_full_backward_hooks \u001b[38;5;241m=\u001b[39m [], []\n",
      "File \u001b[0;32m~/.local/share/virtualenvs/fuzzy-search-KYi4BGOl/lib/python3.10/site-packages/transformers/models/bert/modeling_bert.py:1020\u001b[0m, in \u001b[0;36mBertModel.forward\u001b[0;34m(self, input_ids, attention_mask, token_type_ids, position_ids, head_mask, inputs_embeds, encoder_hidden_states, encoder_attention_mask, past_key_values, use_cache, output_attentions, output_hidden_states, return_dict)\u001b[0m\n\u001b[1;32m   1011\u001b[0m head_mask \u001b[38;5;241m=\u001b[39m \u001b[38;5;28mself\u001b[39m\u001b[38;5;241m.\u001b[39mget_head_mask(head_mask, \u001b[38;5;28mself\u001b[39m\u001b[38;5;241m.\u001b[39mconfig\u001b[38;5;241m.\u001b[39mnum_hidden_layers)\n\u001b[1;32m   1013\u001b[0m embedding_output \u001b[38;5;241m=\u001b[39m \u001b[38;5;28mself\u001b[39m\u001b[38;5;241m.\u001b[39membeddings(\n\u001b[1;32m   1014\u001b[0m     input_ids\u001b[38;5;241m=\u001b[39minput_ids,\n\u001b[1;32m   1015\u001b[0m     position_ids\u001b[38;5;241m=\u001b[39mposition_ids,\n\u001b[0;32m   (...)\u001b[0m\n\u001b[1;32m   1018\u001b[0m     past_key_values_length\u001b[38;5;241m=\u001b[39mpast_key_values_length,\n\u001b[1;32m   1019\u001b[0m )\n\u001b[0;32m-> 1020\u001b[0m encoder_outputs \u001b[38;5;241m=\u001b[39m \u001b[38;5;28;43mself\u001b[39;49m\u001b[38;5;241;43m.\u001b[39;49m\u001b[43mencoder\u001b[49m\u001b[43m(\u001b[49m\n\u001b[1;32m   1021\u001b[0m \u001b[43m    \u001b[49m\u001b[43membedding_output\u001b[49m\u001b[43m,\u001b[49m\n\u001b[1;32m   1022\u001b[0m \u001b[43m    \u001b[49m\u001b[43mattention_mask\u001b[49m\u001b[38;5;241;43m=\u001b[39;49m\u001b[43mextended_attention_mask\u001b[49m\u001b[43m,\u001b[49m\n\u001b[1;32m   1023\u001b[0m \u001b[43m    \u001b[49m\u001b[43mhead_mask\u001b[49m\u001b[38;5;241;43m=\u001b[39;49m\u001b[43mhead_mask\u001b[49m\u001b[43m,\u001b[49m\n\u001b[1;32m   1024\u001b[0m \u001b[43m    \u001b[49m\u001b[43mencoder_hidden_states\u001b[49m\u001b[38;5;241;43m=\u001b[39;49m\u001b[43mencoder_hidden_states\u001b[49m\u001b[43m,\u001b[49m\n\u001b[1;32m   1025\u001b[0m \u001b[43m    \u001b[49m\u001b[43mencoder_attention_mask\u001b[49m\u001b[38;5;241;43m=\u001b[39;49m\u001b[43mencoder_extended_attention_mask\u001b[49m\u001b[43m,\u001b[49m\n\u001b[1;32m   1026\u001b[0m \u001b[43m    \u001b[49m\u001b[43mpast_key_values\u001b[49m\u001b[38;5;241;43m=\u001b[39;49m\u001b[43mpast_key_values\u001b[49m\u001b[43m,\u001b[49m\n\u001b[1;32m   1027\u001b[0m \u001b[43m    \u001b[49m\u001b[43muse_cache\u001b[49m\u001b[38;5;241;43m=\u001b[39;49m\u001b[43muse_cache\u001b[49m\u001b[43m,\u001b[49m\n\u001b[1;32m   1028\u001b[0m \u001b[43m    \u001b[49m\u001b[43moutput_attentions\u001b[49m\u001b[38;5;241;43m=\u001b[39;49m\u001b[43moutput_attentions\u001b[49m\u001b[43m,\u001b[49m\n\u001b[1;32m   1029\u001b[0m \u001b[43m    \u001b[49m\u001b[43moutput_hidden_states\u001b[49m\u001b[38;5;241;43m=\u001b[39;49m\u001b[43moutput_hidden_states\u001b[49m\u001b[43m,\u001b[49m\n\u001b[1;32m   1030\u001b[0m \u001b[43m    \u001b[49m\u001b[43mreturn_dict\u001b[49m\u001b[38;5;241;43m=\u001b[39;49m\u001b[43mreturn_dict\u001b[49m\u001b[43m,\u001b[49m\n\u001b[1;32m   1031\u001b[0m \u001b[43m\u001b[49m\u001b[43m)\u001b[49m\n\u001b[1;32m   1032\u001b[0m sequence_output \u001b[38;5;241m=\u001b[39m encoder_outputs[\u001b[38;5;241m0\u001b[39m]\n\u001b[1;32m   1033\u001b[0m pooled_output \u001b[38;5;241m=\u001b[39m \u001b[38;5;28mself\u001b[39m\u001b[38;5;241m.\u001b[39mpooler(sequence_output) \u001b[38;5;28;01mif\u001b[39;00m \u001b[38;5;28mself\u001b[39m\u001b[38;5;241m.\u001b[39mpooler \u001b[38;5;129;01mis\u001b[39;00m \u001b[38;5;129;01mnot\u001b[39;00m \u001b[38;5;28;01mNone\u001b[39;00m \u001b[38;5;28;01melse\u001b[39;00m \u001b[38;5;28;01mNone\u001b[39;00m\n",
      "File \u001b[0;32m~/.local/share/virtualenvs/fuzzy-search-KYi4BGOl/lib/python3.10/site-packages/torch/nn/modules/module.py:1501\u001b[0m, in \u001b[0;36mModule._call_impl\u001b[0;34m(self, *args, **kwargs)\u001b[0m\n\u001b[1;32m   1496\u001b[0m \u001b[38;5;66;03m# If we don't have any hooks, we want to skip the rest of the logic in\u001b[39;00m\n\u001b[1;32m   1497\u001b[0m \u001b[38;5;66;03m# this function, and just call forward.\u001b[39;00m\n\u001b[1;32m   1498\u001b[0m \u001b[38;5;28;01mif\u001b[39;00m \u001b[38;5;129;01mnot\u001b[39;00m (\u001b[38;5;28mself\u001b[39m\u001b[38;5;241m.\u001b[39m_backward_hooks \u001b[38;5;129;01mor\u001b[39;00m \u001b[38;5;28mself\u001b[39m\u001b[38;5;241m.\u001b[39m_backward_pre_hooks \u001b[38;5;129;01mor\u001b[39;00m \u001b[38;5;28mself\u001b[39m\u001b[38;5;241m.\u001b[39m_forward_hooks \u001b[38;5;129;01mor\u001b[39;00m \u001b[38;5;28mself\u001b[39m\u001b[38;5;241m.\u001b[39m_forward_pre_hooks\n\u001b[1;32m   1499\u001b[0m         \u001b[38;5;129;01mor\u001b[39;00m _global_backward_pre_hooks \u001b[38;5;129;01mor\u001b[39;00m _global_backward_hooks\n\u001b[1;32m   1500\u001b[0m         \u001b[38;5;129;01mor\u001b[39;00m _global_forward_hooks \u001b[38;5;129;01mor\u001b[39;00m _global_forward_pre_hooks):\n\u001b[0;32m-> 1501\u001b[0m     \u001b[38;5;28;01mreturn\u001b[39;00m \u001b[43mforward_call\u001b[49m\u001b[43m(\u001b[49m\u001b[38;5;241;43m*\u001b[39;49m\u001b[43margs\u001b[49m\u001b[43m,\u001b[49m\u001b[43m \u001b[49m\u001b[38;5;241;43m*\u001b[39;49m\u001b[38;5;241;43m*\u001b[39;49m\u001b[43mkwargs\u001b[49m\u001b[43m)\u001b[49m\n\u001b[1;32m   1502\u001b[0m \u001b[38;5;66;03m# Do not call functions when jit is used\u001b[39;00m\n\u001b[1;32m   1503\u001b[0m full_backward_hooks, non_full_backward_hooks \u001b[38;5;241m=\u001b[39m [], []\n",
      "File \u001b[0;32m~/.local/share/virtualenvs/fuzzy-search-KYi4BGOl/lib/python3.10/site-packages/transformers/models/bert/modeling_bert.py:610\u001b[0m, in \u001b[0;36mBertEncoder.forward\u001b[0;34m(self, hidden_states, attention_mask, head_mask, encoder_hidden_states, encoder_attention_mask, past_key_values, use_cache, output_attentions, output_hidden_states, return_dict)\u001b[0m\n\u001b[1;32m    601\u001b[0m     layer_outputs \u001b[38;5;241m=\u001b[39m torch\u001b[38;5;241m.\u001b[39mutils\u001b[38;5;241m.\u001b[39mcheckpoint\u001b[38;5;241m.\u001b[39mcheckpoint(\n\u001b[1;32m    602\u001b[0m         create_custom_forward(layer_module),\n\u001b[1;32m    603\u001b[0m         hidden_states,\n\u001b[0;32m   (...)\u001b[0m\n\u001b[1;32m    607\u001b[0m         encoder_attention_mask,\n\u001b[1;32m    608\u001b[0m     )\n\u001b[1;32m    609\u001b[0m \u001b[38;5;28;01melse\u001b[39;00m:\n\u001b[0;32m--> 610\u001b[0m     layer_outputs \u001b[38;5;241m=\u001b[39m \u001b[43mlayer_module\u001b[49m\u001b[43m(\u001b[49m\n\u001b[1;32m    611\u001b[0m \u001b[43m        \u001b[49m\u001b[43mhidden_states\u001b[49m\u001b[43m,\u001b[49m\n\u001b[1;32m    612\u001b[0m \u001b[43m        \u001b[49m\u001b[43mattention_mask\u001b[49m\u001b[43m,\u001b[49m\n\u001b[1;32m    613\u001b[0m \u001b[43m        \u001b[49m\u001b[43mlayer_head_mask\u001b[49m\u001b[43m,\u001b[49m\n\u001b[1;32m    614\u001b[0m \u001b[43m        \u001b[49m\u001b[43mencoder_hidden_states\u001b[49m\u001b[43m,\u001b[49m\n\u001b[1;32m    615\u001b[0m \u001b[43m        \u001b[49m\u001b[43mencoder_attention_mask\u001b[49m\u001b[43m,\u001b[49m\n\u001b[1;32m    616\u001b[0m \u001b[43m        \u001b[49m\u001b[43mpast_key_value\u001b[49m\u001b[43m,\u001b[49m\n\u001b[1;32m    617\u001b[0m \u001b[43m        \u001b[49m\u001b[43moutput_attentions\u001b[49m\u001b[43m,\u001b[49m\n\u001b[1;32m    618\u001b[0m \u001b[43m    \u001b[49m\u001b[43m)\u001b[49m\n\u001b[1;32m    620\u001b[0m hidden_states \u001b[38;5;241m=\u001b[39m layer_outputs[\u001b[38;5;241m0\u001b[39m]\n\u001b[1;32m    621\u001b[0m \u001b[38;5;28;01mif\u001b[39;00m use_cache:\n",
      "File \u001b[0;32m~/.local/share/virtualenvs/fuzzy-search-KYi4BGOl/lib/python3.10/site-packages/torch/nn/modules/module.py:1501\u001b[0m, in \u001b[0;36mModule._call_impl\u001b[0;34m(self, *args, **kwargs)\u001b[0m\n\u001b[1;32m   1496\u001b[0m \u001b[38;5;66;03m# If we don't have any hooks, we want to skip the rest of the logic in\u001b[39;00m\n\u001b[1;32m   1497\u001b[0m \u001b[38;5;66;03m# this function, and just call forward.\u001b[39;00m\n\u001b[1;32m   1498\u001b[0m \u001b[38;5;28;01mif\u001b[39;00m \u001b[38;5;129;01mnot\u001b[39;00m (\u001b[38;5;28mself\u001b[39m\u001b[38;5;241m.\u001b[39m_backward_hooks \u001b[38;5;129;01mor\u001b[39;00m \u001b[38;5;28mself\u001b[39m\u001b[38;5;241m.\u001b[39m_backward_pre_hooks \u001b[38;5;129;01mor\u001b[39;00m \u001b[38;5;28mself\u001b[39m\u001b[38;5;241m.\u001b[39m_forward_hooks \u001b[38;5;129;01mor\u001b[39;00m \u001b[38;5;28mself\u001b[39m\u001b[38;5;241m.\u001b[39m_forward_pre_hooks\n\u001b[1;32m   1499\u001b[0m         \u001b[38;5;129;01mor\u001b[39;00m _global_backward_pre_hooks \u001b[38;5;129;01mor\u001b[39;00m _global_backward_hooks\n\u001b[1;32m   1500\u001b[0m         \u001b[38;5;129;01mor\u001b[39;00m _global_forward_hooks \u001b[38;5;129;01mor\u001b[39;00m _global_forward_pre_hooks):\n\u001b[0;32m-> 1501\u001b[0m     \u001b[38;5;28;01mreturn\u001b[39;00m \u001b[43mforward_call\u001b[49m\u001b[43m(\u001b[49m\u001b[38;5;241;43m*\u001b[39;49m\u001b[43margs\u001b[49m\u001b[43m,\u001b[49m\u001b[43m \u001b[49m\u001b[38;5;241;43m*\u001b[39;49m\u001b[38;5;241;43m*\u001b[39;49m\u001b[43mkwargs\u001b[49m\u001b[43m)\u001b[49m\n\u001b[1;32m   1502\u001b[0m \u001b[38;5;66;03m# Do not call functions when jit is used\u001b[39;00m\n\u001b[1;32m   1503\u001b[0m full_backward_hooks, non_full_backward_hooks \u001b[38;5;241m=\u001b[39m [], []\n",
      "File \u001b[0;32m~/.local/share/virtualenvs/fuzzy-search-KYi4BGOl/lib/python3.10/site-packages/transformers/models/bert/modeling_bert.py:537\u001b[0m, in \u001b[0;36mBertLayer.forward\u001b[0;34m(self, hidden_states, attention_mask, head_mask, encoder_hidden_states, encoder_attention_mask, past_key_value, output_attentions)\u001b[0m\n\u001b[1;32m    534\u001b[0m     cross_attn_present_key_value \u001b[38;5;241m=\u001b[39m cross_attention_outputs[\u001b[38;5;241m-\u001b[39m\u001b[38;5;241m1\u001b[39m]\n\u001b[1;32m    535\u001b[0m     present_key_value \u001b[38;5;241m=\u001b[39m present_key_value \u001b[38;5;241m+\u001b[39m cross_attn_present_key_value\n\u001b[0;32m--> 537\u001b[0m layer_output \u001b[38;5;241m=\u001b[39m \u001b[43mapply_chunking_to_forward\u001b[49m\u001b[43m(\u001b[49m\n\u001b[1;32m    538\u001b[0m \u001b[43m    \u001b[49m\u001b[38;5;28;43mself\u001b[39;49m\u001b[38;5;241;43m.\u001b[39;49m\u001b[43mfeed_forward_chunk\u001b[49m\u001b[43m,\u001b[49m\u001b[43m \u001b[49m\u001b[38;5;28;43mself\u001b[39;49m\u001b[38;5;241;43m.\u001b[39;49m\u001b[43mchunk_size_feed_forward\u001b[49m\u001b[43m,\u001b[49m\u001b[43m \u001b[49m\u001b[38;5;28;43mself\u001b[39;49m\u001b[38;5;241;43m.\u001b[39;49m\u001b[43mseq_len_dim\u001b[49m\u001b[43m,\u001b[49m\u001b[43m \u001b[49m\u001b[43mattention_output\u001b[49m\n\u001b[1;32m    539\u001b[0m \u001b[43m\u001b[49m\u001b[43m)\u001b[49m\n\u001b[1;32m    540\u001b[0m outputs \u001b[38;5;241m=\u001b[39m (layer_output,) \u001b[38;5;241m+\u001b[39m outputs\n\u001b[1;32m    542\u001b[0m \u001b[38;5;66;03m# if decoder, return the attn key/values as the last output\u001b[39;00m\n",
      "File \u001b[0;32m~/.local/share/virtualenvs/fuzzy-search-KYi4BGOl/lib/python3.10/site-packages/transformers/pytorch_utils.py:236\u001b[0m, in \u001b[0;36mapply_chunking_to_forward\u001b[0;34m(forward_fn, chunk_size, chunk_dim, *input_tensors)\u001b[0m\n\u001b[1;32m    233\u001b[0m     \u001b[38;5;66;03m# concatenate output at same dimension\u001b[39;00m\n\u001b[1;32m    234\u001b[0m     \u001b[38;5;28;01mreturn\u001b[39;00m torch\u001b[38;5;241m.\u001b[39mcat(output_chunks, dim\u001b[38;5;241m=\u001b[39mchunk_dim)\n\u001b[0;32m--> 236\u001b[0m \u001b[38;5;28;01mreturn\u001b[39;00m \u001b[43mforward_fn\u001b[49m\u001b[43m(\u001b[49m\u001b[38;5;241;43m*\u001b[39;49m\u001b[43minput_tensors\u001b[49m\u001b[43m)\u001b[49m\n",
      "File \u001b[0;32m~/.local/share/virtualenvs/fuzzy-search-KYi4BGOl/lib/python3.10/site-packages/transformers/models/bert/modeling_bert.py:549\u001b[0m, in \u001b[0;36mBertLayer.feed_forward_chunk\u001b[0;34m(self, attention_output)\u001b[0m\n\u001b[1;32m    548\u001b[0m \u001b[38;5;28;01mdef\u001b[39;00m \u001b[38;5;21mfeed_forward_chunk\u001b[39m(\u001b[38;5;28mself\u001b[39m, attention_output):\n\u001b[0;32m--> 549\u001b[0m     intermediate_output \u001b[38;5;241m=\u001b[39m \u001b[38;5;28;43mself\u001b[39;49m\u001b[38;5;241;43m.\u001b[39;49m\u001b[43mintermediate\u001b[49m\u001b[43m(\u001b[49m\u001b[43mattention_output\u001b[49m\u001b[43m)\u001b[49m\n\u001b[1;32m    550\u001b[0m     layer_output \u001b[38;5;241m=\u001b[39m \u001b[38;5;28mself\u001b[39m\u001b[38;5;241m.\u001b[39moutput(intermediate_output, attention_output)\n\u001b[1;32m    551\u001b[0m     \u001b[38;5;28;01mreturn\u001b[39;00m layer_output\n",
      "File \u001b[0;32m~/.local/share/virtualenvs/fuzzy-search-KYi4BGOl/lib/python3.10/site-packages/torch/nn/modules/module.py:1501\u001b[0m, in \u001b[0;36mModule._call_impl\u001b[0;34m(self, *args, **kwargs)\u001b[0m\n\u001b[1;32m   1496\u001b[0m \u001b[38;5;66;03m# If we don't have any hooks, we want to skip the rest of the logic in\u001b[39;00m\n\u001b[1;32m   1497\u001b[0m \u001b[38;5;66;03m# this function, and just call forward.\u001b[39;00m\n\u001b[1;32m   1498\u001b[0m \u001b[38;5;28;01mif\u001b[39;00m \u001b[38;5;129;01mnot\u001b[39;00m (\u001b[38;5;28mself\u001b[39m\u001b[38;5;241m.\u001b[39m_backward_hooks \u001b[38;5;129;01mor\u001b[39;00m \u001b[38;5;28mself\u001b[39m\u001b[38;5;241m.\u001b[39m_backward_pre_hooks \u001b[38;5;129;01mor\u001b[39;00m \u001b[38;5;28mself\u001b[39m\u001b[38;5;241m.\u001b[39m_forward_hooks \u001b[38;5;129;01mor\u001b[39;00m \u001b[38;5;28mself\u001b[39m\u001b[38;5;241m.\u001b[39m_forward_pre_hooks\n\u001b[1;32m   1499\u001b[0m         \u001b[38;5;129;01mor\u001b[39;00m _global_backward_pre_hooks \u001b[38;5;129;01mor\u001b[39;00m _global_backward_hooks\n\u001b[1;32m   1500\u001b[0m         \u001b[38;5;129;01mor\u001b[39;00m _global_forward_hooks \u001b[38;5;129;01mor\u001b[39;00m _global_forward_pre_hooks):\n\u001b[0;32m-> 1501\u001b[0m     \u001b[38;5;28;01mreturn\u001b[39;00m \u001b[43mforward_call\u001b[49m\u001b[43m(\u001b[49m\u001b[38;5;241;43m*\u001b[39;49m\u001b[43margs\u001b[49m\u001b[43m,\u001b[49m\u001b[43m \u001b[49m\u001b[38;5;241;43m*\u001b[39;49m\u001b[38;5;241;43m*\u001b[39;49m\u001b[43mkwargs\u001b[49m\u001b[43m)\u001b[49m\n\u001b[1;32m   1502\u001b[0m \u001b[38;5;66;03m# Do not call functions when jit is used\u001b[39;00m\n\u001b[1;32m   1503\u001b[0m full_backward_hooks, non_full_backward_hooks \u001b[38;5;241m=\u001b[39m [], []\n",
      "File \u001b[0;32m~/.local/share/virtualenvs/fuzzy-search-KYi4BGOl/lib/python3.10/site-packages/transformers/models/bert/modeling_bert.py:449\u001b[0m, in \u001b[0;36mBertIntermediate.forward\u001b[0;34m(self, hidden_states)\u001b[0m\n\u001b[1;32m    448\u001b[0m \u001b[38;5;28;01mdef\u001b[39;00m \u001b[38;5;21mforward\u001b[39m(\u001b[38;5;28mself\u001b[39m, hidden_states: torch\u001b[38;5;241m.\u001b[39mTensor) \u001b[38;5;241m-\u001b[39m\u001b[38;5;241m>\u001b[39m torch\u001b[38;5;241m.\u001b[39mTensor:\n\u001b[0;32m--> 449\u001b[0m     hidden_states \u001b[38;5;241m=\u001b[39m \u001b[38;5;28;43mself\u001b[39;49m\u001b[38;5;241;43m.\u001b[39;49m\u001b[43mdense\u001b[49m\u001b[43m(\u001b[49m\u001b[43mhidden_states\u001b[49m\u001b[43m)\u001b[49m\n\u001b[1;32m    450\u001b[0m     hidden_states \u001b[38;5;241m=\u001b[39m \u001b[38;5;28mself\u001b[39m\u001b[38;5;241m.\u001b[39mintermediate_act_fn(hidden_states)\n\u001b[1;32m    451\u001b[0m     \u001b[38;5;28;01mreturn\u001b[39;00m hidden_states\n",
      "File \u001b[0;32m~/.local/share/virtualenvs/fuzzy-search-KYi4BGOl/lib/python3.10/site-packages/torch/nn/modules/module.py:1501\u001b[0m, in \u001b[0;36mModule._call_impl\u001b[0;34m(self, *args, **kwargs)\u001b[0m\n\u001b[1;32m   1496\u001b[0m \u001b[38;5;66;03m# If we don't have any hooks, we want to skip the rest of the logic in\u001b[39;00m\n\u001b[1;32m   1497\u001b[0m \u001b[38;5;66;03m# this function, and just call forward.\u001b[39;00m\n\u001b[1;32m   1498\u001b[0m \u001b[38;5;28;01mif\u001b[39;00m \u001b[38;5;129;01mnot\u001b[39;00m (\u001b[38;5;28mself\u001b[39m\u001b[38;5;241m.\u001b[39m_backward_hooks \u001b[38;5;129;01mor\u001b[39;00m \u001b[38;5;28mself\u001b[39m\u001b[38;5;241m.\u001b[39m_backward_pre_hooks \u001b[38;5;129;01mor\u001b[39;00m \u001b[38;5;28mself\u001b[39m\u001b[38;5;241m.\u001b[39m_forward_hooks \u001b[38;5;129;01mor\u001b[39;00m \u001b[38;5;28mself\u001b[39m\u001b[38;5;241m.\u001b[39m_forward_pre_hooks\n\u001b[1;32m   1499\u001b[0m         \u001b[38;5;129;01mor\u001b[39;00m _global_backward_pre_hooks \u001b[38;5;129;01mor\u001b[39;00m _global_backward_hooks\n\u001b[1;32m   1500\u001b[0m         \u001b[38;5;129;01mor\u001b[39;00m _global_forward_hooks \u001b[38;5;129;01mor\u001b[39;00m _global_forward_pre_hooks):\n\u001b[0;32m-> 1501\u001b[0m     \u001b[38;5;28;01mreturn\u001b[39;00m \u001b[43mforward_call\u001b[49m\u001b[43m(\u001b[49m\u001b[38;5;241;43m*\u001b[39;49m\u001b[43margs\u001b[49m\u001b[43m,\u001b[49m\u001b[43m \u001b[49m\u001b[38;5;241;43m*\u001b[39;49m\u001b[38;5;241;43m*\u001b[39;49m\u001b[43mkwargs\u001b[49m\u001b[43m)\u001b[49m\n\u001b[1;32m   1502\u001b[0m \u001b[38;5;66;03m# Do not call functions when jit is used\u001b[39;00m\n\u001b[1;32m   1503\u001b[0m full_backward_hooks, non_full_backward_hooks \u001b[38;5;241m=\u001b[39m [], []\n",
      "File \u001b[0;32m~/.local/share/virtualenvs/fuzzy-search-KYi4BGOl/lib/python3.10/site-packages/torch/nn/modules/linear.py:114\u001b[0m, in \u001b[0;36mLinear.forward\u001b[0;34m(self, input)\u001b[0m\n\u001b[1;32m    113\u001b[0m \u001b[38;5;28;01mdef\u001b[39;00m \u001b[38;5;21mforward\u001b[39m(\u001b[38;5;28mself\u001b[39m, \u001b[38;5;28minput\u001b[39m: Tensor) \u001b[38;5;241m-\u001b[39m\u001b[38;5;241m>\u001b[39m Tensor:\n\u001b[0;32m--> 114\u001b[0m     \u001b[38;5;28;01mreturn\u001b[39;00m \u001b[43mF\u001b[49m\u001b[38;5;241;43m.\u001b[39;49m\u001b[43mlinear\u001b[49m\u001b[43m(\u001b[49m\u001b[38;5;28;43minput\u001b[39;49m\u001b[43m,\u001b[49m\u001b[43m \u001b[49m\u001b[38;5;28;43mself\u001b[39;49m\u001b[38;5;241;43m.\u001b[39;49m\u001b[43mweight\u001b[49m\u001b[43m,\u001b[49m\u001b[43m \u001b[49m\u001b[38;5;28;43mself\u001b[39;49m\u001b[38;5;241;43m.\u001b[39;49m\u001b[43mbias\u001b[49m\u001b[43m)\u001b[49m\n",
      "\u001b[0;31mKeyboardInterrupt\u001b[0m: "
     ]
    }
   ],
   "source": [
    "import gzip\n",
    "\n",
    "\n",
    "def make_inventory_query(inventory_num):\n",
    "    return {\n",
    "        'bool': {\n",
    "            'must': [\n",
    "                {'match': {'metadata.inventory_num': inventory_num}}\n",
    "            ]\n",
    "        }\n",
    "    }\n",
    "\n",
    "\n",
    "inv_nums = [i for i in range(3775, 3865)]\n",
    "\n",
    "for inv_num in inv_nums:\n",
    "    out_file = f'../../data/resolutions/ner_tagged/resolutions-{inv_num}.tsv.gz'\n",
    "    query = make_inventory_query(inv_num)\n",
    "    with gzip.open(out_file, 'wt') as fh:\n",
    "        for ri, resolution in enumerate(rep_es.scroll_resolutions_by_query(query, scroll='5m')):\n",
    "            if (ri+1) % 1000 == 0:\n",
    "                print(inv_num, ri+1, resolution.id)\n",
    "            res_text = '\\n'.join([para.text for para in resolution.paragraphs])\n",
    "            text = res_text\n",
    "            sentence = Sentence(res_text)\n",
    "            model[layer].predict(sentence)\n",
    "            tagged_positions = get_tagged_positions(sentence)\n",
    "            for tagged_position in tagged_positions:\n",
    "                start, end = tagged_position\n",
    "                tag_type = tagged_positions[tagged_position]\n",
    "                text = text[:start] + f'<{tag_type}>' + text[start:end] + f'</{tag_type}>' + text[end:]\n",
    "            fh.write(f\"{resolution.id}\\t{text}\\n\")\n",
    "        print(inv_num, ri+1, resolution.id)\n"
   ]
  },
  {
   "cell_type": "code",
   "execution_count": 65,
   "id": "ce871d0d-cb8f-472a-a467-b857c9a3150b",
   "metadata": {
    "scrolled": true,
    "tags": []
   },
   "outputs": [
    {
     "name": "stdout",
     "output_type": "stream",
     "text": [
      "inv_num: 3767\n",
      "total hits: {'value': 5413, 'relation': 'eq'} \thits per scroll: 100\n",
      "session-1712-07-05-ordinaris-num-1-resolution-12 missive\n",
      "1712\tsession-1712-07-05-ordinaris-num-1-resolution-12\tmissive\tONtfangen een Missive van den Resident vanden Bosch, geschreven te Hamburgh den eersten deser loopende maendt, en daer nevens een Bylage, houdende advertentie, ende onder anderen, dat den Raedt aldaer door hare Gedeputeerden hem dien avondt hadden laten brengen de Extracten van Brieven nevens de voorschreve Missive gevoeght, uyt Bergen ende Housum geschreven, met versoeck, dat hy aen haer Hoogh Mogende wilde voordragen de schade, die de Commercie van haer ende van haer Hoogh Mogende Ingezetenen daer door quamen te lyden; dat sy versochten dat haer Hoogh Mogende in der selver faveur aen het Deensche Hof geliefden te schryven, ende aen hare Ministers te gelasten, der selver goede officien aen het voorschreve Hof te doen, ten eynde de aengehoudene Schepen, waer van'er reets drie geconfisqueert waren, mochten vrygegeven, ende in het toekomende de Commercie weder vry gedreven werden, dat hy aengenomen hadde het voorschreve aen haer Hoogh Mogende te sullen voordragen, om dat hy seeckerlijck wist, dat haer Hoogh Mogende Ingezetenen soo wel in de ladingh als in de asseurantie considerabel geinteresseert waren, het geen hy in een sijner voorige Brieven hadde gerefereert, ende dat by confiscatie van de voorschreve Schepen ende Goederen, de Hollandtsche Negotianten daer door ten minste wegens asseurantie groote sommen souden komen te verliesen ; dat een voornaem Koopman aldaer ter Stede hem hadde verseeckert, dat soo wel in de Schepen, die reets genomen, ende nogh te komen stonden, meer als sesmael hondert duysent guldens in Hollandt geassureert waren, soo dat de schade daer van meerendeels op de Ingezetenen van desen Staet souden vallen. WAER op gedelibereert zynde, hebben de Heeren Gedeputeerden van de Provincie van Hollandt ende West-Vrieslandt de voorschreve Missive copielijck overgenomen, om in den haren breder te werden gecommuniceert; ende is dienonvermindert goetgevonden ende verstaen, dat Copie van de voorschreve Missive gestelt sal werden in handen van de Heeren van Broeckhuysen, ende andere haer Hoogh Mogende Gedeputeerden tot de saecken van de Zee, om te visiteren, examineren, ende van alles alhier ter Vergaderinge rapport te doen.\n",
      "\n"
     ]
    }
   ],
   "source": [
    "from republic.elastic.republic_elasticsearch import initialize_es\n",
    "\n",
    "rep_es = initialize_es()\n",
    "\n",
    "\n",
    "def make_query(inv_num):\n",
    "    return {\n",
    "        'bool': {\n",
    "            'must': [\n",
    "                {'match': {'metadata.type': 'resolution'}},\n",
    "                {'match': {'metadata.inventory_num': inv_num}}\n",
    "            ]\n",
    "        }\n",
    "    }\n",
    "\n",
    "\n",
    "for inv_num in range(3767, 3768):\n",
    "    query = make_query(inv_num)\n",
    "    print('inv_num:', inv_num)\n",
    "    res_dir = '../../data/paragraphs/loghi/'\n",
    "    res_file = os.path.join(res_dir, f\"resolution-paragraphs-Loghi-{inv_num}.tsv.gz\")\n",
    "    with gzip.open(res_file, 'wt') as fh:\n",
    "        for hit in rep_es.scroll_hits(rep_es.es_anno, query, index='full_resolutions'):\n",
    "            doc = hit['_source']\n",
    "            res_year = doc['metadata']['session_year']\n",
    "            prop_type = doc['metadata']['proposition_type']\n",
    "            for para in doc['paragraphs']:\n",
    "                if doc['id'] == 'session-1712-07-05-ordinaris-num-1-resolution-12':\n",
    "                    print(doc['id'], prop_type)\n",
    "                    print((f\"{res_year}\\t{doc['id']}\\t{prop_type}\\t{para['text']}\\n\"))\n",
    "                fh.write(f\"{res_year}\\t{doc['id']}\\t{prop_type}\\t{para['text']}\\n\")\n"
   ]
  },
  {
   "cell_type": "code",
   "execution_count": 66,
   "id": "b62f4b5f-4795-47ce-80a0-6f49849def48",
   "metadata": {
    "tags": []
   },
   "outputs": [
    {
     "name": "stdout",
     "output_type": "stream",
     "text": [
      "2802\n"
     ]
    }
   ],
   "source": [
    "import gzip\n",
    "from collections import namedtuple\n",
    "\n",
    "def read_inventory_resolutions(inv_num):\n",
    "\n",
    "    res_dir = '../../data/paragraphs/loghi/'\n",
    "    res_file = os.path.join(res_dir, f\"resolution-paragraphs-Loghi-{inv_num}.tsv.gz\")\n",
    "    with gzip.open(res_file, 'rt') as fh:\n",
    "        prev_id = None\n",
    "        prev_year = None\n",
    "        prev_type = None\n",
    "        paras = []\n",
    "        for line in fh:\n",
    "            res_year, res_id, prop_type, para = line.strip().split('\\t')\n",
    "            if prev_id and prev_id != res_id:\n",
    "                res_text = '  '.join(paras)\n",
    "                #print(prev_id, len(paras))\n",
    "                yield Resolution(year=prev_year, id=prev_id, prop_type=prev_type, text=res_text)\n",
    "                paras = []\n",
    "            paras.append(para)\n",
    "            prev_id = res_id\n",
    "            prev_year = res_year\n",
    "            prev_type = prop_type\n",
    "        if len(paras) > 0:\n",
    "            yield Resolution(year=prev_year, id=prev_id, prop_type=prev_type, text=res_text)\n",
    "    return None\n",
    "\n",
    "\n",
    "Resolution = namedtuple('Resolution', 'year id prop_type text')\n",
    "\n",
    "for ri, res in enumerate(read_inventory_resolutions(3775)):\n",
    "    continue\n",
    "print(ri)"
   ]
  },
  {
   "cell_type": "code",
   "execution_count": 67,
   "id": "12a2dc2a-de32-4a40-8ff5-deec83e0a130",
   "metadata": {
    "tags": []
   },
   "outputs": [
    {
     "name": "stdout",
     "output_type": "stream",
     "text": [
      "\t missive\n",
      "ONtfangen een Missive van den Resident vanden Bosch, geschreven te Hamburgh den eersten deser loopende maendt, en daer nevens een Bylage, houdende advertentie, ende onder anderen, dat den Raedt aldaer door hare Gedeputeerden hem dien avondt hadden laten brengen de Extracten van Brieven nevens de voorschreve Missive gevoeght, uyt Bergen ende Housum geschreven, met versoeck, dat hy aen haer Hoogh Mogende wilde voordragen de schade, die de Commercie van haer ende van haer Hoogh Mogende Ingezetenen daer door quamen te lyden; dat sy versochten dat haer Hoogh Mogende in der selver faveur aen het Deensche Hof geliefden te schryven, ende aen hare Ministers te gelasten, der selver goede officien aen het voorschreve Hof te doen, ten eynde de aengehoudene Schepen, waer van'er reets drie geconfisqueert waren, mochten vrygegeven, ende in het toekomende de Commercie weder vry gedreven werden, dat hy aengenomen hadde het voorschreve aen haer Hoogh Mogende te sullen voordragen, om dat hy seeckerlijck wist, dat haer Hoogh Mogende Ingezetenen soo wel in de ladingh als in de asseurantie considerabel geinteresseert waren, het geen hy in een sijner voorige Brieven hadde gerefereert, ende dat by confiscatie van de voorschreve Schepen ende Goederen, de Hollandtsche Negotianten daer door ten minste wegens asseurantie groote sommen souden komen te verliesen ; dat een voornaem Koopman aldaer ter Stede hem hadde verseeckert, dat soo wel in de Schepen, die reets genomen, ende nogh te komen stonden, meer als sesmael hondert duysent guldens in Hollandt geassureert waren, soo dat de schade daer van meerendeels op de Ingezetenen van desen Staet souden vallen. WAER op gedelibereert zynde, hebben de Heeren Gedeputeerden van de Provincie van Hollandt ende West-Vrieslandt de voorschreve Missive copielijck overgenomen, om in den haren breder te werden gecommuniceert; ende is dienonvermindert goetgevonden ende verstaen, dat Copie van de voorschreve Missive gestelt sal werden in handen van de Heeren van Broeckhuysen, ende andere haer Hoogh Mogende Gedeputeerden tot de saecken van de Zee, om te visiteren, examineren, ende van alles alhier ter Vergaderinge rapport te doen.\n"
     ]
    }
   ],
   "source": [
    "for inv_num in [3767]:\n",
    "    for ri, res in enumerate(read_inventory_resolutions(inv_num)):\n",
    "        if res.id == 'session-1712-07-05-ordinaris-num-1-resolution-12':\n",
    "            print('\\t', res.prop_type)\n",
    "            print(res.text)\n"
   ]
  },
  {
   "cell_type": "code",
   "execution_count": 41,
   "id": "bef84785-8096-4835-a596-88c0fc6cb1a9",
   "metadata": {
    "tags": []
   },
   "outputs": [
    {
     "data": {
      "text/plain": [
       "(1687211367.391179, 1687211369.3960419, 2.0048627853393555, '2 seconds')"
      ]
     },
     "execution_count": 41,
     "metadata": {},
     "output_type": "execute_result"
    }
   ],
   "source": [
    "start = time.time()\n",
    "time.sleep(2)\n",
    "step = time.time()\n",
    "start, step, step - start, f\"{step - start: >.0f} seconds\""
   ]
  },
  {
   "cell_type": "code",
   "execution_count": 28,
   "id": "304bc85e-1d18-4d1a-8c2d-f2ef8449f4a1",
   "metadata": {
    "tags": []
   },
   "outputs": [
    {
     "data": {
      "text/plain": [
       "'   1.2'"
      ]
     },
     "execution_count": 28,
     "metadata": {},
     "output_type": "execute_result"
    }
   ],
   "source": [
    "f\"{1.231: >6.2}\""
   ]
  },
  {
   "cell_type": "code",
   "execution_count": 68,
   "id": "39b81252",
   "metadata": {
    "scrolled": true,
    "tags": []
   },
   "outputs": [
    {
     "name": "stdout",
     "output_type": "stream",
     "text": [
      "3760 1000 session-1705-09-12-ordinaris-num-1-resolution-12 179 seconds\n",
      "3760 2000 session-1705-04-29-ordinaris-num-1-resolution-5 355 seconds\n",
      "3760 3000 session-1705-06-15-ordinaris-num-1-resolution-21 529 seconds\n",
      "3760 4000 session-1705-07-10-ordinaris-num-1-resolution-12 706 seconds\n",
      "3760 5000 session-1705-06-19-ordinaris-num-1-resolution-29 877 seconds\n",
      "3760 6000 session-1705-06-27-ordinaris-num-1-resolution-17 1061 seconds\n",
      "3760 7000 session-1705-05-15-ordinaris-num-1-resolution-15 1230 seconds\n",
      "3760 7073 session-1705-04-02-ordinaris-num-1-resolution-2 1243 seconds\n",
      "3761 1000 session-1706-07-26-ordinaris-num-1-resolution-7 1406 seconds\n",
      "3761 2000 session-1706-04-06-ordinaris-num-1-resolution-2 1593 seconds\n",
      "3761 3000 session-1706-09-20-ordinaris-num-1-resolution-17 1757 seconds\n",
      "3761 4000 session-1706-01-23-ordinaris-num-1-resolution-21 1929 seconds\n",
      "3761 5000 session-1706-08-09-ordinaris-num-1-resolution-4 2113 seconds\n",
      "3761 6000 session-1706-01-30-ordinaris-num-1-resolution-1 2305 seconds\n",
      "3761 6593 session-1706-01-07-ordinaris-num-1-resolution-27 2412 seconds\n",
      "3762 1000 session-1707-09-17-ordinaris-num-1-resolution-2 2600 seconds\n",
      "3762 2000 session-1707-06-14-ordinaris-num-1-resolution-12 2784 seconds\n",
      "3762 3000 session-1707-03-14-ordinaris-num-1-resolution-31 2969 seconds\n",
      "3762 4000 session-1707-05-24-ordinaris-num-1-resolution-17 3146 seconds\n",
      "3762 5000 session-1707-10-22-ordinaris-num-1-resolution-8 3338 seconds\n",
      "3762 5838 session-1707-10-22-ordinaris-num-1-resolution-2 3493 seconds\n",
      "3763 1000 session-1708-01-27-ordinaris-num-1-resolution-7 3677 seconds\n",
      "3763 2000 session-1708-06-14-ordinaris-num-1-resolution-1 3862 seconds\n",
      "3763 3000 session-1708-09-08-ordinaris-num-1-resolution-12 4042 seconds\n",
      "3763 4000 session-1708-08-30-ordinaris-num-1-resolution-13 4231 seconds\n",
      "3763 5000 session-1708-01-19-ordinaris-num-1-resolution-3 4422 seconds\n",
      "3763 5267 session-1708-03-19-ordinaris-num-1-resolution-12 4468 seconds\n",
      "3764 1000 session-1709-12-28-ordinaris-num-1-resolution-25 4651 seconds\n",
      "3764 2000 session-1709-05-10-ordinaris-num-1-resolution-15 4827 seconds\n",
      "3764 3000 session-1709-06-06-ordinaris-num-1-resolution-13 5002 seconds\n",
      "3764 4000 session-1709-03-30-ordinaris-num-1-resolution-19 5180 seconds\n",
      "3764 5000 session-1709-06-25-ordinaris-num-1-resolution-25 5353 seconds\n",
      "3764 6000 session-1709-03-21-ordinaris-num-1-resolution-20 5534 seconds\n",
      "3764 6796 session-1709-07-17-ordinaris-num-1-resolution-6 5676 seconds\n",
      "3765 1000 session-1710-09-18-ordinaris-num-1-resolution-8 5851 seconds\n",
      "3765 2000 session-1710-03-24-ordinaris-num-1-resolution-16 6033 seconds\n",
      "3765 3000 session-1710-07-21-ordinaris-num-1-resolution-13 6212 seconds\n",
      "3765 4000 session-1710-03-29-ordinaris-num-1-resolution-14 6375 seconds\n",
      "3765 5000 session-1710-06-05-ordinaris-num-1-resolution-5 6536 seconds\n",
      "3765 6000 session-1710-08-26-ordinaris-num-1-resolution-14 6708 seconds\n",
      "3765 6682 session-1710-05-10-ordinaris-num-1-resolution-23 6823 seconds\n",
      "3766 1000 session-1711-10-05-ordinaris-num-1-resolution-22 7011 seconds\n",
      "3766 2000 session-1711-08-19-ordinaris-num-1-resolution-4 7201 seconds\n",
      "3766 3000 session-1711-04-03-ordinaris-num-1-resolution-4 7403 seconds\n",
      "3766 4000 session-1711-10-03-ordinaris-num-1-resolution-1 7590 seconds\n",
      "3766 5000 session-1711-09-16-ordinaris-num-1-resolution-1 7784 seconds\n",
      "3766 6000 session-1711-02-05-ordinaris-num-1-resolution-15 7965 seconds\n",
      "3766 6177 session-1711-11-05-ordinaris-num-1-resolution-2 7997 seconds\n",
      "3767 1000 session-1712-09-13-ordinaris-num-1-resolution-7 8196 seconds\n",
      "3767 2000 session-1712-05-04-ordinaris-num-1-resolution-4 8390 seconds\n",
      "3767 3000 session-1712-11-11-ordinaris-num-1-resolution-20 8613 seconds\n",
      "3767 4000 session-1712-07-15-ordinaris-num-1-resolution-12 8831 seconds\n",
      "3767 5000 session-1712-10-27-ordinaris-num-1-resolution-26 9025 seconds\n",
      "3767 5413 session-1712-05-11-ordinaris-num-1-resolution-8 9100 seconds\n",
      "3768 1000 session-1713-01-18-ordinaris-num-1-resolution-9 9305 seconds\n",
      "3768 2000 session-1713-05-04-ordinaris-num-1-resolution-1 9519 seconds\n",
      "3768 3000 session-1713-05-30-ordinaris-num-1-resolution-6 9732 seconds\n",
      "3768 4000 session-1713-04-27-ordinaris-num-1-resolution-7 9943 seconds\n",
      "3768 5000 session-1713-12-21-ordinaris-num-1-resolution-5 10149 seconds\n",
      "3768 5575 session-1713-09-29-ordinaris-num-1-resolution-5 10267 seconds\n",
      "3769 1000 session-1714-08-24-ordinaris-num-1-resolution-3 10466 seconds\n",
      "3769 2000 session-1714-04-18-ordinaris-num-1-resolution-15 10682 seconds\n",
      "3769 3000 session-1714-04-04-ordinaris-num-1-resolution-2 10891 seconds\n",
      "3769 4000 session-1714-02-13-ordinaris-num-1-resolution-11 11100 seconds\n",
      "3769 4432 session-1714-07-23-ordinaris-num-1-resolution-13 11189 seconds\n",
      "3770 1000 session-1715-08-08-ordinaris-num-1-resolution-2 11390 seconds\n",
      "3770 2000 session-1715-08-24-ordinaris-num-1-resolution-9 11594 seconds\n",
      "3770 3000 session-1715-11-12-ordinaris-num-1-resolution-9 11863 seconds\n",
      "3770 4000 session-1715-02-26-ordinaris-num-1-resolution-5 12071 seconds\n",
      "3770 4010 session-1715-08-19-ordinaris-num-1-resolution-7 12072 seconds\n",
      "3771 1000 session-1716-08-04-ordinaris-num-1-resolution-10 12272 seconds\n",
      "3771 2000 session-1716-05-02-ordinaris-num-1-resolution-13 12586 seconds\n",
      "3771 3000 session-1716-06-20-ordinaris-num-1-resolution-3 12779 seconds\n",
      "3771 3844 session-1716-12-28-ordinaris-num-1-resolution-15 12945 seconds\n",
      "3772 1000 session-1717-07-16-ordinaris-num-1-resolution-7 13154 seconds\n",
      "3772 2000 session-1717-06-15-ordinaris-num-1-resolution-16 13357 seconds\n",
      "3772 3000 session-1717-11-17-ordinaris-num-1-resolution-5 13556 seconds\n",
      "3772 3777 session-1717-09-18-ordinaris-num-1-resolution-5 13717 seconds\n",
      "3773 1000 session-1718-03-31-ordinaris-num-1-resolution-1 13939 seconds\n",
      "3773 2000 session-1718-08-18-ordinaris-num-1-resolution-13 14155 seconds\n",
      "3773 3000 session-1718-07-21-ordinaris-num-1-resolution-13 14356 seconds\n",
      "3773 3556 session-1718-07-25-ordinaris-num-1-resolution-5 14488 seconds\n",
      "3774 1000 session-1719-03-13-ordinaris-num-1-resolution-17 14707 seconds\n",
      "3774 2000 session-1719-09-05-ordinaris-num-1-resolution-7 14909 seconds\n",
      "3774 3000 session-1719-01-12-ordinaris-num-1-resolution-8 15111 seconds\n",
      "3774 3253 session-1719-01-18-ordinaris-num-1-resolution-9 15159 seconds\n",
      "3775 1000 session-1720-03-29-ordinaris-num-1-resolution-11 15372 seconds\n",
      "3775 2000 session-1720-05-28-ordinaris-num-1-resolution-9 15580 seconds\n",
      "3775 2803 session-1720-06-28-ordinaris-num-1-resolution-15 15856 seconds\n",
      "3776 1000 session-1721-01-16-ordinaris-num-1-resolution-1 16053 seconds\n",
      "3776 2000 session-1721-06-19-ordinaris-num-1-resolution-1 16253 seconds\n",
      "3776 3000 session-1721-11-18-ordinaris-num-1-resolution-1 16455 seconds\n",
      "3776 3057 session-1721-05-28-ordinaris-num-1-resolution-2 16467 seconds\n",
      "3777 1000 session-1722-01-23-ordinaris-num-1-resolution-8 16660 seconds\n",
      "3777 2000 session-1722-05-01-ordinaris-num-1-resolution-16 16846 seconds\n",
      "3777 3000 session-1722-03-03-ordinaris-num-1-resolution-1 17041 seconds\n",
      "3777 3014 session-1722-01-13-ordinaris-num-1-resolution-6 17044 seconds\n",
      "3778 1000 session-1723-04-08-ordinaris-num-1-resolution-2 17248 seconds\n",
      "3778 2000 session-1723-01-16-ordinaris-num-1-resolution-14 17455 seconds\n",
      "3778 2663 session-1723-09-03-ordinaris-num-1-resolution-7 17599 seconds\n",
      "3779 1000 session-1724-12-22-ordinaris-num-1-resolution-9 17797 seconds\n",
      "3779 2000 session-1724-05-08-ordinaris-num-1-resolution-1 17989 seconds\n",
      "3779 2737 session-1724-01-10-ordinaris-num-1-resolution-14 18131 seconds\n",
      "3780 1000 session-1725-07-12-ordinaris-num-1-resolution-4 18438 seconds\n",
      "3780 2000 session-1725-08-07-ordinaris-num-1-resolution-16 18642 seconds\n",
      "3780 3000 session-1725-11-16-ordinaris-num-1-resolution-12 18842 seconds\n",
      "3780 3201 session-1725-07-23-ordinaris-num-1-resolution-7 18874 seconds\n",
      "3781 1000 session-1726-03-02-ordinaris-num-1-resolution-6 19081 seconds\n",
      "3781 2000 session-1726-01-14-ordinaris-num-1-resolution-19 19274 seconds\n",
      "3781 2970 session-1726-08-03-ordinaris-num-1-resolution-4 19474 seconds\n",
      "3782 1000 session-1727-08-22-ordinaris-num-1-resolution-8 19653 seconds\n",
      "3782 2000 session-1727-02-25-ordinaris-num-1-resolution-12 19842 seconds\n",
      "3782 3000 session-1727-04-24-ordinaris-num-1-resolution-4 20037 seconds\n",
      "3782 3204 session-1727-12-30-ordinaris-num-1-resolution-8 20075 seconds\n",
      "3783 1000 session-1728-10-06-ordinaris-num-1-resolution-5 20256 seconds\n",
      "3783 2000 session-1728-07-23-ordinaris-num-1-resolution-5 20440 seconds\n",
      "3783 3000 session-1728-10-21-ordinaris-num-1-resolution-3 20631 seconds\n",
      "3783 3101 session-1728-01-08-ordinaris-num-1-resolution-8 20652 seconds\n",
      "3784 1000 session-1729-06-30-ordinaris-num-1-resolution-7 20849 seconds\n",
      "3784 2000 session-1729-12-08-ordinaris-num-1-resolution-3 21036 seconds\n",
      "3784 2872 session-1729-05-18-ordinaris-num-1-resolution-7 21194 seconds\n",
      "3785 1000 session-1730-02-10-ordinaris-num-1-resolution-14 21376 seconds\n",
      "3785 2000 session-1730-11-29-ordinaris-num-1-resolution-3 21570 seconds\n",
      "3785 2859 session-1730-07-14-ordinaris-num-1-resolution-9 21742 seconds\n",
      "3786 1000 session-1731-08-16-ordinaris-num-1-resolution-2 21934 seconds\n",
      "3786 2000 session-1731-03-03-ordinaris-num-1-resolution-7 22106 seconds\n",
      "3786 2627 session-1731-05-23-ordinaris-num-1-resolution-6 22232 seconds\n",
      "3787 1000 session-1732-05-14-ordinaris-num-1-resolution-1 22412 seconds\n",
      "3787 2000 session-1732-05-19-ordinaris-num-1-resolution-10 22600 seconds\n",
      "3787 2606 session-1732-06-06-ordinaris-num-1-resolution-1 22710 seconds\n",
      "3788 1000 session-1733-08-21-ordinaris-num-1-resolution-15 22897 seconds\n",
      "3788 2000 session-1733-12-22-ordinaris-num-1-resolution-10 23088 seconds\n",
      "3788 2833 session-1733-11-27-ordinaris-num-1-resolution-12 23243 seconds\n",
      "3789 1000 session-1734-02-11-ordinaris-num-1-resolution-4 23410 seconds\n",
      "3789 2000 session-1734-04-12-ordinaris-num-1-resolution-5 23588 seconds\n",
      "3789 2490 session-1734-07-06-ordinaris-num-1-resolution-8 23665 seconds\n",
      "3790 1000 session-1735-03-22-ordinaris-num-1-resolution-5 23856 seconds\n",
      "3790 2000 session-1735-04-29-ordinaris-num-1-resolution-8 24041 seconds\n",
      "3790 2195 session-1735-09-06-ordinaris-num-1-resolution-1 24077 seconds\n",
      "3791 1000 session-1736-12-10-ordinaris-num-1-resolution-6 24255 seconds\n",
      "3791 2000 session-1736-09-08-ordinaris-num-1-resolution-1 24448 seconds\n",
      "3791 2203 session-1736-10-26-ordinaris-num-1-resolution-7 24493 seconds\n",
      "3792 1000 session-1737-10-28-ordinaris-num-1-resolution-3 24676 seconds\n",
      "3792 2000 session-1737-12-19-ordinaris-num-1-resolution-7 24865 seconds\n",
      "3792 2582 session-1737-09-17-ordinaris-num-1-resolution-7 24968 seconds\n",
      "3793 1000 session-1738-04-08-ordinaris-num-1-resolution-6 25171 seconds\n",
      "3793 2000 session-1738-08-05-ordinaris-num-1-resolution-3 25404 seconds\n",
      "3793 2431 session-1738-01-04-ordinaris-num-1-resolution-8 25485 seconds\n",
      "3794 1000 session-1739-05-22-ordinaris-num-1-resolution-9 25682 seconds\n",
      "3794 2000 session-1739-08-22-ordinaris-num-1-resolution-10 25902 seconds\n",
      "3794 2290 session-1739-12-10-ordinaris-num-1-resolution-1 26006 seconds\n",
      "3795 1000 session-1740-08-29-ordinaris-num-1-resolution-8 26225 seconds\n",
      "3795 2000 session-1740-04-23-ordinaris-num-1-resolution-4 26417 seconds\n",
      "3795 2588 session-1740-03-16-ordinaris-num-1-resolution-2 26524 seconds\n",
      "3796 1000 session-1741-04-07-ordinaris-num-1-resolution-7 26730 seconds\n",
      "3796 2000 session-1741-07-31-ordinaris-num-1-resolution-10 26912 seconds\n",
      "3796 2919 session-1741-03-16-ordinaris-num-1-resolution-3 27105 seconds\n",
      "3797 1000 session-1742-08-03-ordinaris-num-1-resolution-6 27301 seconds\n",
      "3797 2000 session-1742-08-25-ordinaris-num-1-resolution-1 27553 seconds\n",
      "3797 2712 session-1742-01-31-ordinaris-num-1-resolution-8 27692 seconds\n",
      "3798 1000 session-1743-02-05-ordinaris-num-1-resolution-2 27862 seconds\n",
      "3798 2000 session-1743-04-10-ordinaris-num-1-resolution-2 28040 seconds\n",
      "3798 2424 session-1743-12-13-ordinaris-num-1-resolution-7 28117 seconds\n",
      "3799 1000 session-1744-04-27-ordinaris-num-1-resolution-9 28323 seconds\n",
      "3799 2000 session-1744-10-31-ordinaris-num-1-resolution-4 28519 seconds\n",
      "3799 2721 session-1744-12-31-ordinaris-num-1-resolution-2 28667 seconds\n",
      "3800 1000 session-1745-08-09-ordinaris-num-1-resolution-13 28864 seconds\n",
      "3800 2000 session-1745-11-15-ordinaris-num-1-resolution-9 29064 seconds\n",
      "3800 3000 session-1745-05-14-ordinaris-num-1-resolution-11 29267 seconds\n",
      "3800 3128 session-1745-11-25-ordinaris-num-1-resolution-4 29293 seconds\n",
      "3801 1000 session-1746-05-27-ordinaris-num-1-resolution-6 29507 seconds\n",
      "3801 2000 session-1746-07-30-ordinaris-num-1-resolution-7 29728 seconds\n",
      "3801 2906 session-1746-10-03-ordinaris-num-1-resolution-1 29932 seconds\n",
      "3802 1000 session-1747-06-05-ordinaris-num-1-resolution-2 30126 seconds\n",
      "3802 2000 session-1747-08-23-ordinaris-num-1-resolution-2 30327 seconds\n",
      "3802 2977 session-1747-05-26-ordinaris-num-1-resolution-12 30547 seconds\n",
      "3803 1000 session-1748-12-19-ordinaris-num-1-resolution-8 30769 seconds\n",
      "3803 2000 session-1748-11-19-ordinaris-num-1-resolution-4 30969 seconds\n",
      "3803 2642 session-1748-04-24-ordinaris-num-1-resolution-18 31099 seconds\n",
      "3804 1000 session-1749-08-18-ordinaris-num-1-resolution-5 31305 seconds\n",
      "3804 2000 session-1749-05-20-ordinaris-num-1-resolution-4 31531 seconds\n",
      "3804 2682 session-1749-12-24-ordinaris-num-1-resolution-9 31683 seconds\n",
      "3805 1000 session-1750-03-10-ordinaris-num-1-resolution-6 31915 seconds\n",
      "3805 2000 session-1750-12-01-ordinaris-num-1-resolution-9 32140 seconds\n",
      "3805 2501 session-1750-06-02-ordinaris-num-1-resolution-3 32255 seconds\n",
      "3806 1000 session-1751-09-10-ordinaris-num-1-resolution-10 32461 seconds\n",
      "3806 2000 session-1751-01-23-ordinaris-num-1-resolution-4 32730 seconds\n",
      "3806 2571 session-1751-08-30-ordinaris-num-1-resolution-7 32850 seconds\n",
      "3807 1000 session-1752-09-12-ordinaris-num-1-resolution-6 33105 seconds\n",
      "3807 2000 session-1752-06-16-ordinaris-num-1-resolution-3 33327 seconds\n",
      "3807 2423 session-1752-06-09-ordinaris-num-1-resolution-4 33422 seconds\n",
      "3808 1000 session-1753-01-13-ordinaris-num-1-resolution-5 33688 seconds\n",
      "3808 2000 session-1753-12-07-ordinaris-num-1-resolution-1 33922 seconds\n",
      "3808 2222 session-1753-05-17-ordinaris-num-1-resolution-3 34402 seconds\n",
      "3809 1000 session-1754-07-18-ordinaris-num-1-resolution-7 34605 seconds\n",
      "3809 2000 session-1754-08-06-ordinaris-num-1-resolution-3 35455 seconds\n",
      "3809 2176 session-1754-09-23-ordinaris-num-1-resolution-1 35491 seconds\n",
      "3810 1000 session-1755-06-04-ordinaris-num-1-resolution-1 35699 seconds\n",
      "3810 2000 session-1755-02-21-ordinaris-num-1-resolution-4 35918 seconds\n",
      "3810 2175 session-1755-11-14-ordinaris-num-1-resolution-5 35953 seconds\n",
      "3811 1000 session-1756-05-04-ordinaris-num-1-resolution-12 36165 seconds\n",
      "3811 2000 session-1756-12-02-ordinaris-num-1-resolution-2 36397 seconds\n",
      "3811 2221 session-1756-07-14-ordinaris-num-1-resolution-5 36442 seconds\n",
      "3812 1000 session-1757-09-05-ordinaris-num-1-resolution-3 36657 seconds\n",
      "3812 2000 session-1757-11-30-ordinaris-num-1-resolution-2 36869 seconds\n",
      "3812 2674 session-1757-05-18-ordinaris-num-1-resolution-2 37004 seconds\n",
      "3813 1000 session-1758-05-25-ordinaris-num-1-resolution-3 37221 seconds\n",
      "3813 2000 session-1758-05-22-ordinaris-num-1-resolution-8 37433 seconds\n",
      "3813 2595 session-1758-01-03-ordinaris-num-1-resolution-8 37574 seconds\n",
      "3814 1000 session-1759-05-11-ordinaris-num-1-resolution-14 37798 seconds\n",
      "3814 2000 session-1759-09-18-ordinaris-num-1-resolution-7 38023 seconds\n",
      "3814 2770 session-1759-01-10-ordinaris-num-1-resolution-2 38184 seconds\n",
      "3815 1000 session-1760-11-03-ordinaris-num-1-resolution-5 38396 seconds\n",
      "3815 2000 session-1760-10-29-ordinaris-num-1-resolution-1 38629 seconds\n",
      "3815 2617 session-1760-03-17-ordinaris-num-1-resolution-1 38774 seconds\n",
      "3816 1000 session-1761-10-29-ordinaris-num-1-resolution-2 38998 seconds\n",
      "3816 2000 session-1761-04-14-ordinaris-num-1-resolution-6 39220 seconds\n",
      "3816 2538 session-1761-08-03-ordinaris-num-1-resolution-14 39322 seconds\n",
      "3817 1000 session-1762-07-22-ordinaris-num-1-resolution-3 39565 seconds\n",
      "3817 2000 session-1762-05-10-ordinaris-num-1-resolution-13 39790 seconds\n",
      "3817 2533 session-1762-05-03-ordinaris-num-1-resolution-18 39920 seconds\n",
      "3818 1000 session-1763-05-20-ordinaris-num-1-resolution-9 40167 seconds\n",
      "3818 2000 session-1763-01-06-ordinaris-num-1-resolution-3 40408 seconds\n",
      "3818 2254 session-1763-12-28-ordinaris-num-1-resolution-6 40460 seconds\n",
      "3819 1000 session-1764-08-21-ordinaris-num-1-resolution-7 40709 seconds\n",
      "3819 2000 session-1764-04-04-ordinaris-num-1-resolution-6 40951 seconds\n",
      "3819 2325 session-1764-01-11-ordinaris-num-1-resolution-8 41036 seconds\n",
      "3820 1000 session-1765-08-01-ordinaris-num-1-resolution-4 41276 seconds\n",
      "3820 2000 session-1765-12-31-ordinaris-num-1-resolution-7 41493 seconds\n",
      "3820 2124 session-1765-08-21-ordinaris-num-1-resolution-6 41524 seconds\n",
      "3821 1000 session-1766-01-03-ordinaris-num-1-resolution-6 41728 seconds\n",
      "3821 2000 session-1766-07-22-ordinaris-num-1-resolution-2 41957 seconds\n",
      "3821 2116 session-1766-03-06-ordinaris-num-1-resolution-3 41977 seconds\n",
      "3822 1000 session-1767-06-19-ordinaris-num-1-resolution-9 42221 seconds\n",
      "3822 2000 session-1767-07-31-ordinaris-num-1-resolution-10 42448 seconds\n",
      "3822 2092 session-1767-09-07-ordinaris-num-1-resolution-7 42466 seconds\n",
      "3823 1000 session-1768-09-26-ordinaris-num-1-resolution-1 42691 seconds\n",
      "3823 2000 session-1768-10-11-ordinaris-num-1-resolution-3 42917 seconds\n",
      "3823 2049 session-1768-05-18-ordinaris-num-1-resolution-1 42928 seconds\n",
      "3824 1000 session-1769-06-14-ordinaris-num-1-resolution-6 43164 seconds\n",
      "3824 2000 session-1769-03-03-ordinaris-num-1-resolution-3 43593 seconds\n",
      "3824 2197 session-1769-09-08-ordinaris-num-1-resolution-3 43649 seconds\n",
      "3825 1000 session-1770-05-25-ordinaris-num-1-resolution-8 43896 seconds\n",
      "3825 2000 session-1770-09-12-ordinaris-num-1-resolution-2 44152 seconds\n",
      "3825 2272 session-1770-03-29-ordinaris-num-1-resolution-11 44276 seconds\n",
      "3826 1000 session-1771-02-27-ordinaris-num-1-resolution-5 44524 seconds\n",
      "3826 2000 session-1771-05-03-ordinaris-num-1-resolution-8 44793 seconds\n",
      "3826 2237 session-1771-12-09-ordinaris-num-1-resolution-11 44852 seconds\n",
      "3827 1000 session-1772-11-05-ordinaris-num-1-resolution-6 45091 seconds\n",
      "3827 2000 session-1772-02-27-ordinaris-num-1-resolution-1 45324 seconds\n",
      "3827 2226 session-1772-10-26-ordinaris-num-1-resolution-7 45378 seconds\n",
      "3828 1000 session-1773-11-25-ordinaris-num-1-resolution-3 45623 seconds\n",
      "3828 2000 session-1773-07-22-ordinaris-num-1-resolution-1 45842 seconds\n",
      "3828 2206 session-1773-10-08-ordinaris-num-1-resolution-12 45893 seconds\n",
      "3829 1000 session-1774-04-12-ordinaris-num-1-resolution-4 46109 seconds\n",
      "3829 2000 session-1774-10-10-ordinaris-num-1-resolution-5 46350 seconds\n",
      "3829 2241 session-1774-10-27-ordinaris-num-1-resolution-2 46404 seconds\n",
      "3830 1000 session-1775-05-04-ordinaris-num-1-resolution-2 46654 seconds\n",
      "3830 2000 session-1775-02-06-ordinaris-num-1-resolution-20 46899 seconds\n",
      "3830 2169 session-1775-04-06-ordinaris-num-1-resolution-13 46951 seconds\n",
      "3831 1000 session-1776-04-22-ordinaris-num-1-resolution-5 47200 seconds\n",
      "3831 2000 session-1776-10-14-ordinaris-num-1-resolution-2 47450 seconds\n",
      "3831 2295 session-1776-12-06-ordinaris-num-1-resolution-3 47523 seconds\n",
      "3832 1000 session-1777-01-14-ordinaris-num-1-resolution-4 47778 seconds\n",
      "3832 2000 session-1777-07-03-ordinaris-num-1-resolution-7 48057 seconds\n",
      "3832 2191 session-1777-11-04-ordinaris-num-1-resolution-11 48105 seconds\n",
      "3833 1000 session-1778-10-30-ordinaris-num-1-resolution-3 48351 seconds\n",
      "3833 2000 session-1778-03-04-ordinaris-num-1-resolution-2 48614 seconds\n",
      "3833 2588 session-1778-12-01-ordinaris-num-1-resolution-11 48757 seconds\n",
      "3834 1000 session-1779-04-19-ordinaris-num-1-resolution-19 49006 seconds\n",
      "3834 2000 session-1779-01-07-ordinaris-num-1-resolution-1 49254 seconds\n",
      "3834 2687 session-1779-09-09-ordinaris-num-1-resolution-1 49431 seconds\n",
      "3835 1000 session-1780-10-31-ordinaris-num-1-resolution-10 49680 seconds\n",
      "3835 2000 session-1780-11-20-ordinaris-num-1-resolution-10 49937 seconds\n",
      "3835 2621 session-1780-03-20-ordinaris-num-1-resolution-3 50076 seconds\n",
      "3836 1000 session-1781-01-05-ordinaris-num-1-resolution-7 50334 seconds\n",
      "3836 1806 session-1781-05-25-ordinaris-num-1-resolution-26 50553 seconds\n",
      "3837 1000 session-1781-07-09-ordinaris-num-1-resolution-25 50817 seconds\n",
      "3837 2000 session-1781-10-19-ordinaris-num-1-resolution-34 51066 seconds\n",
      "3837 2124 session-1781-10-19-ordinaris-num-1-resolution-50 51097 seconds\n",
      "3838 1000 session-1782-04-29-ordinaris-num-1-resolution-20 51348 seconds\n",
      "3838 1532 session-1782-02-12-ordinaris-num-1-resolution-9 51482 seconds\n",
      "3839 1000 session-1782-08-29-ordinaris-num-1-resolution-17 51902 seconds\n",
      "3839 1231 session-1782-09-18-ordinaris-num-1-resolution-3 51966 seconds\n",
      "3840 1000 session-1783-05-14-ordinaris-num-1-resolution-7 52185 seconds\n",
      "3840 1735 session-1783-06-11-ordinaris-num-1-resolution-5 52440 seconds\n",
      "3841 1000 session-1783-12-24-ordinaris-num-1-resolution-1 52698 seconds\n",
      "3841 1351 session-1783-11-10-ordinaris-num-1-resolution-6 52801 seconds\n",
      "3842 1000 session-1784-05-17-ordinaris-num-1-resolution-21 53070 seconds\n",
      "3842 1358 session-1784-06-29-ordinaris-num-1-resolution-9 53166 seconds\n",
      "3843 1000 session-1784-10-06-ordinaris-num-1-resolution-3 53456 seconds\n",
      "3843 1602 session-1784-12-06-ordinaris-num-1-resolution-35 53675 seconds\n",
      "3844 1000 session-1785-01-24-ordinaris-num-1-resolution-19 53957 seconds\n",
      "3844 1529 session-1785-04-04-ordinaris-num-1-resolution-3 54101 seconds\n",
      "3845 1000 session-1785-11-14-ordinaris-num-1-resolution-12 54375 seconds\n",
      "3845 1354 session-1785-07-29-ordinaris-num-1-resolution-3 54484 seconds\n",
      "3846 1000 session-1786-06-08-ordinaris-num-1-resolution-7 54747 seconds\n",
      "3846 1603 session-1786-06-12-ordinaris-num-1-resolution-1 54956 seconds\n",
      "3847 1000 session-1786-10-03-ordinaris-num-1-resolution-3 55241 seconds\n",
      "3847 1520 session-1786-07-04-ordinaris-num-1-resolution-4 55389 seconds\n",
      "3848 1000 session-1787-03-19-ordinaris-num-1-resolution-23 55663 seconds\n",
      "3848 1301 session-1787-06-01-ordinaris-num-1-resolution-5 55753 seconds\n",
      "3849 1000 session-1787-08-20-ordinaris-num-1-resolution-13 56025 seconds\n",
      "3849 1473 session-1787-08-30-ordinaris-num-1-resolution-7 56201 seconds\n",
      "3850 1000 session-1788-06-23-ordinaris-num-1-resolution-13 56470 seconds\n",
      "3850 1497 session-1788-02-29-ordinaris-num-1-resolution-3 56606 seconds\n",
      "3851 1000 session-1788-09-22-ordinaris-num-1-resolution-4 56843 seconds\n",
      "3851 1323 session-1788-07-08-ordinaris-num-1-resolution-6 56920 seconds\n",
      "3852 1000 session-1789-02-23-ordinaris-num-1-resolution-3 57159 seconds\n",
      "3852 2000 session-1789-01-29-ordinaris-num-1-resolution-5 57403 seconds\n",
      "3852 2661 session-1789-01-26-ordinaris-num-1-resolution-14 57559 seconds\n",
      "3853 1000 session-1790-09-21-ordinaris-num-1-resolution-5 57791 seconds\n",
      "3853 2000 session-1790-10-01-ordinaris-num-1-resolution-3 58023 seconds\n",
      "3853 2683 session-1790-01-26-ordinaris-num-1-resolution-1 58168 seconds\n",
      "3854 1000 session-1791-04-28-ordinaris-num-1-resolution-2 58450 seconds\n",
      "3854 1401 session-1791-06-22-ordinaris-num-1-resolution-8 58537 seconds\n",
      "3855 1000 session-1791-10-17-ordinaris-num-1-resolution-13 58799 seconds\n",
      "3855 1381 session-1791-12-01-ordinaris-num-1-resolution-9 58895 seconds\n",
      "3856 1000 session-1792-05-31-ordinaris-num-1-resolution-1 59140 seconds\n",
      "3856 1462 session-1792-01-04-ordinaris-num-1-resolution-16 59251 seconds\n",
      "3857 1000 session-1792-11-26-ordinaris-num-1-resolution-1 59479 seconds\n",
      "3857 1468 session-1792-08-27-ordinaris-num-1-resolution-3 59600 seconds\n",
      "3858 1000 session-1793-01-14-ordinaris-num-1-resolution-4 59872 seconds\n",
      "3858 1859 session-1793-02-06-ordinaris-num-1-resolution-1 60085 seconds\n",
      "3859 1000 session-1793-12-18-ordinaris-num-1-resolution-10 60318 seconds\n",
      "3859 1635 session-1793-07-22-ordinaris-num-1-resolution-13 60459 seconds\n",
      "3860 1000 session-1794-05-14-ordinaris-num-1-resolution-16 60697 seconds\n",
      "3860 1875 session-1794-04-11-ordinaris-num-1-resolution-13 60895 seconds\n",
      "3861 1000 session-1794-07-09-ordinaris-num-1-resolution-7 61127 seconds\n",
      "3861 1526 session-1794-11-08-ordinaris-num-1-resolution-4 61231 seconds\n",
      "3862 1000 session-1795-04-10-ordinaris-num-1-resolution-14 61520 seconds\n",
      "3862 2000 session-1795-03-10-ordinaris-num-1-resolution-7 61807 seconds\n",
      "3862 2210 session-1795-02-19-ordinaris-num-1-resolution-12 61868 seconds\n",
      "3863 1000 session-1795-10-16-ordinaris-num-1-resolution-26 62196 seconds\n",
      "3863 2000 session-1795-11-24-ordinaris-num-1-resolution-8 62508 seconds\n",
      "3863 3000 session-1795-07-11-ordinaris-num-1-resolution-2 62810 seconds\n",
      "3863 3534 session-1795-07-31-ordinaris-num-1-resolution-11 63005 seconds\n",
      "3864 1000 session-1796-02-15-ordinaris-num-1-resolution-9 63346 seconds\n",
      "3864 1049 session-1796-01-19-ordinaris-num-1-resolution-19 63364 seconds\n"
     ]
    }
   ],
   "source": [
    "import gzip\n",
    "import time\n",
    "\n",
    "\n",
    "inv_nums = [i for i in range(3760, 3865)]\n",
    "\n",
    "start_time = time.time()\n",
    "\n",
    "for inv_num in inv_nums:\n",
    "    out_file = f'../../data/resolutions/ner_tagged/resolutions-{inv_num}.tsv.gz'\n",
    "    with gzip.open(out_file, 'wt') as fh:\n",
    "        for ri, res in enumerate(read_inventory_resolutions(inv_num)):\n",
    "            if (ri+1) % 1000 == 0:\n",
    "                step_time = time.time()\n",
    "                took = step_time - start_time\n",
    "                print(inv_num, ri+1, res.id, f\"{took: >.0f} seconds\")\n",
    "            text = res.text\n",
    "            res_text = res.text.replace('\\n', '    ').replace('\\t', '    ')\n",
    "            sentence = Sentence(res_text)\n",
    "            model[layer].predict(sentence)\n",
    "            tagged_positions = get_tagged_positions(sentence)\n",
    "            for tagged_position in tagged_positions:\n",
    "                start, end = tagged_position\n",
    "                tag_type = tagged_positions[tagged_position]\n",
    "                text = text[:start] + f'<{tag_type}>' + text[start:end] + f'</{tag_type}>' + text[end:]\n",
    "            fh.write(f\"{res.id}\\t{text}\\n\")\n",
    "        step_time = time.time()\n",
    "        took = step_time - start_time\n",
    "        print(inv_num, ri+1, res.id, f\"{took: >.0f} seconds\")\n"
   ]
  },
  {
   "cell_type": "markdown",
   "id": "1cced4da-967d-4f6a-81ef-29ef883635e8",
   "metadata": {},
   "source": [
    "## Splitting glued resolutions"
   ]
  },
  {
   "cell_type": "code",
   "execution_count": null,
   "id": "c816b24e-644c-400a-ab84-f8c6ef3e6bbe",
   "metadata": {},
   "outputs": [],
   "source": [
    "import glob\n",
    "import gzip\n",
    "import os\n",
    "\n",
    "\n",
    "def read_tagged_resolutions(tagged_res_dir, split_dir):\n",
    "    tagged_res_files = glob.glob(os.path.join(tagged_res_dir, '*.gz'))\n",
    "\n",
    "    for tagged_res_file in tagged_res_files:\n",
    "        tagged_dir, tagged_file = os.path.split(tagged_res_file)\n",
    "        #print([tagged_dir, tagged_file])\n",
    "        split_res_file = os.path.join(split_dir, tagged_file)\n",
    "        #print(split_res_file)\n",
    "        with gzip.open(tagged_res_file, 'rt') as fh:\n",
    "            data = fh.read()\n",
    "            lines = ['session-17' + line for line in data.split('session-17') if line != '']\n",
    "            print(len(lines), tagged_file)\n",
    "            with gzip.open(split_res_file, 'wt') as fh_out:\n",
    "                for line in lines:\n",
    "                    fh_out.write(f\"{line}\\n\")\n",
    "    return None\n",
    "\n",
    "\n",
    "\n",
    "tagged_res_dir = '../../data/resolutions/ner_tagged/'\n",
    "split_dir = '../../data/resolutions/ner_tagged_split/'\n",
    "\n",
    "read_tagged_resolutions(tagged_res_dir, split_dir)"
   ]
  },
  {
   "cell_type": "code",
   "execution_count": null,
   "id": "ab53bb6d",
   "metadata": {},
   "outputs": [],
   "source": []
  },
  {
   "cell_type": "code",
   "execution_count": null,
   "id": "2a32d00f",
   "metadata": {},
   "outputs": [],
   "source": []
  },
  {
   "cell_type": "code",
   "execution_count": null,
   "id": "1850d9eb",
   "metadata": {},
   "outputs": [],
   "source": []
  },
  {
   "cell_type": "code",
   "execution_count": null,
   "id": "a69d4598",
   "metadata": {},
   "outputs": [],
   "source": []
  }
 ],
 "metadata": {
  "kernelspec": {
   "display_name": "Python 3 (ipykernel)",
   "language": "python",
   "name": "python3"
  },
  "language_info": {
   "codemirror_mode": {
    "name": "ipython",
    "version": 3
   },
   "file_extension": ".py",
   "mimetype": "text/x-python",
   "name": "python",
   "nbconvert_exporter": "python",
   "pygments_lexer": "ipython3",
   "version": "3.10.12"
  },
  "toc": {
   "base_numbering": 1,
   "nav_menu": {},
   "number_sections": true,
   "sideBar": true,
   "skip_h1_title": false,
   "title_cell": "Table of Contents",
   "title_sidebar": "Contents",
   "toc_cell": false,
   "toc_position": {},
   "toc_section_display": true,
   "toc_window_display": false
  }
 },
 "nbformat": 4,
 "nbformat_minor": 5
}
