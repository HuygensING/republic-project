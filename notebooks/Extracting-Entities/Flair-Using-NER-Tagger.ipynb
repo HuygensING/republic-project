{
 "cells": [
  {
   "cell_type": "code",
   "execution_count": 177,
   "id": "e498001d",
   "metadata": {},
   "outputs": [
    {
     "name": "stdout",
     "output_type": "stream",
     "text": [
      "adding project dir to path: /Users/marijnkoolen/Code/Huygens/republic-project\n"
     ]
    }
   ],
   "source": [
    "# This reload library is just used for developing the REPUBLIC hOCR parser \n",
    "# and can be removed once this module is stable.\n",
    "%reload_ext autoreload\n",
    "%autoreload 2\n",
    "\n",
    "\n",
    "# This is needed to add the repo dir to the path so jupyter\n",
    "# can load the republic modules directly from the notebooks\n",
    "import os\n",
    "import sys\n",
    "repo_name = 'republic-project'\n",
    "repo_dir = os.path.split(os.getcwd())[0].split(repo_name)[0] + repo_name\n",
    "print(\"adding project dir to path:\", repo_dir)\n",
    "if repo_dir not in sys.path:\n",
    "    sys.path = [repo_dir] + sys.path\n",
    "else:\n",
    "    sys.path.remove(repo_dir)\n",
    "    sys.path = [repo_dir] + sys.path\n",
    "    \n"
   ]
  },
  {
   "cell_type": "code",
   "execution_count": 178,
   "id": "21e41118",
   "metadata": {},
   "outputs": [
    {
     "name": "stdout",
     "output_type": "stream",
     "text": [
      "2023-04-26 00:02:32,946 SequenceTagger predicts: Dictionary with 35 tags: O, S-HOE, B-HOE, E-HOE, I-HOE, S-LOC, B-LOC, E-LOC, I-LOC, S-PER, B-PER, E-PER, I-PER, S-ORG, B-ORG, E-ORG, I-ORG, S-DAT, B-DAT, E-DAT, I-DAT, S-RES, B-RES, E-RES, I-RES, S-COM, B-COM, E-COM, I-COM, S-NAM, B-NAM, E-NAM, I-NAM, <START>, <STOP>\n"
     ]
    }
   ],
   "source": [
    "from flair.models import SequenceTagger\n",
    "from flair.data import Sentence\n",
    "\n",
    "flair_dir = f'{repo_dir}/data/embeddings/flair_embeddings/'\n",
    "\n",
    "# load the model you trained\n",
    "model_dir = '../../data/embeddings/flair_embeddings/resources/taggers/ner-tbd-DAT-train_1.0-without_flair-mini_batch_size_8/'\n",
    "train_size = 1.0\n",
    "layer_name = 'DAT'\n",
    "use_flair = True\n",
    "with_flair = 'with_flair' if use_flair else 'without_flair'\n",
    "\n",
    "model = {}\n",
    "\n",
    "layers = ['DAT', 'HOE', 'LOC', 'ORG', 'COM', 'PER', 'RES', 'NAM']\n",
    "\n",
    "for layer_name in ['single_layer']:\n",
    "    model_dir = f'{flair_dir}/resources/taggers/ner-tbd-{layer_name}-train_{train_size}-{with_flair}-mini_batch_size_8'\n",
    "\n",
    "    model[layer_name] = SequenceTagger.load(f'{model_dir}/final-model.pt')\n",
    "\n"
   ]
  },
  {
   "cell_type": "code",
   "execution_count": 199,
   "id": "ab5ed31c",
   "metadata": {},
   "outputs": [],
   "source": [
    "import os\n",
    "from IPython.display import HTML as html_print\n",
    "\n",
    "\n",
    "def get_layer_test_file(layer_name):\n",
    "    gt_dir = os.path.join(repo_dir, 'ground_truth/entities/tag_de_besluiten')\n",
    "    layer_gt_dir = os.path.join(gt_dir, f'flair_training_{layer_name}')\n",
    "    return os.path.join(layer_gt_dir, 'test.txt')\n",
    "\n",
    "\n",
    "def get_token_tag(line):\n",
    "    if line == '\\n':\n",
    "        return '', '<S>'\n",
    "    token, tag = line.strip().split(' ')\n",
    "    #print(token, tag)\n",
    "    return token, tag\n",
    "\n",
    "\n",
    "def get_tokens_tags(test_file):\n",
    "    with open(test_file, 'rt') as fh:\n",
    "        tokens_tags = []\n",
    "        docs = []\n",
    "        for line in fh:\n",
    "            if line == '\\n':\n",
    "                if len(tokens_tags) > 0:\n",
    "                    docs.append(tokens_tags)\n",
    "                tokens_tags = []\n",
    "            tokens_tags.append(get_token_tag(line))\n",
    "    return docs\n",
    "    \n",
    "\n",
    "def get_tag_positions(tokens_tags):\n",
    "    text = ''\n",
    "    tag_position = {}\n",
    "    in_tag = False\n",
    "    start_pos, end_pos, tag_type = None, None, None\n",
    "    prev_tag_type = None\n",
    "    for token, tag in tokens_tags:\n",
    "        tag_type = tag[2:] if len(tag) > 2 else None\n",
    "        if tag_type != prev_tag_type:\n",
    "            if start_pos and prev_tag_type is not None:\n",
    "                end_pos = len(text)\n",
    "                tag_position[(start_pos, end_pos)] = prev_tag_type            \n",
    "            start_pos = len(text) if tag_type is not None else 0\n",
    "            end_pos = None\n",
    "        if tag.startswith('B-'):\n",
    "            tag_type = tag[2:]\n",
    "            start_pos = len(text)\n",
    "            end_pos = None\n",
    "        elif tag == 'O':\n",
    "            if start_pos and prev_tag_type is not None:\n",
    "                end_pos = len(text)\n",
    "                tag_position[(start_pos, end_pos)] = prev_tag_type\n",
    "            start_pos, end_pos, tag_type = None, None, None\n",
    "        prev_tag_type = tag_type\n",
    "        text = f'{text} {token}'\n",
    "    return tag_position\n",
    "\n",
    "\n",
    "\n",
    "def read_test_file(test_file):\n",
    "    docs = get_tokens_tags(test_file)\n",
    "    for doc_tokens_tags in docs:\n",
    "        tokens = [token for token, tag in doc_tokens_tags]\n",
    "        text = ' '.join(tokens)\n",
    "        tag_position = get_tag_positions(doc_tokens_tags)\n",
    "        yield {'text': text, 'tag_position': tag_position, 'filename': test_file}\n",
    "        \n",
    "        \n",
    "def get_tagged_positions(sentence):\n",
    "    tagged_position = {}\n",
    "    tagged_ranges = [(label.data_point.start_position, label.data_point.end_position, label.value) for label in sentence.labels]\n",
    "    text = sentence.text\n",
    "    for tagged_range in tagged_ranges[::-1]:\n",
    "        start, end, tag_type = tagged_range\n",
    "        tagged_position[(start, end)] = tag_type\n",
    "    return tagged_position\n",
    "            \n",
    "            \n",
    "def highlight_tagged_text_positions(text, tag_position):\n",
    "    for start, end in sorted(tag_position.keys(), key = lambda x: x[1], reverse=True):\n",
    "        tag_type = tag_position[(start, end)]\n",
    "        color = LAYER_COLOR[tag_type]\n",
    "        before, tag, after = text[:start], text[start:end], text[end:]\n",
    "        text = f\"{before}<font color='{color}'>{tag}</font>{after}\"\n",
    "    return f\"<p>{text}</p>\"\n",
    "\n",
    "\n",
    "def tag_text(text, model):\n",
    "    tagged_text = Sentence(text)\n",
    "    model[layer].predict(tagged_text)\n",
    "    return tagged_text\n",
    "        \n",
    "        \n",
    "def highlight_tagged_text(tagged_text):\n",
    "    tagged_position = get_tagged_positions(tagged_text)\n",
    "    return highlight_tagged_text_positions(tagged_text.text, tagged_position)\n"
   ]
  },
  {
   "cell_type": "code",
   "execution_count": 181,
   "id": "cf261d31",
   "metadata": {},
   "outputs": [
    {
     "name": "stdout",
     "output_type": "stream",
     "text": [
      "single_layer 163\n"
     ]
    }
   ],
   "source": [
    "from collections import defaultdict\n",
    "\n",
    "docs = defaultdict(list)\n",
    "\n",
    "for layer in model:\n",
    "    layer_test_file = get_layer_test_file(layer)\n",
    "    docs[layer] = [doc for doc in read_test_file(layer_test_file)]\n",
    "    print(layer, len(docs[layer]))"
   ]
  },
  {
   "cell_type": "code",
   "execution_count": 182,
   "id": "d2b75898",
   "metadata": {},
   "outputs": [
    {
     "data": {
      "text/html": [
       "<h2>Tagger</h2><p>ONtfangen een Missive van den <font color='red'>Lieutetenant Collonel</font> <font color='SlateBlue'>L . Deyts ,</font> <font color='red'>Commandeur van</font> <font color='green'>Viissingen</font> , geschreven te <font color='green'>Yperen</font> den <font color='blue'>eersten deeser loopende maand</font> , daar by zaan haar Hoog Mogende kennisse . geevende dat , in gevolge het verlof geobtineert van <font color='red'>sijn Doorlugtige Hoogheid</font> om sig uit sijn <font color='red'>Commandement van</font> <font color='green'>Vlissingen</font> te moogen absenteeren na <font color='green'>Yperen</font> in sijn Guarnisoen , als <font color='red'>Lieutenant Collonel by het eerste Battaillon van den</font> <font color='red'>Lieutenant Generaal</font> <font color='SlateBlue'>de Braauw</font> , hy te <font color='green'>Yperen</font> voornoemd was aangekoomen , en dat hy by absentie van den <font color='red'>Commandeur</font> <font color='SlateBlue'>de Casembroot</font> , sig aldaar den oudsten in rang bevindende , het commando van den <font color='red'>Major Beek</font> op hem genoomen hadde . WAAR op geen resolutie is gevallen .</p>\n",
       "\n",
       "<h2>Manual</h2><p>ONtfangen een Missive van den <font color='red'>Lieutetenant Collonel </font><font color='SlateBlue'>L . Deyts , </font><font color='red'>Commandeur van </font><font color='green'>Viissingen </font>, geschreven te <font color='green'>Yperen </font>den <font color='blue'>eersten deeser loopende maand </font>, daar by zaan haar Hoog Mogende kennisse . geevende dat , in gevolge het verlof geobtineert van sijn Doorlugtige Hoogheid om sig uit sijn Commandement van <font color='green'>Vlissingen </font>te moogen absenteeren na <font color='green'>Yperen </font>in sijn Guarnisoen , als Lieutenant Collonel by het eerste Battaillon van den <font color='red'>Lieutenant Generaal </font><font color='SlateBlue'>de Braauw </font>, hy te <font color='green'>Yperen </font>voornoemd was aangekoomen , en dat hy by absentie van den <font color='red'>Commandeur </font><font color='SlateBlue'>de Casembroot </font>, sig aldaar den oudsten in rang bevindende , het commando van den <font color='red'>Major </font><font color='SlateBlue'>Beek </font>op hem genoomen hadde . WAAR op geen resolutie is gevallen .</p>\n",
       "\n",
       "<h2>Tagger</h2><p> ONtfangen een Missive van den <font color='red'>Capitein</font> <font color='SlateBlue'>van Kinsbergen</font> , geschreven aan Boord van <font color='Orange'>' s Lands Fregat Argo</font> den <font color='blue'>27 der voorleeden maand</font> , leggende te <font color='green'>Mallaga</font> , geaddresseert aan den <font color='red'>Griffier</font> <font color='SlateBlue'>Fagel</font> , houdende , dat ten tyde dat met de Commissie van <font color='red'>haar Hoog Mog . den Reiser van</font> <font color='green'>Marocco</font> was gechargeert , aan sijne <font color='red'>Heeren en Meesters</font> rapport gedaan hadde , dat alsoo hem onbewust was , op wat voet het Huis van den <font color='red'>geweesen</font> <font color='red'>Consul</font> <font color='SlateBlue'>Rossignol</font> by haar Hoog Mog wierd geconsidereert , hy den <font color='red'>Consul</font> <font color='SlateBlue'>Blount</font> hadde gelast , om de Vlag van gemelde Huis soo lang te laten waayen , tot hy daar omtrent nadere ordre van haar Hoog Mog . soude hebben bekoomen . Dat gemelde <font color='red'>Consul</font> door een Brief van den <font color='blue'>30 Maart</font> hem kennisse hadde gegeeven , dat hy tot nog toe geene nadere ordres van haar Hoog Mog . dienaangaande ontfangen hadde , en dat bevreest was dat den Reiser dat Huis soude eigenen : maakende als na gewoonte pretensie op den armen <font color='red'>geweesenen</font> <font color='red'>Consul</font> <font color='SlateBlue'>Rossignol</font> , bevorens hy hem uit sijn Land wilde laten gaan . WAAR op gedelibereert zynde , hebben de <font color='purple'>Heeren Gedeputeerden van de Provincie van Holland en Westvriesland</font> de voorschreve Missive Copielyk overgenoomen , om in den haaren breeder gecommuniceert te worden .</p>\n",
       "\n",
       "<h2>Manual</h2><p> ONtfangen een Missive van den <font color='red'>Capitein </font><font color='SlateBlue'>van Kinsbergen </font>, geschreven aan Boord van <font color='Orange'>' s Lands Fregat Argo </font>den <font color='blue'>27 der voorleeden maand </font>, leggende te <font color='green'>Mallaga </font>, geaddresseert aan den <font color='red'>Griffier </font><font color='SlateBlue'>Fagel </font>, houdende , dat ten tyde dat met de Commissie van haar Hoog Mog . den <font color='SlateBlue'>Reiser van </font><font color='green'>Marocco </font>was gechargeert , aan sijne Heeren en Meesters rapport gedaan hadde , dat alsoo hem onbewust was , op wat voet het Huis van den <font color='red'>geweesen Consul </font><font color='SlateBlue'>Rossignol </font>by haar Hoog Mog wierd geconsidereert , hy den <font color='red'>Consul </font><font color='SlateBlue'>Blount </font>hadde gelast , om de Vlag van gemelde Huis soo lang te laten waayen , tot hy daar omtrent nadere ordre van haar Hoog Mog . soude hebben bekoomen . Dat gemelde <font color='red'>Consul </font>door een Brief van den <font color='blue'>30 Maart </font>hem kennisse hadde gegeeven , dat hy tot nog toe geene nadere ordres van haar Hoog Mog . dienaangaande ontfangen hadde , en dat bevreest was dat den <font color='red'>Reiser </font>dat Huis soude eigenen : maakende als na gewoonte pretensie op den armen <font color='red'>geweesenen Consul </font><font color='SlateBlue'>Rossignol </font>, bevorens hy hem uit sijn Land wilde laten gaan . WAAR op gedelibereert zynde , hebben de <font color='purple'>Heeren Gedeputeerden van de Provincie van Holland en Westvriesland </font>de voorschreve Missive Copielyk overgenoomen , om in den haaren breeder gecommuniceert te worden .</p>\n",
       "\n",
       "<h2>Tagger</h2><p> ONtfangen twee Missiven van den <font color='SlateBlue'>Heere Boreel ,</font> <font color='red'>haar Hoogh Mogende extraordinaris Ambassadeur aan het</font> <font color='purple'>Hof van</font> <font color='red'>sijne Majesteyt den Koningh van</font> <font color='green'>Groot-Brittannien</font> , geschreeven te <font color='green'>Londen</font> den <font color='blue'>eersten en vierden deeser loopende maand</font> , houdende advertentie . WAAR op geen resolutie is gevallen .</p>\n",
       "\n",
       "<h2>Manual</h2><p> ONtfangen twee Missiven van den <font color='SlateBlue'>Heere Boreel , </font><font color='red'>haar Hoogh Mogende extraordinaris Ambassadeur aan het </font><font color='purple'>Hof van </font><font color='red'>sijne Majesteyt den Koningh van </font><font color='green'>Groot-Brittannien , </font>geschreeven te <font color='green'>Londen </font>den <font color='blue'>eersten en vierden deeser loopende maand </font>, houdende advertentie . WAAR op geen resolutie is gevallen .</p>\n",
       "\n",
       "<h2>Tagger</h2><p> Ontfangen een Missive van de <font color='purple'>Neder-Rhijnsche West-Phaelsche Creyts - Vergaderingh tot</font> <font color='green'>Keulen</font> , geschreven tot <font color='green'>Keulen</font> den <font color='blue'>elfden der voorlede maendt Mey</font> , houdende , dat de <font color='red'>Gedeputeerden van den</font> <font color='red'>Heere Grave van</font> <font color='green'>Reckheym</font> als een notoire mede-Staet van de <font color='green'>Neder-Rhijnsche West-Phaelsche Creyts</font> , aen haer by de tegenwoordige Creyts-Vergaderingh wederom klagende hadde te kennen gegeven , in wat voegen verscheyde <font color='red'>Burgers en Ingezetenen der</font> <font color='green'>Stadt Maestricht</font> , dewelcke in het <font color='green'>Graefschap Reckheym</font> veel aensienlijcke erf - goederen notoiclijck besaten , ende vervolgens schuldigh waren , daer van oock , gelijck andere Conforenses . in ' s Landts ordinaris en extraordinaris lasten , van rechtswegen te contribueren , sigh pretenselijck onderston den , sonder de geringhste wettige oorsaeck , daer van op eygener authoriteyt te bevryden ; versoeckende dat haer Hoogh Mogende geliefden aen <font color='purple'>Burgermeesteren ende Raedt der</font> <font color='green'>Stadt Maestricht</font> , serieuselijck te beveelen , datse meergemelde hare Maestrightsche Burgers aenstonts tot werckelijcke voldoeninge van hare schuldigheyt , soo ordinaris als extraordinaris , gelijck als sy de selve in haer Hoogh Mogende eygen ende andere nabuyrige Territorien werckelijck ende willigh droegen , tam de praterito quam prasenti & profuturo , onaengesien het van haer misschien voorwende , maer by gemelde <font color='green'>Creyts</font> noyt plaets vindende particulier Contract , effective souden hebben aen te houden , ten eynde niet nodigh mochte wesen van wegens de gesamentlijcke <font color='green'>Creyts</font> , selfs tegens soodanige nalatige Contribuanten , conform de <font color='green'>Rijcks - en Creyts-Ordonnantien</font> sonder verder uytstel met de executie te procederen . Waer op gedelibereert zynde , is goetgevonden ende verstaen , dat Copie van de voorschreve Missive gestelt sal werden in handen van de <font color='red'>Heeren haer Hoogh Mogende Commissarissen Deciseurs</font> , die eerstdaeghs sullen gaen naer <font color='green'>Maestright</font> , om haer op de gelegentheyt van de saecke te informeren , en der selver bericht en advis daer op aen haer Hoogh Mogende te laten toekomen .</p>\n",
       "\n",
       "<h2>Manual</h2><p> Ontfangen een Missive van de <font color='purple'>Neder-Rhijnsche West-Phaelsche Creyts - Vergaderingh </font>tot <font color='green'>Keulen </font>, geschreven tot <font color='green'>Keulen </font>den <font color='blue'>elfden der voorlede maendt Mey </font>, houdende , dat de <font color='purple'>Gedeputeerden van den </font><font color='red'>Heere Grave van Reckheym </font>als een notoire mede-Staet van de <font color='purple'>Neder-Rhijnsche West-Phaelsche Creyts </font>, aen haer by de tegenwoordige Creyts-Vergaderingh wederom klagende hadde te kennen gegeven , in wat voegen verscheyde <font color='red'>Burgers en Ingezetenen </font><font color='purple'>der </font><font color='green'>Stadt Maestricht </font>, dewelcke in het <font color='green'>Graefschap Reckheym </font>veel aensienlijcke erf - goederen notoiclijck besaten , ende vervolgens schuldigh waren , daer van oock , gelijck andere Conforenses . in ' s Landts ordinaris en extraordinaris lasten , van rechtswegen te contribueren , sigh pretenselijck onderston den , sonder de geringhste wettige oorsaeck , daer van op eygener authoriteyt te bevryden ; versoeckende dat haer Hoogh Mogende geliefden aen <font color='red'>Burgermeesteren </font><font color='purple'>ende Raedt der </font><font color='green'>Stadt Maestricht </font>, serieuselijck te beveelen , datse meergemelde hare <font color='red'>Maestrightsche Burgers </font>aenstonts tot werckelijcke voldoeninge van hare schuldigheyt , soo ordinaris als extraordinaris , gelijck als sy de selve in haer Hoogh Mogende eygen ende andere nabuyrige Territorien werckelijck ende willigh droegen , tam de praterito quam prasenti & profuturo , onaengesien het van haer misschien voorwende , maer by gemelde Creyts noyt plaets vindende particulier Contract , effective souden hebben aen te houden , ten eynde niet nodigh mochte wesen van wegens de gesamentlijcke Creyts , selfs tegens soodanige nalatige Contribuanten , conform de Rijcks - en Creyts-Ordonnantien sonder verder uytstel met de executie te procederen . Waer op gedelibereert zynde , is goetgevonden ende verstaen , dat Copie van de voorschreve Missive gestelt sal werden in handen van de <font color='red'>Heeren haer Hoogh Mogende Commissarissen Deciseurs </font>, die eerstdaeghs sullen gaen naer <font color='green'>Maestright </font>, om haer op de gelegentheyt van de saecke te informeren , en der selver bericht en advis daer op aen haer Hoogh Mogende te laten toekomen .</p>"
      ],
      "text/plain": [
       "<IPython.core.display.HTML object>"
      ]
     },
     "execution_count": 182,
     "metadata": {},
     "output_type": "execute_result"
    }
   ],
   "source": [
    "\n",
    "LAYER_COLOR = {\n",
    "    'DAT': 'blue',\n",
    "    'HOE': 'red',\n",
    "    'LOC': 'green',\n",
    "    'ORG': 'purple',\n",
    "    'PER': 'SlateBlue',\n",
    "    'RES': 'DodgerBlue',\n",
    "    'COM': 'MediumSeaGreen',\n",
    "    'NAM': 'Orange'\n",
    "}\n",
    "\n",
    "\n",
    "\n",
    "layer_name = 'single_layer'\n",
    "texts = []\n",
    "\n",
    "for di in range(len(docs[layer_name])):\n",
    "    doc = docs[layer][di]\n",
    "    sentence = Sentence(doc['text'])\n",
    "    model[layer].predict(sentence)\n",
    "    tagged_position = get_tagged_positions(sentence)\n",
    "    #print('\\nTAGGED_POSITION:', tagged_position, '\\n')\n",
    "    #print('\\nTAG_POSITION:', doc['tag_position'], '\\n')\n",
    "    text = highlight_tagged_text(doc['text'], tagged_position)\n",
    "    texts.append('<h2>Tagger</h2>' + text)\n",
    "    #print('TAGGED:', text)\n",
    "    text = highlight_tagged_text(doc['text'], doc['tag_position'])\n",
    "    #print('TAG:', text)\n",
    "    texts.append('<h2>Manual</h2>' + text)\n",
    "    if di > 2:\n",
    "        break\n",
    "    \n",
    "html_print('\\n\\n'.join(texts))"
   ]
  },
  {
   "cell_type": "code",
   "execution_count": 189,
   "id": "7daf8cd4",
   "metadata": {},
   "outputs": [
    {
     "data": {
      "text/html": [
       "<p>Na maanden om de hete brij heen draaien heeft <font color='SlateBlue'>Joe Biden</font> officieel bekendgemaakt wat iedereen al had verwacht: hij gaat op voor een tweede termijn als <font color='red'>president</font>.</p>\n",
       "\n",
       "<p>Net als in 2020 zet <font color='SlateBlue'>Biden</font> zichzelf neer als de beste kandidaat die het kan opnemen tegen de <font color='purple'>beweging van</font> <font color='SlateBlue'>Donald Trump</font>, die hij omschrijft als <font color='red'>extremisten</font> die verworven vrijheden willen afpakken van de gewone <font color='red'>Amerikaan</font>.</p>\n",
       "\n",
       "<p><font color='SlateBlue'>Als</font> <font color='SlateBlue'>Donald Trump de</font> <font color='red'>Republikeinse presidentskandidaat</font> wordt, kan de race om het Witte Huis volgend jaar zomaar een revanchewedstrijd worden. Maar de kiezer is minder enthousiast over dit déjà vu-scenario. In een nieuwe peiling van NBC News zegt 70 procent dat <font color='SlateBlue'>Biden</font> zich niet opnieuw verkiesbaar moet stellen (de peiling werd gehouden voor de officiële bekendmaking) en 60 procent vindt dat <font color='SlateBlue'>Trump</font> niet nog een keer <font color='red'>presidentskandidaat</font> moet zijn. Dit betekent niet dat de kiezer niet op hen zou stemmen, maar de metaalmoeheid neemt toe.</p>"
      ],
      "text/plain": [
       "<IPython.core.display.HTML object>"
      ]
     },
     "execution_count": 189,
     "metadata": {},
     "output_type": "execute_result"
    }
   ],
   "source": [
    "# source: https://nos.nl/artikel/2472853-weer-biden-tegen-trump-voor-de-amerikanen-hoeft-dat-niet-zo\n",
    "raw_texts = [\n",
    "    \"\"\"Na maanden om de hete brij heen draaien heeft Joe Biden officieel bekendgemaakt wat iedereen al had verwacht: hij gaat op voor een tweede termijn als president.\"\"\",\n",
    "    \"\"\"Net als in 2020 zet Biden zichzelf neer als de beste kandidaat die het kan opnemen tegen de beweging van Donald Trump, die hij omschrijft als extremisten die verworven vrijheden willen afpakken van de gewone Amerikaan.\"\"\",\n",
    "    \"\"\"Als Donald Trump de Republikeinse presidentskandidaat wordt, kan de race om het Witte Huis volgend jaar zomaar een revanchewedstrijd worden. Maar de kiezer is minder enthousiast over dit déjà vu-scenario. In een nieuwe peiling van NBC News zegt 70 procent dat Biden zich niet opnieuw verkiesbaar moet stellen (de peiling werd gehouden voor de officiële bekendmaking) en 60 procent vindt dat Trump niet nog een keer presidentskandidaat moet zijn. Dit betekent niet dat de kiezer niet op hen zou stemmen, maar de metaalmoeheid neemt toe.\"\"\"\n",
    "]\n",
    "\n",
    "\n",
    "\n",
    "\n",
    "tagged_texts = []\n",
    "\n",
    "for text in raw_texts:\n",
    "    sentence = Sentence(text)\n",
    "    model[layer].predict(sentence)\n",
    "    tagged_position = get_tagged_positions(sentence)\n",
    "    text = highlight_tagged_text(text, tagged_position)\n",
    "    tagged_texts.append(text)\n",
    "    \n",
    "html_print('\\n\\n'.join(tagged_texts))\n"
   ]
  },
  {
   "cell_type": "code",
   "execution_count": 191,
   "id": "796b65b1",
   "metadata": {},
   "outputs": [
    {
     "data": {
      "text/html": [
       "<p>Ik vond dit boek op een kamer van een <font color='red'>cliënt die ik verzorgde</font>, ik was geïntrigeerd over de titel en het liet me niet meer los. Daarom heb ik het boek tijdens mijn vakantie meegenomen. Tot nu toe heb ik daar geen spijt van gehad.</p>\n",
       "\n",
       "<p>Het is het dagboek van <font color='SlateBlue'>Hendrik Groen,</font> <font color='red'>Hendrik woont in een verzorgingshuis in</font> <font color='green'>Nederland</font>, hij heeft een paar ouderdomskwaaltjes waarover hij regelmatig een overleg heeft met zijn <font color='red'>huisarts en geriater</font>. Het leuke aan deze gesprekjes vond ik dat hij ze steeds op stang jaagt met de vraag om dé pil. Zonder dat hij er voorlopig gebruik van wil maken want er zijn nog genoeg leuke dingen in het leven volgens <font color='SlateBlue'>Hendrik.</font></p>\n",
       "\n",
       "<p>Hij besluit om het anders te gaan doen. Hij verzamelt een groepje medestanders en richt de club oud-maar-nog-niet-dood op. Samen organiseren ze om de beurt een uitje. Een kookworkshop, golfen, of naar een 3D film. Iets wat de <font color='red'>activiteitenbegeleiders van het huis</font> niet direct aan zouden denken. Maar ook iets wat de <font color='red'>kok en de directrice van het huis</font> niet echt kunnen waarderen maar omdat de reglementen niet openbaar worden gemaakt niet verboden kunnen worden.</p>"
      ],
      "text/plain": [
       "<IPython.core.display.HTML object>"
      ]
     },
     "execution_count": 191,
     "metadata": {},
     "output_type": "execute_result"
    }
   ],
   "source": [
    "raw_texts = [\n",
    "    \"\"\"Ik vond dit boek op een kamer van een cliënt die ik verzorgde, ik was geïntrigeerd over de titel en het liet me niet meer los. Daarom heb ik het boek tijdens mijn vakantie meegenomen. Tot nu toe heb ik daar geen spijt van gehad.\"\"\",\n",
    "    \"\"\"Het is het dagboek van Hendrik Groen, Hendrik woont in een verzorgingshuis in Nederland, hij heeft een paar ouderdomskwaaltjes waarover hij regelmatig een overleg heeft met zijn huisarts en geriater. Het leuke aan deze gesprekjes vond ik dat hij ze steeds op stang jaagt met de vraag om dé pil. Zonder dat hij er voorlopig gebruik van wil maken want er zijn nog genoeg leuke dingen in het leven volgens Hendrik.\"\"\",\n",
    "    \"\"\"Hij besluit om het anders te gaan doen. Hij verzamelt een groepje medestanders en richt de club oud-maar-nog-niet-dood op. Samen organiseren ze om de beurt een uitje. Een kookworkshop, golfen, of naar een 3D film. Iets wat de activiteitenbegeleiders van het huis niet direct aan zouden denken. Maar ook iets wat de kok en de directrice van het huis niet echt kunnen waarderen maar omdat de reglementen niet openbaar worden gemaakt niet verboden kunnen worden.\"\"\"\n",
    "]\n",
    "\n",
    "tagged_texts = []\n",
    "\n",
    "for text in raw_texts:\n",
    "    sentence = Sentence(text)\n",
    "    model[layer].predict(sentence)\n",
    "    tagged_position = get_tagged_positions(sentence)\n",
    "    text = highlight_tagged_text(text, tagged_position)\n",
    "    tagged_texts.append(text)\n",
    "    \n",
    "html_print('\\n\\n'.join(tagged_texts))\n"
   ]
  },
  {
   "cell_type": "code",
   "execution_count": 203,
   "id": "acf5b643",
   "metadata": {},
   "outputs": [
    {
     "data": {
      "text/html": [
       "<p>Ontfangen een missive vanden <font color='red'>Commissaris</font> <font color='SlateBlue'>Johan reimst</font>, geschreven tot <font color='green'>Paris</font> den <font color='blue'>3e. deses</font> & daernevens drie bijlagen, houdende poincten van conlideratie, raeckende t' stuck vande marine; Waerop gedelibereert sijnde hebben d'Heeren van <font color='purple'>Hollandt</font> vande voors missive ende bijlagen versocht copie die haer E. wort geaccordeert om den haren breder gecommuniceert te worden, & sal oock aen d‛andere provincien des begerende gelijcke copie gegeven worden. o: <font color='red'>ordinaris ambassadeur in</font> <font color='green'>Engelandt</font> geschre ven tot <font color='green'>Londen</font> den <font color='blue'>tweeden deses</font> houdende advertentie, ende onder anderen eenige poincten van — consideratie. Waerop gedelibereert sijnde, hebben de Provincien daervan versocht copie om in den haren breder gecommuniceert te worden, die haer E wert geaccordeert.</p>"
      ],
      "text/plain": [
       "<IPython.core.display.HTML object>"
      ]
     },
     "execution_count": 203,
     "metadata": {},
     "output_type": "execute_result"
    }
   ],
   "source": [
    "text = \"\"\"Ontfangen een missive vanden Commissaris Johan reimst, geschreven tot Paris den 3e. deses & daernevens drie bijlagen, houdende poincten van conlideratie, raeckende t' stuck vande marine; Waerop gedelibereert sijnde hebben d'Heeren van Hollandt vande voors missive ende bijlagen versocht copie die haer E. wort geaccordeert om den haren breder gecommuniceert te worden, & sal oock aen d‛andere provincien des begerende gelijcke copie gegeven worden. o: ordinaris ambassadeur in Engelandt geschre ven tot Londen den tweeden deses houdende advertentie, ende onder anderen eenige poincten van — consideratie. Waerop gedelibereert sijnde, hebben de Provincien daervan versocht copie om in den haren breder gecommuniceert te worden, die haer E wert geaccordeert.\"\"\"\n",
    "\n",
    "#text = \"\"\"Ende sal mt gene voors: is bij aenschrijvinge aenden meerwelgem: heer Prince willen van Nassau bekent gemaeckt worden, met authorisatie, om bij soo verre de noot sulcx mochte comen te vereijfschen, de voors: Compagnie te peerde, ende te voet alle, off soodanigh getal van deselve, als hij sal oordeelen noodigh te hebben, bij sichte ontbieden, ende deselve provisionelijck te rengeren onder soodanige heeft-officieren, als sijn vorsel: Dooch:, ten meesten — dienste van den Lande geraden vinden zal. Des dat soo wanneer de voors: — tweede Lijste in 't gehtel bij nader deliberatie sal wesen gearresteert, deselve Compagnien wederm gerengeert ende gebruijckt sullen werden onder soodanige regemecten, ende hooft officieren, als ij deselve Lijste breeder sal wesen — geexpresseert. Ende wert den Raed van State versocht de officieren van de bovengeroerde Compagnien aen te schrijven, datse haer gereet sullen hebben te houden — om aenstonts opt ontfangen van de ordre van den meergem: heer prince willem te connen Marcheren, als mede soodanigen ordre te stellen ende die) voorsieninge doen, ten eijnde dat de voors: Compagnien tot de voors: — expeditie gebruijckt werdende in haer bandeliers met cruijt, loot, ende lonten, uijt de respective magasijnen behoorlijck voorsien mogen werden: — mitsgaders de officieren te voet aente schrijven, datse hare Compagnien hebben te formeren in twee deelen musquettiers, en een deel piecken, ende in cas — deselve daer toe eenige wapenen van Nooden, ofte te verwisselen moesten — hebben, deselve onder hare recipissen te lichten uijt de respective magasijnen, mits dat deselve op haer wederkeeren behoorlijck werden gerestitueert, dat oock de crancke, ende mmipotente soldaten, ende die althans op Zee — geemploijeert mochten sijn, uijt de andere Compagnien in deselve guarnisoen „nen, ofte daerontrent gelegen werden verwisselt, ende geremplaceert. Des wert den voorn: Raed van State, oock wijders versocht, alle de officieren — alhier in den hage sijnde, achte doen seggen, datse haer naer hunne respective Guarnisoenen sullen hebben te begeven, oock de Gouverneurs ende Commandeurs te ordonneren, datse alle de absente officieren sullen hebben te beschrijven, om in hare respective Guarnisoenen te verschijnen, ende aldaer te — verblijven tot nader ordre. Ende sullen alle de voorn: Compagnien, voor soo veel sij sullen comen te ageren, naer de expeditie wederleeren in hunne respective guarnisoenen, daer sij uijt getrocken sijn, Eijntlijck is verstaen, dat aede Provincie van Stadt Groningen ende Ommelanden, gelijck oock — aen den Gouverneur van Wesel, ende Commandeurs van Lieroort, Bellinge, wolde, ende Langhackerschans, geschreven sal worden, dat deselve sigh exactelijck willen informeren, ende doen informeren, wat bij den Bisschep van Minister — ende sijne Troupes soude mogen aengevangen, ende ondernomen werden: — gevende daer van telckens spoedige advertentie aen haer Ho:Mo: mitsgas aen den meergem: heer Prince willen van Nassau, Wijders is verstaen, dat de voors: tweede Lijste, voor soo veel aengaet de resterende Compagnien — te peerde ende te voet, daerinne gementioneert, op dewelcke noch niet en is geresolveert, andermael gestelt sal werden in handen vande opgem: heeren hare Ho:Mo: Gedepe., ende Gecome uijt den Raed van State, op nader te visiteren, examineren, ende daer van rapport te doen. Ende sal van alle het gene voors: is Extract gesonden werden aenden meerwelgem: heer Prince Willem van Nassau, om te strecken tot sijne narichtnnge, met recommandatie, omme Lomme, ende daer het behoort conrespondentie te houden, ende doen houden, oock trachten soo veel mogelijck te vernemen, wat daecontrent omgaet, ende hare ho:Mo: van tijt tot tijt advertentie daervan geven. sullende alle de depesches hier uijt resulterende werden — geexpedieert\"\"\"\n",
    "\n",
    "tagged_text = tag_text(text, model)\n",
    "highlighted_text = highlight_tagged_text(tagged_text)\n",
    "\n",
    "html_print(highlighted_text)\n"
   ]
  },
  {
   "cell_type": "code",
   "execution_count": null,
   "id": "8e8f45ce",
   "metadata": {},
   "outputs": [],
   "source": []
  },
  {
   "cell_type": "code",
   "execution_count": null,
   "id": "3c69fca3",
   "metadata": {},
   "outputs": [],
   "source": []
  },
  {
   "cell_type": "code",
   "execution_count": null,
   "id": "a7451dbe",
   "metadata": {},
   "outputs": [],
   "source": []
  },
  {
   "cell_type": "code",
   "execution_count": null,
   "id": "de896e1e",
   "metadata": {},
   "outputs": [],
   "source": []
  },
  {
   "cell_type": "code",
   "execution_count": null,
   "id": "afb331cc",
   "metadata": {},
   "outputs": [],
   "source": []
  },
  {
   "cell_type": "code",
   "execution_count": null,
   "id": "a61c26ed",
   "metadata": {},
   "outputs": [],
   "source": []
  },
  {
   "cell_type": "code",
   "execution_count": null,
   "id": "84165737",
   "metadata": {},
   "outputs": [],
   "source": []
  },
  {
   "cell_type": "code",
   "execution_count": null,
   "id": "39b81252",
   "metadata": {},
   "outputs": [],
   "source": []
  },
  {
   "cell_type": "code",
   "execution_count": null,
   "id": "ab53bb6d",
   "metadata": {},
   "outputs": [],
   "source": []
  },
  {
   "cell_type": "code",
   "execution_count": null,
   "id": "2a32d00f",
   "metadata": {},
   "outputs": [],
   "source": []
  },
  {
   "cell_type": "code",
   "execution_count": null,
   "id": "1850d9eb",
   "metadata": {},
   "outputs": [],
   "source": []
  },
  {
   "cell_type": "code",
   "execution_count": null,
   "id": "a69d4598",
   "metadata": {},
   "outputs": [],
   "source": []
  }
 ],
 "metadata": {
  "kernelspec": {
   "display_name": "Python 3 (ipykernel)",
   "language": "python",
   "name": "python3"
  },
  "language_info": {
   "codemirror_mode": {
    "name": "ipython",
    "version": 3
   },
   "file_extension": ".py",
   "mimetype": "text/x-python",
   "name": "python",
   "nbconvert_exporter": "python",
   "pygments_lexer": "ipython3",
   "version": "3.10.9"
  },
  "toc": {
   "base_numbering": 1,
   "nav_menu": {},
   "number_sections": true,
   "sideBar": true,
   "skip_h1_title": false,
   "title_cell": "Table of Contents",
   "title_sidebar": "Contents",
   "toc_cell": false,
   "toc_position": {},
   "toc_section_display": true,
   "toc_window_display": false
  }
 },
 "nbformat": 4,
 "nbformat_minor": 5
}
