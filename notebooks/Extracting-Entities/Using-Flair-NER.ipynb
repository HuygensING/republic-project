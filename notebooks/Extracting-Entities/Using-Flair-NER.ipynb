{
 "cells": [
  {
   "cell_type": "code",
   "execution_count": 6,
   "id": "aa39d392",
   "metadata": {},
   "outputs": [
    {
     "name": "stdout",
     "output_type": "stream",
     "text": [
      "2023-04-25 14:48:39,326 SequenceTagger predicts: Dictionary with 7 tags: O, S-DAT, B-DAT, E-DAT, I-DAT, <START>, <STOP>\n",
      "2023-04-25 14:48:47,667 SequenceTagger predicts: Dictionary with 7 tags: O, S-HOE, B-HOE, E-HOE, I-HOE, <START>, <STOP>\n",
      "2023-04-25 14:48:55,824 SequenceTagger predicts: Dictionary with 7 tags: O, S-LOC, B-LOC, E-LOC, I-LOC, <START>, <STOP>\n",
      "2023-04-25 14:49:04,211 SequenceTagger predicts: Dictionary with 7 tags: O, S-ORG, B-ORG, E-ORG, I-ORG, <START>, <STOP>\n"
     ]
    }
   ],
   "source": [
    "from flair.models import SequenceTagger\n",
    "from flair.data import Sentence\n",
    "\n",
    "repo_dir = '/Users/marijnkoolen/Code/Huygens/republic-project'\n",
    "flair_dir = f'{repo_dir}/data/embeddings/flair_embeddings/'\n",
    "\n",
    "# load the model you trained\n",
    "model_dir = '../../data/embeddings/flair_embeddings/resources/taggers/ner-tbd-DAT-train_1.0-without_flair-mini_batch_size_8/'\n",
    "train_size = 1.0\n",
    "layer_name = 'DAT'\n",
    "use_flair = False\n",
    "with_flair = 'with_flair' if use_flair else 'without_flair'\n",
    "\n",
    "model = {}\n",
    "for layer_name in ['DAT', 'HOE', 'LOC', 'ORG']:\n",
    "    model_dir = f'{flair_dir}/resources/taggers/ner-tbd-{layer_name}-train_{train_size}-{with_flair}-mini_batch_size_8'\n",
    "\n",
    "    model[layer_name] = SequenceTagger.load(f'{model_dir}/final-model.pt')\n",
    "\n"
   ]
  },
  {
   "cell_type": "code",
   "execution_count": 14,
   "id": "ac9eab21",
   "metadata": {},
   "outputs": [
    {
     "name": "stdout",
     "output_type": "stream",
     "text": [
      "Sentence[30]: \"ONtfangen een Missive van den Heere Gallieris, haar Hoogh Mogende Minister by den Rycksdagh , geschreven te Regensburgh den een en twintighsten deser loopende maandt, houdende advertentie.\" → [\"een en twintighsten deser loopende maandt\"/DAT] \n",
      "\n",
      "Sentence[30]: \"ONtfangen een Missive van den Heere Gallieris, haar Hoogh Mogende Minister by den Rycksdagh , geschreven te Regensburgh den een en twintighsten deser loopende maandt, houdende advertentie.\" → [\"haar Hoogh Mogende Minister by den Rycksdagh\"/HOE] \n",
      "\n",
      "Sentence[30]: \"ONtfangen een Missive van den Heere Gallieris, haar Hoogh Mogende Minister by den Rycksdagh , geschreven te Regensburgh den een en twintighsten deser loopende maandt, houdende advertentie.\" → [\"Regensburgh\"/LOC] \n",
      "\n",
      "Sentence[30]: \"ONtfangen een Missive van den Heere Gallieris, haar Hoogh Mogende Minister by den Rycksdagh , geschreven te Regensburgh den een en twintighsten deser loopende maandt, houdende advertentie.\" \n",
      "\n",
      "\n",
      "\n",
      "\n",
      "Sentence[29]: \"de Provincien van Zeelandt, van Vrieslandt, en van Overyssel, gereserveert gelycke vry ONtfangen een Missive van den Ont- Beyt, als die van Gelderlandt.\" \n",
      "\n",
      "Sentence[29]: \"de Provincien van Zeelandt, van Vrieslandt, en van Overyssel, gereserveert gelycke vry ONtfangen een Missive van den Ont- Beyt, als die van Gelderlandt.\" \n",
      "\n",
      "Sentence[29]: \"de Provincien van Zeelandt, van Vrieslandt, en van Overyssel, gereserveert gelycke vry ONtfangen een Missive van den Ont- Beyt, als die van Gelderlandt.\" → [\"Provincien van Zeelandt, van Vrieslandt, en van Overyssel\"/LOC, \"Gelderlandt\"/LOC] \n",
      "\n",
      "Sentence[29]: \"de Provincien van Zeelandt, van Vrieslandt, en van Overyssel, gereserveert gelycke vry ONtfangen een Missive van den Ont- Beyt, als die van Gelderlandt.\" → [\"de Provincien van Zeelandt, van Vrieslandt, en van Overyssel\"/ORG] \n",
      "\n",
      "\n",
      "\n",
      "\n",
      "Sentence[30]: \"Van Wassenaer, van Brakel, vanden Born, Boreel, Pelt, van Assendelft, Raadt- ONtfangen een Missive van A. van Heurn, pensionaris van Slingelandt.\" \n",
      "\n",
      "Sentence[30]: \"Van Wassenaer, van Brakel, vanden Born, Boreel, Pelt, van Assendelft, Raadt- ONtfangen een Missive van A. van Heurn, pensionaris van Slingelandt.\" → [\"pensionaris van Slingelandt.\"/HOE] \n",
      "\n",
      "Sentence[30]: \"Van Wassenaer, van Brakel, vanden Born, Boreel, Pelt, van Assendelft, Raadt- ONtfangen een Missive van A. van Heurn, pensionaris van Slingelandt.\" → [\"Assendelft\"/LOC, \"Slingelandt\"/LOC] \n",
      "\n",
      "Sentence[30]: \"Van Wassenaer, van Brakel, vanden Born, Boreel, Pelt, van Assendelft, Raadt- ONtfangen een Missive van A. van Heurn, pensionaris van Slingelandt.\" \n",
      "\n",
      "\n",
      "\n",
      "\n"
     ]
    }
   ],
   "source": [
    "correction = [\n",
    "    {\n",
    "        \"original\": \"ONtfangen een Misiive van den Heere Gallieris, haar Hoogh Mogende Minister by den Rycksdagh , geschreven te Regensburgh den een en twintighsten deser loopende maandt, houdende advertentie.\",\n",
    "        \"corrected\": \"ONtfangen een Missive van den Heere Gallieris, haar Hoogh Mogende Minister by den Rycksdagh , geschreven te Regensburgh den een en twintighsten deser loopende maandt, houdende advertentie.\"\n",
    "    },\n",
    "    {\n",
    "        \"original\": \"de Provincien van Zeelandt, van Vrieslandt, en van Overyssel, gereserveert gelycke vryONtfangen een Misive van den OntBeyt, als die van Gelderlandt.\",\n",
    "        \"corrected\": \"de Provincien van Zeelandt, van Vrieslandt, en van Overyssel, gereserveert gelycke vry ONtfangen een Missive van den Ont- Beyt, als die van Gelderlandt.\"\n",
    "    },\n",
    "    {\n",
    "        \"original\": \"Van Wassenaer, van Brakel, vanden Born, Boreel, Pelt, van Assendelft, RaadtONtfangen een Mifsive van A. van Heurn, pensionaris van Slingelandt.\",\n",
    "        \"corrected\": \"Van Wassenaer, van Brakel, vanden Born, Boreel, Pelt, van Assendelft, Raadt- ONtfangen een Missive van A. van Heurn, pensionaris van Slingelandt.\"\n",
    "    }\n",
    "]\n",
    "\n",
    "for sent_pair in correction:\n",
    "    sent_orig = sent_pair['original']\n",
    "    # create example sentence\n",
    "    sentence = Sentence(sent_pair['corrected'])\n",
    "\n",
    "    # predict tags and print\n",
    "    for layer_name in model:\n",
    "        model[layer_name].predict(sentence)\n",
    "\n",
    "        print(sentence.to_tagged_string(), '\\n')\n",
    "    print('\\n\\n')\n",
    "\n",
    "    "
   ]
  },
  {
   "cell_type": "code",
   "execution_count": 57,
   "id": "4e3a1505",
   "metadata": {},
   "outputs": [
    {
     "name": "stdout",
     "output_type": "stream",
     "text": [
      "<IPython.core.display.HTML object>\n",
      "hoi\n"
     ]
    }
   ],
   "source": [
    "from IPython.display import HTML as html_print\n",
    "\n",
    "print(html_print(\"<font color='red'>text</font>\"))\n",
    "print('hoi')"
   ]
  },
  {
   "cell_type": "code",
   "execution_count": 68,
   "id": "90d05262",
   "metadata": {},
   "outputs": [],
   "source": [
    "import os\n",
    "\n",
    "\n",
    "def get_layer_test_file(layer_name):\n",
    "    gt_dir = os.path.join(repo_dir, 'ground_truth/entities/tag_de_besluiten')\n",
    "    layer_gt_dir = os.path.join(gt_dir, f'flair_training_{layer_name}')\n",
    "    return os.path.join(layer_gt_dir, 'test.txt')\n",
    "\n",
    "\n",
    "def get_token_tag(line):\n",
    "    if line == '\\n':\n",
    "        return '', '<S>'\n",
    "    token, tag = line.strip().split(' ')\n",
    "    #print(token, tag)\n",
    "    return token, tag\n",
    "\n",
    "\n",
    "def get_tokens_tags(test_file):\n",
    "    with open(test_file, 'rt') as fh:\n",
    "        return [get_token_tag(line) for line in fh]\n",
    "\n",
    "\n",
    "def read_test_file(test_file):\n",
    "    tokens_tags = get_tokens_tags(test_file)\n",
    "    tokens = [token for token, tag in tokens_tags]\n",
    "    tokens = [token if token != '' else '\\n' for token in tokens]\n",
    "    text = ' '.join(tokens)\n",
    "    for resolution in text.split('\\n'):\n",
    "        yield resolution\n",
    "            \n",
    "            \n",
    "def highlight_tagged_text(sentence, color):\n",
    "    tagged_ranges = [(label.data_point.start_position, label.data_point.end_position) for label in sentence.labels]\n",
    "    print(tagged_ranges)\n",
    "    text = sentence.text\n",
    "    for tagged_range in tagged_ranges[::-1]:\n",
    "        start, end = tagged_range\n",
    "        print('START:', start, 'END:', end)\n",
    "        before, tag, after = text[:start], text[start:end], text[end:]\n",
    "        print('\\tBEFORE:', before)\n",
    "        print('\\tTAG:', tag)\n",
    "        print('\\tAFTER:', after)\n",
    "        text = f\"{before}<font color='{color}'>{tag}</font>{after}\"\n",
    "        print('\\tTEXT:', text)\n",
    "        \n",
    "    return f\"<p>{text}</p>\"\n",
    "        \n",
    "        \n"
   ]
  },
  {
   "cell_type": "code",
   "execution_count": 69,
   "id": "569b46b1",
   "metadata": {},
   "outputs": [
    {
     "name": "stdout",
     "output_type": "stream",
     "text": [
      "ONtfangen een Missive van den Lieutetenant Collonel L L. Deyts s, Commandeur van Viissingen n, geschreven te Yperen den eersten deeser loopende maand d, daar by zaan haar Hoog Mogende kennisse e. geevende dat t, in gevolge het verlof geobtineert van sijn Doorlugtige Hoogheid om sig uit sijn Commandement van Vlissingen te moogen absenteeren na Yperen in sijn Guarnisoen n, als Lieutenant Collonel by het eerste Battaillon van den Lieutenant Generaal de Braauw w, hy te Yperen voornoemd was aangekoomen n, en dat hy by absentie van den Commandeur de Casembroot t, sig aldaar den oudsten in rang bevindende e, het commando van den Major Beek op hem genoomen hadde e. WAAR op geen resolutie is gevallen n. \n",
      "[(120, 151)]\n",
      "START: 120 END: 151\n",
      "\tBEFORE: ONtfangen een Missive van den Lieutetenant Collonel L L. Deyts s, Commandeur van Viissingen n, geschreven te Yperen den \n",
      "\tTAG: eersten deeser loopende maand d\n",
      "\tAFTER: , daar by zaan haar Hoog Mogende kennisse e. geevende dat t, in gevolge het verlof geobtineert van sijn Doorlugtige Hoogheid om sig uit sijn Commandement van Vlissingen te moogen absenteeren na Yperen in sijn Guarnisoen n, als Lieutenant Collonel by het eerste Battaillon van den Lieutenant Generaal de Braauw w, hy te Yperen voornoemd was aangekoomen n, en dat hy by absentie van den Commandeur de Casembroot t, sig aldaar den oudsten in rang bevindende e, het commando van den Major Beek op hem genoomen hadde e. WAAR op geen resolutie is gevallen n.\n",
      "\tTEXT: ONtfangen een Missive van den Lieutetenant Collonel L L. Deyts s, Commandeur van Viissingen n, geschreven te Yperen den <font color='blue'>eersten deeser loopende maand d</font>, daar by zaan haar Hoog Mogende kennisse e. geevende dat t, in gevolge het verlof geobtineert van sijn Doorlugtige Hoogheid om sig uit sijn Commandement van Vlissingen te moogen absenteeren na Yperen in sijn Guarnisoen n, als Lieutenant Collonel by het eerste Battaillon van den Lieutenant Generaal de Braauw w, hy te Yperen voornoemd was aangekoomen n, en dat hy by absentie van den Commandeur de Casembroot t, sig aldaar den oudsten in rang bevindende e, het commando van den Major Beek op hem genoomen hadde e. WAAR op geen resolutie is gevallen n.\n",
      "[(30, 51), (66, 93), (378, 397), (431, 450), (536, 546), (630, 635)]\n",
      "START: 630 END: 635\n",
      "\tBEFORE: ONtfangen een Missive van den Lieutetenant Collonel L L. Deyts s, Commandeur van Viissingen n, geschreven te Yperen den eersten deeser loopende maand d, daar by zaan haar Hoog Mogende kennisse e. geevende dat t, in gevolge het verlof geobtineert van sijn Doorlugtige Hoogheid om sig uit sijn Commandement van Vlissingen te moogen absenteeren na Yperen in sijn Guarnisoen n, als Lieutenant Collonel by het eerste Battaillon van den Lieutenant Generaal de Braauw w, hy te Yperen voornoemd was aangekoomen n, en dat hy by absentie van den Commandeur de Casembroot t, sig aldaar den oudsten in rang bevindende e, het commando van den \n",
      "\tTAG: Major\n",
      "\tAFTER:  Beek op hem genoomen hadde e. WAAR op geen resolutie is gevallen n.\n",
      "\tTEXT: ONtfangen een Missive van den Lieutetenant Collonel L L. Deyts s, Commandeur van Viissingen n, geschreven te Yperen den eersten deeser loopende maand d, daar by zaan haar Hoog Mogende kennisse e. geevende dat t, in gevolge het verlof geobtineert van sijn Doorlugtige Hoogheid om sig uit sijn Commandement van Vlissingen te moogen absenteeren na Yperen in sijn Guarnisoen n, als Lieutenant Collonel by het eerste Battaillon van den Lieutenant Generaal de Braauw w, hy te Yperen voornoemd was aangekoomen n, en dat hy by absentie van den Commandeur de Casembroot t, sig aldaar den oudsten in rang bevindende e, het commando van den <font color='red'>Major</font> Beek op hem genoomen hadde e. WAAR op geen resolutie is gevallen n.\n",
      "START: 536 END: 546\n",
      "\tBEFORE: ONtfangen een Missive van den Lieutetenant Collonel L L. Deyts s, Commandeur van Viissingen n, geschreven te Yperen den eersten deeser loopende maand d, daar by zaan haar Hoog Mogende kennisse e. geevende dat t, in gevolge het verlof geobtineert van sijn Doorlugtige Hoogheid om sig uit sijn Commandement van Vlissingen te moogen absenteeren na Yperen in sijn Guarnisoen n, als Lieutenant Collonel by het eerste Battaillon van den Lieutenant Generaal de Braauw w, hy te Yperen voornoemd was aangekoomen n, en dat hy by absentie van den \n",
      "\tTAG: Commandeur\n",
      "\tAFTER:  de Casembroot t, sig aldaar den oudsten in rang bevindende e, het commando van den <font color='red'>Major</font> Beek op hem genoomen hadde e. WAAR op geen resolutie is gevallen n.\n",
      "\tTEXT: ONtfangen een Missive van den Lieutetenant Collonel L L. Deyts s, Commandeur van Viissingen n, geschreven te Yperen den eersten deeser loopende maand d, daar by zaan haar Hoog Mogende kennisse e. geevende dat t, in gevolge het verlof geobtineert van sijn Doorlugtige Hoogheid om sig uit sijn Commandement van Vlissingen te moogen absenteeren na Yperen in sijn Guarnisoen n, als Lieutenant Collonel by het eerste Battaillon van den Lieutenant Generaal de Braauw w, hy te Yperen voornoemd was aangekoomen n, en dat hy by absentie van den <font color='red'>Commandeur</font> de Casembroot t, sig aldaar den oudsten in rang bevindende e, het commando van den <font color='red'>Major</font> Beek op hem genoomen hadde e. WAAR op geen resolutie is gevallen n.\n",
      "START: 431 END: 450\n",
      "\tBEFORE: ONtfangen een Missive van den Lieutetenant Collonel L L. Deyts s, Commandeur van Viissingen n, geschreven te Yperen den eersten deeser loopende maand d, daar by zaan haar Hoog Mogende kennisse e. geevende dat t, in gevolge het verlof geobtineert van sijn Doorlugtige Hoogheid om sig uit sijn Commandement van Vlissingen te moogen absenteeren na Yperen in sijn Guarnisoen n, als Lieutenant Collonel by het eerste Battaillon van den \n",
      "\tTAG: Lieutenant Generaal\n",
      "\tAFTER:  de Braauw w, hy te Yperen voornoemd was aangekoomen n, en dat hy by absentie van den <font color='red'>Commandeur</font> de Casembroot t, sig aldaar den oudsten in rang bevindende e, het commando van den <font color='red'>Major</font> Beek op hem genoomen hadde e. WAAR op geen resolutie is gevallen n.\n",
      "\tTEXT: ONtfangen een Missive van den Lieutetenant Collonel L L. Deyts s, Commandeur van Viissingen n, geschreven te Yperen den eersten deeser loopende maand d, daar by zaan haar Hoog Mogende kennisse e. geevende dat t, in gevolge het verlof geobtineert van sijn Doorlugtige Hoogheid om sig uit sijn Commandement van Vlissingen te moogen absenteeren na Yperen in sijn Guarnisoen n, als Lieutenant Collonel by het eerste Battaillon van den <font color='red'>Lieutenant Generaal</font> de Braauw w, hy te Yperen voornoemd was aangekoomen n, en dat hy by absentie van den <font color='red'>Commandeur</font> de Casembroot t, sig aldaar den oudsten in rang bevindende e, het commando van den <font color='red'>Major</font> Beek op hem genoomen hadde e. WAAR op geen resolutie is gevallen n.\n",
      "START: 378 END: 397\n",
      "\tBEFORE: ONtfangen een Missive van den Lieutetenant Collonel L L. Deyts s, Commandeur van Viissingen n, geschreven te Yperen den eersten deeser loopende maand d, daar by zaan haar Hoog Mogende kennisse e. geevende dat t, in gevolge het verlof geobtineert van sijn Doorlugtige Hoogheid om sig uit sijn Commandement van Vlissingen te moogen absenteeren na Yperen in sijn Guarnisoen n, als \n",
      "\tTAG: Lieutenant Collonel\n",
      "\tAFTER:  by het eerste Battaillon van den <font color='red'>Lieutenant Generaal</font> de Braauw w, hy te Yperen voornoemd was aangekoomen n, en dat hy by absentie van den <font color='red'>Commandeur</font> de Casembroot t, sig aldaar den oudsten in rang bevindende e, het commando van den <font color='red'>Major</font> Beek op hem genoomen hadde e. WAAR op geen resolutie is gevallen n.\n",
      "\tTEXT: ONtfangen een Missive van den Lieutetenant Collonel L L. Deyts s, Commandeur van Viissingen n, geschreven te Yperen den eersten deeser loopende maand d, daar by zaan haar Hoog Mogende kennisse e. geevende dat t, in gevolge het verlof geobtineert van sijn Doorlugtige Hoogheid om sig uit sijn Commandement van Vlissingen te moogen absenteeren na Yperen in sijn Guarnisoen n, als <font color='red'>Lieutenant Collonel</font> by het eerste Battaillon van den <font color='red'>Lieutenant Generaal</font> de Braauw w, hy te Yperen voornoemd was aangekoomen n, en dat hy by absentie van den <font color='red'>Commandeur</font> de Casembroot t, sig aldaar den oudsten in rang bevindende e, het commando van den <font color='red'>Major</font> Beek op hem genoomen hadde e. WAAR op geen resolutie is gevallen n.\n",
      "START: 66 END: 93\n",
      "\tBEFORE: ONtfangen een Missive van den Lieutetenant Collonel L L. Deyts s, \n",
      "\tTAG: Commandeur van Viissingen n\n",
      "\tAFTER: , geschreven te Yperen den eersten deeser loopende maand d, daar by zaan haar Hoog Mogende kennisse e. geevende dat t, in gevolge het verlof geobtineert van sijn Doorlugtige Hoogheid om sig uit sijn Commandement van Vlissingen te moogen absenteeren na Yperen in sijn Guarnisoen n, als <font color='red'>Lieutenant Collonel</font> by het eerste Battaillon van den <font color='red'>Lieutenant Generaal</font> de Braauw w, hy te Yperen voornoemd was aangekoomen n, en dat hy by absentie van den <font color='red'>Commandeur</font> de Casembroot t, sig aldaar den oudsten in rang bevindende e, het commando van den <font color='red'>Major</font> Beek op hem genoomen hadde e. WAAR op geen resolutie is gevallen n.\n",
      "\tTEXT: ONtfangen een Missive van den Lieutetenant Collonel L L. Deyts s, <font color='red'>Commandeur van Viissingen n</font>, geschreven te Yperen den eersten deeser loopende maand d, daar by zaan haar Hoog Mogende kennisse e. geevende dat t, in gevolge het verlof geobtineert van sijn Doorlugtige Hoogheid om sig uit sijn Commandement van Vlissingen te moogen absenteeren na Yperen in sijn Guarnisoen n, als <font color='red'>Lieutenant Collonel</font> by het eerste Battaillon van den <font color='red'>Lieutenant Generaal</font> de Braauw w, hy te Yperen voornoemd was aangekoomen n, en dat hy by absentie van den <font color='red'>Commandeur</font> de Casembroot t, sig aldaar den oudsten in rang bevindende e, het commando van den <font color='red'>Major</font> Beek op hem genoomen hadde e. WAAR op geen resolutie is gevallen n.\n",
      "START: 30 END: 51\n",
      "\tBEFORE: ONtfangen een Missive van den \n",
      "\tTAG: Lieutetenant Collonel\n",
      "\tAFTER:  L L. Deyts s, <font color='red'>Commandeur van Viissingen n</font>, geschreven te Yperen den eersten deeser loopende maand d, daar by zaan haar Hoog Mogende kennisse e. geevende dat t, in gevolge het verlof geobtineert van sijn Doorlugtige Hoogheid om sig uit sijn Commandement van Vlissingen te moogen absenteeren na Yperen in sijn Guarnisoen n, als <font color='red'>Lieutenant Collonel</font> by het eerste Battaillon van den <font color='red'>Lieutenant Generaal</font> de Braauw w, hy te Yperen voornoemd was aangekoomen n, en dat hy by absentie van den <font color='red'>Commandeur</font> de Casembroot t, sig aldaar den oudsten in rang bevindende e, het commando van den <font color='red'>Major</font> Beek op hem genoomen hadde e. WAAR op geen resolutie is gevallen n.\n",
      "\tTEXT: ONtfangen een Missive van den <font color='red'>Lieutetenant Collonel</font> L L. Deyts s, <font color='red'>Commandeur van Viissingen n</font>, geschreven te Yperen den eersten deeser loopende maand d, daar by zaan haar Hoog Mogende kennisse e. geevende dat t, in gevolge het verlof geobtineert van sijn Doorlugtige Hoogheid om sig uit sijn Commandement van Vlissingen te moogen absenteeren na Yperen in sijn Guarnisoen n, als <font color='red'>Lieutenant Collonel</font> by het eerste Battaillon van den <font color='red'>Lieutenant Generaal</font> de Braauw w, hy te Yperen voornoemd was aangekoomen n, en dat hy by absentie van den <font color='red'>Commandeur</font> de Casembroot t, sig aldaar den oudsten in rang bevindende e, het commando van den <font color='red'>Major</font> Beek op hem genoomen hadde e. WAAR op geen resolutie is gevallen n.\n",
      "[(81, 93), (109, 115), (309, 319), (345, 351), (470, 476)]\n",
      "START: 470 END: 476\n",
      "\tBEFORE: ONtfangen een Missive van den Lieutetenant Collonel L L. Deyts s, Commandeur van Viissingen n, geschreven te Yperen den eersten deeser loopende maand d, daar by zaan haar Hoog Mogende kennisse e. geevende dat t, in gevolge het verlof geobtineert van sijn Doorlugtige Hoogheid om sig uit sijn Commandement van Vlissingen te moogen absenteeren na Yperen in sijn Guarnisoen n, als Lieutenant Collonel by het eerste Battaillon van den Lieutenant Generaal de Braauw w, hy te \n",
      "\tTAG: Yperen\n",
      "\tAFTER:  voornoemd was aangekoomen n, en dat hy by absentie van den Commandeur de Casembroot t, sig aldaar den oudsten in rang bevindende e, het commando van den Major Beek op hem genoomen hadde e. WAAR op geen resolutie is gevallen n.\n",
      "\tTEXT: ONtfangen een Missive van den Lieutetenant Collonel L L. Deyts s, Commandeur van Viissingen n, geschreven te Yperen den eersten deeser loopende maand d, daar by zaan haar Hoog Mogende kennisse e. geevende dat t, in gevolge het verlof geobtineert van sijn Doorlugtige Hoogheid om sig uit sijn Commandement van Vlissingen te moogen absenteeren na Yperen in sijn Guarnisoen n, als Lieutenant Collonel by het eerste Battaillon van den Lieutenant Generaal de Braauw w, hy te <font color='green'>Yperen</font> voornoemd was aangekoomen n, en dat hy by absentie van den Commandeur de Casembroot t, sig aldaar den oudsten in rang bevindende e, het commando van den Major Beek op hem genoomen hadde e. WAAR op geen resolutie is gevallen n.\n",
      "START: 345 END: 351\n",
      "\tBEFORE: ONtfangen een Missive van den Lieutetenant Collonel L L. Deyts s, Commandeur van Viissingen n, geschreven te Yperen den eersten deeser loopende maand d, daar by zaan haar Hoog Mogende kennisse e. geevende dat t, in gevolge het verlof geobtineert van sijn Doorlugtige Hoogheid om sig uit sijn Commandement van Vlissingen te moogen absenteeren na \n",
      "\tTAG: Yperen\n",
      "\tAFTER:  in sijn Guarnisoen n, als Lieutenant Collonel by het eerste Battaillon van den Lieutenant Generaal de Braauw w, hy te <font color='green'>Yperen</font> voornoemd was aangekoomen n, en dat hy by absentie van den Commandeur de Casembroot t, sig aldaar den oudsten in rang bevindende e, het commando van den Major Beek op hem genoomen hadde e. WAAR op geen resolutie is gevallen n.\n",
      "\tTEXT: ONtfangen een Missive van den Lieutetenant Collonel L L. Deyts s, Commandeur van Viissingen n, geschreven te Yperen den eersten deeser loopende maand d, daar by zaan haar Hoog Mogende kennisse e. geevende dat t, in gevolge het verlof geobtineert van sijn Doorlugtige Hoogheid om sig uit sijn Commandement van Vlissingen te moogen absenteeren na <font color='green'>Yperen</font> in sijn Guarnisoen n, als Lieutenant Collonel by het eerste Battaillon van den Lieutenant Generaal de Braauw w, hy te <font color='green'>Yperen</font> voornoemd was aangekoomen n, en dat hy by absentie van den Commandeur de Casembroot t, sig aldaar den oudsten in rang bevindende e, het commando van den Major Beek op hem genoomen hadde e. WAAR op geen resolutie is gevallen n.\n",
      "START: 309 END: 319\n",
      "\tBEFORE: ONtfangen een Missive van den Lieutetenant Collonel L L. Deyts s, Commandeur van Viissingen n, geschreven te Yperen den eersten deeser loopende maand d, daar by zaan haar Hoog Mogende kennisse e. geevende dat t, in gevolge het verlof geobtineert van sijn Doorlugtige Hoogheid om sig uit sijn Commandement van \n",
      "\tTAG: Vlissingen\n",
      "\tAFTER:  te moogen absenteeren na <font color='green'>Yperen</font> in sijn Guarnisoen n, als Lieutenant Collonel by het eerste Battaillon van den Lieutenant Generaal de Braauw w, hy te <font color='green'>Yperen</font> voornoemd was aangekoomen n, en dat hy by absentie van den Commandeur de Casembroot t, sig aldaar den oudsten in rang bevindende e, het commando van den Major Beek op hem genoomen hadde e. WAAR op geen resolutie is gevallen n.\n",
      "\tTEXT: ONtfangen een Missive van den Lieutetenant Collonel L L. Deyts s, Commandeur van Viissingen n, geschreven te Yperen den eersten deeser loopende maand d, daar by zaan haar Hoog Mogende kennisse e. geevende dat t, in gevolge het verlof geobtineert van sijn Doorlugtige Hoogheid om sig uit sijn Commandement van <font color='green'>Vlissingen</font> te moogen absenteeren na <font color='green'>Yperen</font> in sijn Guarnisoen n, als Lieutenant Collonel by het eerste Battaillon van den Lieutenant Generaal de Braauw w, hy te <font color='green'>Yperen</font> voornoemd was aangekoomen n, en dat hy by absentie van den Commandeur de Casembroot t, sig aldaar den oudsten in rang bevindende e, het commando van den Major Beek op hem genoomen hadde e. WAAR op geen resolutie is gevallen n.\n",
      "START: 109 END: 115\n",
      "\tBEFORE: ONtfangen een Missive van den Lieutetenant Collonel L L. Deyts s, Commandeur van Viissingen n, geschreven te \n",
      "\tTAG: Yperen\n",
      "\tAFTER:  den eersten deeser loopende maand d, daar by zaan haar Hoog Mogende kennisse e. geevende dat t, in gevolge het verlof geobtineert van sijn Doorlugtige Hoogheid om sig uit sijn Commandement van <font color='green'>Vlissingen</font> te moogen absenteeren na <font color='green'>Yperen</font> in sijn Guarnisoen n, als Lieutenant Collonel by het eerste Battaillon van den Lieutenant Generaal de Braauw w, hy te <font color='green'>Yperen</font> voornoemd was aangekoomen n, en dat hy by absentie van den Commandeur de Casembroot t, sig aldaar den oudsten in rang bevindende e, het commando van den Major Beek op hem genoomen hadde e. WAAR op geen resolutie is gevallen n.\n",
      "\tTEXT: ONtfangen een Missive van den Lieutetenant Collonel L L. Deyts s, Commandeur van Viissingen n, geschreven te <font color='green'>Yperen</font> den eersten deeser loopende maand d, daar by zaan haar Hoog Mogende kennisse e. geevende dat t, in gevolge het verlof geobtineert van sijn Doorlugtige Hoogheid om sig uit sijn Commandement van <font color='green'>Vlissingen</font> te moogen absenteeren na <font color='green'>Yperen</font> in sijn Guarnisoen n, als Lieutenant Collonel by het eerste Battaillon van den Lieutenant Generaal de Braauw w, hy te <font color='green'>Yperen</font> voornoemd was aangekoomen n, en dat hy by absentie van den Commandeur de Casembroot t, sig aldaar den oudsten in rang bevindende e, het commando van den Major Beek op hem genoomen hadde e. WAAR op geen resolutie is gevallen n.\n",
      "START: 81 END: 93\n",
      "\tBEFORE: ONtfangen een Missive van den Lieutetenant Collonel L L. Deyts s, Commandeur van \n",
      "\tTAG: Viissingen n\n",
      "\tAFTER: , geschreven te <font color='green'>Yperen</font> den eersten deeser loopende maand d, daar by zaan haar Hoog Mogende kennisse e. geevende dat t, in gevolge het verlof geobtineert van sijn Doorlugtige Hoogheid om sig uit sijn Commandement van <font color='green'>Vlissingen</font> te moogen absenteeren na <font color='green'>Yperen</font> in sijn Guarnisoen n, als Lieutenant Collonel by het eerste Battaillon van den Lieutenant Generaal de Braauw w, hy te <font color='green'>Yperen</font> voornoemd was aangekoomen n, en dat hy by absentie van den Commandeur de Casembroot t, sig aldaar den oudsten in rang bevindende e, het commando van den Major Beek op hem genoomen hadde e. WAAR op geen resolutie is gevallen n.\n",
      "\tTEXT: ONtfangen een Missive van den Lieutetenant Collonel L L. Deyts s, Commandeur van <font color='green'>Viissingen n</font>, geschreven te <font color='green'>Yperen</font> den eersten deeser loopende maand d, daar by zaan haar Hoog Mogende kennisse e. geevende dat t, in gevolge het verlof geobtineert van sijn Doorlugtige Hoogheid om sig uit sijn Commandement van <font color='green'>Vlissingen</font> te moogen absenteeren na <font color='green'>Yperen</font> in sijn Guarnisoen n, als Lieutenant Collonel by het eerste Battaillon van den Lieutenant Generaal de Braauw w, hy te <font color='green'>Yperen</font> voornoemd was aangekoomen n, en dat hy by absentie van den Commandeur de Casembroot t, sig aldaar den oudsten in rang bevindende e, het commando van den Major Beek op hem genoomen hadde e. WAAR op geen resolutie is gevallen n.\n"
     ]
    },
    {
     "name": "stdout",
     "output_type": "stream",
     "text": [
      "[]\n"
     ]
    },
    {
     "data": {
      "text/html": [
       "<p>ONtfangen een Missive van den Lieutetenant Collonel L L. Deyts s, Commandeur van Viissingen n, geschreven te Yperen den <font color='blue'>eersten deeser loopende maand d</font>, daar by zaan haar Hoog Mogende kennisse e. geevende dat t, in gevolge het verlof geobtineert van sijn Doorlugtige Hoogheid om sig uit sijn Commandement van Vlissingen te moogen absenteeren na Yperen in sijn Guarnisoen n, als Lieutenant Collonel by het eerste Battaillon van den Lieutenant Generaal de Braauw w, hy te Yperen voornoemd was aangekoomen n, en dat hy by absentie van den Commandeur de Casembroot t, sig aldaar den oudsten in rang bevindende e, het commando van den Major Beek op hem genoomen hadde e. WAAR op geen resolutie is gevallen n.</p>\n",
       "\n",
       "<p>ONtfangen een Missive van den <font color='red'>Lieutetenant Collonel</font> L L. Deyts s, <font color='red'>Commandeur van Viissingen n</font>, geschreven te Yperen den eersten deeser loopende maand d, daar by zaan haar Hoog Mogende kennisse e. geevende dat t, in gevolge het verlof geobtineert van sijn Doorlugtige Hoogheid om sig uit sijn Commandement van Vlissingen te moogen absenteeren na Yperen in sijn Guarnisoen n, als <font color='red'>Lieutenant Collonel</font> by het eerste Battaillon van den <font color='red'>Lieutenant Generaal</font> de Braauw w, hy te Yperen voornoemd was aangekoomen n, en dat hy by absentie van den <font color='red'>Commandeur</font> de Casembroot t, sig aldaar den oudsten in rang bevindende e, het commando van den <font color='red'>Major</font> Beek op hem genoomen hadde e. WAAR op geen resolutie is gevallen n.</p>\n",
       "\n",
       "<p>ONtfangen een Missive van den Lieutetenant Collonel L L. Deyts s, Commandeur van <font color='green'>Viissingen n</font>, geschreven te <font color='green'>Yperen</font> den eersten deeser loopende maand d, daar by zaan haar Hoog Mogende kennisse e. geevende dat t, in gevolge het verlof geobtineert van sijn Doorlugtige Hoogheid om sig uit sijn Commandement van <font color='green'>Vlissingen</font> te moogen absenteeren na <font color='green'>Yperen</font> in sijn Guarnisoen n, als Lieutenant Collonel by het eerste Battaillon van den Lieutenant Generaal de Braauw w, hy te <font color='green'>Yperen</font> voornoemd was aangekoomen n, en dat hy by absentie van den Commandeur de Casembroot t, sig aldaar den oudsten in rang bevindende e, het commando van den Major Beek op hem genoomen hadde e. WAAR op geen resolutie is gevallen n.</p>\n",
       "\n",
       "<p>ONtfangen een Missive van den Lieutetenant Collonel L L. Deyts s, Commandeur van Viissingen n, geschreven te Yperen den eersten deeser loopende maand d, daar by zaan haar Hoog Mogende kennisse e. geevende dat t, in gevolge het verlof geobtineert van sijn Doorlugtige Hoogheid om sig uit sijn Commandement van Vlissingen te moogen absenteeren na Yperen in sijn Guarnisoen n, als Lieutenant Collonel by het eerste Battaillon van den Lieutenant Generaal de Braauw w, hy te Yperen voornoemd was aangekoomen n, en dat hy by absentie van den Commandeur de Casembroot t, sig aldaar den oudsten in rang bevindende e, het commando van den Major Beek op hem genoomen hadde e. WAAR op geen resolutie is gevallen n.</p>"
      ],
      "text/plain": [
       "<IPython.core.display.HTML object>"
      ]
     },
     "execution_count": 69,
     "metadata": {},
     "output_type": "execute_result"
    }
   ],
   "source": [
    "LAYER_COLOR = {\n",
    "    'DAT': 'blue',\n",
    "    'HOE': 'red',\n",
    "    'LOC': 'green',\n",
    "    'ORG': 'purple'\n",
    "}\n",
    "\n",
    "\n",
    "\n",
    "layer_name = 'DAT'\n",
    "\n",
    "texts = []\n",
    "\n",
    "layer_test_file = get_layer_test_file(layer_name)\n",
    "for res in read_test_file(layer_test_file):\n",
    "    print(res)\n",
    "\n",
    "    for layer in model:\n",
    "        sentence = Sentence(res)\n",
    "        model[layer].predict(sentence)\n",
    "#         print('\\n')\n",
    "        color = LAYER_COLOR[layer]\n",
    "        text = highlight_tagged_text(sentence, color)\n",
    "        texts.append(text)\n",
    "#         for label in sentence.labels:\n",
    "#             print(label.shortstring, label.score)\n",
    "#             print(f'{label.data_point.start_position}-{label.data_point.end_position}\\t{label.data_point.text}')\n",
    "#         print(sentence.to_tagged_string())\n",
    "    break\n",
    "    \n",
    "html_print('\\n\\n'.join(texts))"
   ]
  },
  {
   "cell_type": "code",
   "execution_count": 60,
   "id": "4e1151ef",
   "metadata": {},
   "outputs": [
    {
     "data": {
      "text/plain": [
       "[\"<p>ONtfangen een Missive van den Lieutetenant Collonel L L. Deyts s, Commandeur van Viissingen n, geschreven te Yperen den <font color=''>eersten deeser loopende maand d</font>, daar by zaan haar Hoog Mogende kennisse e. geevende dat t, in gevolge het verlof geobtineert van sijn Doorlugtige Hoogheid om sig uit sijn Commandement van Vlissingen te moogen absenteeren na Yperen in sijn Guarnisoen n, als Lieutenant Collonel by het eerste Battaillon van den Lieutenant Generaal de Braauw w, hy te Yperen voornoemd was aangekoomen n, en dat hy by absentie van den Commandeur de Casembroot t, sig aldaar den oudsten in rang bevindende e, het commando van den Major Beek op hem genoomen hadde e. WAAR op geen resolutie is gevallen n.</p>\",\n",
       " \"<p>ONtfangen een Missive van den <font color=''>Lieutetenant Collonel</font> L L. Deyts s, <font color=''>Commandeur van Viissingen n</font>, geschreven te Yperen den eersten deeser loopende maand d, daar by zaan haar Hoog Mogende kennisse e. geevende dat t, in gevolge het verlof geobtineert van sijn Doorlugtige Hoogheid om sig uit sijn Commandement van Vlissingen te moogen absenteeren na Yperen in sijn Guarnisoen n, als <font color=''>Lieutenant Collonel</font> by het eerste Battaillon van den <font color=''>Lieutenant Generaal</font> de Braauw w, hy te Yperen voornoemd was aangekoomen n, en dat hy by absentie van den <font color=''>Commandeur</font> de Casembroot t, sig aldaar den oudsten in rang bevindende e, het commando van den <font color=''>Major</font> Beek op hem genoomen hadde e. WAAR op geen resolutie is gevallen n.</p>\",\n",
       " \"<p>ONtfangen een Missive van den Lieutetenant Collonel L L. Deyts s, Commandeur van <font color=''>Viissingen n</font>, geschreven te <font color=''>Yperen</font> den eersten deeser loopende maand d, daar by zaan haar Hoog Mogende kennisse e. geevende dat t, in gevolge het verlof geobtineert van sijn Doorlugtige Hoogheid om sig uit sijn Commandement van <font color=''>Vlissingen</font> te moogen absenteeren na <font color=''>Yperen</font> in sijn Guarnisoen n, als Lieutenant Collonel by het eerste Battaillon van den Lieutenant Generaal de Braauw w, hy te <font color=''>Yperen</font> voornoemd was aangekoomen n, en dat hy by absentie van den Commandeur de Casembroot t, sig aldaar den oudsten in rang bevindende e, het commando van den Major Beek op hem genoomen hadde e. WAAR op geen resolutie is gevallen n.</p>\",\n",
       " '<p>ONtfangen een Missive van den Lieutetenant Collonel L L. Deyts s, Commandeur van Viissingen n, geschreven te Yperen den eersten deeser loopende maand d, daar by zaan haar Hoog Mogende kennisse e. geevende dat t, in gevolge het verlof geobtineert van sijn Doorlugtige Hoogheid om sig uit sijn Commandement van Vlissingen te moogen absenteeren na Yperen in sijn Guarnisoen n, als Lieutenant Collonel by het eerste Battaillon van den Lieutenant Generaal de Braauw w, hy te Yperen voornoemd was aangekoomen n, en dat hy by absentie van den Commandeur de Casembroot t, sig aldaar den oudsten in rang bevindende e, het commando van den Major Beek op hem genoomen hadde e. WAAR op geen resolutie is gevallen n.</p>']"
      ]
     },
     "execution_count": 60,
     "metadata": {},
     "output_type": "execute_result"
    }
   ],
   "source": [
    "texts"
   ]
  },
  {
   "cell_type": "code",
   "execution_count": 50,
   "id": "9eba9b6c",
   "metadata": {},
   "outputs": [
    {
     "name": "stdout",
     "output_type": "stream",
     "text": [
      "(121, 150)\n"
     ]
    }
   ],
   "source": [
    "tagged_ranges = [(121, 150)]\n",
    "for tr in tagged_ranges[::-1]:\n",
    "    print(tr)"
   ]
  },
  {
   "cell_type": "code",
   "execution_count": null,
   "id": "049a8c2a",
   "metadata": {},
   "outputs": [],
   "source": []
  },
  {
   "cell_type": "code",
   "execution_count": null,
   "id": "efdbd2a2",
   "metadata": {},
   "outputs": [],
   "source": []
  },
  {
   "cell_type": "code",
   "execution_count": null,
   "id": "d81a1f56",
   "metadata": {},
   "outputs": [],
   "source": []
  },
  {
   "cell_type": "code",
   "execution_count": null,
   "id": "063bbb89",
   "metadata": {},
   "outputs": [],
   "source": []
  },
  {
   "cell_type": "code",
   "execution_count": null,
   "id": "c198156b",
   "metadata": {},
   "outputs": [],
   "source": []
  },
  {
   "cell_type": "code",
   "execution_count": null,
   "id": "e5c2c1b1",
   "metadata": {},
   "outputs": [],
   "source": []
  },
  {
   "cell_type": "code",
   "execution_count": null,
   "id": "07d26f46",
   "metadata": {},
   "outputs": [],
   "source": []
  },
  {
   "cell_type": "code",
   "execution_count": null,
   "id": "377fa8cc",
   "metadata": {},
   "outputs": [],
   "source": []
  },
  {
   "cell_type": "code",
   "execution_count": null,
   "id": "41c14b3a",
   "metadata": {},
   "outputs": [],
   "source": []
  },
  {
   "cell_type": "code",
   "execution_count": null,
   "id": "1b5def25",
   "metadata": {},
   "outputs": [],
   "source": []
  },
  {
   "cell_type": "code",
   "execution_count": null,
   "id": "4e1f9be4",
   "metadata": {},
   "outputs": [],
   "source": []
  },
  {
   "cell_type": "code",
   "execution_count": null,
   "id": "97fb85da",
   "metadata": {},
   "outputs": [],
   "source": []
  },
  {
   "cell_type": "code",
   "execution_count": null,
   "id": "ccc9e02c",
   "metadata": {},
   "outputs": [],
   "source": []
  },
  {
   "cell_type": "code",
   "execution_count": null,
   "id": "0ecf51f2",
   "metadata": {},
   "outputs": [],
   "source": []
  }
 ],
 "metadata": {
  "kernelspec": {
   "display_name": "Python 3 (ipykernel)",
   "language": "python",
   "name": "python3"
  },
  "language_info": {
   "codemirror_mode": {
    "name": "ipython",
    "version": 3
   },
   "file_extension": ".py",
   "mimetype": "text/x-python",
   "name": "python",
   "nbconvert_exporter": "python",
   "pygments_lexer": "ipython3",
   "version": "3.10.9"
  },
  "toc": {
   "base_numbering": 1,
   "nav_menu": {},
   "number_sections": true,
   "sideBar": true,
   "skip_h1_title": false,
   "title_cell": "Table of Contents",
   "title_sidebar": "Contents",
   "toc_cell": false,
   "toc_position": {},
   "toc_section_display": true,
   "toc_window_display": false
  }
 },
 "nbformat": 4,
 "nbformat_minor": 5
}
