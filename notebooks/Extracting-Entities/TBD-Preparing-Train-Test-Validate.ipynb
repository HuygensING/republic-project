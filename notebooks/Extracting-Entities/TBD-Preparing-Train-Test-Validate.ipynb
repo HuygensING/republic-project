{
 "cells": [
  {
   "cell_type": "code",
   "execution_count": 71,
   "id": "30c9da47",
   "metadata": {},
   "outputs": [
    {
     "name": "stdout",
     "output_type": "stream",
     "text": [
      "adding project dir to path: /Users/marijnkoolen/Code/Huygens/republic-project\n"
     ]
    }
   ],
   "source": [
    "# This reload library is just used for developing the REPUBLIC hOCR parser \n",
    "# and can be removed once this module is stable.\n",
    "%reload_ext autoreload\n",
    "%autoreload 2\n",
    "\n",
    "\n",
    "# This is needed to add the repo dir to the path so jupyter\n",
    "# can load the republic modules directly from the notebooks\n",
    "import os\n",
    "import sys\n",
    "repo_name = 'republic-project'\n",
    "repo_dir = os.path.split(os.getcwd())[0].split(repo_name)[0] + repo_name\n",
    "print(\"adding project dir to path:\", repo_dir)\n",
    "if repo_dir not in sys.path:\n",
    "    sys.path = [repo_dir] + sys.path\n",
    "else:\n",
    "    sys.path.remove(repo_dir)\n",
    "    sys.path = [repo_dir] + sys.path\n",
    "    \n"
   ]
  },
  {
   "cell_type": "markdown",
   "id": "b29420fd",
   "metadata": {},
   "source": [
    "## Reading the IOB-formatted files"
   ]
  },
  {
   "cell_type": "code",
   "execution_count": 72,
   "id": "513ef307",
   "metadata": {},
   "outputs": [],
   "source": [
    "import glob\n",
    "import os\n",
    "from collections import defaultdict\n",
    "\n",
    "# this is the folder in which train, test and dev files will be saved\n",
    "data_folder = f'{repo_dir}/ground_truth/entities/tag_de_besluiten/tdb-data'\n",
    "train_folder = f'{repo_dir}/ground_truth/entities/tag_de_besluiten/flair_training'\n",
    "\n",
    "layer_files = defaultdict(list)\n",
    "\n",
    "tagged_res_files = glob.glob(os.path.join(data_folder, 'session**/*.tsv'))\n",
    "for tagged_res_file in tagged_res_files:\n",
    "    fname_parts = tagged_res_file.split('/')\n",
    "    layer_name = fname_parts[-1].replace('.tsv', '')\n",
    "    res_id = fname_parts[-2].replace('.txt', '')\n",
    "    if layer_name == 'all_tags':\n",
    "        continue\n",
    "    else:\n",
    "        layer_name = layer_name.replace('tag_', '')\n",
    "    layer_files[layer_name].append(tagged_res_file)\n"
   ]
  },
  {
   "cell_type": "markdown",
   "id": "99917ab8",
   "metadata": {},
   "source": [
    "## Creating the Train, Validate and Test files\n",
    "\n",
    "Randomly distributing the content of the IOB-formatted files, using an 80-10-10 split."
   ]
  },
  {
   "cell_type": "code",
   "execution_count": 73,
   "id": "9aa84c04",
   "metadata": {},
   "outputs": [
    {
     "data": {
      "text/plain": [
       "[0.1, 0.2, 0.3, 0.4, 0.5, 0.6, 0.7, 0.8, 0.9]"
      ]
     },
     "execution_count": 73,
     "metadata": {},
     "output_type": "execute_result"
    }
   ],
   "source": [
    "[i / 10 for i in range(1, 10)]"
   ]
  },
  {
   "cell_type": "code",
   "execution_count": 74,
   "id": "38870b40",
   "metadata": {},
   "outputs": [],
   "source": [
    "import random\n",
    "\n",
    "import numpy as np\n",
    "\n",
    "\n",
    "def pick_output_filehandles(fhs):\n",
    "    pick_set = random.randint(0, 9)\n",
    "    output_fhs = []\n",
    "    if pick_set < 8:\n",
    "        pick_subset = random.random()\n",
    "        for i in [i / 10 for i in range(1, 11)]:\n",
    "            if pick_subset <= i:\n",
    "                output_fhs.append(fhs[f'train_{i}'])\n",
    "    elif pick_set == 8:\n",
    "        output_fhs.append(fhs['validate'])\n",
    "    else:\n",
    "        output_fhs.append(fhs['test'])\n",
    "    return output_fhs\n",
    "\n",
    "\n",
    "# pick a random seed so we can repeat the process\n",
    "random_seed = 89234\n",
    "random.seed(random_seed)\n",
    "\n",
    "    \n",
    "for layer_name in layer_files:\n",
    "    layer_dir = f'{repo_dir}/ground_truth/entities/tag_de_besluiten/flair_training_{layer_name}'\n",
    "    if os.path.exists(layer_dir) is False:\n",
    "        os.mkdir(layer_dir)\n",
    "    train_file = os.path.join(layer_dir, 'train.txt')\n",
    "    validate_file = os.path.join(layer_dir, 'validate.txt')\n",
    "    test_file = os.path.join(layer_dir, 'test.txt')\n",
    "    fhs = {}\n",
    "    for i in [i / 10 for i in range(1, 11)]:\n",
    "        fhs[f\"train_{i}\"] = open(os.path.join(layer_dir, f'train_{i}.txt'), 'wt')\n",
    "    #fh_train = open(train_file, 'wt')\n",
    "    fhs['validate'] = open(validate_file, 'wt')\n",
    "    fhs['test'] = open(test_file, 'wt')\n",
    "    for layer_file in layer_files[layer_name]:\n",
    "        #out_fh = pick_output_filehandle([fh_train, fh_validate, fh_test])\n",
    "        out_fhs = pick_output_filehandles(fhs)\n",
    "        with open(layer_file, 'rt') as fh_in:\n",
    "            for line in fh_in:\n",
    "                for out_fh in out_fhs:\n",
    "                    out_fh.write(line.replace('\\t', ' '))\n",
    "            for out_fh in out_fhs:\n",
    "                out_fh.write('\\n')\n",
    "    fh_train.close()\n",
    "    fh_validate.close()\n",
    "    fh_test.close()\n"
   ]
  },
  {
   "cell_type": "code",
   "execution_count": 58,
   "id": "09b9f125",
   "metadata": {},
   "outputs": [
    {
     "data": {
      "text/plain": [
       "device(type='mps')"
      ]
     },
     "execution_count": 58,
     "metadata": {},
     "output_type": "execute_result"
    }
   ],
   "source": [
    "import torch\n",
    "\n",
    "torch.backends.mps.is_available()\n",
    "torch.device(\"mps\")"
   ]
  }
 ],
 "metadata": {
  "kernelspec": {
   "display_name": "Python 3 (ipykernel)",
   "language": "python",
   "name": "python3"
  },
  "language_info": {
   "codemirror_mode": {
    "name": "ipython",
    "version": 3
   },
   "file_extension": ".py",
   "mimetype": "text/x-python",
   "name": "python",
   "nbconvert_exporter": "python",
   "pygments_lexer": "ipython3",
   "version": "3.10.9"
  },
  "toc": {
   "base_numbering": 1,
   "nav_menu": {},
   "number_sections": true,
   "sideBar": true,
   "skip_h1_title": false,
   "title_cell": "Table of Contents",
   "title_sidebar": "Contents",
   "toc_cell": false,
   "toc_position": {},
   "toc_section_display": true,
   "toc_window_display": false
  }
 },
 "nbformat": 4,
 "nbformat_minor": 5
}
