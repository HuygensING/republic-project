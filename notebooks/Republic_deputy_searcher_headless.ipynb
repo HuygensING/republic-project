{
 "cells": [
  {
   "cell_type": "markdown",
   "metadata": {},
   "source": [
    "# Spotting deputies"
   ]
  },
  {
   "cell_type": "markdown",
   "metadata": {},
   "source": [
    "## Preliminaries"
   ]
  },
  {
   "cell_type": "code",
   "execution_count": 1,
   "metadata": {},
   "outputs": [
    {
     "name": "stdout",
     "output_type": "stream",
     "text": [
      "Requirement already up-to-date: fuzzy_search in /Users/rikhoekstra/.local/share/virtualenvs/republic-project-Av06XlOZ/lib/python3.8/site-packages (1.4.2)\n"
     ]
    }
   ],
   "source": [
    "# This reload library is just used for developing the REPUBLIC hOCR parser \n",
    "# and can be removed once this module is stable.\n",
    "%reload_ext autoreload\n",
    "%autoreload 2\n",
    "\n",
    "\n",
    "#This is needed to add the repo dir to the path so jupyter\n",
    "# can load the republic modules directly from the notebooks\n",
    "import os\n",
    "import sys\n",
    "import re\n",
    "\n",
    "# from collections import defaultdict\n",
    "import pandas as pd\n",
    "# import numpy as np\n",
    "# #import xmltodict\n",
    "# import networkx as nx\n",
    "# from sqlalchemy import text\n",
    "\n",
    "\n",
    "repo_dir = os.path.split(os.getcwd())[0]\n",
    "\n",
    "if repo_dir not in sys.path:\n",
    "    sys.path.append(repo_dir)\n",
    "\n",
    "import sys\n",
    "!{sys.executable} -m pip install -U fuzzy_search"
   ]
  },
  {
   "cell_type": "code",
   "execution_count": 2,
   "metadata": {},
   "outputs": [],
   "source": [
    "%reload_ext numpy\n"
   ]
  },
  {
   "cell_type": "code",
   "execution_count": 3,
   "metadata": {},
   "outputs": [],
   "source": [
    "abbr_delegates = pd.read_parquet(\"/Users/rikhoekstra/develop/republic_clean/republic/data/csvs/abbreviated_delegates.parquet\") "
   ]
  },
  {
   "cell_type": "code",
   "execution_count": 4,
   "metadata": {},
   "outputs": [],
   "source": [
    "# let's repress the warnings, esp. from pandas\n",
    "import warnings\n",
    "warnings.filterwarnings('ignore')\n",
    "warnings.simplefilter('ignore')"
   ]
  },
  {
   "cell_type": "code",
   "execution_count": 5,
   "metadata": {},
   "outputs": [],
   "source": [
    "import run_attendancelist"
   ]
  },
  {
   "cell_type": "raw",
   "metadata": {},
   "source": [
    "from republic.fuzzy.fuzzy_keyword_searcher import FuzzyKeywordSearcher\n",
    "from republic.fuzzy.fuzzy_patterns import dutch_date_patterns\n",
    "# from republic.fuzzy.fuzzy_keyword_searcher import score_levenshtein_distance_ratio, score_char_overlap_ratio, score_ngram_overlap_ratio\n",
    "from republic.elastic import republic_elasticsearch\n",
    "\n",
    "from republic.republic_keyword_matcher import settings\n",
    "from republic.republic_keyword_matcher import delegates_settings\n",
    "\n",
    "from republic.republic_keyword_matcher.models.models import *\n",
    "\n",
    "#from republic.republic_keyword_matcher.finders import parse_delegates\n",
    "from republic.republic_keyword_matcher.finders.finders import *\n",
    "from republic.republic_keyword_matcher.finders.parse_delegates import *\n",
    "\n",
    "from republic.republic_keyword_matcher.helpers import utils\n",
    "from republic.republic_keyword_matcher.helpers import visualize_as_html\n",
    "from republic.republic_keyword_matcher.helpers.vars2graph import vars2graph\n",
    "\n",
    "from republic.republic_keyword_matcher.elastic_search_helpers import get_presentielijsten, make_presentielijsten, bulk_upload\n",
    "\n",
    "\n",
    "#from republic.republic_keyword_matcher import elastic_search"
   ]
  },
  {
   "cell_type": "code",
   "execution_count": null,
   "metadata": {},
   "outputs": [],
   "source": [
    "from republic.data.delegate_database import abbreviated_delegates, found_delegates\n"
   ]
  },
  {
   "cell_type": "code",
   "execution_count": null,
   "metadata": {},
   "outputs": [],
   "source": [
    "def overl(x, y):\n",
    "    try:\n",
    "        if x.overlaps(y):\n",
    "            return True\n",
    "        else:\n",
    "            return False\n",
    "    except:\n",
    "        print(x, type(x))\n",
    "        raise\n",
    "abbreviated_delegates.loc[abbreviated_delegates.p_interval.apply(lambda x: overl(x, pd.Interval(1623, 1677)))]"
   ]
  },
  {
   "cell_type": "code",
   "execution_count": 6,
   "metadata": {},
   "outputs": [
    {
     "name": "stdout",
     "output_type": "stream",
     "text": [
      "logging to /Users/rikhoekstra/republic_out/attendancelist.log\n"
     ]
    }
   ],
   "source": [
    "runner = run_attendancelist.RunAll(year=1730, outdir='/Users/rikhoekstra/republic_out')\n"
   ]
  },
  {
   "cell_type": "code",
   "execution_count": 7,
   "metadata": {},
   "outputs": [
    {
     "data": {
      "text/plain": [
       "1730"
      ]
     },
     "execution_count": 7,
     "metadata": {},
     "output_type": "execute_result"
    }
   ],
   "source": [
    "runner.year"
   ]
  },
  {
   "cell_type": "code",
   "execution_count": null,
   "metadata": {},
   "outputs": [],
   "source": [
    "def get_president(ob, txt):\n",
    "    ofset = 0  # in case we find no president marker\n",
    "    end = 0\n",
    "    prez = ''\n",
    "    prae = ''\n",
    "    matches = ps.find_matches(text=txt)\n",
    "    presidents = [m for m in matches if m.label == 'president']\n",
    "    president = best_match(presidents)\n",
    "    print (president)\n",
    "    if president:\n",
    "        ofset = getattr(president, \"offset\") or 0\n",
    "        prez = getattr(president, \"string\") or ''\n",
    "    presentibi = [m for m in matches if m.label == 'presentibus']\n",
    "    if presentibi:\n",
    "        presentibus = best_match(presentibi)\n",
    "        prae = presentibus.string or ''\n",
    "        end = getattr(presentibus, \"offset\") or len(txt)\n",
    "    spns = {}\n",
    "    if ofset != 0:\n",
    "        preamble_span = (0, ofset - 1)\n",
    "        preamble = txt[preamble_span[0]:preamble_span[1]]\n",
    "        spns['preamble'] = (preamble, preamble_span)\n",
    "    pre_span = (ofset, ofset + len(prez))\n",
    "    spns['pre'] = (prez, pre_span)\n",
    "    presentibus_span = (end, end + len(prae))\n",
    "    spns['presentibus'] = (prae, presentibus_span)\n",
    "    searchpat = pat % (re.escape(prez), re.escape(prae))\n",
    "    print(searchpat)\n",
    "    r = re.search(searchpat, txt)\n",
    "    print(r)\n",
    "    if r and r.group(1):\n",
    "        heer = r.group(1).strip()\n",
    "        heer = re.sub('[^\\s\\w]*', '', heer)\n",
    "        #logging.info(heer)\n",
    "        s1 = txt.find(heer)\n",
    "        s2 = s1 + len(heer)\n",
    "        span = (s1, s2)  # get_span_from_regex(r)\n",
    "        spns['president'] = (heer, span)\n",
    "        for kw in spns.keys():\n",
    "            s = spns[kw][0]\n",
    "            spn = spns[kw][1]\n",
    "            ob.set_span(span=spn, pattern=s, clas=kw)\n",
    "            setattr(ob, 'found', {'president': heer})\n",
    "            # if prae != '':\n",
    "            #     prespan = get_span_from_regex(prae)\n",
    "            #     mt.set_span(prespan, \"presentibus\")\n",
    "        return heer"
   ]
  },
  {
   "cell_type": "code",
   "execution_count": null,
   "metadata": {},
   "outputs": [],
   "source": [
    "import random\n",
    "from republic.analyser.attendance_lists.pattern_finders import president_searcher, get_president\n",
    "#president_searcher(runner.searchobs)\n",
    "ps = make_president_searcher()\n",
    "ks = random.choices(list(runner.searchobs.keys()), k=20)\n",
    "pres = []\n",
    "prs = []\n",
    "for T in ks:\n",
    "    ob = runner.searchobs[T].matched_text\n",
    "    txt = ob.item\n",
    "    res = ps.find_matches(text=txt)\n",
    "\n",
    "    presidents = [m for m in res if m.label=='president']\n",
    "    pibus = [m for m in res if m.label=='presentibus']\n",
    "    if presidents:\n",
    "        president = best_match(presidents)\n",
    "        pres.append(president)\n",
    "        print('president: ', president.string)\n",
    "    else:\n",
    "        print('no president', T)\n",
    "    if pibus:\n",
    "        prbus = best_match(pibus)\n",
    "        prs.append(prbus)\n",
    "        print('pibus: ', prbus.string)\n",
    "    else:\n",
    "         print('no pibus', T)\n",
    "    try:\n",
    "        print('resultaat: ', gp(president, prbus)[1])\n",
    "        print('getprres:', get_president(ob, r\"%s(.*)%s\", ps, txt))\n",
    "    except (UnboundLocalError, IndexError):\n",
    "        pass\n",
    "    \n"
   ]
  },
  {
   "cell_type": "code",
   "execution_count": null,
   "metadata": {},
   "outputs": [],
   "source": [
    "presidents"
   ]
  },
  {
   "cell_type": "code",
   "execution_count": null,
   "metadata": {},
   "outputs": [],
   "source": [
    "import re\n",
    "def gp(president, praesentibus):\n",
    "    ofset = getattr(presidents[0], \"offset\") or 0\n",
    "    prez = getattr(presidents[0], \"string\") or ''\n",
    "    if pibus:\n",
    "        presentibus = best_match(pibus)\n",
    "        prae = presentibus.string or ''\n",
    "        end = getattr(presentibus, \"offset\") or len(txt)\n",
    "    searchpat = pat % (re.escape(prez), re.escape(prae))\n",
    "    r = re.search(searchpat, txt)\n",
    "    heer = r.group(1).strip()\n",
    "    rheer = re.sub('[^\\s\\w]*', '', heer)\n",
    "    rex\n",
    "    return(heer, rheer)\n",
    "#print(ofset, prez, prae, end)"
   ]
  },
  {
   "cell_type": "code",
   "execution_count": 7,
   "metadata": {},
   "outputs": [
    {
     "name": "stdout",
     "output_type": "stream",
     "text": [
      "1. finding presidents\n",
      "293 found\n",
      "2.find provincial extraordinaris gedeputeerden\n",
      "CPU times: user 37 s, sys: 1.2 s, total: 38.2 s\n",
      "Wall time: 40.1 s\n"
     ]
    }
   ],
   "source": [
    "%time runner.initial_find()"
   ]
  },
  {
   "cell_type": "raw",
   "metadata": {},
   "source": [
    "from fuzzy_search.fuzzy_phrase_searcher import FuzzyPhraseSearcher\n",
    "from fuzzy_search.fuzzy_phrase_model import PhraseModel\n",
    "# from ...data.delegate_database import abbreviated_delegates, found_delegates, ekwz\n",
    "# from .parse_delegates import FndMatch, fndmatch, match_previous\n",
    "# from .identify import iterative_search\n",
    "\n",
    "\n",
    "fuzzysearch_config = {\n",
    "    \"char_match_threshold\": 0.8,\n",
    "    \"ngram_threshold\": 0.6,\n",
    "    \"levenshtein_threshold\": 0.5,\n",
    "    \"ignorecase\": True,\n",
    "    \"ngram_size\": 3,\n",
    "    \"skip_size\": 1,\n",
    "}\n",
    "def make_province_searcher(config):\n",
    "    \"\"\"TODO is this faster if we first find the provinces and then find the rest???\"\"\"\n",
    "    pr_searcher = FuzzyPhraseSearcher(config)\n",
    "    province_order = [\"Gelderlandt\",\n",
    "                      \"Hollandt ende West-Vrieslandt\",\n",
    "                      \"Utrecht\",\n",
    "                      \"Frieslandt\",\n",
    "                      \"Overijssel\",\n",
    "                      \"Groningen\",\n",
    "                      \"Zeelandt\"]\n",
    "    basephrase = \"extraordinaris gedeputeerden uyt de provincie van Gelderlandt.\"\n",
    "    searchstring = \"met {} extraordinaris gedeputeerden uyt de provincie van {}.\"\n",
    "    variants = [basephrase]\n",
    "    #phrase = {base_searchstring}#, 'label': 'provincie', 'variants': ['extraordinaris gedeputeerde uyt de provincie van']}\n",
    "    for provincie in province_order:\n",
    "        pc = []\n",
    "        for telwoord in ['een', 'twee', 'drie']:\n",
    "             pc.append(searchstring.format(telwoord, provincie))\n",
    "        variants.extend(pc)\n",
    "    pmodel = {'phrase':basephrase, 'label': 'province', 'variants':variants}\n",
    "    phrase_model = PhraseModel(model=[pmodel], config=fuzzysearch_config)\n",
    "    print ('phrase_model:', phrase_model)\n",
    "    pr_searcher.index_phrase_model(phrase_model=phrase_model)\n",
    "    return pr_searcher"
   ]
  },
  {
   "cell_type": "code",
   "execution_count": 225,
   "metadata": {},
   "outputs": [],
   "source": [
    "from fuzzy_search.fuzzy_phrase_searcher import FuzzyPhraseSearcher\n",
    "from fuzzy_search.fuzzy_phrase_model import PhraseModel\n",
    "# from ...data.delegate_database import abbreviated_delegates, found_delegates, ekwz\n",
    "# from .parse_delegates import FndMatch, fndmatch, match_previous\n",
    "# from .identify import iterative_search\n",
    "\n",
    "\n",
    "fuzzysearch_config = {\n",
    "    \"char_match_threshold\": 0.8,\n",
    "    \"ngram_threshold\": 0.6,\n",
    "    \"levenshtein_threshold\": 0.5,\n",
    "    \"ignorecase\": True,\n",
    "    \"ngram_size\": 3,\n",
    "    \"skip_size\": 1,\n",
    "}\n",
    "def make_province_searcher(config):\n",
    "    \"\"\"TODO is this faster if we first find the provinces and then find the rest???\"\"\"\n",
    "    pr_searcher = FuzzyPhraseSearcher(config)\n",
    "    basephrase = [{'phrase':\"extraordinaris Gedeputeerden uyt de provincie van\",\n",
    "                  'label':'extraordinaris',\n",
    "                  'variants':[]}]\n",
    "    prefix = [{'phrase':'met een', 'label':'prefix','variants':['met twee', 'met drie', 'een ', 'twee ', 'drie']}]\n",
    "    provinces = [{'phrase': \"Gelderlandt\",'label':'province',\n",
    "                 'variants':[\"Hollandt ende West-Vrieslandt\",\n",
    "                 \"Utrecht\",\n",
    "                 \"Frieslandt\",\n",
    "                 \"Overijssel\",\n",
    "                 \"Groningen\",\n",
    "                 \"Zeelandt\"]}]\n",
    "    phrases = basephrase + prefix + provinces\n",
    "    pmodel = PhraseModel(model=phrases, config=fuzzysearch_config)\n",
    "    pr_searcher.index_phrase_model(phrase_model=pmodel)\n",
    "    return pr_searcher"
   ]
  },
  {
   "cell_type": "code",
   "execution_count": 226,
   "metadata": {},
   "outputs": [],
   "source": [
    "presentielijsten = runner.searchobs\n",
    "pr_searcher = make_province_searcher(fuzzysearch_config)"
   ]
  },
  {
   "cell_type": "code",
   "execution_count": 227,
   "metadata": {},
   "outputs": [],
   "source": [
    "def match_prov(presentielijsten, config):\n",
    "    for T in presentielijsten.keys():\n",
    "        itm = presentielijsten[T]\n",
    "        txt = itm.text\n",
    "        print(txt)\n",
    "        provs = pr_searcher.find_matches(text=txt, include_variants=True)\n",
    "        print(T, provs)\n",
    "            #mt.set_span(span, \"province\")\n",
    "            "
   ]
  },
  {
   "cell_type": "code",
   "execution_count": 212,
   "metadata": {},
   "outputs": [],
   "source": [
    "def match_prov(presentielijsten, config):\n",
    "    for T in presentielijsten.keys():\n",
    "        itm = presentielijsten[T]\n",
    "        txt = itm.text\n",
    "        print(txt)\n",
    "        provs = pr_searcher.find_matches(text=txt, include_variants=True)\n",
    "        print(T, provs)\n",
    "        bstr = [s for s in provs if s.label=='extraordinaris']\n",
    "        for item in bstr:\n",
    "            o = item.offset\n",
    "            l = o + len(item.string)\n",
    "            pre_searchtext = [p.offset for p in provs if p.label=='prefix' and p.offset in range(o-10,o)]\n",
    "            if len(pre_searchtext)>0:\n",
    "                o = pre_searchtext[0]\n",
    "            post_searchtext = [p.offset + len(p.string) for p in provs if p.label=='province' and p.offset in range(l,l+30)]\n",
    "            if len(post_searchtext) > 0:\n",
    "                l = post_searchtext[0]\n",
    "            foundtext = txt[o:l] \n",
    "            print('found: ', foundtext)\n",
    "            #mt.set_span(span, \"province\")\n",
    "            "
   ]
  },
  {
   "cell_type": "markdown",
   "metadata": {},
   "source": [
    "<pre>\n",
    "fuzzysearch_config = {\n",
    "    \"char_match_threshold\": 0.8,\n",
    "    \"ngram_threshold\": 0.6,\n",
    "    \"levenshtein_threshold\": 0.5,\n",
    "    \"ignorecase\": False,\n",
    "    \"ngram_size\": 2,\n",
    "    \"skip_size\": 2,\n",
    "}\n",
    "CPU times: user 11min 42s, sys: 7.39 s, total: 11min 49s\n",
    "Wall time: 11min 55s \n",
    "\n",
    "\n",
    "fuzzysearch_config = {\n",
    "    \"char_match_threshold\": 0.8,\n",
    "    \"ngram_threshold\": 0.9,\n",
    "    \"levenshtein_threshold\": 0.8,\n",
    "    \"ignorecase\": False,\n",
    "    \"ngram_size\": 2,\n",
    "    \"skip_size\": 2,\n",
    "}\n",
    "CPU times: user 9min 31s, sys: 6.4 s, total: 9min 37s\n",
    "Wall time: 9min 42s\n",
    "\n",
    "met alleen 'extraordinaris gedeputeerde'\n",
    "CPU times: user 23.4 s, sys: 371 ms, total: 23.7 s\n",
    "Wall time: 23.9 s\n",
    "\n",
    "met 'extraordinaris gedeputeerde uyt de provincie van'\n",
    "CPU times: user 1min 38s, sys: 1.07 s, total: 1min 39s\n",
    "Wall time: 1min 39s\n",
    "\n",
    "CPU times: user 31.7 s, sys: 1.19 s, total: 32.9 s\n",
    "Wall time: 33.8 s\n",
    "\n",
    "en met tolerantere levenshtein distance (0.6) en ngram size 3\n",
    "CPU times: user 1min 33s, sys: 843 ms, total: 1min 34s\n",
    "Wall time: 1min 34s\n",
    "\n",
    "met varianten\n",
    "CPU times: user 9min 10s, sys: 4.79 s, total: 9min 15s\n",
    "Wall time: 9min 17s\n",
    "\n",
    "\n",
    "ngram size 3 en skipsize 1:\n",
    "lange varianten ('met een extraordinaris Gedelegeerde uyt de provincie van Gelderlandt' etc)\n",
    "CPU times: user 1min 55s, sys: 1.47 s, total: 1min 57s\n",
    "Wall time: 1min 58s\n",
    "\n",
    "searchstring opgedeeld in prefix ('(met) een/twee/drie'), \n",
    "basestring ('extraordinaris Gedelegeerde uyt de provincie') en provincies\n",
    "\n",
    "CPU times: user 13.2 s, sys: 800 ms, total: 14 s\n",
    "Wall time: 14.3 s\n",
    "\n",
    "eindresult met templating obv deelstrings\n",
    "CPU times: user 14 s, sys: 369 ms, total: 14.4 s\n",
    "Wall time: 14.6 s\n",
    "\n",
    "</pre>"
   ]
  },
  {
   "cell_type": "code",
   "execution_count": null,
   "metadata": {},
   "outputs": [],
   "source": [
    "%time match_prov(presentielijsten, fuzzysearch_config)"
   ]
  },
  {
   "cell_type": "code",
   "execution_count": null,
   "metadata": {},
   "outputs": [],
   "source": [
    "province_searcher(presentielijsten)"
   ]
  },
  {
   "cell_type": "code",
   "execution_count": null,
   "metadata": {},
   "outputs": [],
   "source": [
    "from republic.analyser.attendance_lists.pattern_finders import province_searcher\n",
    "%time province_searcher(searchobs)"
   ]
  },
  {
   "cell_type": "code",
   "execution_count": null,
   "metadata": {},
   "outputs": [],
   "source": [
    "from republic.analyser.attendance_lists.pattern_finders import province_searcher\n",
    "%time province_searcher(searchobs)"
   ]
  },
  {
   "cell_type": "code",
   "execution_count": null,
   "metadata": {},
   "outputs": [],
   "source": [
    "from republic.analyser.attendance_lists.pattern_finders import make_province_searcher, base_config\n",
    "prs = make_province_searcher(config=base_config)\n",
    "for T in ks:\n",
    "    ob = runner.searchobs[T].matched_text\n",
    "    txt = ob.item\n",
    "    print(prs.find_matches(txt, include_variants=True))"
   ]
  },
  {
   "cell_type": "code",
   "execution_count": 52,
   "metadata": {
    "scrolled": true
   },
   "outputs": [
    {
     "data": {
      "text/html": [
       "\n",
       "<h4>session-1730-01-02-num-1</h4>\n",
       "<span style=\"color:rgb(166,206,227)\"></span> <span style=\"color:rgb(166,206,227)\"></span> <span style=\"color:rgb(31,120,180)\"></span> Luna den 2. Januarii 1730.PRAESIDE, Den Heere van Wassenaer.De Heeren van Lynden, van Wiynbergen, BEE VV DESREXVAXNDEDEODNDEEBIEENEBDBDBDEERENXNNW ZBOEEEBDE MENEER. 1.15.DERVEREBENIGADE NEDERLANDEN.de Anno 17 30.Dominica den 1. Januarit nien, geschreven te Londen den seven en twintighsten der voorlede maandt, houdende advertentie. WAAR op geen resoluue is gevallen.<br><hr><br>\n",
       "<h4>session-1730-01-03-num-1</h4>\n",
       "<span style=\"color:rgb(31,120,180)\">Martis den 3, Januarii1730.</span> <span style=\"color:rgb(253,191,111)\">PRAESIDE, Den Heere</span> <span style=\"color:rgb(51,160,44)\">van Wassenaer</span> .  <span style=\"color:rgb(227,26,28)\">PRAESENTIBUS</span> , De Heeren  <span style=\"color:rgb(251,154,153)\">een extraordinaris Gedeputeerde uyt de Provincie van Gelderlandt</span> . Vanden  <span style=\"color:rgb(178,223,138)\">Born</span> ,  <span style=\"color:rgb(178,223,138)\">Bors</span>  vaa Waveren.  <span style=\"color:rgb(178,223,138)\">Van Borsselen</span> , Noey, van Hoorn. JTaats van a'merongen, van Renswoude.  <span style=\"color:rgb(178,223,138)\">Van Glnstra</span> ,  <span style=\"color:rgb(251,154,153)\">met een extraordinaris Gedeputeerde uyt de Provincie van Vrieslandt</span> .  <span style=\"color:rgb(178,223,138)\">Van Haarsolte</span> , van liselmuden, Ten  <span style=\"color:rgb(178,223,138)\">Brinck</span> .  <span style=\"color:rgb(178,223,138)\">Van Tamminga</span> ,  <span style=\"color:rgb(178,223,138)\">Lintelo</span>  van Steedum.DE Resotutien gisteren, genomen, <br><hr><br>\n",
       "<h4>session-1730-01-04-num-1</h4>\n",
       "<span style=\"color:rgb(31,120,180)\">1730.</span> <span style=\"color:rgb(253,191,111)\">PRAESIDDE, Den Heere</span> <span style=\"color:rgb(51,160,44)\">van Wassenaer</span> .  <span style=\"color:rgb(227,26,28)\">PRAEZSENTIBUS</span> , De Heeren  <span style=\"color:rgb(251,154,153)\">twee extraorainaris Gedeputeerden uyt de Provincie van Gelderlandt</span> . Vanden  <span style=\"color:rgb(178,223,138)\">Born</span> ,  <span style=\"color:rgb(178,223,138)\">Bors</span>  wan Vaveren.  <span style=\"color:rgb(178,223,138)\">Van Borsselen</span> ,  <span style=\"color:rgb(178,223,138)\">Bout</span> , Noey, van Hoorn.  <span style=\"color:rgb(178,223,138)\">Van Renswoude</span> .  <span style=\"color:rgb(178,223,138)\">Van Glinstra</span>  ,  <span style=\"color:rgb(251,154,153)\">met een extraordinaris Gedeputeerde uyt de Pruvvincie van V'rieslandt</span> .  <span style=\"color:rgb(178,223,138)\">Van Haarsolte</span> , van Isselmuden , Ten  <span style=\"color:rgb(178,223,138)\">Brinck</span> .  <span style=\"color:rgb(178,223,138)\">Van Tamminga</span>  ,  <span style=\"color:rgb(178,223,138)\">Lintelo</span>  van Steedum.DE Resotutien, guteren zenomen, <br><hr><br>\n",
       "<h4>session-1730-01-05-num-1</h4>\n",
       "<span style=\"color:rgb(31,120,180)\">Jovis den 5. Januarii1730.</span> <span style=\"color:rgb(253,191,111)\">PRAESIDE, Den Heere</span> <span style=\"color:rgb(51,160,44)\">van WY assenaer</span> .  <span style=\"color:rgb(227,26,28)\">PRAESENTIBUS</span> , De Heeren  <span style=\"color:rgb(251,154,153)\">twee extraordinaris Gedeputeerden uyt de Provincie van Gelderlandt</span> . Vanden  <span style=\"color:rgb(178,223,138)\">Born</span> ,  <span style=\"color:rgb(178,223,138)\">Bors</span>  van Waveren.  <span style=\"color:rgb(178,223,138)\">Van Borsselen</span> ,  <span style=\"color:rgb(178,223,138)\">Bout</span> , Noey, van HoornTaats van Amerongen, van Renswoude.  <span style=\"color:rgb(178,223,138)\">Van Glinstra</span> ,  <span style=\"color:rgb(251,154,153)\">met een extraordinaris Gedeputeerde uyt de Provincie van Vrieslandt</span> .  <span style=\"color:rgb(178,223,138)\">Van Haarsolte</span>  , van lsselmuden, Ten  <span style=\"color:rgb(178,223,138)\">Brinck</span> .  <span style=\"color:rgb(178,223,138)\">Van Tamminga</span> ,  <span style=\"color:rgb(178,223,138)\">Lintelo</span>  van Steedum.<br><hr><br>\n",
       "<h4>session-1730-01-06-num-1</h4>\n",
       "<span style=\"color:rgb(31,120,180)\">Veneris den 6. Januari1730.</span> <span style=\"color:rgb(253,191,111)\">PRAESIDE, Den Heere</span> <span style=\"color:rgb(51,160,44)\">van Wassenaer</span> .  <span style=\"color:rgb(227,26,28)\">PRAESENTIBUS</span> , De Heeren van Y'ynbergen,  <span style=\"color:rgb(251,154,153)\">met een extraordinuris Gedeputeerde uyt de Provincie van Gelderlandt</span> . Vanden Boetzelaar, van Blocklandt, vanden  <span style=\"color:rgb(178,223,138)\">Born</span> ,  <span style=\"color:rgb(178,223,138)\">Bors</span>  van Haveren, vande  <span style=\"color:rgb(178,223,138)\">Pol</span> , de Raadt.  <span style=\"color:rgb(178,223,138)\">Van Borsselen</span> , Buut, Noey, van Hoorn. Taats van Amerongen, van Renswoude.  <span style=\"color:rgb(178,223,138)\">Van Glinstra</span> ,  <span style=\"color:rgb(251,154,153)\">met een extraordinaris Gedeputeerde uyt de Provincie van Vrieslandt</span> . Van Haarsolie, van lsselmuden , Ten  <span style=\"color:rgb(178,223,138)\">Brinck</span> .  <span style=\"color:rgb(178,223,138)\">Van Tamminga</span>  ,  <span style=\"color:rgb(178,223,138)\">Lintelo</span>  van Steedum.DE Resosutien, gisteren genomen, <br><hr><br>\n",
       "<h4>session-1730-01-07-num-1</h4>\n",
       "<span style=\"color:rgb(31,120,180)\">Sabbathi den 7. Januaruii1730.</span> <span style=\"color:rgb(253,191,111)\">PRAESIDE, Den Heere</span> <span style=\"color:rgb(51,160,44)\">van Wassenaer</span> .  <span style=\"color:rgb(227,26,28)\">PRAESENTIEBUS</span>  , De Heeren van Wynbergen,  <span style=\"color:rgb(251,154,153)\">met een extraordinaris Gedeputeerde uyt de Provincie van Gelderlandt</span> .  <span style=\"color:rgb(178,223,138)\">Van Blocklandi</span>  , vanden  <span style=\"color:rgb(178,223,138)\">Born</span> , vander  <span style=\"color:rgb(178,223,138)\">Dussen</span> , Berckhout,  <span style=\"color:rgb(178,223,138)\">Bors</span>  uva Waveren, vande  <span style=\"color:rgb(178,223,138)\">Poll</span>  , de Raadt.  <span style=\"color:rgb(178,223,138)\">Van Borsselen</span> ,  <span style=\"color:rgb(178,223,138)\">Bout</span> , Nvey, van Hoorn. JTaats van Amerongen, van Renswoude.  <span style=\"color:rgb(178,223,138)\">Van Glinstra</span> ,  <span style=\"color:rgb(251,154,153)\">met een extraordinaris Gedeputcerde uytl de Provincie van Vrieslandt</span> .  <span style=\"color:rgb(178,223,138)\">Van Haarsolte</span> , van lsselmuden, Ten  <span style=\"color:rgb(178,223,138)\">Brinck</span> .  <span style=\"color:rgb(178,223,138)\">Van Tamminga</span>  ,  <span style=\"color:rgb(178,223,138)\">Lintelo</span>  van Steedum.<br><hr><br>\n",
       "<h4>session-1730-01-09-num-1</h4>\n",
       "<span style=\"color:rgb(31,120,180)\">Dominica den 8. Januarii 1730. Nihil actum est.Lunae den 9. Januarii1730.</span> <span style=\"color:rgb(227,26,28)\">PRAESIDE, Den Heere</span>  van  <span style=\"color:rgb(178,223,138)\">Bors</span> selen.  <span style=\"color:rgb(251,154,153)\">PRAESENTIBUS</span> , De Heeren  <span style=\"color:rgb(178,223,138)\">JTorck</span> , van Wynbergen ,  <span style=\"color:rgb(51,160,44)\">met twee extraordinaris Gedeputeerden uyt de Provincie van Gelderlandt</span> .  <span style=\"color:rgb(178,223,138)\">Van Wassenaer</span> , vanden Boetzelaar, van Blocklandt, vanden  <span style=\"color:rgb(178,223,138)\">Born</span> , vander Duse. sen, Berckhout, Bors van Waveren, vande  <span style=\"color:rgb(178,223,138)\">Poll</span>  , van Cattenborgh, de Raadt.  <span style=\"color:rgb(178,223,138)\">Bout</span> , Noey,  <span style=\"color:rgb(178,223,138)\">vun Hoorn</span> . Taats van Amerongen, van Renswoude.  <span style=\"color:rgb(178,223,138)\">Van Glinstra</span>  ,  <span style=\"color:rgb(51,160,44)\">met een extraordinaris Gedeputeerde uyt de Provincie van Vrieslandt</span> .  <span style=\"color:rgb(178,223,138)\">Van Haarsolte</span> , van lsselmuden , Ten  <span style=\"color:rgb(178,223,138)\">Brinck</span> .  <span style=\"color:rgb(178,223,138)\">Van Tamminga</span> ,  <span style=\"color:rgb(178,223,138)\">Lintelo</span>  van Steedum.<br><hr><br>\n",
       "<h4>session-1730-01-10-num-1</h4>\n",
       "<span style=\"color:rgb(31,120,180)\">Martis den 10. Januarii1730,</span> <span style=\"color:rgb(227,26,28)\">PRAESIDE Den Heere</span>  van  <span style=\"color:rgb(178,223,138)\">Bors</span> elen.  <span style=\"color:rgb(251,154,153)\">PRAESENTIBUS</span>  , De Heeren van Lynden, van Welderen,  <span style=\"color:rgb(178,223,138)\">Torck</span> , van W'ynbergen,  <span style=\"color:rgb(51,160,44)\">met een extraordinaris Gedeputeerde uyt de Provincie van Gelderlandt</span> .  <span style=\"color:rgb(178,223,138)\">Van Wassenaer</span> , vanden Boetzelaar, van Blocklandt, vanden  <span style=\"color:rgb(178,223,138)\">Born</span> , vander  <span style=\"color:rgb(178,223,138)\">Dussen</span> , Bors van Waveren, de Raadt.  <span style=\"color:rgb(178,223,138)\">Bout</span> , Noey, van Hoorn. JTaats van Amerongen, van Renswoude.  <span style=\"color:rgb(178,223,138)\">Van Glinstra</span> ,  <span style=\"color:rgb(51,160,44)\">met een extraordinaris Gedeputeerde uyt de Provincie van Vrieslandt</span> .  <span style=\"color:rgb(178,223,138)\">Van Haarsolte</span> , van liselmuden, Ten  <span style=\"color:rgb(178,223,138)\">Brinck</span> .  <span style=\"color:rgb(178,223,138)\">Van Tamminga</span> ,  <span style=\"color:rgb(178,223,138)\">Lintelo</span>  van Steedum.DE Resoruien gisteren, 2en0men, <br><hr><br>\n",
       "<h4>session-1730-01-11-num-1</h4>\n",
       "<span style=\"color:rgb(31,120,180)\">1730.</span> <span style=\"color:rgb(227,26,28)\">PRAZESIDE, Den Heere</span>  van  <span style=\"color:rgb(178,223,138)\">Bors</span> selen.  <span style=\"color:rgb(251,154,153)\">PRAESENTIEBUS</span> , De Heeren van Lynden,  <span style=\"color:rgb(178,223,138)\">Torck</span> , van Woynbergen,  <span style=\"color:rgb(51,160,44)\">met een extraordinaris Gedeputeerde uyt de Provincie van Gelderlandt</span> .  <span style=\"color:rgb(178,223,138)\">Van Hassenaer</span> , van Blocklandt , vanden  <span style=\"color:rgb(178,223,138)\">Born</span> , Bors van WY'averen.  <span style=\"color:rgb(178,223,138)\">Bout</span> , Noey, van Hoorn. Taats van Amerongen, van Renswoude.  <span style=\"color:rgb(178,223,138)\">Van Glinstra</span>  ,  <span style=\"color:rgb(51,160,44)\">met een extraordinaris Gedeputeerde uyt de Provincie van Vrieslandt</span> .  <span style=\"color:rgb(178,223,138)\">Van Haarsolte</span> , van lsselmuden , Ten  <span style=\"color:rgb(178,223,138)\">Brinck</span> .  <span style=\"color:rgb(178,223,138)\">Van Tamminga</span>  ,  <span style=\"color:rgb(178,223,138)\">Lintelo</span>  van Steedurti.DE Resorutien, gisteren genomen, <br><hr><br>\n",
       "<h4>session-1730-01-12-num-1</h4>\n",
       "<span style=\"color:rgb(31,120,180)\">Jovis den 12, Januarii1730.</span> <span style=\"color:rgb(227,26,28)\">PRAESIDE, Den Heere</span>  van  <span style=\"color:rgb(178,223,138)\">Bors</span> selen. <span style=\"color:rgb(251,154,153)\">PRAESENTIBUS</span> , De Heeren van Lynden ,  <span style=\"color:rgb(178,223,138)\">Torck</span> ,  <span style=\"color:rgb(51,160,44)\">met een extraordinaris Gedeputeerde uyt de Provincie van Gelderlandt</span> .  <span style=\"color:rgb(178,223,138)\">Van Wassenaer</span> , van Blocklandt, vanden  <span style=\"color:rgb(178,223,138)\">Born</span> , Bors van Waveren,  <span style=\"color:rgb(178,223,138)\">Jongemaat</span> .  <span style=\"color:rgb(178,223,138)\">Bout</span> , Noey, van Hoorn. Jaats van Amerongen, van Renswoude.  <span style=\"color:rgb(178,223,138)\">Van Glinstra</span> ,  <span style=\"color:rgb(51,160,44)\">met een extraordinaris Gedeputeerde uyt de Provincie van Vrieslandt</span> . Van Haarsoôlte , van Tsselmuden, Ten  <span style=\"color:rgb(178,223,138)\">Brinck</span> .  <span style=\"color:rgb(178,223,138)\">Van Tamminga</span> ,  <span style=\"color:rgb(178,223,138)\">Lintelo</span>  van Steedum.DE Resolutie, gisteren gencmen, <br><hr><br>\n",
       "<h4>session-1730-01-13-num-1</h4>\n",
       "<span style=\"color:rgb(31,120,180)\">Veeneris den 13. Januarai1730.</span> <span style=\"color:rgb(227,26,28)\">PRAESITDE, Den Heere</span>  van  <span style=\"color:rgb(178,223,138)\">Bors</span> selen.  <span style=\"color:rgb(251,154,153)\">PRAESENTIBUS</span> . De Heeren van Lynden,  <span style=\"color:rgb(178,223,138)\">Torck</span> ,  <span style=\"color:rgb(51,160,44)\">met een extraordinuris Gedeputeerde uyt de Provincie van Gelderlandt</span> .  <span style=\"color:rgb(178,223,138)\">Van Wassenaer</span> , vanden Boetzelaar, van Blocklandt, vanden  <span style=\"color:rgb(178,223,138)\">Born</span> , wander  <span style=\"color:rgb(178,223,138)\">Dussen</span> , Bors van Waveren, vande  <span style=\"color:rgb(178,223,138)\">Poll</span> , van Cattenborgh, de Raadt,  <span style=\"color:rgb(178,223,138)\">Jongemaat</span> .  <span style=\"color:rgb(178,223,138)\">Bout</span> , Noey, van Hoorn. Taats van Amerongen, van Renswoude.  <span style=\"color:rgb(178,223,138)\">Van Glinstra</span> ,  <span style=\"color:rgb(51,160,44)\">met een extraordinaris Gedeputeerde uyt de Provincie van Vrieslandt</span> .  <span style=\"color:rgb(178,223,138)\">Van Haarsolte</span> , van lsselmuden , Ten  <span style=\"color:rgb(178,223,138)\">Brinck</span> .  <span style=\"color:rgb(178,223,138)\">Van Tamminga</span>  ,  <span style=\"color:rgb(178,223,138)\">Lintelo</span>  van Steedum.DE Nesorutien, gisteren genomen, <br><hr><br>\n",
       "<h4>session-1730-01-14-num-1</h4>\n",
       "<span style=\"color:rgb(31,120,180)\">Sabbathi den 14. Januarii1730.</span> <span style=\"color:rgb(227,26,28)\">PRAESTDE,, Deu Heere</span>  van  <span style=\"color:rgb(178,223,138)\">Bors</span> selen.  <span style=\"color:rgb(251,154,153)\">PRAESENTIBUS</span> , De Heeren van Lynden ,  <span style=\"color:rgb(178,223,138)\">Torck</span> ,  <span style=\"color:rgb(51,160,44)\">met een extraordinaris Gedeputeerde uyt de Provincie van Gelderlandt</span> .  <span style=\"color:rgb(178,223,138)\">Van Wassenaer</span> , vanden Boetzelaar, van Blocklandi, vanden  <span style=\"color:rgb(178,223,138)\">Born</span> , Bors van Waveren, vande  <span style=\"color:rgb(178,223,138)\">Poll</span>  , van Cattenborgb, de Raadt,  <span style=\"color:rgb(178,223,138)\">Jongemaat</span> .  <span style=\"color:rgb(178,223,138)\">Bout</span> , Noey, van Hoorn. ZTaats van Amerongen, van Renswoude.  <span style=\"color:rgb(178,223,138)\">Van Glinstra</span> ,  <span style=\"color:rgb(51,160,44)\">met een extraordinaris Gedeputeerde uyt de Pruvincie van Vrieslandt</span> .  <span style=\"color:rgb(178,223,138)\">Van Haarsolte</span> , van lsselmuden, Ten  <span style=\"color:rgb(178,223,138)\">Brinck</span> .  <span style=\"color:rgb(178,223,138)\">Van Tamminga</span>  ,  <span style=\"color:rgb(178,223,138)\">Lintelo</span>  van Steedum.DE Nesolsutien , gisteren genomen, <br><hr><br>\n",
       "<h4>session-1730-01-16-num-1</h4>\n",
       "<span style=\"color:rgb(31,120,180)\">Dominica den 15. Januari1730. Nihil actum est.Luna den 16. Januarii1730.</span> <span style=\"color:rgb(253,191,111)\">PRAESIDE, Den Heere</span> <span style=\"color:rgb(51,160,44)\">Jaats van Amerongen</span> .  <span style=\"color:rgb(227,26,28)\">PRAESENTIBUS</span> , De Heeren van Lynden,  <span style=\"color:rgb(178,223,138)\">Torck</span>  ,  <span style=\"color:rgb(251,154,153)\">met twee extraordinaris Gedeputeerden uyt de Prowincie van Gelderlandt</span> .  <span style=\"color:rgb(178,223,138)\">Van Wassenaer</span> , vanden Boetzelaar, van Blocklandr, vanden  <span style=\"color:rgb(178,223,138)\">Born</span>  ,  <span style=\"color:rgb(178,223,138)\">Bors</span>  van Waveren,  <span style=\"color:rgb(178,223,138)\">Jongemaat</span> .  <span style=\"color:rgb(178,223,138)\">Van Borsselen</span> ,  <span style=\"color:rgb(178,223,138)\">Bout</span> , Noey,  <span style=\"color:rgb(178,223,138)\">vun Hoorn</span> .  <span style=\"color:rgb(178,223,138)\">Van Renswoude</span> .  <span style=\"color:rgb(178,223,138)\">Van Glinstra</span> ,  <span style=\"color:rgb(251,154,153)\">met een extraordinaris Gedeputeerde uyt de Provincie van Vrieslandt</span> . Pan Haarsolte, van lsselmuden. Pan Tamminga,  <span style=\"color:rgb(178,223,138)\">Lintelo</span>  van Steedum.<br><hr><br>\n",
       "<h4>session-1730-01-17-num-1</h4>\n",
       "<span style=\"color:rgb(31,120,180)\">Martis den 17. Januarii1730,</span> <span style=\"color:rgb(253,191,111)\">PRAESIDE, Den Heere</span> <span style=\"color:rgb(51,160,44)\">Zaats van Amerongen</span> .  <span style=\"color:rgb(227,26,28)\">PRAESENTIBUS</span> , De Heeren van Lynden,  <span style=\"color:rgb(178,223,138)\">Torck</span> ,  <span style=\"color:rgb(251,154,153)\">met twee extraordinaris Gedeyuteerden uyt de Provincie van Gelderlandt</span> .  <span style=\"color:rgb(178,223,138)\">Van Wassenaer</span> , van Blocklandt , vanden  <span style=\"color:rgb(178,223,138)\">Born</span> ,  <span style=\"color:rgb(178,223,138)\">Bors</span>  van Waveren,  <span style=\"color:rgb(178,223,138)\">Jongemaat</span> .  <span style=\"color:rgb(178,223,138)\">Van Borsselen</span> , van Hoorn.  <span style=\"color:rgb(178,223,138)\">Van Renswoude</span> .  <span style=\"color:rgb(178,223,138)\">Van Glinstra</span> ,  <span style=\"color:rgb(251,154,153)\">met een extraordinaris Gedepureerde uyt de Provincie van Vrieslandt</span> .  <span style=\"color:rgb(178,223,138)\">Van Haarsolte</span> , van lsiselmuden.  <span style=\"color:rgb(178,223,138)\">Van Tamminga</span> , Lntelo van Steedum.<br><hr><br>\n",
       "<h4>session-1730-01-18-num-1</h4>\n",
       "<span style=\"color:rgb(31,120,180)\">Mercuria den 18, Januartii1730.</span> <span style=\"color:rgb(253,191,111)\">PRAESIDE, Den Heere</span> <span style=\"color:rgb(51,160,44)\">Zaais van Amerongen</span> .  <span style=\"color:rgb(227,26,28)\">PRAESENTIBUS</span> , De Heeren van Lynden,  <span style=\"color:rgb(178,223,138)\">Torck</span> ,  <span style=\"color:rgb(251,154,153)\">met twee extraordinaris Gedeputeerden uyt de Provincie van Gelderlandt</span> .  <span style=\"color:rgb(178,223,138)\">Van Wassenaer</span> , van Blocklandt , vanden  <span style=\"color:rgb(178,223,138)\">Born</span> , vander  <span style=\"color:rgb(178,223,138)\">Dussen</span> ,  <span style=\"color:rgb(178,223,138)\">Bors</span>  van Waveren, van Cattenborgh,  <span style=\"color:rgb(178,223,138)\">Jongemaat</span> .  <span style=\"color:rgb(178,223,138)\">Van Borselen</span> ,  <span style=\"color:rgb(178,223,138)\">Bout</span> , van Hoorn.  <span style=\"color:rgb(178,223,138)\">Van Renswoude</span> ,  <span style=\"color:rgb(178,223,138)\">Van Glinstra</span>  ,  <span style=\"color:rgb(251,154,153)\">met een extraordinaris Gedeputeerde uyt de Provincie van Vrieslandt</span> .  <span style=\"color:rgb(178,223,138)\">Van Haarsolte</span> , van Isselmuden.  <span style=\"color:rgb(178,223,138)\">Van Tamminga</span>  ,  <span style=\"color:rgb(178,223,138)\">Lintelo</span>  van Steedum.DE RNesofutien, gisteren genomen, <br><hr><br>\n",
       "<h4>session-1730-01-19-num-1</h4>\n",
       "<span style=\"color:rgb(31,120,180)\">Jovis den 19. Januarit1730.</span> <span style=\"color:rgb(253,191,111)\">PRAESIDE, Den Heere</span> <span style=\"color:rgb(51,160,44)\">Zaats van Amerongen</span> .  <span style=\"color:rgb(227,26,28)\">PRAEAENTIBUS</span> , De Heeren van Lynden ,  <span style=\"color:rgb(178,223,138)\">Torck</span> ,  <span style=\"color:rgb(251,154,153)\">met een extraordinaris Gedeputeerde uyt de Provincie van Gelderlanat</span> .  <span style=\"color:rgb(178,223,138)\">Van Heassenaer</span> , van Blocklandt , vanden  <span style=\"color:rgb(178,223,138)\">Born</span> ,  <span style=\"color:rgb(178,223,138)\">Bors</span>  van Waveren,  <span style=\"color:rgb(178,223,138)\">Jongemaat</span> .  <span style=\"color:rgb(178,223,138)\">Van Borsselen</span> , Noey, van Hoorn.  <span style=\"color:rgb(178,223,138)\">Van Renswoude</span> .  <span style=\"color:rgb(178,223,138)\">Van Glinstra</span> ,  <span style=\"color:rgb(251,154,153)\">met een extraordinaris Gedeputeerde uyt de Provincie van Vrieslandt</span> .  <span style=\"color:rgb(178,223,138)\">Van Haarsolte</span> , van Isselmuden.  <span style=\"color:rgb(178,223,138)\">Van Tamminga</span> ,  <span style=\"color:rgb(178,223,138)\">Lintelo</span>  van Steedum.DE Resviutien, giuteren genamen, <br><hr><br>\n",
       "<h4>session-1730-01-20-num-1</h4>\n",
       "<span style=\"color:rgb(166,206,227)\"></span> Veneris den 20. Januarii1730. PRAASIDE Den Heere van Renswoude. PRAESENFIPEPUS, De Heeren van Lynden, Torck ,  <span style=\"color:rgb(31,120,180)\">met twee extraordinuris Gedeputeerden uyt de Provincie van Gelderlandt</span> <span style=\"color:rgb(31,120,180)\">met twee extraordinuris Gedeputeerden uyt de Provincie van Gelderlandt</span> .  <span style=\"color:rgb(178,223,138)\">Van Wassenaer</span> , van Blocklandt, vanden  <span style=\"color:rgb(178,223,138)\">Born</span> , vander  <span style=\"color:rgb(178,223,138)\">Dussen</span> ,  <span style=\"color:rgb(178,223,138)\">Bors</span>  van Waweren, vande  <span style=\"color:rgb(178,223,138)\">Poll</span>  , van Cattenborgh,  <span style=\"color:rgb(178,223,138)\">Jongemaat</span> .  <span style=\"color:rgb(178,223,138)\">Van Borsselen</span> ,  <span style=\"color:rgb(178,223,138)\">Bout</span> , Noey, van Hoorn. J'an  <span style=\"color:rgb(178,223,138)\">Glinstra</span>  ,  <span style=\"color:rgb(31,120,180)\">met een extraordinaris Gedeputeerde uyt de Provincie van Vrieslandt</span> .  <span style=\"color:rgb(178,223,138)\">Van Haarsolte</span> , van lsselmuden.  <span style=\"color:rgb(178,223,138)\">Van Tamminga</span>  ,  <span style=\"color:rgb(178,223,138)\">Lintelv</span>  van Steedum.<br><hr><br>\n",
       "<h4>session-1730-01-21-num-1</h4>\n",
       "<span style=\"color:rgb(31,120,180)\">Sabbathi den 21. Januarit 1730</span> <span style=\"color:rgb(227,26,28)\">PRAESIDE, Deu Heere</span> <span style=\"color:rgb(51,160,44)\">van Renswoude</span> .  <span style=\"color:rgb(251,154,153)\">PRAZSENTIBUS</span> , De Heeren van Lynden ,  <span style=\"color:rgb(178,223,138)\">Torck</span> , met een bereert zynde , hebben de Heeren Gedepuextraordinaris Gedeputeerde uyt de Provincie van Gelderlandt.  <span style=\"color:rgb(178,223,138)\">Van Wassenaer</span> , van Blocklandt, vanden  <span style=\"color:rgb(178,223,138)\">Born</span> ,  <span style=\"color:rgb(178,223,138)\">Bors</span>  van Waveren, van Cattenborgh,  <span style=\"color:rgb(178,223,138)\">Jongemaat</span> .  <span style=\"color:rgb(178,223,138)\">Van Borsselen</span> ,  <span style=\"color:rgb(178,223,138)\">Bout</span> , Nvey, van Hoorn.  <span style=\"color:rgb(178,223,138)\">Van Glinstra</span> .  <span style=\"color:rgb(178,223,138)\">Van Haarsolte</span> , van lsselmuden.  <span style=\"color:rgb(178,223,138)\">Van Tamminga</span>  ,  <span style=\"color:rgb(178,223,138)\">Lintelo</span>  van Steedum.DE Resosutien , gisteren genomen, <br><hr><br>\n",
       "<h4>session-1730-01-23-num-1</h4>\n",
       "<span style=\"color:rgb(31,120,180)\">Dominica den 22. Januarii1730. Nihil actum est. Luna den 23. Januarti1730.</span> <span style=\"color:rgb(253,191,111)\">PRAESITDE, Den Heere</span> <span style=\"color:rgb(51,160,44)\">van Glinstra</span> .  <span style=\"color:rgb(227,26,28)\">PRAESENTIBUS</span> , De Heeren van Lynden,  <span style=\"color:rgb(178,223,138)\">Torck</span>  ,  <span style=\"color:rgb(251,154,153)\">met twee extraordinaris Gedeputeerden uyt de Provincie van Gelderlandt</span> .  <span style=\"color:rgb(178,223,138)\">Van Wassenaer</span> , van Blocklandt , vanden  <span style=\"color:rgb(178,223,138)\">Born</span> ,  <span style=\"color:rgb(178,223,138)\">Bors</span>  van Waveren, vande  <span style=\"color:rgb(178,223,138)\">Poll</span>  , van Cattenburgb.  <span style=\"color:rgb(178,223,138)\">Van Borsselen</span> ,  <span style=\"color:rgb(178,223,138)\">Bout</span> , Noey, van Hoorn.  <span style=\"color:rgb(178,223,138)\">Van Renswoude</span> .  <span style=\"color:rgb(251,154,153)\">Een extraorainaris Gedeputeerde uyt de Provincie van Vrieslandt</span> .  <span style=\"color:rgb(178,223,138)\">Van Rechteren</span> , van Haarsolte, van lsselmuden.  <span style=\"color:rgb(178,223,138)\">Van Tamminga</span> ,  <span style=\"color:rgb(178,223,138)\">Lintelo</span>  van Steedum.<br><hr><br>\n",
       "<h4>session-1730-01-24-num-1</h4>\n",
       "<span style=\"color:rgb(31,120,180)\">Martis den 24. Janquarii21730.</span> <span style=\"color:rgb(253,191,111)\">PRAESIDE, Den Heere</span> <span style=\"color:rgb(51,160,44)\">uan Glinstra</span> .  <span style=\"color:rgb(227,26,28)\">PRAESENTIBUS</span> , De Heeren van Lynden, van Jelderen,  <span style=\"color:rgb(178,223,138)\">Torck</span> ,  <span style=\"color:rgb(251,154,153)\">met een extraordinaris Gedeputeerde uyt de Provincie van Gelderlandt</span> .  <span style=\"color:rgb(178,223,138)\">Van Wassenaer</span> , van Blocklandt , vanden  <span style=\"color:rgb(178,223,138)\">Born</span> ,  <span style=\"color:rgb(178,223,138)\">Bors</span>  van Waveren, vande  <span style=\"color:rgb(178,223,138)\">Poll</span> ,  <span style=\"color:rgb(178,223,138)\">wan Cattenborgh</span> .  <span style=\"color:rgb(178,223,138)\">Van Borsselen</span> ,  <span style=\"color:rgb(178,223,138)\">Bout</span> , Noey, van Hoorn.  <span style=\"color:rgb(251,154,153)\">Een extraordinaris Gedeputeerde uyt de Pravincie van Vrieslandt</span> .  <span style=\"color:rgb(178,223,138)\">Van Rechteren</span> , van Haarsolte , van Jsijelmuden.  <span style=\"color:rgb(178,223,138)\">Van Tamminga</span> , Lntelo van Steedum. DE Resorutuen guteren, 2en0men, <br><hr><br>\n",
       "<h4>session-1730-01-25-num-1</h4>\n",
       "<span style=\"color:rgb(31,120,180)\">Mercurii den 25, Januari1730.</span> <span style=\"color:rgb(253,191,111)\">PRAESIDE, Den Heere</span> <span style=\"color:rgb(51,160,44)\">van Glinstra</span> .  <span style=\"color:rgb(227,26,28)\">PRAESENTIBUS</span> ,, De Heeren van Lynden,  <span style=\"color:rgb(178,223,138)\">Torck</span> ,  <span style=\"color:rgb(251,154,153)\">met twee extraordinaris Gedeputeerden uyt de Provincie van Gelderlandt</span> .  <span style=\"color:rgb(178,223,138)\">Van Wassenaer</span> , van Blocklandt , vanden  <span style=\"color:rgb(178,223,138)\">Born</span> , van Cattenborgh.  <span style=\"color:rgb(178,223,138)\">Van Borsselen</span> ,  <span style=\"color:rgb(178,223,138)\">Bout</span> , Noey, van Hoorn.  <span style=\"color:rgb(178,223,138)\">Wan Renswoude</span> ,  <span style=\"color:rgb(251,154,153)\">Een extraordinaris Gedeputeerde uyt de Provincie van Vrieslandt</span> . Vaan  <span style=\"color:rgb(178,223,138)\">Rechteren</span>  , van Haarsolte, van Isselmuden.  <span style=\"color:rgb(178,223,138)\">Van Tamminga</span>  ,  <span style=\"color:rgb(178,223,138)\">Lintelo</span>  van Steedum. DE Rerorutiren ginteren genomen, <br><hr><br>\n",
       "<h4>session-1730-01-26-num-1</h4>\n",
       "<span style=\"color:rgb(31,120,180)\">Jovis den 26. Januarit1730.</span> <span style=\"color:rgb(253,191,111)\">PRAESIDE, Den Heere</span> <span style=\"color:rgb(51,160,44)\">van Glinstra</span> .  <span style=\"color:rgb(227,26,28)\">PRAESENTIBUS</span> , De Heeren van Lynden,  <span style=\"color:rgb(178,223,138)\">Torck</span> ,  <span style=\"color:rgb(251,154,153)\">met twee extraordinaris Gedeputeerden uyt de Provincie van Gelderlandt</span> .  <span style=\"color:rgb(178,223,138)\">Van Wassenaer</span> , van Blocklandt , vanden  <span style=\"color:rgb(178,223,138)\">Born</span> .  <span style=\"color:rgb(178,223,138)\">Van Borsselen</span> ,  <span style=\"color:rgb(178,223,138)\">Bout</span> , Noey, van Hoorn.  <span style=\"color:rgb(178,223,138)\">Van Renswoude</span> .  <span style=\"color:rgb(251,154,153)\">Een extraordinaris Gedeputeerde uyt de Provincie van Vrieslandt</span> .  <span style=\"color:rgb(178,223,138)\">Van Rechteren</span> , van Haarsolte , van Isselmuden.  <span style=\"color:rgb(178,223,138)\">Van Tamminga</span> ,  <span style=\"color:rgb(178,223,138)\">Lintelo</span>  van Steedum.DE RNesosutien, gitteren genomen, <br><hr><br>\n",
       "<h4>session-1730-01-27-num-1</h4>\n",
       "<span style=\"color:rgb(178,223,138)\"></span> <span style=\"color:rgb(251,154,153)\"></span> Veneris den 27. Januaritnoemden Conigh in te gaan met den eer1730. sten Junii van het selve jaar, in plaatse van DREAES IDE, Junii seventien hondert aght en twintigh, Den Heere van Glinstra. om dat hy Suppliant in de voorschreve  <span style=\"color:rgb(51,160,44)\">RePRAESENTIPUS</span> , queste onvoorsien hadde geser , in te gaan De Heeren van Lynden,  <span style=\"color:rgb(31,120,180)\">Torck</span> , met twee exvoor den voornoemden Conigh met Junii traordinaris Gedeputeerden uyt de Provindeses jaars, in plaatse van den voorleden cie van Gelderlandt. jaare, soo dat de Reekeninge door hem in  <span style=\"color:rgb(31,120,180)\">Van Wassenaer</span> , vanden Boetzelaar, van de Generaliteyts Reeken kamer, voor de drie  <span style=\"color:rgb(31,120,180)\">Blocklandt</span>  , vanden  <span style=\"color:rgb(31,120,180)\">Born</span> , van Cattenjaaren in de voorschreve haar Hoogh Moborgh. gende Resolutie van den vyftienden NovemVan  <span style=\"color:rgb(31,120,180)\">Borsselen</span> ,  <span style=\"color:rgb(31,120,180)\">Bout</span> , van Hoorn. ber seventien hondert ses en twintigh verVan  <span style=\"color:rgb(31,120,180)\">Renswoude</span> . meldt, werdende overgegeven, gemelde Ree. Fen ext<br><hr><br>\n",
       "<h4>session-1730-01-28-num-1</h4>\n",
       "<span style=\"color:rgb(31,120,180)\">Sabbathi den 28. Januarii1730.</span> <span style=\"color:rgb(253,191,111)\">PRAESTDE) Deu Heere</span> <span style=\"color:rgb(51,160,44)\">van Glinstra</span> .  <span style=\"color:rgb(227,26,28)\">PRAESEXNATIB</span>  US) De Heeren van Lynden, van Welderen,  <span style=\"color:rgb(178,223,138)\">Torck</span> ,  <span style=\"color:rgb(251,154,153)\">met twee extraordinaris Gedeputeerden uyt de Provincie Van Gelderlandt</span> .  <span style=\"color:rgb(178,223,138)\">Van Wassenaer</span> , van Blocklandt, vanden  <span style=\"color:rgb(178,223,138)\">Born</span> .  <span style=\"color:rgb(178,223,138)\">Van Borsselen</span> ,  <span style=\"color:rgb(178,223,138)\">Bout</span> , Noey, van Hoorn.  <span style=\"color:rgb(178,223,138)\">Van Renswoude</span> .  <span style=\"color:rgb(251,154,153)\">Een extraordinaris Gedeputeerde uyt de Provincie van Vriesland</span> <span style=\"color:rgb(178,223,138)\">Van Rechteren</span> , van Haarsolte, van Isselmuden.  <span style=\"color:rgb(178,223,138)\">Van JTamminga</span>  ,  <span style=\"color:rgb(178,223,138)\">Lintelo</span>  van Steedum.DE Resolutiten, gisteren genomen, <br><hr><br>\n",
       "<h4>session-1730-01-30-num-1</h4>\n",
       "<span style=\"color:rgb(31,120,180)\">Dominica den 29. Januarii1730. Nihil actum est. Lunae den 30. Januarii1730</span> <span style=\"color:rgb(253,191,111)\">PRAESIDE, Den Heere</span> <span style=\"color:rgb(51,160,44)\">van Rechteren</span> <span style=\"color:rgb(227,26,28)\">PRAESENTIBUS</span> , De Heeren van Lynden, van Welderen ,  <span style=\"color:rgb(178,223,138)\">Torck</span> ,  <span style=\"color:rgb(251,154,153)\">met een extraordinaris Gedeputeerde uyt de Pravincie van Gelderlandt</span> .  <span style=\"color:rgb(178,223,138)\">Van Wassenaer</span> , van Blocklandt, vanden  <span style=\"color:rgb(178,223,138)\">Born</span> .  <span style=\"color:rgb(178,223,138)\">Van Borsselen</span> , Noey,  <span style=\"color:rgb(178,223,138)\">vun Hoorn</span> .  <span style=\"color:rgb(178,223,138)\">Van Renswoude</span> .  <span style=\"color:rgb(178,223,138)\">Van Glinstra</span> ,  <span style=\"color:rgb(251,154,153)\">met een extraordinaris Gedeputeerde uyt de Provincie van Vrieslandt</span> .  <span style=\"color:rgb(178,223,138)\">Van Haarsolte</span> , van lsselmuden.  <span style=\"color:rgb(178,223,138)\">Van Zamminga</span> ,  <span style=\"color:rgb(178,223,138)\">Lintelo</span>  van Steedum.<br><hr><br>\n",
       "<h4>session-1730-01-31-num-1</h4>\n",
       "<span style=\"color:rgb(31,120,180)\">Martis den 31. Januarii1730,</span> <span style=\"color:rgb(253,191,111)\">PRAESIDE, Den Heere</span> <span style=\"color:rgb(51,160,44)\">van Rechteren</span> .  <span style=\"color:rgb(227,26,28)\">PRAESENTIBUS</span> , De Heeren van Lynden, van Heelderen,  <span style=\"color:rgb(178,223,138)\">Torck</span> ,  <span style=\"color:rgb(251,154,153)\">met een extraordinaris Gedeputeerde uyt de Provincie van Gelderlandt</span> .  <span style=\"color:rgb(178,223,138)\">Van Wassenaer</span> , vanden Boetzelaar, van Blocklandt, vanden  <span style=\"color:rgb(178,223,138)\">Born</span>  , van Cattenborgh,  <span style=\"color:rgb(178,223,138)\">Veckboven</span> .  <span style=\"color:rgb(178,223,138)\">Van Borsselen</span> ,  <span style=\"color:rgb(178,223,138)\">Bout</span> , Noey, van Hoorn.  <span style=\"color:rgb(178,223,138)\">Van Renswoude</span> .  <span style=\"color:rgb(178,223,138)\">Van Glinstra</span>  ,  <span style=\"color:rgb(251,154,153)\">met een extraordinaris Gedeputeerde uyt de Provincie van Vrieslandt</span> .  <span style=\"color:rgb(178,223,138)\">Van Haarsolte</span> , van liselmuden.  <span style=\"color:rgb(178,223,138)\">Van Tamminga</span> ,  <span style=\"color:rgb(178,223,138)\">Lintelo</span>  van Steedum.DE Nesolutien gisteren, genomen, <br><hr><br>\n",
       "<h4>session-1730-02-01-num-1</h4>\n",
       "<span style=\"color:rgb(31,120,180)\">Mercurii den 1. Pebruarii1730.</span> <span style=\"color:rgb(253,191,111)\">PRAESIDE) Den Heere</span> <span style=\"color:rgb(51,160,44)\">van Rechteren</span> .  <span style=\"color:rgb(227,26,28)\">PRAESENTIBUS</span> , De Heeren van Lynden, van Welderen,  <span style=\"color:rgb(178,223,138)\">Torck</span>  ,  <span style=\"color:rgb(251,154,153)\">met een extraordinaris Gedeputeerde uyt de Provincie van Gelderlandt</span> .  <span style=\"color:rgb(178,223,138)\">Van Blocklandt</span>  , vanden  <span style=\"color:rgb(178,223,138)\">Born</span> , van Cartenborgh ,  <span style=\"color:rgb(178,223,138)\">Veckhoven</span> .  <span style=\"color:rgb(178,223,138)\">Van Borsselen</span> ,  <span style=\"color:rgb(178,223,138)\">Bout</span> , Noey, van Hoorn.  <span style=\"color:rgb(178,223,138)\">Van Renswoude</span> .  <span style=\"color:rgb(178,223,138)\">Van Glinstra</span> ,  <span style=\"color:rgb(251,154,153)\">met een extraordinaris Gedeputeerde uyt de Provincie van Vrieslandt</span> . Van Haarsolie, van lyselmuden.  <span style=\"color:rgb(178,223,138)\">Van Tamminga</span>  ,  <span style=\"color:rgb(178,223,138)\">Lintelo</span>  van Steedum.<br><hr><br>\n",
       "<h4>session-1730-02-02-num-1</h4>\n",
       "<span style=\"color:rgb(31,120,180)\">Jovis den 2. Februarit1730.</span> <span style=\"color:rgb(253,191,111)\">PRAESIDE, Den Heere</span> <span style=\"color:rgb(51,160,44)\">van Rechteren</span> .  <span style=\"color:rgb(227,26,28)\">PRAEZESENTIBUS</span> , De Heeren van Lynden, van Welderen ,  <span style=\"color:rgb(178,223,138)\">Jorck</span> ,  <span style=\"color:rgb(251,154,153)\">met een extraordinaris Gedeputeerde uyt de Provincie van Gelderlanat</span> .  <span style=\"color:rgb(178,223,138)\">Van Wassenaer</span> , van Blocklandt , vandenBorn.  <span style=\"color:rgb(178,223,138)\">Van Borsselen</span> ,  <span style=\"color:rgb(178,223,138)\">Bout</span> , Noey, van Hoorn. <span style=\"color:rgb(178,223,138)\">Van Renswoude</span> .  <span style=\"color:rgb(178,223,138)\">Van Glinstra</span> ,  <span style=\"color:rgb(251,154,153)\">met een extraordinaris Gedeputeerde uyt de Provincie van Vrieslandt</span> . Van Haarsôlte, van lsselmuden.  <span style=\"color:rgb(178,223,138)\">Van Tamminga</span> ,  <span style=\"color:rgb(178,223,138)\">Lintelo</span>  van Steedum.<br><hr><br>\n",
       "<h4>session-1730-02-03-num-1</h4>\n",
       "<span style=\"color:rgb(31,120,180)\">Veeneris den 3. Februari1730.</span> <span style=\"color:rgb(253,191,111)\">PRAESIDE, Den Heere</span> <span style=\"color:rgb(51,160,44)\">van Rechteren</span> .  <span style=\"color:rgb(227,26,28)\">PRAESENTIBUS</span> . De Heeren van Lynden, van Welderen,  <span style=\"color:rgb(178,223,138)\">Torck</span> ,  <span style=\"color:rgb(251,154,153)\">met een extraordindris Gedeputeerde uyt de Provincie van Gelderlandt</span> .  <span style=\"color:rgb(178,223,138)\">Van Wassenaer</span> , van Blocklandt, vanden  <span style=\"color:rgb(178,223,138)\">Born</span> , vander  <span style=\"color:rgb(178,223,138)\">Dussen</span> , van Cattenborgh,de Raadt.  <span style=\"color:rgb(178,223,138)\">Van Borsselen</span> ,  <span style=\"color:rgb(178,223,138)\">Bout</span> , Noey,  <span style=\"color:rgb(178,223,138)\">vun Hoorn</span> <span style=\"color:rgb(178,223,138)\">Jan Renswoude</span> .  <span style=\"color:rgb(178,223,138)\">Van Glinstra</span> ,  <span style=\"color:rgb(251,154,153)\">met een extraordinaris Gedeputeerde uyt de Provincie van Vrieslandt</span> ,  <span style=\"color:rgb(178,223,138)\">Van Haarsolte</span> , van lsselmuden.  <span style=\"color:rgb(178,223,138)\">Van Tamminga</span>  ,  <span style=\"color:rgb(178,223,138)\">Lintelo</span>  van Steedum.DE Resolutie, gisteren genomen, <br><hr><br>\n",
       "<h4>session-1730-02-04-num-1</h4>\n",
       "<span style=\"color:rgb(178,223,138)\"></span> <span style=\"color:rgb(227,26,28)\"></span> Sabbathi den 4. Februarii1730. PRAAZASIDE, Den Heere van Rechteren.  <span style=\"color:rgb(251,154,153)\">PRAESENTIBUES</span> , De Heeren van Lynden, van Weeldéren,  <span style=\"color:rgb(31,120,180)\">Torck</span> ,  <span style=\"color:rgb(51,160,44)\">met een extraordinaris Gedeputeerde uyt de Provincie van Gelderlandt</span> .  <span style=\"color:rgb(31,120,180)\">Van Wassenaer</span> , van Blocklandi , vanden  <span style=\"color:rgb(31,120,180)\">Born</span> ,  <span style=\"color:rgb(31,120,180)\">Bors</span>  van Waveren.  <span style=\"color:rgb(31,120,180)\">Van Borsselen</span> ,  <span style=\"color:rgb(31,120,180)\">Bout</span> , Nvey, van Hoorn.  <span style=\"color:rgb(31,120,180)\">Van Renswoude</span> .  <span style=\"color:rgb(31,120,180)\">Van Glinstra</span> ,  <span style=\"color:rgb(51,160,44)\">met een extraordinaris Gedeputeerde uyt de Pruvincie van Vrieslandt</span> .  <span style=\"color:rgb(31,120,180)\">Van Haarsolte</span> , van lsselmuden.  <span style=\"color:rgb(31,120,180)\">Van Tamminga</span>  ,  <span style=\"color:rgb(31,120,180)\">Lintelo</span>  van Steedum.<br><hr><br>\n",
       "<h4>session-1730-02-06-num-1</h4>\n",
       "<span style=\"color:rgb(31,120,180)\">Dominica den 5. Februarii1730. Nihil actum est.Lunee den 6. Febrnarii1730.</span> <span style=\"color:rgb(253,191,111)\">PRAESIDE, Den Heere</span> <span style=\"color:rgb(51,160,44)\">van Tamminga</span> <span style=\"color:rgb(227,26,28)\">PRAESENTIBUS</span> , De Heeren van Lynden, van Welderen,  <span style=\"color:rgb(178,223,138)\">Torck</span> ,  <span style=\"color:rgb(251,154,153)\">met een extraordinaris Gedeputeerde uyt de Provincie van Gelderlandt</span> .  <span style=\"color:rgb(178,223,138)\">Van Wassenaer</span> , van Blocklandr, vanden  <span style=\"color:rgb(178,223,138)\">Born</span> , vander  <span style=\"color:rgb(178,223,138)\">Dussen</span> ,  <span style=\"color:rgb(178,223,138)\">Bors</span>  van Waveren, van Cattenburgh,  <span style=\"color:rgb(178,223,138)\">Veckhboven</span> .  <span style=\"color:rgb(178,223,138)\">Van Borsselen</span> ,  <span style=\"color:rgb(178,223,138)\">Bout</span> , Noey, van Hoorn.  <span style=\"color:rgb(178,223,138)\">Van Renswoude</span> .  <span style=\"color:rgb(178,223,138)\">Van Glinstra</span> <span style=\"color:rgb(178,223,138)\">Van Rechteren</span> , van Haarsolte, van Ilsselmuden.  <span style=\"color:rgb(178,223,138)\">Lintelo</span>  van Steedum.<br><hr><br>\n",
       "<h4>session-1730-02-07-num-1</h4>\n",
       "<span style=\"color:rgb(178,223,138)\"></span> <span style=\"color:rgb(227,26,28)\"></span> Martis den 7. Februarit1730. PRAAZESIDE,, Den Heere van Tamminga.  <span style=\"color:rgb(251,154,153)\">PRAESENTIBUOS</span> , De Heeren van Lynden ,  <span style=\"color:rgb(31,120,180)\">Torck</span> ,  <span style=\"color:rgb(51,160,44)\">met een extraordinaris Gedeputeerde uyt de Provincie van Gelderlandt</span> .  <span style=\"color:rgb(31,120,180)\">Van Blocklandt</span> , vanden  <span style=\"color:rgb(31,120,180)\">Born</span>  ,  <span style=\"color:rgb(31,120,180)\">Bors</span>  van Waveren, van Cattenborgh.  <span style=\"color:rgb(31,120,180)\">Van Borselen</span> ,  <span style=\"color:rgb(31,120,180)\">Bout</span> , Noey, van Hoorn.  <span style=\"color:rgb(31,120,180)\">Van Renswoude</span> .  <span style=\"color:rgb(31,120,180)\">Van Glinstra</span> .  <span style=\"color:rgb(31,120,180)\">Van Rechteren</span> , van Haarsôlte, van lyelmuden.DE Resolutien gisteren, genomen, <br><hr><br>\n",
       "<h4>session-1730-02-08-num-1</h4>\n",
       "<span style=\"color:rgb(31,120,180)\">Mercuri den 8. Februarii1730.</span> <span style=\"color:rgb(227,26,28)\">PRAEAIDE, Den Heere</span> <span style=\"color:rgb(51,160,44)\">van Tamminga</span> .  <span style=\"color:rgb(251,154,153)\">PRAESENTIBUS</span> , De Heeren van Lynden, van Welderen,  <span style=\"color:rgb(178,223,138)\">Torck</span> .  <span style=\"color:rgb(178,223,138)\">Van Blocklandt</span>  , vanden  <span style=\"color:rgb(178,223,138)\">Born</span> ,  <span style=\"color:rgb(178,223,138)\">Bors</span>  van HraverenVan  <span style=\"color:rgb(178,223,138)\">Borsselen</span> ,  <span style=\"color:rgb(178,223,138)\">Bout</span> , Noey, van Hoorn.  <span style=\"color:rgb(178,223,138)\">Van Renswoude</span> .  <span style=\"color:rgb(178,223,138)\">Van Glinstra</span> .  <span style=\"color:rgb(178,223,138)\">Van Rechteren</span> , van Haarsolte, van Isselmuden.DE Resotutien, gisteren genomen, <br><hr><br>\n",
       "<h4>session-1730-02-09-num-1</h4>\n",
       "<span style=\"color:rgb(31,120,180)\">Jovis den 9. Hebruarit1730.</span> <span style=\"color:rgb(227,26,28)\">PRAESIDE, Den Heere</span> <span style=\"color:rgb(51,160,44)\">van Tamminga</span> .  <span style=\"color:rgb(251,154,153)\">PRAESENTIBUS</span> , De Heeren van Lynden, van Jleelderen,  <span style=\"color:rgb(178,223,138)\">Torck</span> .  <span style=\"color:rgb(178,223,138)\">Van Wassenaer</span> , van Blocklandt , vanden  <span style=\"color:rgb(178,223,138)\">Born</span> ,  <span style=\"color:rgb(178,223,138)\">Bors</span>  van Waveren.  <span style=\"color:rgb(178,223,138)\">Van Borsselen</span> ,  <span style=\"color:rgb(178,223,138)\">Bout</span> , Noey, van Hoorn.  <span style=\"color:rgb(178,223,138)\">Van Renswoude</span> .  <span style=\"color:rgb(178,223,138)\">Van Glinstra</span> .  <span style=\"color:rgb(178,223,138)\">Van Rechteren</span> , van Haarsolte, van Isiselmuden. DE Reromtien , guteren zenoemen, <br><hr><br>\n",
       "<h4>session-1730-02-10-num-1</h4>\n",
       "<span style=\"color:rgb(31,120,180)\">Veneris den 10. Februarii1730.</span> <span style=\"color:rgb(253,191,111)\">PRAESIDE, Den Heere</span> <span style=\"color:rgb(51,160,44)\">van Tamminga</span> .  <span style=\"color:rgb(227,26,28)\">PRAESENTIBUS</span> .,. De Heeren van Lynden, van Welderen,  <span style=\"color:rgb(178,223,138)\">Jorck</span> ,  <span style=\"color:rgb(251,154,153)\">met een extraordinaris Gedeputeerde uyt de Provincie van Gelderlandt</span> .  <span style=\"color:rgb(178,223,138)\">Van Wassenaer</span> , van Blocklandt, vanden  <span style=\"color:rgb(178,223,138)\">Born</span> , vander  <span style=\"color:rgb(178,223,138)\">Dussen</span> ,  <span style=\"color:rgb(178,223,138)\">Bors</span>  van Wa veren, vande  <span style=\"color:rgb(178,223,138)\">Poll</span> .  <span style=\"color:rgb(178,223,138)\">Van Borsselen</span> ,  <span style=\"color:rgb(178,223,138)\">Bout</span> , Noey, van Hoorn.  <span style=\"color:rgb(178,223,138)\">'an Renswoude</span> .  <span style=\"color:rgb(178,223,138)\">Van Giinstra</span> .  <span style=\"color:rgb(178,223,138)\">Van Rechteren</span> , van Haarsolte, van Jsselmuden. DE Resosutien, gisteren genomen, <br><hr><br>\n",
       "<h4>session-1730-02-11-num-1</h4>\n",
       "<span style=\"color:rgb(31,120,180)\">Jabbathi den 11. Februarit1730.</span> <span style=\"color:rgb(227,26,28)\">PRAESIDE, Den Heere</span> <span style=\"color:rgb(51,160,44)\">van Tamminga</span> .  <span style=\"color:rgb(251,154,153)\">PRAESENFIEUS</span> , De Heeren van Lynden, van Weeldiren.  <span style=\"color:rgb(178,223,138)\">Van Wassenaer</span> , van Blocklandt, vanden  <span style=\"color:rgb(178,223,138)\">Born</span> ,  <span style=\"color:rgb(178,223,138)\">Bors</span>  van Waveren, van Cattenborgh.  <span style=\"color:rgb(178,223,138)\">Van Borsselen</span> ,  <span style=\"color:rgb(178,223,138)\">Bout</span> , Noey, van Hoorn.  <span style=\"color:rgb(178,223,138)\">Van Renswoude</span> .  <span style=\"color:rgb(178,223,138)\">Van Glinstra</span> .  <span style=\"color:rgb(178,223,138)\">Van Rechteren</span> , van Haarsolte, van Jsselmuden.DE Resolutie , gisteren genomen, <br><hr><br>\n",
       "<h4>session-1730-02-13-num-1</h4>\n",
       "<span style=\"color:rgb(31,120,180)\">Dominica den 12. Februari1730. Nibil actum est. Lunae den 13. Februarii1730.</span> <span style=\"color:rgb(227,26,28)\">PRAZESIDE, Den Heere</span> <span style=\"color:rgb(51,160,44)\">van Lynden</span> .  <span style=\"color:rgb(251,154,153)\">PRAESENTIBUS</span> , De Heeren van Welderen.  <span style=\"color:rgb(178,223,138)\">Van Wassenaer</span> , van Blocklandt, vanden  <span style=\"color:rgb(178,223,138)\">Born</span> ,  <span style=\"color:rgb(178,223,138)\">Bors</span>  van Waveren.  <span style=\"color:rgb(178,223,138)\">Van Borsselen</span> ,  <span style=\"color:rgb(178,223,138)\">Bout</span> , Noey, van Hoorn.  <span style=\"color:rgb(178,223,138)\">Van Renswoude</span> .  <span style=\"color:rgb(178,223,138)\">Van Glinstra</span> .  <span style=\"color:rgb(178,223,138)\">Van Rechteren</span> , van Haarsolte, van lsselmaden.  <span style=\"color:rgb(178,223,138)\">Van Tamminga</span> .<br><hr><br>\n",
       "<h4>session-1730-02-14-num-1</h4>\n",
       "<span style=\"color:rgb(31,120,180)\">Martis den 14, Februdrii1730</span> <span style=\"color:rgb(227,26,28)\">PRAESIDE, Den Heere</span> <span style=\"color:rgb(51,160,44)\">van Lynden</span> <span style=\"color:rgb(251,154,153)\">PRAESENTIBUS</span> , De Heeren vander Steen.  <span style=\"color:rgb(178,223,138)\">Van Wassenaer</span> , van Blocklandt, vanden  <span style=\"color:rgb(178,223,138)\">Born</span> ,  <span style=\"color:rgb(178,223,138)\">Bors</span>  van Waveren, vande  <span style=\"color:rgb(178,223,138)\">Poll</span> , van Cattenborgh.  <span style=\"color:rgb(178,223,138)\">Van Borsselen</span> ,  <span style=\"color:rgb(178,223,138)\">Bout</span> , Noey, van Hoorn.  <span style=\"color:rgb(178,223,138)\">Van Renswoude</span> .  <span style=\"color:rgb(178,223,138)\">Van Glinstra</span> .  <span style=\"color:rgb(178,223,138)\">Van Rechteren</span> , van Haarsolte, van Isselmuden.  <span style=\"color:rgb(178,223,138)\">Van Tamminga</span> .DO Ntosutien gisteren, 2enomen, <br><hr><br>\n",
       "<h4>session-1730-02-15-num-1</h4>\n",
       "<span style=\"color:rgb(31,120,180)\">Mercuraii den 15. Februarit1730.</span> <span style=\"color:rgb(253,191,111)\">PRAESIDE, Den Heere</span> <span style=\"color:rgb(51,160,44)\">van Lynden</span> .  <span style=\"color:rgb(227,26,28)\">PRAESENTIBUS</span> , De Heeren van Welderen, vander Sieen,  <span style=\"color:rgb(251,154,153)\">met twee extraordinaris Gedeputeerden uyt de Provincie van Gelderlandt</span> .  <span style=\"color:rgb(178,223,138)\">Van Wassenaer</span> , van Bilocklandt, vanden  <span style=\"color:rgb(178,223,138)\">Born</span> ,  <span style=\"color:rgb(178,223,138)\">Bors</span>  van J'averen, van Cattenborgh.  <span style=\"color:rgb(178,223,138)\">Van Borsselen</span> ,  <span style=\"color:rgb(178,223,138)\">Bout</span> , Noey, van Hoorn.  <span style=\"color:rgb(178,223,138)\">Van Renswoude</span> .  <span style=\"color:rgb(178,223,138)\">Van Glinstra</span> .  <span style=\"color:rgb(178,223,138)\">Van Rechteren</span> , van Haarsolte, van lssele muden.  <span style=\"color:rgb(178,223,138)\">Van Zamminga</span> . DE Nesorutien, gisteren genomen, <br><hr><br>\n",
       "<h4>session-1730-02-16-num-1</h4>\n",
       "<span style=\"color:rgb(31,120,180)\">Jovis den 16. Februarii1730.</span> <span style=\"color:rgb(253,191,111)\">PRAESIDE, Ben Heere</span> <span style=\"color:rgb(51,160,44)\">van Lynden</span> .  <span style=\"color:rgb(227,26,28)\">PRAESENTIBUS</span> , De Heeren van Welderen, vander Steen,  <span style=\"color:rgb(251,154,153)\">met twee extraordinaris Gedeputeerden uyt de Provincie van Gelderlaudt</span> . Van WY  <span style=\"color:rgb(178,223,138)\">assenaer</span> , van Blocklandt , vanden  <span style=\"color:rgb(178,223,138)\">Born</span> .  <span style=\"color:rgb(178,223,138)\">Bors</span>  van Waveren, vande  <span style=\"color:rgb(178,223,138)\">Poll</span> , van Cattenborgh ,  <span style=\"color:rgb(178,223,138)\">Veckhoven</span> .  <span style=\"color:rgb(178,223,138)\">Van Borsselen</span> ,  <span style=\"color:rgb(178,223,138)\">Bout</span> , Noey, van Hoorn.  <span style=\"color:rgb(178,223,138)\">Van Renswoude</span> .  <span style=\"color:rgb(178,223,138)\">Van Glinstra</span> .  <span style=\"color:rgb(178,223,138)\">Van Rechteren</span> , van Haarsolte, van Jsselmuden.  <span style=\"color:rgb(178,223,138)\">Van Tamminga</span> .DE Resovwutien, gitteren genaomen, <br><hr><br>\n",
       "<h4>session-1730-02-17-num-1</h4>\n",
       "<span style=\"color:rgb(31,120,180)\">Veneris den 17. Februarai1730.</span> <span style=\"color:rgb(253,191,111)\">PRAESIDE, Den Heere</span> <span style=\"color:rgb(51,160,44)\">van Lynden</span> .  <span style=\"color:rgb(227,26,28)\">PRAESENTIBUS</span> , De Heeren van Welderen, vander Steen,  <span style=\"color:rgb(251,154,153)\">met een extraordinuris Gedeputeerde uyt de Provincie van Gelderlandt</span> .  <span style=\"color:rgb(178,223,138)\">Van Wassenaer</span> , van Blocklandt, vanden  <span style=\"color:rgb(178,223,138)\">Born</span> ,  <span style=\"color:rgb(178,223,138)\">Bors</span>  van Waveren, vande  <span style=\"color:rgb(178,223,138)\">Poll</span> , van Cattenborgh, VeckhovenVan  <span style=\"color:rgb(178,223,138)\">Borsselen</span> ,  <span style=\"color:rgb(178,223,138)\">Bout</span> , Noey, van Hoorn.  <span style=\"color:rgb(178,223,138)\">Van Renswoude</span>  ,  <span style=\"color:rgb(178,223,138)\">Quint</span> .  <span style=\"color:rgb(178,223,138)\">Van Glinstra</span> .  <span style=\"color:rgb(178,223,138)\">Van Rechteren</span> , van Haarsolte, van Isselmuden.  <span style=\"color:rgb(178,223,138)\">Van Tamminga</span> .<br><hr><br>\n",
       "<h4>session-1730-02-18-num-1</h4>\n",
       "<span style=\"color:rgb(31,120,180)\">Sabbathi den 18. Februarii1730.</span> <span style=\"color:rgb(253,191,111)\">PRAESIDE, Den Heere</span> <span style=\"color:rgb(51,160,44)\">van Lynden</span> .  <span style=\"color:rgb(227,26,28)\">PRAESENTIBUS</span> , De Heeren van Welderen, vander Steen,  <span style=\"color:rgb(251,154,153)\">met twee extraordinaris Gedeputeerden uyt de Provincie van Gelderlandt</span> .  <span style=\"color:rgb(178,223,138)\">Van Wassenaer</span> , van Blocklandit, vanden  <span style=\"color:rgb(178,223,138)\">Born</span> ,  <span style=\"color:rgb(178,223,138)\">Bors</span>  van Waveren, vande  <span style=\"color:rgb(178,223,138)\">Poll</span> .  <span style=\"color:rgb(178,223,138)\">Van Borsselen</span> ,  <span style=\"color:rgb(178,223,138)\">Bout</span> , Nvey, van Hoorn.  <span style=\"color:rgb(178,223,138)\">Van Renswoude</span> ,  <span style=\"color:rgb(178,223,138)\">Quint</span> .  <span style=\"color:rgb(178,223,138)\">Van Glinstra</span> .  <span style=\"color:rgb(178,223,138)\">Van Rechteren</span> , van Haarsolte, van Isselmuden.  <span style=\"color:rgb(178,223,138)\">Van Tamminga</span> .DE Resolutien, gnteren genomen, <br><hr><br>\n",
       "<h4>session-1730-02-20-num-1</h4>\n",
       "<span style=\"color:rgb(31,120,180)\">Dominica den 19, Februarit1730. Nihil actum est. Lunae den 20, Februarii1730.</span> <span style=\"color:rgb(253,191,111)\">PRAESIDE, Den Heere</span> <span style=\"color:rgb(51,160,44)\">van Wassenaer</span> .  <span style=\"color:rgb(227,26,28)\">PRAESENTIBUS</span> , De Heeren van Lynden, vander Steen,  <span style=\"color:rgb(251,154,153)\">met een extraordinaris Gedeputeerde uyt de Provincie van Gelderlandt</span> .  <span style=\"color:rgb(178,223,138)\">Van Blocklandt</span> , vanden  <span style=\"color:rgb(178,223,138)\">Born</span> ,  <span style=\"color:rgb(178,223,138)\">Bors</span>  van Waveren, vande  <span style=\"color:rgb(178,223,138)\">Poll</span> .  <span style=\"color:rgb(178,223,138)\">Van Borsselen</span> ,  <span style=\"color:rgb(178,223,138)\">Bout</span> , Noey, van Hoorn.  <span style=\"color:rgb(178,223,138)\">Quint</span> .  <span style=\"color:rgb(178,223,138)\">Van Glinstra</span> .  <span style=\"color:rgb(178,223,138)\">Van Rechteren</span> , van Haarsolte, van Isselmuden.  <span style=\"color:rgb(178,223,138)\">Van Tamminga</span> . <br><hr><br>\n",
       "<h4>session-1730-02-21-num-1</h4>\n",
       "<span style=\"color:rgb(31,120,180)\">Martis den 21. Februarii1730,</span> <span style=\"color:rgb(253,191,111)\">PRAESIDE, Den Heere</span> <span style=\"color:rgb(51,160,44)\">van Wassenaer</span> .  <span style=\"color:rgb(227,26,28)\">PRAEZSENTIBUS</span> , De Heeren van Lynden , van Welderen, vander Steen,  <span style=\"color:rgb(251,154,153)\">met drie extraordinaris Gedeputeerden uyt de Pruvincie van</span>  GelderDE  <span style=\"color:rgb(178,223,138)\">Van Blocklandt</span> , vanden  <span style=\"color:rgb(178,223,138)\">Born</span> , vander  <span style=\"color:rgb(178,223,138)\">Dussen</span> ,  <span style=\"color:rgb(178,223,138)\">Bors</span>  van Waveren, vande  <span style=\"color:rgb(178,223,138)\">Poll</span> , van Cattenborgh,  <span style=\"color:rgb(178,223,138)\">Veckboven</span> .  <span style=\"color:rgb(178,223,138)\">Van Beorsselen</span> ,  <span style=\"color:rgb(178,223,138)\">Bout</span> , Noey, van Hoorn.  <span style=\"color:rgb(178,223,138)\">Quint</span> .  <span style=\"color:rgb(178,223,138)\">Van Glinstra</span> .  <span style=\"color:rgb(178,223,138)\">Van Rechteren</span> , van Haarsolte, van lIsselmuden.  <span style=\"color:rgb(178,223,138)\">Van Tamminga</span> . DE Resorutin guteren, 2enomen, <br><hr><br>\n",
       "<h4>session-1730-02-22-num-1</h4>\n",
       "<span style=\"color:rgb(31,120,180)\">Mercurii den 22. Februarii1730.</span> <span style=\"color:rgb(227,26,28)\">PRAESIDE, Den Heere</span> <span style=\"color:rgb(51,160,44)\">van Wassenaer</span> .  <span style=\"color:rgb(251,154,153)\">PRAESENTIBUS</span> , De Heeren van Lynden.  <span style=\"color:rgb(178,223,138)\">Van Blocklandt</span> , vanden  <span style=\"color:rgb(178,223,138)\">Born</span> ,  <span style=\"color:rgb(178,223,138)\">Bors</span>  van H'averen, van Cattenborgh.  <span style=\"color:rgb(178,223,138)\">Van Borsselen</span> ,  <span style=\"color:rgb(178,223,138)\">Bout</span> , Noey, van Hoorn.  <span style=\"color:rgb(178,223,138)\">Quint</span> .  <span style=\"color:rgb(178,223,138)\">Van Glinstra</span> .  <span style=\"color:rgb(178,223,138)\">Van Rechteren</span> , van Haarsolte, van lsselmuden.  <span style=\"color:rgb(178,223,138)\">Van Tamminga</span> .DE Nesorutien, gisteren genomen, <br><hr><br>\n",
       "<h4>session-1730-02-23-num-1</h4>\n",
       "<span style=\"color:rgb(31,120,180)\">Jovis den 23. Februarit1730.</span> <span style=\"color:rgb(253,191,111)\">PRAESIDE, Ben Heere</span> <span style=\"color:rgb(51,160,44)\">van Wassenaer</span> <span style=\"color:rgb(227,26,28)\">PRAAESENTIBOS</span> , De Heeren van Lynden,  <span style=\"color:rgb(251,154,153)\">met drie extraordinaris Gedeputeerden uyt de Provincie van Gelderlandt</span> .  <span style=\"color:rgb(178,223,138)\">Van Blocklandt</span>  , vanden  <span style=\"color:rgb(178,223,138)\">Born</span> ,  <span style=\"color:rgb(178,223,138)\">Bors</span>  van Waveren, van Catienborgh.  <span style=\"color:rgb(178,223,138)\">Van Borsselen</span> , Noey, van Hoorn.  <span style=\"color:rgb(178,223,138)\">Jouint</span> .  <span style=\"color:rgb(178,223,138)\">Van Glinstra</span> .  <span style=\"color:rgb(178,223,138)\">Van Rechteren</span> , van Haarsolte , van Isselmuden.  <span style=\"color:rgb(178,223,138)\">Van Tamminga</span> .DE Resorutien, gisteren genomen, <br><hr><br>\n",
       "<h4>session-1730-02-24-num-1</h4>\n",
       "<span style=\"color:rgb(31,120,180)\">Veeneris den 24. Februarii1730.</span> <span style=\"color:rgb(253,191,111)\">IRAATSIDE, Den Heere</span> <span style=\"color:rgb(51,160,44)\">van Wassenaer</span> .  <span style=\"color:rgb(227,26,28)\">PRAASENTIBUS</span> , De Heeren van Lynden, van Welderen,  <span style=\"color:rgb(251,154,153)\">met twee extraordinuris Gedeputeerden uyt de Provincie van Gelderlandt</span> .  <span style=\"color:rgb(178,223,138)\">Van Blocklandt</span>  , vanden  <span style=\"color:rgb(178,223,138)\">Born</span> ,  <span style=\"color:rgb(178,223,138)\">Bors</span>  van Waveren, van Cattenborgh, VeckhovenVan  <span style=\"color:rgb(178,223,138)\">Borsselen</span> ,  <span style=\"color:rgb(178,223,138)\">Bout</span> , Noey, van Hoorn.  <span style=\"color:rgb(178,223,138)\">Quint</span> .  <span style=\"color:rgb(178,223,138)\">Van Glinstra</span> .  <span style=\"color:rgb(178,223,138)\">Van Rechteren</span> , van Haarsolte, van lsselmuden.  <span style=\"color:rgb(178,223,138)\">Van Tamminga</span> .<br><hr><br>\n",
       "<h4>session-1730-02-25-num-1</h4>\n",
       "<span style=\"color:rgb(31,120,180)\">Sabbatha den 25. Februarii1730.</span> <span style=\"color:rgb(253,191,111)\">PRAESIDE, Den Heere</span> <span style=\"color:rgb(51,160,44)\">van Wassenaer</span> .  <span style=\"color:rgb(227,26,28)\">PRAESENTIBUS</span> , De Heeren van Lynden, van Weldéren ,  <span style=\"color:rgb(251,154,153)\">met twee extraordinaris Gedeputeerden uyt de Provincie van Gelderlandt</span> .  <span style=\"color:rgb(178,223,138)\">Van Blocklandt</span> , vanden  <span style=\"color:rgb(178,223,138)\">Born</span> ,  <span style=\"color:rgb(178,223,138)\">Bors</span>  van Waveren, van Cattenburgh.  <span style=\"color:rgb(178,223,138)\">Van Borsselen</span> ,  <span style=\"color:rgb(178,223,138)\">Bout</span> , Nvey, van Hoorn.  <span style=\"color:rgb(178,223,138)\">Quint</span> .  <span style=\"color:rgb(178,223,138)\">Van Glinstra</span> .  <span style=\"color:rgb(178,223,138)\">Van Rechteren</span> , van Haarsolte, van Iiselmuden.  <span style=\"color:rgb(178,223,138)\">Van Tamminga</span> .DE Resoinunien , gisteren genomen, <br><hr><br>\n",
       "<h4>session-1730-02-27-num-1</h4>\n",
       "<span style=\"color:rgb(31,120,180)\">Dominica den 26, Februarii1730. Nihil actum est. Lunae den 27. Februarii1730.</span> <span style=\"color:rgb(227,26,28)\">PRAESIDE, Den Heere</span>  van  <span style=\"color:rgb(178,223,138)\">Bors</span> selen.  <span style=\"color:rgb(251,154,153)\">PRAESENTIBUS</span> , De Heeren van Lynden , van Welderen,  <span style=\"color:rgb(178,223,138)\">Torck</span> , Umbgroeven ,  <span style=\"color:rgb(51,160,44)\">met twee extraordinaris Gedeputeerden uyt de Provincie van Gelderlandt</span> .  <span style=\"color:rgb(178,223,138)\">Van Wassenaer</span> , van Blocklandt, vanden  <span style=\"color:rgb(178,223,138)\">Born</span>  , Bors van Waveren, van Cattenborgh.  <span style=\"color:rgb(178,223,138)\">Bout</span> , Noey, van Hoorn.  <span style=\"color:rgb(178,223,138)\">Quint</span> .  <span style=\"color:rgb(178,223,138)\">Van Glinstra</span> .  <span style=\"color:rgb(178,223,138)\">Van Rechteren</span> , van Haarsolte, van Isselmuden.  <span style=\"color:rgb(178,223,138)\">Van Tamminga</span> .<br><hr><br>\n",
       "<h4>session-1730-02-28-num-1</h4>\n",
       "<span style=\"color:rgb(31,120,180)\">Martis den 28. Februari1730.</span> <span style=\"color:rgb(227,26,28)\">PRAESIDE, Den Heere</span>  van  <span style=\"color:rgb(178,223,138)\">Bors</span> elen.  <span style=\"color:rgb(251,154,153)\">PRAESENTIBUS</span> , De Heeren van Lynden , van Welderen,  <span style=\"color:rgb(178,223,138)\">Torck</span> , Umbgroeven,  <span style=\"color:rgb(51,160,44)\">met twee extraordinaris Gedeputeerden uyt de Pruvincie van Gelderlandt</span> .  <span style=\"color:rgb(178,223,138)\">Van Wassenaer</span> , van Blocklandt, vanden  <span style=\"color:rgb(178,223,138)\">Born</span> , Bors van Waveren.  <span style=\"color:rgb(178,223,138)\">Bout</span> , Noey.  <span style=\"color:rgb(178,223,138)\">Quint</span> .  <span style=\"color:rgb(178,223,138)\">Van Glinstra</span> .  <span style=\"color:rgb(178,223,138)\">Van Rechteren</span> ,  <span style=\"color:rgb(178,223,138)\">vun Haarsolte</span> , van lsselmuden.  <span style=\"color:rgb(178,223,138)\">Van Tamminga</span> .DE Roepwiaurnren gisteren, zenomen, <br><hr><br>\n",
       "<h4>session-1730-03-01-num-1</h4>\n",
       "<span style=\"color:rgb(31,120,180)\">Mercurii den 1, Maart1730.</span> <span style=\"color:rgb(227,26,28)\">PRAESIDE, Den Heere</span>  van  <span style=\"color:rgb(178,223,138)\">Bors</span> selen.  <span style=\"color:rgb(251,154,153)\">PRAESENTIBUS</span> , De Heeren van Lynden, van M'elderen,  <span style=\"color:rgb(178,223,138)\">Torck</span> , Umbgroeven,  <span style=\"color:rgb(51,160,44)\">met drie extraordinaris Gedeputeerden uyt de Provincie van Gelderlandt</span> .  <span style=\"color:rgb(178,223,138)\">Van Blocklandt</span> , vanden  <span style=\"color:rgb(178,223,138)\">Born</span> , Bors van Haveren, vande  <span style=\"color:rgb(178,223,138)\">Poll</span> .  <span style=\"color:rgb(178,223,138)\">Bout</span> .  <span style=\"color:rgb(178,223,138)\">Quint</span> .  <span style=\"color:rgb(178,223,138)\">Van Glinstra</span> . Vaan  <span style=\"color:rgb(178,223,138)\">Rechteren</span> , van Haarsolie, van Jsselmuden.  <span style=\"color:rgb(178,223,138)\">Van Tamminga</span> .DE Nesosutien, gisteren genomen, <br><hr><br>\n",
       "<h4>session-1730-03-02-num-1</h4>\n",
       "<span style=\"color:rgb(31,120,180)\">Jovis den 2, Maart1730.</span> <span style=\"color:rgb(227,26,28)\">PRAESIDE, Den Heere</span>  van  <span style=\"color:rgb(178,223,138)\">Bors</span> elen.  <span style=\"color:rgb(251,154,153)\">PRAESENTIBUS</span> , Ben Heeren van Lynden, van Welderen,  <span style=\"color:rgb(178,223,138)\">Torck</span> , Umbgroeven,  <span style=\"color:rgb(51,160,44)\">met twee extraordinaris Gedeputeerden uyt de Provincie van Gelderlandt</span> .  <span style=\"color:rgb(178,223,138)\">Van Wassenaer</span> , van Blocklandt, va. den  <span style=\"color:rgb(178,223,138)\">Born</span> , Bors van Waveren.  <span style=\"color:rgb(178,223,138)\">Bout</span> , Noey.  <span style=\"color:rgb(178,223,138)\">Quint</span> .  <span style=\"color:rgb(178,223,138)\">Van Glinstra</span> .  <span style=\"color:rgb(178,223,138)\">Van Rechteren</span> , van Haarsolte, van Isselmuden.  <span style=\"color:rgb(178,223,138)\">Van Tamminga</span> . DE Resolutien, gitteren genomen, <br><hr><br>\n",
       "<h4>session-1730-03-03-num-1</h4>\n",
       "<span style=\"color:rgb(31,120,180)\">Veneris den 3. Maart1730.</span> <span style=\"color:rgb(227,26,28)\">PRAESIDE, Den Heere</span>  van  <span style=\"color:rgb(178,223,138)\">Bors</span> selen.  <span style=\"color:rgb(251,154,153)\">PRAESENTIBUS</span> .,. De Heeren van Lynden, van Welderen, Umbgroeven,  <span style=\"color:rgb(51,160,44)\">met drie extraordinuris Gedeputeerden uyt de Provincie van Gelderlandt</span> .  <span style=\"color:rgb(178,223,138)\">Van Wassenaer</span> , van Blocklandt, Bors van Waveren, van Cattenborgh.  <span style=\"color:rgb(178,223,138)\">Bout</span> , Noey, van Hoorn.  <span style=\"color:rgb(178,223,138)\">Vuint</span> .  <span style=\"color:rgb(178,223,138)\">Van Glinstra</span> .  <span style=\"color:rgb(178,223,138)\">Van Rechteren</span> , van Haarsolte, van lsselmuden.  <span style=\"color:rgb(178,223,138)\">Van Tamminga</span> .DE Resolttien, gisteren genomen, <br><hr><br>\n",
       "<h4>session-1730-03-04-num-1</h4>\n",
       "<span style=\"color:rgb(31,120,180)\">Sabbathi den 4. Maart 1730.</span> <span style=\"color:rgb(227,26,28)\">PRAASIDE, Den Heere</span>  van  <span style=\"color:rgb(178,223,138)\">Bors</span> selen.  <span style=\"color:rgb(251,154,153)\">PRAAESENTIEVUS</span> , De Heeren van Lynden, van Weeldéren, Umbgroeven,  <span style=\"color:rgb(51,160,44)\">met twee extraordinaris Gedeputeerden uyt de Provincie van Gelderlandt</span> .  <span style=\"color:rgb(178,223,138)\">Van Wassenaer</span> , van Blocklandt, Bors van Waveren, van Cattenburgh,  <span style=\"color:rgb(178,223,138)\">Veckhoven</span> .  <span style=\"color:rgb(178,223,138)\">Bout</span> , Nvey, van Hoorn.  <span style=\"color:rgb(178,223,138)\">Quint</span> .  <span style=\"color:rgb(178,223,138)\">Van Glinstra</span> .  <span style=\"color:rgb(178,223,138)\">Van Rechteren</span> , van Haarsolte, van lsselmuden.  <span style=\"color:rgb(178,223,138)\">Van Tamminga</span> .DE Resolutien , gisteren genomen, <br><hr><br>\n",
       "<h4>session-1730-03-06-num-1</h4>\n",
       "<span style=\"color:rgb(31,120,180)\">Dominica den 5. JMaart1730. Nihil actum est.Lunae den 6. Maart 1730.</span> <span style=\"color:rgb(253,191,111)\">PRAESIDE, Den Heere</span> <span style=\"color:rgb(51,160,44)\">Quint</span> .  <span style=\"color:rgb(227,26,28)\">PRAESENTIBUS</span> , De Heeren van Lynden, van H'elderen, Umbgroeven ,  <span style=\"color:rgb(251,154,153)\">met drie extraordinaris Gedeputeerden uyt de Provincie van Gelderlandt</span> .  <span style=\"color:rgb(178,223,138)\">Van Wassenaer</span> , van Blocklandt ,  <span style=\"color:rgb(178,223,138)\">Bors</span>  van Waveren.  <span style=\"color:rgb(178,223,138)\">Van Borsselen</span> ,  <span style=\"color:rgb(178,223,138)\">Bout</span> , Noey, van Hoorn.  <span style=\"color:rgb(178,223,138)\">Van Glinstra</span> .  <span style=\"color:rgb(178,223,138)\">Van Rechteren</span> , van Haarsolte, van Isselmuden.  <span style=\"color:rgb(178,223,138)\">Van Tamminga</span> .<br><hr><br>\n",
       "<h4>session-1730-03-07-num-1</h4>\n",
       "<span style=\"color:rgb(31,120,180)\">Martis den 7. Maart1730</span> <span style=\"color:rgb(253,191,111)\">PRAESIDE, Den Heere</span> <span style=\"color:rgb(51,160,44)\">Quint</span> .  <span style=\"color:rgb(227,26,28)\">PRAESENTIBPBUS</span> ,, De Heeren van Lynden , van Welderen, Umbgroeven,  <span style=\"color:rgb(251,154,153)\">met twee extraordinaris Gedeputeerden uyt de Provincie van Gelderlandt</span> .  <span style=\"color:rgb(178,223,138)\">Van Wassenaer</span> , van Blocklandt,  <span style=\"color:rgb(178,223,138)\">Bors</span>  van Waveren, vanee  <span style=\"color:rgb(178,223,138)\">Poll</span> .  <span style=\"color:rgb(178,223,138)\">Van Borsselen</span> , Noey, van Hoorn.  <span style=\"color:rgb(178,223,138)\">Van Glinstra</span> .  <span style=\"color:rgb(178,223,138)\">Van Haarsolte</span> , van liselmuden.  <span style=\"color:rgb(178,223,138)\">Van Tamminga</span> .DE Resosutren guteren, genomen, <br><hr><br>\n",
       "<h4>session-1730-03-09-num-1</h4>\n",
       "<span style=\"color:rgb(31,120,180)\">Mercurii den 8, Maart1730. Zynde Danck- Vast- en Bededagh. Nihil actum est.Jovis den 9. Maart1730.</span> <span style=\"color:rgb(253,191,111)\">PRAESIDE, Den Heere</span> <span style=\"color:rgb(51,160,44)\">Quint</span> .  <span style=\"color:rgb(227,26,28)\">PRAESENTIBUS</span> , De Heeren van Lynden, van Welderen, Umbgroeven,  <span style=\"color:rgb(251,154,153)\">met twee extraordinaris Gedeputeerden uyt de Provincie van Gelderlandt</span> .  <span style=\"color:rgb(178,223,138)\">Van Wassenaer</span> , van Blocklandt,  <span style=\"color:rgb(178,223,138)\">Bors</span>  van H'averen.  <span style=\"color:rgb(178,223,138)\">Van Borsselen</span> ,  <span style=\"color:rgb(178,223,138)\">Bout</span> , van Hoorn.  <span style=\"color:rgb(178,223,138)\">Van Glinstra</span> . Van Haarsolie, van lsselmuden.  <span style=\"color:rgb(178,223,138)\">Van Tamminga</span> .<br><hr><br>\n",
       "<h4>session-1730-03-10-num-1</h4>\n",
       "<span style=\"color:rgb(31,120,180)\">Veneris den 10. Maart1730.</span> <span style=\"color:rgb(253,191,111)\">PRAESIDE, Den Heere</span> <span style=\"color:rgb(51,160,44)\">Quint</span> .  <span style=\"color:rgb(227,26,28)\">PRAESENTIBUS</span> , De Heeren van Lynden, Umbgroeven,  <span style=\"color:rgb(251,154,153)\">met twee extraordinaris Gedeputeerden uyt de Provincie van Gelderlandt</span> .  <span style=\"color:rgb(178,223,138)\">Van Wassenaer</span> , van Blocklandt , vander  <span style=\"color:rgb(178,223,138)\">Dussen</span> ,  <span style=\"color:rgb(178,223,138)\">Bors</span>  van Waveren.  <span style=\"color:rgb(178,223,138)\">Van Borsselen</span> , Noey, van Hoorn.  <span style=\"color:rgb(178,223,138)\">Van Glinstra</span> ,  <span style=\"color:rgb(251,154,153)\">met een extraordinaris Gedeputeerde uyt de Provincie van Vrieslandt</span> .  <span style=\"color:rgb(178,223,138)\">Van Rechteren</span> , van Haarsolte, van lsselmuden.  <span style=\"color:rgb(178,223,138)\">Van Tamminga</span> .DE Resolutien, giteren genomen, <br><hr><br>\n",
       "<h4>session-1730-03-11-num-1</h4>\n",
       "<span style=\"color:rgb(31,120,180)\">Sabbathi den 11. Maart1730.</span> <span style=\"color:rgb(253,191,111)\">PRAESIDE, Den Heere</span> <span style=\"color:rgb(51,160,44)\">Quint</span> .  <span style=\"color:rgb(227,26,28)\">PRAZESENTIBUS</span> ,, De Heeren van Lynden , Umbgroeven,  <span style=\"color:rgb(251,154,153)\">met twee extraordinaris Gedeputeerden uyt de Provincie van Gelderlandt</span> .  <span style=\"color:rgb(178,223,138)\">Van Wassenaer</span> ,  <span style=\"color:rgb(178,223,138)\">Bors</span>  van Waveren, van Cattenburgh.  <span style=\"color:rgb(178,223,138)\">Van Borsselen</span> ,  <span style=\"color:rgb(178,223,138)\">Bout</span> , Nvey, van Hoorn.  <span style=\"color:rgb(178,223,138)\">Van Glinstra</span> .  <span style=\"color:rgb(178,223,138)\">Van Rechteren</span> , van Haarsolte, van Isselmuden.  <span style=\"color:rgb(178,223,138)\">Van Tamminga</span> .DE Resorutien, gisteren genomen, <br><hr><br>\n",
       "<h4>session-1730-03-13-num-1</h4>\n",
       "<span style=\"color:rgb(31,120,180)\">Dominica den 12. Maart1730. MNibil actum est. Lunse den 13. Maart1730.</span> <span style=\"color:rgb(253,191,111)\">PRAESIDE, Den Heere</span> <span style=\"color:rgb(51,160,44)\">van Glinstra</span> .  <span style=\"color:rgb(227,26,28)\">PRAESENTIBUS</span> , De Heeren van Lynden, Umbgroeven,  <span style=\"color:rgb(251,154,153)\">met een extraordinaris Gedeputeerde uyt de Frovincie van Gelderlandt</span> .  <span style=\"color:rgb(178,223,138)\">Van Wassenaer</span> , van Cattenburgh.  <span style=\"color:rgb(178,223,138)\">Van Borsselen</span> ,  <span style=\"color:rgb(178,223,138)\">Bout</span> , van Hoorn,  <span style=\"color:rgb(251,154,153)\">met een extraordinaris Gedeputeerde uyt de Provincie van Zeelandt</span> .  <span style=\"color:rgb(251,154,153)\">Een extraordinaris Gedeputeerde uyt de Prowincie van Vrieslandt</span> .  <span style=\"color:rgb(178,223,138)\">Van Rechteren</span> , van Haarsolte, van Isselmuden.  <span style=\"color:rgb(178,223,138)\">Van Tamminga</span> .<br><hr><br>\n",
       "<h4>session-1730-03-14-num-1</h4>\n",
       "<span style=\"color:rgb(31,120,180)\">Martis den 14, Maart1730.</span> <span style=\"color:rgb(253,191,111)\">PRAESIDE, Den Heere</span> <span style=\"color:rgb(51,160,44)\">van Glinstra</span> .  <span style=\"color:rgb(227,26,28)\">PRAZESENTIBUS</span> , De Heeren van Lynden, Umbgroeven,  <span style=\"color:rgb(251,154,153)\">met een extraordinaris Gedeputeerde uyt de Provincie van Gelderlandt</span> .  <span style=\"color:rgb(178,223,138)\">Van Wassenaer</span> , van Cattenburgh, VeckhoVan  <span style=\"color:rgb(178,223,138)\">Borselen</span> ,  <span style=\"color:rgb(178,223,138)\">Bout</span> , Noey, van Hoorn,  <span style=\"color:rgb(251,154,153)\">met een extraordinaris Gedeputeerde uyt de Provincie van Zeelandt</span> .  <span style=\"color:rgb(178,223,138)\">Ouint</span> .  <span style=\"color:rgb(178,223,138)\">Van Rechteren</span>  , van Haarsolte, van Isselmuden.  <span style=\"color:rgb(178,223,138)\">Van Tamminga</span> . DE Resviutien gisteren, genomen, <br><hr><br>\n",
       "<h4>session-1730-03-15-num-1</h4>\n",
       "<span style=\"color:rgb(31,120,180)\">Mercurii den 15, Maart1730.</span> <span style=\"color:rgb(253,191,111)\">PRAESIDE, Den Heere</span> <span style=\"color:rgb(51,160,44)\">van Glinstra</span> .  <span style=\"color:rgb(227,26,28)\">PRAESENTIBUOS</span> , De Heeren van Lynden, Umbgroeven ,  <span style=\"color:rgb(251,154,153)\">met een extraordinaris Gedeputeerde uyt de Provineie van Gelder landt</span> .  <span style=\"color:rgb(178,223,138)\">Van Wassenaer</span> , van Blocklandt, van Cattenburgh, l'eckhoven.  <span style=\"color:rgb(178,223,138)\">Van Borsselen</span> , Noey, van Hoorn,  <span style=\"color:rgb(251,154,153)\">met een extraordinaris Gedeputeerde uyt de Provincie van Zeelandt</span> .  <span style=\"color:rgb(178,223,138)\">Quint</span> ,  <span style=\"color:rgb(251,154,153)\">met een extraordinaris Gedeputeerde uyt de Provincie van Utrecht</span> .  <span style=\"color:rgb(178,223,138)\">Wan Rechteren</span> , van lsselmuden.  <span style=\"color:rgb(178,223,138)\">Van Tamminga</span> .DE Resosutien , gisteren genomen, <br><hr><br>\n",
       "<h4>session-1730-03-16-num-1</h4>\n",
       "<span style=\"color:rgb(31,120,180)\">Jovis den 16, Maart1730.</span> <span style=\"color:rgb(253,191,111)\">PRAESIDE, Den Heere</span> <span style=\"color:rgb(51,160,44)\">van Glinstra</span> .  <span style=\"color:rgb(227,26,28)\">PRAESENTIBUS</span> , De Heeren van Lynden, Umbgroeven, van Holthen,  <span style=\"color:rgb(251,154,153)\">met twee extraordinaris Gedeputeerden uyt de Provincie van Gelderlandt</span> .  <span style=\"color:rgb(178,223,138)\">Van Wassenaer</span> , van Blocklandt.  <span style=\"color:rgb(178,223,138)\">Van Borsselen</span> ,  <span style=\"color:rgb(178,223,138)\">Bout</span> , Noey, van Hoorn.  <span style=\"color:rgb(178,223,138)\">Quint</span> .  <span style=\"color:rgb(178,223,138)\">Van Rechteren</span> , van lsselmuden.  <span style=\"color:rgb(178,223,138)\">Van Tamminga</span> .DE Resorutien, gisteren genomen, <br><hr><br>\n",
       "<h4>session-1730-03-17-num-1</h4>\n",
       "<span style=\"color:rgb(31,120,180)\">Veneris den 17. Maart1730.</span> <span style=\"color:rgb(253,191,111)\">PRAESIDEF, Den Heere</span> <span style=\"color:rgb(51,160,44)\">van Glinstra</span> .  <span style=\"color:rgb(227,26,28)\">PRAESENTIBUS</span> , De Heeren van Lynden , Umbgroeven , van Holten,  <span style=\"color:rgb(251,154,153)\">met een extraordinaris Gedeputeerde uyt de Provincie van Gelderlandt</span> .  <span style=\"color:rgb(178,223,138)\">Van Yassenaer</span>  , van Blocklandt, van Cattenburgh,  <span style=\"color:rgb(178,223,138)\">Veckhoven</span> .  <span style=\"color:rgb(178,223,138)\">Van Citters</span> , van Borsselen, de  <span style=\"color:rgb(178,223,138)\">Jonge</span> ,  <span style=\"color:rgb(178,223,138)\">Hurgronje</span>  ,  <span style=\"color:rgb(178,223,138)\">Bout</span>  , Noey, van Hoorn,  <span style=\"color:rgb(178,223,138)\">Verelst</span> . Taats van Amerongen,  <span style=\"color:rgb(178,223,138)\">Quint</span> .  <span style=\"color:rgb(178,223,138)\">Van ls'elmuden</span> .  <span style=\"color:rgb(178,223,138)\">Van Tamminga</span> .<br><hr><br>\n",
       "<h4>session-1730-03-18-num-1</h4>\n",
       "<span style=\"color:rgb(31,120,180)\">Sabbathi den 18. Maart1730.</span> <span style=\"color:rgb(253,191,111)\">PRAESIDE, Den Heere</span> <span style=\"color:rgb(51,160,44)\">Van Glinstra</span> .  <span style=\"color:rgb(227,26,28)\">PRAESENTIBUS</span> , De Heeren van Lynden , Umbgroeven, van Holthen ,  <span style=\"color:rgb(251,154,153)\">met twee extraordinaris Gedeputeerden uyt de Provincie van Gelderlandt</span> .  <span style=\"color:rgb(178,223,138)\">Van Wassenaer</span> , van Blocklandt, van Cattenburgh.  <span style=\"color:rgb(178,223,138)\">Van Citters</span> , van Borsselen, dé  <span style=\"color:rgb(178,223,138)\">Jonge</span> , Hurgrogne,  <span style=\"color:rgb(178,223,138)\">Bout</span> , Ney, van Hoorn,  <span style=\"color:rgb(178,223,138)\">Verelst</span> . Taars van Amerongen,  <span style=\"color:rgb(178,223,138)\">Quint</span> .  <span style=\"color:rgb(178,223,138)\">Van Rechteren</span> , van lsselmuden.  <span style=\"color:rgb(178,223,138)\">Van Tamminga</span> .DE RNesoluten, gisteren genomen, <br><hr><br>\n",
       "<h4>session-1730-03-20-num-1</h4>\n",
       "<span style=\"color:rgb(31,120,180)\">Dominica den 19. Maart1730. Nihil actum est. Lune den 20. Maart1730.</span> <span style=\"color:rgb(253,191,111)\">PRAESIDE, Den Heere</span> <span style=\"color:rgb(51,160,44)\">van Rechteren</span> .  <span style=\"color:rgb(227,26,28)\">PRAZSENTIBUS</span> , De Heeren van Lynden, van Welderen, Umbgroeven, van Holthen,  <span style=\"color:rgb(251,154,153)\">met twee extraordinaris Gedeputeerden uyt de Provincie wan Gelderlandt</span> .  <span style=\"color:rgb(178,223,138)\">Van Wassenaer</span> , van Blocklandt, van Cattenburgh,  <span style=\"color:rgb(178,223,138)\">Veckhoven</span> . Van Citiers, van Borsselen, de  <span style=\"color:rgb(178,223,138)\">Jonge</span> , Haurgrogne,  <span style=\"color:rgb(178,223,138)\">Bout</span>  , Noey,  <span style=\"color:rgb(178,223,138)\">vun Hoorn</span> ,  <span style=\"color:rgb(178,223,138)\">Verelst</span> . JZaats van Amerongen,  <span style=\"color:rgb(178,223,138)\">Quint</span> .  <span style=\"color:rgb(178,223,138)\">Van Glinstra</span> .  <span style=\"color:rgb(178,223,138)\">Van lsselmuden</span> .  <span style=\"color:rgb(178,223,138)\">Van Tamminga</span> .<br><hr><br>\n",
       "<h4>session-1730-03-21-num-1</h4>\n",
       "<span style=\"color:rgb(31,120,180)\">Martis den 21. Maart1730.</span> <span style=\"color:rgb(253,191,111)\">PRAESIDE, Den Heere</span> <span style=\"color:rgb(51,160,44)\">van Rechteren</span> .  <span style=\"color:rgb(227,26,28)\">PRAESENTIBUS</span> , De Heeren van Lynden, van Welderen, Umbgroeven, van Holthen ,  <span style=\"color:rgb(251,154,153)\">met twee extraordinaris Gedeputcerden uyt de Pruvincie van Gelderlandt</span> .  <span style=\"color:rgb(178,223,138)\">Van Wassenaer</span> , van Blocklandt, vande  <span style=\"color:rgb(178,223,138)\">Poll</span>  , van Cattenburgh,  <span style=\"color:rgb(178,223,138)\">Veckhoven</span> .  <span style=\"color:rgb(178,223,138)\">Van Citters</span> ,  <span style=\"color:rgb(178,223,138)\">wan Borselen</span>  , de  <span style=\"color:rgb(178,223,138)\">Jonge</span> , Hurgrogne,  <span style=\"color:rgb(178,223,138)\">Bout</span>  , Noey, van Hoorn,  <span style=\"color:rgb(178,223,138)\">Verelst</span> . Taats  <span style=\"color:rgb(178,223,138)\">vau Amerongen</span> ,  <span style=\"color:rgb(178,223,138)\">Quint</span> .  <span style=\"color:rgb(178,223,138)\">Van Glinstra</span> .  <span style=\"color:rgb(178,223,138)\">Van Tamminga</span> .<br><hr><br>\n",
       "<h4>session-1730-03-22-num-1</h4>\n",
       "<span style=\"color:rgb(31,120,180)\">Mercurii den 22, Maart1730.</span> <span style=\"color:rgb(253,191,111)\">DRAESIDE, Den Heere</span> <span style=\"color:rgb(51,160,44)\">van Rechteren</span> .  <span style=\"color:rgb(227,26,28)\">PRAESENTIBUS</span> , De Heeren van Lynden, van Welderen,  <span style=\"color:rgb(178,223,138)\">Torck</span> , Umbgroeven, van Holten,  <span style=\"color:rgb(251,154,153)\">met drie extraordinaris Gedeputeerden uyt de Provincie van Gelderlandt</span> .  <span style=\"color:rgb(178,223,138)\">Van Hassenaer</span> , van Blocklandt, vanden Boru, vander  <span style=\"color:rgb(178,223,138)\">Dussen</span> , van Cattenburgh.  <span style=\"color:rgb(178,223,138)\">Van Citters</span> , van Borsselen, de  <span style=\"color:rgb(178,223,138)\">Jonge</span> , Hurgrogne,  <span style=\"color:rgb(178,223,138)\">Bout</span> , Noey, van Hoorn,  <span style=\"color:rgb(178,223,138)\">Verelst</span> . Taats van Amerongen,  <span style=\"color:rgb(178,223,138)\">Quint</span> .  <span style=\"color:rgb(178,223,138)\">Van Glinstra</span> .  <span style=\"color:rgb(178,223,138)\">Van Tamminga</span> .DE Resolutien, gitteren gencmen, <br><hr><br>\n",
       "<h4>session-1730-03-23-num-1</h4>\n",
       "<span style=\"color:rgb(31,120,180)\">Jovis den 23, Maart1730.</span> <span style=\"color:rgb(253,191,111)\">PRAESIDE,Den Heere</span> <span style=\"color:rgb(51,160,44)\">van Rechteren</span> .  <span style=\"color:rgb(227,26,28)\">PRAEZSEBDNTIBUS</span> , De Heeren van Lynden, van Welderen,  <span style=\"color:rgb(178,223,138)\">Torck</span> , Umbgroeven,  <span style=\"color:rgb(251,154,153)\">met twee extraordinaris Gedeputeerden uyt de Provincie van Gelderlandt</span> .  <span style=\"color:rgb(178,223,138)\">Van Blocklandt</span> , vanden  <span style=\"color:rgb(178,223,138)\">Born</span>  , van Cattenburgh.  <span style=\"color:rgb(178,223,138)\">Van Citters</span> , van Borsselen, de  <span style=\"color:rgb(178,223,138)\">Jonge</span> , Hurzgrogne,  <span style=\"color:rgb(178,223,138)\">Bout</span> , Noey, van Hoorn ,  <span style=\"color:rgb(178,223,138)\">Verelst</span> . Taats van Amerongen,  <span style=\"color:rgb(178,223,138)\">Quint</span> .  <span style=\"color:rgb(178,223,138)\">Van Glinstra</span> , Banga.  <span style=\"color:rgb(178,223,138)\">Van Tamminga</span> .DE Resosutien, guteren genomen, <br><hr><br>\n",
       "<h4>session-1730-03-24-num-1</h4>\n",
       "<span style=\"color:rgb(31,120,180)\">Veneris den 24. Maart 1730.</span> <span style=\"color:rgb(253,191,111)\">PRAESIDE, Den Heere</span> <span style=\"color:rgb(51,160,44)\">van Rechteren</span> .  <span style=\"color:rgb(227,26,28)\">PRAESENTIEUS</span> , De Heeren van Lynden, van Welderen,  <span style=\"color:rgb(178,223,138)\">Torck</span> , Umbgroeven, van Holthen,  <span style=\"color:rgb(251,154,153)\">met twee extraordinuris Gedeputeerden uyt de Provincie van Gelderlandt</span> .  <span style=\"color:rgb(178,223,138)\">Van Blocklandt</span> , vanden  <span style=\"color:rgb(178,223,138)\">Born</span> ,  <span style=\"color:rgb(178,223,138)\">Bors</span>  van Waveren, van Cattenburgh.  <span style=\"color:rgb(178,223,138)\">Van Citters</span> , van Borsselen, de  <span style=\"color:rgb(178,223,138)\">Jonge</span> ,  <span style=\"color:rgb(178,223,138)\">Hurgronje</span>  ,  <span style=\"color:rgb(178,223,138)\">Bout</span>  , Noey, van Hoorn,  <span style=\"color:rgb(178,223,138)\">Verelst</span> . Taats van Amerongen,  <span style=\"color:rgb(178,223,138)\">Quint</span> . Banga.  <span style=\"color:rgb(178,223,138)\">Van Tamminga</span> .DE Resolttien, gisteren genomen, <br><hr><br>\n",
       "<h4>session-1730-03-25-num-1</h4>\n",
       "<span style=\"color:rgb(31,120,180)\">Sabbathi den 25. Maart1730</span> <span style=\"color:rgb(253,191,111)\">PRAESIDE, Den Heere</span> <span style=\"color:rgb(51,160,44)\">vun Rechteren</span> .  <span style=\"color:rgb(227,26,28)\">PRAESENTIEUS</span> , De Heeren van Lynden,  <span style=\"color:rgb(178,223,138)\">Torck</span> , Umbgroeven, van Holthen ,  <span style=\"color:rgb(251,154,153)\">met twee extraordinaris Gedeputeerden uyt de Provincie van Gelderlandt</span> .  <span style=\"color:rgb(178,223,138)\">Van Blocklandt</span> , vanden  <span style=\"color:rgb(178,223,138)\">Born</span> ,  <span style=\"color:rgb(178,223,138)\">Bors</span>  van Waveren, van Cattenburgh.  <span style=\"color:rgb(178,223,138)\">Van Citters</span> , van Borsselen,  <span style=\"color:rgb(178,223,138)\">Bout</span> , Nvey, van Hoorn,  <span style=\"color:rgb(178,223,138)\">Verelst</span> . JZaats van Amerongen,  <span style=\"color:rgb(178,223,138)\">Quint</span> . Banga.  <span style=\"color:rgb(178,223,138)\">Van Tamminga</span> .DE RNesolsutien, gisteren genomen, <br><hr><br>\n",
       "<h4>session-1730-03-27-num-1</h4>\n",
       "<span style=\"color:rgb(31,120,180)\">Dominica den 26, Maart1730. Nihil actum est.Luna den 27. Maart1730.</span> <span style=\"color:rgb(253,191,111)\">PRAESIDE, Den Heere</span> <span style=\"color:rgb(51,160,44)\">van Tamminga</span> .  <span style=\"color:rgb(227,26,28)\">PRAESENTIBUS</span> , De Heeren van Lynden, van Welderen,  <span style=\"color:rgb(178,223,138)\">Torck</span> , Umbgroeven, van Holthen ,  <span style=\"color:rgb(251,154,153)\">met twee extraordinaris Gedeputeerden uyt de Provincie van Gelderlandt</span> .  <span style=\"color:rgb(178,223,138)\">Van Wassenaer</span> , van Blocklandt, vanden  <span style=\"color:rgb(178,223,138)\">Born</span> ,  <span style=\"color:rgb(178,223,138)\">Bors</span>  van Waveren , vande  <span style=\"color:rgb(178,223,138)\">Poll</span> , van Cattenburgh.  <span style=\"color:rgb(178,223,138)\">Van Citters</span> , van Borsselen , de  <span style=\"color:rgb(178,223,138)\">Jonge</span> , Hurgrogne,  <span style=\"color:rgb(178,223,138)\">Bout</span> , Noey ,  <span style=\"color:rgb(178,223,138)\">vun Hoorn</span> ,  <span style=\"color:rgb(178,223,138)\">Verelst</span> . Taats van Amerongen,  <span style=\"color:rgb(178,223,138)\">Quint</span> . Vander Waayen , Banga.  <span style=\"color:rgb(178,223,138)\">Van Rechteren</span> .<br><hr><br>\n",
       "<h4>session-1730-03-28-num-1</h4>\n",
       "<span style=\"color:rgb(31,120,180)\">Martis den 28. Maarr1730.</span> <span style=\"color:rgb(253,191,111)\">PRAESIDE, Den Heere</span> <span style=\"color:rgb(51,160,44)\">van Tamminga</span> .  <span style=\"color:rgb(227,26,28)\">PRAESENTIBUS</span> ,; De Heeren van Lynden , van Welderen,  <span style=\"color:rgb(178,223,138)\">Torck</span> , Umbgroeven,  <span style=\"color:rgb(251,154,153)\">met drie extraordinaris Gedeputeerden uyt de Provincie van Gelderlandt</span> .  <span style=\"color:rgb(178,223,138)\">Van Blocklandt</span> , vanden  <span style=\"color:rgb(178,223,138)\">Born</span> , vander  <span style=\"color:rgb(178,223,138)\">Dussen</span> ,  <span style=\"color:rgb(178,223,138)\">Bors</span>  van Waveren, van Cattenburgh.  <span style=\"color:rgb(178,223,138)\">Van Citters</span> ,  <span style=\"color:rgb(178,223,138)\">wan Borsselen</span>  , de  <span style=\"color:rgb(178,223,138)\">Jonge</span> , Hurgrogne,  <span style=\"color:rgb(178,223,138)\">Bout</span>  , Noey, van Hoorn,  <span style=\"color:rgb(178,223,138)\">Verelst</span> . Taats  <span style=\"color:rgb(178,223,138)\">vau Amerongen</span> ,  <span style=\"color:rgb(178,223,138)\">&uint</span> . Vander Waayen, Banga.  <span style=\"color:rgb(178,223,138)\">Van Rechteren</span> . DE Resolutren pisteren, genomen, <br><hr><br>\n",
       "<h4>session-1730-03-29-num-1</h4>\n",
       "<span style=\"color:rgb(31,120,180)\">Mercurii den 29, Maart1730.</span> <span style=\"color:rgb(253,191,111)\">PRAESIDE, Den Heere</span> <span style=\"color:rgb(51,160,44)\">van Tamminga</span> .  <span style=\"color:rgb(227,26,28)\">PRAESENTIBUS</span> , De Heeren van Lynden,  <span style=\"color:rgb(178,223,138)\">Jorck</span> , Umbgroeven, van Holthen,  <span style=\"color:rgb(251,154,153)\">met twee extraordinaris Gedeputeerden uyt de Provincie van Gelderlandt</span> .  <span style=\"color:rgb(178,223,138)\">Van Blocklandt</span> , vanden  <span style=\"color:rgb(178,223,138)\">Born</span>  , vander  <span style=\"color:rgb(178,223,138)\">Dussen</span> ,  <span style=\"color:rgb(178,223,138)\">Bors</span>  van Waveren , van Cattenburgh,  <span style=\"color:rgb(178,223,138)\">Veckhoven</span> .  <span style=\"color:rgb(178,223,138)\">Van Citters</span> , van Borsselen, de  <span style=\"color:rgb(178,223,138)\">Jonge</span> , Hurgrogne,  <span style=\"color:rgb(178,223,138)\">Bout</span> , Noey, van Hoorn,  <span style=\"color:rgb(178,223,138)\">Verelst</span> . Zaats van Amerongen,  <span style=\"color:rgb(178,223,138)\">Quint</span> . Vander Waayen, Banga.  <span style=\"color:rgb(178,223,138)\">Van Rechteren</span> .DE RNesolutien, giteren genomen, <br><hr><br>\n",
       "<h4>session-1730-03-30-num-1</h4>\n",
       "<span style=\"color:rgb(31,120,180)\">Jovis den 30. Maart1730.</span> <span style=\"color:rgb(253,191,111)\">PRAESIDE, Den Heere</span> <span style=\"color:rgb(51,160,44)\">van Tamminga</span> .  <span style=\"color:rgb(227,26,28)\">PRAESENTIBUS</span> , De Heeren van Lynden , van Welderen ,  <span style=\"color:rgb(178,223,138)\">Torck</span> , Umbgroeven, van Holthen,  <span style=\"color:rgb(251,154,153)\">met een extraordinaris Gedeputeerde uyt de Provincie van Gelderlandt</span> .  <span style=\"color:rgb(178,223,138)\">Van Blocklandt</span> , vanden  <span style=\"color:rgb(178,223,138)\">Born</span>  ,  <span style=\"color:rgb(178,223,138)\">Bors</span>  van Waveren, van Cattenburgh.  <span style=\"color:rgb(178,223,138)\">Van Citters</span> , van Borsselen, de  <span style=\"color:rgb(178,223,138)\">Jonge</span> ,  <span style=\"color:rgb(178,223,138)\">Bout</span> , Neey, Hurgrogne, van Hoorn,  <span style=\"color:rgb(178,223,138)\">Verelst</span> . Taats van Amerongen, Quiut. Vander Waayen, Banga.  <span style=\"color:rgb(178,223,138)\">Van Rechteren</span> . DE Reisorutien, gisteren genomen, <br><hr><br>\n",
       "<h4>session-1730-03-31-num-1</h4>\n",
       "<span style=\"color:rgb(31,120,180)\">Veneris den 31. Maart1730.</span> <span style=\"color:rgb(253,191,111)\">PRAESIDE, Den Heere</span> <span style=\"color:rgb(51,160,44)\">van Tamminga</span> .  <span style=\"color:rgb(227,26,28)\">PRAASENTIBUS</span> , De Heeren van Lynden, van Welderen,  <span style=\"color:rgb(178,223,138)\">Torck</span> , Umbgroeven, van Holthen,  <span style=\"color:rgb(251,154,153)\">met drie extraordinaris Gedeputeerden uyt de Provincie van Gelderlandt</span> .  <span style=\"color:rgb(178,223,138)\">Van Wassenaar</span> , van Blocklandt, vanden  <span style=\"color:rgb(178,223,138)\">Born</span> , vander  <span style=\"color:rgb(178,223,138)\">Dussen</span> ,  <span style=\"color:rgb(178,223,138)\">Bors</span>  van Waveren, vande  <span style=\"color:rgb(178,223,138)\">Poll</span> , van Cattenburgh,  <span style=\"color:rgb(178,223,138)\">Veckhoven</span> .  <span style=\"color:rgb(178,223,138)\">Van Borsselen</span> , Nosy. Taats van Amerongen,  <span style=\"color:rgb(178,223,138)\">Quint</span> . Vunder Waayen, Banga.  <span style=\"color:rgb(178,223,138)\">Van Rechteren</span> .<br><hr><br>\n",
       "<h4>session-1730-04-01-num-1</h4>\n",
       "<span style=\"color:rgb(31,120,180)\">Sabbathi den 1. Aprill1730.</span> <span style=\"color:rgb(253,191,111)\">PRAESIDE, Den Heere</span> <span style=\"color:rgb(51,160,44)\">van Zamminga</span> .  <span style=\"color:rgb(227,26,28)\">PRAESENTIBUS</span> , De Heeren van Lynden,  <span style=\"color:rgb(178,223,138)\">Torck</span> , Umbgroeven, van Holthen ,  <span style=\"color:rgb(251,154,153)\">met twee extraordinaris Gedeputeerden uyt de Provincie van Gelderlandt</span> .  <span style=\"color:rgb(178,223,138)\">Van Wassenaer</span> , van Blocklandt, vanden  <span style=\"color:rgb(178,223,138)\">Born</span> ,  <span style=\"color:rgb(178,223,138)\">Bors</span>  van Waveren, van Cattenburgh. Neey, van Hoorn. JZaars van Amerongen,  <span style=\"color:rgb(178,223,138)\">Quint</span> . Vander Waayen, Banga.  <span style=\"color:rgb(178,223,138)\">Van Rechteren</span> .DE Resorutien , gnteren genomen, <br><hr><br>\n",
       "<h4>session-1730-04-03-num-1</h4>\n",
       "<span style=\"color:rgb(31,120,180)\">Dominica den 2. April 1730. Nibil actum est.Luna den 3. Apral1730.</span> <span style=\"color:rgb(253,191,111)\">PRAESIDE, Den Heere</span> <span style=\"color:rgb(51,160,44)\">van Lynden</span> <span style=\"color:rgb(227,26,28)\">PRAESENTIBUS</span> , De Heeren  <span style=\"color:rgb(178,223,138)\">Torck</span> , Umbgroeven, van Holthen,  <span style=\"color:rgb(251,154,153)\">met twee extraordinaris Gedeputeerden uyt de Provincie van Gelderlandt</span> .  <span style=\"color:rgb(178,223,138)\">Van Blocklandt</span> , vanden  <span style=\"color:rgb(178,223,138)\">Born</span> ,  <span style=\"color:rgb(178,223,138)\">Bors</span>  van Waveren, vande  <span style=\"color:rgb(178,223,138)\">Poll</span> .  <span style=\"color:rgb(178,223,138)\">Van Borsselen</span> ,  <span style=\"color:rgb(178,223,138)\">Bout</span> , Noey, van Hoorn. Taats van Amerongen,  <span style=\"color:rgb(178,223,138)\">Quint</span> . Banga.  <span style=\"color:rgb(178,223,138)\">Van Rechteren</span> , van lsselmuden.  <span style=\"color:rgb(178,223,138)\">Van Tamminga</span> . <br><hr><br>\n",
       "<h4>session-1730-04-04-num-1</h4>\n",
       "<span style=\"color:rgb(31,120,180)\">1730.</span> <span style=\"color:rgb(253,191,111)\">PRAESIDE, Den Heere</span> <span style=\"color:rgb(51,160,44)\">van Lynden</span> .  <span style=\"color:rgb(227,26,28)\">PRAESENTIBUS</span> , De Heeren  <span style=\"color:rgb(178,223,138)\">Jorck</span> , Umbgroeven, van Holthen,  <span style=\"color:rgb(251,154,153)\">met twee extraordinaris Gedeputeerden uyt de Provincie van Gelderlandt</span> .  <span style=\"color:rgb(178,223,138)\">Van Wassenaer</span> , van Blocklandt, vanden  <span style=\"color:rgb(178,223,138)\">Born</span> ,  <span style=\"color:rgb(178,223,138)\">Bors</span>  van Waveren, van Cattenburgh,  <span style=\"color:rgb(178,223,138)\">Veckhoven</span> .  <span style=\"color:rgb(178,223,138)\">Van Borselen</span> ,  <span style=\"color:rgb(178,223,138)\">Bout</span> , Noey, van Hoorn. Zaats  <span style=\"color:rgb(178,223,138)\">vau Amerongen</span> ,  <span style=\"color:rgb(178,223,138)\">Quint</span> . Banga.  <span style=\"color:rgb(178,223,138)\">Van Rechteren</span> , van lsselmuden.  <span style=\"color:rgb(178,223,138)\">Van Zamminga</span> .D.V Resoiutrien giteren, 2en0men, <br><hr><br>\n",
       "<h4>session-1730-04-05-num-1</h4>\n",
       "<span style=\"color:rgb(31,120,180)\">Mercurii den 5. April1730.</span> <span style=\"color:rgb(253,191,111)\">PRAESIDE, Den Heere</span> <span style=\"color:rgb(51,160,44)\">van Lynden</span> .  <span style=\"color:rgb(227,26,28)\">PRAAESENTIBUS</span> , De Heeren  <span style=\"color:rgb(178,223,138)\">Jorck</span> , Umbgroeven, van Holthen,  <span style=\"color:rgb(251,154,153)\">met twee extraordinaris Gedeputeerden uyt de Provincie van Gelderlandt</span> .  <span style=\"color:rgb(178,223,138)\">Van Blocklandt</span>  , wanden  <span style=\"color:rgb(178,223,138)\">Born</span> ,  <span style=\"color:rgb(178,223,138)\">Bors</span>  van Waveren , van Cattenburgh.  <span style=\"color:rgb(178,223,138)\">Van Borsselen</span> , van Hoorn. Taats van Amerongen,  <span style=\"color:rgb(178,223,138)\">Quint</span> . Banga.  <span style=\"color:rgb(178,223,138)\">Van Rechteren</span> , van lsselmuden,  <span style=\"color:rgb(178,223,138)\">Van Tamminga</span> .DE Resosutien, gitteren genomen, <br><hr><br>\n",
       "<h4>session-1730-04-06-num-1</h4>\n",
       "<span style=\"color:rgb(31,120,180)\">Jovis den 6. April1730.</span> <span style=\"color:rgb(253,191,111)\">PRAESIDE, Den Heere</span> <span style=\"color:rgb(51,160,44)\">van Lynden</span> .  <span style=\"color:rgb(227,26,28)\">PRAESENTIBUS</span> , De Heeren  <span style=\"color:rgb(178,223,138)\">Zorck</span> , Umbgroeven, van Holthen,  <span style=\"color:rgb(251,154,153)\">met twee extraordinaris Gedeputeerden uyt de Provincie van Gelderlandt</span> .  <span style=\"color:rgb(178,223,138)\">Van Blocklandt</span> , vanden  <span style=\"color:rgb(178,223,138)\">Born</span>  ,  <span style=\"color:rgb(178,223,138)\">Bors</span>  vanWaveren.  <span style=\"color:rgb(178,223,138)\">Van Borsselen</span> , Noey, van Hoorn. Jaats van Amerongen,  <span style=\"color:rgb(178,223,138)\">Quint</span> . Banga.  <span style=\"color:rgb(178,223,138)\">Van Rechteren</span> , van lselmuden.  <span style=\"color:rgb(178,223,138)\">Van Tamminga</span> . <br><hr><br>\n",
       "<h4>session-1730-04-07-num-1</h4>\n",
       "<span style=\"color:rgb(166,206,227)\"></span> Veneris den 7. April1730. PRAESIDE, Den Hecre van LyndenPRAESENTIBUS,De Heeren Torck, Umbgroeven,  <span style=\"color:rgb(31,120,180)\">met twee extraordinaris Gedeputeerden uyt de Provincie van Gelderlandt</span> <span style=\"color:rgb(31,120,180)\">met twee extraordinaris Gedeputeerden uyt de Provincie van Gelderlandt</span> .  <span style=\"color:rgb(178,223,138)\">Van Blocklandt</span> , vanden  <span style=\"color:rgb(178,223,138)\">Born</span> ,  <span style=\"color:rgb(178,223,138)\">Bors</span>  van BWaveren, vande  <span style=\"color:rgb(178,223,138)\">Poll</span> , van Catienburgh,  <span style=\"color:rgb(178,223,138)\">Veckhoven</span> .  <span style=\"color:rgb(178,223,138)\">Van Borsselen</span> ,  <span style=\"color:rgb(178,223,138)\">Bout</span> ,  <span style=\"color:rgb(178,223,138)\">vau Hoorn</span> . Jaats van Amerongen,  <span style=\"color:rgb(178,223,138)\">Quint</span> . Banga.  <span style=\"color:rgb(178,223,138)\">Van Rechteren</span> , van lsselmuden.<br><hr><br>\n",
       "<h4>session-1730-04-08-num-1</h4>\n",
       "<span style=\"color:rgb(31,120,180)\">Sabbathi den 8. April1730</span> <span style=\"color:rgb(253,191,111)\">PRUESIDE, Den Heere</span> <span style=\"color:rgb(51,160,44)\">van Lynden</span> .  <span style=\"color:rgb(227,26,28)\">PRAESENTIBUS</span> , De Heeren Zorce, Umbgroeven,  <span style=\"color:rgb(251,154,153)\">met een extraordinaris Gedeputeerde uyt de Provin'cie van Gelderlandt</span> .  <span style=\"color:rgb(178,223,138)\">Van Blocklandt</span> , vanden  <span style=\"color:rgb(178,223,138)\">Born</span> ,  <span style=\"color:rgb(178,223,138)\">Bors</span>  van Waveren, van Catienburgh,  <span style=\"color:rgb(178,223,138)\">Veckhoven</span> .  <span style=\"color:rgb(178,223,138)\">Van Borsselen</span> , Buut, van Hoorn. Taars van Amerongen,  <span style=\"color:rgb(178,223,138)\">Quint</span> . Banga.  <span style=\"color:rgb(178,223,138)\">Van Rechteren</span> , van lselmuden.DE RNesoluten, gisteren genomen, <br><hr><br>\n",
       "<h4>session-1730-04-11-num-1</h4>\n",
       "<span style=\"color:rgb(31,120,180)\">Dominica den 9. April1730. NMibil actum est.Luna den 10. April1730. Zynde tweede Paasdagh. Nihil actum est. Martis den 11. Shprit 1730.</span> <span style=\"color:rgb(253,191,111)\">PRAESIDE, Den Heere</span> <span style=\"color:rgb(51,160,44)\">van Blocklandt</span> .  <span style=\"color:rgb(227,26,28)\">PRAESENTIBUS</span> , De Heeren van Lynden , van Welderen ,  <span style=\"color:rgb(178,223,138)\">Torck</span> , Umbgroeven,  <span style=\"color:rgb(251,154,153)\">met een extraordinaris Gedeputeerde uyt de Provincie van Gelderlandt</span> . Vanden  <span style=\"color:rgb(178,223,138)\">Born</span> ,  <span style=\"color:rgb(178,223,138)\">Bors</span>  van Waveren , van Cattenburgh.  <span style=\"color:rgb(178,223,138)\">Van Borsselen</span> ,  <span style=\"color:rgb(178,223,138)\">Bout</span> ,  <span style=\"color:rgb(178,223,138)\">vun Hoorn</span> . Zaats van Amerongen,  <span style=\"color:rgb(178,223,138)\">Quint</span> . Banga.  <span style=\"color:rgb(178,223,138)\">Van Rechteren</span> , van Isselmuden.<br><hr><br>\n",
       "<h4>session-1730-04-12-num-1</h4>\n",
       "<span style=\"color:rgb(31,120,180)\">1730.</span> <span style=\"color:rgb(253,191,111)\">PRAEIDE, Den Heere</span> <span style=\"color:rgb(51,160,44)\">van Blocklandt</span> .  <span style=\"color:rgb(227,26,28)\">PRAAESENTIBUS</span> , De Heeren van Welderon ,  <span style=\"color:rgb(178,223,138)\">Torck</span> ,  <span style=\"color:rgb(251,154,153)\">met een extraordinaris Gedeputeerde uyt de Provincie van Gelderlandt</span> .  <span style=\"color:rgb(178,223,138)\">Bors</span>  van Waveren.  <span style=\"color:rgb(178,223,138)\">Van Borsselen</span> ,  <span style=\"color:rgb(178,223,138)\">Bout</span> . ZTaats van Amerongen,  <span style=\"color:rgb(178,223,138)\">Quint</span> . Banga.  <span style=\"color:rgb(178,223,138)\">Van Rechteren</span> , van Jlsselmuden.DE Resolutie, gisteren gendmen, <br><hr><br>\n",
       "<h4>session-1730-04-13-num-1</h4>\n",
       "<span style=\"color:rgb(31,120,180)\">Jovis den 13. April1730.</span> <span style=\"color:rgb(253,191,111)\">PRAESIDE, Den Heere</span> <span style=\"color:rgb(51,160,44)\">van Blocklandt</span> .  <span style=\"color:rgb(227,26,28)\">PRAESENTIBUS</span> , De Heeren van Lynden , van Welderen,  <span style=\"color:rgb(178,223,138)\">Torck</span> ,  <span style=\"color:rgb(251,154,153)\">met een extraordinaris Gedeputeerde uyt de Provincie van Gelderlandt</span> . Vanden  <span style=\"color:rgb(178,223,138)\">Born</span> ,  <span style=\"color:rgb(178,223,138)\">Bors</span>  van Waveren, vande  <span style=\"color:rgb(178,223,138)\">Poll</span>  , van Cattenburgh.  <span style=\"color:rgb(178,223,138)\">Van Hoorn</span> . Taats van Amerongen,  <span style=\"color:rgb(178,223,138)\">Quint</span> . Banga.  <span style=\"color:rgb(178,223,138)\">Van Rechteren</span> , van lsselmuden.  <span style=\"color:rgb(178,223,138)\">Van Tamminga</span> .DE Resorutien, gisteren genomen, <br><hr><br>\n",
       "<h4>session-1730-04-14-num-1</h4>\n",
       "<span style=\"color:rgb(31,120,180)\">Veneris den 14. sprit1730.</span> <span style=\"color:rgb(253,191,111)\">PRAES POE, Den Heere</span> <span style=\"color:rgb(51,160,44)\">van Blocklandt</span> .  <span style=\"color:rgb(227,26,28)\">PRAESENDWIBUS</span>  De Heeren van Lynden , van Welderen,  <span style=\"color:rgb(178,223,138)\">Torck</span> ,  <span style=\"color:rgb(251,154,153)\">met een extraordinaris Gedeputeerde uyt de Provincie van Gelderlandt</span> . Vanden  <span style=\"color:rgb(178,223,138)\">Born</span>  , vander  <span style=\"color:rgb(178,223,138)\">Dussen</span> ,  <span style=\"color:rgb(178,223,138)\">Bors</span>  van Weaveren, van Gattenburgh.  <span style=\"color:rgb(178,223,138)\">Van Borsselen</span> , Boat,  <span style=\"color:rgb(178,223,138)\">vau Hoorn</span> . Jaats van Amerongen,  <span style=\"color:rgb(178,223,138)\">Quint</span> . Banga.  <span style=\"color:rgb(178,223,138)\">Van Rechteren</span> , van Jsselmuden.  <span style=\"color:rgb(178,223,138)\">Van Tamminga</span> .DE Resorutien, gisteren genomen, <br><hr><br>\n",
       "<h4>session-1730-04-15-num-1</h4>\n",
       "<span style=\"color:rgb(31,120,180)\">Sabbatbi den 15. Aprid1730.</span> <span style=\"color:rgb(253,191,111)\">PRAESIDE, Den Heere</span> <span style=\"color:rgb(51,160,44)\">vanden Born</span> .  <span style=\"color:rgb(227,26,28)\">PRAESENTIBUS</span> , De Heeren van Lynden,  <span style=\"color:rgb(178,223,138)\">Jorck</span> ,  <span style=\"color:rgb(251,154,153)\">met een extraordinaris Gedeputeerde uyt de Provincie van Gelderlandt</span> .  <span style=\"color:rgb(178,223,138)\">Bors</span>  van Waveren.  <span style=\"color:rgb(178,223,138)\">Van Borsselen</span> , Buut, Noey, van Hoorn, JTaars van Amerongen,  <span style=\"color:rgb(178,223,138)\">Quint</span> . Banga.  <span style=\"color:rgb(178,223,138)\">Van Rechteren</span> , van lsselmuden.  <span style=\"color:rgb(178,223,138)\">Van Tamminga</span> .DE Resosutien, gisteren genomen, <br><hr><br>\n",
       "<h4>session-1730-04-17-num-1</h4>\n",
       "<span style=\"color:rgb(251,154,153)\"></span> Lunae den 017. Apral1730PRAZEESZSIDIY Den Heere van  <span style=\"color:rgb(31,120,180)\">Bors</span> selen.  <span style=\"color:rgb(51,160,44)\">PRAESENTIBUS</span> , De Heeren  <span style=\"color:rgb(178,223,138)\">een extraordinaris Gedeputeerde uyt de Provincie van Gelderlandt</span> .  <span style=\"color:rgb(31,120,180)\">Van Blocklandi</span> , vanden  <span style=\"color:rgb(31,120,180)\">Born</span> , Bors van Waveren, vande  <span style=\"color:rgb(31,120,180)\">Poll</span> , van Cattenburgh, de Raadt.  <span style=\"color:rgb(31,120,180)\">Bout</span>  ,  <span style=\"color:rgb(31,120,180)\">vun Hoorn</span> . Taats van Amerongen,  <span style=\"color:rgb(31,120,180)\">Quint</span> . Banga.  <span style=\"color:rgb(31,120,180)\">Van Rechteren</span> , van Isselmuden, Jen  <span style=\"color:rgb(31,120,180)\">Brinck</span> . Ven Tamminga. DAE mesrolutien cergitergn ge<br><hr><br>\n",
       "<h4>session-1730-04-18-num-1</h4>\n",
       "<span style=\"color:rgb(31,120,180)\">Martis den 18. pril1730.</span> <span style=\"color:rgb(227,26,28)\">PRAESIDE, Den Heere</span>  an  <span style=\"color:rgb(178,223,138)\">Bors</span> selen.  <span style=\"color:rgb(251,154,153)\">PRAESENTIBUS</span> , De Heeren  <span style=\"color:rgb(51,160,44)\">een extraordinaris Gedeputeerde uyt de Pruvincie van Gelderlandt</span> . Vanden  <span style=\"color:rgb(178,223,138)\">Born</span>  , Bors van Waveren, van Cattenburgh, de Raadt.  <span style=\"color:rgb(178,223,138)\">Bout</span> , Noey, van Hoorn. JTaats van Amerongen ,  <span style=\"color:rgb(178,223,138)\">Quint</span> . Banga.  <span style=\"color:rgb(178,223,138)\">Van Rechteren</span> , van lIlsselmuden , Jen  <span style=\"color:rgb(178,223,138)\">Brincke</span> . P'aan  <span style=\"color:rgb(178,223,138)\">Tamminga</span> .<br><hr><br>\n",
       "<h4>session-1730-04-19-num-1</h4>\n",
       "<span style=\"color:rgb(31,120,180)\">Mercurai den 19, Aprik1730.</span> <span style=\"color:rgb(227,26,28)\">PRAESIDE,, Den Heere</span>  van  <span style=\"color:rgb(178,223,138)\">Bors</span> selen.  <span style=\"color:rgb(251,154,153)\">PRAESENTIBUS</span> , De Heeren  <span style=\"color:rgb(51,160,44)\">een extraordinaris Gedeputeerde uyt de Provincie van Gelderlandt</span> . Vanden  <span style=\"color:rgb(178,223,138)\">Born</span> , Bors van Waveren, van Cattenburgh, de Raadt.  <span style=\"color:rgb(178,223,138)\">Bout</span> , van Hoorn. Taats van Amerongen,  <span style=\"color:rgb(178,223,138)\">Quint</span> . Banga.  <span style=\"color:rgb(178,223,138)\">Van Rechteren</span> , van Iliselmuden , Zen  <span style=\"color:rgb(178,223,138)\">Brinck</span> .  <span style=\"color:rgb(178,223,138)\">Van Tamminga</span> .DE Resolutien, gisteren gencmen, <br><hr><br>\n",
       "<h4>session-1730-04-20-num-1</h4>\n",
       "<span style=\"color:rgb(31,120,180)\">Jovis den 20. April1730.</span> <span style=\"color:rgb(227,26,28)\">PRAESIDE, Den Heere</span>  van  <span style=\"color:rgb(178,223,138)\">Bors</span> selen.  <span style=\"color:rgb(251,154,153)\">PRAESENTIRUS</span> , De Heeren  <span style=\"color:rgb(178,223,138)\">Essenius</span> ,  <span style=\"color:rgb(51,160,44)\">met een extraordinaris Gedeputeerde uyt de Provincie van Gelderlandt</span> .  <span style=\"color:rgb(178,223,138)\">Van Blocklandt</span> , vanden  <span style=\"color:rgb(178,223,138)\">Born</span> , Bors van Waveren, van Cattenburgh.  <span style=\"color:rgb(178,223,138)\">Bout</span> , Noey, van Hoorn. JTaats van Amerongen,  <span style=\"color:rgb(178,223,138)\">Quint</span> . Vander Waayen, Banga.  <span style=\"color:rgb(178,223,138)\">Van Rechieren</span>  , van lsselmuden, Ten  <span style=\"color:rgb(178,223,138)\">Brinck</span> .  <span style=\"color:rgb(178,223,138)\">Van Tamminga</span> .DE Resorsutien, gisteren genomen, <br><hr><br>\n",
       "<h4>session-1730-04-21-num-1</h4>\n",
       "<span style=\"color:rgb(31,120,180)\">Veneris den 21. Aprit1730.</span> <span style=\"color:rgb(227,26,28)\">PRAESIDEF, Den Heere</span>  van  <span style=\"color:rgb(178,223,138)\">Bors</span> selen.  <span style=\"color:rgb(251,154,153)\">PRAESENTIBUS</span> , De Heeren  <span style=\"color:rgb(178,223,138)\">Essenius</span> ,  <span style=\"color:rgb(51,160,44)\">met een extraordinuris Gedeputeerde uyt de Provincie van Gelderlandt</span> .  <span style=\"color:rgb(178,223,138)\">Van Blocklandt</span> , vanden  <span style=\"color:rgb(178,223,138)\">Born</span> , Bors van Waveren, van Cattenburgh.  <span style=\"color:rgb(178,223,138)\">Bout</span> , Noey,  <span style=\"color:rgb(178,223,138)\">vau Hoorn</span> . ZTaats van Amerongen,  <span style=\"color:rgb(178,223,138)\">Quint</span> . Vander Waayen, Banga.  <span style=\"color:rgb(178,223,138)\">Van Rechteren</span>  , van Is'elmuden , JenBrinck.  <span style=\"color:rgb(178,223,138)\">Van Tamminga</span> .<br><hr><br>\n",
       "<h4>session-1730-04-24-num-1</h4>\n",
       "<span style=\"color:rgb(31,120,180)\">Dominica den 23. April1730. Nibil actum est.Lune den 24. Aprat1730.</span> <span style=\"color:rgb(253,191,111)\">PRAESIDE, Den Heere</span> <span style=\"color:rgb(51,160,44)\">Zaatrs van Amerongen</span> .  <span style=\"color:rgb(227,26,28)\">PRAESENTIBUS</span> , De Heeren Eseniut, du Try,  <span style=\"color:rgb(178,223,138)\">Torck</span> ,  <span style=\"color:rgb(251,154,153)\">met een extraorainaris Gedeputeerde uyt de Provincie van Gelderlandt</span> .  <span style=\"color:rgb(178,223,138)\">Van Blocklandt</span> , vanden  <span style=\"color:rgb(178,223,138)\">Born</span> ,  <span style=\"color:rgb(178,223,138)\">Bors</span>  van Waveren, vande  <span style=\"color:rgb(178,223,138)\">Poll</span> , van Cattenburgh, de Raadt.  <span style=\"color:rgb(178,223,138)\">Bout</span> , Noey, van Hoorn.  <span style=\"color:rgb(178,223,138)\">Van Renswoude</span> ,  <span style=\"color:rgb(178,223,138)\">Quint</span> . Vander H'aayen, Banga.  <span style=\"color:rgb(178,223,138)\">Van Rechteren</span> , van lIselmuden, Jen  <span style=\"color:rgb(178,223,138)\">Brinck</span> .  <span style=\"color:rgb(178,223,138)\">Van Tamminga</span> .<br><hr><br>\n",
       "<h4>session-1730-04-25-num-1</h4>\n",
       "<span style=\"color:rgb(31,120,180)\">1730.</span> <span style=\"color:rgb(253,191,111)\">PRAESIDE,Den Heere</span> <span style=\"color:rgb(51,160,44)\">Zaats van Amerongen</span> .  <span style=\"color:rgb(227,26,28)\">PRAESENTIBUS</span> , De Heeren  <span style=\"color:rgb(178,223,138)\">Essenius</span> , Du Try,  <span style=\"color:rgb(178,223,138)\">Torck</span> ,  <span style=\"color:rgb(251,154,153)\">met een extraordinaris Gedeputeerde uyt de Provincie van Gelderlandt</span> .  <span style=\"color:rgb(178,223,138)\">Van Blocklandt</span> , vanden  <span style=\"color:rgb(178,223,138)\">Born</span>  ,  <span style=\"color:rgb(178,223,138)\">Bors</span>  van Waveren, de Raadt. Noey, van Hoorn.  <span style=\"color:rgb(178,223,138)\">Van Renswoude</span>  ,  <span style=\"color:rgb(178,223,138)\">Suint</span> . Vander Waayen, Banga.  <span style=\"color:rgb(178,223,138)\">Van Rechteren</span> ,  <span style=\"color:rgb(178,223,138)\">wan lss'elmuden</span>  , JenBrinck.  <span style=\"color:rgb(178,223,138)\">Van Tamminga</span> .<br><hr><br>\n",
       "<h4>session-1730-04-26-num-1</h4>\n",
       "<span style=\"color:rgb(178,223,138)\"></span> <span style=\"color:rgb(227,26,28)\"></span> Mercurii den 26. April 1730. PRAAEISIDDE, Den Heere Zaats van Amerongen.  <span style=\"color:rgb(251,154,153)\">PRAESENTIBUS</span> , De Heeren  <span style=\"color:rgb(31,120,180)\">Essenius</span> , Du Try,  <span style=\"color:rgb(51,160,44)\">met een extraordinaris Gedeputeerde uyt de Provincie van Gelderlandt</span> .  <span style=\"color:rgb(31,120,180)\">Van Blocklandt</span> ,  <span style=\"color:rgb(31,120,180)\">Bors</span>  van Waveren, van Cattenburgh. Noey.  <span style=\"color:rgb(31,120,180)\">Van Renswoude</span> ,  <span style=\"color:rgb(31,120,180)\">Quint</span> . Vander Weaayen.  <span style=\"color:rgb(31,120,180)\">Van lsselmuden</span> , Ten  <span style=\"color:rgb(31,120,180)\">Brinck</span> .  <span style=\"color:rgb(31,120,180)\">Van Tamminga</span> .DEE Resorutien , gisteren genamen, <br><hr><br>\n",
       "<h4>session-1730-04-27-num-1</h4>\n",
       "<span style=\"color:rgb(31,120,180)\">Jovis den 27. Apra1730.</span> <span style=\"color:rgb(253,191,111)\">FRAESIDE, Den Heere</span> <span style=\"color:rgb(51,160,44)\">Jaats van Amerongen</span> .  <span style=\"color:rgb(227,26,28)\">PRAESENTIBOUOS</span> , De Heeren  <span style=\"color:rgb(178,223,138)\">Essentus</span> , du Try,  <span style=\"color:rgb(178,223,138)\">Torck</span> ,  <span style=\"color:rgb(251,154,153)\">met een extraordinaris Gedeputeerde uyt de Provincie van Gelderlandt</span> .  <span style=\"color:rgb(178,223,138)\">Van Wassenaer</span> , van Blocklandt, vanden  <span style=\"color:rgb(178,223,138)\">Born</span> ,  <span style=\"color:rgb(178,223,138)\">Bors</span>  van Waveren, de Raadt.  <span style=\"color:rgb(178,223,138)\">Van Hoorn</span> .  <span style=\"color:rgb(178,223,138)\">Van Renswoude</span>  ,  <span style=\"color:rgb(178,223,138)\">Quint</span> . Vander Wiaayen.  <span style=\"color:rgb(178,223,138)\">Van Rechieren</span>  , van lsselmuden, JenBrinck.  <span style=\"color:rgb(178,223,138)\">Van Tamminga</span> .DEE Resorutien, gisteren genomen, <br><hr><br>\n",
       "<h4>session-1730-04-28-num-1</h4>\n",
       "<span style=\"color:rgb(31,120,180)\">Veeneris den 28. April1730.</span> <span style=\"color:rgb(253,191,111)\">PRAESIDE, Den Heere</span> <span style=\"color:rgb(51,160,44)\">Zaats van Amerongen</span> .  <span style=\"color:rgb(227,26,28)\">PRAESENTIPUS</span> . De Heeren  <span style=\"color:rgb(178,223,138)\">Bssenius</span> , Du Try,  <span style=\"color:rgb(178,223,138)\">Torck</span> ,  <span style=\"color:rgb(251,154,153)\">met een extraordinaris Gedeputeerde uyt de Provincie van Gelderlandt</span> .  <span style=\"color:rgb(178,223,138)\">Van Wassenaer</span> , van Blocklandt, vanden  <span style=\"color:rgb(178,223,138)\">Born</span>  ,  <span style=\"color:rgb(178,223,138)\">Bors</span>  van Waveren, van Cattenburgh , de Raadt ,  <span style=\"color:rgb(178,223,138)\">Veckhoven</span> ,  <span style=\"color:rgb(178,223,138)\">Jongemaat</span> , Raadtpensionaris van Slingelandt. Noey,  <span style=\"color:rgb(178,223,138)\">vau Hoorn</span> .  <span style=\"color:rgb(178,223,138)\">Van Renswoude</span> ,  <span style=\"color:rgb(178,223,138)\">Quint</span> . Vander Wiaayen.  <span style=\"color:rgb(178,223,138)\">Van Rechteren</span> , van Iisselmuden , Ten  <span style=\"color:rgb(178,223,138)\">Brinck</span> .  <span style=\"color:rgb(178,223,138)\">Van Tamminga</span> .<br><hr><br>\n",
       "<h4>session-1730-04-29-num-1</h4>\n",
       "<span style=\"color:rgb(31,120,180)\">Sabbath den 29, Aprië1730.</span> <span style=\"color:rgb(253,191,111)\">PRAAAESVDE Den Heere</span> <span style=\"color:rgb(51,160,44)\">Zaars van HAmerongen</span> .  <span style=\"color:rgb(227,26,28)\">PRAESENYTIPBIT</span> , De Heeren Eyenius, Du Try,  <span style=\"color:rgb(178,223,138)\">Zorck</span> ,  <span style=\"color:rgb(251,154,153)\">met een extraordinaris Gedeputeerde uyt de Prowincie van Gelderlandt</span> .  <span style=\"color:rgb(178,223,138)\">Van H'assenaer</span> , van Blocklandt, vanden  <span style=\"color:rgb(178,223,138)\">Born</span> ,  <span style=\"color:rgb(178,223,138)\">Bors</span>  van Waveren, de Raads ,  <span style=\"color:rgb(178,223,138)\">Jongemaats</span> . Noey.  <span style=\"color:rgb(178,223,138)\">Van Renswoude</span> ,  <span style=\"color:rgb(178,223,138)\">Quint</span> .  <span style=\"color:rgb(178,223,138)\">Van Rechteren</span> , van Isselmuden , Jen  <span style=\"color:rgb(178,223,138)\">Brinck</span> .  <span style=\"color:rgb(178,223,138)\">Van Jamminga</span> .DE Resolutien , gisteren genomen, <br><hr><br>\n",
       "<h4>session-1730-05-01-num-1</h4>\n",
       "<br><hr><br>\n",
       "<h4>session-1730-05-02-num-1</h4>\n",
       "<span style=\"color:rgb(31,120,180)\">Martis den 2. Mey1730.</span> <span style=\"color:rgb(253,191,111)\">PRAESIDE, Den Heere</span> <span style=\"color:rgb(51,160,44)\">de Kempenaar</span> .  <span style=\"color:rgb(227,26,28)\">PRAESENTIBUS</span> , De Heeren van Lynden , van Welderen ,  <span style=\"color:rgb(178,223,138)\">Essenius</span> ,  <span style=\"color:rgb(178,223,138)\">Torck</span>  ,  <span style=\"color:rgb(251,154,153)\">met een extraordinaris Gedeputeerde uyt de Provincie van Gelderlandt</span> .  <span style=\"color:rgb(178,223,138)\">Van Wassenaer</span> , le Leu de Wilbem , vander  <span style=\"color:rgb(178,223,138)\">Marck</span> , vunder  <span style=\"color:rgb(178,223,138)\">Ramhorst</span> , Raadtpensionaris van Slingelandt.  <span style=\"color:rgb(178,223,138)\">Van Boorn</span> . Jaats van Amerongen, van Renswoude ,  <span style=\"color:rgb(178,223,138)\">Becker</span> .  <span style=\"color:rgb(178,223,138)\">Van Rechteren</span> , van Ilsselmuden , Jen  <span style=\"color:rgb(178,223,138)\">Brinck</span> .  <span style=\"color:rgb(178,223,138)\">Van Berghuys</span> , van Tamminga.DE Resolutien gisteren, genomen, <br><hr><br>\n",
       "<h4>session-1730-05-03-num-1</h4>\n",
       "<span style=\"color:rgb(251,154,153)\"></span> <span style=\"color:rgb(51,160,44)\"></span> Mercuri desa 3. Mey5239. PRAo9in DIE, Den Heere de KempendarPRAESEXNTIBUS, De Heeren van Lynden , Bssenius, Torck,  <span style=\"color:rgb(178,223,138)\">met twee extraordinaris Gedeputeerden uyt de Provincie van Gelderlandt</span> .  <span style=\"color:rgb(31,120,180)\">Van HWiassenaer</span> , se Leu de Wilbem, vander  <span style=\"color:rgb(31,120,180)\">Marck</span> , vander  <span style=\"color:rgb(31,120,180)\">Ramhorst</span> , Raadtpensionaris van Slingelandt. Noey, Zaats van Amerongen, van Renswoude,  <span style=\"color:rgb(31,120,180)\">Becker</span> .  <span style=\"color:rgb(31,120,180)\">Van Rechteren</span>  , Ten  <span style=\"color:rgb(31,120,180)\">Brinck</span> .  <span style=\"color:rgb(31,120,180)\">Van Berghuys</span> , van Jamminga. DE Resoslutien, gitteren genomen, <br><hr><br>\n",
       "<h4>session-1730-05-04-num-1</h4>\n",
       "<span style=\"color:rgb(31,120,180)\">Jovis den 4. Mey1730.</span> <span style=\"color:rgb(253,191,111)\">PRAESIDE, Den Heere</span> <span style=\"color:rgb(51,160,44)\">de Kempenaar</span> .  <span style=\"color:rgb(227,26,28)\">PRAESENTIBUS</span> , De Heeren van Lynden, van Welderen,  <span style=\"color:rgb(178,223,138)\">Essenius</span> ,  <span style=\"color:rgb(178,223,138)\">Torck</span> ,  <span style=\"color:rgb(251,154,153)\">met een extraordinaris Gedeputeerde uyt de Provincie van Gelderlandt</span> .  <span style=\"color:rgb(178,223,138)\">Van Wassenaer</span> , le Leu de  <span style=\"color:rgb(178,223,138)\">Wilhem</span> , vander  <span style=\"color:rgb(178,223,138)\">Marck</span> , vander  <span style=\"color:rgb(178,223,138)\">Ramhorst</span> , Raadtpensionaris van Slingelandt. Noey, van Hoorn. Zaats van Amerongen, van Renswoude ,  <span style=\"color:rgb(178,223,138)\">Becker</span> .  <span style=\"color:rgb(251,154,153)\">Een extraordinaris Gedeputeerde uyt de Provincie van Vrieslandt</span> . Ten  <span style=\"color:rgb(178,223,138)\">Brinck</span> .  <span style=\"color:rgb(178,223,138)\">Van Berghuys</span> , van Tamminga.DE Resorutien, gisteren genomen, <br><hr><br>\n",
       "<h4>session-1730-05-05-num-1</h4>\n",
       "<span style=\"color:rgb(31,120,180)\">Veneris den 5. Mey1730. Pp</span> <span style=\"color:rgb(253,191,111)\">RAESIDE, Den Heere</span> <span style=\"color:rgb(51,160,44)\">de Kempenaar</span> .  <span style=\"color:rgb(227,26,28)\">PRAESENTIBUS</span> , De Heeren van Lynden, van Welderen,  <span style=\"color:rgb(178,223,138)\">Essenius</span> ,  <span style=\"color:rgb(251,154,153)\">met twee extraordinuris Gedeputeerden uyt de Provincie van Gelderlandt</span> .  <span style=\"color:rgb(178,223,138)\">Van Wassenaer</span> , vander  <span style=\"color:rgb(178,223,138)\">Marck</span> , vande  <span style=\"color:rgb(178,223,138)\">Poll</span> , vander  <span style=\"color:rgb(178,223,138)\">Ramborst</span> , Raadtpensionaris van Slingelandt. Noey,  <span style=\"color:rgb(178,223,138)\">vau Hoorn</span> . Jaats van Amerongen, van Renswoude,  <span style=\"color:rgb(178,223,138)\">Becker</span> .  <span style=\"color:rgb(178,223,138)\">Van Rechteren</span> , Ten  <span style=\"color:rgb(178,223,138)\">Brinck</span> .  <span style=\"color:rgb(178,223,138)\">Van Berghuys</span> , van Tamminga.DE Resoisutien, gisteren genomen, <br><hr><br>\n",
       "<h4>session-1730-05-06-num-1</h4>\n",
       "<span style=\"color:rgb(31,120,180)\">Sabbath den 6. Mey1730.</span> <span style=\"color:rgb(253,191,111)\">PRAESIDE, Den Heere</span> <span style=\"color:rgb(51,160,44)\">de Kempenaar</span> .  <span style=\"color:rgb(227,26,28)\">PRAEZSENTIBUS</span> , De Heeren van Lynden, van Welderen,  <span style=\"color:rgb(178,223,138)\">Essenius</span> ,  <span style=\"color:rgb(251,154,153)\">met een extraordinaris Gedeputeerde uyt de Provincie van Gelderlandt</span> .  <span style=\"color:rgb(178,223,138)\">Van Wassenaer</span> , vander  <span style=\"color:rgb(178,223,138)\">Ramhorst</span> .  <span style=\"color:rgb(178,223,138)\">Van Borsselen</span> , van Hoorn.  <span style=\"color:rgb(178,223,138)\">Van Renswoude</span> ,  <span style=\"color:rgb(178,223,138)\">Becker</span> .  <span style=\"color:rgb(178,223,138)\">Van Rechteren</span> , Ten  <span style=\"color:rgb(178,223,138)\">Brinck</span> .  <span style=\"color:rgb(178,223,138)\">Van Berghuys</span> , van Tamminga.DE RNesorutien, gisteren genomen, <br><hr><br>\n",
       "<h4>session-1730-05-08-num-1</h4>\n",
       "<span style=\"color:rgb(31,120,180)\">Dominica den 7. Mey1730. Nibil actum est. Luna den 8. Mey1730.</span> <span style=\"color:rgb(253,191,111)\">PRAESIDE, Den Heere</span> <span style=\"color:rgb(51,160,44)\">van Rechteren</span> .  <span style=\"color:rgb(227,26,28)\">PRAESENTIEBEUS</span> , De Heeren van Lynden, van Welderen ,  <span style=\"color:rgb(178,223,138)\">Essenius</span> ,  <span style=\"color:rgb(251,154,153)\">met twee extraordinaris Gedeputeerden uyt de Provincie van Gelderlandt</span> . Vander  <span style=\"color:rgb(178,223,138)\">Merck</span> , vande  <span style=\"color:rgb(178,223,138)\">Poll</span> , vander  <span style=\"color:rgb(178,223,138)\">Ramborst</span> .  <span style=\"color:rgb(178,223,138)\">Van Citters</span> , van Borsselen, de  <span style=\"color:rgb(178,223,138)\">Jongh</span> ,  <span style=\"color:rgb(178,223,138)\">Bout</span> , Noey, Hurgrogne, van Hoorn,  <span style=\"color:rgb(178,223,138)\">Verelst</span> .  <span style=\"color:rgb(178,223,138)\">Van Renswoude</span> . De  <span style=\"color:rgb(178,223,138)\">Kempenaar</span> . Ten  <span style=\"color:rgb(178,223,138)\">Brinck</span> .  <span style=\"color:rgb(178,223,138)\">Van Berchuys</span> , van Tamminga.<br><hr><br>\n",
       "<h4>session-1730-05-09-num-1</h4>\n",
       "<span style=\"color:rgb(31,120,180)\">Martis den 9. Mey1730.</span> <span style=\"color:rgb(253,191,111)\">PRAZSIDE, Den Heere</span> <span style=\"color:rgb(51,160,44)\">van Rechteren</span> .  <span style=\"color:rgb(227,26,28)\">PRAESENTIBUS</span> , De Heeren van Lynden, van Welderen,  <span style=\"color:rgb(178,223,138)\">Essenius</span> , Du Try, met vier  <span style=\"color:rgb(251,154,153)\">extraordinaris Gedeputeerden uyt de Pruvincie van Gelderlandt</span> . Vanden Boetzelaar , <span style=\"color:rgb(178,223,138)\">Eelbo</span>  , le Leu de  <span style=\"color:rgb(178,223,138)\">Wilhem</span>  , vander  <span style=\"color:rgb(178,223,138)\">Marck</span>  , vander  <span style=\"color:rgb(178,223,138)\">Burgb</span> , van Hurck, Helsingb, vander  <span style=\"color:rgb(178,223,138)\">Ramborst</span> , Raadtpensionaris van Slingelandt.  <span style=\"color:rgb(178,223,138)\">Van Citters</span> , van Borsselen,  <span style=\"color:rgb(178,223,138)\">Bout</span> , Noey, Hurgrogne, van Hoorn,  <span style=\"color:rgb(178,223,138)\">Verelst</span> .  <span style=\"color:rgb(178,223,138)\">Van Renswoude</span> . De  <span style=\"color:rgb(178,223,138)\">Kempenaar</span> , Sloterdyck,  <span style=\"color:rgb(251,154,153)\">met een extraordinaris Gedeputeerde uyt de Provincie wan Vrieslandt</span> . Ten  <span style=\"color:rgb(178,223,138)\">Brinck</span> .  <span style=\"color:rgb(178,223,138)\">Van Berghuys</span> , van Tamminga.<br><hr><br>\n",
       "<h4>session-1730-05-10-num-1</h4>\n",
       "<span style=\"color:rgb(166,206,227)\"></span> <span style=\"color:rgb(51,160,44)\"></span> <span style=\"color:rgb(31,120,180)\"></span> Mercuri: den 10, Mey voorlede Vrydagh genomen, op de Reque<br><hr><br>\n",
       "<h4>session-1730-05-11-num-1</h4>\n",
       "<span style=\"color:rgb(31,120,180)\">Jovis den 11, Mey1730.</span> <span style=\"color:rgb(253,191,111)\">PRAESIDE, Den Heere</span> <span style=\"color:rgb(51,160,44)\">van Rechteren</span> .  <span style=\"color:rgb(227,26,28)\">PRAESENTIBUS</span> , De Heeren van Lynden,  <span style=\"color:rgb(178,223,138)\">Essenius</span> ,  <span style=\"color:rgb(251,154,153)\">met een extraordinaris Gedeputeerde uyt de Provincie van Gelderlandt</span> .  <span style=\"color:rgb(178,223,138)\">Van Wassenaer</span> ,  <span style=\"color:rgb(178,223,138)\">Eelbo</span> , le Leu de  <span style=\"color:rgb(178,223,138)\">Wilhem</span> , wander  <span style=\"color:rgb(178,223,138)\">Marck</span> , vander  <span style=\"color:rgb(178,223,138)\">Ramhorst</span> .  <span style=\"color:rgb(178,223,138)\">Van Borsselen</span> ,  <span style=\"color:rgb(178,223,138)\">Bout</span> , Noey, van Hoorn.  <span style=\"color:rgb(178,223,138)\">Van Renswoude</span> . Vander Waayen , de  <span style=\"color:rgb(178,223,138)\">Kempenaar</span>  , Sloterdyck,  <span style=\"color:rgb(251,154,153)\">met een extraordinaris Gedeputeerde uyt de Provincie van Vrieslandt</span> . Ten  <span style=\"color:rgb(178,223,138)\">Brinck</span> .  <span style=\"color:rgb(178,223,138)\">Van Berghuys</span> .DE Nesofutien, gisteren genomen, <br><hr><br>\n",
       "<h4>session-1730-05-12-num-1</h4>\n",
       "<span style=\"color:rgb(178,223,138)\"></span> <span style=\"color:rgb(227,26,28)\"></span> Veneris den 12. Mey1730. PRAESAID EF, Den Heere van Rechteren.  <span style=\"color:rgb(251,154,153)\">PRAESENITIBUS</span> , De Heeren van Lynden , van Welderen, met vier  <span style=\"color:rgb(51,160,44)\">extruordinaris Gedeputeerden uyt de Provincie van Gelderlandt</span> .  <span style=\"color:rgb(31,120,180)\">Van Wassenaer</span> , le Leu de  <span style=\"color:rgb(31,120,180)\">Wilhem</span> , vaader  <span style=\"color:rgb(31,120,180)\">Dussen</span> , vander  <span style=\"color:rgb(31,120,180)\">Marck</span> , vande  <span style=\"color:rgb(31,120,180)\">Poll</span> , van Hurck , Helsingb , vander  <span style=\"color:rgb(31,120,180)\">Ramhorst</span> .  <span style=\"color:rgb(31,120,180)\">Van Citters</span> , van Borsselen,  <span style=\"color:rgb(31,120,180)\">Bout</span> , Noey, Hurgrogne,  <span style=\"color:rgb(31,120,180)\">vau Hoorn</span> ,  <span style=\"color:rgb(31,120,180)\">Verelst</span> .  <span style=\"color:rgb(31,120,180)\">Van Renswoude</span> . Vander Waayen , de  <span style=\"color:rgb(31,120,180)\">Kempenaar</span> ,  <span style=\"color:rgb(51,160,44)\">met een extraordinaris Gedeputeerde uyt de Provincie van Vrieslandt</span> . Ten  <span style=\"color:rgb(31,120,180)\">Brinck</span> .  <span style=\"color:rgb(31,120,180)\">Van Berghuys</span> .DAY Resorutrien gisteren, Zeno<br><hr><br>\n",
       "<h4>session-1730-05-13-num-1</h4>\n",
       "<span style=\"color:rgb(31,120,180)\">Sabbarthi den 13. Mey1730.</span> <span style=\"color:rgb(253,191,111)\">PRAAESIDE, Den Heere</span> <span style=\"color:rgb(51,160,44)\">van Rechteren</span> .  <span style=\"color:rgb(227,26,28)\">PRAESENTIBUS</span> , De Heeren van Lynden, van lvelderen,  <span style=\"color:rgb(178,223,138)\">Torck</span> ,  <span style=\"color:rgb(251,154,153)\">met drie extraordinaris Gedeputeerden uyt de Provincie van Gelderlandt</span> .  <span style=\"color:rgb(178,223,138)\">Van Wassenaer</span> , le Leu de  <span style=\"color:rgb(178,223,138)\">Wilhem</span> , vander  <span style=\"color:rgb(178,223,138)\">Dussen</span> , vander  <span style=\"color:rgb(178,223,138)\">Marck</span> , vander  <span style=\"color:rgb(178,223,138)\">Ramhorst</span> .  <span style=\"color:rgb(178,223,138)\">Wan Borsselen</span> , van Hoorn.  <span style=\"color:rgb(178,223,138)\">Van Renswoude</span> . Vander Haayen, de  <span style=\"color:rgb(178,223,138)\">Kempenaar</span> , Slorerdyck. Ten  <span style=\"color:rgb(178,223,138)\">Brinck</span> ,  <span style=\"color:rgb(178,223,138)\">Queisen</span> .  <span style=\"color:rgb(178,223,138)\">Van Berghuys</span> .DA Pew  <span style=\"color:rgb(178,223,138)\">luwen</span>  , gineeren geno<br><hr><br>\n",
       "<h4>session-1730-05-15-num-1</h4>\n",
       "<span style=\"color:rgb(31,120,180)\">Dominica den 14. Mey 1730. Nibil actum est.Luna den 15. Mey 1730</span> <span style=\"color:rgb(253,191,111)\">PRAESIDE, Den Heere</span> <span style=\"color:rgb(51,160,44)\">van Berchuys</span> .  <span style=\"color:rgb(227,26,28)\">PRAESENTIBUS</span> , De Heeren van Lynden , van Welderen, van Singendonck,  <span style=\"color:rgb(178,223,138)\">Torck</span> ,  <span style=\"color:rgb(251,154,153)\">met drie extraordinaris Gedeputeerden uyt de Provincie van Gelderlandt</span> .  <span style=\"color:rgb(178,223,138)\">Van Wassenaer</span> , le Leu de  <span style=\"color:rgb(178,223,138)\">Wilhem</span> , vander  <span style=\"color:rgb(178,223,138)\">Burgh</span> , vander  <span style=\"color:rgb(178,223,138)\">Ramhorst</span> , Raadtpensionaris van Slingelandt.  <span style=\"color:rgb(178,223,138)\">Van Citters</span> , van Borsselen, de  <span style=\"color:rgb(178,223,138)\">Jongh</span> ,  <span style=\"color:rgb(178,223,138)\">Bout</span> , Noey, Hurgrogne,  <span style=\"color:rgb(178,223,138)\">wan Horn</span> ,  <span style=\"color:rgb(178,223,138)\">Verelst</span> .  <span style=\"color:rgb(178,223,138)\">Van Renswoude</span> . De  <span style=\"color:rgb(178,223,138)\">Kempenaar</span> , Sloterdyck. Ten  <span style=\"color:rgb(178,223,138)\">Brinck</span> ,  <span style=\"color:rgb(178,223,138)\">JQueisen</span> . <br><hr><br>\n",
       "<h4>session-1730-05-16-num-1</h4>\n",
       "<span style=\"color:rgb(31,120,180)\">1730.</span> <span style=\"color:rgb(253,191,111)\">PRAESIDE, Den Heere</span> <span style=\"color:rgb(51,160,44)\">van Berghuys</span> .  <span style=\"color:rgb(227,26,28)\">PRAESENTIBUS</span> , De Heeren van Lynden, van l'elderen, van Singendonck,  <span style=\"color:rgb(178,223,138)\">Torck</span> , met vier  <span style=\"color:rgb(251,154,153)\">extraordinaris Gedeputeerden uyt de Prowincie van Gelderlandt</span> .  <span style=\"color:rgb(178,223,138)\">Van H'assenaer</span> , le Leu de  <span style=\"color:rgb(178,223,138)\">Wilhem</span> , vander  <span style=\"color:rgb(178,223,138)\">Marck</span> , vander  <span style=\"color:rgb(178,223,138)\">Ramborst</span> .  <span style=\"color:rgb(178,223,138)\">Van Citters</span> , van Borsselen, de  <span style=\"color:rgb(178,223,138)\">Jongh</span> ,  <span style=\"color:rgb(178,223,138)\">Bout</span> , Noey, Hurgrogne, van Hoorn,  <span style=\"color:rgb(178,223,138)\">Van Renswoude</span> . De  <span style=\"color:rgb(178,223,138)\">Kempenaar</span> , SlorerdyckTen  <span style=\"color:rgb(178,223,138)\">Brinck</span> ,  <span style=\"color:rgb(178,223,138)\">SQueisen</span> . DE RNesolutten, gisteren genomen, <br><hr><br>\n",
       "<h4>session-1730-05-17-num-1</h4>\n",
       "<span style=\"color:rgb(31,120,180)\">Mercurii den 17, Mey 1730</span> <span style=\"color:rgb(253,191,111)\">DRAESADE,) Ben Heere</span> <span style=\"color:rgb(51,160,44)\">van Berghuis</span> .  <span style=\"color:rgb(227,26,28)\">PRAESENTIBUS</span> , De Heeren van Lynden, van Welderen, van Singendonck,  <span style=\"color:rgb(178,223,138)\">Jorck</span>  , met vyf  <span style=\"color:rgb(251,154,153)\">extraordinaris Gedeputeerden uyt de Provincie van Gelderlandt</span> .  <span style=\"color:rgb(178,223,138)\">Van Wassenaer</span> , se Leu de  <span style=\"color:rgb(178,223,138)\">Wilhem</span> , vander  <span style=\"color:rgb(178,223,138)\">Warck</span>  , vander  <span style=\"color:rgb(178,223,138)\">Ramhorst</span> . Fam Guiters, van Borsselen , de  <span style=\"color:rgb(178,223,138)\">Jongh</span> ,  <span style=\"color:rgb(178,223,138)\">Bout</span> , Noey, Hurgrogne, van Hoorn,  <span style=\"color:rgb(178,223,138)\">Herelst</span> .  <span style=\"color:rgb(178,223,138)\">Han Renswoude</span> , De  <span style=\"color:rgb(178,223,138)\">Kempenaar</span>  , Sloterdyck ,  <span style=\"color:rgb(251,154,153)\">met een extraordinaris Gedeputeerde uyt de Provincie van Vrieslandt</span> . Ten  <span style=\"color:rgb(178,223,138)\">Brinck</span> .DE Resolutien, gitteren gencmen, <br><hr><br>\n",
       "<h4>session-1730-05-19-num-1</h4>\n",
       "<span style=\"color:rgb(178,223,138)\"></span> <span style=\"color:rgb(227,26,28)\"></span> Jovis den 18. Mey1730. Zynde Hemelvaartsdagh.Nihil actum est. Veneris den 19. Mey1730. DIAERE Essen Di 55) Den Heere van Berghuys.  <span style=\"color:rgb(251,154,153)\">PRAESENTIBUS</span> , De Heeren van Lynden , van Welderen, wan Singendonck ,  <span style=\"color:rgb(31,120,180)\">Torck</span> , met ses  <span style=\"color:rgb(51,160,44)\">extraordinuris Gedeputeerden uyt de Provincie van Gelderlandt</span> . Pan Wiassenaer, le Len de U'ilbem, vander  <span style=\"color:rgb(31,120,180)\">Marck</span> , van Hurck, vander  <span style=\"color:rgb(31,120,180)\">Ramborst</span> .  <span style=\"color:rgb(31,120,180)\">Van Citters</span> , van Borsselen , de  <span style=\"color:rgb(31,120,180)\">Jongh</span> , MNoey, Hurgrogne,  <span style=\"color:rgb(31,120,180)\">vau Hoorn</span> ,  <span style=\"color:rgb(31,120,180)\">Verelst</span> ,  <span style=\"color:rgb(51,160,44)\">met een extraordinaris Gedeputeerde uyt de Provincie van Zeelandt</span> .  <span style=\"color:rgb(31,120,180)\">Van Renswoude</span> . De  <span style=\"color:rgb(31,120,180)\">Kempenaar</span> , Sletoerdyck, met een exHaordinaris Gedeputeerde uyt de Provinscie wan Vrieslandt.  <span style=\"color:rgb(31,120,180)\">Dueisen</span> .  <span style=\"color:rgb(31,120,180)\">Clant</span> .DE Ncesosutien, cergiteren genomen, <br><hr><br>\n",
       "<h4>session-1730-05-20-num-1</h4>\n",
       "<span style=\"color:rgb(31,120,180)\">Sabbathi den 20. Mey 1730</span> <span style=\"color:rgb(253,191,111)\">PRAESIDE, Den Heere</span> <span style=\"color:rgb(51,160,44)\">van Berghuys</span> .  <span style=\"color:rgb(227,26,28)\">PRAESENTIBUS</span> , De Heeren van Lynden, van Welderen, van Singendonck, Rasch,  <span style=\"color:rgb(178,223,138)\">Torck</span> , met ses  <span style=\"color:rgb(251,154,153)\">extraordinaris Gedeputeerden uyt de Provincie van Gelderlandt</span> . Le Leu de  <span style=\"color:rgb(178,223,138)\">Wilhem</span> , vander  <span style=\"color:rgb(178,223,138)\">Marck</span> , vander  <span style=\"color:rgb(178,223,138)\">Ramborst</span> .  <span style=\"color:rgb(178,223,138)\">Van Citters</span> , van Borsselen, de  <span style=\"color:rgb(178,223,138)\">Jongh</span> ,  <span style=\"color:rgb(178,223,138)\">Bout</span> , Noey, Hurgrogne, van Hoorn,  <span style=\"color:rgb(178,223,138)\">Verelst</span> ,  <span style=\"color:rgb(251,154,153)\">met een extraordinaris Gedeputeerde uyt de Pruvintie van Zeelandt</span> .  <span style=\"color:rgb(178,223,138)\">Van Renswoude</span> . Sorerdyck. Dueison.  <span style=\"color:rgb(178,223,138)\">ClantBb</span>  FH Nesolutien , gisteren genomen, <br><hr><br>\n",
       "<h4>session-1730-05-22-num-1</h4>\n",
       "<span style=\"color:rgb(31,120,180)\">Dominica den 21. Mey 1730. MNibil actum est.Luna den. 22. Mey 1720.</span> <span style=\"color:rgb(253,191,111)\">PRAESIDEDen Heere</span> <span style=\"color:rgb(51,160,44)\">van Lynden</span> .  <span style=\"color:rgb(227,26,28)\">PRAESENWIDBDU</span>  8, De Heeren van Welderen, van Singendonck, Rasch,  <span style=\"color:rgb(178,223,138)\">Torck</span> , van Esk tot Norgena,  <span style=\"color:rgb(251,154,153)\">met twee extraordinana Gedepuieerden uyt de Provincie van Gelderlandt</span> . Van Weasscnaer, le Leu de Wilbem, vander  <span style=\"color:rgb(178,223,138)\">Marck</span> , vander  <span style=\"color:rgb(178,223,138)\">Ramborst</span> , Raadtpensionaris van Siingelandt.  <span style=\"color:rgb(178,223,138)\">Van Citters</span> , van Borsselen, de  <span style=\"color:rgb(178,223,138)\">Jongh</span> ,  <span style=\"color:rgb(178,223,138)\">Bout</span> , Noey, Hungrosgne,  <span style=\"color:rgb(178,223,138)\">vun Hoorn</span> ,  <span style=\"color:rgb(178,223,138)\">Verelst</span> ,  <span style=\"color:rgb(251,154,153)\">met een entraordinaris Gedeputeerde uyt de Provincie wan Zeelandt</span> .  <span style=\"color:rgb(178,223,138)\">Van Rensqwoude</span> . Sloterdyck,  <span style=\"color:rgb(251,154,153)\">met een extraordinaris Gedeputeerde uyt de Provincie van Vrieslandt</span> .  <span style=\"color:rgb(178,223,138)\">Bueisen</span> .  <span style=\"color:rgb(178,223,138)\">Van Berchuys</span>  ,  <span style=\"color:rgb(178,223,138)\">Clant</span> .<br><hr><br>\n",
       "<h4>session-1730-05-23-num-1</h4>\n",
       "<span style=\"color:rgb(31,120,180)\">Martis den 23. Mey 1730.</span> <span style=\"color:rgb(253,191,111)\">PRAAESIDE, Den Heere</span> <span style=\"color:rgb(51,160,44)\">van Lynden</span> .  <span style=\"color:rgb(227,26,28)\">PRAISENTITIBUS</span> , De Heeren van Jf'elderen, van Singendonck, Rasch,  <span style=\"color:rgb(178,223,138)\">Jorck</span> , van Eck tot  <span style=\"color:rgb(178,223,138)\">Nergena</span> , met vyf  <span style=\"color:rgb(251,154,153)\">extraordinaris Gedeputeerden uyt de Provincie van Gelderland</span> :  <span style=\"color:rgb(178,223,138)\">Van Wassenaer</span> , le Leu de  <span style=\"color:rgb(178,223,138)\">Wilhem</span> , vander  <span style=\"color:rgb(178,223,138)\">Marck</span> , vander  <span style=\"color:rgb(178,223,138)\">Ramhorst</span> .  <span style=\"color:rgb(178,223,138)\">Van Citters</span> , van Borsselen , de  <span style=\"color:rgb(178,223,138)\">Jongh</span> ,  <span style=\"color:rgb(178,223,138)\">Bout</span> , Noey, Hurgrogne, van Hoorn,  <span style=\"color:rgb(178,223,138)\">Verelst</span> .  <span style=\"color:rgb(178,223,138)\">Van Renswoude</span> . Sloterdyck,  <span style=\"color:rgb(251,154,153)\">met een extraordinaris Gedeputeerde uyt de Provincie van Vrieslandt</span> .  <span style=\"color:rgb(178,223,138)\">Queisen</span> .  <span style=\"color:rgb(178,223,138)\">Van Berghuys</span> ,  <span style=\"color:rgb(178,223,138)\">Clant</span> .<br><hr><br>\n",
       "<h4>session-1730-05-24-num-1</h4>\n",
       "<span style=\"color:rgb(31,120,180)\">Mercurii den 24. Mey1730.</span> <span style=\"color:rgb(253,191,111)\">PRAESIDE, Den Heere</span> <span style=\"color:rgb(51,160,44)\">van Lynden</span> .  <span style=\"color:rgb(227,26,28)\">PRAESENTIBUS</span> , De Heeren van Welderen, van Singendonck, Rasch,  <span style=\"color:rgb(178,223,138)\">Jorck</span> , van Eck tot  <span style=\"color:rgb(178,223,138)\">Nergena</span> ,  <span style=\"color:rgb(251,154,153)\">met drie extraordinaris Gedeputeerden uyt de Provincie van Gelderlandt</span> .  <span style=\"color:rgb(178,223,138)\">Van Wassenaer</span> , le Leu de  <span style=\"color:rgb(178,223,138)\">Wilhem</span> , vander  <span style=\"color:rgb(178,223,138)\">Marck</span> , vander  <span style=\"color:rgb(178,223,138)\">Ramhorst</span> .  <span style=\"color:rgb(178,223,138)\">Van Citters</span> , van Borsselen, de  <span style=\"color:rgb(178,223,138)\">Jongh</span> ,  <span style=\"color:rgb(178,223,138)\">Bout</span> , Hurgrogne, van Hoorn.  <span style=\"color:rgb(178,223,138)\">Van Renswoude</span> . Sloterdyck.  <span style=\"color:rgb(178,223,138)\">JQueisen</span> .  <span style=\"color:rgb(178,223,138)\">Van Berghuys</span> ,  <span style=\"color:rgb(178,223,138)\">Clant</span> . DE RNesolutien, gisteren genomen, <br><hr><br>\n",
       "<h4>session-1730-05-25-num-1</h4>\n",
       "<span style=\"color:rgb(31,120,180)\">Jovis den 25. Mey1730.</span> <span style=\"color:rgb(253,191,111)\">PRAESIDE) Den Heere</span> <span style=\"color:rgb(51,160,44)\">van Lynden</span> .  <span style=\"color:rgb(227,26,28)\">PRAESENTIBUS</span> , De Heeren van Welderen, van Singendonck, Rasch ,  <span style=\"color:rgb(178,223,138)\">Jorck</span> , van Eck tot  <span style=\"color:rgb(178,223,138)\">Nergena</span> , met wier  <span style=\"color:rgb(251,154,153)\">extraordinaris Gedeputeerden uyt de Provincie van Gelderlandt</span> . Le Leu de  <span style=\"color:rgb(178,223,138)\">Wilhem</span>  , vander  <span style=\"color:rgb(178,223,138)\">Marck</span> , van Hurck, Helsingb, vander  <span style=\"color:rgb(178,223,138)\">Ramhorst</span> .  <span style=\"color:rgb(178,223,138)\">Van Borsselen</span> ,  <span style=\"color:rgb(178,223,138)\">Bout</span>  , Noty, Hurgrogne, van Hoorn.  <span style=\"color:rgb(178,223,138)\">Van Renswoude</span> . Sloterdyck.  <span style=\"color:rgb(178,223,138)\">JQueisen</span> .  <span style=\"color:rgb(178,223,138)\">Van Berghuys</span>  ,  <span style=\"color:rgb(178,223,138)\">Clant</span> .DE Resorutien, gisteren genomen, <br><hr><br>\n",
       "<h4>session-1730-05-26-num-1</h4>\n",
       "<span style=\"color:rgb(31,120,180)\">Veneris den 26. Mey1730</span> <span style=\"color:rgb(253,191,111)\">PRAESIDE, Den Heere</span> <span style=\"color:rgb(51,160,44)\">van Lynden</span> .  <span style=\"color:rgb(227,26,28)\">PRAESENIBUSJ</span>  De Heeren van Welderen, van Singendonck, Rasch,  <span style=\"color:rgb(178,223,138)\">Jorck</span> , van Eck tot  <span style=\"color:rgb(178,223,138)\">Nergena</span> , met ys  <span style=\"color:rgb(251,154,153)\">extraordinuris Gedeputeerden uyt de Provincie van Gelderlandt</span> .  <span style=\"color:rgb(178,223,138)\">Van Wassenaer</span> , le Leu de  <span style=\"color:rgb(178,223,138)\">Wilhem</span> , vander  <span style=\"color:rgb(178,223,138)\">Marck</span> , vander  <span style=\"color:rgb(178,223,138)\">Ramlorst</span> .  <span style=\"color:rgb(178,223,138)\">Van Citters</span> , wan Bursselen, de  <span style=\"color:rgb(178,223,138)\">Jongh</span> ,  <span style=\"color:rgb(178,223,138)\">Bout</span> , Noey, Hurgrogne ,  <span style=\"color:rgb(178,223,138)\">vau Hoorn</span> ,  <span style=\"color:rgb(178,223,138)\">Verelst</span> .  <span style=\"color:rgb(178,223,138)\">Van Renswoude</span> . Sleter dyck.  <span style=\"color:rgb(178,223,138)\">Bueisen</span> .  <span style=\"color:rgb(178,223,138)\">Van Berghuys</span> ,  <span style=\"color:rgb(178,223,138)\">Clant</span> .DE Nesolutien gisteren, genomen, <br><hr><br>\n",
       "<h4>session-1730-05-27-num-1</h4>\n",
       "<span style=\"color:rgb(31,120,180)\">Sabbathi den 27. Mey1730.</span> <span style=\"color:rgb(253,191,111)\">PRAESIDE, Den Heere</span> <span style=\"color:rgb(51,160,44)\">van Lynden</span> .  <span style=\"color:rgb(227,26,28)\">PRAEZESENTIBUS</span> , De Heeren van Welderen, van Singendonck, Rasch ,  <span style=\"color:rgb(178,223,138)\">Torck</span> , van Eck tot  <span style=\"color:rgb(178,223,138)\">Nergena</span> , met vier  <span style=\"color:rgb(251,154,153)\">extraordinaris Gedeputeerden uyt de Provincie van Gelderlandt</span> .  <span style=\"color:rgb(178,223,138)\">Van Weassenaer</span> , le Leu de  <span style=\"color:rgb(178,223,138)\">Wilhem</span> , vander  <span style=\"color:rgb(178,223,138)\">Marck</span> , vander  <span style=\"color:rgb(178,223,138)\">Ramborst</span> .  <span style=\"color:rgb(178,223,138)\">Van Citters</span> , van Borsselen, de  <span style=\"color:rgb(178,223,138)\">Jongh</span> ,  <span style=\"color:rgb(178,223,138)\">Bout</span> , Hurgrogue, van Hoorn,  <span style=\"color:rgb(178,223,138)\">Verelst</span> .  <span style=\"color:rgb(178,223,138)\">Van Renswoude</span> . Sloterdyck.  <span style=\"color:rgb(178,223,138)\">Van lsiselmuden</span> ,  <span style=\"color:rgb(178,223,138)\">Queisen</span> .  <span style=\"color:rgb(178,223,138)\">Van Berghuys</span> ,  <span style=\"color:rgb(178,223,138)\">Clant</span> .DE Resosiutiten, gisteren genomen, <br><hr><br>\n",
       "<h4>session-1730-05-30-num-1</h4>\n",
       "<span style=\"color:rgb(31,120,180)\">Dominica den 28. Mey 1730. Mibil actum est. Luna den 29. Mey1730. Zynde tweede Pinxterdagh. Nihil actum est.Martis den 30. Mey1730.</span> <span style=\"color:rgb(253,191,111)\">PRAESIDE, Den Heere</span> <span style=\"color:rgb(51,160,44)\">van Wassenaer</span> .  <span style=\"color:rgb(227,26,28)\">PRAESENTIBUS</span> , De Heeren van Lynden , van Singendonck, Rasch,  <span style=\"color:rgb(178,223,138)\">Torck</span> , van Eck tot  <span style=\"color:rgb(178,223,138)\">Nergena</span> ,  <span style=\"color:rgb(251,154,153)\">met drie extraordinaris Gedeputeerden uyt de Provincie van Gelderlandt</span> . Vander  <span style=\"color:rgb(178,223,138)\">Dussen</span> , vander  <span style=\"color:rgb(178,223,138)\">Marck</span> , Berckhout, vande  <span style=\"color:rgb(178,223,138)\">Poll</span> , vander  <span style=\"color:rgb(178,223,138)\">Ramhorst</span> .  <span style=\"color:rgb(178,223,138)\">Van Citters</span> , van Borsselen, de  <span style=\"color:rgb(178,223,138)\">Jongh</span> ,  <span style=\"color:rgb(178,223,138)\">Bout</span> , Noey, Hurgrogne, van Hoorn,  <span style=\"color:rgb(178,223,138)\">Verelst</span> .  <span style=\"color:rgb(178,223,138)\">Becker</span> . Sloterdyck,  <span style=\"color:rgb(251,154,153)\">met een extraordinaris Gedeputeerde uyt de Provincie van Vrieslandt</span> .  <span style=\"color:rgb(178,223,138)\">Wan lsselmuden</span> ,  <span style=\"color:rgb(178,223,138)\">Queisen</span> .  <span style=\"color:rgb(178,223,138)\">Van Berchuys</span> ,  <span style=\"color:rgb(178,223,138)\">Clant</span> .DE Resolutien voonede Sarturdagh genoomen , <br><hr><br>\n",
       "<h4>session-1730-05-31-num-1</h4>\n",
       "<span style=\"color:rgb(31,120,180)\">Mercurii den 31, Mey1730.</span> <span style=\"color:rgb(253,191,111)\">PRAESIDEK, Den Heere</span> <span style=\"color:rgb(51,160,44)\">van Wassenaer</span> .  <span style=\"color:rgb(227,26,28)\">PRAESENTIBUS</span> , De Heeren van Lynden , Rasch,  <span style=\"color:rgb(178,223,138)\">Zorck</span> , van Eck tot  <span style=\"color:rgb(178,223,138)\">Nergena</span> ,  <span style=\"color:rgb(251,154,153)\">met een extraordinaris Gedeputeerde uyt de Provincie van Gelderlandt</span> . Vander  <span style=\"color:rgb(178,223,138)\">Marck</span>  , vande  <span style=\"color:rgb(178,223,138)\">Poll</span> , vander  <span style=\"color:rgb(178,223,138)\">Burgh</span> ,  <span style=\"color:rgb(178,223,138)\">wan Hurck</span> , vander  <span style=\"color:rgb(178,223,138)\">Rambhorst</span> .  <span style=\"color:rgb(178,223,138)\">Van Borsselen</span> ,  <span style=\"color:rgb(178,223,138)\">Bout</span> , van Hoorn.  <span style=\"color:rgb(178,223,138)\">Becker</span> . Sloterdyck.  <span style=\"color:rgb(178,223,138)\">Van lsselmuden</span> ,  <span style=\"color:rgb(178,223,138)\">Queisen</span> .  <span style=\"color:rgb(178,223,138)\">Van Berghuys</span>  ,  <span style=\"color:rgb(178,223,138)\">Clant</span> .DE Resolutien, gitteren genomen, <br><hr><br>\n",
       "<h4>session-1730-06-01-num-1</h4>\n",
       "<span style=\"color:rgb(31,120,180)\">Jovis den 1, Juniti 1730.</span> <span style=\"color:rgb(253,191,111)\">PRAESIDE, Den Heere</span> <span style=\"color:rgb(51,160,44)\">van Wassenaer</span> .  <span style=\"color:rgb(227,26,28)\">PRAESENTIBUS</span> , De Heeren van Lynden, van Singendonck, Rasch,  <span style=\"color:rgb(178,223,138)\">Jorck</span> , van Eck tot  <span style=\"color:rgb(178,223,138)\">Nergena</span> ,  <span style=\"color:rgb(251,154,153)\">met een extraordinaris Gedeputeerde uyt de Provincie van Gelderlandt</span> . Vander  <span style=\"color:rgb(178,223,138)\">Marck</span> , vander  <span style=\"color:rgb(178,223,138)\">Burgh</span> , van Hurck, vander  <span style=\"color:rgb(178,223,138)\">Ramhorst</span> .  <span style=\"color:rgb(178,223,138)\">Van Borsselen</span> , Noey, van Boorn.  <span style=\"color:rgb(178,223,138)\">Becker</span> . Sloterdyck.  <span style=\"color:rgb(178,223,138)\">Van lsselmuden</span> ,  <span style=\"color:rgb(178,223,138)\">Queisen</span> .  <span style=\"color:rgb(178,223,138)\">Van Berghuys</span>  ,  <span style=\"color:rgb(178,223,138)\">Clant</span> .DE RNesotrutien, gisteren genomen, <br><hr><br>\n",
       "<h4>session-1730-06-02-num-1</h4>\n",
       "<span style=\"color:rgb(31,120,180)\">Veneris den 2. Junii1730.</span> <span style=\"color:rgb(253,191,111)\">PRAAESIDE, Den Heere</span> <span style=\"color:rgb(51,160,44)\">van Wassenaer</span> .  <span style=\"color:rgb(227,26,28)\">PRAESENTIBUS</span> . De Heeren van Lynden, Rasch ,  <span style=\"color:rgb(178,223,138)\">Jorck</span> , wan Eck tot  <span style=\"color:rgb(178,223,138)\">Nergena</span> ,  <span style=\"color:rgb(251,154,153)\">met twee extraerdinaris Gedeputeerden uyt de Proviscie van Gelderlandt</span> . P'ander  <span style=\"color:rgb(178,223,138)\">Marck</span> , vande  <span style=\"color:rgb(178,223,138)\">Poll</span> , vander  <span style=\"color:rgb(178,223,138)\">Ramborst</span> . Van Borssêlen,  <span style=\"color:rgb(178,223,138)\">Bout</span> , Noey.  <span style=\"color:rgb(178,223,138)\">Becker</span> . Sleterdyck.  <span style=\"color:rgb(178,223,138)\">Vau lsselmuden</span> ,  <span style=\"color:rgb(178,223,138)\">Queisen</span> .  <span style=\"color:rgb(178,223,138)\">Van Berghuys</span> ,  <span style=\"color:rgb(178,223,138)\">Clant</span> .DE Resolutien gieren, 9enomen, <br><hr><br>\n",
       "<h4>session-1730-06-03-num-1</h4>\n",
       "<br><hr><br>\n",
       "<h4>session-1730-06-05-num-1</h4>\n",
       "<span style=\"color:rgb(31,120,180)\">Dominica den 4. Junit1730. MNibil actum est.Lunae den 5. Junii 1730</span> <span style=\"color:rgb(253,191,111)\">PRAESIDE, Den Heere</span> <span style=\"color:rgb(51,160,44)\">van Borsselen</span> .  <span style=\"color:rgb(227,26,28)\">PRAESENTIBUS</span> , De Heeren van Lynden, van Welderen, van Singendonck, Rasch, van Eck tor  <span style=\"color:rgb(178,223,138)\">Nergena</span> ,  <span style=\"color:rgb(251,154,153)\">met twee extraordinaris Gedeputeerden uyt de Provincie van Gelderlandt</span> .  <span style=\"color:rgb(178,223,138)\">Van Wassenaer</span> , vanden Boetzelaar, vander  <span style=\"color:rgb(178,223,138)\">Dussen</span> , vander  <span style=\"color:rgb(178,223,138)\">Burgh</span> , vander  <span style=\"color:rgb(178,223,138)\">Ramhorst</span> .  <span style=\"color:rgb(178,223,138)\">Bout</span> , Noey.  <span style=\"color:rgb(178,223,138)\">Becker</span> , 2 (05Sloterqyck,  <span style=\"color:rgb(178,223,138)\">Van lsielmuden</span> , Bucisen. DES  <span style=\"color:rgb(178,223,138)\">Van Berchuys</span>  ,  <span style=\"color:rgb(178,223,138)\">Clant</span> . 1Hnoib DAE. Necsolutien eergisteren ge<br><hr><br>\n",
       "<h4>session-1730-06-06-num-1</h4>\n",
       "<span style=\"color:rgb(31,120,180)\">Martis den 6. Junii1730.</span> <span style=\"color:rgb(253,191,111)\">PRAESIDE, Den Heere</span> <span style=\"color:rgb(51,160,44)\">van Borsselen</span> .  <span style=\"color:rgb(227,26,28)\">PRAESENTIPBUS</span> , De Heeren van Lynden, van Welderen, Rasch, van Eck tot  <span style=\"color:rgb(178,223,138)\">Nergena</span> ,  <span style=\"color:rgb(251,154,153)\">met een extraordinaris Gedeputeerde uyt de Fruvincie van Gelderlandt</span> .  <span style=\"color:rgb(178,223,138)\">Van Wassenaer</span> , vander  <span style=\"color:rgb(178,223,138)\">Ramhorst</span> .  <span style=\"color:rgb(178,223,138)\">Bout</span> , Noey,  <span style=\"color:rgb(251,154,153)\">met een extraordinaris Gedeputeerde uyt de Provincie van Zeelandt</span> .  <span style=\"color:rgb(178,223,138)\">Becker</span> . Sloterdyck.  <span style=\"color:rgb(178,223,138)\">Jueisen</span> .  <span style=\"color:rgb(178,223,138)\">Van Berghuys</span> ,  <span style=\"color:rgb(178,223,138)\">Clant</span> .DE Resolutien, guteren genomen, <br><hr><br>\n",
       "<h4>session-1730-06-07-num-1</h4>\n",
       "<span style=\"color:rgb(31,120,180)\">Mercurii den 7, Junii 1730.</span> <span style=\"color:rgb(253,191,111)\">PRAESIDE, Den Heere</span> <span style=\"color:rgb(51,160,44)\">van Borselen</span> .  <span style=\"color:rgb(227,26,28)\">PRAESENTIBUS</span> , De Heeren Rasch , van Eck tot  <span style=\"color:rgb(178,223,138)\">Nergena</span> .  <span style=\"color:rgb(178,223,138)\">Van Wassenaer</span> , le Leu de  <span style=\"color:rgb(178,223,138)\">Wilhem</span>  , vande  <span style=\"color:rgb(178,223,138)\">Poll</span> , vander  <span style=\"color:rgb(178,223,138)\">Ramborst</span> .  <span style=\"color:rgb(178,223,138)\">Bout</span>  ,  <span style=\"color:rgb(251,154,153)\">met een extraordinaris Gedeputeerde uyt de Provincie van Zeelandt</span> .  <span style=\"color:rgb(178,223,138)\">Becker</span> . Sloterdyck.  <span style=\"color:rgb(178,223,138)\">Jueisen</span> .  <span style=\"color:rgb(178,223,138)\">Van Berghuys</span>  ,  <span style=\"color:rgb(178,223,138)\">Clant</span> . <br><hr><br>\n",
       "<h4>session-1730-06-08-num-1</h4>\n",
       "<span style=\"color:rgb(31,120,180)\">Jovis den 8. Junii1730.</span> <span style=\"color:rgb(253,191,111)\">PRAESIUDUE, Den Heere</span> <span style=\"color:rgb(51,160,44)\">van Borselen</span> .  <span style=\"color:rgb(227,26,28)\">PRAESENTIBUS</span> , De Heeren Rasch, van Eck tot  <span style=\"color:rgb(178,223,138)\">Nergena</span> ,  <span style=\"color:rgb(251,154,153)\">met een extraordinaris Gedeputoerde uyt de Provincie van Gelderlandt</span> .  <span style=\"color:rgb(178,223,138)\">Van Wassenaer</span> , le Leu de  <span style=\"color:rgb(178,223,138)\">Wilhem</span>  , vander  <span style=\"color:rgb(178,223,138)\">Marck</span> , vander  <span style=\"color:rgb(178,223,138)\">Ramhorst</span> .  <span style=\"color:rgb(178,223,138)\">Bout</span> , Noey.  <span style=\"color:rgb(178,223,138)\">Becker</span> . Sloterdyck.  <span style=\"color:rgb(178,223,138)\">Jueisen</span> .  <span style=\"color:rgb(178,223,138)\">Van Berghuys</span>  ,  <span style=\"color:rgb(178,223,138)\">Clant</span> .DE Restorutien , gisteren genomen, <br><hr><br>\n",
       "<h4>session-1730-06-09-num-1</h4>\n",
       "<span style=\"color:rgb(31,120,180)\">Veeneris den 9. Junit1730.</span> <span style=\"color:rgb(253,191,111)\">PRAESIDE, Den Heere</span> <span style=\"color:rgb(51,160,44)\">van Borsselen</span> .  <span style=\"color:rgb(227,26,28)\">PRAESENTIBUS</span> . De Heeren Rasch, van Eck tot  <span style=\"color:rgb(178,223,138)\">Nergena</span> ,  <span style=\"color:rgb(251,154,153)\">met een extraordinaris Gedeputeerde uyt de Provincie van Gelderlandt</span> . Le Leu de  <span style=\"color:rgb(178,223,138)\">Wilhem</span> , vander  <span style=\"color:rgb(178,223,138)\">Marck</span> , vander  <span style=\"color:rgb(178,223,138)\">Ramborst</span> .  <span style=\"color:rgb(178,223,138)\">Bout</span> , Noey.  <span style=\"color:rgb(178,223,138)\">Becker</span> . Sleterdyck.  <span style=\"color:rgb(178,223,138)\">Jueisen</span> .  <span style=\"color:rgb(178,223,138)\">Van Berghuys</span> ,  <span style=\"color:rgb(178,223,138)\">Clant</span> . DE Resolutien gisteren, genomen, <br><hr><br>\n",
       "<h4>session-1730-06-10-num-1</h4>\n",
       "<span style=\"color:rgb(31,120,180)\">Sabbathi den 10. Junii1730.</span> <span style=\"color:rgb(227,26,28)\">PRAESIDE, Den Heere</span> <span style=\"color:rgb(51,160,44)\">van Borselen</span> .  <span style=\"color:rgb(251,154,153)\">PRAESENTIBUS</span> , De Heeren Rasch , van Eck tot  <span style=\"color:rgb(178,223,138)\">Nergena</span> .  <span style=\"color:rgb(178,223,138)\">Van Wassenser</span> , le Leu de Wilbem, vander RamhurstNoey.  <span style=\"color:rgb(178,223,138)\">Becker</span> . Slorerdyck.  <span style=\"color:rgb(178,223,138)\">JVueisen</span> .  <span style=\"color:rgb(178,223,138)\">Van Berghuys</span> ,  <span style=\"color:rgb(178,223,138)\">Clant</span> . <br><hr><br>\n",
       "<h4>session-1730-06-12-num-1</h4>\n",
       "<span style=\"color:rgb(31,120,180)\">Dominica den 1. Junii1730. Nihil actum est. Luna den 12. Junii1730.</span> <span style=\"color:rgb(253,191,111)\">PRAESIDE, Den Heere</span> <span style=\"color:rgb(51,160,44)\">Becker</span> .  <span style=\"color:rgb(227,26,28)\">PRAESENTIBUS</span> , De Heeren Rasch,  <span style=\"color:rgb(251,154,153)\">met een extraordinaris Gedeputeerde uft de Provincie van Gelderlandt</span> .  <span style=\"color:rgb(178,223,138)\">Van Wassenaer</span> , le Leu de Wilbem.  <span style=\"color:rgb(178,223,138)\">Van Borsselen</span> ,  <span style=\"color:rgb(178,223,138)\">Bout</span> , Noey,  <span style=\"color:rgb(251,154,153)\">met een extraordinaris Gedeputeerde uyt de Provincie van Zeelandt</span> .  <span style=\"color:rgb(178,223,138)\">Clant</span> .<br><hr><br>\n",
       "<h4>session-1730-06-13-num-1</h4>\n",
       "<span style=\"color:rgb(31,120,180)\">Martis den 13. Junti1730</span> <span style=\"color:rgb(253,191,111)\">PRAOAESIDE, Den Heere</span> <span style=\"color:rgb(51,160,44)\">Becker</span> .  <span style=\"color:rgb(227,26,28)\">PRAESENTIBUS</span> , De Heeren van Eck tot  <span style=\"color:rgb(178,223,138)\">Nergena</span> ,  <span style=\"color:rgb(251,154,153)\">met twee extraordinaris Gedeputeerden uyt de Prowincie van Gelderlandt</span> .  <span style=\"color:rgb(178,223,138)\">Van Wassenaer</span> ,  <span style=\"color:rgb(178,223,138)\">Eelbo</span> , le Leu de Wilbem, vander  <span style=\"color:rgb(178,223,138)\">Marck</span> , vande  <span style=\"color:rgb(178,223,138)\">Poll</span> , vander  <span style=\"color:rgb(178,223,138)\">Ramhorst</span> .  <span style=\"color:rgb(178,223,138)\">Van Borsselen</span> ,  <span style=\"color:rgb(178,223,138)\">Bout</span>  , Noey,  <span style=\"color:rgb(251,154,153)\">met een extraordinaris Gedeputeerde uyt de Provincie van Zeelandt</span> . Sloterdyck.  <span style=\"color:rgb(178,223,138)\">Queisen</span> .  <span style=\"color:rgb(178,223,138)\">Van Berghuys</span> ,  <span style=\"color:rgb(178,223,138)\">Clant</span> . DEE Resolutienrn,, givderen 9enomen, <br><hr><br>\n",
       "<h4>session-1730-06-15-num-1</h4>\n",
       "<span style=\"color:rgb(51,160,44)\"></span> Jovis den 15, Juniischen Keyser, geschreven te Pera van Constantinopolen den  <span style=\"color:rgb(31,120,180)\">derden</span>  Mey laatstleden, 1730. geaddresseert aan den Griffier Fagel , houPRADSTDE) dende een omstandigh relaas van het geene Den Heere  <span style=\"color:rgb(31,120,180)\">Becker</span> . aldaar gepasseert was, in opsicht van het  <span style=\"color:rgb(178,223,138)\">PRAESENTIBUS</span>  Kindt van wylen den Secretaris la FontaiDe Heeren van Eck tot  <span style=\"color:rgb(31,120,180)\">Nergena</span> , met twee ne, door den Venetiaanschen Secretaris Barextraordinaris Gedeputeerden uyt de Protolini, op een onbehoorlijcke wyze uyt het vincie van Gelderlandt. Huys van den Thesaurier Leystadt wechVan  <span style=\"color:rgb(31,120,180)\">Wassenaer</span> , le Leu de  <span style=\"color:rgb(31,120,180)\">Wilhem</span>  , vangenomen, en eyndelijck wederom gebraght, der  <span style=\"color:rgb(31,120,180)\">Marck</span> , vander  <span style=\"color:rgb(31,120,180)\">Ramhorst</span> . breeder in de voorschreve Missive vermeidtVan  <span style=\"color:rgb(31,120,180)\">Borsselen</span> ,  <span style=\"color:rgb(31,120,180)\">Bout</span> WAAR op gedelibereert zynde, is goedtSloterdyck. gevonden ende verstaan, dat Copie van de  <span style=\"color:rgb(31,120,180)\">SDueisen</span> . voorschreve Missive gesonden sal  <span style=\"color:rgb(31,120,180)\">werden</span>  aan <br><hr><br>\n",
       "<h4>session-1730-06-16-num-1</h4>\n",
       "<span style=\"color:rgb(31,120,180)\">Veneris den 16. Junii1730.</span> <span style=\"color:rgb(227,26,28)\">PRAESIDE, Den Heere</span> <span style=\"color:rgb(51,160,44)\">Becker</span> .  <span style=\"color:rgb(251,154,153)\">PRAESENTIBU</span>  3, De Heeren  <span style=\"color:rgb(178,223,138)\">Coulman</span>  , van Eck tot  <span style=\"color:rgb(178,223,138)\">Nergena</span> . Le Leu de  <span style=\"color:rgb(178,223,138)\">JVilhem</span> , vander  <span style=\"color:rgb(178,223,138)\">Marck</span> , vander Ram  <span style=\"color:rgb(178,223,138)\">borst</span> .  <span style=\"color:rgb(178,223,138)\">Jan Borsselen</span> ,  <span style=\"color:rgb(178,223,138)\">Bout</span> , Noey. Vander Waayen, Sleterdyck.  <span style=\"color:rgb(178,223,138)\">Dueisen</span> .  <span style=\"color:rgb(178,223,138)\">Van Berghuys</span> ,  <span style=\"color:rgb(178,223,138)\">Clant</span> .DE Resomution gineteren, genomen, <br><hr><br>\n",
       "<h4>session-1730-06-19-num-1</h4>\n",
       "<span style=\"color:rgb(31,120,180)\">Dominica den 18. Junii1730. Nihil actum est. Lunae den 19. Junii1730.</span> <span style=\"color:rgb(253,191,111)\">PRAESIDE, Den Heere</span> <span style=\"color:rgb(51,160,44)\">vander Waayen</span> .  <span style=\"color:rgb(227,26,28)\">PRAESENTYBUS</span> , De Heeren  <span style=\"color:rgb(178,223,138)\">Essenius</span> ,  <span style=\"color:rgb(178,223,138)\">Coulman</span> , van Eck tot  <span style=\"color:rgb(178,223,138)\">Nergena</span> ,  <span style=\"color:rgb(251,154,153)\">met een extraorainaris Gedeputeerde uyt de Provincie van Gelderlandt</span> .  <span style=\"color:rgb(178,223,138)\">Van Wassenaer</span> , vander  <span style=\"color:rgb(178,223,138)\">Dussen</span> , vander  <span style=\"color:rgb(178,223,138)\">Marck</span> , vander  <span style=\"color:rgb(178,223,138)\">Burgb</span> , van Hurck.  <span style=\"color:rgb(178,223,138)\">Van Borsselen</span> ,  <span style=\"color:rgb(178,223,138)\">Bout</span> . Sloterdyck.  <span style=\"color:rgb(178,223,138)\">Van Rechteren</span> ,  <span style=\"color:rgb(178,223,138)\">Sueisen</span> .  <span style=\"color:rgb(178,223,138)\">Van Berghuys</span> ,  <span style=\"color:rgb(178,223,138)\">Clant</span> .<br><hr><br>\n",
       "<h4>session-1730-06-20-num-1</h4>\n",
       "<span style=\"color:rgb(31,120,180)\">Martis den 20. Junii1730.</span> <span style=\"color:rgb(253,191,111)\">PRAESIDE, Den Heere</span> <span style=\"color:rgb(51,160,44)\">vander Weaayen</span> .  <span style=\"color:rgb(227,26,28)\">PRAESENTIBUS</span> , De Heeren Fsenius,  <span style=\"color:rgb(178,223,138)\">Coulman</span> , van Bek tot  <span style=\"color:rgb(178,223,138)\">Nergena</span> ,  <span style=\"color:rgb(251,154,153)\">met een extraordinaris Gedeputeerde uyt de Provincie van Gelderlandt</span> .  <span style=\"color:rgb(178,223,138)\">Van Wassenaer</span> , vander  <span style=\"color:rgb(178,223,138)\">Marck</span> <span style=\"color:rgb(178,223,138)\">Bout</span>  , Noey. Sloterdyck.  <span style=\"color:rgb(178,223,138)\">Van Rechteren</span> ,  <span style=\"color:rgb(178,223,138)\">Jueisen</span> .  <span style=\"color:rgb(178,223,138)\">Van Berghuys</span> ,  <span style=\"color:rgb(178,223,138)\">Clant</span> .DE Necesonitien, gisteren genomen, <br><hr><br>\n",
       "<h4>session-1730-06-21-num-1</h4>\n",
       "<span style=\"color:rgb(51,160,44)\"></span> 1730. Requeste als antidotaal ter Griffie sal  <span style=\"color:rgb(31,120,180)\">werden</span>  geseponeert, om t sijner tydt te dienen sulcks PRAEYDE, en daar het behoort. Den Heere vander Wiaayen.  <span style=\"color:rgb(178,223,138)\">PRAASENTIBUS</span> , IS ter Vergaderinge gelelen de Requeste De Heeren B/senius,  <span style=\"color:rgb(31,120,180)\">Coulman</span>  , van Eckvan Johanna Helena Lintbeymer, Weduwe tot  <span style=\"color:rgb(31,120,180)\">Nergena</span>  , met een extraordinaris Geen Boedelhoudtster van wylen Anthony deputeerde uyt de Provincie van Gelderle Roy, in sijn leeven Medecine Doctor en landt. Scheepen 's Luandts van den Vryen te Sluys  <span style=\"color:rgb(31,120,180)\">Van Wassenaer</span> , vander  <span style=\"color:rgb(31,120,180)\">Dussen</span> , wander in Vlaanderen, in huwelyck hebbende  <span style=\"color:rgb(31,120,180)\">geMarck</span>  hadt Jacoba Petronella Lemnius, en in die  <span style=\"color:rgb(31,120,180)\">Van Borsselen</span>  ,  <span style=\"color:rgb(31,120,180)\">Bout</span> . qualiteyt naaste ende wettige Vooght van Becker. Sloterdyck.  <span style=\"color:rgb(31,120,180)\">Van Rechteren</span> , Qucisen. Van Be ghays ,  <span style=\"color:rgb(31,120,180)\">Clant</span> . DE RNesorutien, gisteren genomen, <br><hr><br>\n",
       "<h4>session-1730-06-22-num-1</h4>\n",
       "<span style=\"color:rgb(31,120,180)\">Jovis den 22, Junit1730.</span> <span style=\"color:rgb(227,26,28)\">PRAESIDE, Den Heere</span> <span style=\"color:rgb(51,160,44)\">vander Waayen</span> .  <span style=\"color:rgb(251,154,153)\">PRAESENTIBUS</span> , De Heeren Cousman, van Eck tot  <span style=\"color:rgb(178,223,138)\">Nergena</span> .  <span style=\"color:rgb(178,223,138)\">Van Wassenaer</span> , vander  <span style=\"color:rgb(178,223,138)\">Dussen</span> , vander  <span style=\"color:rgb(178,223,138)\">Marck</span> .  <span style=\"color:rgb(178,223,138)\">Van Borsselen</span> . Sloterdyck.  <span style=\"color:rgb(178,223,138)\">Vueisen</span> .<br><hr><br>\n",
       "<h4>session-1730-06-23-num-1</h4>\n",
       "<span style=\"color:rgb(31,120,180)\">Veneris den 23. Junii1730.</span> <span style=\"color:rgb(253,191,111)\">TPREAESTIDYI,Den Heere</span> <span style=\"color:rgb(51,160,44)\">vander Jlaaayen</span> .  <span style=\"color:rgb(227,26,28)\">PRAESENTIEUS</span> . De Heeren  <span style=\"color:rgb(178,223,138)\">Coulman</span>  , van Eck tot  <span style=\"color:rgb(178,223,138)\">Nergena</span> . Vander  <span style=\"color:rgb(178,223,138)\">Dussen</span> , vander  <span style=\"color:rgb(178,223,138)\">Marck</span> , Helsingh.  <span style=\"color:rgb(178,223,138)\">Wan Borsselen</span> , Noey,  <span style=\"color:rgb(251,154,153)\">met een extraordinaris Gedeputeerde uyt de Provincie van Zeelandt</span> . Sleterdyck.  <span style=\"color:rgb(178,223,138)\">Oueisen</span><br><hr><br>\n",
       "<h4>session-1730-06-24-num-1</h4>\n",
       "<span style=\"color:rgb(31,120,180)\">Sabbathi den 24. Junti1750</span> <span style=\"color:rgb(253,191,111)\">PRAESIDE,Den Heere</span> <span style=\"color:rgb(51,160,44)\">vander Waayen</span> .  <span style=\"color:rgb(227,26,28)\">PRAESEXNTIED</span>  De Heeren  <span style=\"color:rgb(178,223,138)\">Coulman</span> , van Eck tot  <span style=\"color:rgb(178,223,138)\">Nergena</span> . Vander  <span style=\"color:rgb(178,223,138)\">Marck</span> , van Hursk, Helsingb.  <span style=\"color:rgb(178,223,138)\">Van Borsselen</span> ,  <span style=\"color:rgb(251,154,153)\">met een extraordinaris Gedeputeerde uyt de Provincie Yan Zeelandt</span> . Sloterdyck.  <span style=\"color:rgb(178,223,138)\">Queisen</span> . DE Resolutie, gu teren genomen, <br><hr><br>\n",
       "<h4>session-1730-06-26-num-1</h4>\n",
       "<span style=\"color:rgb(31,120,180)\">Dominica den 25. Junit1730. Nibil actum est. Zuna den 26. Junii1730</span> <span style=\"color:rgb(253,191,111)\">PRAESIDE, Den Heere</span> <span style=\"color:rgb(51,160,44)\">van lsselmuden</span> .  <span style=\"color:rgb(227,26,28)\">PRAESENTIBUS</span> , De Heeren van Lynden , van Jyelderen,  <span style=\"color:rgb(178,223,138)\">Coulman</span> , van Eck tot  <span style=\"color:rgb(178,223,138)\">Nergena</span> .  <span style=\"color:rgb(178,223,138)\">Van Wassenaer</span> , vander  <span style=\"color:rgb(178,223,138)\">Burgh</span> , Raadtpensionaris van Slingelandt.  <span style=\"color:rgb(178,223,138)\">Van Borsselen</span> ,  <span style=\"color:rgb(251,154,153)\">met een extraordinaris Gedeputeerde uyt de Provincie van Zeelandt</span> . Vander H'aayen, Sloterdyck.  <span style=\"color:rgb(178,223,138)\">OQueisen</span> .<br><hr><br>\n",
       "<h4>session-1730-06-27-num-1</h4>\n",
       "<span style=\"color:rgb(178,223,138)\"></span> <span style=\"color:rgb(227,26,28)\"></span> Martis den 27. Junit1730, PURIAERSIDE, Den Heere van lselmuden.  <span style=\"color:rgb(251,154,153)\">PolRAESSENTIBUS</span> , De Heeren van Lynden , van Welderen,  <span style=\"color:rgb(31,120,180)\">Coulman</span> , van Eck tot  <span style=\"color:rgb(31,120,180)\">Nergena</span>  , met een extraordinaris Gedeputcerde uyt de ProsXwijncie van Gelderlandt.  <span style=\"color:rgb(31,120,180)\">Van Wassenaer</span> , vander  <span style=\"color:rgb(31,120,180)\">Dussen</span> , vander  <span style=\"color:rgb(31,120,180)\">'Murck</span> , vander  <span style=\"color:rgb(31,120,180)\">Burgh</span> , Raadtpensionaris van Slingelandt, Dobey,  <span style=\"color:rgb(51,160,44)\">met een extraordinaris Getleputeer de uyt de Pruincievvan Zeelandt</span> . Wander Waayen,Stoterdyck.  <span style=\"color:rgb(31,120,180)\">Queisen</span> DE RNesolsutien, gisteren genomen, <br><hr><br>\n",
       "<h4>session-1730-06-28-num-1</h4>\n",
       "<span style=\"color:rgb(31,120,180)\">Mercitrii den 28, Junii 1730.</span> <span style=\"color:rgb(253,191,111)\">PRAESTDE, Den Heere</span> <span style=\"color:rgb(51,160,44)\">Queisen</span> .  <span style=\"color:rgb(227,26,28)\">PRAESENTIBUS</span> ,) De Heeren van Lynden,  <span style=\"color:rgb(178,223,138)\">Coulman</span> , van Eck tot  <span style=\"color:rgb(178,223,138)\">Nergena</span>  ,  <span style=\"color:rgb(251,154,153)\">met een extraordinaris Gedeputeerde uyt de Provincie van Gelderlandt</span> . Vander  <span style=\"color:rgb(178,223,138)\">Marck</span>  Noey ,  <span style=\"color:rgb(251,154,153)\">met een extraordinaris Gedeputeerde uyt de Provincie van Zeelandt</span> . Vander Woaayen , Sloterdyck.DE Ncesorutien, giseren genomen, <br><hr><br>\n",
       "<h4>session-1730-06-29-num-1</h4>\n",
       "<span style=\"color:rgb(31,120,180)\">Jovis den 29. Junie1730.</span> <span style=\"color:rgb(253,191,111)\">PRAESIUDE, Den Heere</span> <span style=\"color:rgb(51,160,44)\">Queisen</span> .  <span style=\"color:rgb(227,26,28)\">PRAESENTIBUS</span> , De Heeren van Lynden, van Welderen,  <span style=\"color:rgb(178,223,138)\">Coulman</span> , van Eck tot  <span style=\"color:rgb(178,223,138)\">Nergena</span> ,  <span style=\"color:rgb(251,154,153)\">met een extraordinaris Gedeputeerde uyt de Provincie van Gelderlandt</span> . Vander  <span style=\"color:rgb(178,223,138)\">Marck</span> . Noey,  <span style=\"color:rgb(251,154,153)\">met een extraordinaris Gedeputeerde uyt de Provincie van Zeelandt</span> . Sloterdyck.DE Resorutien, gisteren genomen, <br><hr><br>\n",
       "<h4>session-1730-06-30-num-1</h4>\n",
       "<span style=\"color:rgb(31,120,180)\">Veeneris den 30. Junii 1730.</span> <span style=\"color:rgb(253,191,111)\">PRAESIDE,Den Heere</span> <span style=\"color:rgb(51,160,44)\">Queisen</span> .  <span style=\"color:rgb(227,26,28)\">PRAESENTIBUS</span> , De Heeren van Lynden, van Welderen,  <span style=\"color:rgb(178,223,138)\">Coulman</span> , van Eck tot  <span style=\"color:rgb(178,223,138)\">Nergena</span> ,  <span style=\"color:rgb(251,154,153)\">met twee extraordinaris Gedeputeerden uyt de Provincie van Gelderlandt</span> .  <span style=\"color:rgb(178,223,138)\">Van Wassenaer</span> ,  <span style=\"color:rgb(178,223,138)\">Eelbo</span> , vander  <span style=\"color:rgb(178,223,138)\">Dussen</span> , vander  <span style=\"color:rgb(178,223,138)\">Marck</span> , Raadtpensionaris van Slingelandt. Noey,  <span style=\"color:rgb(251,154,153)\">met een extraordinaris Gedeputeerde uyt de Provincie van Zeelandt</span> . Vander Waayen , Sleterdyck.  <span style=\"color:rgb(178,223,138)\">Van Tamminga</span> .PE Resouuen gisteren, genomen, <br><hr><br>\n",
       "<h4>session-1730-07-03-num-1</h4>\n",
       "<span style=\"color:rgb(31,120,180)\">Dominica den 2. Julii1730. Nibil actum est.Luna den 3. Julia1730.</span> <span style=\"color:rgb(253,191,111)\">PRAESIDE, Den Heere</span> <span style=\"color:rgb(51,160,44)\">van Tamminga</span> .  <span style=\"color:rgb(227,26,28)\">PRAESENTIEBUS</span> , De Heeren van Lynden, van Welderen,  <span style=\"color:rgb(178,223,138)\">Coulman</span> , van Eck tot  <span style=\"color:rgb(178,223,138)\">Nergena</span> ,  <span style=\"color:rgb(251,154,153)\">met twee extraordinaris Gedeputeerden uyt de Provincie van Gelderlandt</span> .  <span style=\"color:rgb(178,223,138)\">Wan Wassenaer</span> , vander  <span style=\"color:rgb(178,223,138)\">Marck</span>  , vander  <span style=\"color:rgb(178,223,138)\">Burgh</span> , Raadtpensionaris van Slingelandt. Noey. Vander H'aayen, Sloterdyck.  <span style=\"color:rgb(178,223,138)\">Van lsselmuden</span> ,  <span style=\"color:rgb(178,223,138)\">Queisen</span> .<br><hr><br>\n",
       "<h4>session-1730-07-04-num-1</h4>\n",
       "<span style=\"color:rgb(31,120,180)\">Martis den 4. Judie 1730</span> <span style=\"color:rgb(253,191,111)\">PRAESIDE, Den Heere</span> <span style=\"color:rgb(51,160,44)\">van Zamminga</span> .  <span style=\"color:rgb(227,26,28)\">PRAESENTIBUS</span>  ), De Heeren van Lynden, van Jr'elderen,  <span style=\"color:rgb(178,223,138)\">Coulman</span>  , van Eck tot  <span style=\"color:rgb(178,223,138)\">Nergena</span>  ,  <span style=\"color:rgb(251,154,153)\">met twee extraordinaris Gedeputeerden uyt de Provincie van Gelderlandt</span> .  <span style=\"color:rgb(178,223,138)\">Van Wassenaer</span> , vander  <span style=\"color:rgb(178,223,138)\">Marck</span> , vander  <span style=\"color:rgb(178,223,138)\">Burgh</span> , Raadtpensionaris van Slingelandt. Noey, miet  <span style=\"color:rgb(251,154,153)\">een extraordinaris Gedeputeerde uyt de Provincie van Zeelandt</span> . Vander Waayen, Sloterdyck.  <span style=\"color:rgb(178,223,138)\">Jueisen</span> .DE Nesorutien, gisteren genomen, <br><hr><br>\n",
       "<h4>session-1730-07-05-num-1</h4>\n",
       "<span style=\"color:rgb(31,120,180)\">Mercurii den 5, Julii1730.</span> <span style=\"color:rgb(253,191,111)\">PRAESIDE, Den Heere</span> <span style=\"color:rgb(51,160,44)\">van Tamminga</span> .  <span style=\"color:rgb(227,26,28)\">PRAESENTIBUS</span> , De Heeren van Lynden, van Welderen,  <span style=\"color:rgb(178,223,138)\">Coulman</span> , van Eck tot  <span style=\"color:rgb(178,223,138)\">Nergena</span> ,  <span style=\"color:rgb(251,154,153)\">met twee extraordinaris Gedeputeerden uyt de Provincie van Gelderlandt</span> . Vander  <span style=\"color:rgb(178,223,138)\">Marck</span>  Noey,  <span style=\"color:rgb(251,154,153)\">met een extraordinaris Gedeputeerde uyt de Provincie van Zeelandt</span> . Vander Waayen, Sloterdyck.  <span style=\"color:rgb(178,223,138)\">Jueisen</span> .DE Nesolutien, gisteren genomen, <br><hr><br>\n",
       "<h4>session-1730-07-06-num-1</h4>\n",
       "<span style=\"color:rgb(31,120,180)\">Jovis den 6. Jusii1730.</span> <span style=\"color:rgb(253,191,111)\">PRAESIDE, Den Heere</span> <span style=\"color:rgb(51,160,44)\">van Tamminga</span> .  <span style=\"color:rgb(227,26,28)\">PRAESENTIBUSS</span> , De Heeren van Lynden , van Welderen ,  <span style=\"color:rgb(178,223,138)\">Coulman</span> , van Eck tot  <span style=\"color:rgb(178,223,138)\">Nergena</span> ,  <span style=\"color:rgb(251,154,153)\">met twee extraordinaris Gedeputeerden uyt de Provincie van Gelderlandt</span> .  <span style=\"color:rgb(178,223,138)\">Van Wassenaer</span> , vander  <span style=\"color:rgb(178,223,138)\">Marck</span> . Noey,  <span style=\"color:rgb(251,154,153)\">met een extraordinaris Gedeputeerde uyt de Provincie van Zeelandt</span> . Vander Waayen, Sloterdyck.  <span style=\"color:rgb(178,223,138)\">Sueisen</span> .DE Nesorutien, gisteren genomen, <br><hr><br>\n",
       "<h4>session-1730-07-07-num-1</h4>\n",
       "<span style=\"color:rgb(31,120,180)\">Veneris den 7. Judit1730.</span> <span style=\"color:rgb(253,191,111)\">PRAESIDEF, Den Heere</span> <span style=\"color:rgb(51,160,44)\">van Tamminga</span> .  <span style=\"color:rgb(227,26,28)\">PRAZESENTIBUS</span> . De Heeren van Lynden, van Welderen,  <span style=\"color:rgb(178,223,138)\">Coulman</span> , van Eck tot  <span style=\"color:rgb(178,223,138)\">Nergena</span> ,  <span style=\"color:rgb(251,154,153)\">met een extraordinaris Gedeputeerde uyt de Provincie van Gelderlandt</span> .  <span style=\"color:rgb(178,223,138)\">Van Wassenaer</span> , vander  <span style=\"color:rgb(178,223,138)\">Marck</span> , vander  <span style=\"color:rgb(178,223,138)\">Burgh</span> . Noey,  <span style=\"color:rgb(251,154,153)\">met een extraordinaris Gedeputeerde uyt de Provincie van Zeelandt</span> . Vander Waayen , Sloterdyck.  <span style=\"color:rgb(178,223,138)\">Queisen</span> . DE Resolutien gisteren, genomen, <br><hr><br>\n",
       "<h4>session-1730-07-08-num-1</h4>\n",
       "<span style=\"color:rgb(31,120,180)\">Sabbathi den 8. Julii1730.</span> <span style=\"color:rgb(253,191,111)\">PRAESIDE, Den Heere</span> <span style=\"color:rgb(51,160,44)\">van Tamminga</span> .  <span style=\"color:rgb(227,26,28)\">PRAESENTIEBUS</span> , De Heeren van Tynden,  <span style=\"color:rgb(178,223,138)\">Coulman</span> , van Eck tot  <span style=\"color:rgb(178,223,138)\">Nergena</span> ,  <span style=\"color:rgb(251,154,153)\">met een extraordinaris Gedeputeerde uyt de Provincie van Gelderlandt</span> .  <span style=\"color:rgb(178,223,138)\">Van Wassenaer</span> . Noey,  <span style=\"color:rgb(251,154,153)\">met een extraordinaris Gedeputeerde uyt de Provincie van Zeelandt</span> . Vander Waayen , Sloterdyck.  <span style=\"color:rgb(178,223,138)\">Queisen</span> .DE RNesorutien, gisteren genomen, <br><hr><br>\n",
       "<h4>session-1730-07-10-num-1</h4>\n",
       "<span style=\"color:rgb(31,120,180)\">Dominica den 9. Julii1730. Nihil actum est.Lunae den 10, Judlii1730.</span> <span style=\"color:rgb(253,191,111)\">PRAESIDE, Den Heere</span> <span style=\"color:rgb(51,160,44)\">van Lynden</span> .  <span style=\"color:rgb(227,26,28)\">PRAESJENTIBUS</span> , De Heeren van Welderen,  <span style=\"color:rgb(178,223,138)\">Coulman</span> , van Eck tot  <span style=\"color:rgb(178,223,138)\">Nergena</span> .  <span style=\"color:rgb(178,223,138)\">Van H'assenaer</span> . Van Bôrsselen, Noey,  <span style=\"color:rgb(251,154,153)\">met een extraordinaris Gedeputeerde uyt de Provincie van Zeelandt</span> . Vander Haayen, Sloterdyck.  <span style=\"color:rgb(178,223,138)\">Oueisen</span> .<br><hr><br>\n",
       "<h4>session-1730-07-11-num-1</h4>\n",
       "<span style=\"color:rgb(31,120,180)\">Martis den 11, Judis 1730</span> <span style=\"color:rgb(253,191,111)\">PRAESIDE, Den Heere</span> <span style=\"color:rgb(51,160,44)\">van Lynden</span> .  <span style=\"color:rgb(227,26,28)\">PRAESENTIBUS</span> , De Heeren van srelderen,  <span style=\"color:rgb(178,223,138)\">Coulman</span> , van Eck tot  <span style=\"color:rgb(178,223,138)\">Nergena</span> ,  <span style=\"color:rgb(251,154,153)\">met tqwee extraordinaris Gedeputeerden uyt de Pruvincie van Gelderlandt</span> .  <span style=\"color:rgb(178,223,138)\">Van H'assenaer</span> ,  <span style=\"color:rgb(178,223,138)\">Eelbo</span> , le Leu de  <span style=\"color:rgb(178,223,138)\">Wilhem</span> , vander  <span style=\"color:rgb(178,223,138)\">Marck</span> , vander  <span style=\"color:rgb(178,223,138)\">Burgh</span> , Raaatpensionaris van Slingelandt,  <span style=\"color:rgb(178,223,138)\">Van Borsselen</span> ,  <span style=\"color:rgb(178,223,138)\">Bout</span> , Noey. Vander Waayen, Sloterdyck.  <span style=\"color:rgb(178,223,138)\">Jueisen</span> .DE Resolsutien, gisteren gen10men, <br><hr><br>\n",
       "<h4>session-1730-07-12-num-1</h4>\n",
       "<span style=\"color:rgb(31,120,180)\">Mercuriia den 12, Jusii1730.</span> <span style=\"color:rgb(253,191,111)\">PRAESIDE, Den Heere</span> <span style=\"color:rgb(51,160,44)\">van Lynden</span> .  <span style=\"color:rgb(227,26,28)\">PRAESEXNRTIBUS</span> , De Heeren Biel,  <span style=\"color:rgb(178,223,138)\">Coulman</span> , van Eck tot  <span style=\"color:rgb(178,223,138)\">Nergena</span>  ,  <span style=\"color:rgb(251,154,153)\">met twee extraordinaris Gedeputeerden uyt de Provincie van Gelderlandt</span> .  <span style=\"color:rgb(178,223,138)\">Van Wassenaer</span>  , le Leu de Wilbem, vander  <span style=\"color:rgb(178,223,138)\">Marck</span> , vander  <span style=\"color:rgb(178,223,138)\">Burgh</span> , Raadtpensionaris van Slingelandt.  <span style=\"color:rgb(178,223,138)\">Van Borsselen</span> . Sloterdyck.  <span style=\"color:rgb(178,223,138)\">Vueisen</span> .DE Resomtien , gisteren gencmen, <br><hr><br>\n",
       "<h4>session-1730-07-13-num-1</h4>\n",
       "<span style=\"color:rgb(31,120,180)\">Jovis den 13. Julii1730.</span> <span style=\"color:rgb(253,191,111)\">PRAESIDE, Den Heere</span> <span style=\"color:rgb(51,160,44)\">van Lynden</span> .  <span style=\"color:rgb(227,26,28)\">PRAESENTIBUS</span> , De Heeren van Welderen, Biel , Cousman, van Eck tot  <span style=\"color:rgb(178,223,138)\">Nergena</span> ,  <span style=\"color:rgb(251,154,153)\">met een extraordinaris Gedeputeerde uyt de Provincie van Gelderlandt</span> .  <span style=\"color:rgb(178,223,138)\">Van Wassenaer</span> , le Leu de Wilbem , vander  <span style=\"color:rgb(178,223,138)\">Marck</span> , vander  <span style=\"color:rgb(178,223,138)\">Burgh</span> .  <span style=\"color:rgb(178,223,138)\">Van Borsselen</span>  ,  <span style=\"color:rgb(251,154,153)\">met een extraordinaris Gedeputeerde uyt de Provincie van Zeelandt</span> . Slsoterdyck.  <span style=\"color:rgb(178,223,138)\">Dueisen</span> .<br><hr><br>\n",
       "<h4>session-1730-07-14-num-1</h4>\n",
       "<span style=\"color:rgb(31,120,180)\">1730.</span> <span style=\"color:rgb(253,191,111)\">PRAESID EF, Den Heere</span> <span style=\"color:rgb(51,160,44)\">van Lynden</span> .  <span style=\"color:rgb(227,26,28)\">PRAESENTIBUS</span> , De Heeren van Welderen, Biel,  <span style=\"color:rgb(178,223,138)\">Coulman</span> , van Eck tot  <span style=\"color:rgb(178,223,138)\">Nergena</span>  ,  <span style=\"color:rgb(251,154,153)\">met twee extraordinaris Gedeputeerden uyt de Provincie van Gelderlandt</span> . Le Leu de  <span style=\"color:rgb(178,223,138)\">Wilhem</span> , vander  <span style=\"color:rgb(178,223,138)\">Marck</span> , vander  <span style=\"color:rgb(178,223,138)\">Burgh</span> .  <span style=\"color:rgb(178,223,138)\">Van Borsselen</span> , Noey,  <span style=\"color:rgb(251,154,153)\">met een extraordinaris Gedeputeerde uyt de Provincie van Zeelandt</span> . Sleterdyck.  <span style=\"color:rgb(178,223,138)\">Queisen</span> .DE Nesolutien gisteren, genomen, <br><hr><br>\n",
       "<h4>session-1730-07-15-num-1</h4>\n",
       "<span style=\"color:rgb(31,120,180)\">Sabbathi den 15. Juslii1730.</span> <span style=\"color:rgb(253,191,111)\">PRAAESIDE, Den Heere</span> <span style=\"color:rgb(51,160,44)\">van Lynden</span> .  <span style=\"color:rgb(227,26,28)\">PRAESENTIBUS</span> , De Heeren Biel ,  <span style=\"color:rgb(178,223,138)\">Coulman</span>  , van Eck tot  <span style=\"color:rgb(178,223,138)\">Nergena</span>  ,  <span style=\"color:rgb(251,154,153)\">met een extraordinaris Gedeputeerde uyt de Provincie van Gelderlandt</span> . Vander  <span style=\"color:rgb(178,223,138)\">Marck</span> .  <span style=\"color:rgb(178,223,138)\">Van Borsselen</span> ,  <span style=\"color:rgb(251,154,153)\">met een extraordinaris Gedeputeerde uyt de Provincie van Zeelandt</span> . Sloterdyck.  <span style=\"color:rgb(178,223,138)\">Sueisen</span> .DE Resosutien, ginteren geno.men, <br><hr><br>\n",
       "<h4>session-1730-07-17-num-1</h4>\n",
       "<span style=\"color:rgb(31,120,180)\">Dominica den 16. Julii1730. Nibil actum est. Luna den 17. Julii1730.</span> <span style=\"color:rgb(253,191,111)\">PRAESIDE, Den Heere</span> <span style=\"color:rgb(51,160,44)\">vun Wassenaer</span> .  <span style=\"color:rgb(227,26,28)\">PRAESENTIBUS</span> , De Heeren van Lynden, Biel,  <span style=\"color:rgb(178,223,138)\">Coulman</span> , wan Eck tot  <span style=\"color:rgb(178,223,138)\">Nergena</span> ,  <span style=\"color:rgb(251,154,153)\">met twee extraordinaris Gedeputeerden uyt de Provincie van Gelderlandt</span> .  <span style=\"color:rgb(178,223,138)\">Eelbo</span> , vander  <span style=\"color:rgb(178,223,138)\">Dussen</span> , vander  <span style=\"color:rgb(178,223,138)\">Burgh</span> , Raadtpensionaris van Slingelandt.  <span style=\"color:rgb(178,223,138)\">Van Borsselen</span> ,  <span style=\"color:rgb(178,223,138)\">Bout</span> ,  <span style=\"color:rgb(251,154,153)\">met een extraordinaris Gedeputeerde uyt de Provincie van Zeelandt</span> . Sloterdyck.  <span style=\"color:rgb(178,223,138)\">Queisen</span> .<br><hr><br>\n",
       "<h4>session-1730-07-18-num-1</h4>\n",
       "<span style=\"color:rgb(31,120,180)\">Martis den 18. Julie1730.</span> <span style=\"color:rgb(253,191,111)\">PRAESIDE, Den Heere</span> <span style=\"color:rgb(51,160,44)\">van Wassenaer</span> .  <span style=\"color:rgb(227,26,28)\">PRAESENTIBUS</span> , De Heeren van Lynden, van Welderen,  <span style=\"color:rgb(178,223,138)\">Coulman</span> , van Eck tot  <span style=\"color:rgb(178,223,138)\">Nergena</span> ,  <span style=\"color:rgb(251,154,153)\">met twee extraordinaris Gedepateerden uyt de Provincie van Gelderlandt</span> .  <span style=\"color:rgb(178,223,138)\">Eelbo</span> , vander Dassen, vander  <span style=\"color:rgb(178,223,138)\">Burgh</span> .  <span style=\"color:rgb(178,223,138)\">Van Borsselen</span>  ,  <span style=\"color:rgb(251,154,153)\">met een extraordinaris Gedeputeerde uyt de Provincie van Zeelandt</span> . Sloterdyck.  <span style=\"color:rgb(178,223,138)\">Jueisen</span> .DE Resotien, gateren genomen, <br><hr><br>\n",
       "<h4>session-1730-07-19-num-1</h4>\n",
       "<span style=\"color:rgb(31,120,180)\">Mercurii den 19, Jusdii1730.</span> <span style=\"color:rgb(253,191,111)\">PRAESIDE, Den Heere</span> <span style=\"color:rgb(51,160,44)\">van Wassenaer</span> .  <span style=\"color:rgb(227,26,28)\">PRAESENTIBUS</span> , De Heeren van Lynden , van Welderen,  <span style=\"color:rgb(178,223,138)\">Coulman</span> , van Eck tot  <span style=\"color:rgb(178,223,138)\">Nergena</span> ,  <span style=\"color:rgb(251,154,153)\">met een extraordinaris Gedeputeerde uyt de Provincie van Gelderlandt</span> . Le Leu de  <span style=\"color:rgb(178,223,138)\">Wilhem</span> .  <span style=\"color:rgb(178,223,138)\">Van Borsselen</span>  ,  <span style=\"color:rgb(178,223,138)\">Bout</span> ,  <span style=\"color:rgb(251,154,153)\">met een extraordinaris Gedeputeerde uyt de Provincie van Zeelandt</span> . Sloterdyck.  <span style=\"color:rgb(178,223,138)\">Vueisen</span> .DE Resolutien, gisteren genmen, <br><hr><br>\n",
       "<h4>session-1730-07-20-num-1</h4>\n",
       "<span style=\"color:rgb(31,120,180)\">Jovis den 20 Julia1730.</span> <span style=\"color:rgb(253,191,111)\">PRAESIDE, Den Heere</span> <span style=\"color:rgb(51,160,44)\">van Wassenaer</span> .  <span style=\"color:rgb(227,26,28)\">PRAESENTIBUS</span> , De Heeren van Lynden, Biel,  <span style=\"color:rgb(178,223,138)\">Coulman</span> , van Eck tot  <span style=\"color:rgb(178,223,138)\">Nergena</span> ,  <span style=\"color:rgb(251,154,153)\">met twee extraordinaris Gedeputeerden uyt de Provincie van Gelderlandt</span> . Le Leu de  <span style=\"color:rgb(178,223,138)\">Wilhem</span>  , Raadtpensionaris van Slingelandt.  <span style=\"color:rgb(178,223,138)\">Van Borsselen</span> ,  <span style=\"color:rgb(178,223,138)\">Bout</span> . Sloterdyck.  <span style=\"color:rgb(178,223,138)\">Queisen</span> .DE Resotutien, gisteren genomen, <br><hr><br>\n",
       "<h4>session-1730-07-21-num-1</h4>\n",
       "<span style=\"color:rgb(31,120,180)\">Veneris den 21. Judii 1730.</span> <span style=\"color:rgb(253,191,111)\">DPDRAESIDE, Den Heere</span> <span style=\"color:rgb(51,160,44)\">van Wassenaer</span> .  <span style=\"color:rgb(227,26,28)\">PRAESENTIBUS</span> . De Heeren van Lynden, Biel,  <span style=\"color:rgb(178,223,138)\">Coulman</span> , van Eck tot  <span style=\"color:rgb(178,223,138)\">Nergena</span> ,  <span style=\"color:rgb(251,154,153)\">met drie extraordinaris Gedeputeerden uyt de Provincie van Gelderlandt</span> . Le Leu de  <span style=\"color:rgb(178,223,138)\">Wilhem</span> , vander  <span style=\"color:rgb(178,223,138)\">Burgh</span> , Raadtpensionaris van Slingelandt.  <span style=\"color:rgb(178,223,138)\">Van Borsselen</span> ,  <span style=\"color:rgb(178,223,138)\">Bout</span> , Noey. Sleter lyck. DE Resolutien gisteren, genomen, <br><hr><br>\n",
       "<h4>session-1730-07-22-num-1</h4>\n",
       "<br><hr><br>\n",
       "<h4>session-1730-07-24-num-1</h4>\n",
       "<span style=\"color:rgb(31,120,180)\">Dominica den 23. Julii 1730. Nibil actum est. Luns den 24. Julin1730.</span> <span style=\"color:rgb(253,191,111)\">PRAESIDE, Den Heere</span> <span style=\"color:rgb(51,160,44)\">Bout</span> .  <span style=\"color:rgb(227,26,28)\">PRAZSENTIBUS</span> , De Heeren van Lynden, van Welderen, Biel ,  <span style=\"color:rgb(178,223,138)\">Coulman</span> ,  <span style=\"color:rgb(251,154,153)\">met twee extraordinaris Gedeputeerden uyt de Provincie van Gelderlandt</span> .  <span style=\"color:rgb(178,223,138)\">Vun Wassenaer</span> , vander  <span style=\"color:rgb(178,223,138)\">Dussen</span> , vander  <span style=\"color:rgb(178,223,138)\">Marck</span> , vande  <span style=\"color:rgb(178,223,138)\">Poll</span> , Raadtpensionaris van Slingelandt.  <span style=\"color:rgb(251,154,153)\">Een extraordinaris Gedeputeerde uyt de Provincie van Zeelandt</span> .  <span style=\"color:rgb(178,223,138)\">Milan</span> <span style=\"color:rgb(178,223,138)\">Visconti</span> . Sloterdyck.  <span style=\"color:rgb(178,223,138)\">Vueisen</span> .<br><hr><br>\n",
       "<h4>session-1730-07-25-num-1</h4>\n",
       "<span style=\"color:rgb(31,120,180)\">Martis den 25. Juli1730.</span> <span style=\"color:rgb(253,191,111)\">PRAESIDE, Den Heere</span> <span style=\"color:rgb(51,160,44)\">Bout</span> .  <span style=\"color:rgb(227,26,28)\">PFRAESENTIBUS</span> , De Hegren van Lynden, van Welderen, Biel,  <span style=\"color:rgb(178,223,138)\">Coulman</span>  ,  <span style=\"color:rgb(251,154,153)\">met drie extraordinaris Gedeputeerden uyt de Provincie van Gelderlandt</span> . Vander  <span style=\"color:rgb(178,223,138)\">Marck</span> , vander  <span style=\"color:rgb(178,223,138)\">Ramhorst</span> , Raadtpensionaris van Slingelandt. Noey,  <span style=\"color:rgb(251,154,153)\">met een extraordinaris Gedeputeerde uyt de Provincie van Zeelandt</span> .  <span style=\"color:rgb(178,223,138)\">Milan</span> <span style=\"color:rgb(178,223,138)\">Visconti</span> . Sloterdyck. Qucisen.DE Resolurien, gnteren genomen, <br><hr><br>\n",
       "<h4>session-1730-07-26-num-1</h4>\n",
       "<span style=\"color:rgb(31,120,180)\">Mercurii den 26, Julii 1730.</span> <span style=\"color:rgb(253,191,111)\">PRAESIDE, Den Heere</span> <span style=\"color:rgb(51,160,44)\">Bout</span> .  <span style=\"color:rgb(227,26,28)\">PRAESENFIBUS</span> , De Heeren van Lynden , Biel,  <span style=\"color:rgb(178,223,138)\">Coulman</span> ,  <span style=\"color:rgb(251,154,153)\">met een extraordinaris Gedeputeerde uyt de Provincie van Gelderlandt</span> . Vander  <span style=\"color:rgb(178,223,138)\">Marck</span> , vander  <span style=\"color:rgb(178,223,138)\">Ramhorst</span> .  <span style=\"color:rgb(251,154,153)\">Een extraordinaris Gedeputeerde uyt de Provincie van Zeelandt</span> .  <span style=\"color:rgb(178,223,138)\">Milan</span> <span style=\"color:rgb(178,223,138)\">Visconti</span> . Sloterdyck.  <span style=\"color:rgb(178,223,138)\">Jueisen</span> .DE Resolutien, gisteren gencmen, <br><hr><br>\n",
       "<h4>session-1730-07-27-num-1</h4>\n",
       "<span style=\"color:rgb(31,120,180)\">Jovis den 27. Julii1730.</span> <span style=\"color:rgb(253,191,111)\">PRAESIDE, Den Heere</span> <span style=\"color:rgb(51,160,44)\">Bout</span> <span style=\"color:rgb(227,26,28)\">PRAESENTIBUS</span> , De Heeren van Lynden, van Welderen,  <span style=\"color:rgb(178,223,138)\">Coulman</span> ,  <span style=\"color:rgb(251,154,153)\">met twee extraordinaris Gedeputeerden uyt de Provincie van Gelderlandt</span> .  <span style=\"color:rgb(178,223,138)\">Van Wassenaer</span> , vander  <span style=\"color:rgb(178,223,138)\">Marck</span> , van Helsdingen, vander  <span style=\"color:rgb(178,223,138)\">Ramborst</span> .  <span style=\"color:rgb(251,154,153)\">Een extraordinaris Gedeputeerde uyt de Prowincie van Zeelandt</span> .  <span style=\"color:rgb(178,223,138)\">Milan</span> <span style=\"color:rgb(178,223,138)\">Visconti</span> . Sloterdyck.  <span style=\"color:rgb(178,223,138)\">Oueisen</span> . DE Resrorutien, gneeren genomen, <br><hr><br>\n",
       "<h4>session-1730-07-28-num-1</h4>\n",
       "<span style=\"color:rgb(31,120,180)\">Veneris den 28. Julri1730.</span> <span style=\"color:rgb(253,191,111)\">PRAESIDE, Den Heere</span> <span style=\"color:rgb(51,160,44)\">Bout</span> <span style=\"color:rgb(227,26,28)\">PRAESENTIBUS</span> . De Heeren van Lynden, van Welderen,  <span style=\"color:rgb(178,223,138)\">Coulman</span> .  <span style=\"color:rgb(178,223,138)\">Van Wassenaer</span> , vander  <span style=\"color:rgb(178,223,138)\">Marck</span> , vander  <span style=\"color:rgb(178,223,138)\">Ramhorst</span> , Raadtpensionaris van Slingelandt.  <span style=\"color:rgb(251,154,153)\">Een extraordinaris Gedeputeerde uyt de Provincie van Zeelandt</span> .  <span style=\"color:rgb(178,223,138)\">Milan</span> <span style=\"color:rgb(178,223,138)\">Visconti</span> . Sloterdyck.DE Resolutien gisteren, genomen, <br><hr><br>\n",
       "<h4>session-1730-07-29-num-1</h4>\n",
       "<span style=\"color:rgb(31,120,180)\">Sabbathi den 29. Judii1730.</span> <span style=\"color:rgb(253,191,111)\">PRAEZESIDE, Den Heere</span> <span style=\"color:rgb(51,160,44)\">Bout</span> .  <span style=\"color:rgb(227,26,28)\">PRAESENTIBUS</span> , De Heeren van Lynden,  <span style=\"color:rgb(178,223,138)\">Coulman</span> .  <span style=\"color:rgb(178,223,138)\">Van H'assenaer</span> , vander  <span style=\"color:rgb(178,223,138)\">Dussen</span> , vander  <span style=\"color:rgb(178,223,138)\">Marck</span> , vander  <span style=\"color:rgb(178,223,138)\">Ramhorst</span> , Raadtpensionaris van Slingelandt.  <span style=\"color:rgb(251,154,153)\">Een extraordinaris Gedeputeerde uyt de Provincie van Zeelandt</span> .  <span style=\"color:rgb(178,223,138)\">Milan</span> <span style=\"color:rgb(178,223,138)\">Visconti</span> . Sloterdyck.DE Resolutie, gisteren genomen, <br><hr><br>\n",
       "<h4>session-1730-07-31-num-1</h4>\n",
       "<span style=\"color:rgb(31,120,180)\">Dominica den 30. Julin1730. Mibil actum est. Luna den 31. Judis1730.</span> <span style=\"color:rgb(253,191,111)\">PRAESIDE, Den Heere</span> <span style=\"color:rgb(51,160,44)\">Milan Visconti</span> .  <span style=\"color:rgb(227,26,28)\">PRAESENTIBUS</span> , De Heeren van Lynden ,  <span style=\"color:rgb(251,154,153)\">met een extraordinaris Gedeputeerde uyt de Provincie Van Gelderlandt</span> .  <span style=\"color:rgb(178,223,138)\">Van Wassenaer</span> , vander  <span style=\"color:rgb(178,223,138)\">Burgb</span> , wander  <span style=\"color:rgb(178,223,138)\">Ramhorst</span> , Raadtpensionaris van Slingelandt.  <span style=\"color:rgb(178,223,138)\">Bout</span> , Noey,  <span style=\"color:rgb(251,154,153)\">met een extraordinaris Gedeputeerde uyt de Provincie van Zeelandt</span> . Sloterdyck.<br><hr><br>\n",
       "<h4>session-1730-08-01-num-1</h4>\n",
       "<span style=\"color:rgb(31,120,180)\">Martis den 1. Augusti1730.</span> <span style=\"color:rgb(253,191,111)\">PRAESIDE, Den Heere</span> <span style=\"color:rgb(51,160,44)\">Milan Visconti</span> .  <span style=\"color:rgb(227,26,28)\">PRAESENTIBUS</span> ,, De Heeren van Lynden.  <span style=\"color:rgb(178,223,138)\">Van Hassenaer</span> ,  <span style=\"color:rgb(178,223,138)\">Eelbo</span> , vander  <span style=\"color:rgb(178,223,138)\">Marck</span> , vander  <span style=\"color:rgb(178,223,138)\">Ramhorst</span>  , Raadtpensionaris van Slingelandt.  <span style=\"color:rgb(178,223,138)\">Bout</span> ,  <span style=\"color:rgb(251,154,153)\">met een extraordinaris Gedeputeerde uyt de Provincie van Zeelandt</span> . Sloterdyck.DE Resorutien, gisteren genomen, <br><hr><br>\n",
       "<h4>session-1730-08-03-num-1</h4>\n",
       "<span style=\"color:rgb(31,120,180)\">1730.</span> <span style=\"color:rgb(253,191,111)\">PRAZESIDE, Den Heere</span> <span style=\"color:rgb(51,160,44)\">Milan Visconti</span> .  <span style=\"color:rgb(227,26,28)\">PRAESENTIBUS</span> , De Heeren van Lynden.  <span style=\"color:rgb(178,223,138)\">Van Wassenaer</span> , vander  <span style=\"color:rgb(178,223,138)\">Dussen</span> , vander  <span style=\"color:rgb(178,223,138)\">Marck</span> , vande  <span style=\"color:rgb(178,223,138)\">Poll</span>  , vander  <span style=\"color:rgb(178,223,138)\">Burgb</span>  , vander  <span style=\"color:rgb(178,223,138)\">Ramborst</span> , Raadtpensionaris van Slingelandt.  <span style=\"color:rgb(178,223,138)\">Bout</span>  ,  <span style=\"color:rgb(251,154,153)\">met een extraordinaris Gedeputeerde uyt de Provincie van Zeelandt</span> . Sloterdyck.  <span style=\"color:rgb(178,223,138)\">Van Berchuys</span> .DE Resorutien, giiteren genomen, <br><hr><br>\n",
       "<h4>session-1730-08-04-num-1</h4>\n",
       "<span style=\"color:rgb(31,120,180)\">Veneris den 4. SAdugusti1730.</span> <span style=\"color:rgb(253,191,111)\">PRAESIDE, Den Heere</span> <span style=\"color:rgb(51,160,44)\">Milan Visconti</span> .  <span style=\"color:rgb(227,26,28)\">PRAESENTIBUS</span> , De Heeren  <span style=\"color:rgb(178,223,138)\">Essenius</span> .  <span style=\"color:rgb(178,223,138)\">Van Wassenaer</span> , vander  <span style=\"color:rgb(178,223,138)\">Dussen</span> , vander  <span style=\"color:rgb(178,223,138)\">Ramhorst</span> , Raadtpensienaris van Slingelandt.  <span style=\"color:rgb(178,223,138)\">Bout</span> ,  <span style=\"color:rgb(251,154,153)\">met een extraordinaris Gedeputeerde uyt de Provincie van Zeelandt</span> . Sloterdyck.  <span style=\"color:rgb(178,223,138)\">Van Berghuys</span> .DE Resolutien gisteren, genomen, <br><hr><br>\n",
       "<h4>session-1730-08-07-num-1</h4>\n",
       "<span style=\"color:rgb(31,120,180)\">Dominica den 6. Augusti1730. Nihil actum est.Luna den 7. Sugusti1730.</span> <span style=\"color:rgb(253,191,111)\">PRAESIDE, Den Heere</span> <span style=\"color:rgb(51,160,44)\">vander Waayen</span> .  <span style=\"color:rgb(227,26,28)\">PRAESENTIEUS</span> , De Heeren van J'elderen,  <span style=\"color:rgb(178,223,138)\">Essenius</span> . Vander  <span style=\"color:rgb(178,223,138)\">Marck</span> , vande  <span style=\"color:rgb(178,223,138)\">Poll</span> , vander  <span style=\"color:rgb(178,223,138)\">Burgh</span> , vander  <span style=\"color:rgb(178,223,138)\">Ramhorst</span> , Raadtpensionaris van Slingelandt.  <span style=\"color:rgb(178,223,138)\">Bout</span> , Noey,  <span style=\"color:rgb(251,154,153)\">met een extraordinaris Gedeputeerde uyt de Pruvincie van Zeelandt</span> . De  <span style=\"color:rgb(178,223,138)\">Milan</span> <span style=\"color:rgb(178,223,138)\">Visconti</span> ,  <span style=\"color:rgb(178,223,138)\">Becker</span> .  <span style=\"color:rgb(178,223,138)\">Van Rechteren</span> .  <span style=\"color:rgb(178,223,138)\">Van Berghuys</span> .<br><hr><br>\n",
       "<h4>session-1730-08-08-num-1</h4>\n",
       "<span style=\"color:rgb(31,120,180)\">Martis den 8. Augusti1730.</span> <span style=\"color:rgb(253,191,111)\">PRAESIDE, Den Heere</span> <span style=\"color:rgb(51,160,44)\">vander Waayen</span> .  <span style=\"color:rgb(227,26,28)\">PRAESENTIBU</span> ;,De Heeren van Welderen,  <span style=\"color:rgb(178,223,138)\">Essenius</span> . Pander  <span style=\"color:rgb(178,223,138)\">Marck</span> , vande  <span style=\"color:rgb(178,223,138)\">Poll</span> , vander  <span style=\"color:rgb(178,223,138)\">Ramhorst</span> , Raadtpenfionaris van Slingelandt.  <span style=\"color:rgb(178,223,138)\">Bout</span> ,  <span style=\"color:rgb(251,154,153)\">met een extraordinaris Gedeputeerde uyt de Provincie van Zeelandt</span> . De  <span style=\"color:rgb(178,223,138)\">Milan</span> <span style=\"color:rgb(178,223,138)\">Visconti</span> ,  <span style=\"color:rgb(178,223,138)\">Becker</span> .  <span style=\"color:rgb(178,223,138)\">Van Berghuys</span> .DE Nesosutien, gisteren genomen, <br><hr><br>\n",
       "<h4>session-1730-08-09-num-1</h4>\n",
       "<br><hr><br>\n",
       "<h4>session-1730-08-10-num-1</h4>\n",
       "<span style=\"color:rgb(31,120,180)\">Jovis den 10. Augusti 1730.</span> <span style=\"color:rgb(253,191,111)\">PRAEYTDE) Den Heere</span> <span style=\"color:rgb(51,160,44)\">vander Waayen</span> .  <span style=\"color:rgb(227,26,28)\">PRAESEXRTIBUS</span> , De Heeren  <span style=\"color:rgb(178,223,138)\">Essenius</span> .  <span style=\"color:rgb(178,223,138)\">Van Wassenaer</span> , vander  <span style=\"color:rgb(178,223,138)\">Dussen</span> , vander  <span style=\"color:rgb(178,223,138)\">Marck</span> , vander  <span style=\"color:rgb(178,223,138)\">Ramborst</span> .  <span style=\"color:rgb(178,223,138)\">Bout</span>  ,  <span style=\"color:rgb(251,154,153)\">met een extraordinaris Gedeputeerde uyt de Provincie van Zeelandt</span> . De  <span style=\"color:rgb(178,223,138)\">Milan</span> <span style=\"color:rgb(178,223,138)\">Visconti</span> .  <span style=\"color:rgb(178,223,138)\">Van Berchuys</span> .<br><hr><br>\n",
       "<h4>session-1730-08-11-num-1</h4>\n",
       "<span style=\"color:rgb(31,120,180)\">Veneris den 11, Sugusti 1730.</span> <span style=\"color:rgb(253,191,111)\">PRAESIDE, Den Heere</span> <span style=\"color:rgb(51,160,44)\">vander Waayen</span> .  <span style=\"color:rgb(227,26,28)\">PRAESENTIBUS</span> ., De Heeren van Welderen,  <span style=\"color:rgb(178,223,138)\">Essenius</span> .  <span style=\"color:rgb(178,223,138)\">Van Wassenaer</span> , vander  <span style=\"color:rgb(178,223,138)\">Dussen</span> , vander  <span style=\"color:rgb(178,223,138)\">Marck</span> , vander  <span style=\"color:rgb(178,223,138)\">Ramhorst</span> , Raadtpensienaris van Slingelandt.  <span style=\"color:rgb(178,223,138)\">Bout</span> ,  <span style=\"color:rgb(251,154,153)\">met een extraordinaris Gedeputeerde uyt de Provincie van Zeelandt</span> . De  <span style=\"color:rgb(178,223,138)\">Milan</span> <span style=\"color:rgb(178,223,138)\">Visconti</span> .  <span style=\"color:rgb(178,223,138)\">Van Berghuys</span> .DE Nesolutien gisteren, genomen, <br><hr><br>\n",
       "<h4>session-1730-08-12-num-1</h4>\n",
       "<br><hr><br>\n",
       "<h4>session-1730-08-14-num-1</h4>\n",
       "<span style=\"color:rgb(31,120,180)\">1730. Mihil actum est. Luna den 14. SHugusti1730.</span> <span style=\"color:rgb(253,191,111)\">PRAESIDE, Den Heere</span> <span style=\"color:rgb(51,160,44)\">van Haarsoilte</span> <span style=\"color:rgb(227,26,28)\">PRAZSENTIBUS</span> , De Heeren van lvelderen,  <span style=\"color:rgb(178,223,138)\">Essenius</span> .  <span style=\"color:rgb(178,223,138)\">Van Wassenaer</span> .  <span style=\"color:rgb(178,223,138)\">Bout</span> ,  <span style=\"color:rgb(251,154,153)\">met een extraordinaris Gedeputeerde uyt de Provincie van Zeelandt</span> . De  <span style=\"color:rgb(178,223,138)\">Milan</span> <span style=\"color:rgb(178,223,138)\">Visconti</span> . Vander Waayen.  <span style=\"color:rgb(178,223,138)\">Van Berghuys</span> .DAE Resolutien eergnteren genomen, <br><hr><br>\n",
       "<h4>session-1730-08-15-num-1</h4>\n",
       "<span style=\"color:rgb(31,120,180)\">Martis den 15, Augusti1730</span> <span style=\"color:rgb(253,191,111)\">PRAESIDE, Den Heere</span> <span style=\"color:rgb(51,160,44)\">van Haarsolte</span> .  <span style=\"color:rgb(227,26,28)\">PRAESENs5DIB</span>  US, De Heeren van Welderen,  <span style=\"color:rgb(178,223,138)\">Bssenius</span> .  <span style=\"color:rgb(178,223,138)\">Van Wassenaer</span>  , vquder  <span style=\"color:rgb(178,223,138)\">Ramborst</span> .  <span style=\"color:rgb(178,223,138)\">Bout</span> ,  <span style=\"color:rgb(251,154,153)\">met een (Xmradinaris Gedeputeerde uyt de Provincit van Zeelandt</span> . De  <span style=\"color:rgb(178,223,138)\">Milan</span> <span style=\"color:rgb(178,223,138)\">Visconti</span> . Vander Waayen.  <span style=\"color:rgb(178,223,138)\">Van Berghuys</span> .<br><hr><br>\n",
       "<h4>session-1730-08-16-num-1</h4>\n",
       "<span style=\"color:rgb(31,120,180)\">Mercurai den 16, Augusti1730.</span> <span style=\"color:rgb(227,26,28)\">PRA 8 JDE, Den Heere</span> <span style=\"color:rgb(51,160,44)\">van Haarsolte</span> .  <span style=\"color:rgb(251,154,153)\">PRAESENTIEBUS</span> , De Heeren van Hv elderen,  <span style=\"color:rgb(178,223,138)\">Essenius</span> .  <span style=\"color:rgb(178,223,138)\">Van Wassenaer</span> , vander  <span style=\"color:rgb(178,223,138)\">Ramhorst</span> .  <span style=\"color:rgb(178,223,138)\">Bout</span> . De  <span style=\"color:rgb(178,223,138)\">Milan</span> <span style=\"color:rgb(178,223,138)\">Visconti</span> . Vander Waayen.  <span style=\"color:rgb(178,223,138)\">Van Berghuys</span> .<br><hr><br>\n",
       "<h4>session-1730-08-17-num-1</h4>\n",
       "<span style=\"color:rgb(31,120,180)\">Jovis den 17. Augusti1730.</span> <span style=\"color:rgb(227,26,28)\">PRAESIDE, Den Heere</span> <span style=\"color:rgb(51,160,44)\">van Haarsolte</span> .  <span style=\"color:rgb(251,154,153)\">PRAESENTIBUS</span> , De Heeren van Welderen,  <span style=\"color:rgb(178,223,138)\">Essenius</span> .  <span style=\"color:rgb(178,223,138)\">Van Wassenaer</span> , vande  <span style=\"color:rgb(178,223,138)\">Poll</span> , vander  <span style=\"color:rgb(178,223,138)\">Ramborst</span> .  <span style=\"color:rgb(178,223,138)\">Bout</span> . De  <span style=\"color:rgb(178,223,138)\">Milan</span> <span style=\"color:rgb(178,223,138)\">Visconti</span> . Vander Waayen.  <span style=\"color:rgb(178,223,138)\">Van Berchuys</span> .DE Nesorutien, gisteren genomen, <br><hr><br>\n",
       "<h4>session-1730-08-18-num-1</h4>\n",
       "<span style=\"color:rgb(31,120,180)\">1730.</span> <span style=\"color:rgb(227,26,28)\">DRAASTODE, Den Heere</span> <span style=\"color:rgb(51,160,44)\">van Haarsolte</span> .  <span style=\"color:rgb(251,154,153)\">PRAESENTIBUS</span> , De Heeren van Welderen,  <span style=\"color:rgb(178,223,138)\">Essenius</span> .  <span style=\"color:rgb(178,223,138)\">Van Wassenaer</span> , vander  <span style=\"color:rgb(178,223,138)\">Dussen</span> , vander  <span style=\"color:rgb(178,223,138)\">Marck</span> , vande  <span style=\"color:rgb(178,223,138)\">Poll</span> , vander  <span style=\"color:rgb(178,223,138)\">Ramhorst</span> . Beur, Noey. De  <span style=\"color:rgb(178,223,138)\">Milan</span> <span style=\"color:rgb(178,223,138)\">Visconti</span> . Vaander Waayen.  <span style=\"color:rgb(178,223,138)\">Van Berghuys</span> .<br><hr><br>\n",
       "<h4>session-1730-08-19-num-1</h4>\n",
       "<span style=\"color:rgb(166,206,227)\"></span> 1730. PRADSIDE, Den Heere van HaarsoltePRAESENTIBUS, De Heeren van Welderen. Vander  <span style=\"color:rgb(31,120,180)\">Marck</span> , vander  <span style=\"color:rgb(31,120,180)\">Ramhborst</span> .  <span style=\"color:rgb(31,120,180)\">Bout</span> . De  <span style=\"color:rgb(31,120,180)\">Milan</span> <span style=\"color:rgb(31,120,180)\">Visconti</span> . Vander YW'aaayen.  <span style=\"color:rgb(31,120,180)\">Van Berghuys</span> .<br><hr><br>\n",
       "<h4>session-1730-08-21-num-1</h4>\n",
       "<span style=\"color:rgb(166,206,227)\"></span> Dominica den 20. Augusti1730. Luna den 21. Sdugwusti1730. PRAESTDE, Den Heere van Berghuys. PRAESENCTHTITBUS, De Heeren van Welderen, Umbgroeven,  <span style=\"color:rgb(31,120,180)\">met twee extraordinaris Gedeputeerden uyt de Provincie van Gelderlandt</span> <span style=\"color:rgb(31,120,180)\">met twee extraordinaris Gedeputeerden uyt de Provincie van Gelderlandt</span> . Vander  <span style=\"color:rgb(178,223,138)\">Ramborst</span> .  <span style=\"color:rgb(178,223,138)\">Bout</span> . De  <span style=\"color:rgb(178,223,138)\">Milan</span> <span style=\"color:rgb(178,223,138)\">Visconti</span> . Vander Waayen.  <span style=\"color:rgb(178,223,138)\">Van Haarsolte</span> DE NN, luuen eergisteren genomen, <br><hr><br>\n",
       "<h4>session-1730-08-22-num-1</h4>\n",
       "<span style=\"color:rgb(31,120,180)\">Martis den 22. Augusti1730.</span> <span style=\"color:rgb(253,191,111)\">PRAESIDE,; Den Heere</span> <span style=\"color:rgb(51,160,44)\">van Berghuys</span> .  <span style=\"color:rgb(227,26,28)\">PRAESENTIBUS</span> , De Heeren Ombgrveven,  <span style=\"color:rgb(251,154,153)\">met twee extraordinaris Gedeputeerden uyt de Provincie van Gelderlandt</span> .  <span style=\"color:rgb(178,223,138)\">Van Wassenaer</span> , vanden Boetzelaar, vander  <span style=\"color:rgb(178,223,138)\">Marck</span> , vande  <span style=\"color:rgb(178,223,138)\">Poll</span> , vander  <span style=\"color:rgb(178,223,138)\">Ramborst</span> .  <span style=\"color:rgb(178,223,138)\">Bout</span> , Nuey. De  <span style=\"color:rgb(178,223,138)\">Milan</span> <span style=\"color:rgb(178,223,138)\">Visconti</span> . Vander Wi aayen. Van Haarsoslte.DEE Resolutie, , gneeren genomen, <br><hr><br>\n",
       "<h4>session-1730-08-23-num-1</h4>\n",
       "<span style=\"color:rgb(31,120,180)\">Mercurii den 23, Augusti1730.</span> <span style=\"color:rgb(227,26,28)\">PRAESTDE, Den Heere</span> <span style=\"color:rgb(51,160,44)\">van Berghuys</span> .  <span style=\"color:rgb(251,154,153)\">PRAESENTIBUES</span> , De Heeren Umihgroeven.  <span style=\"color:rgb(178,223,138)\">Van Wassenaer</span> , vanden Boetzelaar, vander  <span style=\"color:rgb(178,223,138)\">Marck</span> , vande  <span style=\"color:rgb(178,223,138)\">Poll</span>  , vander  <span style=\"color:rgb(178,223,138)\">Ramhorst</span> .  <span style=\"color:rgb(178,223,138)\">Van Hoorn</span> . De  <span style=\"color:rgb(178,223,138)\">Milan</span> <span style=\"color:rgb(178,223,138)\">Visconti</span> . Vander Waayen.  <span style=\"color:rgb(178,223,138)\">Van Haarsolte</span> .DE Resosutien, gisteren gencmen, <br><hr><br>\n",
       "<h4>session-1730-08-24-num-1</h4>\n",
       "<span style=\"color:rgb(31,120,180)\">Jovis den 24, Augusti1730</span> <span style=\"color:rgb(253,191,111)\">PRAEZESIDE, Den Heere</span> <span style=\"color:rgb(51,160,44)\">van Berchuys</span> .  <span style=\"color:rgb(227,26,28)\">PRAESENTIBUS</span> , De Heeren Umbgroeven,  <span style=\"color:rgb(251,154,153)\">met een extraordinaris Gedeputeerde uyt de Provincie van Gelderlandt</span> .  <span style=\"color:rgb(178,223,138)\">Van Wassenaer</span> , vander  <span style=\"color:rgb(178,223,138)\">Marck</span> , vander  <span style=\"color:rgb(178,223,138)\">Ramehorst</span> .  <span style=\"color:rgb(178,223,138)\">Bout</span> , van Hoorn. De  <span style=\"color:rgb(178,223,138)\">Milan</span> <span style=\"color:rgb(178,223,138)\">Visconti</span> . Vander Wiaayen. Van Haarsôlte. <br><hr><br>\n",
       "<h4>session-1730-08-25-num-1</h4>\n",
       "<span style=\"color:rgb(31,120,180)\">1730.</span> <span style=\"color:rgb(227,26,28)\">PRAESIDE, Den Heere</span> <span style=\"color:rgb(51,160,44)\">van Berghuys</span> .  <span style=\"color:rgb(251,154,153)\">PRAESENTIBUS</span> . De Heeren Umbgroeven. Vander  <span style=\"color:rgb(178,223,138)\">Marck</span> , vander  <span style=\"color:rgb(178,223,138)\">Ramhorst</span> .  <span style=\"color:rgb(178,223,138)\">Van Hoorn</span> . De  <span style=\"color:rgb(178,223,138)\">Milan</span> <span style=\"color:rgb(178,223,138)\">Visconti</span> . Vander YWaayen.  <span style=\"color:rgb(178,223,138)\">Van Haarsolte</span> .DE Resolutien gisteren, genomen, <br><hr><br>\n",
       "<h4>session-1730-08-26-num-1</h4>\n",
       "<span style=\"color:rgb(31,120,180)\">Sabbathi den 26. Augusti1730.</span> <span style=\"color:rgb(253,191,111)\">PRAESIDE, Den Heere</span> <span style=\"color:rgb(51,160,44)\">van Berchuys</span> .  <span style=\"color:rgb(227,26,28)\">PRAESENTIBUS</span> , De Heeren Umbgroeve,  <span style=\"color:rgb(251,154,153)\">met een extraordinaris Gedeputeerde uyt de Provincie van Gelderlandt</span> .  <span style=\"color:rgb(178,223,138)\">Van Wassenaer</span> , vander  <span style=\"color:rgb(178,223,138)\">Marck</span> , vander  <span style=\"color:rgb(178,223,138)\">Ramborst</span> .  <span style=\"color:rgb(178,223,138)\">Van Hoorn</span> . De  <span style=\"color:rgb(178,223,138)\">Milan</span> <span style=\"color:rgb(178,223,138)\">Visconti</span> . Vander HWiaayen.  <span style=\"color:rgb(178,223,138)\">Van Haarsolte</span> DE Resolutie , gisteren genomen, <br><hr><br>\n",
       "<h4>session-1730-08-28-num-1</h4>\n",
       "<span style=\"color:rgb(31,120,180)\">Dominica den 27. Augusti1730. MNihil actum est. Luna den 28. Augustu1730.</span> <span style=\"color:rgb(253,191,111)\">PRAESIDE, Den Heere</span> <span style=\"color:rgb(51,160,44)\">van Lynden</span> .  <span style=\"color:rgb(227,26,28)\">PRAERSENTIBUS</span> , De Heeren Umbgroeve,  <span style=\"color:rgb(251,154,153)\">met een extraordinaris Gedeputeerde uyt de Provincie van Gelderlandt</span> .  <span style=\"color:rgb(178,223,138)\">Van Wassenaer</span> , vande  <span style=\"color:rgb(178,223,138)\">Poll</span> , vander  <span style=\"color:rgb(178,223,138)\">Burgh</span> , vander  <span style=\"color:rgb(178,223,138)\">Ramhorst</span> .  <span style=\"color:rgb(178,223,138)\">Bout</span> , van Hoorn. De  <span style=\"color:rgb(178,223,138)\">Milan</span> <span style=\"color:rgb(178,223,138)\">Visconti</span> . Vander Waayen.  <span style=\"color:rgb(178,223,138)\">Van Haarsolte</span> .  <span style=\"color:rgb(178,223,138)\">Van Berchuys</span> .<br><hr><br>\n",
       "<h4>session-1730-08-29-num-1</h4>\n",
       "<span style=\"color:rgb(31,120,180)\">Martis den 29. Augusti1730.</span> <span style=\"color:rgb(253,191,111)\">PRAESIDE, Den Heere</span> <span style=\"color:rgb(51,160,44)\">van Lynden</span> .  <span style=\"color:rgb(227,26,28)\">PRAESENTIBUS</span> , De Heeren Umbgroeve,  <span style=\"color:rgb(251,154,153)\">met twee extraordinaris Gedeputeerden uyt de Provincie van Gelderlandt</span> .  <span style=\"color:rgb(178,223,138)\">Van Wassenaer</span> ,  <span style=\"color:rgb(178,223,138)\">Eelbo</span> , vander  <span style=\"color:rgb(178,223,138)\">Marck</span> , vander  <span style=\"color:rgb(178,223,138)\">Burgh</span> , vander  <span style=\"color:rgb(178,223,138)\">Ramborst</span> .  <span style=\"color:rgb(178,223,138)\">Bout</span> , van Hoorn. De  <span style=\"color:rgb(178,223,138)\">Milan</span> <span style=\"color:rgb(178,223,138)\">Visconti</span> . Vander Waauyen.  <span style=\"color:rgb(178,223,138)\">Van Haarsolte</span> .  <span style=\"color:rgb(178,223,138)\">Van Berchuys</span> .DE Resolsutien, gisteren genomen, <br><hr><br>\n",
       "<h4>session-1730-08-30-num-1</h4>\n",
       "<span style=\"color:rgb(31,120,180)\">Mercurii den 30, Augusti1730.</span> <span style=\"color:rgb(253,191,111)\">PRAESIDE, Den Heere</span> <span style=\"color:rgb(51,160,44)\">van Lynden</span> .  <span style=\"color:rgb(227,26,28)\">PRAZSENTIBU.S</span> , De Heeren Umbgroeve,  <span style=\"color:rgb(251,154,153)\">met een extraordinaris Gedeputeerde uyt de Provincie van Gelderlandt</span> .  <span style=\"color:rgb(178,223,138)\">Van Wassenaer</span> , vander  <span style=\"color:rgb(178,223,138)\">Marck</span> , vander  <span style=\"color:rgb(178,223,138)\">Burgh</span> , vander  <span style=\"color:rgb(178,223,138)\">Rambhorst</span> .  <span style=\"color:rgb(178,223,138)\">Van Hoorn</span> . De  <span style=\"color:rgb(178,223,138)\">Milan</span> <span style=\"color:rgb(178,223,138)\">Visconti</span> . Vander Waayen.  <span style=\"color:rgb(178,223,138)\">Van Haarsolte</span> .  <span style=\"color:rgb(178,223,138)\">Van Berchuys</span> .DE Resolutien, gisteren gencmen, <br><hr><br>\n",
       "<h4>session-1730-08-31-num-1</h4>\n",
       "<span style=\"color:rgb(31,120,180)\">Jovis den 31. Augusti 1730.</span> <span style=\"color:rgb(227,26,28)\">PRAESIDE, Den Heere</span> <span style=\"color:rgb(51,160,44)\">van Lynden</span> .  <span style=\"color:rgb(251,154,153)\">PRAESENTIBUS</span> , De Heeren Umbgroeve.  <span style=\"color:rgb(178,223,138)\">Van Wassenaer</span> , vander  <span style=\"color:rgb(178,223,138)\">Marck</span> , vander  <span style=\"color:rgb(178,223,138)\">Ramborst</span> .  <span style=\"color:rgb(178,223,138)\">Van Hoorn</span> . De  <span style=\"color:rgb(178,223,138)\">Milan</span> <span style=\"color:rgb(178,223,138)\">Visconti</span> . Vander Waayen.  <span style=\"color:rgb(178,223,138)\">Van Berchuys</span> .DE Resosutien, gisteren geno.men, <br><hr><br>\n",
       "<h4>session-1730-09-01-num-1</h4>\n",
       "<span style=\"color:rgb(31,120,180)\">Veneris den 1. September 1730</span> <span style=\"color:rgb(227,26,28)\">PRAESIDE, Den Heere</span> <span style=\"color:rgb(51,160,44)\">van Lynden</span> .  <span style=\"color:rgb(251,154,153)\">PRAESENTIBUS</span> , De Heeren Umbgroeven.  <span style=\"color:rgb(178,223,138)\">Van Wassenaer</span> , vander  <span style=\"color:rgb(178,223,138)\">Marck</span> , vande  <span style=\"color:rgb(178,223,138)\">Poll</span>  , van Hurck, vander  <span style=\"color:rgb(178,223,138)\">Ramhorst</span> , Raadtpensionaris van Slingelandt.  <span style=\"color:rgb(178,223,138)\">Van Hoorn</span> . De  <span style=\"color:rgb(178,223,138)\">Milan</span> <span style=\"color:rgb(178,223,138)\">Visconti</span> . Vander Waayen.  <span style=\"color:rgb(178,223,138)\">Van Berchuys</span> .DE Resorutien guteren, genomen, <br><hr><br>\n",
       "<h4>session-1730-09-02-num-1</h4>\n",
       "<span style=\"color:rgb(31,120,180)\">Sabbathi den 2. September 1730.</span> <span style=\"color:rgb(227,26,28)\">PRAZSIDE, Den Heere</span> <span style=\"color:rgb(51,160,44)\">van Lynden</span> .  <span style=\"color:rgb(251,154,153)\">PRAESENTIBUS</span> , De Heeren Umbgroeve.  <span style=\"color:rgb(178,223,138)\">Van Hurck</span> , vander  <span style=\"color:rgb(178,223,138)\">Ramhorst</span> , Raadtpensionaris van Slingelandt.  <span style=\"color:rgb(178,223,138)\">Van Hoorn</span> . De  <span style=\"color:rgb(178,223,138)\">Milan</span> <span style=\"color:rgb(178,223,138)\">Visconti</span> . Vander Y'aayen.  <span style=\"color:rgb(178,223,138)\">Van Berchuys</span> .DE Resolutie , gisteren genomen, <br><hr><br>\n",
       "<h4>session-1730-09-04-num-1</h4>\n",
       "<span style=\"color:rgb(31,120,180)\">Dominica den 3. September1730. Nibil actum est. Luna den 4. Sept ember1730.</span> <span style=\"color:rgb(227,26,28)\">PRAESIDE, Den Heere</span> <span style=\"color:rgb(51,160,44)\">van Wassenaer</span> .  <span style=\"color:rgb(251,154,153)\">PRAESENTIEUS</span> , De Heeren van Lynden, Umbgroeve, van Holthe.  <span style=\"color:rgb(178,223,138)\">Eelbo</span> , vander  <span style=\"color:rgb(178,223,138)\">Marck</span> , vande  <span style=\"color:rgb(178,223,138)\">Poll</span> , vander  <span style=\"color:rgb(178,223,138)\">Ramhorst</span> , Raadtpensionaris van Slingelandt.  <span style=\"color:rgb(178,223,138)\">Van Hoorn</span> . De  <span style=\"color:rgb(178,223,138)\">Milan</span> <span style=\"color:rgb(178,223,138)\">Visconti</span> . Vander Waayen. Van li'elmuden.  <span style=\"color:rgb(178,223,138)\">Van Berchuys</span> .DE Repidtien ceergnrt eren genomen, <br><hr><br>\n",
       "<h4>session-1730-09-05-num-1</h4>\n",
       "<span style=\"color:rgb(31,120,180)\">Martis den 5. September1730</span> <span style=\"color:rgb(227,26,28)\">PRAESIDE, Den Heere</span> <span style=\"color:rgb(51,160,44)\">van Wassenaer</span> .  <span style=\"color:rgb(251,154,153)\">PRAESENTIBUS</span> , De Heeren van Lynden, Umbgrveve, van Holthe. Vander  <span style=\"color:rgb(178,223,138)\">Dussen</span> , vander  <span style=\"color:rgb(178,223,138)\">Marck</span> , van Hurck,  <span style=\"color:rgb(178,223,138)\">wan Heldingen</span> , vander  <span style=\"color:rgb(178,223,138)\">Ramhorst</span> , Raadtpensionaris van Slingelandt. Noey, van Hoorn. De  <span style=\"color:rgb(178,223,138)\">Milan</span> <span style=\"color:rgb(178,223,138)\">Visconti</span> . Vander Waayen.  <span style=\"color:rgb(178,223,138)\">Van Isselmuden</span> .  <span style=\"color:rgb(178,223,138)\">Van Berchuys</span> .<br><hr><br>\n",
       "<h4>session-1730-09-06-num-1</h4>\n",
       "<span style=\"color:rgb(31,120,180)\">Mercurii den 6. September 1730</span> <span style=\"color:rgb(227,26,28)\">PRAESIDE, Den Heere</span> <span style=\"color:rgb(51,160,44)\">van Wafeenaer</span> .  <span style=\"color:rgb(251,154,153)\">PRAZESENTIPBUS</span> , De Heeren van Lynden, Umbgroeve, van Holthe. Vander  <span style=\"color:rgb(178,223,138)\">Marck</span> , vander  <span style=\"color:rgb(178,223,138)\">Ramhorst</span> , Raadtpensionaris van Slingelandt.  <span style=\"color:rgb(178,223,138)\">Van Hoorn</span> . De  <span style=\"color:rgb(178,223,138)\">Milan</span> <span style=\"color:rgb(178,223,138)\">Visconti</span> . Vander W'aayen.  <span style=\"color:rgb(178,223,138)\">Van lIsselmuden</span> .  <span style=\"color:rgb(178,223,138)\">Van Berchuys</span> .<br><hr><br>\n",
       "<h4>session-1730-09-07-num-1</h4>\n",
       "<span style=\"color:rgb(31,120,180)\">Jovis den 7, September1730.</span> <span style=\"color:rgb(227,26,28)\">PRAESIDE, Den Heere</span> <span style=\"color:rgb(51,160,44)\">van Wassenaer</span> .  <span style=\"color:rgb(251,154,153)\">PRAESENTIBUS</span> , De Heeren van Lynden , Umbgroeve, van Holthe. Vander  <span style=\"color:rgb(178,223,138)\">Marck</span> , vander  <span style=\"color:rgb(178,223,138)\">Ramborst</span> .  <span style=\"color:rgb(178,223,138)\">Van Hoorn</span> . De  <span style=\"color:rgb(178,223,138)\">Milan</span> <span style=\"color:rgb(178,223,138)\">Visconti</span> . Vander Waayen.  <span style=\"color:rgb(178,223,138)\">Van lsselmuden</span> .  <span style=\"color:rgb(178,223,138)\">Van Berchuys</span> .DE Resorutien, gisteren genomen, <br><hr><br>\n",
       "<h4>session-1730-09-08-num-1</h4>\n",
       "<span style=\"color:rgb(31,120,180)\">Veneris den 8. September1730.</span> <span style=\"color:rgb(227,26,28)\">PRAESIDE, Den Hecre</span> <span style=\"color:rgb(51,160,44)\">vander Marck</span> <span style=\"color:rgb(251,154,153)\">PRAZESENTIBUS</span> , De Heeren van Lynden, Umbgroeve, van Holthe. Vander  <span style=\"color:rgb(178,223,138)\">Ramhorst</span> , Raadtpensionaris van Slingelandt. Noey, van Hoorn. De  <span style=\"color:rgb(178,223,138)\">Milan</span> <span style=\"color:rgb(178,223,138)\">Visconti</span> . Vander Waayen.  <span style=\"color:rgb(178,223,138)\">Van lsselmuden</span> .  <span style=\"color:rgb(178,223,138)\">Van Berchuys</span> . DE Resolutien gisteren, genomen, <br><hr><br>\n",
       "<h4>session-1730-09-09-num-1</h4>\n",
       "<span style=\"color:rgb(31,120,180)\">Sabbath den 9. September 1730.</span> <span style=\"color:rgb(227,26,28)\">PRAESIDE, Den Heere</span> <span style=\"color:rgb(51,160,44)\">vander Marck</span> .  <span style=\"color:rgb(251,154,153)\">PRAESENTIBUS</span> , De Heeren van Lynden, Umbgroeve, van Holthe. Vander  <span style=\"color:rgb(178,223,138)\">Ramborst</span> . Noey, van Hoorn. De  <span style=\"color:rgb(178,223,138)\">Milan</span> <span style=\"color:rgb(178,223,138)\">Visconti</span> . Vander Waayen.  <span style=\"color:rgb(178,223,138)\">Van lsselmuden</span> , van Steenbergen.  <span style=\"color:rgb(178,223,138)\">Van Berchuys</span> .DE Resorutien, gitteren gencmen, <br><hr><br>\n",
       "<h4>session-1730-09-11-num-1</h4>\n",
       "<span style=\"color:rgb(31,120,180)\">Dominica den 10. September 1730.Nihil actum est.Luna den 11. September1730.</span> <span style=\"color:rgb(227,26,28)\">PRAESIDE, Den Heere</span> <span style=\"color:rgb(51,160,44)\">Bout</span> .  <span style=\"color:rgb(251,154,153)\">PRAESENTIBUS</span> , De Heeren van Lynden, Umbgroeve, van Houithe.  <span style=\"color:rgb(178,223,138)\">Van Wassenaer</span> , vander  <span style=\"color:rgb(178,223,138)\">Dussen</span> , vander  <span style=\"color:rgb(178,223,138)\">Marck</span> , vander  <span style=\"color:rgb(178,223,138)\">Ramhorst</span> , Raadtpensionaris van Slingelandt. Noey, van Hoorn. De  <span style=\"color:rgb(178,223,138)\">Milan</span> <span style=\"color:rgb(178,223,138)\">Visconti</span> . Vander Waayen. Van l'esmuden, van Sseenbergen.  <span style=\"color:rgb(178,223,138)\">Van Berchuys</span> .<br><hr><br>\n",
       "<h4>session-1730-09-12-num-1</h4>\n",
       "<span style=\"color:rgb(31,120,180)\">Martis den 12. September1730,</span> <span style=\"color:rgb(227,26,28)\">PRAESIDE, Den Heere</span> <span style=\"color:rgb(51,160,44)\">Bout</span> .  <span style=\"color:rgb(251,154,153)\">PRAESENTIBUS</span> , De Heeren van Lynden, van Welderen, Umbgroeve, van Holthe.  <span style=\"color:rgb(178,223,138)\">Van Wassenaer</span> , vander  <span style=\"color:rgb(178,223,138)\">Marck</span> , vander  <span style=\"color:rgb(178,223,138)\">Ramhorst</span> , Raadtpensionaris van Slingelandt. Noey, van Hoorn. De  <span style=\"color:rgb(178,223,138)\">Milan</span> <span style=\"color:rgb(178,223,138)\">Visconti</span> . Vander Yaayen.  <span style=\"color:rgb(178,223,138)\">Van Steenbergen</span> .  <span style=\"color:rgb(178,223,138)\">Van Berchuys</span> .<br><hr><br>\n",
       "<h4>session-1730-09-13-num-1</h4>\n",
       "<span style=\"color:rgb(31,120,180)\">Mercuris den 13. September1730.</span> <span style=\"color:rgb(227,26,28)\">PRAESIDE, Den Heere</span> <span style=\"color:rgb(51,160,44)\">Bout</span> .  <span style=\"color:rgb(251,154,153)\">PRAESENTIBUS</span> , De Heeren van Lynden , van Welderen, Umbgroeve, van Holthe.  <span style=\"color:rgb(178,223,138)\">Van Wassenaer</span> , vanden Boetzelaar, vander  <span style=\"color:rgb(178,223,138)\">Marck</span> , vande  <span style=\"color:rgb(178,223,138)\">Poll</span>  , vander  <span style=\"color:rgb(178,223,138)\">Ramherst</span> , Raadtpensionaris van Slingelandt. Noey, van Hoorn. De  <span style=\"color:rgb(178,223,138)\">Milan</span> <span style=\"color:rgb(178,223,138)\">Visconti</span> . Vander HW'aayen.  <span style=\"color:rgb(178,223,138)\">Van Steenbergen</span> .  <span style=\"color:rgb(178,223,138)\">Van Berchuys</span> .DE Resolunen , gisteren genomen, <br><hr><br>\n",
       "<h4>session-1730-09-14-num-1</h4>\n",
       "<span style=\"color:rgb(31,120,180)\">Jovis den 14. Sepi ember1730.</span> <span style=\"color:rgb(227,26,28)\">PRAESIDE, Den Heere</span> <span style=\"color:rgb(51,160,44)\">Bout</span> .  <span style=\"color:rgb(251,154,153)\">PRAESENTIBUS</span> , De Heeren van Lynden , van Welderen, Umbgroeve, van Holthe.  <span style=\"color:rgb(178,223,138)\">Van Wassenaer</span> , vander  <span style=\"color:rgb(178,223,138)\">Dussen</span> , vander  <span style=\"color:rgb(178,223,138)\">Marck</span> , vande  <span style=\"color:rgb(178,223,138)\">Poll</span> , vander  <span style=\"color:rgb(178,223,138)\">Ramborst</span> , Raadtpensionaris van Slingelandt. Noey, van Hoorn. De  <span style=\"color:rgb(178,223,138)\">Milan</span> <span style=\"color:rgb(178,223,138)\">Visconti</span> . Vander Waayen.  <span style=\"color:rgb(178,223,138)\">Van Steenbergen</span> .  <span style=\"color:rgb(178,223,138)\">Van Berchuys</span> .<br><hr><br>\n",
       "<h4>session-1730-09-15-num-1</h4>\n",
       "<span style=\"color:rgb(31,120,180)\">Veneris den 15. September1730.</span> <span style=\"color:rgb(227,26,28)\">PRAESIDE, Den Heere</span> <span style=\"color:rgb(51,160,44)\">Bout</span> .  <span style=\"color:rgb(251,154,153)\">PRAESENTIBUS</span> . De Heeren van Lynden , van Welderen, Umbgroeve, van Holthe.  <span style=\"color:rgb(178,223,138)\">Van Wassenaer</span> , vander  <span style=\"color:rgb(178,223,138)\">Marck</span> , vander  <span style=\"color:rgb(178,223,138)\">Rambhorst</span> . Noey, van Hoorn. De  <span style=\"color:rgb(178,223,138)\">Milan</span> <span style=\"color:rgb(178,223,138)\">Visconti</span> . Vander Waayen.  <span style=\"color:rgb(178,223,138)\">Van Steenbergen</span> .  <span style=\"color:rgb(178,223,138)\">Van Berchuys</span> .DY Resosuti en guteren, genomen, <br><hr><br>\n",
       "<h4>session-1730-09-16-num-1</h4>\n",
       "<span style=\"color:rgb(31,120,180)\">Sabbathi den 16. September1730.</span> <span style=\"color:rgb(227,26,28)\">PRAESDE, Den Heere</span> <span style=\"color:rgb(51,160,44)\">Bout</span> .  <span style=\"color:rgb(251,154,153)\">PRAESENTIBUS</span> ,, De Heeren van Lynden , van Welderen , Umhgroeve, van Holthe. Vander  <span style=\"color:rgb(178,223,138)\">Marck</span> , vander  <span style=\"color:rgb(178,223,138)\">Ramhorst</span> . Noey. De  <span style=\"color:rgb(178,223,138)\">Milan</span> <span style=\"color:rgb(178,223,138)\">Visconti</span> . Vander Waayen.  <span style=\"color:rgb(178,223,138)\">Van Steenbergen</span> .  <span style=\"color:rgb(178,223,138)\">Van Berchuys</span> .DE RNesolsutien, gitteren gencmen, <br><hr><br>\n",
       "<h4>session-1730-09-18-num-1</h4>\n",
       "<span style=\"color:rgb(31,120,180)\">Dominica den 17. September1730. Nihil actum est.Luna den 18. September1730.</span> <span style=\"color:rgb(227,26,28)\">PRAESITDE, Den Heere</span> <span style=\"color:rgb(51,160,44)\">de Milan Visconti</span> .  <span style=\"color:rgb(251,154,153)\">PRAZSENTIBUS</span> ,, De Heeren van Lynden, Umbgroeve, van Holthe. Vander  <span style=\"color:rgb(178,223,138)\">Dussen</span> , vander  <span style=\"color:rgb(178,223,138)\">Marck</span> , vander  <span style=\"color:rgb(178,223,138)\">Ramhorst</span> , Raadtpensionaris van Slingelandt.  <span style=\"color:rgb(178,223,138)\">Van Hoorn</span> . Vander Waayen, de  <span style=\"color:rgb(178,223,138)\">Kempenaar</span> .  <span style=\"color:rgb(178,223,138)\">Van Steenbergen</span> .  <span style=\"color:rgb(178,223,138)\">Van Berchuys</span> .<br><hr><br>\n",
       "<h4>session-1730-09-19-num-1</h4>\n",
       "<span style=\"color:rgb(31,120,180)\">Martis den 19. Sepi ember1730.</span> <span style=\"color:rgb(227,26,28)\">PRAESIDE, Den Heere</span> <span style=\"color:rgb(51,160,44)\">de Milan Visconti</span> .  <span style=\"color:rgb(251,154,153)\">PRAESENTIBUS</span> , De Heeren van Lynden, van Singendonck, Umbgroeve, van Holthe.  <span style=\"color:rgb(178,223,138)\">Eelbo</span> , vander  <span style=\"color:rgb(178,223,138)\">Dussen</span> , vander  <span style=\"color:rgb(178,223,138)\">Marck</span> , vander  <span style=\"color:rgb(178,223,138)\">Ramborst</span> , Raadtpensionaris van Slingelandt. Noey, van Hoorn. Vander Waayen, de  <span style=\"color:rgb(178,223,138)\">Kempenaer</span> .  <span style=\"color:rgb(178,223,138)\">Van Steenbergen</span> .  <span style=\"color:rgb(178,223,138)\">Van Berchuys</span> .DE Resosutien, gntderen geno<br><hr><br>\n",
       "<h4>session-1730-09-20-num-1</h4>\n",
       "<span style=\"color:rgb(31,120,180)\">Mercurii den 20, September1730.</span> <span style=\"color:rgb(227,26,28)\">PRAZSIDE, Den Heere</span> <span style=\"color:rgb(51,160,44)\">de Milan Visconti</span> .  <span style=\"color:rgb(251,154,153)\">PRAESENTIBUS</span> , De Heeren van Lynden, van Singendonck, Umbgroeve, van Holthe. Ealbo, vander  <span style=\"color:rgb(178,223,138)\">Marck</span> , vander  <span style=\"color:rgb(178,223,138)\">Ramhorst</span> , Raadtpensionaris van Slingelandt. Noey, van Hoorn. De  <span style=\"color:rgb(178,223,138)\">Kempenaer</span> .  <span style=\"color:rgb(178,223,138)\">Van Steenbergen</span> .  <span style=\"color:rgb(178,223,138)\">Van Berchuys</span> .DE Resoiutien , gisteren genomen, <br><hr><br>\n",
       "<h4>session-1730-09-21-num-1</h4>\n",
       "<span style=\"color:rgb(31,120,180)\">Jovis den 21. Sepi ember1730.</span> <span style=\"color:rgb(227,26,28)\">PRAESIDE, Den Heere</span> <span style=\"color:rgb(51,160,44)\">de Milan Visconti</span> .  <span style=\"color:rgb(251,154,153)\">PRAEDESENTIBUS</span> , De Heeren van Lynden, van Singendonck, Umbgroeve, van Hosthe. Vander  <span style=\"color:rgb(178,223,138)\">Marck</span> , vander  <span style=\"color:rgb(178,223,138)\">Ramborst</span> .  <span style=\"color:rgb(178,223,138)\">Van Hoorn</span> . De  <span style=\"color:rgb(178,223,138)\">Kempenaar</span> .  <span style=\"color:rgb(178,223,138)\">Van Steenbergen</span> .  <span style=\"color:rgb(178,223,138)\">Van Berchuys</span> .<br><hr><br>\n",
       "<h4>session-1730-09-22-num-1</h4>\n",
       "<span style=\"color:rgb(31,120,180)\">Veneris den 22. September1730.</span> <span style=\"color:rgb(227,26,28)\">PRAESIDE, Den Heere</span> <span style=\"color:rgb(51,160,44)\">de Milan Visconti</span> .  <span style=\"color:rgb(251,154,153)\">PRAESEXNTIBUS</span> . De Heeren van Lynden, van Singendonck, Umbgroeve, van Holthe. Vander  <span style=\"color:rgb(178,223,138)\">Marck</span> , vander  <span style=\"color:rgb(178,223,138)\">Ramhorst</span> , Raadtpensionaris van Slingelandt. Noey, van Hoorn.  <span style=\"color:rgb(178,223,138)\">Becker</span> . De  <span style=\"color:rgb(178,223,138)\">Kempenaer</span> .  <span style=\"color:rgb(178,223,138)\">Van Steenbergen</span> .  <span style=\"color:rgb(178,223,138)\">Van Berchuys</span> .DE Resolutien gisteren, genomen, <br><hr><br>\n",
       "<h4>session-1730-09-23-num-1</h4>\n",
       "<span style=\"color:rgb(31,120,180)\">Sabbathi den 23. September1730.</span> <span style=\"color:rgb(227,26,28)\">PRAESIDE, Den Heere</span> <span style=\"color:rgb(51,160,44)\">de Milan Visconti</span> .  <span style=\"color:rgb(251,154,153)\">PRAESENTIBUS</span> , De Heeren van Lynden, van Singendonck, Umbgroeve, van Holthe. Vander  <span style=\"color:rgb(178,223,138)\">Marck</span> , vander  <span style=\"color:rgb(178,223,138)\">Ramhorst</span> . Noey, van Hoorn.  <span style=\"color:rgb(178,223,138)\">Becker</span> . De  <span style=\"color:rgb(178,223,138)\">Kempenaar</span> .  <span style=\"color:rgb(178,223,138)\">Van Steenbergen</span> .  <span style=\"color:rgb(178,223,138)\">Van Berchuys</span> .DE Resorutien, gisteren genomen, <br><hr><br>\n",
       "<h4>session-1730-09-25-num-1</h4>\n",
       "<span style=\"color:rgb(166,206,227)\"></span> Dominica den 24. Sept ember1730. Nihil actum est.Luna den 25. September1730. PRAESIDE, Den Heere de  <span style=\"color:rgb(31,120,180)\">Kempenaar</span> . PRAEBSENTI BUS, De Heeren van Lynden, van Singendonck, Umbgroeve, van Bolthe. Vander  <span style=\"color:rgb(31,120,180)\">Marck</span> , vander  <span style=\"color:rgb(31,120,180)\">Burgh</span> , van Hurck, Raadtpensionaris van Slingelandt.  <span style=\"color:rgb(31,120,180)\">Bout</span> , Noey, van Hoorn.  <span style=\"color:rgb(31,120,180)\">Becker</span> .  <span style=\"color:rgb(31,120,180)\">Van Steenbergen</span> .  <span style=\"color:rgb(31,120,180)\">Van Berchuys</span> .<br><hr><br>\n",
       "<h4>session-1730-09-26-num-1</h4>\n",
       "<span style=\"color:rgb(31,120,180)\">Martis den 26. September1730.</span> <span style=\"color:rgb(227,26,28)\">PRAESIDE, Den Heere</span> <span style=\"color:rgb(51,160,44)\">de Kempenaer</span> .  <span style=\"color:rgb(251,154,153)\">PRAESENTIBUS</span> , De Heeren van Lynden , vun Welderen, van Singendonck, Umbgrueve, van HBolthe. Vander  <span style=\"color:rgb(178,223,138)\">Marck</span> , vander  <span style=\"color:rgb(178,223,138)\">Ramhorst</span> , Raadtpensionaris van Slingelandt  <span style=\"color:rgb(178,223,138)\">Bout</span> , Noey, van Hoorn.  <span style=\"color:rgb(178,223,138)\">Becker</span> .  <span style=\"color:rgb(178,223,138)\">Van Steenbergen</span> .  <span style=\"color:rgb(178,223,138)\">Van Berchuys</span> . DE Resolutien, giateren genomen, <br><hr><br>\n",
       "<h4>session-1730-09-27-num-1</h4>\n",
       "<span style=\"color:rgb(31,120,180)\">Mercuris den 27, September1730.</span> <span style=\"color:rgb(227,26,28)\">PRAESIDFE, Den Heere</span> <span style=\"color:rgb(51,160,44)\">de Kempenaer</span> .  <span style=\"color:rgb(251,154,153)\">PRAESENTIBUS</span> , De Heeren van Lynden, van Welderen, van Singendonck, Umbgroeve, van HolThe. Vander  <span style=\"color:rgb(178,223,138)\">Marck</span>  , vander  <span style=\"color:rgb(178,223,138)\">Ramhorst</span> , Raadtpensionaris van Slingelandt.  <span style=\"color:rgb(178,223,138)\">Bout</span> , Noey, van Hoorn.  <span style=\"color:rgb(178,223,138)\">Becker</span> .  <span style=\"color:rgb(178,223,138)\">Van Steenbergen</span> .  <span style=\"color:rgb(178,223,138)\">Van Berchuys</span> .DE Nesolutien, gisteren genomen, <br><hr><br>\n",
       "<h4>session-1730-09-28-num-1</h4>\n",
       "<span style=\"color:rgb(31,120,180)\">Jovis den 28, September1730.</span> <span style=\"color:rgb(227,26,28)\">PRAESIDE, Den Heere</span> <span style=\"color:rgb(51,160,44)\">de Kempenaar</span> .  <span style=\"color:rgb(251,154,153)\">PRAESENTIBUS</span> , De Heeren van Lynden, van Welderen, wan Singendonck, Umbgroeve, van Hoithe. Vander  <span style=\"color:rgb(178,223,138)\">Marck</span> , vander  <span style=\"color:rgb(178,223,138)\">Ramhorst</span> .  <span style=\"color:rgb(178,223,138)\">Bout</span> , Noey, van Hoorn.  <span style=\"color:rgb(178,223,138)\">Becker</span> .  <span style=\"color:rgb(178,223,138)\">Van Steenbergen</span> .  <span style=\"color:rgb(178,223,138)\">Van Berchuys</span> .DE Resorutien, gisteren genomen, <br><hr><br>\n",
       "<h4>session-1730-09-29-num-1</h4>\n",
       "<span style=\"color:rgb(31,120,180)\">Veneras den 29. September1730.</span> <span style=\"color:rgb(253,191,111)\">PRAESIDE, Den Heere</span> <span style=\"color:rgb(51,160,44)\">de Kempenaer</span> .  <span style=\"color:rgb(227,26,28)\">PRAESENTIBUS</span> , De Heeren van Lynden, van Welderen, van Singendonck, Umbgroeve , van Holthe,  <span style=\"color:rgb(251,154,153)\">met een extraordinaris Gedeputeerde uyt de Provincie van Gelderlandt</span> . Vander  <span style=\"color:rgb(178,223,138)\">Marck</span> , vander  <span style=\"color:rgb(178,223,138)\">Ramborst</span> .  <span style=\"color:rgb(178,223,138)\">Bout</span> , Noey, van Hoorn.  <span style=\"color:rgb(178,223,138)\">Becker</span> .  <span style=\"color:rgb(178,223,138)\">Van Steenbergen</span> .  <span style=\"color:rgb(178,223,138)\">Van Berchuys</span> .DE Resorutien, gisteren genomen, <br><hr><br>\n",
       "<h4>session-1730-09-30-num-1</h4>\n",
       "<span style=\"color:rgb(31,120,180)\">Sabbathi den 30. September1730.</span> <span style=\"color:rgb(227,26,28)\">PRAESIDE, Den Heere</span> <span style=\"color:rgb(51,160,44)\">vander Waayen</span> .  <span style=\"color:rgb(251,154,153)\">PRAESENTIBUS</span> , De Heeren van Lynden, van Welderen, van Singendonck, Umbgroeve. Vander  <span style=\"color:rgb(178,223,138)\">Marck</span> , vander  <span style=\"color:rgb(178,223,138)\">Ramhorst</span> . Noey, van Hoorn.  <span style=\"color:rgb(178,223,138)\">Becker</span> .  <span style=\"color:rgb(178,223,138)\">Van Steenbergen</span> .  <span style=\"color:rgb(178,223,138)\">Van Berchuys</span> .DE Nesorutien, gitteren genomen, <br><hr><br>\n",
       "<h4>session-1730-10-02-num-1</h4>\n",
       "<span style=\"color:rgb(31,120,180)\">Dominica den 1. October1730. Nihil actum est.Luna den 2. October1730.</span> <span style=\"color:rgb(227,26,28)\">PRAESIDE, Den Heere</span> <span style=\"color:rgb(51,160,44)\">van Steenbergen</span> .  <span style=\"color:rgb(251,154,153)\">PRAESENTIBUS</span> , De Heeren van Lynden, van Randtwyck , van Singendonck, Umbgroeve. Vander  <span style=\"color:rgb(178,223,138)\">Ramborst</span> , Raadtpensionaris van Slingelandt. Noey, van Hoorn.  <span style=\"color:rgb(178,223,138)\">Becker</span> . Vander Waayen.  <span style=\"color:rgb(178,223,138)\">Van Berchuys</span> .<br><hr><br>\n",
       "<h4>session-1730-10-03-num-1</h4>\n",
       "<span style=\"color:rgb(31,120,180)\">Martis den 3. October1730,</span> <span style=\"color:rgb(227,26,28)\">PRAESIDE, Den Heere</span> <span style=\"color:rgb(51,160,44)\">van Steenbergen</span> .  <span style=\"color:rgb(251,154,153)\">PRAZESENTIBUS</span> , De Heeren van Lynden, van Randtwyck, Umbgroeve.  <span style=\"color:rgb(178,223,138)\">Eelbo</span> , vander  <span style=\"color:rgb(178,223,138)\">Dussen</span> , vander  <span style=\"color:rgb(178,223,138)\">Marck</span> , van Hurck, vander  <span style=\"color:rgb(178,223,138)\">Ramhorst</span>  , Raaadtpensionaris van Slingelandt.  <span style=\"color:rgb(178,223,138)\">Van Hoorn</span> .  <span style=\"color:rgb(178,223,138)\">Becker</span> . Vander WaayenVan  <span style=\"color:rgb(178,223,138)\">Berchuys</span> .DE Nesoisutien, gisteren genomen, <br><hr><br>\n",
       "<h4>session-1730-10-04-num-1</h4>\n",
       "<span style=\"color:rgb(31,120,180)\">Mercurii den 4. October1730</span> <span style=\"color:rgb(227,26,28)\">PRAESIDE, Den Heere</span> <span style=\"color:rgb(51,160,44)\">van Steenbergen</span> .  <span style=\"color:rgb(251,154,153)\">PRAESENTIBUS</span> , De Heeren van Lynden, van Singendonck. Vander  <span style=\"color:rgb(178,223,138)\">Marck</span>  , vander  <span style=\"color:rgb(178,223,138)\">Ramborst</span> .  <span style=\"color:rgb(178,223,138)\">Van Boorn</span> .  <span style=\"color:rgb(178,223,138)\">Becker</span> . Vander Waayen, de  <span style=\"color:rgb(178,223,138)\">Kempenaar</span> .  <span style=\"color:rgb(178,223,138)\">Van Berchuys</span> .DE Nesosluten, gisteren genomen, <br><hr><br>\n",
       "<h4>session-1730-10-05-num-1</h4>\n",
       "<span style=\"color:rgb(31,120,180)\">Jovis den 5, October1730.</span> <span style=\"color:rgb(253,191,111)\">PRAESIDE, Den Heere</span> <span style=\"color:rgb(51,160,44)\">van Steenbergen</span> .  <span style=\"color:rgb(227,26,28)\">PRAESENTIBUS</span> , De Heeren van Lynden , van Singendonck,  <span style=\"color:rgb(178,223,138)\">Essenius</span> , Umbgrocve,  <span style=\"color:rgb(251,154,153)\">met een extraordinaris Gedeputeerde uyt de Provincie van Gelderlandt</span> . Vander  <span style=\"color:rgb(178,223,138)\">Marck</span>  , vander  <span style=\"color:rgb(178,223,138)\">Ramhorst</span> , Raaadtpensionaris van Slingelandt.  <span style=\"color:rgb(178,223,138)\">Van Hoorn</span> .  <span style=\"color:rgb(178,223,138)\">Becker</span> . Vander Waayen, de  <span style=\"color:rgb(178,223,138)\">Kempenaar</span> .  <span style=\"color:rgb(178,223,138)\">Van Berchuys</span> .DE Ressosutien, gitteren genomen, <br><hr><br>\n",
       "<h4>session-1730-10-06-num-1</h4>\n",
       "<span style=\"color:rgb(31,120,180)\">Veneris den 6. October1730.</span> <span style=\"color:rgb(227,26,28)\">PRAESIDE, Den Heere</span> <span style=\"color:rgb(51,160,44)\">van Steenbergen</span> .  <span style=\"color:rgb(251,154,153)\">PRAESENTIBUS</span> , De Heeren van Lynden, van Singendonck,  <span style=\"color:rgb(178,223,138)\">Essenius</span> , Umbgroeve. Vander  <span style=\"color:rgb(178,223,138)\">Ramhorst</span> , Raadtpensionaris van Slingelandt. Noey, van Hoorn.  <span style=\"color:rgb(178,223,138)\">Becker</span> . Vander Waayen, de  <span style=\"color:rgb(178,223,138)\">Kempenaer</span> .  <span style=\"color:rgb(178,223,138)\">Van Berchuys</span> .DE Resoiutien, gisteren genomen, <br><hr><br>\n",
       "<h4>session-1730-10-09-num-1</h4>\n",
       "<span style=\"color:rgb(31,120,180)\">Dominica den 8. October1730. Nihil actum est. Luna den 9. October1730.</span> <span style=\"color:rgb(227,26,28)\">PRAESIDE, Den Heere</span> <span style=\"color:rgb(51,160,44)\">van Berchuys</span> .  <span style=\"color:rgb(251,154,153)\">PRAESENTIBUS</span> , De Heeren van Singendonck. Vander  <span style=\"color:rgb(178,223,138)\">Burgh</span> , van Hurck , vander  <span style=\"color:rgb(178,223,138)\">Ramhorst</span> .  <span style=\"color:rgb(178,223,138)\">Van Hoorn</span> .  <span style=\"color:rgb(178,223,138)\">Becker</span> . De  <span style=\"color:rgb(178,223,138)\">Kempenaar</span> .  <span style=\"color:rgb(178,223,138)\">Van Steenbergen</span> .DE Resolutien eergniteren 2enomen, <br><hr><br>\n",
       "<h4>session-1730-10-10-num-1</h4>\n",
       "<span style=\"color:rgb(31,120,180)\">Martis den 10, October1730.</span> <span style=\"color:rgb(253,191,111)\">PRAESIDE, Den Heere</span> <span style=\"color:rgb(51,160,44)\">van Berchuys</span> .  <span style=\"color:rgb(227,26,28)\">PRAESENTIBUS</span> , De Heeren van Singendonck. Vander  <span style=\"color:rgb(178,223,138)\">Marck</span> , vander  <span style=\"color:rgb(178,223,138)\">Burgh</span> , vander  <span style=\"color:rgb(178,223,138)\">Ramhorst</span> .  <span style=\"color:rgb(178,223,138)\">Van Hoorn</span>  ,  <span style=\"color:rgb(251,154,153)\">met een extraordinaris Gedeputeerde uyt de Provincie van Zeelandt</span> .  <span style=\"color:rgb(178,223,138)\">Becker</span> . De  <span style=\"color:rgb(178,223,138)\">Kempenaar</span> .  <span style=\"color:rgb(178,223,138)\">Van Steenbergen</span> .<br><hr><br>\n",
       "<h4>session-1730-10-11-num-1</h4>\n",
       "<span style=\"color:rgb(31,120,180)\">1730.</span> <span style=\"color:rgb(253,191,111)\">PRAESIDE, Den Heere</span> <span style=\"color:rgb(51,160,44)\">van Berchuys</span> .  <span style=\"color:rgb(227,26,28)\">PRAZSENTIBUS</span> ,, De Heeren van Singendonck. vander Steen,  <span style=\"color:rgb(178,223,138)\">Esjenius</span> . Vander  <span style=\"color:rgb(178,223,138)\">Marck</span> , vander  <span style=\"color:rgb(178,223,138)\">Ramhorst</span> .  <span style=\"color:rgb(178,223,138)\">Van Hoorn</span> ,  <span style=\"color:rgb(251,154,153)\">met een extraordinaris Gedeputeerde uyt de Provincie van Zeelandt</span> .  <span style=\"color:rgb(178,223,138)\">Becker</span> . De  <span style=\"color:rgb(178,223,138)\">Kempenaar</span> .  <span style=\"color:rgb(178,223,138)\">Van Steenbergen</span> .DE Resosutien, gisteren genomen, <br><hr><br>\n",
       "<h4>session-1730-10-12-num-1</h4>\n",
       "<span style=\"color:rgb(31,120,180)\">Jovis den 12, October1730.</span> <span style=\"color:rgb(227,26,28)\">PRAESIDE, Den Heere</span> <span style=\"color:rgb(51,160,44)\">van Berchuys</span> .  <span style=\"color:rgb(251,154,153)\">PRAESEXNRTIBUS</span> , De Heeren van Singendonck, vander Steen,  <span style=\"color:rgb(178,223,138)\">Bssenius</span> . Vander  <span style=\"color:rgb(178,223,138)\">Marck</span> , vander  <span style=\"color:rgb(178,223,138)\">Burgh</span> , vander  <span style=\"color:rgb(178,223,138)\">Ramborst</span> .  <span style=\"color:rgb(178,223,138)\">Van Hoorn</span> .  <span style=\"color:rgb(178,223,138)\">Becker</span> . De  <span style=\"color:rgb(178,223,138)\">Kempenaar</span> .  <span style=\"color:rgb(178,223,138)\">Van Steenbergen</span> . DE RNesolutien, gisteren genomen, <br><hr><br>\n",
       "<h4>session-1730-10-13-num-1</h4>\n",
       "<span style=\"color:rgb(31,120,180)\">Veneris den 13. October1730</span> <span style=\"color:rgb(227,26,28)\">PRAESIDE, Den Heere</span> <span style=\"color:rgb(51,160,44)\">van Berchuys</span> .  <span style=\"color:rgb(251,154,153)\">PRAESENTIBUS</span> . De Heeren van Singendonck , vander Steen. Vander  <span style=\"color:rgb(178,223,138)\">Marck</span> .  <span style=\"color:rgb(178,223,138)\">Bout</span> . De  <span style=\"color:rgb(178,223,138)\">Kempenaer</span> .  <span style=\"color:rgb(178,223,138)\">Van Steenbergen</span> .ADE Resorutren, guteren geno<br><hr><br>\n",
       "<h4>session-1730-10-14-num-1</h4>\n",
       "<span style=\"color:rgb(31,120,180)\">Sabbathi den 14. October1730.</span> <span style=\"color:rgb(253,191,111)\">PRAESIDE, Den Heere</span> <span style=\"color:rgb(51,160,44)\">van Berchuys</span> .  <span style=\"color:rgb(227,26,28)\">PRAESENTIBUS</span> ,, De Heeren vander Steen. Vander  <span style=\"color:rgb(178,223,138)\">Marck</span> .  <span style=\"color:rgb(178,223,138)\">Van Hoorn</span>  ,  <span style=\"color:rgb(251,154,153)\">met twee extraordinaris Gedeputeerden uyt de Provincie van Zeelandt</span> . De  <span style=\"color:rgb(178,223,138)\">Kempenaar</span> .  <span style=\"color:rgb(178,223,138)\">Van Isselmuden</span> , van Steenbergen.DE RNesotutien, gisteren genomen, <br><hr><br>\n",
       "<h4>session-1730-10-16-num-1</h4>\n",
       "<span style=\"color:rgb(31,120,180)\">Dominica den 15. October1730. Nihil actum est. Lunae den 16. October1730.</span> <span style=\"color:rgb(253,191,111)\">PRAESIDE, Den Heere</span> <span style=\"color:rgb(51,160,44)\">vander Steen</span> .  <span style=\"color:rgb(227,26,28)\">DRAZESENTIBUS</span> , De Heeren vander  <span style=\"color:rgb(178,223,138)\">Marck</span> .  <span style=\"color:rgb(178,223,138)\">Bout</span> , van Hoorn,  <span style=\"color:rgb(251,154,153)\">met een extraordinaris Gedeputeerde uyt de Provincie van Zeelandt</span> .  <span style=\"color:rgb(178,223,138)\">Becker</span> . De  <span style=\"color:rgb(178,223,138)\">Kempenaar</span> . Van lelmuden, van Steenbergen.  <span style=\"color:rgb(178,223,138)\">Van Berchuys</span> . <br><hr><br>\n",
       "<h4>session-1730-10-17-num-1</h4>\n",
       "<span style=\"color:rgb(31,120,180)\">Martis den 17. October1730.</span> <span style=\"color:rgb(253,191,111)\">PRAESIDE,Den Heere</span> <span style=\"color:rgb(51,160,44)\">vander Steen</span> .  <span style=\"color:rgb(227,26,28)\">PRAESENTIBUS</span> , De Heeren vander  <span style=\"color:rgb(178,223,138)\">Marck</span> .  <span style=\"color:rgb(178,223,138)\">Van Hoorn</span>  ,  <span style=\"color:rgb(251,154,153)\">met een extraordinaris Gedeputeerde uyt de Provincie van Zeelandt</span> .  <span style=\"color:rgb(178,223,138)\">Becker</span> . De  <span style=\"color:rgb(178,223,138)\">Kempenaar</span> .  <span style=\"color:rgb(178,223,138)\">Van Steenbergen</span> .  <span style=\"color:rgb(178,223,138)\">Van Berchuys</span> .DE RNesolsutiern, gisteren genomen, <br><hr><br>\n",
       "<h4>session-1730-10-18-num-1</h4>\n",
       "<span style=\"color:rgb(31,120,180)\">1730.</span> <span style=\"color:rgb(253,191,111)\">PRAESIDE, Den Heere</span> <span style=\"color:rgb(51,160,44)\">vander Steen</span> .  <span style=\"color:rgb(227,26,28)\">PRAESENTIBUS</span> , De Heeren vander  <span style=\"color:rgb(178,223,138)\">Marck</span> .  <span style=\"color:rgb(178,223,138)\">Van Hoorn</span>  ,  <span style=\"color:rgb(251,154,153)\">met twee extraordinaris Gedeputeerden uyt de Provincie van Zeelandt</span> .  <span style=\"color:rgb(178,223,138)\">Becker</span> .  <span style=\"color:rgb(178,223,138)\">Van Steenbergen</span> .  <span style=\"color:rgb(178,223,138)\">Van Berchuys</span> .<br><hr><br>\n",
       "<h4>session-1730-10-19-num-1</h4>\n",
       "<span style=\"color:rgb(31,120,180)\">Jovis den 19. October 1730.</span> <span style=\"color:rgb(227,26,28)\">PRAESIDE, Den Heere</span> <span style=\"color:rgb(51,160,44)\">vander Steen</span> .  <span style=\"color:rgb(251,154,153)\">PRAESENTIBUS</span> , De Heeren vander  <span style=\"color:rgb(178,223,138)\">Dussen</span> , vander  <span style=\"color:rgb(178,223,138)\">Marck</span> .  <span style=\"color:rgb(178,223,138)\">Van Hoorn</span> .  <span style=\"color:rgb(178,223,138)\">Becker</span> . De  <span style=\"color:rgb(178,223,138)\">Kempenaar</span> .  <span style=\"color:rgb(178,223,138)\">Van Steenbergen</span> .  <span style=\"color:rgb(178,223,138)\">Van Berchuys</span> .DE Resoiutien, gisteren genomen, <br><hr><br>\n",
       "<h4>session-1730-10-20-num-1</h4>\n",
       "<span style=\"color:rgb(31,120,180)\">Veeneris den 20. October1720.</span> <span style=\"color:rgb(253,191,111)\">PRAESIDE, Den Heere</span> <span style=\"color:rgb(51,160,44)\">vander Steen</span> .  <span style=\"color:rgb(227,26,28)\">PRAESENTIBUS</span> , De Heeren vander  <span style=\"color:rgb(178,223,138)\">Dussen</span> , vander  <span style=\"color:rgb(178,223,138)\">Marck</span> .  <span style=\"color:rgb(178,223,138)\">Van Hoorn</span> ,  <span style=\"color:rgb(251,154,153)\">met een extraordinaris Gedeputeerde uyt de Provincie van Zeelandt</span> .  <span style=\"color:rgb(178,223,138)\">Becker</span> . De  <span style=\"color:rgb(178,223,138)\">Kempenaer</span> <span style=\"color:rgb(178,223,138)\">Van Steenbergen</span> .  <span style=\"color:rgb(178,223,138)\">Van Berchuys</span> .DEE Resolutien, gisteren genomen, <br><hr><br>\n",
       "<h4>session-1730-10-21-num-1</h4>\n",
       "<span style=\"color:rgb(31,120,180)\">Sabbathi den 21. October1730.</span> <span style=\"color:rgb(253,191,111)\">PRAESIDE, Den Heere</span> <span style=\"color:rgb(51,160,44)\">vander Steen</span> .  <span style=\"color:rgb(227,26,28)\">PRAESENTIBUS</span> , De Heeren vander  <span style=\"color:rgb(178,223,138)\">Marck</span> .  <span style=\"color:rgb(178,223,138)\">Van Hoorn</span> ,  <span style=\"color:rgb(251,154,153)\">met een extraordinaris Gedeputeerde uyt de Provincie van Zeelandt</span> .  <span style=\"color:rgb(178,223,138)\">Becker</span> . De  <span style=\"color:rgb(178,223,138)\">Kempenaar</span> .  <span style=\"color:rgb(178,223,138)\">Van Steenbergen</span> .  <span style=\"color:rgb(178,223,138)\">Van Berchuys</span> .DE Resorutien, giteren genomen, <br><hr><br>\n",
       "<h4>session-1730-10-23-num-1</h4>\n",
       "<span style=\"color:rgb(31,120,180)\">Dominica den 22. October1730. Nihil actum est.Lunae den 23. October1730</span> <span style=\"color:rgb(227,26,28)\">PRAESTDE, Den Heere</span> <span style=\"color:rgb(51,160,44)\">vander Marck</span> .  <span style=\"color:rgb(251,154,153)\">PRAZSENTIBUS</span> , De Heeren van Welderen, vander Steen. Vander  <span style=\"color:rgb(178,223,138)\">Dussen</span> .  <span style=\"color:rgb(178,223,138)\">Bout</span> , van Hoorn.  <span style=\"color:rgb(178,223,138)\">Becker</span> . De  <span style=\"color:rgb(178,223,138)\">Kempenaar</span> .  <span style=\"color:rgb(178,223,138)\">Van Steenbergen</span> .  <span style=\"color:rgb(178,223,138)\">Van Berchuys</span> .<br><hr><br>\n",
       "<h4>session-1730-10-24-num-1</h4>\n",
       "<span style=\"color:rgb(31,120,180)\">Martis den 24, October 1730.</span> <span style=\"color:rgb(227,26,28)\">PRAEZESIDE, Den Heere</span> <span style=\"color:rgb(51,160,44)\">vander Marck</span> .  <span style=\"color:rgb(251,154,153)\">PRAESENTIBUS</span> , De Heeren van Jelderen, vander Steen.  <span style=\"color:rgb(178,223,138)\">Eelbo</span> , vander  <span style=\"color:rgb(178,223,138)\">Dussen</span> , van Hurck.  <span style=\"color:rgb(178,223,138)\">Bout</span> , van Hoorn.  <span style=\"color:rgb(178,223,138)\">Becker</span> . De  <span style=\"color:rgb(178,223,138)\">Kempenaar</span> .  <span style=\"color:rgb(178,223,138)\">Van Steenbergen</span> .  <span style=\"color:rgb(178,223,138)\">Van Berchuys</span> .DE Resorutren, gieren genomen, <br><hr><br>\n",
       "<h4>session-1730-10-25-num-1</h4>\n",
       "<span style=\"color:rgb(31,120,180)\">Mercurii den 25, October1730.</span> <span style=\"color:rgb(227,26,28)\">PRAESIDE, Den Heere</span> <span style=\"color:rgb(51,160,44)\">vander Marck</span> .  <span style=\"color:rgb(251,154,153)\">PRAESENTIBUS</span> , De Heeren Van Welderen, vander Steen.  <span style=\"color:rgb(178,223,138)\">Eelbo</span> , vander  <span style=\"color:rgb(178,223,138)\">Dussen</span> , van Hurck, Raadtpensionaris van Slingelandt.  <span style=\"color:rgb(178,223,138)\">Van Hoorn</span> .  <span style=\"color:rgb(178,223,138)\">Becker</span> . De  <span style=\"color:rgb(178,223,138)\">Kempenaer</span> .  <span style=\"color:rgb(178,223,138)\">Van Steenbergen</span> .  <span style=\"color:rgb(178,223,138)\">Van Berchuys</span> .DE Resolutie , ge teren genomen, <br><hr><br>\n",
       "<h4>session-1730-10-26-num-1</h4>\n",
       "<span style=\"color:rgb(31,120,180)\">Jovis den 26. October1730.</span> <span style=\"color:rgb(227,26,28)\">PRAESIDE, Den Heere</span> <span style=\"color:rgb(51,160,44)\">vander Marck</span> .  <span style=\"color:rgb(251,154,153)\">PRAESENTIBUS</span> , De Heeren van Welderen, vander Steen. Raadtpensionaris van Slingelandt.  <span style=\"color:rgb(178,223,138)\">Van Hoorn</span> .  <span style=\"color:rgb(178,223,138)\">Becker</span> . De  <span style=\"color:rgb(178,223,138)\">Kempenaar</span> .  <span style=\"color:rgb(178,223,138)\">Van Steenbergen</span> .  <span style=\"color:rgb(178,223,138)\">Van Berchuys</span> .DE Resolutien, gieteren genomen, <br><hr><br>\n",
       "<h4>session-1730-10-27-num-1</h4>\n",
       "<span style=\"color:rgb(31,120,180)\">Veeneris den 27. October1730.</span> <span style=\"color:rgb(227,26,28)\">PRAESIDE, Den Heere</span> <span style=\"color:rgb(51,160,44)\">vander Marck</span> .  <span style=\"color:rgb(251,154,153)\">PRAESENITIBUS</span> ,. De Heeren van Welderen, vander Steen. Vande  <span style=\"color:rgb(178,223,138)\">Poll</span> .  <span style=\"color:rgb(178,223,138)\">Bout</span> .  <span style=\"color:rgb(178,223,138)\">Becker</span> . De  <span style=\"color:rgb(178,223,138)\">Kempenaer</span> <span style=\"color:rgb(178,223,138)\">Van Steenbergen</span> .  <span style=\"color:rgb(178,223,138)\">Van Berchuys</span> . DE Resolutie, gisteren genomen, <br><hr><br>\n",
       "<h4>session-1730-10-28-num-1</h4>\n",
       "<span style=\"color:rgb(31,120,180)\">Savbathi den 28. October 1730.</span> <span style=\"color:rgb(227,26,28)\">PRAESIDE, Den Heere</span> <span style=\"color:rgb(51,160,44)\">vander Marck</span> .  <span style=\"color:rgb(251,154,153)\">PRAESENTIBUS</span>  De Heeren van Welderen.  <span style=\"color:rgb(178,223,138)\">Becker</span> . De  <span style=\"color:rgb(178,223,138)\">Kempenaar</span> .  <span style=\"color:rgb(178,223,138)\">Van Steenbergen</span> .  <span style=\"color:rgb(178,223,138)\">Van Berchuys</span> .DE Resolfutien, gisteren genomen, <br><hr><br>\n",
       "<h4>session-1730-10-30-num-1</h4>\n",
       "<span style=\"color:rgb(31,120,180)\">Dominica den 29. October 1730. Mibil actum est.Luna den 30. October1730.</span> <span style=\"color:rgb(227,26,28)\">PRAESIDE,Den Heere</span> <span style=\"color:rgb(51,160,44)\">Noey</span> .  <span style=\"color:rgb(251,154,153)\">PRAESENTIBUS</span> , De Heeren van Welderen.  <span style=\"color:rgb(178,223,138)\">Van Wassenaer</span> , vander  <span style=\"color:rgb(178,223,138)\">Marck</span> , Raadtpensionaris van Slingelandt.  <span style=\"color:rgb(178,223,138)\">Van Hoorn</span> .  <span style=\"color:rgb(178,223,138)\">Becker</span> . Vander B'aayen, de  <span style=\"color:rgb(178,223,138)\">Kempenaar</span> .  <span style=\"color:rgb(178,223,138)\">Van Steenbergen</span> .  <span style=\"color:rgb(178,223,138)\">Van Berchuys</span> . <br><hr><br>\n",
       "<h4>session-1730-10-31-num-1</h4>\n",
       "<span style=\"color:rgb(31,120,180)\">Martis den 31, October1730.</span> <span style=\"color:rgb(227,26,28)\">PRAESIDE, Den Heere</span> <span style=\"color:rgb(51,160,44)\">MNoey</span> .  <span style=\"color:rgb(251,154,153)\">PRAEZSENTIBUS</span> , De Heeren van Wassenaer, vander  <span style=\"color:rgb(178,223,138)\">Marck</span> .  <span style=\"color:rgb(178,223,138)\">Van Hoorn</span> .  <span style=\"color:rgb(178,223,138)\">Becker</span> . Vander Waayen, de  <span style=\"color:rgb(178,223,138)\">Kempenaar</span> .  <span style=\"color:rgb(178,223,138)\">Van Steenbergen</span> .  <span style=\"color:rgb(178,223,138)\">Van Berchuys</span> .<br><hr><br>\n",
       "<h4>session-1730-11-01-num-1</h4>\n",
       "<span style=\"color:rgb(31,120,180)\">Mercurii den 1. November1730.</span> <span style=\"color:rgb(227,26,28)\">PRAZSIDE, Den Heere</span> <span style=\"color:rgb(51,160,44)\">Mey</span> .  <span style=\"color:rgb(251,154,153)\">PRAESENTIBUS</span> , De Heeren vander  <span style=\"color:rgb(178,223,138)\">Marck</span> , vunde  <span style=\"color:rgb(178,223,138)\">Poll</span> , Raadtpensionaris van Slingelandt.  <span style=\"color:rgb(178,223,138)\">Van Hoorn</span> .  <span style=\"color:rgb(178,223,138)\">Becker</span> . Vander W'aayen , de  <span style=\"color:rgb(178,223,138)\">Kempenaer</span> .  <span style=\"color:rgb(178,223,138)\">Van Steenbergen</span> .  <span style=\"color:rgb(178,223,138)\">Van Berchuss</span> .DE Resolutien , gisteren genomen, <br><hr><br>\n",
       "<h4>session-1730-11-02-num-1</h4>\n",
       "<span style=\"color:rgb(31,120,180)\">Jovis den 2. November 1730.</span> <span style=\"color:rgb(227,26,28)\">PRAESIDE, Den Heere</span> <span style=\"color:rgb(51,160,44)\">Noey</span> .  <span style=\"color:rgb(251,154,153)\">PRAESENTIBUS</span> , De Heeren sle Leu de  <span style=\"color:rgb(178,223,138)\">Wilhem</span>  , wander  <span style=\"color:rgb(178,223,138)\">Marck</span> .  <span style=\"color:rgb(178,223,138)\">Van Hoorn</span> .  <span style=\"color:rgb(178,223,138)\">Becker</span> . Vander Waayen, de  <span style=\"color:rgb(178,223,138)\">Kempenaar</span> .  <span style=\"color:rgb(178,223,138)\">Van Steenbergen</span> .  <span style=\"color:rgb(178,223,138)\">Van Berchuys</span> .DE Resolutien, gitteren genomen, <br><hr><br>\n",
       "<h4>session-1730-11-03-num-1</h4>\n",
       "<span style=\"color:rgb(31,120,180)\">Veeneris den 3. November1730.</span> <span style=\"color:rgb(227,26,28)\">PRAESIDE, Den Heere</span> <span style=\"color:rgb(51,160,44)\">Noey</span> .  <span style=\"color:rgb(251,154,153)\">PRAESENTIBUS</span> , De Heeren van Lynden. Le Leu de Wilbem, vander  <span style=\"color:rgb(178,223,138)\">Marck</span> .  <span style=\"color:rgb(178,223,138)\">Van Hoorn</span> .  <span style=\"color:rgb(178,223,138)\">Becker</span> . Vander Waayen, de  <span style=\"color:rgb(178,223,138)\">Kempenaer</span> <span style=\"color:rgb(178,223,138)\">Van Steenbergen</span> .  <span style=\"color:rgb(178,223,138)\">Van Berchuys</span> .DE Nesolutien, gisteren genomen, <br><hr><br>\n",
       "<h4>session-1730-11-04-num-1</h4>\n",
       "<span style=\"color:rgb(31,120,180)\">Sabbathi den 4. November 1730.</span> <span style=\"color:rgb(253,191,111)\">PRAESIDE, Den Heere</span> <span style=\"color:rgb(51,160,44)\">Noey</span> .  <span style=\"color:rgb(227,26,28)\">PRAESENTIBUS</span> , De Heeren van Lynden, van Welderen ,  <span style=\"color:rgb(251,154,153)\">met een extraordinaris Gedeputeerde uyt de Provincie van Gelderlandt</span> .  <span style=\"color:rgb(178,223,138)\">Van Wassenaer</span> .  <span style=\"color:rgb(178,223,138)\">Van Hoorn</span> .  <span style=\"color:rgb(178,223,138)\">Becker</span> . Vander Waayen, de  <span style=\"color:rgb(178,223,138)\">Kempenaar</span> .  <span style=\"color:rgb(178,223,138)\">Van Steenbergen</span> .  <span style=\"color:rgb(178,223,138)\">Van Berchuys</span> .DE RNesorfutien, gisteren genomen, <br><hr><br>\n",
       "<h4>session-1730-11-06-num-1</h4>\n",
       "<span style=\"color:rgb(31,120,180)\">Dominica den 5. November 1730. Nihil actum est. Luna den 6. November1730.</span> <span style=\"color:rgb(227,26,28)\">PRAESIDE, Den Heere</span> <span style=\"color:rgb(51,160,44)\">de Milan Visconti</span> .  <span style=\"color:rgb(251,154,153)\">PRAESENTIBUS</span> , De Heeren van Lynden, van Welderen.  <span style=\"color:rgb(178,223,138)\">Van Wassenaer</span> , le Leu de  <span style=\"color:rgb(178,223,138)\">Wilhem</span> , vande  <span style=\"color:rgb(178,223,138)\">Poll</span> .  <span style=\"color:rgb(178,223,138)\">Van Borsselen</span> , Noey, van Hoorn. Vander H'aayen, de  <span style=\"color:rgb(178,223,138)\">Kempenaar</span> .  <span style=\"color:rgb(178,223,138)\">Van Steenbergen</span> .  <span style=\"color:rgb(178,223,138)\">Van Berchuys</span> .DE Rsesouuen eergisteren 9enomen, <br><hr><br>\n",
       "<h4>session-1730-11-07-num-1</h4>\n",
       "<span style=\"color:rgb(31,120,180)\">Marvis den 7. November 1730.</span> <span style=\"color:rgb(227,26,28)\">PRAESIDE, Den Heere</span> <span style=\"color:rgb(51,160,44)\">de Milan Visconti</span> .  <span style=\"color:rgb(251,154,153)\">PRAESENTIBUS</span> , De Heeren van Lynden, van Welderen.  <span style=\"color:rgb(178,223,138)\">Van Wassenaer</span> , le Leu de  <span style=\"color:rgb(178,223,138)\">Wilhem</span> .  <span style=\"color:rgb(178,223,138)\">Van Beorsselen</span> , Noey, van Hoorn. Vander Waayen, de,  <span style=\"color:rgb(178,223,138)\">Kempenaar</span> .  <span style=\"color:rgb(178,223,138)\">Van Steenbergen</span> .  <span style=\"color:rgb(178,223,138)\">Van Berchuys</span> . DE Resomutien, gisteren genomen, <br><hr><br>\n",
       "<h4>session-1730-11-08-num-1</h4>\n",
       "<span style=\"color:rgb(31,120,180)\">Mercurii den 8. November1730.</span> <span style=\"color:rgb(227,26,28)\">PRAZSSIDE, Den Heere</span> <span style=\"color:rgb(51,160,44)\">de Milan Visconti</span> <span style=\"color:rgb(251,154,153)\">PRAEZESENTIBUS</span> ,, De Heeren van Lynden , vun Welderen,  <span style=\"color:rgb(178,223,138)\">Hssenius</span> . Le Leu de  <span style=\"color:rgb(178,223,138)\">Wilhem</span> , vande  <span style=\"color:rgb(178,223,138)\">Poll</span> <span style=\"color:rgb(178,223,138)\">Van Hoorn</span> . Vander Haaayen , de  <span style=\"color:rgb(178,223,138)\">Kempenaer</span> .  <span style=\"color:rgb(178,223,138)\">Van Steenbergen</span> .  <span style=\"color:rgb(178,223,138)\">Van Berchuys</span> .DE Resolute , guceren gen0.men, <br><hr><br>\n",
       "<h4>session-1730-11-09-num-1</h4>\n",
       "<span style=\"color:rgb(31,120,180)\">Jovis den 9, November1730.</span> <span style=\"color:rgb(253,191,111)\">PRAESIDE, Den Heere</span> <span style=\"color:rgb(51,160,44)\">de Milan Visconti</span> .  <span style=\"color:rgb(227,26,28)\">PRAESENTIBUS</span> , De Heeren van Lynden, van Welderen, FHisenius,  <span style=\"color:rgb(251,154,153)\">met een extraordinaris Gedeputeerde uyt de Provincie van Gelderlandt</span> .  <span style=\"color:rgb(178,223,138)\">Van Wassenaer</span> , le Leu de Wilbem, vande  <span style=\"color:rgb(178,223,138)\">Poll</span> .  <span style=\"color:rgb(178,223,138)\">Van Borsselen</span> , Noey, van Hoorn. Vander Waayen, de  <span style=\"color:rgb(178,223,138)\">Kempenaar</span> .  <span style=\"color:rgb(178,223,138)\">Van Steenbergen</span> .  <span style=\"color:rgb(178,223,138)\">Van Berchuys</span> .DE Resolutie, gisteren genomen, <br><hr><br>\n",
       "<h4>session-1730-11-10-num-1</h4>\n",
       "<span style=\"color:rgb(31,120,180)\">Veneris den 10. November1730.</span> <span style=\"color:rgb(253,191,111)\">PRAETSIDE, Den Heere</span> <span style=\"color:rgb(51,160,44)\">de Milan Visconii</span> .  <span style=\"color:rgb(227,26,28)\">PRAESENTIBUS</span> . De Heeren van Lynden, van Welderen,  <span style=\"color:rgb(178,223,138)\">Essenius</span> , van Wynbergen,  <span style=\"color:rgb(251,154,153)\">met een extraordinaris Gedeputeerde uyt de Provincie wan Gelderlandt</span> .  <span style=\"color:rgb(178,223,138)\">Van Wassenaer</span> , le Lou de  <span style=\"color:rgb(178,223,138)\">Wilhem</span> .  <span style=\"color:rgb(178,223,138)\">Van Borsselen</span> , Noey, van Hoorn. Vander Waayen, de  <span style=\"color:rgb(178,223,138)\">Kempenaer</span> <span style=\"color:rgb(178,223,138)\">Van Steenbergen</span> .  <span style=\"color:rgb(178,223,138)\">Van Berchuys</span> .DE Resolutie, guteren geno;men, <br><hr><br>\n",
       "<h4>session-1730-11-11-num-1</h4>\n",
       "<span style=\"color:rgb(31,120,180)\">Sabbathi den 11. November1730.</span> <span style=\"color:rgb(253,191,111)\">PRAESIDE, Den Heere</span> <span style=\"color:rgb(51,160,44)\">de Milan Visconti</span> .  <span style=\"color:rgb(227,26,28)\">PRAEZESENTIBUS</span> , De Heeren van Lynden, van Essenius, van HW'ynbergen,  <span style=\"color:rgb(251,154,153)\">met twee extraordinaris Gedeputeerden uyt de Provincie van Gelderlandt</span> .  <span style=\"color:rgb(178,223,138)\">Vun Wassenaer</span> , vande  <span style=\"color:rgb(178,223,138)\">Poll</span> .  <span style=\"color:rgb(178,223,138)\">Van Borsselen</span> , Noey, van Hoorn. Vander Waayen, de  <span style=\"color:rgb(178,223,138)\">Kempenaar</span> .  <span style=\"color:rgb(178,223,138)\">Van Steenbergen</span> .  <span style=\"color:rgb(178,223,138)\">Van Berchuys</span> .DE Resolutien, gnteren genomen, <br><hr><br>\n",
       "<h4>session-1730-11-13-num-1</h4>\n",
       "<span style=\"color:rgb(31,120,180)\">Dominica den 12, November1730. Mibil actum est. Luna den 13. November1730.</span> <span style=\"color:rgb(253,191,111)\">PRAESIDE, Den Heere</span> <span style=\"color:rgb(51,160,44)\">vander Waayen</span> .  <span style=\"color:rgb(227,26,28)\">PRAESENTIBUS</span> , De Heeren van Lynden , van Welderen,  <span style=\"color:rgb(178,223,138)\">Jorck</span> , van Wynbergen,  <span style=\"color:rgb(251,154,153)\">met twee extraorainaris Gedeputeerden uyt de Provincie van Gelderlandt</span> .  <span style=\"color:rgb(178,223,138)\">Van Wassenaer</span> , vander  <span style=\"color:rgb(178,223,138)\">Marck</span> , vande  <span style=\"color:rgb(178,223,138)\">Poll</span> .  <span style=\"color:rgb(178,223,138)\">Van Borsselen</span> ,  <span style=\"color:rgb(178,223,138)\">Bout</span> , van Hoorn. De  <span style=\"color:rgb(178,223,138)\">Milan</span> <span style=\"color:rgb(178,223,138)\">Visconti</span> . De  <span style=\"color:rgb(178,223,138)\">Kempenaar</span> .  <span style=\"color:rgb(178,223,138)\">Van Steenbergen</span> .  <span style=\"color:rgb(178,223,138)\">Van Berchuys</span> . DE Resorutien eergiteren genomen, <br><hr><br>\n",
       "<h4>session-1730-11-14-num-1</h4>\n",
       "<span style=\"color:rgb(31,120,180)\">Martis den 14. November1730.</span> <span style=\"color:rgb(253,191,111)\">PRAESIDE, Den Heere</span> <span style=\"color:rgb(51,160,44)\">vander Waayen</span> .  <span style=\"color:rgb(227,26,28)\">PRAESENTIBUS</span> , De Heeren van Lynden, van Singendonck,  <span style=\"color:rgb(178,223,138)\">JTorck</span> , van Wynbergen ,  <span style=\"color:rgb(251,154,153)\">met een extraordinaris Gedeputeerde uyt de Provincie wan Gelderlandt</span> .  <span style=\"color:rgb(178,223,138)\">Van Wassenaer</span> , vander  <span style=\"color:rgb(178,223,138)\">Marck</span> , van Hurck, van HeldingenVan  <span style=\"color:rgb(178,223,138)\">Borsselen</span> ,  <span style=\"color:rgb(178,223,138)\">Bout</span> , van Hoorn. De  <span style=\"color:rgb(178,223,138)\">Milan</span> <span style=\"color:rgb(178,223,138)\">Visconti</span> . De  <span style=\"color:rgb(178,223,138)\">Kempenaar</span> .  <span style=\"color:rgb(178,223,138)\">Van Steenbergen</span> .  <span style=\"color:rgb(178,223,138)\">Van Berchuys</span> .DE RNessolutien, gisteren genomen, <br><hr><br>\n",
       "<h4>session-1730-11-15-num-1</h4>\n",
       "<span style=\"color:rgb(31,120,180)\">Mercurii den 15. November1730.</span> <span style=\"color:rgb(253,191,111)\">PRAESIDE, Den Heere</span> <span style=\"color:rgb(51,160,44)\">vander Waayen</span> .  <span style=\"color:rgb(227,26,28)\">PRAASENTIBUS</span> , De Heeren van Lynden, vun Singendonck ,  <span style=\"color:rgb(178,223,138)\">Torck</span> , van lYynbergen,  <span style=\"color:rgb(251,154,153)\">met een extraordinaris Gedeputeerde uyt de Provincie van Gelderlandt</span> <span style=\"color:rgb(178,223,138)\">Van Wassenaer</span> , vander  <span style=\"color:rgb(178,223,138)\">Marck</span> .  <span style=\"color:rgb(178,223,138)\">Van Borsselen</span> , van Hoorn. De  <span style=\"color:rgb(178,223,138)\">Milan</span> <span style=\"color:rgb(178,223,138)\">Visconti</span> . De  <span style=\"color:rgb(178,223,138)\">Kempenaer</span> .  <span style=\"color:rgb(178,223,138)\">Van Steenbergen</span> .  <span style=\"color:rgb(178,223,138)\">Van Berchuys</span> .DEE Retoluttens , gisteren genomen, <br><hr><br>\n",
       "<h4>session-1730-11-16-num-1</h4>\n",
       "<span style=\"color:rgb(31,120,180)\">Jovis den 16. November1730.</span> <span style=\"color:rgb(253,191,111)\">DRAEYVDE, Ben Heere</span> <span style=\"color:rgb(51,160,44)\">vander Waayen</span> .  <span style=\"color:rgb(227,26,28)\">PRAESENTIBUS</span> , De Heeren van Lynden, van Welderen, van Singendonck,  <span style=\"color:rgb(178,223,138)\">Fssenius</span> ,  <span style=\"color:rgb(178,223,138)\">Torck</span> , van H'ynbergen,  <span style=\"color:rgb(251,154,153)\">met twee extraordinaris Gedeputeerden uyt de Provincie van Gelderlandt</span> .  <span style=\"color:rgb(178,223,138)\">Van Wassenaer</span> , vander  <span style=\"color:rgb(178,223,138)\">Dussen</span> , vander  <span style=\"color:rgb(178,223,138)\">Marck</span> .  <span style=\"color:rgb(178,223,138)\">Van Borsselen</span> , Noey, van Hoorn. De  <span style=\"color:rgb(178,223,138)\">Milan</span> <span style=\"color:rgb(178,223,138)\">Visconti</span> . De  <span style=\"color:rgb(178,223,138)\">Kempenaar</span> .  <span style=\"color:rgb(178,223,138)\">Van Berchuys</span> .<br><hr><br>\n",
       "<h4>session-1730-11-17-num-1</h4>\n",
       "<span style=\"color:rgb(31,120,180)\">Veeneris den 17. November1730.</span> <span style=\"color:rgb(253,191,111)\">PRAESIDEF, Den Heere</span> <span style=\"color:rgb(51,160,44)\">vander Waayen</span> .  <span style=\"color:rgb(227,26,28)\">PRAESENTIBUS</span> . De Heeren van Lynden, van Welderen, van Singendonck,  <span style=\"color:rgb(178,223,138)\">Essenius</span> ,  <span style=\"color:rgb(178,223,138)\">Torck</span> , van Hynbergen,  <span style=\"color:rgb(251,154,153)\">met twee extraordinaris Gedeputeerden uyt de Provincie van Gelderlandt</span> .  <span style=\"color:rgb(178,223,138)\">Van Wassenaer</span> , vander  <span style=\"color:rgb(178,223,138)\">Marck</span> , vande  <span style=\"color:rgb(178,223,138)\">Poll</span> , vander  <span style=\"color:rgb(178,223,138)\">Burgh</span> .  <span style=\"color:rgb(178,223,138)\">Van Borsselen</span> , Noey, van Hoorn. De  <span style=\"color:rgb(178,223,138)\">Milan</span> <span style=\"color:rgb(178,223,138)\">Visconti</span> . De  <span style=\"color:rgb(178,223,138)\">Kempenaer</span> <span style=\"color:rgb(178,223,138)\">Van Berchuys</span> .<br><hr><br>\n",
       "<h4>session-1730-11-18-num-1</h4>\n",
       "<span style=\"color:rgb(31,120,180)\">Sabbathi den 18. November1730.</span> <span style=\"color:rgb(253,191,111)\">PRADBSIDE, Den Heere</span> <span style=\"color:rgb(51,160,44)\">vander Waayen</span> .  <span style=\"color:rgb(227,26,28)\">PRAESENTIBUS</span> , De Heeren van Lynden, van Singen donck,  <span style=\"color:rgb(178,223,138)\">Bssenius</span> ,  <span style=\"color:rgb(178,223,138)\">Jorck</span> , van Wynbergen,  <span style=\"color:rgb(251,154,153)\">met twee extraordinaris Gedeputeerden uyt de Provincie van Gelderlandt</span> .  <span style=\"color:rgb(178,223,138)\">Van Wassenaer</span> .  <span style=\"color:rgb(178,223,138)\">Van Borsselen</span> ,  <span style=\"color:rgb(178,223,138)\">Bout</span> , Noey, van Hoorn. De  <span style=\"color:rgb(178,223,138)\">Milan</span> <span style=\"color:rgb(178,223,138)\">Visconti</span> . De  <span style=\"color:rgb(178,223,138)\">Kempenaar</span> .DE Resotutien, gisteren genomen, <br><hr><br>\n",
       "<h4>session-1730-11-20-num-1</h4>\n",
       "<span style=\"color:rgb(31,120,180)\">Dominica den 19. November1730. Nihil actum est. Luna den 20. November1730.</span> <span style=\"color:rgb(253,191,111)\">PRAESIDE, Den Heere</span> <span style=\"color:rgb(51,160,44)\">van Lynden</span> .  <span style=\"color:rgb(227,26,28)\">PRAEZSENTIBUS</span> , De Heeren van Welderen, van Singendonck,  <span style=\"color:rgb(178,223,138)\">Essenius</span> ,  <span style=\"color:rgb(178,223,138)\">Jorck</span> , van Wynbergen,  <span style=\"color:rgb(251,154,153)\">met een extraordinaris Gedeputeerde uyt de Provincie van Gelderlandt</span> .  <span style=\"color:rgb(178,223,138)\">Van Wassenaer</span> , vander  <span style=\"color:rgb(178,223,138)\">Marck</span> .  <span style=\"color:rgb(178,223,138)\">Van Borsselen</span> ,  <span style=\"color:rgb(178,223,138)\">Bout</span> , Noey, van Hoorn. De  <span style=\"color:rgb(178,223,138)\">Milan</span> <span style=\"color:rgb(178,223,138)\">Viscooti</span> . Vander Waayen.<br><hr><br>\n",
       "<h4>session-1730-11-21-num-1</h4>\n",
       "<span style=\"color:rgb(31,120,180)\">Martis den 21. November1730.</span> <span style=\"color:rgb(253,191,111)\">PRAESIDE, Den Heere</span> <span style=\"color:rgb(51,160,44)\">van Lynden</span> .  <span style=\"color:rgb(227,26,28)\">PRAESEXNTIBUS</span> , De Heeren van Singendonck,  <span style=\"color:rgb(178,223,138)\">Torck</span> , van Bynbergen ,  <span style=\"color:rgb(251,154,153)\">met een extraordinaris Gedeputeerde uyt de Frovincie van Gelderlandt</span> .  <span style=\"color:rgb(178,223,138)\">Van H'assenaer</span> , vander  <span style=\"color:rgb(178,223,138)\">Marck</span> , vande  <span style=\"color:rgb(178,223,138)\">Poll</span> , Raadtpensionaris van Slingelandt,  <span style=\"color:rgb(251,154,153)\">met een extraordinaris Gedeputeerde uyt de Provincie van Hollandt ende West - Vrieslundt</span> .  <span style=\"color:rgb(178,223,138)\">Van Borsselen</span> ,  <span style=\"color:rgb(178,223,138)\">Bout</span> , Noey, van Hoorn. De  <span style=\"color:rgb(178,223,138)\">Milan</span> <span style=\"color:rgb(178,223,138)\">Visconti</span> . Vander Waayen, van Goslinga.<br><hr><br>\n",
       "<h4>session-1730-11-22-num-1</h4>\n",
       "<span style=\"color:rgb(31,120,180)\">Mercurii den 22. November1730.</span> <span style=\"color:rgb(253,191,111)\">PRAASIDE, Den Heere</span> <span style=\"color:rgb(51,160,44)\">van Lynden</span> .  <span style=\"color:rgb(227,26,28)\">PRAESENTIBUS</span> , De Heeren van Welderen, vun Singendonck,  <span style=\"color:rgb(178,223,138)\">Torck</span> , van Wynbergen,  <span style=\"color:rgb(251,154,153)\">met twee extraordinaris Gedeputeerden uyt de Provincie van Gelderlandt</span> <span style=\"color:rgb(178,223,138)\">Van Wassenaer</span> , le Leu de Wilbem, vander  <span style=\"color:rgb(178,223,138)\">Marck</span>  , van Helsdingen,  <span style=\"color:rgb(251,154,153)\">met een extraordinaris Gedeputeerde uyt de Provincie van Hollandt ende West -Vrieslandt</span> .  <span style=\"color:rgb(178,223,138)\">Van Borsselen</span> ,  <span style=\"color:rgb(178,223,138)\">Bout</span> , Noey, van Hoorn. De  <span style=\"color:rgb(178,223,138)\">Milan</span> <span style=\"color:rgb(178,223,138)\">Visconti</span> . Vander Waayen, van Goslinga. <br><hr><br>\n",
       "<h4>session-1730-11-23-num-1</h4>\n",
       "<span style=\"color:rgb(31,120,180)\">Jovis den 23, November 1730.</span> <span style=\"color:rgb(253,191,111)\">PRAESIDE, Den Heere</span> <span style=\"color:rgb(51,160,44)\">van Lynden</span> .  <span style=\"color:rgb(227,26,28)\">PRAESENT IBUS</span> , De Heeren van Welderen, van Singendonck,  <span style=\"color:rgb(178,223,138)\">Torck</span> , van W'ynbergen,  <span style=\"color:rgb(251,154,153)\">met een extraordinaris Gedeputeerde uyt de Provincie van Gelderlandt</span> .  <span style=\"color:rgb(178,223,138)\">Van Wassenaer</span> , le Leu de  <span style=\"color:rgb(178,223,138)\">Wilhem</span> , vander  <span style=\"color:rgb(178,223,138)\">Marck</span>  , vande  <span style=\"color:rgb(178,223,138)\">Poll</span> .  <span style=\"color:rgb(178,223,138)\">Van Borsselen</span> ,  <span style=\"color:rgb(178,223,138)\">Bout</span> , Noey, van Hoorn. De  <span style=\"color:rgb(178,223,138)\">Milan</span> <span style=\"color:rgb(178,223,138)\">Visconti</span> . Vander Waayen, van Goslinga.DE Resolutien, gitteren gen omen, <br><hr><br>\n",
       "<h4>session-1730-11-24-num-1</h4>\n",
       "<span style=\"color:rgb(31,120,180)\">Veneris den 23. November1730.</span> <span style=\"color:rgb(253,191,111)\">PRAESIDE, Den Heere</span> <span style=\"color:rgb(51,160,44)\">van Lynden</span> .  <span style=\"color:rgb(227,26,28)\">PRAEZESENTIBUS</span> . De Heeren van Welderen, van Singendonck,  <span style=\"color:rgb(178,223,138)\">Torck</span> , van Wynbergen.  <span style=\"color:rgb(178,223,138)\">Van Wassenaer</span> , le Leu de Wilbem , vander  <span style=\"color:rgb(178,223,138)\">Marck</span> ,  <span style=\"color:rgb(251,154,153)\">met een extraordinars Gedeputeerde uyt de Provincie van Hollandt en West-Vrieslandt</span> .  <span style=\"color:rgb(178,223,138)\">Van Borsselen</span> ,  <span style=\"color:rgb(178,223,138)\">Bout</span> , Noey, van Hoorn. De  <span style=\"color:rgb(178,223,138)\">Milan</span> <span style=\"color:rgb(178,223,138)\">Visconti</span> . Vander Waayen, van Goslinga.DE Resolutiern, gisteren genomen, <br><hr><br>\n",
       "<h4>session-1730-11-25-num-1</h4>\n",
       "<span style=\"color:rgb(31,120,180)\">Sabbathi den 25. November1730.</span> <span style=\"color:rgb(253,191,111)\">PRAESIDE, Den Heere</span> <span style=\"color:rgb(51,160,44)\">van Lynden</span> <span style=\"color:rgb(227,26,28)\">PRAESENTIBUS</span> , De Heeren  <span style=\"color:rgb(178,223,138)\">Torck</span> , van Wynbergen.  <span style=\"color:rgb(178,223,138)\">Van Wassenaer</span> , vander  <span style=\"color:rgb(178,223,138)\">Marck</span> , Raadtpensonaris van Slingelandt,  <span style=\"color:rgb(251,154,153)\">met een entraordinuris Gedeputeerde uyt de Prowincie van Hollandt ende West - Vrieslandt</span> .  <span style=\"color:rgb(178,223,138)\">Wan Borselen</span> ,  <span style=\"color:rgb(178,223,138)\">Bout</span> , Noey, van Hoorn. De  <span style=\"color:rgb(178,223,138)\">Milan</span> <span style=\"color:rgb(178,223,138)\">Visconti</span> . Vunder Waayen, van Goslinga.DE Nesotutien, gisteren genomen, <br><hr><br>\n",
       "<h4>session-1730-11-27-num-1</h4>\n",
       "<span style=\"color:rgb(166,206,227)\"></span> Dominica den 26. November1730. Nihil actum est. Lune den 27. November1730. PRAESIDE, Den Heere van WassenaerPRAZSENTIBUS, De Heeren van Lynden, Torck, van W'ynbergen,  <span style=\"color:rgb(31,120,180)\">met twee extraordinaris Gedeputeerden uyt deProvincie van Gelderlandt</span> <span style=\"color:rgb(31,120,180)\">met twee extraordinaris Gedeputeerden uyt deProvincie van Gelderlandt</span> . Le Leu de  <span style=\"color:rgb(178,223,138)\">Wilhem</span> , vander  <span style=\"color:rgb(178,223,138)\">Marck</span> , vande  <span style=\"color:rgb(178,223,138)\">Poll</span> , Raadtpensionaris van Slingelandt.  <span style=\"color:rgb(178,223,138)\">Van Borsselen</span> ,  <span style=\"color:rgb(178,223,138)\">Bout</span> , Noey, van Hoorn. De  <span style=\"color:rgb(178,223,138)\">Milan</span>  Viscou'ti. Vander Waayen, van Goslinga.<br><hr><br>\n",
       "<h4>session-1730-11-28-num-1</h4>\n",
       "<span style=\"color:rgb(31,120,180)\">Martis den 28. November1730.</span> <span style=\"color:rgb(253,191,111)\">PRAESIDE, Den Heere</span> <span style=\"color:rgb(51,160,44)\">van Wassenaer</span> .  <span style=\"color:rgb(227,26,28)\">PRAESENTIBUS</span> , De Heeren van Lynden ,  <span style=\"color:rgb(178,223,138)\">Jorck</span> , van H'ynbergen,  <span style=\"color:rgb(251,154,153)\">met een exrtraordinaris Gedeputeerde uyt de Pruvincie van Gelderlandt</span> . Le Leu de Wilbem, vander  <span style=\"color:rgb(178,223,138)\">Marck</span> , Raadt. pensionaris van Slingelandt.  <span style=\"color:rgb(178,223,138)\">Bout</span> , Noey. De  <span style=\"color:rgb(178,223,138)\">Milan</span> <span style=\"color:rgb(178,223,138)\">Visconti</span> . Vander Wauayen, van Goslinga.DE RNesolutien, gisteren genomen, <br><hr><br>\n",
       "<h4>session-1730-11-29-num-1</h4>\n",
       "<span style=\"color:rgb(31,120,180)\">Mercturia den 29. November1730.</span> <span style=\"color:rgb(253,191,111)\">PRAESIDE. Den Heere</span> <span style=\"color:rgb(51,160,44)\">van Wassenaer</span> .  <span style=\"color:rgb(227,26,28)\">PRAZESENTIBUS</span> , De Heeren van Lynden,  <span style=\"color:rgb(178,223,138)\">Jorck</span> , van H'ynbergen,  <span style=\"color:rgb(251,154,153)\">met twee extraordinaris Gedeputeerden uyt de Provincie van Gelderlandt</span>  Le Leu de Wilbem, vander  <span style=\"color:rgb(178,223,138)\">Marck</span> , vander  <span style=\"color:rgb(178,223,138)\">Burgh</span> , Raadtpensionaris van Singelandt.  <span style=\"color:rgb(178,223,138)\">Van Borsselen</span> , Noey, van Hoorn. De  <span style=\"color:rgb(178,223,138)\">Milan</span> <span style=\"color:rgb(178,223,138)\">Visconti</span> . Vander Waayen, van Goslinga.DE Nesosutien, gisteren genomen, <br><hr><br>\n",
       "<h4>session-1730-11-30-num-1</h4>\n",
       "<span style=\"color:rgb(31,120,180)\">Joovis den 30. November 1730.</span> <span style=\"color:rgb(253,191,111)\">PRAESIDE, Den Heere</span> <span style=\"color:rgb(51,160,44)\">van Wassenaer</span> .  <span style=\"color:rgb(227,26,28)\">PRAESENTIPUS</span> , De Heeren van Lynden ,  <span style=\"color:rgb(178,223,138)\">Jorck</span> , van Usynbergen,  <span style=\"color:rgb(251,154,153)\">met twee extraordinaris Gedeputeerden uyt de Provincie van Gelderlandt</span> . Le Leu de  <span style=\"color:rgb(178,223,138)\">Wilhem</span> , vander  <span style=\"color:rgb(178,223,138)\">Marck</span> , vander  <span style=\"color:rgb(178,223,138)\">Burgh</span> , Raadtpensionaris van Slingelandt.  <span style=\"color:rgb(178,223,138)\">Bout</span> , Noey, van Hoorn. De  <span style=\"color:rgb(178,223,138)\">Milan</span> <span style=\"color:rgb(178,223,138)\">Visconti</span> . Vander Waayen, van Goslinga.DE Resolutiern , gisteren gen omen, <br><hr><br>\n",
       "<h4>session-1730-12-01-num-1</h4>\n",
       "<span style=\"color:rgb(31,120,180)\">Veeneris den 5. December 1730.</span> <span style=\"color:rgb(253,191,111)\">PRAESIDE, Den Heere</span> <span style=\"color:rgb(51,160,44)\">van Jassenaer</span> .  <span style=\"color:rgb(227,26,28)\">PRAESENTIBUS</span> . De Heeren van Lynden, van HWelderen,  <span style=\"color:rgb(178,223,138)\">Torck</span> , van Wynbergen,  <span style=\"color:rgb(251,154,153)\">met twee extraordinaris Gedeputeerden uyt de Provincie wan Gelderlandt</span> . Le Leu de  <span style=\"color:rgb(178,223,138)\">Wilhem</span> , vander  <span style=\"color:rgb(178,223,138)\">Marck</span>  , vande  <span style=\"color:rgb(178,223,138)\">Poll</span>  , Raadtpenslonaris van Slingelandt.  <span style=\"color:rgb(178,223,138)\">Van Borsselen</span> ,  <span style=\"color:rgb(178,223,138)\">Bout</span> , Noey, van Hoorn. De  <span style=\"color:rgb(178,223,138)\">Milan</span> <span style=\"color:rgb(178,223,138)\">Visconti</span> . Vander Weaayen, van Goslinga.DE Ncsolutien, gisteren genomen, <br><hr><br>\n",
       "<h4>session-1730-12-02-num-1</h4>\n",
       "<span style=\"color:rgb(31,120,180)\">Sabbathi den 2. December 1730.</span> <span style=\"color:rgb(227,26,28)\">PRAESIDE, Den Heere</span> <span style=\"color:rgb(51,160,44)\">van Wassenaer</span> .  <span style=\"color:rgb(251,154,153)\">PRAESENTIBUS</span> , De Heeren van Lynden,  <span style=\"color:rgb(178,223,138)\">Jorck</span> , van BW ynbergen. Le Leu de  <span style=\"color:rgb(178,223,138)\">Wilhem</span>  , Raadtpensionaris van Slingelandt.  <span style=\"color:rgb(178,223,138)\">Van Borsselen</span> , Noey, van Hoorn. De  <span style=\"color:rgb(178,223,138)\">Milan</span> <span style=\"color:rgb(178,223,138)\">Visconti</span> . Vunder Waayen, van Goslinga. DE Nesorutien, gisteren genomen, <br><hr><br>\n",
       "<h4>session-1730-12-04-num-1</h4>\n",
       "<span style=\"color:rgb(31,120,180)\">Dominica den 3. December1730.Nihil actum est.Luna den 4. December1730.</span> <span style=\"color:rgb(253,191,111)\">PRAESIDE,Den Heere</span> <span style=\"color:rgb(51,160,44)\">van Borsselen</span> <span style=\"color:rgb(227,26,28)\">PRAZSENTIBUS</span> , De Heeren van Tynden , van Welderen,  <span style=\"color:rgb(178,223,138)\">Torck</span> , van Wynbergen ,  <span style=\"color:rgb(251,154,153)\">met drie extraordinaris Gedeputeerden uyt de Provincie van Gelderlandt</span> .  <span style=\"color:rgb(178,223,138)\">Van Wassenaer</span> , vanden Boetzelaar, le Leu de Wilbem , vande  <span style=\"color:rgb(178,223,138)\">Poll</span>  , Raadtpensionaris van Slingelandt.  <span style=\"color:rgb(178,223,138)\">Bout</span>  , Noey, van Hoorn. De  <span style=\"color:rgb(178,223,138)\">Milan</span> <span style=\"color:rgb(178,223,138)\">Visconti</span> . Vander Haayen, van Goslinga.  <span style=\"color:rgb(178,223,138)\">Van Tamminga</span> .DE Resorutien eerginteren genomen, <br><hr><br>\n",
       "<h4>session-1730-12-05-num-1</h4>\n",
       "<span style=\"color:rgb(31,120,180)\">Martis den 5. December1730.</span> <span style=\"color:rgb(253,191,111)\">PRAESIDE, Den Heere</span> <span style=\"color:rgb(51,160,44)\">van Borsselen</span> .  <span style=\"color:rgb(227,26,28)\">PRAESENTIBUS</span>  De Heeren van Lynden ,  <span style=\"color:rgb(178,223,138)\">Torck</span> ,  <span style=\"color:rgb(251,154,153)\">met drie extraordinaris Gedeputeerden uyt de Prowincie van Gelderlandt</span> .  <span style=\"color:rgb(178,223,138)\">Van Wassenaer</span> , le Leu de Wilbem, vander  <span style=\"color:rgb(178,223,138)\">Marck</span> , Raadtpensionaris van Slingelandt.  <span style=\"color:rgb(178,223,138)\">Bout</span> , Noey, van Hoorn. De  <span style=\"color:rgb(178,223,138)\">Milan</span> <span style=\"color:rgb(178,223,138)\">Visconti</span> . Vander Waayen, van Goslinga.  <span style=\"color:rgb(178,223,138)\">Van Tamminga</span> .DE Resoruten, gisteren genomen, <br><hr><br>\n",
       "<h4>session-1730-12-06-num-1</h4>\n",
       "<span style=\"color:rgb(31,120,180)\">Mercurii den 6. December1730.</span> <span style=\"color:rgb(253,191,111)\">PRAESIDE, Den Heere</span> <span style=\"color:rgb(51,160,44)\">van Borselen</span> .  <span style=\"color:rgb(227,26,28)\">PRAESENTIBUS</span> , De Heeren van Lynden, van Welderen,  <span style=\"color:rgb(178,223,138)\">Torck</span> ,  <span style=\"color:rgb(251,154,153)\">met twee extraordinaris Gedeputeerden uyt de Provincie van Gelderlandt</span> .  <span style=\"color:rgb(178,223,138)\">Van Wassenaer</span> , le Leu de Wilbem , vander  <span style=\"color:rgb(178,223,138)\">Marck</span> , Raadtpensionaris van Slingelandt.  <span style=\"color:rgb(178,223,138)\">Bout</span> , Noey, van Hoorn. De  <span style=\"color:rgb(178,223,138)\">Milan</span> <span style=\"color:rgb(178,223,138)\">Visconti</span> . Vander Waayen, van Goslinga.  <span style=\"color:rgb(178,223,138)\">Van lsselmuden</span> .  <span style=\"color:rgb(178,223,138)\">Van Tamminga</span> .DE Nesolutten, gisteren genomen, <br><hr><br>\n",
       "<h4>session-1730-12-07-num-1</h4>\n",
       "<span style=\"color:rgb(31,120,180)\">Jovis den 7. December1730.</span> <span style=\"color:rgb(253,191,111)\">PRAESTDE Den Heere</span> <span style=\"color:rgb(51,160,44)\">van Borselen</span> .  <span style=\"color:rgb(227,26,28)\">PRAESENTIBUS</span> ) De Heeren van Lynden , van Welderen,  <span style=\"color:rgb(178,223,138)\">Torck</span> ,  <span style=\"color:rgb(251,154,153)\">met twee extraordinaris Gedeputeerden uyt de Provincie van Gelderlandt</span> .  <span style=\"color:rgb(178,223,138)\">Van Wassenaer</span> , le Leu de  <span style=\"color:rgb(178,223,138)\">Wilhem</span>  , vander  <span style=\"color:rgb(178,223,138)\">Marck</span> , Raadtpensionaris van Slingelandt.  <span style=\"color:rgb(178,223,138)\">Bout</span> , Noey, van Hoorn. De  <span style=\"color:rgb(178,223,138)\">Milan</span> <span style=\"color:rgb(178,223,138)\">Visconti</span> . Vander Waayen, van Goslinga.  <span style=\"color:rgb(178,223,138)\">Van lsselmuden</span> .  <span style=\"color:rgb(178,223,138)\">Van Tamminga</span> .DE Resorutien, gitteren genomen, <br><hr><br>\n",
       "<h4>session-1730-12-08-num-1</h4>\n",
       "<span style=\"color:rgb(31,120,180)\">Veneris den 8. December1730.</span> <span style=\"color:rgb(253,191,111)\">PRAESIDE, Den Heere</span> <span style=\"color:rgb(51,160,44)\">van Borselen</span> .  <span style=\"color:rgb(227,26,28)\">PRAESENTIBUS</span> , De Heeren van Lynden ,  <span style=\"color:rgb(178,223,138)\">Torck</span> , met vier  <span style=\"color:rgb(251,154,153)\">extraordinaris Gedeputeerden uyt de Provincie van Gelderlandt</span> .  <span style=\"color:rgb(178,223,138)\">Van Hassenaer</span> , vander  <span style=\"color:rgb(178,223,138)\">Marck</span> , Raadtpensionaris van Slingelandt.  <span style=\"color:rgb(178,223,138)\">Bout</span> , Noey, van Hoorn. De  <span style=\"color:rgb(178,223,138)\">Milan</span> <span style=\"color:rgb(178,223,138)\">Visconti</span> . Vander Waayen, van Goslinga.  <span style=\"color:rgb(178,223,138)\">Van lsselmuden</span> .  <span style=\"color:rgb(178,223,138)\">Van Tamminga</span> .DE Newiuuern, gisteren genomen, <br><hr><br>\n",
       "<h4>session-1730-12-09-num-1</h4>\n",
       "<span style=\"color:rgb(31,120,180)\">Sabbathi den 9. December1730.</span> <span style=\"color:rgb(253,191,111)\">PRAESITDE, Den Heere</span> <span style=\"color:rgb(51,160,44)\">van Borsselen</span> .  <span style=\"color:rgb(227,26,28)\">PRAESENTIBUS</span> , De Heeren van Lynden,  <span style=\"color:rgb(178,223,138)\">Jorck</span> ,  <span style=\"color:rgb(251,154,153)\">met een extraordinaris Gedeputeerde uyt de Provincie van Gelderlandt</span> .  <span style=\"color:rgb(178,223,138)\">Van Wassenaer</span> , Raadtpensionaris van Slingelandt,  <span style=\"color:rgb(251,154,153)\">met een extraordinaris Gedeputeerde uyt de Provincie van</span>  Hollandt en West-lVrieslandt. Noey, van Hoorn. De  <span style=\"color:rgb(178,223,138)\">Milan</span> <span style=\"color:rgb(178,223,138)\">Visconti</span> . Vander Waayen, van Goslinga.  <span style=\"color:rgb(178,223,138)\">Van lsselmuden</span> .  <span style=\"color:rgb(178,223,138)\">Van Tamminga</span> .DE Resorutien, gisteren genomen, <br><hr><br>\n",
       "<h4>session-1730-12-11-num-1</h4>\n",
       "<br><hr><br>\n",
       "<h4>session-1730-12-12-num-1</h4>\n",
       "<span style=\"color:rgb(31,120,180)\">Martis den 12, December 1730.</span> <span style=\"color:rgb(253,191,111)\">PRAESIDE, Den Heere</span> <span style=\"color:rgb(51,160,44)\">de Milan Visconti</span> .  <span style=\"color:rgb(227,26,28)\">PRAESENTIBUS</span> , De Heeren van Lynden ,  <span style=\"color:rgb(178,223,138)\">Torck</span> ,  <span style=\"color:rgb(251,154,153)\">met twee extraordinaris Gedeputeerden uyt de Provincie van Gelderlandt</span> .  <span style=\"color:rgb(178,223,138)\">Van Wassenaer</span> , le Leu de Wilbem, vander  <span style=\"color:rgb(178,223,138)\">Marck</span> , vande  <span style=\"color:rgb(178,223,138)\">Poll</span> , Raadtpensionaris van Slingelandt,  <span style=\"color:rgb(251,154,153)\">met een extraordinaris Gedeputeerde uyt de Provincie van</span>  Hollandt en West-l'rieslandt.  <span style=\"color:rgb(178,223,138)\">Van Borsselen</span> ,  <span style=\"color:rgb(178,223,138)\">Bout</span> , Noey, van Hoorn. Vander Waayen, van Goslinga. Van lelmuden.  <span style=\"color:rgb(178,223,138)\">Van Tamminga</span> .DE Resonseen , guerre genomen, <br><hr><br>\n",
       "<h4>session-1730-12-13-num-1</h4>\n",
       "<span style=\"color:rgb(31,120,180)\">Mercurii den 13. December 1730.</span> <span style=\"color:rgb(253,191,111)\">PRAESIDE, Den Heere</span> <span style=\"color:rgb(51,160,44)\">de Milan Visconti</span> .  <span style=\"color:rgb(227,26,28)\">PRAESENTIBUS</span> , De Heeren van Lynden,  <span style=\"color:rgb(178,223,138)\">Torck</span> ,  <span style=\"color:rgb(251,154,153)\">met twee extraordinaris Gedeputeerden uyt de Provincie van Gelderlandt</span> .  <span style=\"color:rgb(178,223,138)\">Van B'assenaer</span> , le Leu de  <span style=\"color:rgb(178,223,138)\">Wilhem</span> , vander  <span style=\"color:rgb(178,223,138)\">Marck</span> , vande  <span style=\"color:rgb(178,223,138)\">Poll</span> ,  <span style=\"color:rgb(251,154,153)\">met een extraordinars Gedeputeerde uyt de Provincie van Hollandt en West-Vrieslandt</span> .  <span style=\"color:rgb(178,223,138)\">Van Borsselen</span> ,  <span style=\"color:rgb(178,223,138)\">Bout</span> , Noey, van Hoorn. Vander Waayen, van Goslinga.  <span style=\"color:rgb(178,223,138)\">Van lsselmuden</span> .  <span style=\"color:rgb(178,223,138)\">Van Tamminga</span> .<br><hr><br>\n",
       "<h4>session-1730-12-14-num-1</h4>\n",
       "<span style=\"color:rgb(31,120,180)\">Jovis den 14, December1730.</span> <span style=\"color:rgb(253,191,111)\">PRAESIDE, Den Heere</span> <span style=\"color:rgb(51,160,44)\">de Milan Visconti</span> .  <span style=\"color:rgb(227,26,28)\">PRAESENTIBUS</span> , De Heeren van Lynden,  <span style=\"color:rgb(178,223,138)\">Torck</span> ,  <span style=\"color:rgb(251,154,153)\">met twee extraordinaris Gedeputeerden uyt de Provincie van Gelderlandt</span> .  <span style=\"color:rgb(178,223,138)\">Van Wassenaer</span> , le Leu de  <span style=\"color:rgb(178,223,138)\">Wilhem</span> , vander  <span style=\"color:rgb(178,223,138)\">Marck</span> , Raadtpensionaris van Slingelandt,  <span style=\"color:rgb(251,154,153)\">met een extraordinuris Gedeputeerde uyt de Provincie van Bollandt ende West-Vrieslandt</span> .  <span style=\"color:rgb(178,223,138)\">Van Borsselen</span> ,  <span style=\"color:rgb(178,223,138)\">Bout</span> , van Hoorn ,  <span style=\"color:rgb(251,154,153)\">met een extraordinaris Gedeputeerde uyt de Provincie van Zeelandt</span> . Vander Waayen, van Goslinga.  <span style=\"color:rgb(178,223,138)\">Van lsselmuden</span> .  <span style=\"color:rgb(178,223,138)\">Van Tamminga</span> .DE Resolutien , gitteren genomen, <br><hr><br>\n",
       "<h4>session-1730-12-15-num-1</h4>\n",
       "<span style=\"color:rgb(31,120,180)\">Veneris den 15. December 1730</span> <span style=\"color:rgb(253,191,111)\">PRAESIDE, Den Heere</span> <span style=\"color:rgb(51,160,44)\">de Milan Visconti</span> .  <span style=\"color:rgb(227,26,28)\">PRAESENTIBUS</span> ., De Heeren van Lynden, van Welderen,  <span style=\"color:rgb(178,223,138)\">Torck</span> ,  <span style=\"color:rgb(251,154,153)\">met twee extraordinaris Gedeputeerden uyt de Provincie van Gelderlandt</span> .  <span style=\"color:rgb(178,223,138)\">Van Wassenaer</span> , le Leu de  <span style=\"color:rgb(178,223,138)\">Wilhem</span> , vander  <span style=\"color:rgb(178,223,138)\">Marck</span> , Raudtpensionaris van Slingelandt,  <span style=\"color:rgb(251,154,153)\">met een extraordinaris Gedeputeerde uyt de Provincie van Hollandt en West-Vrieslandt</span> .  <span style=\"color:rgb(178,223,138)\">Van Borselen</span> ,  <span style=\"color:rgb(178,223,138)\">Bout</span> , Noey, van Hoorn,  <span style=\"color:rgb(251,154,153)\">met een extraordinaris Gedeputeerde uyt de Provincie van Zeelandt</span> . Vander Waayen, van Goslinga.  <span style=\"color:rgb(178,223,138)\">Van Isselmuden</span> .  <span style=\"color:rgb(178,223,138)\">Van Tamminga</span> .DE Relolutien, gisteren genomen, <br><hr><br>\n",
       "<h4>session-1730-12-16-num-1</h4>\n",
       "<span style=\"color:rgb(251,154,153)\"></span> Oabbathi den 16. December1730. PRAEDESIUDE, Den Heere de  <span style=\"color:rgb(31,120,180)\">Milan</span> <span style=\"color:rgb(31,120,180)\">Visconti</span> .  <span style=\"color:rgb(51,160,44)\">PRAESENTIBUS</span> , De Heeren van Lynden , van Welderen ,  <span style=\"color:rgb(31,120,180)\">Torck</span> .  <span style=\"color:rgb(31,120,180)\">Van Wassenaer</span> , Raadtpensionaris van Slingelandt,  <span style=\"color:rgb(178,223,138)\">met een extraordinaris Gedeputeerde uyt de Provincie van</span>  Hollandt en West-lrieslandt.  <span style=\"color:rgb(31,120,180)\">Van Borsselen</span> ,  <span style=\"color:rgb(31,120,180)\">Bout</span> , van Hoorn. Vunder Waayen, van Goslinga.  <span style=\"color:rgb(31,120,180)\">Van ls'elmuden</span> .  <span style=\"color:rgb(31,120,180)\">Van Tamminga</span> .DE RNesofutien, gisteren genomen, <br><hr><br>\n",
       "<h4>session-1730-12-18-num-1</h4>\n",
       "<span style=\"color:rgb(31,120,180)\">Dominica den 17. December 1730. Nibil actum est. Luna den 18. December1730.</span> <span style=\"color:rgb(253,191,111)\">PRAESIDE, Den Heere</span> <span style=\"color:rgb(51,160,44)\">vander Waayen</span> .  <span style=\"color:rgb(227,26,28)\">PRAESENTIBUS</span> , De Heeren van Lynden, van Welderen,  <span style=\"color:rgb(178,223,138)\">Torck</span> ,  <span style=\"color:rgb(251,154,153)\">met twee extraordinaris Gedeputeerden uyt de Provincie van Gelderlandt</span> . Le Leu de  <span style=\"color:rgb(178,223,138)\">Wilhem</span> , vander  <span style=\"color:rgb(178,223,138)\">Ramhorst</span> ,  <span style=\"color:rgb(251,154,153)\">met een extraordinaris Gedeputeerde uyt de Provincie van Hollandt en West - Vrieslandt</span> .  <span style=\"color:rgb(178,223,138)\">Van Borsselen</span> ,  <span style=\"color:rgb(178,223,138)\">Bout</span> , van Hoorn. De  <span style=\"color:rgb(178,223,138)\">Milan</span> <span style=\"color:rgb(178,223,138)\">Visconti</span> . Van Goslinga.  <span style=\"color:rgb(178,223,138)\">Van lsselmuden</span> .  <span style=\"color:rgb(178,223,138)\">Van Tamminga</span> .<br><hr><br>\n",
       "<h4>session-1730-12-19-num-1</h4>\n",
       "<span style=\"color:rgb(31,120,180)\">Martis den 19. December1730.</span> <span style=\"color:rgb(227,26,28)\">PRAESIDE, Den Heere</span> <span style=\"color:rgb(51,160,44)\">vander Waayen</span> .  <span style=\"color:rgb(251,154,153)\">PRAZESENTIBUS</span> , De Heeren van Lynden, van Welderen,  <span style=\"color:rgb(178,223,138)\">Torck</span> .  <span style=\"color:rgb(178,223,138)\">Van Wassenaer</span> , vander  <span style=\"color:rgb(178,223,138)\">Marck</span> , vander Ramhorf.  <span style=\"color:rgb(178,223,138)\">Van Borsselen</span> ,  <span style=\"color:rgb(178,223,138)\">Bout</span> , van Hoorn. De  <span style=\"color:rgb(178,223,138)\">Milan</span> <span style=\"color:rgb(178,223,138)\">Visconti</span> .  <span style=\"color:rgb(178,223,138)\">Van lsselmuden</span> .  <span style=\"color:rgb(178,223,138)\">Van Tamminga</span> .DE Resolutien, guteren genomen, <br><hr><br>\n",
       "<h4>session-1730-12-20-num-1</h4>\n",
       "<span style=\"color:rgb(31,120,180)\">Mercurii den 20, December1730.</span> <span style=\"color:rgb(253,191,111)\">PRAESIDE, Den Heere</span> <span style=\"color:rgb(51,160,44)\">vander Waayen</span> .  <span style=\"color:rgb(227,26,28)\">PRAESEBENTIBUS</span> , De Heeren van Lynden,  <span style=\"color:rgb(178,223,138)\">Torck</span> ,  <span style=\"color:rgb(251,154,153)\">met een extraordinaris Gedeputeerde uyt de Provincie van Gelderlandt</span> .  <span style=\"color:rgb(178,223,138)\">Van Wassenaer</span> , vander  <span style=\"color:rgb(178,223,138)\">Ramhorst</span>  ,  <span style=\"color:rgb(251,154,153)\">met een extraordinars Gedeputeerde uyt de Provincie van Hollandt en West-Vrieslandt</span> .  <span style=\"color:rgb(178,223,138)\">Van Borsselen</span> ,  <span style=\"color:rgb(178,223,138)\">Bout</span> , van Hoorn. De  <span style=\"color:rgb(178,223,138)\">Milan</span> <span style=\"color:rgb(178,223,138)\">Visconti</span> .  <span style=\"color:rgb(178,223,138)\">Van lsselmuden</span> . Van Ta minga.DE RNesolutien, gisteren genomen, <br><hr><br>\n",
       "<h4>session-1730-12-21-num-1</h4>\n",
       "<span style=\"color:rgb(31,120,180)\">Jovis den 21, December1730.</span> <span style=\"color:rgb(253,191,111)\">PRAESITDE, Den Heere</span> <span style=\"color:rgb(51,160,44)\">vander Waayen</span> .  <span style=\"color:rgb(227,26,28)\">PRAESENTIBUS</span> , De Heeren van Lynden ,  <span style=\"color:rgb(178,223,138)\">Torck</span>  ,  <span style=\"color:rgb(251,154,153)\">met een extraordinaris Gedeputeerde uyt de Prowincie van Gelderlandt</span> .  <span style=\"color:rgb(178,223,138)\">Van Wassenaer</span> , vander  <span style=\"color:rgb(178,223,138)\">Marck</span>  , vander  <span style=\"color:rgb(178,223,138)\">Ramhorst</span> .  <span style=\"color:rgb(178,223,138)\">Van Borsselen</span> ,  <span style=\"color:rgb(178,223,138)\">Bout</span> , van Hoorn. De  <span style=\"color:rgb(178,223,138)\">Milan</span> <span style=\"color:rgb(178,223,138)\">Visconti</span> .  <span style=\"color:rgb(178,223,138)\">Van lIsselmuden</span> . V'an  <span style=\"color:rgb(178,223,138)\">Tamminga</span> . <br><hr><br>\n",
       "<h4>session-1730-12-22-num-1</h4>\n",
       "<span style=\"color:rgb(31,120,180)\">Veneris den 22. December1730.</span> <span style=\"color:rgb(253,191,111)\">PRAESIDE, Den Heere</span> <span style=\"color:rgb(51,160,44)\">vander Waayen</span> .  <span style=\"color:rgb(227,26,28)\">PRAESENTIBUS</span> , De Heeren van Lynden ,  <span style=\"color:rgb(178,223,138)\">Torck</span> ,  <span style=\"color:rgb(251,154,153)\">met een extraordinaris Gedeputeerde uyt de Provincie van Geldelandt</span> . Vander  <span style=\"color:rgb(178,223,138)\">Marck</span> , vander  <span style=\"color:rgb(178,223,138)\">Ramborst</span> .  <span style=\"color:rgb(178,223,138)\">Van Borsselen</span> ,  <span style=\"color:rgb(178,223,138)\">Bout</span> , van Hoorn. De  <span style=\"color:rgb(178,223,138)\">Milan</span> <span style=\"color:rgb(178,223,138)\">Visconti</span> .  <span style=\"color:rgb(178,223,138)\">Van lsselmuden</span> .  <span style=\"color:rgb(178,223,138)\">Van Tamminga</span> . DE RNesolutien, gisteren genomen, <br><hr><br>\n",
       "<h4>session-1730-12-23-num-1</h4>\n",
       "<span style=\"color:rgb(31,120,180)\">Sabbathi den 23.. December1730.</span> <span style=\"color:rgb(227,26,28)\">PRAESIDE, Den Heere</span> <span style=\"color:rgb(51,160,44)\">vunder Waayen</span> .  <span style=\"color:rgb(251,154,153)\">PRAESENTIBUS</span> , De Heeren van Lynden,  <span style=\"color:rgb(178,223,138)\">Torck</span> .  <span style=\"color:rgb(178,223,138)\">Van Wassenaer</span> , vander  <span style=\"color:rgb(178,223,138)\">Ramhorst</span> .  <span style=\"color:rgb(178,223,138)\">Van Borsselen</span> , van Hoorn. De  <span style=\"color:rgb(178,223,138)\">Milan</span> <span style=\"color:rgb(178,223,138)\">Visconti</span> .  <span style=\"color:rgb(178,223,138)\">Wan Jsselmuden</span> .  <span style=\"color:rgb(178,223,138)\">Van Tamminga</span> . DE Ncsosutien, gisteren geno<br><hr><br>\n",
       "<h4>session-1730-12-27-num-1</h4>\n",
       "<span style=\"color:rgb(178,223,138)\"></span> <span style=\"color:rgb(51,160,44)\"></span> Dominica den 24. December1730. MNihilvactum est. Lune den 25. Decentber1730. Zynde eerste Kersdagh. Nihil actum est. Martis den 26. December1730. Zynde tweede Kersdagh. Nibil actum est. Mercurii den 27. December1730.  <span style=\"color:rgb(251,154,153)\">PROAESFDY, Den Heere</span>  van Jlsselmuden. PRAESENTIBPOX De Heeren van Lynden, van W'ynbergen.  <span style=\"color:rgb(31,120,180)\">Van Wassenaer</span> .  <span style=\"color:rgb(31,120,180)\">Van Borsselen</span> ,  <span style=\"color:rgb(31,120,180)\">Bout</span> , van Hoorn. De  <span style=\"color:rgb(31,120,180)\">Milan</span> <span style=\"color:rgb(31,120,180)\">Visconti</span> . Vander Waayen.  <span style=\"color:rgb(31,120,180)\">Van Tamminga</span> .DE Nssolsudgen voorsede Satur<br><hr><br>\n",
       "<h4>session-1730-12-28-num-1</h4>\n",
       "<span style=\"color:rgb(31,120,180)\">Tovis den 28, December1730.</span> <span style=\"color:rgb(227,26,28)\">PRAESIDE, Den Heere</span> <span style=\"color:rgb(51,160,44)\">van lysselmuden</span> .  <span style=\"color:rgb(251,154,153)\">PRAESENTIBUS</span> , De Heeren van Lynden, van Welderen,  <span style=\"color:rgb(178,223,138)\">Torck</span> , van W'ynbergen.  <span style=\"color:rgb(178,223,138)\">Van Wassenaer</span> .  <span style=\"color:rgb(178,223,138)\">Van Borsselen</span> , van Hoorn. De  <span style=\"color:rgb(178,223,138)\">Milan</span> <span style=\"color:rgb(178,223,138)\">Visconti</span> . Vander Waayen.  <span style=\"color:rgb(178,223,138)\">Van Tamminga</span> .DE Resoruten, gurteren gen omen, <br><hr><br>\n",
       "<h4>session-1730-12-29-num-1</h4>\n",
       "<span style=\"color:rgb(31,120,180)\">Veeneris den 29. December1730.</span> <span style=\"color:rgb(227,26,28)\">PRAESIDE, Den Heere</span> <span style=\"color:rgb(51,160,44)\">van Isselmuden</span> <span style=\"color:rgb(251,154,153)\">PRAESENTIBUS</span> , De Heeren van Lynden , van Welderen, wan Wynbergen.  <span style=\"color:rgb(178,223,138)\">Van Wassenaer</span> .  <span style=\"color:rgb(178,223,138)\">Bout</span> , van Hoorn. De  <span style=\"color:rgb(178,223,138)\">Milan</span>  Viscomi. Vander Waayen.  <span style=\"color:rgb(178,223,138)\">Van Tamminga</span> .DEE Resorutien, gisteren genomen, <br><hr><br>\n",
       "<h4>session-1730-12-30-num-1</h4>\n",
       "<span style=\"color:rgb(166,206,227)\"></span> Oabbathi den 30.. December1730. PRAEBSIDE, Den Heere  <span style=\"color:rgb(31,120,180)\">vun lsselmuden</span> PRAESENTIRBRUS, De Heeren van Lynden, van W'ynbergen.  <span style=\"color:rgb(31,120,180)\">Van Hurck</span> , van Helsdingen.  <span style=\"color:rgb(31,120,180)\">Van Hoorn</span> . PEES. De  <span style=\"color:rgb(31,120,180)\">Milan</span> <span style=\"color:rgb(31,120,180)\">Visconti</span> . Vander Waayen.  <span style=\"color:rgb(31,120,180)\">Van Tamminga</span> .DE Resofutien, gisteren genomen, "
      ],
      "text/plain": [
       "<IPython.core.display.HTML object>"
      ]
     },
     "execution_count": 52,
     "metadata": {},
     "output_type": "execute_result"
    }
   ],
   "source": [
    "searchobs = runner.searchobs\n",
    "from IPython.display import HTML\n",
    "htmlout=[]\n",
    "for T in searchobs:\n",
    "    ob = searchobs[T].matched_text\n",
    "    ob.mapcolors()\n",
    "    rest = ob.serialize()\n",
    "    rest = f\"\\n<h4>{T}</h4>\\n\" + rest\n",
    "#     if url:\n",
    "#         rest += f\"\"\"<br/><br/><a href='{url}'>link naar {T}-image</a><br/>\"\"\"\n",
    "    htmlout.append(rest)\n",
    "#out.reverse()\n",
    "HTML(\"<br><hr><br>\".join(htmlout))\n"
   ]
  },
  {
   "cell_type": "code",
   "execution_count": 9,
   "metadata": {},
   "outputs": [
    {
     "name": "stdout",
     "output_type": "stream",
     "text": [
      "3. finding unmarked text\n"
     ]
    }
   ],
   "source": [
    "deputies = runner.find_unmarked_text()"
   ]
  },
  {
   "cell_type": "code",
   "execution_count": 10,
   "metadata": {},
   "outputs": [],
   "source": [
    "connected_presidents = run_attendancelist.FuzzyKeywordGrouper(runner.presidents).vars2graph()\n",
    "d = run_attendancelist.find_delegates(input=connected_presidents,\n",
    "               matchfnd=runner.matchfnd,\n",
    "               df=runner.abbreviated_delegates,\n",
    "               previously_matched=runner.found_delegates,\n",
    "               year=runner.year)"
   ]
  },
  {
   "cell_type": "code",
   "execution_count": 107,
   "metadata": {},
   "outputs": [
    {
     "name": "stdout",
     "output_type": "stream",
     "text": [
      "Phrase(, None)\n",
      "Phrase(, None)\n"
     ]
    }
   ],
   "source": [
    "new_found_delegates = run_attendancelist.find_delegates(input=deputies,\n",
    "                                             matchfnd=runner.matchfnd,\n",
    "               df=runner.abbreviated_delegates,\n",
    "               previously_matched=runner.found_delegates,\n",
    "               year=runner.year)"
   ]
  },
  {
   "cell_type": "code",
   "execution_count": 108,
   "metadata": {},
   "outputs": [
    {
     "data": {
      "text/plain": [
       "{'matched': defaultdict(list,\n",
       "             {17397: {'id': 17397,\n",
       "               'm_kw': 'Quint',\n",
       "               'score': 0.9,\n",
       "               'name': 'Quintus',\n",
       "               'variants': [('Quint', 'Quint', 1.0),\n",
       "                ('Suint', 'Quint', 0.8),\n",
       "                ('Ouint', 'Quint', 0.8),\n",
       "                ('Quiut', 'Quint', 0.8),\n",
       "                ('Jouint', 'Quint', 0.6666666666666667),\n",
       "                ('&uint', 'Quint', 0.8),\n",
       "                ('Vuint', 'Quint', 0.8)]},\n",
       "              17821: {'id': 17821,\n",
       "               'm_kw': 'Amerongen',\n",
       "               'score': 0.9,\n",
       "               'name': 'Borre van Amerongen',\n",
       "               'variants': [('Amerongen', 'Amerongen', 1.0),\n",
       "                (\"a'merongen\", 'a', 1.0)]},\n",
       "              13477: {'id': 13477,\n",
       "               'm_kw': 'Wassenaer',\n",
       "               'score': 1.0,\n",
       "               'name': 'van Wassenaer van Obdam',\n",
       "               'variants': [('HWiassenaer', 'Wassenaer', 0.8181818181818181),\n",
       "                ('Weasscnaer', 'Wassenaer', 0.8),\n",
       "                ('Yassenaer', 'Wassenaer', 0.8888888888888888),\n",
       "                ('Wassenser', 'Wassenaer', 0.8888888888888888),\n",
       "                ('Wassenaer', 'Wassenaer', 1.0),\n",
       "                (\"H'assenaer\", 'Heusden', 1.0),\n",
       "                ('Hassenaer', 'Wassenaer', 0.8888888888888888),\n",
       "                ('assenaer', 'Wassenaer', 0.8888888888888888),\n",
       "                ('Wiassenaer', 'Wassenaer', 0.9),\n",
       "                ('Weassenaer', 'Wassenaer', 0.9),\n",
       "                ('Heassenaer', 'Wassenaer', 0.8),\n",
       "                ('Wassenaar', 'Wassenaer', 0.8888888888888888),\n",
       "                (\"B'assenaer\", 'Buysero', 1.0)]},\n",
       "              17077: {'id': 17077,\n",
       "               'm_kw': 'Borssele',\n",
       "               'score': 1.0,\n",
       "               'name': 'van Borssele',\n",
       "               'variants': [('Borselen', 'Borselen', 1.0),\n",
       "                ('Bôrsselen', 'Borssele', 0.7777777777777778),\n",
       "                ('Borsselen', 'Borssele', 0.8888888888888888),\n",
       "                ('Borssêlen', 'Borssele', 0.7777777777777778),\n",
       "                ('Beorsselen', 'Borssele', 0.8),\n",
       "                ('Bursselen', 'Borssele', 0.7777777777777778)]},\n",
       "              15268: {'id': 15268,\n",
       "               'm_kw': 'Blokland',\n",
       "               'score': 1.0,\n",
       "               'name': 'Brandwijk van Blokland',\n",
       "               'variants': [('Bilocklandt', 'Blokland', 0.7272727272727273),\n",
       "                ('Blocklandr', 'Blokland', 0.8),\n",
       "                ('Blocklandt', 'Blokland', 0.8),\n",
       "                ('Blocklandit', 'Blokland', 0.7272727272727273),\n",
       "                ('Blocklandi', 'Blokland', 0.8)]},\n",
       "              16901: {'id': 16901,\n",
       "               'm_kw': 'Bout',\n",
       "               'score': 1.0,\n",
       "               'name': 'Bout',\n",
       "               'variants': [('Boat', 'Bost', 0.75),\n",
       "                ('Bout', 'Bout', 1.0),\n",
       "                ('Buut', 'Bout', 0.75)]},\n",
       "              17563: {'id': 17563,\n",
       "               'm_kw': 'Holthe',\n",
       "               'score': 1.0,\n",
       "               'name': 'van Holthe',\n",
       "               'variants': [('Houithe', 'Holthe', 0.7142857142857143),\n",
       "                ('Holthe', 'Holthe', 1.0),\n",
       "                ('Holthen', 'Holten', 0.8571428571428572),\n",
       "                ('Hoithe', 'Holthe', 0.8333333333333334),\n",
       "                ('Hosthe', 'Holthe', 0.8333333333333334),\n",
       "                ('HBolthe', 'Holthe', 0.8571428571428572),\n",
       "                ('HolThe', 'Holthe', 0.8333333333333334),\n",
       "                ('Holten', 'Holten', 1.0),\n",
       "                ('Bolthe', 'Holthe', 0.8333333333333334)]},\n",
       "              13492: {'id': 13492,\n",
       "               'm_kw': 'Born',\n",
       "               'score': 1.0,\n",
       "               'name': 'van den Born',\n",
       "               'variants': [('Bors', 'Bors', 1.0),\n",
       "                ('Boorn', 'Born', 0.8),\n",
       "                ('Horn', 'Horn', 1.0),\n",
       "                ('borst', 'Horst', 0.8),\n",
       "                ('Hoorn', 'Hoorn', 1.0),\n",
       "                ('Boru', 'Bor', 0.75),\n",
       "                ('Born', 'Born', 1.0)]},\n",
       "              18501: {'id': 18501,\n",
       "               'm_kw': 'Binckes',\n",
       "               'score': 0.8,\n",
       "               'name': 'Sickes',\n",
       "               'variants': [('Brincke', 'Binckes', 0.7142857142857143),\n",
       "                ('Brinck', 'Brink', 0.8333333333333334)]},\n",
       "              16495: {'id': 16495,\n",
       "               'm_kw': 'Cattenburgh',\n",
       "               'score': 0.8,\n",
       "               'name': 'Westenberg',\n",
       "               'variants': [('Cattenburgh', 'Cattenburgh', 1.0),\n",
       "                ('Cartenborgh', 'Cattenburgh', 0.8181818181818181),\n",
       "                ('Cattenborgh', 'Cattenburgh', 0.9090909090909091),\n",
       "                ('Catienborgh', 'Cattenburgh', 0.8181818181818181),\n",
       "                ('Gattenburgh', 'Cattenburgh', 0.9090909090909091),\n",
       "                ('Cattenborgb', 'Cattenburgh', 0.8181818181818181),\n",
       "                ('Cattenburgb', 'Cattenburgh', 0.9090909090909091),\n",
       "                ('Catienburgh', 'Cattenburgh', 0.9090909090909091)]},\n",
       "              19130: {'id': 19130,\n",
       "               'm_kw': 'Coulman',\n",
       "               'score': 1.0,\n",
       "               'name': 'Coulman',\n",
       "               'variants': [('Cousman', 'Coulman', 0.8571428571428572),\n",
       "                ('Coulman', 'Coulman', 1.0)]},\n",
       "              13458: {'id': 13458,\n",
       "               'm_kw': 'Eelbo',\n",
       "               'score': 1.0,\n",
       "               'name': 'Eelbo',\n",
       "               'variants': [('Ealbo', 'Eelbo', 0.8), ('Eelbo', 'Eelbo', 1.0)]},\n",
       "              16428: {'id': 16428,\n",
       "               'm_kw': 'Gelder',\n",
       "               'score': 0.9,\n",
       "               'name': 'van Dedem van Gelder',\n",
       "               'variants': [('GelderDE', 'Gelder', 0.75),\n",
       "                ('Gelderle', 'Gelder', 0.75)]},\n",
       "              13046: {'id': 13046,\n",
       "               'm_kw': 'Glinstra',\n",
       "               'score': 1.0,\n",
       "               'name': 'van Glinstra',\n",
       "               'variants': [('Giinstra', 'Glinstra', 0.875),\n",
       "                ('Glinstra', 'Glinstra', 1.0),\n",
       "                ('Glnstra', 'Glinstra', 0.875)]},\n",
       "              16423: {'id': 16423,\n",
       "               'm_kw': 'Haersolte',\n",
       "               'score': 1.0,\n",
       "               'name': 'van Haersolte tot Oldenhof',\n",
       "               'variants': [('Haarsolte', 'Haersolte', 0.8888888888888888),\n",
       "                ('Haarsoôlte', 'Haersolte', 0.8),\n",
       "                ('HaarsolteDE', 'Haersolte', 0.7272727272727273),\n",
       "                ('Haarsoslte', 'Haersolte', 0.8),\n",
       "                ('Haarsôlte', 'Haersolte', 0.7777777777777778),\n",
       "                ('Haarsolie', 'Haersolte', 0.7777777777777778)]},\n",
       "              16465: {'id': 16465,\n",
       "               'm_kw': 'Isselmuden',\n",
       "               'score': 1.0,\n",
       "               'name': 'van Isselmuden tot Zwollingerkamp',\n",
       "               'variants': [('lselmuden', 'Isselmuden', 0.8),\n",
       "                ('lsselmuden', 'Isselmuden', 0.9),\n",
       "                ('Tsselmuden', 'Isselmuden', 0.9),\n",
       "                ('lyelmuden', 'Deelden', 0.5555555555555556),\n",
       "                (\"l'esmuden\", 'Veldhuijs', 1.0),\n",
       "                ('lIselmuden', 'Isselmuden', 0.8),\n",
       "                ('lsielmuden', 'Isselmuden', 0.8),\n",
       "                ('Jsselmuden', 'Isselmuden', 0.9),\n",
       "                ('lelmuden', 'Velden', 0.625),\n",
       "                ('lIsselmuden', 'Isselmuden', 0.9090909090909091),\n",
       "                ('Iiselmuden', 'Isselmuden', 0.9),\n",
       "                (\"li'elmuden\", 'Deelden', 0.5),\n",
       "                ('liselmuden', 'Isselmuden', 0.8),\n",
       "                ('Ilsselmuden', 'Isselmuden', 0.9090909090909091),\n",
       "                ('Iisselmuden', 'Isselmuden', 0.9090909090909091),\n",
       "                ('Isselmuden', 'Isselmuden', 1.0),\n",
       "                (\"lss'elmuden\", 'Isselmuden', 0.8181818181818181),\n",
       "                ('Isiselmuden', 'Isselmuden', 0.9090909090909091),\n",
       "                ('lyselmuden', 'Isselmuden', 0.8),\n",
       "                (\"ls'elmuden\", 'Isselmuden', 0.8),\n",
       "                ('Jsijelmuden', 'Isselmuden', 0.7272727272727273),\n",
       "                ('Iliselmuden', 'Isselmuden', 0.8181818181818181),\n",
       "                (\"Is'elmuden\", 'Isselmuden', 0.9),\n",
       "                ('lsiselmuden', 'Isselmuden', 0.8181818181818181),\n",
       "                ('lIlsselmuden', 'Isselmuden', 0.8333333333333334),\n",
       "                ('lsselmaden', 'Isselmuden', 0.8),\n",
       "                ('Jlsselmuden', 'Isselmuden', 0.8181818181818181)]},\n",
       "              17356: {'id': 17356,\n",
       "               'm_kw': 'Tamminga',\n",
       "               'score': 1.0,\n",
       "               'name': 'Tamminga van Alberda',\n",
       "               'variants': [('Zamminga', 'Tamminga', 0.875),\n",
       "                ('Tamminga', 'Tamminga', 1.0),\n",
       "                ('JTamminga', 'Tamminga', 0.8888888888888888),\n",
       "                ('Jamminga', 'Tamminga', 0.875)]},\n",
       "              17268: {'id': 17268,\n",
       "               'm_kw': 'Umbgrove',\n",
       "               'score': 1.0,\n",
       "               'name': 'Umbgrove',\n",
       "               'variants': [('Umbgroeven', 'Umbgrove', 0.8),\n",
       "                ('Umbgrveve', 'Umbgrove', 0.7777777777777778),\n",
       "                ('Umbgroeve', 'Umbgrove', 0.8888888888888888),\n",
       "                ('Umbgrocve', 'Umbgrove', 0.8888888888888888),\n",
       "                ('Umbgrueve', 'Umbgrove', 0.7777777777777778),\n",
       "                ('Umhgroeve', 'Umbgrove', 0.7777777777777778)]},\n",
       "              18604: {'id': 18604,\n",
       "               'm_kw': 'Poll',\n",
       "               'score': 1.0,\n",
       "               'name': 'Wijnbergen tot de beide Pollen',\n",
       "               'variants': [('Poll', 'Poll', 1.0), ('Pol', 'Pol', 1.0)]},\n",
       "              16377: {'id': 16377,\n",
       "               'm_kw': 'Rechteren',\n",
       "               'score': 1.0,\n",
       "               'name': 'van Rechteren tot Gramsbergen',\n",
       "               'variants': [('Rechteren', 'Rechteren', 1.0),\n",
       "                ('Rechieren', 'Rechteren', 0.8888888888888888)]},\n",
       "              15207: {'id': 15207,\n",
       "               'm_kw': 'Renswoude',\n",
       "               'score': 0.9,\n",
       "               'name': 'van Reede tot Renswoude',\n",
       "               'variants': [('Rensqwoude', 'Renswoude', 0.9),\n",
       "                ('Renswoude', 'Renswoude', 1.0)]},\n",
       "              14079: {'id': 14079,\n",
       "               'm_kw': 'Slingelandt',\n",
       "               'score': 1.0,\n",
       "               'name': 'van Slingelandt',\n",
       "               'variants': [('Singelandt', 'Slingelandt', 0.9090909090909091),\n",
       "                ('Siingelandt', 'Slingelandt', 0.9090909090909091),\n",
       "                ('Slingelandt', 'Slingelandt', 1.0)]},\n",
       "              14436: {'id': 14436,\n",
       "               'm_kw': 'Vechoven',\n",
       "               'score': 0.6,\n",
       "               'name': 'van Vechoven',\n",
       "               'variants': [('VeckhoVan', 'Vechoven', 0.6666666666666667),\n",
       "                ('Veckhboven', 'Vechoven', 0.8),\n",
       "                (\"l'eckhoven\", 'Veldhuijs', 1.0),\n",
       "                ('Veckboven', 'Vechoven', 0.7777777777777778),\n",
       "                ('Veckhoven', 'Vechoven', 0.8888888888888888)]},\n",
       "              13915: {'id': 13915,\n",
       "               'm_kw': 'Moor',\n",
       "               'score': 0.6,\n",
       "               'name': 'Moorenvliet',\n",
       "               'variants': [('voor', 'Moor', 0.75), ('door', 'Moor', 0.75)]},\n",
       "              14072: {'id': 14072,\n",
       "               'm_kw': 'Dyck',\n",
       "               'score': 0.7,\n",
       "               'name': 'Duyck',\n",
       "               'variants': [('dyck', 'Dyck', 0.75), ('lyck', 'Dyck', 0.75)]}}),\n",
       " 'unmatched': [[('Haayen', 'Haaften', 0.7142857142857143),\n",
       "   ('HWiaayen', 'Haaften', 0.5),\n",
       "   ('Yaayen', 'Oyen', 0.5),\n",
       "   ('Waauyen', 'Waeyen', 0.7142857142857143),\n",
       "   (\"H'aayen\", 'Heusden', 1.0),\n",
       "   ('Waayen', 'Waeyen', 0.8333333333333334),\n",
       "   (\"HW'aayen\", 'Haaften', 0.5),\n",
       "   ('Weaayen', 'Waeyen', 0.7142857142857143),\n",
       "   ('Woaayen', 'Waeyen', 0.7142857142857143),\n",
       "   ('aayen', 'Oyen', 0.6),\n",
       "   ('Wiaayen', 'Waeyen', 0.7142857142857143),\n",
       "   ('Haaayen', 'Haaften', 0.7142857142857143),\n",
       "   ('YWaayen', 'Waeyen', 0.7142857142857143),\n",
       "   (\"B'aayen\", 'Buysero', 1.0),\n",
       "   (\"Y'aayen\", 'Ysbrands', 1.0),\n",
       "   ('Wauayen', 'Waeyen', 0.7142857142857143),\n",
       "   (\"W'aayen\", 'Weesp', 1.0)],\n",
       "  [('Hssenius', 'Essenius', 0.875),\n",
       "   ('B/senius', 'Buysero', 1.0),\n",
       "   ('Esjenius', 'Essenius', 0.875),\n",
       "   ('Fsenius', 'Essenius', 0.75),\n",
       "   ('Fssenius', 'Essenius', 0.875),\n",
       "   ('Essentus', 'Essenius', 0.875),\n",
       "   ('Eseniut', 'Essenius', 0.75),\n",
       "   ('FHisenius', 'Hixenius', 0.7777777777777778),\n",
       "   ('Bssenius', 'Essenius', 0.875),\n",
       "   ('Eyenius', 'Essenius', 0.75),\n",
       "   ('Essenius', 'Essenius', 1.0)],\n",
       "  [('Berchuss', 'Berchuis', 0.875),\n",
       "   ('Berghuys', 'Berghuis', 0.875),\n",
       "   ('Berchuys', 'Berchuis', 0.875)],\n",
       "  [('Beur', 'Beer', 0.75)],\n",
       "  [('QueisenDE', 'Queisen', 0.7777777777777778),\n",
       "   ('Bueisen', 'Queisen', 0.8571428571428572),\n",
       "   ('Queisen', 'Queisen', 1.0),\n",
       "   ('Jueisen', 'Queisen', 0.8571428571428572),\n",
       "   ('Dueisen', 'Du', 1.0),\n",
       "   ('Dussen', 'Dussen', 1.0),\n",
       "   ('Vueisen', 'Queisen', 0.8571428571428572),\n",
       "   ('Qucisen', 'Queisen', 0.8571428571428572),\n",
       "   ('JVueisen', 'Queisen', 0.75),\n",
       "   ('Bucisen', 'Buysen', 0.7142857142857143),\n",
       "   ('Dassen', 'Dussen', 0.8333333333333334),\n",
       "   ('Oueisen', 'Queisen', 0.8571428571428572),\n",
       "   ('SQueisen', 'Queisen', 0.875),\n",
       "   ('OQueisen', 'Queisen', 0.875),\n",
       "   ('Sueisen', 'Queisen', 0.8571428571428572),\n",
       "   ('JQueisen', 'Queisen', 0.875),\n",
       "   ('SDueisen', 'Queisen', 0.75),\n",
       "   ('Dueison', 'Du', 1.0)],\n",
       "  [('Burgb', 'Burgh', 0.8), ('Burgh', 'Burgh', 1.0)],\n",
       "  [('lYynbergen', 'Lengbergen', 0.6),\n",
       "   (\"H'ynbergen\", 'Heusden', 1.0),\n",
       "   ('Wiynbergen', 'Wijnbergen', 0.9),\n",
       "   (\"Y'ynbergen\", 'Ysbrands', 1.0),\n",
       "   ('Woynbergen', 'Wijnbergen', 0.8),\n",
       "   ('Bynbergen', 'By', 1.0),\n",
       "   ('Usynbergen', 'Lengbergen', 0.6),\n",
       "   (\"W'ynbergen\", 'Weesp', 1.0),\n",
       "   ('ynbergen', 'Lengbergen', 0.7),\n",
       "   ('Steenbergen', 'Steenbergen', 1.0),\n",
       "   (\"HW'ynbergen\", 'Wijnbergen', 0.7272727272727273),\n",
       "   ('Hynbergen', 'Helbergen', 0.7777777777777778),\n",
       "   ('Sseenbergen', 'Steenbergen', 0.9090909090909091),\n",
       "   ('Wynbergen', 'Wijnbergen', 0.8)],\n",
       "  [('Citiers', 'Citters', 0.8571428571428572), ('Citters', 'Citters', 1.0)],\n",
       "  [('Clant', 'Clant', 1.0), ('ClantBb', 'Clant', 0.7142857142857143)],\n",
       "  ['eer1730',\n",
       "   'Decentber1730',\n",
       "   'ember1730',\n",
       "   'December1730',\n",
       "   'Mey1730',\n",
       "   'September1730'],\n",
       "  [('Eckvan', '\\\\(van', 0.5)],\n",
       "  ['Februarii1730', 'Februarit1730'],\n",
       "  [('Griffie', 'Griffioen', 0.7777777777777778),\n",
       "   ('Griffier', 'Griffioen', 0.7777777777777778)],\n",
       "  [('Hungrosgne', 'Hurgronje', 0.6),\n",
       "   ('Hurgrogne', 'Hurgronje', 0.7777777777777778),\n",
       "   ('Hurzgrogne', 'Hurgronje', 0.7),\n",
       "   ('Hurgrogue', 'Hurgronje', 0.7777777777777778),\n",
       "   ('Hurgronje', 'Hurgronje', 1.0),\n",
       "   ('Haurgrogne', 'Hurgronje', 0.7)],\n",
       "  [('Helsdingen', 'Helsdingen', 1.0), ('Heldingen', 'Helsdingen', 0.9)],\n",
       "  [('Helsingb', 'Helsdingen', 0.7), ('Helsingh', 'Hoisingh', 0.75)],\n",
       "  [('Verelst', 'Verelst', 1.0), ('Herelst', 'Verelst', 0.8571428571428572)],\n",
       "  [('Hursk', 'Hurck', 0.8), ('Hurck', 'Hurck', 1.0)],\n",
       "  [('Torck', 'Torck', 1.0),\n",
       "   ('JTorck', 'Torck', 0.8333333333333334),\n",
       "   ('Zorck', 'Borck', 0.8),\n",
       "   ('Jorck', 'Borck', 0.8)],\n",
       "  [('Wilbem', 'Wilhem', 0.8333333333333334),\n",
       "   ('JVilhem', 'Wilhem', 0.7142857142857143),\n",
       "   ('Wilhem', 'Wilhem', 1.0),\n",
       "   (\"U'ilbem\", 'Upmeijer', 1.0)],\n",
       "  [('Jongh', 'Jongh', 1.0), ('Jonge', 'Jonge', 1.0)],\n",
       "  [('Jongemaats', 'Jongemaats', 1.0), ('Jongemaat', 'Jongemaats', 0.9)],\n",
       "  [('Kempenaar', 'Kempenaar', 1.0), ('Kempenaer', 'Kempenaer', 1.0)],\n",
       "  [('Lintelv', 'Lintelo', 0.8571428571428572),\n",
       "   ('Lintelo', 'Lintelo', 1.0),\n",
       "   ('Lntelo', 'Lintelo', 0.8571428571428572)],\n",
       "  [('Londen', 'Linden', 0.8333333333333334),\n",
       "   ('Tynden', 'Lynden', 0.8333333333333334),\n",
       "   ('Lynden', 'Lynden', 1.0)],\n",
       "  [('landt', 'Landt', 0.8), ('Luandts', 'Landt', 0.7142857142857143)],\n",
       "  [('Lune', 'Lane', 0.75)],\n",
       "  [('Ney', 'Neyn', 0.75),\n",
       "   ('Neey', 'Neyn', 0.5),\n",
       "   ('MNoey', 'Hoey', 0.6),\n",
       "   ('Noey', 'Hoey', 0.75)],\n",
       "  [('Merck', 'Mercks', 0.8333333333333334),\n",
       "   ('Marck', 'Marck', 1.0),\n",
       "   ('geMarck', 'Marck', 0.7142857142857143),\n",
       "   ('Warck', 'Warck', 1.0)],\n",
       "  [('Nergena', 'Nergena', 1.0), ('Norgena', 'Nergena', 0.8571428571428572)],\n",
       "  ['PURIAERSIDE',\n",
       "   'PRAEBSIDE',\n",
       "   'PRADSIDE',\n",
       "   'PRAAZASIDE',\n",
       "   'PRAESIDE',\n",
       "   'PRAAZESIDE',\n",
       "   'PRAESAID',\n",
       "   'PRAAEISIDDE',\n",
       "   'PRAEDESIUDE',\n",
       "   'PRAEYDE'],\n",
       "  [('Rambhorst', 'Ramhorst', 0.8888888888888888),\n",
       "   ('Ramhborst', 'Ramhorst', 0.8888888888888888),\n",
       "   ('Ramherst', 'Ramhorst', 0.875),\n",
       "   ('Ramborst', 'Ramhorst', 0.875),\n",
       "   ('Ramehorst', 'Ramhorst', 0.8888888888888888),\n",
       "   ('Ramhorst', 'Ramhorst', 1.0),\n",
       "   ('Ramhorf', 'Ramhorst', 0.75),\n",
       "   ('Ramlorst', 'Ramhorst', 0.875)],\n",
       "  [('Requeste', 'Renesse', 0.625), ('queste', 'Huete', 0.6666666666666667)],\n",
       "  [('Sorerdyck', 'Vereyck', 0.5555555555555556),\n",
       "   ('Sloterdyck', 'Sloterdijck', 0.8181818181818181),\n",
       "   ('Slorerdyck', 'Sloterdijck', 0.7272727272727273),\n",
       "   ('Sletoerdyck', 'Sloterdijck', 0.6363636363636364),\n",
       "   ('Sleterdyck', 'Sloterdijck', 0.7272727272727273),\n",
       "   ('Slsoterdyck', 'Sloterdijck', 0.7272727272727273),\n",
       "   ('Stoterdyck', 'Sloterdijck', 0.7272727272727273)],\n",
       "  ['Vau', 'vau'],\n",
       "  [('Viscomi', 'Visconti', 0.75),\n",
       "   ('Viscooti', 'Visconti', 0.875),\n",
       "   ('Visconti', 'Visconti', 1.0),\n",
       "   (\"Viscou'ti\", 'Visconti', 0.7777777777777778)],\n",
       "  ['Vun', 'vun'],\n",
       "  [('wan', 'Swan', 0.75)],\n",
       "  [('werdende', 'Verden', 0.625),\n",
       "   ('werden', 'Verden', 0.8333333333333334),\n",
       "   ('derden', 'Verden', 0.8333333333333334)],\n",
       "  ['drie', 'die'],\n",
       "  [('gesonden', 'Senden', 0.625), ('gevonden', 'Senden', 0.625)],\n",
       "  [('hebben', 'Nebbens', 0.7142857142857143), ('hebbende', 'Nebbens', 0.625)],\n",
       "  [('luwen', 'Ruwen', 0.8)],\n",
       "  ['omen', 'men'],\n",
       "  ['miet', 'met'],\n",
       "  ['wier', 'vier']]}"
      ]
     },
     "execution_count": 108,
     "metadata": {},
     "output_type": "execute_result"
    }
   ],
   "source": [
    "new_found_delegates"
   ]
  },
  {
   "cell_type": "code",
   "execution_count": 116,
   "metadata": {},
   "outputs": [
    {
     "name": "stdout",
     "output_type": "stream",
     "text": [
      "('Haayen', 'Haaften', 0.7142857142857143)\n",
      "('Hssenius', 'Essenius', 0.875)\n",
      "('Berchuss', 'Berchuis', 0.875)\n",
      "('Beur', 'Beer', 0.75)\n",
      "('QueisenDE', 'Queisen', 0.7777777777777778)\n",
      "('Burgb', 'Burgh', 0.8)\n",
      "('lYynbergen', 'Lengbergen', 0.6)\n",
      "('Citiers', 'Citters', 0.8571428571428572)\n",
      "('Clant', 'Clant', 1.0)\n",
      "eer1730\n",
      "('Eckvan', '\\\\(van', 0.5)\n",
      "Februarii1730\n",
      "('Griffie', 'Griffioen', 0.7777777777777778)\n",
      "('Hungrosgne', 'Hurgronje', 0.6)\n",
      "('Helsdingen', 'Helsdingen', 1.0)\n",
      "('Helsingb', 'Helsdingen', 0.7)\n",
      "('Verelst', 'Verelst', 1.0)\n",
      "('Hursk', 'Hurck', 0.8)\n",
      "('Torck', 'Torck', 1.0)\n",
      "('Wilbem', 'Wilhem', 0.8333333333333334)\n",
      "('Jongh', 'Jongh', 1.0)\n",
      "('Jongemaats', 'Jongemaats', 1.0)\n",
      "('Kempenaar', 'Kempenaar', 1.0)\n",
      "('Lintelv', 'Lintelo', 0.8571428571428572)\n",
      "('Londen', 'Linden', 0.8333333333333334)\n",
      "('landt', 'Landt', 0.8)\n",
      "('Lune', 'Lane', 0.75)\n",
      "('Ney', 'Neyn', 0.75)\n",
      "('Merck', 'Mercks', 0.8333333333333334)\n",
      "('Nergena', 'Nergena', 1.0)\n",
      "PURIAERSIDE\n",
      "('Rambhorst', 'Ramhorst', 0.8888888888888888)\n",
      "('Requeste', 'Renesse', 0.625)\n",
      "('Sorerdyck', 'Vereyck', 0.5555555555555556)\n",
      "Vau\n",
      "('Viscomi', 'Visconti', 0.75)\n",
      "Vun\n",
      "('wan', 'Swan', 0.75)\n",
      "('werdende', 'Verden', 0.625)\n",
      "drie\n",
      "('gesonden', 'Senden', 0.625)\n",
      "('hebben', 'Nebbens', 0.7142857142857143)\n",
      "('luwen', 'Ruwen', 0.8)\n",
      "omen\n",
      "miet\n",
      "wier\n"
     ]
    }
   ],
   "source": [
    "from operator import getitem\n",
    "for item in new_found_delegates['unmatched']:\n",
    "    if len(item) >= 1:\n",
    "        print(item[0])\n",
    "    else:\n",
    "        try:\n",
    "            print(max(item, key=lambda x: item[2]))\n",
    "        except IndexError:\n",
    "            print('XXX', item)"
   ]
  },
  {
   "cell_type": "code",
   "execution_count": 119,
   "metadata": {},
   "outputs": [
    {
     "data": {
      "text/plain": [
       "[PhraseMatch(phrase: \"Essenius\", variant: \"Essenius\", string: \"Essenius\", offset: 0, ignorecase: False, levenshtein_similarity: 1.0)]"
      ]
     },
     "execution_count": 119,
     "metadata": {},
     "output_type": "execute_result"
    }
   ],
   "source": [
    "runner.matchfnd.searcher.find_matches(text='Essenius')\n"
   ]
  },
  {
   "cell_type": "code",
   "execution_count": 125,
   "metadata": {},
   "outputs": [
    {
     "data": {
      "text/html": [
       "<div>\n",
       "<style scoped>\n",
       "    .dataframe tbody tr th:only-of-type {\n",
       "        vertical-align: middle;\n",
       "    }\n",
       "\n",
       "    .dataframe tbody tr th {\n",
       "        vertical-align: top;\n",
       "    }\n",
       "\n",
       "    .dataframe thead th {\n",
       "        text-align: right;\n",
       "    }\n",
       "</style>\n",
       "<table border=\"1\" class=\"dataframe\">\n",
       "  <thead>\n",
       "    <tr style=\"text-align: right;\">\n",
       "      <th></th>\n",
       "      <th>id</th>\n",
       "      <th>name</th>\n",
       "      <th>geboortejaar</th>\n",
       "      <th>sterfjaar</th>\n",
       "      <th>age_at_repr</th>\n",
       "      <th>colleges</th>\n",
       "      <th>functions</th>\n",
       "      <th>period</th>\n",
       "      <th>sg</th>\n",
       "      <th>was_gedeputeerde</th>\n",
       "      <th>p_interval.left</th>\n",
       "      <th>p_interval.right</th>\n",
       "      <th>h_life.left</th>\n",
       "      <th>h_life.right</th>\n",
       "      <th>p_interval</th>\n",
       "      <th>h_life</th>\n",
       "      <th>score</th>\n",
       "    </tr>\n",
       "  </thead>\n",
       "  <tbody>\n",
       "    <tr>\n",
       "      <th>6191</th>\n",
       "      <td>17858</td>\n",
       "      <td>Essenius</td>\n",
       "      <td>None</td>\n",
       "      <td>1714-12-17</td>\n",
       "      <td>NaN</td>\n",
       "      <td>Gedeputeerde Staten van het Kwartier Nijmegen ...</td>\n",
       "      <td>ordinaris gedeputeerde, gecommitteerde</td>\n",
       "      <td>PeriodIndex(['1710-05-20', '1710-05-21', '1710...</td>\n",
       "      <td>True</td>\n",
       "      <td>True</td>\n",
       "      <td>1710</td>\n",
       "      <td>1735</td>\n",
       "      <td>1666</td>\n",
       "      <td>1714</td>\n",
       "      <td>(1710, 1735]</td>\n",
       "      <td>(1666, 1714]</td>\n",
       "      <td>1.0</td>\n",
       "    </tr>\n",
       "  </tbody>\n",
       "</table>\n",
       "</div>"
      ],
      "text/plain": [
       "         id      name geboortejaar   sterfjaar  age_at_repr  \\\n",
       "6191  17858  Essenius         None  1714-12-17          NaN   \n",
       "\n",
       "                                               colleges  \\\n",
       "6191  Gedeputeerde Staten van het Kwartier Nijmegen ...   \n",
       "\n",
       "                                   functions  \\\n",
       "6191  ordinaris gedeputeerde, gecommitteerde   \n",
       "\n",
       "                                                 period    sg  \\\n",
       "6191  PeriodIndex(['1710-05-20', '1710-05-21', '1710...  True   \n",
       "\n",
       "      was_gedeputeerde  p_interval.left  p_interval.right  h_life.left  \\\n",
       "6191              True             1710              1735         1666   \n",
       "\n",
       "      h_life.right    p_interval        h_life  score  \n",
       "6191          1714  (1710, 1735]  (1666, 1714]    1.0  "
      ]
     },
     "execution_count": 125,
     "metadata": {},
     "output_type": "execute_result"
    }
   ],
   "source": [
    "run_attendancelist.iterative_search(name='Essenius', year=1730, df=df)"
   ]
  },
  {
   "cell_type": "code",
   "execution_count": 127,
   "metadata": {},
   "outputs": [
    {
     "data": {
      "text/html": [
       "<div>\n",
       "<style scoped>\n",
       "    .dataframe tbody tr th:only-of-type {\n",
       "        vertical-align: middle;\n",
       "    }\n",
       "\n",
       "    .dataframe tbody tr th {\n",
       "        vertical-align: top;\n",
       "    }\n",
       "\n",
       "    .dataframe thead th {\n",
       "        text-align: right;\n",
       "    }\n",
       "</style>\n",
       "<table border=\"1\" class=\"dataframe\">\n",
       "  <thead>\n",
       "    <tr style=\"text-align: right;\">\n",
       "      <th></th>\n",
       "      <th>id</th>\n",
       "      <th>name</th>\n",
       "      <th>geboortejaar</th>\n",
       "      <th>sterfjaar</th>\n",
       "      <th>age_at_repr</th>\n",
       "      <th>colleges</th>\n",
       "      <th>functions</th>\n",
       "      <th>period</th>\n",
       "      <th>sg</th>\n",
       "      <th>was_gedeputeerde</th>\n",
       "      <th>p_interval.left</th>\n",
       "      <th>p_interval.right</th>\n",
       "      <th>h_life.left</th>\n",
       "      <th>h_life.right</th>\n",
       "      <th>p_interval</th>\n",
       "      <th>h_life</th>\n",
       "    </tr>\n",
       "  </thead>\n",
       "  <tbody>\n",
       "    <tr>\n",
       "      <th>6191</th>\n",
       "      <td>17858</td>\n",
       "      <td>Essenius</td>\n",
       "      <td>None</td>\n",
       "      <td>1714-12-17</td>\n",
       "      <td>NaN</td>\n",
       "      <td>Gedeputeerde Staten van het Kwartier Nijmegen ...</td>\n",
       "      <td>ordinaris gedeputeerde, gecommitteerde</td>\n",
       "      <td>PeriodIndex(['1710-05-20', '1710-05-21', '1710...</td>\n",
       "      <td>True</td>\n",
       "      <td>True</td>\n",
       "      <td>1710</td>\n",
       "      <td>1735</td>\n",
       "      <td>1666</td>\n",
       "      <td>1714</td>\n",
       "      <td>(1710, 1735]</td>\n",
       "      <td>(1666, 1714]</td>\n",
       "    </tr>\n",
       "  </tbody>\n",
       "</table>\n",
       "</div>"
      ],
      "text/plain": [
       "         id      name geboortejaar   sterfjaar  age_at_repr  \\\n",
       "6191  17858  Essenius         None  1714-12-17          NaN   \n",
       "\n",
       "                                               colleges  \\\n",
       "6191  Gedeputeerde Staten van het Kwartier Nijmegen ...   \n",
       "\n",
       "                                   functions  \\\n",
       "6191  ordinaris gedeputeerde, gecommitteerde   \n",
       "\n",
       "                                                 period    sg  \\\n",
       "6191  PeriodIndex(['1710-05-20', '1710-05-21', '1710...  True   \n",
       "\n",
       "      was_gedeputeerde  p_interval.left  p_interval.right  h_life.left  \\\n",
       "6191              True             1710              1735         1666   \n",
       "\n",
       "      h_life.right    p_interval        h_life  \n",
       "6191          1714  (1710, 1735]  (1666, 1714]  "
      ]
     },
     "execution_count": 127,
     "metadata": {},
     "output_type": "execute_result"
    }
   ],
   "source": [
    "run_attendancelist.identify(name='Essenius', year=1730, df=df, window=1)"
   ]
  },
  {
   "cell_type": "code",
   "execution_count": 121,
   "metadata": {},
   "outputs": [
    {
     "data": {
      "text/html": [
       "<div>\n",
       "<style scoped>\n",
       "    .dataframe tbody tr th:only-of-type {\n",
       "        vertical-align: middle;\n",
       "    }\n",
       "\n",
       "    .dataframe tbody tr th {\n",
       "        vertical-align: top;\n",
       "    }\n",
       "\n",
       "    .dataframe thead th {\n",
       "        text-align: right;\n",
       "    }\n",
       "</style>\n",
       "<table border=\"1\" class=\"dataframe\">\n",
       "  <thead>\n",
       "    <tr style=\"text-align: right;\">\n",
       "      <th></th>\n",
       "      <th>id</th>\n",
       "      <th>name</th>\n",
       "      <th>geboortejaar</th>\n",
       "      <th>sterfjaar</th>\n",
       "      <th>age_at_repr</th>\n",
       "      <th>colleges</th>\n",
       "      <th>functions</th>\n",
       "      <th>period</th>\n",
       "      <th>sg</th>\n",
       "      <th>was_gedeputeerde</th>\n",
       "      <th>p_interval.left</th>\n",
       "      <th>p_interval.right</th>\n",
       "      <th>h_life.left</th>\n",
       "      <th>h_life.right</th>\n",
       "      <th>p_interval</th>\n",
       "      <th>h_life</th>\n",
       "    </tr>\n",
       "  </thead>\n",
       "  <tbody>\n",
       "    <tr>\n",
       "      <th>94</th>\n",
       "      <td>432</td>\n",
       "      <td>Essenius</td>\n",
       "      <td>1755-01-01</td>\n",
       "      <td>1811-12-31</td>\n",
       "      <td>NaN</td>\n",
       "      <td>Staten-Generaal der Verenigde Nederlandse Prov...</td>\n",
       "      <td>gedeputeerde</td>\n",
       "      <td>PeriodIndex(['1795-04-27', '1795-04-28', '1795...</td>\n",
       "      <td>True</td>\n",
       "      <td>True</td>\n",
       "      <td>1795</td>\n",
       "      <td>1796</td>\n",
       "      <td>1755</td>\n",
       "      <td>1811</td>\n",
       "      <td>(1795, 1796]</td>\n",
       "      <td>(1755, 1811]</td>\n",
       "    </tr>\n",
       "    <tr>\n",
       "      <th>6191</th>\n",
       "      <td>17858</td>\n",
       "      <td>Essenius</td>\n",
       "      <td>None</td>\n",
       "      <td>1714-12-17</td>\n",
       "      <td>NaN</td>\n",
       "      <td>Gedeputeerde Staten van het Kwartier Nijmegen ...</td>\n",
       "      <td>ordinaris gedeputeerde, gecommitteerde</td>\n",
       "      <td>PeriodIndex(['1710-05-20', '1710-05-21', '1710...</td>\n",
       "      <td>True</td>\n",
       "      <td>True</td>\n",
       "      <td>1710</td>\n",
       "      <td>1735</td>\n",
       "      <td>1666</td>\n",
       "      <td>1714</td>\n",
       "      <td>(1710, 1735]</td>\n",
       "      <td>(1666, 1714]</td>\n",
       "    </tr>\n",
       "    <tr>\n",
       "      <th>6873</th>\n",
       "      <td>18621</td>\n",
       "      <td>Essenius</td>\n",
       "      <td>1728-01-01</td>\n",
       "      <td>1784-05-11</td>\n",
       "      <td>NaN</td>\n",
       "      <td>Hof van Gelre en Zutphen (1588-1795)</td>\n",
       "      <td>raadsheer</td>\n",
       "      <td>PeriodIndex(['1777-07-08', '1777-07-09', '1777...</td>\n",
       "      <td>False</td>\n",
       "      <td>False</td>\n",
       "      <td>1777</td>\n",
       "      <td>1781</td>\n",
       "      <td>1728</td>\n",
       "      <td>1784</td>\n",
       "      <td>(1777, 1781]</td>\n",
       "      <td>(1728, 1784]</td>\n",
       "    </tr>\n",
       "    <tr>\n",
       "      <th>6890</th>\n",
       "      <td>18639</td>\n",
       "      <td>Essenius</td>\n",
       "      <td>None</td>\n",
       "      <td>1766-10-31</td>\n",
       "      <td>NaN</td>\n",
       "      <td>Hof van Gelre en Zutphen (1588-1795)</td>\n",
       "      <td>extraordinaris raadsheer</td>\n",
       "      <td>PeriodIndex(['1726-01-12', '1726-01-13', '1726...</td>\n",
       "      <td>False</td>\n",
       "      <td>False</td>\n",
       "      <td>1726</td>\n",
       "      <td>1766</td>\n",
       "      <td>1692</td>\n",
       "      <td>1766</td>\n",
       "      <td>(1726, 1766]</td>\n",
       "      <td>(1692, 1766]</td>\n",
       "    </tr>\n",
       "  </tbody>\n",
       "</table>\n",
       "</div>"
      ],
      "text/plain": [
       "         id      name geboortejaar   sterfjaar  age_at_repr  \\\n",
       "94      432  Essenius   1755-01-01  1811-12-31          NaN   \n",
       "6191  17858  Essenius         None  1714-12-17          NaN   \n",
       "6873  18621  Essenius   1728-01-01  1784-05-11          NaN   \n",
       "6890  18639  Essenius         None  1766-10-31          NaN   \n",
       "\n",
       "                                               colleges  \\\n",
       "94    Staten-Generaal der Verenigde Nederlandse Prov...   \n",
       "6191  Gedeputeerde Staten van het Kwartier Nijmegen ...   \n",
       "6873               Hof van Gelre en Zutphen (1588-1795)   \n",
       "6890               Hof van Gelre en Zutphen (1588-1795)   \n",
       "\n",
       "                                   functions  \\\n",
       "94                              gedeputeerde   \n",
       "6191  ordinaris gedeputeerde, gecommitteerde   \n",
       "6873                               raadsheer   \n",
       "6890                extraordinaris raadsheer   \n",
       "\n",
       "                                                 period     sg  \\\n",
       "94    PeriodIndex(['1795-04-27', '1795-04-28', '1795...   True   \n",
       "6191  PeriodIndex(['1710-05-20', '1710-05-21', '1710...   True   \n",
       "6873  PeriodIndex(['1777-07-08', '1777-07-09', '1777...  False   \n",
       "6890  PeriodIndex(['1726-01-12', '1726-01-13', '1726...  False   \n",
       "\n",
       "      was_gedeputeerde  p_interval.left  p_interval.right  h_life.left  \\\n",
       "94                True             1795              1796         1755   \n",
       "6191              True             1710              1735         1666   \n",
       "6873             False             1777              1781         1728   \n",
       "6890             False             1726              1766         1692   \n",
       "\n",
       "      h_life.right    p_interval        h_life  \n",
       "94            1811  (1795, 1796]  (1755, 1811]  \n",
       "6191          1714  (1710, 1735]  (1666, 1714]  \n",
       "6873          1784  (1777, 1781]  (1728, 1784]  \n",
       "6890          1766  (1726, 1766]  (1692, 1766]  "
      ]
     },
     "execution_count": 121,
     "metadata": {},
     "output_type": "execute_result"
    }
   ],
   "source": [
    "df.loc[df.name == 'Essenius']"
   ]
  },
  {
   "cell_type": "code",
   "execution_count": 50,
   "metadata": {},
   "outputs": [],
   "source": [
    "slsr = run_attendancelist.score_levenshtein_similarity_ratio"
   ]
  },
  {
   "cell_type": "code",
   "execution_count": null,
   "metadata": {},
   "outputs": [],
   "source": [
    "from collections import defaultdict, Counter\n",
    "previously_matched = run_attendancelist.found_delegates\n",
    "iterative_search = run_attendancelist.iterative_search\n",
    "df = run_attendancelist.abbreviated_delegates\n",
    "year = runner.year\n",
    "input = deputies\n",
    "matched_deputies = defaultdict(list)\n",
    "unmatched_deputies = []\n",
    "for herengroup in input:\n",
    "        # we add the whole group to recognized if one name has a result\n",
    "        recognized_group = []\n",
    "        keyword_counter = Counter()\n",
    "        in_matched = False\n",
    "        for heer in herengroup: # we try to fuzzymatch the whole group and give the string a score\n",
    "            rslt = runner.matchfnd.match_candidates(heer=heer)\n",
    "            if rslt:\n",
    "                match_kw = getattr(rslt,'match_keyword')\n",
    "                #print(match_kw)\n",
    "                if match_kw is not '':\n",
    "                    in_matched = True\n",
    "                    match_distance = getattr(rslt,'levenshtein_distance')\n",
    "                    recognized_group.append((heer, match_kw, match_distance))\n",
    "                    keyword_counter.update([match_kw])\n",
    "        if in_matched:\n",
    "            kw = keyword_counter.most_common(10)[0][0]\n",
    "            rec = previously_matched.loc[previously_matched.variants.apply(lambda x: matchwithlist(kw, x))]\n",
    "            if len(rec) > 0:\n",
    "                rec = iterative_search(name=kw, year=year, df=df)\n",
    "            if len(rec) > 0:\n",
    "                drec = rec.to_dict(orient=\"records\")[0]\n",
    "                m_id = drec['id']\n",
    "    #             if m_id == 'matched':\n",
    "    #                 print(rec, kw)\n",
    "                name = drec['name']\n",
    "                score = drec.get('score') or 0.0\n",
    "                matched_deputies[m_id] = {'id': m_id,\n",
    "                                          'm_kw':kw,\n",
    "                                          'score':score,\n",
    "                                          'name':name,\n",
    "                                          'variants':recognized_group}\n",
    "            else:\n",
    "                unmatched_deputies.append(recognized_group)\n",
    "        else:\n",
    "            unmatched_deputies.append(herengroup)"
   ]
  },
  {
   "cell_type": "code",
   "execution_count": 86,
   "metadata": {},
   "outputs": [
    {
     "data": {
      "text/plain": [
       "True"
      ]
     },
     "execution_count": 86,
     "metadata": {},
     "output_type": "execute_result"
    }
   ],
   "source": [
    "def matchwithlist(x, input):\n",
    "    res = [i for i in input if slsr(x, i) > 0.6]\n",
    "    if len(res) > 0:\n",
    "        return True\n",
    "    else:\n",
    "        return False\n",
    "matchwithlist( 'Taats van Amerongen', xl)"
   ]
  },
  {
   "cell_type": "code",
   "execution_count": 88,
   "metadata": {},
   "outputs": [
    {
     "data": {
      "text/html": [
       "<div>\n",
       "<style scoped>\n",
       "    .dataframe tbody tr th:only-of-type {\n",
       "        vertical-align: middle;\n",
       "    }\n",
       "\n",
       "    .dataframe tbody tr th {\n",
       "        vertical-align: top;\n",
       "    }\n",
       "\n",
       "    .dataframe thead th {\n",
       "        text-align: right;\n",
       "    }\n",
       "</style>\n",
       "<table border=\"1\" class=\"dataframe\">\n",
       "  <thead>\n",
       "    <tr style=\"text-align: right;\">\n",
       "      <th></th>\n",
       "      <th>ref_id</th>\n",
       "      <th>geboortejaar</th>\n",
       "      <th>sterfjaar</th>\n",
       "      <th>colleges</th>\n",
       "      <th>functions</th>\n",
       "      <th>period</th>\n",
       "      <th>active_stgen</th>\n",
       "      <th>was_gedeputeerde</th>\n",
       "      <th>variants</th>\n",
       "      <th>name</th>\n",
       "      <th>found_in</th>\n",
       "      <th>id</th>\n",
       "      <th>sg</th>\n",
       "      <th>period_active.left</th>\n",
       "      <th>period_active.right</th>\n",
       "      <th>hypothetical_life.left</th>\n",
       "      <th>hypothetical_life.right</th>\n",
       "      <th>p_interval.left</th>\n",
       "      <th>p_interval.right</th>\n",
       "    </tr>\n",
       "  </thead>\n",
       "  <tbody>\n",
       "    <tr>\n",
       "      <th>2</th>\n",
       "      <td>17821</td>\n",
       "      <td>NaN</td>\n",
       "      <td>1640-01-21</td>\n",
       "      <td>Ridderschap van Utrecht, Staten-Generaal der V...</td>\n",
       "      <td>lid, ordinaris gedeputeerde, gecommitteerde</td>\n",
       "      <td>PeriodIndex(['1606-01-01', '1606-01-02', '1606...</td>\n",
       "      <td>True</td>\n",
       "      <td>True</td>\n",
       "      <td>[Taats van Amerongen., Taats van Amerongen. P,...</td>\n",
       "      <td>Borre van Amerongen</td>\n",
       "      <td>1728</td>\n",
       "      <td>17821</td>\n",
       "      <td>True</td>\n",
       "      <td>1606</td>\n",
       "      <td>1640</td>\n",
       "      <td>1562</td>\n",
       "      <td>1640</td>\n",
       "      <td>1606</td>\n",
       "      <td>1640</td>\n",
       "    </tr>\n",
       "  </tbody>\n",
       "</table>\n",
       "</div>"
      ],
      "text/plain": [
       "   ref_id  geboortejaar   sterfjaar  \\\n",
       "2   17821           NaN  1640-01-21   \n",
       "\n",
       "                                            colleges  \\\n",
       "2  Ridderschap van Utrecht, Staten-Generaal der V...   \n",
       "\n",
       "                                     functions  \\\n",
       "2  lid, ordinaris gedeputeerde, gecommitteerde   \n",
       "\n",
       "                                              period  active_stgen  \\\n",
       "2  PeriodIndex(['1606-01-01', '1606-01-02', '1606...          True   \n",
       "\n",
       "   was_gedeputeerde                                           variants  \\\n",
       "2              True  [Taats van Amerongen., Taats van Amerongen. P,...   \n",
       "\n",
       "                  name  found_in     id    sg  period_active.left  \\\n",
       "2  Borre van Amerongen      1728  17821  True                1606   \n",
       "\n",
       "   period_active.right  hypothetical_life.left  hypothetical_life.right  \\\n",
       "2                 1640                    1562                     1640   \n",
       "\n",
       "   p_interval.left  p_interval.right  \n",
       "2             1606              1640  "
      ]
     },
     "execution_count": 88,
     "metadata": {},
     "output_type": "execute_result"
    }
   ],
   "source": [
    "previously_matched.loc[previously_matched.variants.apply(lambda x: matchwithlist( 'Taats van Amerongen', x))]"
   ]
  },
  {
   "cell_type": "code",
   "execution_count": 101,
   "metadata": {},
   "outputs": [
    {
     "data": {
      "text/plain": [
       "defaultdict(list,\n",
       "            {17397: {'id': 17397,\n",
       "              'm_kw': 'Quint',\n",
       "              'score': 0.9,\n",
       "              'name': 'Quintus',\n",
       "              'variants': [('Quint', 'Quint', 1.0),\n",
       "               ('Suint', 'Quint', 0.8),\n",
       "               ('Ouint', 'Quint', 0.8),\n",
       "               ('Quiut', 'Quint', 0.8),\n",
       "               ('Jouint', 'Quint', 0.6666666666666667),\n",
       "               ('&uint', 'Quint', 0.8),\n",
       "               ('Vuint', 'Quint', 0.8)]},\n",
       "             17821: {'id': 17821,\n",
       "              'm_kw': 'Amerongen',\n",
       "              'score': 0.9,\n",
       "              'name': 'Borre van Amerongen',\n",
       "              'variants': [('Amerongen', 'Amerongen', 1.0),\n",
       "               (\"a'merongen\", 'a', 1.0)]},\n",
       "             13477: {'id': 13477,\n",
       "              'm_kw': 'Wassenaer',\n",
       "              'score': 1.0,\n",
       "              'name': 'van Wassenaer van Obdam',\n",
       "              'variants': [('HWiassenaer', 'Wassenaer', 0.8181818181818181),\n",
       "               ('Weasscnaer', 'Wassenaer', 0.8),\n",
       "               ('Yassenaer', 'Wassenaer', 0.8888888888888888),\n",
       "               ('Wassenser', 'Wassenaer', 0.8888888888888888),\n",
       "               ('Wassenaer', 'Wassenaer', 1.0),\n",
       "               (\"H'assenaer\", 'Heusden', 1.0),\n",
       "               ('Hassenaer', 'Wassenaer', 0.8888888888888888),\n",
       "               ('assenaer', 'Wassenaer', 0.8888888888888888),\n",
       "               ('Wiassenaer', 'Wassenaer', 0.9),\n",
       "               ('Weassenaer', 'Wassenaer', 0.9),\n",
       "               ('Heassenaer', 'Wassenaer', 0.8),\n",
       "               ('Wassenaar', 'Wassenaer', 0.8888888888888888),\n",
       "               (\"B'assenaer\", 'Buysero', 1.0)]},\n",
       "             17077: {'id': 17077,\n",
       "              'm_kw': 'Borssele',\n",
       "              'score': 1.0,\n",
       "              'name': 'van Borssele',\n",
       "              'variants': [('Borselen', 'Borselen', 1.0),\n",
       "               ('Bôrsselen', 'Borssele', 0.7777777777777778),\n",
       "               ('Borsselen', 'Borssele', 0.8888888888888888),\n",
       "               ('Borssêlen', 'Borssele', 0.7777777777777778),\n",
       "               ('Beorsselen', 'Borssele', 0.8),\n",
       "               ('Bursselen', 'Borssele', 0.7777777777777778)]},\n",
       "             15268: {'id': 15268,\n",
       "              'm_kw': 'Blokland',\n",
       "              'score': 1.0,\n",
       "              'name': 'Brandwijk van Blokland',\n",
       "              'variants': [('Bilocklandt', 'Blokland', 0.7272727272727273),\n",
       "               ('Blocklandr', 'Blokland', 0.8),\n",
       "               ('Blocklandt', 'Blokland', 0.8),\n",
       "               ('Blocklandit', 'Blokland', 0.7272727272727273),\n",
       "               ('Blocklandi', 'Blokland', 0.8)]},\n",
       "             16901: {'id': 16901,\n",
       "              'm_kw': 'Bout',\n",
       "              'score': 1.0,\n",
       "              'name': 'Bout',\n",
       "              'variants': [('Boat', 'Bost', 0.75),\n",
       "               ('Bout', 'Bout', 1.0),\n",
       "               ('Buut', 'Bout', 0.75)]},\n",
       "             17563: {'id': 17563,\n",
       "              'm_kw': 'Holthe',\n",
       "              'score': 1.0,\n",
       "              'name': 'van Holthe',\n",
       "              'variants': [('Houithe', 'Holthe', 0.7142857142857143),\n",
       "               ('Holthe', 'Holthe', 1.0),\n",
       "               ('Holthen', 'Holten', 0.8571428571428572),\n",
       "               ('Hoithe', 'Holthe', 0.8333333333333334),\n",
       "               ('Hosthe', 'Holthe', 0.8333333333333334),\n",
       "               ('HBolthe', 'Holthe', 0.8571428571428572),\n",
       "               ('HolThe', 'Holthe', 0.8333333333333334),\n",
       "               ('Holten', 'Holten', 1.0),\n",
       "               ('Bolthe', 'Holthe', 0.8333333333333334)]},\n",
       "             13492: {'id': 13492,\n",
       "              'm_kw': 'Born',\n",
       "              'score': 1.0,\n",
       "              'name': 'van den Born',\n",
       "              'variants': [('Bors', 'Bors', 1.0),\n",
       "               ('Boorn', 'Born', 0.8),\n",
       "               ('Horn', 'Horn', 1.0),\n",
       "               ('borst', 'Horst', 0.8),\n",
       "               ('Hoorn', 'Hoorn', 1.0),\n",
       "               ('Boru', 'Bor', 0.75),\n",
       "               ('Born', 'Born', 1.0)]},\n",
       "             18501: {'id': 18501,\n",
       "              'm_kw': 'Binckes',\n",
       "              'score': 0.8,\n",
       "              'name': 'Sickes',\n",
       "              'variants': [('Brincke', 'Binckes', 0.7142857142857143),\n",
       "               ('Brinck', 'Brink', 0.8333333333333334)]},\n",
       "             16495: {'id': 16495,\n",
       "              'm_kw': 'Cattenburgh',\n",
       "              'score': 0.8,\n",
       "              'name': 'Westenberg',\n",
       "              'variants': [('Cattenburgh', 'Cattenburgh', 1.0),\n",
       "               ('Cartenborgh', 'Cattenburgh', 0.8181818181818181),\n",
       "               ('Cattenborgh', 'Cattenburgh', 0.9090909090909091),\n",
       "               ('Catienborgh', 'Cattenburgh', 0.8181818181818181),\n",
       "               ('Gattenburgh', 'Cattenburgh', 0.9090909090909091),\n",
       "               ('Cattenborgb', 'Cattenburgh', 0.8181818181818181),\n",
       "               ('Cattenburgb', 'Cattenburgh', 0.9090909090909091),\n",
       "               ('Catienburgh', 'Cattenburgh', 0.9090909090909091)]},\n",
       "             19130: {'id': 19130,\n",
       "              'm_kw': 'Coulman',\n",
       "              'score': 1.0,\n",
       "              'name': 'Coulman',\n",
       "              'variants': [('Cousman', 'Coulman', 0.8571428571428572),\n",
       "               ('Coulman', 'Coulman', 1.0)]},\n",
       "             13458: {'id': 13458,\n",
       "              'm_kw': 'Eelbo',\n",
       "              'score': 1.0,\n",
       "              'name': 'Eelbo',\n",
       "              'variants': [('Ealbo', 'Eelbo', 0.8), ('Eelbo', 'Eelbo', 1.0)]},\n",
       "             16428: {'id': 16428,\n",
       "              'm_kw': 'Gelder',\n",
       "              'score': 0.9,\n",
       "              'name': 'van Dedem van Gelder',\n",
       "              'variants': [('GelderDE', 'Gelder', 0.75),\n",
       "               ('Gelderle', 'Gelder', 0.75)]},\n",
       "             13046: {'id': 13046,\n",
       "              'm_kw': 'Glinstra',\n",
       "              'score': 1.0,\n",
       "              'name': 'van Glinstra',\n",
       "              'variants': [('Giinstra', 'Glinstra', 0.875),\n",
       "               ('Glinstra', 'Glinstra', 1.0),\n",
       "               ('Glnstra', 'Glinstra', 0.875)]},\n",
       "             16423: {'id': 16423,\n",
       "              'm_kw': 'Haersolte',\n",
       "              'score': 1.0,\n",
       "              'name': 'van Haersolte tot Oldenhof',\n",
       "              'variants': [('Haarsolte', 'Haersolte', 0.8888888888888888),\n",
       "               ('Haarsoôlte', 'Haersolte', 0.8),\n",
       "               ('HaarsolteDE', 'Haersolte', 0.7272727272727273),\n",
       "               ('Haarsoslte', 'Haersolte', 0.8),\n",
       "               ('Haarsôlte', 'Haersolte', 0.7777777777777778),\n",
       "               ('Haarsolie', 'Haersolte', 0.7777777777777778)]},\n",
       "             16465: {'id': 16465,\n",
       "              'm_kw': 'Isselmuden',\n",
       "              'score': 1.0,\n",
       "              'name': 'van Isselmuden tot Zwollingerkamp',\n",
       "              'variants': [('lselmuden', 'Isselmuden', 0.8),\n",
       "               ('lsselmuden', 'Isselmuden', 0.9),\n",
       "               ('Tsselmuden', 'Isselmuden', 0.9),\n",
       "               ('lyelmuden', 'Deelden', 0.5555555555555556),\n",
       "               (\"l'esmuden\", 'Veldhuijs', 1.0),\n",
       "               ('lIselmuden', 'Isselmuden', 0.8),\n",
       "               ('lsielmuden', 'Isselmuden', 0.8),\n",
       "               ('Jsselmuden', 'Isselmuden', 0.9),\n",
       "               ('lelmuden', 'Velden', 0.625),\n",
       "               ('lIsselmuden', 'Isselmuden', 0.9090909090909091),\n",
       "               ('Iiselmuden', 'Isselmuden', 0.9),\n",
       "               (\"li'elmuden\", 'Deelden', 0.5),\n",
       "               ('liselmuden', 'Isselmuden', 0.8),\n",
       "               ('Ilsselmuden', 'Isselmuden', 0.9090909090909091),\n",
       "               ('Iisselmuden', 'Isselmuden', 0.9090909090909091),\n",
       "               ('Isselmuden', 'Isselmuden', 1.0),\n",
       "               (\"lss'elmuden\", 'Isselmuden', 0.8181818181818181),\n",
       "               ('Isiselmuden', 'Isselmuden', 0.9090909090909091),\n",
       "               ('lyselmuden', 'Isselmuden', 0.8),\n",
       "               (\"ls'elmuden\", 'Isselmuden', 0.8),\n",
       "               ('Jsijelmuden', 'Isselmuden', 0.7272727272727273),\n",
       "               ('Iliselmuden', 'Isselmuden', 0.8181818181818181),\n",
       "               (\"Is'elmuden\", 'Isselmuden', 0.9),\n",
       "               ('lsiselmuden', 'Isselmuden', 0.8181818181818181),\n",
       "               ('lIlsselmuden', 'Isselmuden', 0.8333333333333334),\n",
       "               ('lsselmaden', 'Isselmuden', 0.8),\n",
       "               ('Jlsselmuden', 'Isselmuden', 0.8181818181818181)]},\n",
       "             17356: {'id': 17356,\n",
       "              'm_kw': 'Tamminga',\n",
       "              'score': 1.0,\n",
       "              'name': 'Tamminga van Alberda',\n",
       "              'variants': [('Zamminga', 'Tamminga', 0.875),\n",
       "               ('Tamminga', 'Tamminga', 1.0),\n",
       "               ('JTamminga', 'Tamminga', 0.8888888888888888),\n",
       "               ('Jamminga', 'Tamminga', 0.875)]},\n",
       "             17268: {'id': 17268,\n",
       "              'm_kw': 'Umbgrove',\n",
       "              'score': 1.0,\n",
       "              'name': 'Umbgrove',\n",
       "              'variants': [('Umbgroeven', 'Umbgrove', 0.8),\n",
       "               ('Umbgrveve', 'Umbgrove', 0.7777777777777778),\n",
       "               ('Umbgroeve', 'Umbgrove', 0.8888888888888888),\n",
       "               ('Umbgrocve', 'Umbgrove', 0.8888888888888888),\n",
       "               ('Umbgrueve', 'Umbgrove', 0.7777777777777778),\n",
       "               ('Umhgroeve', 'Umbgrove', 0.7777777777777778)]},\n",
       "             18604: {'id': 18604,\n",
       "              'm_kw': 'Poll',\n",
       "              'score': 1.0,\n",
       "              'name': 'Wijnbergen tot de beide Pollen',\n",
       "              'variants': [('Poll', 'Poll', 1.0), ('Pol', 'Pol', 1.0)]},\n",
       "             16377: {'id': 16377,\n",
       "              'm_kw': 'Rechteren',\n",
       "              'score': 1.0,\n",
       "              'name': 'van Rechteren tot Gramsbergen',\n",
       "              'variants': [('Rechteren', 'Rechteren', 1.0),\n",
       "               ('Rechieren', 'Rechteren', 0.8888888888888888)]},\n",
       "             15207: {'id': 15207,\n",
       "              'm_kw': 'Renswoude',\n",
       "              'score': 0.9,\n",
       "              'name': 'van Reede tot Renswoude',\n",
       "              'variants': [('Rensqwoude', 'Renswoude', 0.9),\n",
       "               ('Renswoude', 'Renswoude', 1.0)]},\n",
       "             14079: {'id': 14079,\n",
       "              'm_kw': 'Slingelandt',\n",
       "              'score': 1.0,\n",
       "              'name': 'van Slingelandt',\n",
       "              'variants': [('Singelandt', 'Slingelandt', 0.9090909090909091),\n",
       "               ('Siingelandt', 'Slingelandt', 0.9090909090909091),\n",
       "               ('Slingelandt', 'Slingelandt', 1.0)]},\n",
       "             14436: {'id': 14436,\n",
       "              'm_kw': 'Vechoven',\n",
       "              'score': 0.6,\n",
       "              'name': 'van Vechoven',\n",
       "              'variants': [('VeckhoVan', 'Vechoven', 0.6666666666666667),\n",
       "               ('Veckhboven', 'Vechoven', 0.8),\n",
       "               (\"l'eckhoven\", 'Veldhuijs', 1.0),\n",
       "               ('Veckboven', 'Vechoven', 0.7777777777777778),\n",
       "               ('Veckhoven', 'Vechoven', 0.8888888888888888)]},\n",
       "             13915: {'id': 13915,\n",
       "              'm_kw': 'Moor',\n",
       "              'score': 0.6,\n",
       "              'name': 'Moorenvliet',\n",
       "              'variants': [('voor', 'Moor', 0.75), ('door', 'Moor', 0.75)]},\n",
       "             14072: {'id': 14072,\n",
       "              'm_kw': 'Dyck',\n",
       "              'score': 0.7,\n",
       "              'name': 'Duyck',\n",
       "              'variants': [('dyck', 'Dyck', 0.75), ('lyck', 'Dyck', 0.75)]}})"
      ]
     },
     "execution_count": 101,
     "metadata": {},
     "output_type": "execute_result"
    }
   ],
   "source": [
    "matched_deputies"
   ]
  },
  {
   "cell_type": "code",
   "execution_count": 102,
   "metadata": {},
   "outputs": [
    {
     "data": {
      "text/plain": [
       "[[('Haayen', 'Haaften', 0.7142857142857143),\n",
       "  ('HWiaayen', 'Haaften', 0.5),\n",
       "  ('Yaayen', 'Oyen', 0.5),\n",
       "  ('Waauyen', 'Waeyen', 0.7142857142857143),\n",
       "  (\"H'aayen\", 'Heusden', 1.0),\n",
       "  ('Waayen', 'Waeyen', 0.8333333333333334),\n",
       "  (\"HW'aayen\", 'Haaften', 0.5),\n",
       "  ('Weaayen', 'Waeyen', 0.7142857142857143),\n",
       "  ('Woaayen', 'Waeyen', 0.7142857142857143),\n",
       "  ('aayen', 'Oyen', 0.6),\n",
       "  ('Wiaayen', 'Waeyen', 0.7142857142857143),\n",
       "  ('Haaayen', 'Haaften', 0.7142857142857143),\n",
       "  ('YWaayen', 'Waeyen', 0.7142857142857143),\n",
       "  (\"B'aayen\", 'Buysero', 1.0),\n",
       "  (\"Y'aayen\", 'Ysbrands', 1.0),\n",
       "  ('Wauayen', 'Waeyen', 0.7142857142857143),\n",
       "  (\"W'aayen\", 'Weesp', 1.0)],\n",
       " [('Hssenius', 'Essenius', 0.875),\n",
       "  ('B/senius', 'Buysero', 1.0),\n",
       "  ('Esjenius', 'Essenius', 0.875),\n",
       "  ('Fsenius', 'Essenius', 0.75),\n",
       "  ('Fssenius', 'Essenius', 0.875),\n",
       "  ('Essentus', 'Essenius', 0.875),\n",
       "  ('Eseniut', 'Essenius', 0.75),\n",
       "  ('FHisenius', 'Hixenius', 0.7777777777777778),\n",
       "  ('Bssenius', 'Essenius', 0.875),\n",
       "  ('Eyenius', 'Essenius', 0.75),\n",
       "  ('Essenius', 'Essenius', 1.0)],\n",
       " [('Berchuss', 'Berchuis', 0.875),\n",
       "  ('Berghuys', 'Berghuis', 0.875),\n",
       "  ('Berchuys', 'Berchuis', 0.875)],\n",
       " [('Beur', 'Beer', 0.75)],\n",
       " [('QueisenDE', 'Queisen', 0.7777777777777778),\n",
       "  ('Bueisen', 'Queisen', 0.8571428571428572),\n",
       "  ('Queisen', 'Queisen', 1.0),\n",
       "  ('Jueisen', 'Queisen', 0.8571428571428572),\n",
       "  ('Dueisen', 'Du', 1.0),\n",
       "  ('Dussen', 'Dussen', 1.0),\n",
       "  ('Vueisen', 'Queisen', 0.8571428571428572),\n",
       "  ('Qucisen', 'Queisen', 0.8571428571428572),\n",
       "  ('JVueisen', 'Queisen', 0.75),\n",
       "  ('Bucisen', 'Buysen', 0.7142857142857143),\n",
       "  ('Dassen', 'Dussen', 0.8333333333333334),\n",
       "  ('Oueisen', 'Queisen', 0.8571428571428572),\n",
       "  ('SQueisen', 'Queisen', 0.875),\n",
       "  ('OQueisen', 'Queisen', 0.875),\n",
       "  ('Sueisen', 'Queisen', 0.8571428571428572),\n",
       "  ('JQueisen', 'Queisen', 0.875),\n",
       "  ('SDueisen', 'Queisen', 0.75),\n",
       "  ('Dueison', 'Du', 1.0)],\n",
       " [('Burgb', 'Burgh', 0.8), ('Burgh', 'Burgh', 1.0)],\n",
       " [('lYynbergen', 'Lengbergen', 0.6),\n",
       "  (\"H'ynbergen\", 'Heusden', 1.0),\n",
       "  ('Wiynbergen', 'Wijnbergen', 0.9),\n",
       "  (\"Y'ynbergen\", 'Ysbrands', 1.0),\n",
       "  ('Woynbergen', 'Wijnbergen', 0.8),\n",
       "  ('Bynbergen', 'By', 1.0),\n",
       "  ('Usynbergen', 'Lengbergen', 0.6),\n",
       "  (\"W'ynbergen\", 'Weesp', 1.0),\n",
       "  ('ynbergen', 'Lengbergen', 0.7),\n",
       "  ('Steenbergen', 'Steenbergen', 1.0),\n",
       "  (\"HW'ynbergen\", 'Wijnbergen', 0.7272727272727273),\n",
       "  ('Hynbergen', 'Helbergen', 0.7777777777777778),\n",
       "  ('Sseenbergen', 'Steenbergen', 0.9090909090909091),\n",
       "  ('Wynbergen', 'Wijnbergen', 0.8)],\n",
       " [('Citiers', 'Citters', 0.8571428571428572), ('Citters', 'Citters', 1.0)],\n",
       " [('Clant', 'Clant', 1.0), ('ClantBb', 'Clant', 0.7142857142857143)],\n",
       " ['eer1730',\n",
       "  'Decentber1730',\n",
       "  'ember1730',\n",
       "  'December1730',\n",
       "  'Mey1730',\n",
       "  'September1730'],\n",
       " [('Eckvan', '\\\\(van', 0.5)],\n",
       " ['Februarii1730', 'Februarit1730'],\n",
       " [('Griffie', 'Griffioen', 0.7777777777777778),\n",
       "  ('Griffier', 'Griffioen', 0.7777777777777778)],\n",
       " [('Hungrosgne', 'Hurgronje', 0.6),\n",
       "  ('Hurgrogne', 'Hurgronje', 0.7777777777777778),\n",
       "  ('Hurzgrogne', 'Hurgronje', 0.7),\n",
       "  ('Hurgrogue', 'Hurgronje', 0.7777777777777778),\n",
       "  ('Hurgronje', 'Hurgronje', 1.0),\n",
       "  ('Haurgrogne', 'Hurgronje', 0.7)],\n",
       " [('Helsdingen', 'Helsdingen', 1.0), ('Heldingen', 'Helsdingen', 0.9)],\n",
       " [('Helsingb', 'Helsdingen', 0.7), ('Helsingh', 'Hoisingh', 0.75)],\n",
       " [('Verelst', 'Verelst', 1.0), ('Herelst', 'Verelst', 0.8571428571428572)],\n",
       " [('Hursk', 'Hurck', 0.8), ('Hurck', 'Hurck', 1.0)],\n",
       " [('Torck', 'Torck', 1.0),\n",
       "  ('JTorck', 'Torck', 0.8333333333333334),\n",
       "  ('Zorck', 'Borck', 0.8),\n",
       "  ('Jorck', 'Borck', 0.8)],\n",
       " [('Wilbem', 'Wilhem', 0.8333333333333334),\n",
       "  ('JVilhem', 'Wilhem', 0.7142857142857143),\n",
       "  ('Wilhem', 'Wilhem', 1.0),\n",
       "  (\"U'ilbem\", 'Upmeijer', 1.0)],\n",
       " [('Jongh', 'Jongh', 1.0), ('Jonge', 'Jonge', 1.0)],\n",
       " [('Jongemaats', 'Jongemaats', 1.0), ('Jongemaat', 'Jongemaats', 0.9)],\n",
       " [('Kempenaar', 'Kempenaar', 1.0), ('Kempenaer', 'Kempenaer', 1.0)],\n",
       " [('Lintelv', 'Lintelo', 0.8571428571428572),\n",
       "  ('Lintelo', 'Lintelo', 1.0),\n",
       "  ('Lntelo', 'Lintelo', 0.8571428571428572)],\n",
       " [('Londen', 'Linden', 0.8333333333333334),\n",
       "  ('Tynden', 'Lynden', 0.8333333333333334),\n",
       "  ('Lynden', 'Lynden', 1.0)],\n",
       " [('landt', 'Landt', 0.8), ('Luandts', 'Landt', 0.7142857142857143)],\n",
       " [('Lune', 'Lane', 0.75)],\n",
       " [('Ney', 'Neyn', 0.75),\n",
       "  ('Neey', 'Neyn', 0.5),\n",
       "  ('MNoey', 'Hoey', 0.6),\n",
       "  ('Noey', 'Hoey', 0.75)],\n",
       " [('Merck', 'Mercks', 0.8333333333333334),\n",
       "  ('Marck', 'Marck', 1.0),\n",
       "  ('geMarck', 'Marck', 0.7142857142857143),\n",
       "  ('Warck', 'Warck', 1.0)],\n",
       " [('Nergena', 'Nergena', 1.0), ('Norgena', 'Nergena', 0.8571428571428572)],\n",
       " ['PURIAERSIDE',\n",
       "  'PRAEBSIDE',\n",
       "  'PRADSIDE',\n",
       "  'PRAAZASIDE',\n",
       "  'PRAESIDE',\n",
       "  'PRAAZESIDE',\n",
       "  'PRAESAID',\n",
       "  'PRAAEISIDDE',\n",
       "  'PRAEDESIUDE',\n",
       "  'PRAEYDE'],\n",
       " [('Rambhorst', 'Ramhorst', 0.8888888888888888),\n",
       "  ('Ramhborst', 'Ramhorst', 0.8888888888888888),\n",
       "  ('Ramherst', 'Ramhorst', 0.875),\n",
       "  ('Ramborst', 'Ramhorst', 0.875),\n",
       "  ('Ramehorst', 'Ramhorst', 0.8888888888888888),\n",
       "  ('Ramhorst', 'Ramhorst', 1.0),\n",
       "  ('Ramhorf', 'Ramhorst', 0.75),\n",
       "  ('Ramlorst', 'Ramhorst', 0.875)],\n",
       " [('Requeste', 'Renesse', 0.625), ('queste', 'Huete', 0.6666666666666667)],\n",
       " [('Sorerdyck', 'Vereyck', 0.5555555555555556),\n",
       "  ('Sloterdyck', 'Sloterdijck', 0.8181818181818181),\n",
       "  ('Slorerdyck', 'Sloterdijck', 0.7272727272727273),\n",
       "  ('Sletoerdyck', 'Sloterdijck', 0.6363636363636364),\n",
       "  ('Sleterdyck', 'Sloterdijck', 0.7272727272727273),\n",
       "  ('Slsoterdyck', 'Sloterdijck', 0.7272727272727273),\n",
       "  ('Stoterdyck', 'Sloterdijck', 0.7272727272727273)],\n",
       " ['Vau', 'vau'],\n",
       " [('Viscomi', 'Visconti', 0.75),\n",
       "  ('Viscooti', 'Visconti', 0.875),\n",
       "  ('Visconti', 'Visconti', 1.0),\n",
       "  (\"Viscou'ti\", 'Visconti', 0.7777777777777778)],\n",
       " ['Vun', 'vun'],\n",
       " [('wan', 'Swan', 0.75)],\n",
       " [('werdende', 'Verden', 0.625),\n",
       "  ('werden', 'Verden', 0.8333333333333334),\n",
       "  ('derden', 'Verden', 0.8333333333333334)],\n",
       " ['drie', 'die'],\n",
       " [('gesonden', 'Senden', 0.625), ('gevonden', 'Senden', 0.625)],\n",
       " [('hebben', 'Nebbens', 0.7142857142857143), ('hebbende', 'Nebbens', 0.625)],\n",
       " [('luwen', 'Ruwen', 0.8)],\n",
       " ['omen', 'men'],\n",
       " ['miet', 'met'],\n",
       " ['wier', 'vier']]"
      ]
     },
     "execution_count": 102,
     "metadata": {},
     "output_type": "execute_result"
    }
   ],
   "source": [
    "unmatched_deputies"
   ]
  },
  {
   "cell_type": "code",
   "execution_count": null,
   "metadata": {},
   "outputs": [],
   "source": [
    "class FndMatch(object):\n",
    "    def __init__(self,\n",
    "                 year=0,\n",
    "                 searcher=FuzzyPhraseSearcher,\n",
    "                 junksearcher=FuzzyPhraseSearcher,\n",
    "                 # patterns=list,\n",
    "                 register=dict,\n",
    "                 rev_graph=dict,\n",
    "                 df=pd.DataFrame):\n",
    "        self.year = year\n",
    "        self.searcher = searcher\n",
    "        self.junksearcher = junksearcher\n",
    "        self.register = register\n",
    "        # self.patterns = patterns\n",
    "        self.rev_graph = rev_graph\n",
    "        self.df = df\n",
    "\n",
    "    def match_candidates(self, heer=str):\n",
    "        found_heer = Heer()\n",
    "        try:\n",
    "            candidates = self.searcher.find_matches(text=heer, use_word_boundaries=False, include_variants=True)\n",
    "            print(candidates)\n",
    "            if candidates:\n",
    "                # sort the best candidate\n",
    "                candidate = max(candidates, key=lambda x: x.levenshtein_similarity)\n",
    "                levenshtein_similarity = candidate.levenshtein_similarity\n",
    "                searchterm = candidate.phrase.exact_string\n",
    "                n_candidates = self.rev_graph.get(searchterm) or []\n",
    "                found_heer.levenshtein_distance = levenshtein_similarity\n",
    "                found_heer.searchterm = searchterm\n",
    "                found_heer.match_keyword = searchterm\n",
    "                found_heer.score = 1.0\n",
    "                if len(n_candidates) == 0:\n",
    "                    found_heer.fill('')\n",
    "                elif len(n_candidates) == 1:\n",
    "                    found_heer.proposed_delegate = n_candidates[0]\n",
    "                    candidate = iterative_search(name=found_heer.proposed_delegate, year=self.year, df=self.df)\n",
    "                    found_heer.fill(candidate)\n",
    "                else:\n",
    "                    candidate = self.composite_name(candidates=n_candidates, heer='')\n",
    "                    found_heer.fill(candidate)\n",
    "                found_heer.probably_junk = self.is_heer_junk(heer)\n",
    "        except ValueError:\n",
    "            logging.info(msg=f'{heer} ValueError')\n",
    "            pass\n",
    "\n",
    "        return found_heer\n",
    "\n",
    "    def composite_name(self, candidates=[], heer='', searchterm=str):\n",
    "        dayinterval = pd.Interval(self.year, self.year, closed=\"both\")\n",
    "        candidate = dedup_candidates(proposed_candidates=candidates,\n",
    "                                     register=self.register,\n",
    "                                     searcher=herensearcher,\n",
    "                                     searchterm=searchterm,\n",
    "                                     dayinterval=dayinterval,\n",
    "                                     df=self.df)\n",
    "        if len(candidate) == 0:\n",
    "            src = iterative_search(name=heer, year=self.year, df=self.df)\n",
    "            #             if len(src) > 1:\n",
    "            #                 src = src.loc[src.p_interval.apply(lambda x: x.overlaps(dayinterval))]\n",
    "            #                 if len(src) == 0:\n",
    "            #                     src = src.loc[src]\n",
    "            #            src['levenshtein_distance'] = src.name.apply(lambda x: score_levenshtein_distance_ratio(term1=self.levenshtein_distance, term2=x))\n",
    "            src.sort_values(['score', ])\n",
    "            # self.heer.levenshtein_distance = self.levenshtein_distance\n",
    "            candidate = src.iloc[src.index == src.first_valid_index()]  # brrrr\n",
    "\n",
    "        return candidate\n",
    "\n",
    "    def is_heer_junk(self, heer):\n",
    "        probably_junk = False\n",
    "        try:\n",
    "            probably_junk_result = self.junksearcher.find_matches(text=heer, include_variants=True)\n",
    "            if len(probably_junk_result) > 0:\n",
    "                probably_junk = True\n",
    "            return probably_junk\n",
    "        except ValueError:\n",
    "            logging.info(f\"fuzzysearcher value error raised #{heer}#, {self.junksearcher.phrase_model.json}\")\n",
    "            return True\n",
    "\n",
    "\n",
    "        return found_heer"
   ]
  },
  {
   "cell_type": "code",
   "execution_count": 70,
   "metadata": {},
   "outputs": [
    {
     "name": "stdout",
     "output_type": "stream",
     "text": [
      "Becker\n",
      "[PhraseMatch(phrase: \"Becker\", variant: \"Becker\",string: \"Becker\", offset: 0)]\n",
      "Bout\n",
      "[PhraseMatch(phrase: \"Bout\", variant: \"Bout\",string: \"Bout\", offset: 0)]\n",
      "Zaais van Amerongen\n",
      "[PhraseMatch(phrase: \"Zas\", variant: \"Zas\",string: \"Zaais\", offset: 0), PhraseMatch(phrase: \"(van\", variant: \"(van\",string: \"van\", offset: 6), PhraseMatch(phrase: \"Amerongen\", variant: \"Amerongen\",string: \"Amerongen\", offset: 10)]\n",
      "Zaatrs van Amerongen\n",
      "[PhraseMatch(phrase: \"Baars\", variant: \"Baars\",string: \"Zaatrs\", offset: 0), PhraseMatch(phrase: \"(van\", variant: \"(van\",string: \"van\", offset: 7), PhraseMatch(phrase: \"Amerongen\", variant: \"Amerongen\",string: \"Amerongen\", offset: 11)]\n",
      "Zaars van HAmerongen\n",
      "[PhraseMatch(phrase: \"Baars\", variant: \"Baars\",string: \"Zaars\", offset: 0), PhraseMatch(phrase: \"(van\", variant: \"(van\",string: \"van\", offset: 6), PhraseMatch(phrase: \"Amerongen\", variant: \"Amerongen\",string: \"HAmerongen\", offset: 10)]\n",
      "Zaats van Amerongen\n",
      "[PhraseMatch(phrase: \"Zas\", variant: \"Zas\",string: \"Zaats\", offset: 0), PhraseMatch(phrase: \"(van\", variant: \"(van\",string: \"van\", offset: 6), PhraseMatch(phrase: \"Amerongen\", variant: \"Amerongen\",string: \"Amerongen\", offset: 10)]\n",
      "Jaats van Amerongen\n",
      "[PhraseMatch(phrase: \"Jans\", variant: \"Jans\",string: \"Jaats\", offset: 0), PhraseMatch(phrase: \"(van\", variant: \"(van\",string: \"van\", offset: 6), PhraseMatch(phrase: \"Amerongen\", variant: \"Amerongen\",string: \"Amerongen\", offset: 10)]\n",
      "MNoey\n",
      "[]\n",
      "Noey\n",
      "[PhraseMatch(phrase: \"Boey\", variant: \"Boey\",string: \"Noey\", offset: 0)]\n",
      "de Milan Visconti\n",
      "[PhraseMatch(phrase: \"Milan\", variant: \"Milan\",string: \"Milan\", offset: 3), PhraseMatch(phrase: \"Visconti\", variant: \"Visconti\",string: \"Visconti\", offset: 9)]\n",
      "Milan Visconti\n",
      "[PhraseMatch(phrase: \"Milan\", variant: \"Milan\",string: \"Milan\", offset: 0), PhraseMatch(phrase: \"Visconti\", variant: \"Visconti\",string: \"Visconti\", offset: 6)]\n",
      "de Milan Visconii\n",
      "[PhraseMatch(phrase: \"Milan\", variant: \"Milan\",string: \"Milan\", offset: 3), PhraseMatch(phrase: \"Visconti\", variant: \"Visconti\",string: \"Visconii\", offset: 9)]\n",
      "Queisen\n",
      "[PhraseMatch(phrase: \"Queisen\", variant: \"Queisen\",string: \"Queisen\", offset: 0)]\n",
      "Quint\n",
      "[PhraseMatch(phrase: \"Quint\", variant: \"Quint\",string: \"Quint\", offset: 0)]\n",
      "van Glinstra\n",
      "[PhraseMatch(phrase: \"(van\", variant: \"(van\",string: \"van\", offset: 0), PhraseMatch(phrase: \"Glinstra\", variant: \"Glinstra\",string: \"Glinstra\", offset: 4)]\n",
      "Van Glinstra\n",
      "[PhraseMatch(phrase: \"Glinstra\", variant: \"Glinstra\",string: \"Glinstra\", offset: 4)]\n",
      "uan Glinstra\n",
      "[PhraseMatch(phrase: \"Glinstra\", variant: \"Glinstra\",string: \"Glinstra\", offset: 4)]\n",
      "van Borsselen\n",
      "[PhraseMatch(phrase: \"(van\", variant: \"(van\",string: \"van\", offset: 0), PhraseMatch(phrase: \"Borssele\", variant: \"Borssele\",string: \"Borsselen\", offset: 4)]\n",
      "van Borselen\n",
      "[PhraseMatch(phrase: \"(van\", variant: \"(van\",string: \"van\", offset: 0), PhraseMatch(phrase: \"Borselen\", variant: \"Borselen\",string: \"Borselen\", offset: 4)]\n",
      "an Borsselen\n",
      "[PhraseMatch(phrase: \"Borssele\", variant: \"Borssele\",string: \"Borsselen\", offset: 3)]\n",
      "de Kempenaar\n",
      "[PhraseMatch(phrase: \"Kempenaar\", variant: \"Kempenaar\",string: \"Kempenaar\", offset: 3)]\n",
      "de Kempenaer\n",
      "[PhraseMatch(phrase: \"Kempenaer\", variant: \"Kempenaer\",string: \"Kempenaer\", offset: 3)]\n",
      "van Berghuis\n",
      "[PhraseMatch(phrase: \"(van\", variant: \"(van\",string: \"van\", offset: 0), PhraseMatch(phrase: \"Berghuis\", variant: \"Berghuis\",string: \"Berghuis\", offset: 4)]\n",
      "van Berchuys\n",
      "[PhraseMatch(phrase: \"(van\", variant: \"(van\",string: \"van\", offset: 0), PhraseMatch(phrase: \"Berchuis\", variant: \"Berchuis\",string: \"Berchuys\", offset: 4)]\n",
      "van Berghuys\n",
      "[PhraseMatch(phrase: \"(van\", variant: \"(van\",string: \"van\", offset: 0), PhraseMatch(phrase: \"Berghuis\", variant: \"Berghuis\",string: \"Berghuys\", offset: 4)]\n",
      "van Blocklandt\n",
      "[PhraseMatch(phrase: \"(van\", variant: \"(van\",string: \"van\", offset: 0), PhraseMatch(phrase: \"Blokland\", variant: \"Blokland\",string: \"Blocklandt\", offset: 4)]\n",
      "van Haarsolte\n",
      "[PhraseMatch(phrase: \"(van\", variant: \"(van\",string: \"van\", offset: 0), PhraseMatch(phrase: \"Haersolte\", variant: \"Haersolte\",string: \"Haarsolte\", offset: 4)]\n",
      "van Haarsoilte\n",
      "[PhraseMatch(phrase: \"(van\", variant: \"(van\",string: \"van\", offset: 0), PhraseMatch(phrase: \"Haersolte\", variant: \"Haersolte\",string: \"Haarsoilte\", offset: 4)]\n",
      "van Isselmuden\n",
      "[PhraseMatch(phrase: \"(van\", variant: \"(van\",string: \"van\", offset: 0), PhraseMatch(phrase: \"Isselmuden\", variant: \"Isselmuden\",string: \"Isselmuden\", offset: 4)]\n",
      "van lsselmuden\n",
      "[PhraseMatch(phrase: \"(van\", variant: \"(van\",string: \"van\", offset: 0), PhraseMatch(phrase: \"Isselmuden\", variant: \"Isselmuden\",string: \"lsselmuden\", offset: 4)]\n",
      "van lysselmuden\n",
      "[PhraseMatch(phrase: \"(van\", variant: \"(van\",string: \"van\", offset: 0), PhraseMatch(phrase: \"Isselmuden\", variant: \"Isselmuden\",string: \"lysselmuden\", offset: 4)]\n",
      "van Jassenaer\n",
      "[PhraseMatch(phrase: \"(van\", variant: \"(van\",string: \"van\", offset: 0), PhraseMatch(phrase: \"Wassenaer\", variant: \"Wassenaer\",string: \"Jassenaer\", offset: 4)]\n",
      "van Wassenaer\n",
      "[PhraseMatch(phrase: \"(van\", variant: \"(van\",string: \"van\", offset: 0), PhraseMatch(phrase: \"Wassenaer\", variant: \"Wassenaer\",string: \"Wassenaer\", offset: 4)]\n",
      "vun Wassenaer\n",
      "[PhraseMatch(phrase: \"Wassenaer\", variant: \"Wassenaer\",string: \"Wassenaer\", offset: 4)]\n",
      "van Wafeenaer\n",
      "[PhraseMatch(phrase: \"(van\", variant: \"(van\",string: \"van\", offset: 0), PhraseMatch(phrase: \"Wassenaer\", variant: \"Wassenaer\",string: \"Wafeenaer\", offset: 4)]\n",
      "van WY assenaer\n",
      "[PhraseMatch(phrase: \"(van\", variant: \"(van\",string: \"van\", offset: 0), PhraseMatch(phrase: \"Wassenaer\", variant: \"Wassenaer\",string: \"assenaer\", offset: 7)]\n",
      "van Lynden\n",
      "[PhraseMatch(phrase: \"(van\", variant: \"(van\",string: \"van\", offset: 0), PhraseMatch(phrase: \"Lynden\", variant: \"Lynden\",string: \"Lynden\", offset: 4)]\n",
      "vun Rechteren\n",
      "[PhraseMatch(phrase: \"Rechteren\", variant: \"Rechteren\",string: \"Rechteren\", offset: 4)]\n",
      "van Rechteren\n",
      "[PhraseMatch(phrase: \"(van\", variant: \"(van\",string: \"van\", offset: 0), PhraseMatch(phrase: \"Rechteren\", variant: \"Rechteren\",string: \"Rechteren\", offset: 4)]\n",
      "van Steenbergen\n",
      "[PhraseMatch(phrase: \"(van\", variant: \"(van\",string: \"van\", offset: 0), PhraseMatch(phrase: \"Steenbergen\", variant: \"Steenbergen\",string: \"Steenbergen\", offset: 4)]\n",
      "van Tamminga\n",
      "[PhraseMatch(phrase: \"(van\", variant: \"(van\",string: \"van\", offset: 0), PhraseMatch(phrase: \"Tamminga\", variant: \"Tamminga\",string: \"Tamminga\", offset: 4)]\n",
      "van Zamminga\n",
      "[PhraseMatch(phrase: \"(van\", variant: \"(van\",string: \"van\", offset: 0), PhraseMatch(phrase: \"Tamminga\", variant: \"Tamminga\",string: \"Zamminga\", offset: 4)]\n",
      "vander Waayen\n",
      "[PhraseMatch(phrase: \"Sander\", variant: \"Sander\",string: \"vander\", offset: 0), PhraseMatch(phrase: \"Waeyen\", variant: \"Waeyen\",string: \"Waayen\", offset: 7)]\n",
      "vander Jlaaayen\n",
      "[PhraseMatch(phrase: \"Sander\", variant: \"Sander\",string: \"vander\", offset: 0)]\n",
      "vander Weaayen\n",
      "[PhraseMatch(phrase: \"Sander\", variant: \"Sander\",string: \"vander\", offset: 0), PhraseMatch(phrase: \"Waeyen\", variant: \"Waeyen\",string: \"Weaayen\", offset: 7)]\n",
      "vunder Waayen\n",
      "[PhraseMatch(phrase: \"Sundert\", variant: \"Sundert\",string: \"vunder\", offset: 0), PhraseMatch(phrase: \"Waeyen\", variant: \"Waeyen\",string: \"Waayen\", offset: 7)]\n",
      "vander Marck\n",
      "[PhraseMatch(phrase: \"Sander\", variant: \"Sander\",string: \"vander\", offset: 0), PhraseMatch(phrase: \"Marck\", variant: \"Marck\",string: \"Marck\", offset: 7)]\n",
      "vander Steen\n",
      "[PhraseMatch(phrase: \"Sander\", variant: \"Sander\",string: \"vander\", offset: 0), PhraseMatch(phrase: \"Steen\", variant: \"Steen\",string: \"Steen\", offset: 7)]\n"
     ]
    }
   ],
   "source": [
    "from collections import defaultdict, Counter\n",
    "input = connected_presidents\n",
    "matched_deputies = defaultdict(list)\n",
    "unmatched_deputies = []\n",
    "for herengroup in input:\n",
    "        # we add the whole group to recognized if one name has a result\n",
    "        recognized_group = []\n",
    "        keyword_counter = Counter()\n",
    "        in_matched = False\n",
    "        for heer in herengroup: # we try to fuzzymatch the whole group and give the string a score\n",
    "            print(heer)\n",
    "            rslt = runner.matchfnd.searcher.find_matches(text=heer, include_variants=True)\n",
    "            print(rslt)\n",
    "#             if rslt:\n",
    "#                 in_matched = True\n",
    "#                 match_kw = getattr(rslt,'match_keyword')\n",
    "#                 print(match_kw)\n",
    "#                 match_distance = getattr(rslt,'levenshtein_distance')\n",
    "#                 recognized_group.append((heer, match_kw, match_distance))\n",
    "#                 keyword_counter.update([match_kw])"
   ]
  },
  {
   "cell_type": "code",
   "execution_count": 71,
   "metadata": {},
   "outputs": [
    {
     "data": {
      "text/plain": [
       "1.0"
      ]
     },
     "execution_count": 71,
     "metadata": {},
     "output_type": "execute_result"
    }
   ],
   "source": [
    "x = runner.matchfnd.match_candidates(heer=\"Isselmuden\")\n",
    "x.levenshtein_distance"
   ]
  },
  {
   "cell_type": "code",
   "execution_count": null,
   "metadata": {},
   "outputs": [],
   "source": [
    "pm = "
   ]
  },
  {
   "cell_type": "code",
   "execution_count": null,
   "metadata": {},
   "outputs": [],
   "source": [
    "phrasemodel = PhraseModel()"
   ]
  },
  {
   "cell_type": "code",
   "execution_count": null,
   "metadata": {},
   "outputs": [],
   "source": [
    "pm = runner.matchfnd.searcher.phrase_model"
   ]
  },
  {
   "cell_type": "code",
   "execution_count": 75,
   "metadata": {},
   "outputs": [
    {
     "data": {
      "text/plain": [
       "1.0"
      ]
     },
     "execution_count": 75,
     "metadata": {},
     "output_type": "execute_result"
    }
   ],
   "source": [
    "r = runner.matchfnd.searcher.find_matches(text='Isselmuden', include_variants=True)\n",
    "r[0].levenshtein_similarity"
   ]
  },
  {
   "cell_type": "code",
   "execution_count": 56,
   "metadata": {},
   "outputs": [
    {
     "name": "stdout",
     "output_type": "stream",
     "text": [
      "<span style=\"color:rgb(178,223,138)\"></span> <span style=\"color:rgb(178,223,138)\"></span> <span style=\"color:rgb(178,223,138)\"></span> <span style=\"color:rgb(178,223,138)\"></span> <span style=\"color:rgb(166,206,227)\"></span> <span style=\"color:rgb(166,206,227)\"></span> <span style=\"color:rgb(166,206,227)\"></span> \n"
     ]
    }
   ],
   "source": [
    "fragments = ob.get_fragments()\n",
    "# fragment += \"[{}]\".format(i.idnr) # for now\n",
    "outfragments = []\n",
    "for fragment in fragments:\n",
    "    if fragment['type'] != 'unmarked':\n",
    "        tcolor = ob.colormap.get(fragment['type']) or 'unknown'\n",
    "        ff = ob.color_match(fragment['pattern'], color=tcolor)\n",
    "        outfragments.append(ff)\n",
    "    else:\n",
    "        outfragments.append(fragment['pattern'])\n",
    "txt = \" \".join(outfragments)  # may want to turn this in object property\n",
    "print(txt)"
   ]
  },
  {
   "cell_type": "code",
   "execution_count": 41,
   "metadata": {},
   "outputs": [
    {
     "name": "stdout",
     "output_type": "stream",
     "text": [
      "3. finding unmarked text\n",
      "4. joining presidents and delegates\n",
      "Phrase(, None)\n",
      "Phrase(, None)\n",
      "Phrase(, None)\n",
      "Phrase(, None)\n",
      "total 44 found \n",
      "CPU times: user 1min 1s, sys: 554 ms, total: 1min 1s\n",
      "Wall time: 1min 3s\n"
     ]
    }
   ],
   "source": [
    "%time runner.gather_found_delegates()\n"
   ]
  },
  {
   "cell_type": "code",
   "execution_count": 139,
   "metadata": {},
   "outputs": [
    {
     "name": "stdout",
     "output_type": "stream",
     "text": [
      "5. verifying matches\n",
      "6. verifying spans\n",
      "updating merged delegates database\n",
      "7. finished to attendance lists and found database\n",
      "CPU times: user 1min 22s, sys: 976 ms, total: 1min 23s\n",
      "Wall time: 1min 25s\n"
     ]
    }
   ],
   "source": [
    "%time runner.verify_matches()"
   ]
  },
  {
   "cell_type": "code",
   "execution_count": 45,
   "metadata": {},
   "outputs": [
    {
     "data": {
      "text/plain": [
       "1.0"
      ]
     },
     "execution_count": 45,
     "metadata": {},
     "output_type": "execute_result"
    }
   ],
   "source": [
    "v = mg[3].variants['general'][0]\n",
    "run_attendancelist.iterative_search('Noey', v)"
   ]
  },
  {
   "cell_type": "code",
   "execution_count": 157,
   "metadata": {},
   "outputs": [],
   "source": [
    "mo.txt_to_fragments()"
   ]
  },
  {
   "cell_type": "code",
   "execution_count": null,
   "metadata": {},
   "outputs": [],
   "source": [
    "js = runner.junksweeper\n",
    "ms = runner.identify_delegates()\n",
    "for T in runner.searchobs:\n",
    "    searchob = runner.searchobs[T]\n",
    "    mo = run_attendancelist.MatchAndSpan(so, junksweeper=js, previously_matched=runner.found_delegates,\n",
    "                  match_search=ms)\n",
    "    "
   ]
  },
  {
   "cell_type": "code",
   "execution_count": null,
   "metadata": {},
   "outputs": [],
   "source": [
    "mo = run_attendancelist.MatchAndSpan(searchob.matched_text, junksweeper=js, previously_matched=runner.found_delegates,\n",
    "                  match_search=ms)"
   ]
  },
  {
   "cell_type": "code",
   "execution_count": 143,
   "metadata": {},
   "outputs": [],
   "source": [
    "mo = run_attendancelist.MatchAndSpan(so, junksweeper=js, previously_matched=runner.found_delegates,\n",
    "                  match_search=ms)"
   ]
  },
  {
   "cell_type": "code",
   "execution_count": 146,
   "metadata": {},
   "outputs": [
    {
     "data": {
      "text/plain": [
       "['. ',\n",
       " ', De Heeren ',\n",
       " '. Vanden ',\n",
       " ', ',\n",
       " ' van Waveren. ',\n",
       " ', ',\n",
       " ', ',\n",
       " ', van HoornTaats van Amerongen, van Renswoude. ',\n",
       " ', ',\n",
       " '. ',\n",
       " ' , van lsselmuden, Ten ',\n",
       " '. ',\n",
       " ', ',\n",
       " ' van Steedum.']"
      ]
     },
     "execution_count": 146,
     "metadata": {},
     "output_type": "execute_result"
    }
   ],
   "source": [
    "so.get_unmatched_text()"
   ]
  },
  {
   "cell_type": "code",
   "execution_count": 155,
   "metadata": {},
   "outputs": [
    {
     "name": "stdout",
     "output_type": "stream",
     "text": [
      "Heeren :  nan\n",
      "Vanden :  nan\n",
      "van Waveren :  nan\n",
      "van HoornTaats :  nan\n",
      "van Amerongen :  nan\n",
      "van Renswoude :  van Reede tot Renswoude\n",
      "van lsselmuden :  nan\n",
      "Ten :  nan\n",
      "van Steedum :  nan\n"
     ]
    }
   ],
   "source": [
    "for s in mo.nwsplit:\n",
    "    if len(s) > 2:\n",
    "        z = mo.previously_matched.variants.apply(lambda x: run_attendancelist.levenst_vals(x, s))\n",
    "        r = mo.previously_matched.loc[z]\n",
    "#         sr = mo.match_unmarked(s)\n",
    "        print(s, ': ',r.max()['name'])"
   ]
  },
  {
   "cell_type": "code",
   "execution_count": 154,
   "metadata": {},
   "outputs": [
    {
     "name": "stdout",
     "output_type": "stream",
     "text": [
      "Heeren\n",
      "Vanden\n",
      "van Waveren\n",
      "van HoornTaats\n",
      "van Amerongen\n",
      "van Renswoude\n",
      "van lsselmuden\n",
      "Ten\n",
      "van Steedum\n"
     ]
    }
   ],
   "source": [
    "for s in mo.nwsplit:\n",
    "    if len(s) > 2:\n",
    "        print(s)"
   ]
  },
  {
   "cell_type": "code",
   "execution_count": 118,
   "metadata": {},
   "outputs": [
    {
     "data": {
      "text/html": [
       "<div>\n",
       "<style scoped>\n",
       "    .dataframe tbody tr th:only-of-type {\n",
       "        vertical-align: middle;\n",
       "    }\n",
       "\n",
       "    .dataframe tbody tr th {\n",
       "        vertical-align: top;\n",
       "    }\n",
       "\n",
       "    .dataframe thead th {\n",
       "        text-align: right;\n",
       "    }\n",
       "</style>\n",
       "<table border=\"1\" class=\"dataframe\">\n",
       "  <thead>\n",
       "    <tr style=\"text-align: right;\">\n",
       "      <th></th>\n",
       "      <th>ref_id</th>\n",
       "      <th>geboortejaar</th>\n",
       "      <th>sterfjaar</th>\n",
       "      <th>colleges</th>\n",
       "      <th>functions</th>\n",
       "      <th>period</th>\n",
       "      <th>active_stgen</th>\n",
       "      <th>was_gedeputeerde</th>\n",
       "      <th>variants</th>\n",
       "      <th>name</th>\n",
       "      <th>found_in</th>\n",
       "      <th>id</th>\n",
       "      <th>sg</th>\n",
       "      <th>period_active.left</th>\n",
       "      <th>period_active.right</th>\n",
       "      <th>hypothetical_life.left</th>\n",
       "      <th>hypothetical_life.right</th>\n",
       "      <th>p_interval.left</th>\n",
       "      <th>p_interval.right</th>\n",
       "    </tr>\n",
       "  </thead>\n",
       "  <tbody>\n",
       "    <tr>\n",
       "      <th>0.0</th>\n",
       "      <td>13046</td>\n",
       "      <td>-102998.0</td>\n",
       "      <td>1751-10-06</td>\n",
       "      <td>Admiraliteit op de Maze (1586-1795), Staten-Ge...</td>\n",
       "      <td>gecommitteerde, ordinaris gedeputeerde, lid</td>\n",
       "      <td>PeriodIndex(['1722-05-04', '1722-05-05', '1722...</td>\n",
       "      <td>True</td>\n",
       "      <td>True</td>\n",
       "      <td>[2an Glinftra., an Glinjtra., Van Glinflra., Z...</td>\n",
       "      <td>van Glinstra</td>\n",
       "      <td>1728</td>\n",
       "      <td>13046</td>\n",
       "      <td>True</td>\n",
       "      <td>1722</td>\n",
       "      <td>1749</td>\n",
       "      <td>1688</td>\n",
       "      <td>1751</td>\n",
       "      <td>1722</td>\n",
       "      <td>1749</td>\n",
       "    </tr>\n",
       "    <tr>\n",
       "      <th>1.0</th>\n",
       "      <td>17862</td>\n",
       "      <td>-98615.0</td>\n",
       "      <td>1770-03-10</td>\n",
       "      <td>Staten-Generaal der Verenigde Nederlanden (158...</td>\n",
       "      <td>ordinaris gedeputeerde</td>\n",
       "      <td>PeriodIndex(['1724-11-01', '1724-11-02', '1724...</td>\n",
       "      <td>True</td>\n",
       "      <td>True</td>\n",
       "      <td>[Zan Wetderen., Van Welderen. P, Van Rechteren...</td>\n",
       "      <td>van Welderen</td>\n",
       "      <td>1728</td>\n",
       "      <td>17862</td>\n",
       "      <td>True</td>\n",
       "      <td>1724</td>\n",
       "      <td>1753</td>\n",
       "      <td>1700</td>\n",
       "      <td>1770</td>\n",
       "      <td>1724</td>\n",
       "      <td>1753</td>\n",
       "    </tr>\n",
       "  </tbody>\n",
       "</table>\n",
       "</div>"
      ],
      "text/plain": [
       "     ref_id  geboortejaar   sterfjaar  \\\n",
       "0.0   13046     -102998.0  1751-10-06   \n",
       "1.0   17862      -98615.0  1770-03-10   \n",
       "\n",
       "                                              colleges  \\\n",
       "0.0  Admiraliteit op de Maze (1586-1795), Staten-Ge...   \n",
       "1.0  Staten-Generaal der Verenigde Nederlanden (158...   \n",
       "\n",
       "                                       functions  \\\n",
       "0.0  gecommitteerde, ordinaris gedeputeerde, lid   \n",
       "1.0                       ordinaris gedeputeerde   \n",
       "\n",
       "                                                period  active_stgen  \\\n",
       "0.0  PeriodIndex(['1722-05-04', '1722-05-05', '1722...          True   \n",
       "1.0  PeriodIndex(['1724-11-01', '1724-11-02', '1724...          True   \n",
       "\n",
       "     was_gedeputeerde                                           variants  \\\n",
       "0.0              True  [2an Glinftra., an Glinjtra., Van Glinflra., Z...   \n",
       "1.0              True  [Zan Wetderen., Van Welderen. P, Van Rechteren...   \n",
       "\n",
       "             name  found_in     id    sg  period_active.left  \\\n",
       "0.0  van Glinstra      1728  13046  True                1722   \n",
       "1.0  van Welderen      1728  17862  True                1724   \n",
       "\n",
       "     period_active.right  hypothetical_life.left  hypothetical_life.right  \\\n",
       "0.0                 1749                    1688                     1751   \n",
       "1.0                 1753                    1700                     1770   \n",
       "\n",
       "     p_interval.left  p_interval.right  \n",
       "0.0             1722              1749  \n",
       "1.0             1724              1753  "
      ]
     },
     "execution_count": 118,
     "metadata": {},
     "output_type": "execute_result"
    }
   ],
   "source": [
    "mo.previously_matched.loc[mo.previously_matched.index.intersection(y)]"
   ]
  },
  {
   "cell_type": "code",
   "execution_count": 142,
   "metadata": {},
   "outputs": [],
   "source": [
    "so = runner.searchobs['session-1730-01-05-num-1'].matched_text"
   ]
  },
  {
   "cell_type": "code",
   "execution_count": 64,
   "metadata": {},
   "outputs": [
    {
     "name": "stdout",
     "output_type": "stream",
     "text": [
      "['PRAESENTIRBRUS', 'De', 'Heeren', 'van', 'Lynden', 'van', \"W'ynbergen\", 'van', 'Helsdingen', 'PEES', 'De', 'Vander', 'Waayen', 'DE', 'Resofutien', 'gisteren', 'genomen']\n"
     ]
    }
   ],
   "source": [
    "ut = ''.join(unmarked)\n",
    "st = re.sub(r\"([A-Z]{1,20})\", r\" \\1\", ut)\n",
    "splittekst = [x for x in re.split('\\s|,|\\.', st) if x != '']\n",
    "print (splittekst)\n",
    "# st = re.split(pattern='\\s|\\.', string=ut)\n",
    "# it = ' '.join(st)\n",
    "# splittekst = re.findall(pattern='[a-zA-Z][^A-Z]{2,}', string=it)\n",
    "# print(ut, '\\n', it, '\\n', st, '\\n', splittekst)\n",
    "# for s in st:\n",
    "#     if len(s) > 2 and len(js.find_matches(s, include_variants=True)) == 0:\n",
    "#         mtch = runner.found_delegates.name.apply(lambda x: run_attendancelist.score_levenshtein_similarity_ratio(x,s) > 0.6)\n",
    "#         tussenr = runner.found_delegates.loc[mtch]\n",
    "#         print(s, tussenr)"
   ]
  },
  {
   "cell_type": "code",
   "execution_count": 176,
   "metadata": {},
   "outputs": [
    {
     "data": {
      "text/plain": [
       "0.0"
      ]
     },
     "execution_count": 176,
     "metadata": {},
     "output_type": "execute_result"
    }
   ],
   "source": [
    "lsr('met','van')"
   ]
  },
  {
   "cell_type": "code",
   "execution_count": 39,
   "metadata": {},
   "outputs": [
    {
     "data": {
      "text/plain": [
       "[]"
      ]
     },
     "execution_count": 39,
     "metadata": {},
     "output_type": "execute_result"
    }
   ],
   "source": [
    "lsr = run_attendancelist.score_levenshtein_similarity_ratio\n",
    "st = []\n",
    "van = ''\n",
    "\n",
    "st"
   ]
  },
  {
   "cell_type": "code",
   "execution_count": 48,
   "metadata": {},
   "outputs": [
    {
     "name": "stdout",
     "output_type": "stream",
     "text": [
      "5. verifying matches\n",
      "6. verifying spans\n",
      "updating merged delegates database\n",
      "7. finished to attendance lists and found database\n"
     ]
    }
   ],
   "source": [
    "runner.verify_matches()"
   ]
  },
  {
   "cell_type": "code",
   "execution_count": null,
   "metadata": {},
   "outputs": [],
   "source": [
    "runner.presidents"
   ]
  },
  {
   "cell_type": "code",
   "execution_count": null,
   "metadata": {},
   "outputs": [],
   "source": [
    "txt = \"PRAESIDEDen Heere van Lynden PRAESENWIDBDU 8 De Heeren van Welderen van Singendonck Rasch Torck van Esk tot Norgena met twee extraordinana Gedepuieerden uyt de Provincie van Gelderlandt Van Weasscnaer le Leu de Wilbem vander Marck vander Ramborst Raadtpensionaris van Siingelandt Van Citters van Borsselen de Jongh Bout Noey Hungrosgne vun Hoorn Verelst met een entraordinaris Gedeputeerde uyt de Provincie wan Zeelandt Van Rensqwoude Sloterdyck met een extraordinaris Gedeputeerde uyt de Provincie van Vrieslandt Bueisen Van Berchuys  Clant,\"\n",
    "pat = \"%s(.*)%s\"  # pat = \"%s.*(.*)%s\" "
   ]
  },
  {
   "cell_type": "code",
   "execution_count": null,
   "metadata": {},
   "outputs": [],
   "source": [
    "from republic.analyser.attendance_lists.pattern_finders import make_president_searcher\n",
    "ps = make_president_searcher()\n",
    "matches = ps.find_matches(text=txt, use_word_boundaries=False, include_variants=True)\n",
    "presidents = [m for m in matches if m.label=='president']\n",
    "\n",
    "president = best_match(presidents)\n",
    "ofset = getattr(president, \"offset\")\n",
    "prez = getattr(president, \"string\")\n",
    "presentibi = [m for m in matches if m.label == 'presentibus']\n",
    "if presentibi:\n",
    "    presentibus = best_match(presentibi)\n",
    "    prae = presentibus.string or ''\n",
    "    end = getattr(presentibus, \"offset\") or len(txt)\n",
    "spns = {}\n",
    "if ofset != 0:\n",
    "    preamble_span = (0, ofset - 1)\n",
    "    preamble = txt[preamble_span[0]:preamble_span[1]]\n",
    "    spns['preamble'] = (preamble, preamble_span)\n",
    "pre_span = (ofset, ofset + len(prez))\n",
    "spns['pre'] = (prez, pre_span)\n",
    "presentibus_span = (end, end + len(prae))\n",
    "spns['presentibus'] = (prae, presentibus_span)\n",
    "searchpat = pat % (re.escape(prez), re.escape(prae))\n",
    "r = re.search(searchpat, txt)\n",
    "heer = r.group(1).strip()\n",
    "heer"
   ]
  },
  {
   "cell_type": "code",
   "execution_count": null,
   "metadata": {},
   "outputs": [],
   "source": [
    "prae"
   ]
  },
  {
   "cell_type": "code",
   "execution_count": null,
   "metadata": {},
   "outputs": [],
   "source": [
    "mn = min([abs(len(m.phrase.exact_string) - len( m.string)) for m in presidents])"
   ]
  },
  {
   "cell_type": "code",
   "execution_count": null,
   "metadata": {},
   "outputs": [],
   "source": [
    "candidates = [m for m in presidents if abs(len(m.phrase.exact_string) - len( m.string)) == mn]\n",
    "candidate = max([m for m in candidates if score_match(m) == mx], key=lambda x: score_match(x))\n",
    "candidate"
   ]
  },
  {
   "cell_type": "code",
   "execution_count": 14,
   "metadata": {},
   "outputs": [
    {
     "name": "stdout",
     "output_type": "stream",
     "text": [
      "5. verifying matches\n",
      "verifying spans\n",
      "updating merged delegates database\n",
      "6. finished to attendance lists and found database\n"
     ]
    }
   ],
   "source": [
    "runner.verify_matches()"
   ]
  },
  {
   "cell_type": "code",
   "execution_count": 15,
   "metadata": {},
   "outputs": [
    {
     "data": {
      "text/plain": [
       "{12332: {'id': 12332,\n",
       "  'm_kw': '',\n",
       "  'score': 1.0,\n",
       "  'name': 'Vegelin van Claerbergen',\n",
       "  'variants': [('vander Steen', '', 0), ('vier', '', 0), ('wier', '', 0)]}}"
      ]
     },
     "execution_count": 15,
     "metadata": {},
     "output_type": "execute_result"
    }
   ],
   "source": [
    "runner.all_matched"
   ]
  },
  {
   "cell_type": "code",
   "execution_count": null,
   "metadata": {},
   "outputs": [],
   "source": [
    "def besall_matchedatch(matches=[]):\n",
    "    \"\"\"\n",
    "    calculates best match from fuzzysearch matches based on scorematch. Returns single match\n",
    "    TODO: this does not account for best length if match scores are equal\"\"\"\n",
    "    if matches:\n",
    "        mx = max([score_match(m) for m in matches])\n",
    "        candidates = [m for m in matches if score_match(m) == mx]\n",
    "        candidate = max(candidates, key=lambda x: len(x.string))\n",
    "        return candidate"
   ]
  },
  {
   "cell_type": "code",
   "execution_count": null,
   "metadata": {},
   "outputs": [],
   "source": [
    "from republic.analyser.attendance"
   ]
  },
  {
   "cell_type": "code",
   "execution_count": null,
   "metadata": {},
   "outputs": [],
   "source": [
    "from fuzzy_search.fuzzy_context_searcher import FuzzyContextSearcher\n",
    "from fuzzy_search.fuzzy_phrase_searcher import FuzzyPhraseSearcher\n",
    "from fuzzy_search.fuzzy_searcher import FuzzySearcher\n",
    "from fuzzy_search.fuzzy_phrase_model import PhraseModel"
   ]
  },
  {
   "cell_type": "code",
   "execution_count": null,
   "metadata": {},
   "outputs": [],
   "source": [
    "config = {\n",
    "    \"char_match_threshold\": 0.8,\n",
    "    \"ngram_threshold\": 0.6,\n",
    "    \"levenshtein_threshold\": 0.8,\n",
    "    \"ignorecase\": False,\n",
    "    \"ngram_size\": 2,\n",
    "    \"skip_size\": 2,\n",
    "}\n",
    "fcs = FuzzyContextSearcher(config=config)\n",
    "fps = FuzzyPhraseSearcher(config=config)\n",
    "\n",
    "phrase = PhraseModel()"
   ]
  },
  {
   "cell_type": "code",
   "execution_count": null,
   "metadata": {},
   "outputs": [],
   "source": [
    "from republic.data.delegate_database import ekwz\n",
    "# create a list of domain keywords and phrases\n",
    "# variants = [{'phrase': k, 'variants': v} for k, v in ekwz.items()]\n",
    "# # create a PhraseModel object from the domain phrases\n",
    "# phrase_model = PhraseModel(model=variants,)\n",
    "#phrase_model.add_phrases(ekwz.keys())\n",
    "# phrase_model.add_variants(variants)\n",
    "fps.index_phrase_model(phrase_model=phrase_model)\n",
    "fcs.index_phrase_model(phrase_model=phrase_model)"
   ]
  },
  {
   "cell_type": "code",
   "execution_count": null,
   "metadata": {},
   "outputs": [],
   "source": [
    "vs = ['PRASIDE Den Heere',\n",
    "          'PRESIDE Den Heere',\n",
    "          'P R A E S I D E Den Heere',\n",
    "          'PRAESIDE Den Heere',\n",
    "          'P R A S I D E Den Heere',\n",
    "          'P R E S I D E Den Heere',\n",
    "          'P R AE S I D E Den Heere',\n",
    "          'DR AS 1D E Den Heere',\n",
    "          'PR ASL DE Den Heere',\n",
    "          'PR A31 DE; Den Heere',\n",
    "          'BR JE 3.1. DE, Den Heere']\n",
    "vs = vs + ekwz['PRAS']\n",
    "pvs = ['PRASENTIBUS',\n",
    "                'PRESENTIBUS',\n",
    "                'P R A E S E N T I B U S',\n",
    "                'P RAE SE N TI B U S',\n",
    "                'PRA&SENTIBUS']\n",
    "variants = [{'phrase': 'PRAESIDE Den Heere', 'label':\"president\", 'variants': vs},\n",
    "            {'phrase':'PRAESENTIBUS',  \"variants\":ekwz['PRASENTIBUS']}]\n",
    "phrase_model = PhraseModel(model=variants)\n",
    "phrase_model.json()"
   ]
  },
  {
   "cell_type": "code",
   "execution_count": null,
   "metadata": {},
   "outputs": [],
   "source": [
    "p = run_attendancelist.ekwz['PRASENTIBUS']\n",
    "pvs = ['PRASENTIBUS',\n",
    "                'PRESENTIBUS',\n",
    "                'P R A E S E N T I B U S',\n",
    "                'P RAE SE N TI B U S',\n",
    "                'PRA&SENTIBUS']\n",
    "p+pvs"
   ]
  },
  {
   "cell_type": "code",
   "execution_count": null,
   "metadata": {},
   "outputs": [],
   "source": [
    "from fuzzy_search.fuzzy_string import score_levenshtein_similarity_ratio"
   ]
  },
  {
   "cell_type": "code",
   "execution_count": null,
   "metadata": {},
   "outputs": [],
   "source": [
    "res = fps.find_matches(text=\"PRAESIDE Den Heere, PRAESENTIBUS, PRESN\", include_variants=True, use_word_boundaries=False, allow_overlapping_matches=True)\n",
    "# for item in res:\n",
    "#     print(item.score_levenshtein_similarity())\n",
    "from scipy.special import softmax\n",
    "from numpy import argmax\n",
    "def score_match(match):\n",
    "    result = sum([match.levenshtein_similarity, match.character_overlap, match.ngram_overlap, score_levenshtein_similarity_ratio(str(match.variant.exact_string),str(match.phrase.exact_string))])\n",
    "    return result\n",
    "\n",
    "b = argmax(softmax([score_match(i) for i in res]))\n",
    "res[b]"
   ]
  },
  {
   "cell_type": "code",
   "execution_count": null,
   "metadata": {},
   "outputs": [],
   "source": [
    "score_levenshtein_similarity_ratio(str(i.variant.exact_string),str(i.phrase.exact_string))"
   ]
  },
  {
   "cell_type": "code",
   "execution_count": null,
   "metadata": {},
   "outputs": [],
   "source": [
    "res = fps.find_matches(text=\"PRAESIDE Den Heere, PRAESENTIBUS, PRESN\", include_variants=True, use_word_boundaries=False, allow_overlapping_matches=True)\n",
    "mx = max([score_match(m) for m in res])\n",
    "[m for m in res if score_match(m)==mx]\n",
    "r = res[0]\n",
    "r.end - r.offset\n",
    "ranges = [set(range(r.offset, r.end)) for r in res]\n",
    "p = run_attendancelist.pairwise\n",
    "setpair = []\n",
    "for pair in p(ranges):\n",
    "    pair = list(pair)\n",
    "    pair.sort()\n",
    "    if pair[0].intersection(y):\n",
    "        if pair[0].issubset(pair[1]):\n",
    "            setpair.append(pair[1])\n",
    "    "
   ]
  },
  {
   "cell_type": "code",
   "execution_count": null,
   "metadata": {},
   "outputs": [],
   "source": [
    "matches=res\n",
    "mx = max([score_match(m) for m in matches])\n",
    "candidates = [m for m in matches if score_match(m)==mx]\n",
    "candidate = max(candidates, key=lambda x: len(x.string))\n",
    "candidate"
   ]
  },
  {
   "cell_type": "code",
   "execution_count": null,
   "metadata": {},
   "outputs": [],
   "source": [
    "from itertools import combinations\n",
    "set([x for x in combinations(ranges, 2) if set(x[0]) & set(x[1]) ])\n"
   ]
  },
  {
   "cell_type": "code",
   "execution_count": null,
   "metadata": {},
   "outputs": [],
   "source": [
    "ranges\n",
    "x = [{12, 13, 14, 15, 16},\n",
    " {12, 13, 14, 15, 16, 17}]\n",
    "x.sort()\n",
    "if x[0].issubset(x[1]):\n",
    "    print(x[1],x)"
   ]
  },
  {
   "cell_type": "code",
   "execution_count": null,
   "metadata": {},
   "outputs": [],
   "source": [
    "print(ranges, max(ranges, key=lambda x: len(x)))"
   ]
  },
  {
   "cell_type": "code",
   "execution_count": null,
   "metadata": {},
   "outputs": [],
   "source": [
    "from heapq import merge\n",
    "\n",
    "\n",
    "def find_overlap_and_non_overlap(ranges):\n",
    "    starts, ends = zip(*ranges)\n",
    "    overlap = range(max(starts), min(ends)+1)\n",
    "    if not overlap:\n",
    "        return ([], range(min(starts), max(ends)+1), [])\n",
    "\n",
    "    less_non_overlap = range(*heapq.nsmallest(2, starts))\n",
    "    end, start = heapq.nlargest(2, ends)\n",
    "    greater_non_overlap = range(start+1, end+1)\n",
    "    return (overlap, less_non_overlap, greater_non_overlap)\n"
   ]
  },
  {
   "cell_type": "code",
   "execution_count": null,
   "metadata": {},
   "outputs": [],
   "source": [
    "ranges = [range(r.offset, r.end) for r in res]\n",
    "find_overlap_and_non_overlap(ranges)"
   ]
  },
  {
   "cell_type": "code",
   "execution_count": null,
   "metadata": {},
   "outputs": [],
   "source": [
    "item.score_levenshtein_similarity()"
   ]
  },
  {
   "cell_type": "code",
   "execution_count": null,
   "metadata": {},
   "outputs": [],
   "source": [
    "# create a list of domain keywords and phrases\n",
    "domain_phrases = [\n",
    "    # terms for the chair and attendants of a meeting\n",
    "    \"PRAESIDE\",\n",
    "    \"PRAESENTIBUS\",\n",
    "    # some weekdays in Latin\n",
    "    \"Veneris\", \n",
    "    \"Mercuri\",\n",
    "    # some date phrase where any date in January 1725 should match\n",
    "    \"den .. Januarii 1725\"\n",
    "]\n",
    "\n",
    "# create a PhraseModel object from the domain phrases\n",
    "phrase_model = PhraseModel(phrases=domain_phrases)\n",
    "\n",
    "# register the phrase model with the searcher\n",
    "fps.index_phrase_model(phrase_model)\n",
    "\n",
    "# take some example texts: meetings of the Dutch States General in January 1725\n",
    "text1 = \"ie Veucris den 5. Januaris 1725. PR&ASIDE, Den Heere Bentinck. PRASENTIEBUS, De Heeren Jan Welderen , van Dam, Torck , met een extraordinaris Gedeputeerde uyt de Provincie van Gelderlandt. Van Maasdam , vanden Boeizelaar , Raadtpenfionaris van Hoornbeeck , met een extraordinaris Gedeputeerde uyt de Provincie van Hollandt ende Welt-Vrieslandt. Velters, Ockere , Noey; van Hoorn , met een extraordinaris Gedeputeerde uyt de Provincie van Zeelandt. Van Renswoude , van Voor{t. Van Schwartzenbergh, vander Waayen, Vegilin Van I{elmuden. Van Iddekinge ‚ van Tamminga.\"\n",
    "\n",
    "text2 = \"Mercuri: den 10. Jangarii , | 1725. ia PRESIDE, Den Heere an Iddekinge. PRA&SENTIBUS, De Heeren /an Welderen , van Dam, van Wynbergen, Torck, met een extraordinaris Gedeputeerde uyt de Provincie van Gelderland. Van Maasdam , Raadtpenfionaris van Hoorn=beeck. Velters, Ockerfe, Noey. Taats van Amerongen, van Renswoude. Vander Waasen , Vegilin, ’ Bentinck, van I(elmaden. Van Tamminga.\""
   ]
  },
  {
   "cell_type": "code",
   "execution_count": null,
   "metadata": {},
   "outputs": [],
   "source": [
    "t1 = runner.searchobs[T].matched_text.item\n",
    "fps.find_matches(text=t1, include_variants=True, use_word_boundaries=False, allow_overlapping_matches=False)"
   ]
  },
  {
   "cell_type": "code",
   "execution_count": null,
   "metadata": {},
   "outputs": [],
   "source": [
    "runner.junksweeper"
   ]
  },
  {
   "cell_type": "code",
   "execution_count": null,
   "metadata": {},
   "outputs": [],
   "source": [
    "umt\n"
   ]
  },
  {
   "cell_type": "code",
   "execution_count": null,
   "metadata": {},
   "outputs": [],
   "source": [
    "t1 = runner.searchobs[T].matched_text.item\n",
    "fcs.find_matches(text=t1,include_variants=True, use_word_boundaries=False, allow_overlapping_matches=False)"
   ]
  },
  {
   "cell_type": "raw",
   "metadata": {},
   "source": [
    "from fuzzy_search.fuzzy_phrase_model import as_phrase_object\n",
    "mp = as_phrase_object(variants[0])\n",
    "'variants' in mp.metadata\n",
    "for vps in mp.metadata[\"variants\"]:\n",
    "    vp = as_phrase_object(vps)\n",
    "    print(vp)"
   ]
  },
  {
   "cell_type": "code",
   "execution_count": null,
   "metadata": {},
   "outputs": [],
   "source": [
    "for phrase_dict in variants:\n",
    "            main_phrase = as_phrase_object(phrase_dict, ngram_size=self.ngram_size, skip_size=self.skip_size)\n",
    "            if main_phrase.phrase_string not in self.phrase_index:\n",
    "                if add_new_phrases:\n",
    "                    self.add_phrase(main_phrase)\n",
    "                else:\n",
    "                    continue\n",
    "            if \"variants\" not in main_phrase.metadata:\n",
    "                continue\n",
    "            for variant_phrase_string in main_phrase.metadata[\"variants\"]:\n",
    "                variant_phrase = as_phrase_object(variant_phrase_string, ngram_size=self.ngram_size,\n",
    "                                                  skip_size=self.skip_size)\n",
    "                self.add_variant(variant_phrase, main_phrase)"
   ]
  },
  {
   "cell_type": "code",
   "execution_count": null,
   "metadata": {},
   "outputs": [],
   "source": [
    "umt = runner.find_unmarked_text()\n",
    "out = []\n",
    "for s in umt:\n",
    "    out.append(' '.join(s))\n",
    "allout = ' '.join(out)\n",
    "type(allout)"
   ]
  },
  {
   "cell_type": "code",
   "execution_count": null,
   "metadata": {},
   "outputs": [],
   "source": [
    "\n",
    "\n",
    "# unmarked_text = ''.join(umt)\n",
    "# splittekst = re.split(pattern=\"\\s\", string=unmarked_text)\n",
    "# for s in splitteks\n",
    "res = fuzzy_searcher.find_matches(text=\"we are all PRAESENTIBUS\", include_variants=False, use_word_boundaries=False)\n",
    "r = max(res, key=lambda x: x.score_levenshtein_similarity())\n",
    "#fks.find_candidates(s, include_variants=True)"
   ]
  },
  {
   "cell_type": "code",
   "execution_count": null,
   "metadata": {},
   "outputs": [],
   "source": [
    "res"
   ]
  },
  {
   "cell_type": "code",
   "execution_count": null,
   "metadata": {},
   "outputs": [],
   "source": [
    "searchob = runner.searchobs['session-1730-02-14-num-1']\n",
    "unmarked_text = ''.join(searchob.matched_text.get_unmatched_text())\n",
    "print(unmarked_text)\n",
    "splittekst = re.split(pattern=\"\\s\", string=unmarked_text)\n",
    "for s in splittekst:\n",
    "    if len(s) > 2 and len(fuzzy_searcher.find_matches(text=s, include_variants=False, use_word_boundaries=False)) == 0:\n",
    "        print('ok')"
   ]
  },
  {
   "cell_type": "code",
   "execution_count": null,
   "metadata": {},
   "outputs": [],
   "source": []
  },
  {
   "cell_type": "code",
   "execution_count": null,
   "metadata": {},
   "outputs": [],
   "source": [
    "runner.junksweeper"
   ]
  },
  {
   "cell_type": "code",
   "execution_count": null,
   "metadata": {},
   "outputs": [],
   "source": [
    "matchsearch = runner.identify_delegates()\n",
    "for T in runner.searchobs:\n",
    "    searchob = runner.searchobs[T]\n",
    "    mo = run_attendancelist.MatchAndSpan(searchob.matched_text, junksweeper=runner.junksweeper, \n",
    "                                         previously_matched=runner.found_delegates, \n",
    "                                         match_search=matchsearch)"
   ]
  },
  {
   "cell_type": "code",
   "execution_count": null,
   "metadata": {},
   "outputs": [],
   "source": []
  },
  {
   "cell_type": "code",
   "execution_count": null,
   "metadata": {
    "scrolled": true
   },
   "outputs": [],
   "source": [
    "from IPython.display import HTML\n",
    "htmlout=[]\n",
    "for T in searchobs:\n",
    "    ob = searchobs[T].matched_text\n",
    "    url = searchobs[T].make_url()\n",
    "    ob.mapcolors()\n",
    "    rest = ob.serialize()\n",
    "    rest = f\"\\n<h4>{T}</h4>\\n\" + rest\n",
    "    if url:\n",
    "        rest += f\"\"\"<br/><br/><a href='{url}'>link naar {T}-image</a><br/>\"\"\"\n",
    "    htmlout.append(rest)\n",
    "#out.reverse()\n",
    "HTML(\"<br><hr><br>\".join(htmlout))\n"
   ]
  },
  {
   "cell_type": "raw",
   "metadata": {},
   "source": [
    "def overl(x, y):\n",
    "    try:\n",
    "        x.overlaps(y)\n",
    "    except:\n",
    "        print(x, type(x))\n",
    "runner.abbreviated_delegates.p_interval.apply(lambda x: overl(x, 1623))"
   ]
  },
  {
   "cell_type": "code",
   "execution_count": null,
   "metadata": {},
   "outputs": [],
   "source": [
    "import statistics\n",
    "from collections import Counter\n",
    "txtlens = [len(runner.searchobs[T].text) for T in runner.searchobs]\n",
    "print(min(txtlens), max(txtlens))\n",
    "print(statistics.mean(txtlens))\n",
    "print(statistics.stdev(txtlens))\n",
    "print(Counter(txtlens).most_common())"
   ]
  },
  {
   "cell_type": "code",
   "execution_count": null,
   "metadata": {},
   "outputs": [],
   "source": [
    "fuzzysearch_config = {\n",
    "    \"char_match_threshold\": 0.7,\n",
    "    \"ngram_threshold\": 0.5,\n",
    "    \"levenshtein_threshold\": 0.5,\n",
    "    \"ignorecase\": False,\n",
    "    \"ngram_size\": 2,\n",
    "    \"skip_size\": 2,\n",
    "}\n",
    "from republic.analyser.attendance_lists.parse_delegates import make_junksweeper\n",
    "from republic.data.delegate_database import ekwz\n",
    "from republic.model.republic_phrase_model import month_names_early, month_names_late\n",
    "from republic.fuzzy.fuzzy_keyword_searcher import FuzzyKeywordSearcher\n",
    "provincies = ['Holland', 'Zeeland', 'West-Vriesland', 'Gelderland', 'Overijssel', 'Utrecht', 'Friesland']\n",
    "months = month_names_early + month_names_late\n",
    "junksweeper = FuzzyKeywordSearcher(config=fuzzysearch_config)\n",
    "indexkeywords = list(ekwz.keys()) + months + provincies\n",
    "junksweeper.index_keywords(indexkeywords)\n",
    "#ekwz = indexkeywords\n",
    "fks = make_junksweeper(ekwz)\n"
   ]
  },
  {
   "cell_type": "code",
   "execution_count": null,
   "metadata": {},
   "outputs": [],
   "source": [
    "from fuzzy_search.fuzzy_phrase_searcher import FuzzyPhraseSearcher\n",
    "from fuzzy_search.fuzzy_phrase_model import PhraseModel\n",
    "\n",
    "# highger matching thresholds for higher quality OCR/HTR (higher precision, recall should be good anyway)\n",
    "# lower matching thresholds for lower quality OCR/HTR (higher recall, as that's the main problem)\n",
    "config = {\n",
    "    \"char_match_threshold\": 0.8,\n",
    "    \"ngram_threshold\": 0.6,\n",
    "    \"levenshtein_threshold\": 0.8,\n",
    "    \"ignorecase\": False,\n",
    "    \"ngram_size\": 2,\n",
    "    \"skip_size\": 2,\n",
    "}\n",
    "\n",
    "# initialize a new searcher instance with the config\n",
    "fuzzy_searcher = FuzzyPhraseSearcher(config)\n",
    "\n",
    "# create a list of domain keywords and phrases\n",
    "variants = [{'phrase': k, 'variants': v} for k, v in ekwz.items()]\n",
    "# create a PhraseModel object from the domain phrases\n",
    "phrase_model = PhraseModel(model=variants,)\n",
    "#phrase_model.add_phrases(ekwz.keys())\n",
    "# phrase_model.add_variants(variants)\n",
    "fuzzy_searcher.index_phrase_model(phrase_model=phrase_model)"
   ]
  },
  {
   "cell_type": "code",
   "execution_count": null,
   "metadata": {},
   "outputs": [],
   "source": [
    "res = fuzzy_searcher.find_matches(text=\"Heer. dikke Heeren\", include_variants=True, use_word_boundaries=False, allow_overlapping_matches=True)\n",
    "for item in res:\n",
    "    print(item.score_levenshtein_similarity())"
   ]
  },
  {
   "cell_type": "code",
   "execution_count": null,
   "metadata": {},
   "outputs": [],
   "source": [
    "item.score_levenshtein_similarity()"
   ]
  },
  {
   "cell_type": "code",
   "execution_count": null,
   "metadata": {},
   "outputs": [],
   "source": [
    "# create a list of domain keywords and phrases\n",
    "domain_phrases = [\n",
    "    # terms for the chair and attendants of a meeting\n",
    "    \"PRAESIDE\",\n",
    "    \"PRAESENTIBUS\",\n",
    "    # some weekdays in Latin\n",
    "    \"Veneris\", \n",
    "    \"Mercuri\",\n",
    "    # some date phrase where any date in January 1725 should match\n",
    "    \"den .. Januarii 1725\"\n",
    "]\n",
    "\n",
    "# create a PhraseModel object from the domain phrases\n",
    "phrase_model = PhraseModel(phrases=domain_phrases)\n",
    "\n",
    "# register the phrase model with the searcher\n",
    "fuzzy_searcher.index_phrase_model(phrase_model)\n",
    "\n",
    "# take some example texts: meetings of the Dutch States General in January 1725\n",
    "text1 = \"ie Veucris den 5. Januaris 1725. PR&ASIDE, Den Heere Bentinck. PRASENTIEBUS, De Heeren Jan Welderen , van Dam, Torck , met een extraordinaris Gedeputeerde uyt de Provincie van Gelderlandt. Van Maasdam , vanden Boeizelaar , Raadtpenfionaris van Hoornbeeck , met een extraordinaris Gedeputeerde uyt de Provincie van Hollandt ende Welt-Vrieslandt. Velters, Ockere , Noey; van Hoorn , met een extraordinaris Gedeputeerde uyt de Provincie van Zeelandt. Van Renswoude , van Voor{t. Van Schwartzenbergh, vander Waayen, Vegilin Van I{elmuden. Van Iddekinge ‚ van Tamminga.\"\n",
    "\n",
    "text2 = \"Mercuri: den 10. Jangarii , | 1725. ia PRESIDE, Den Heere an Iddekinge. PRA&SENTIBUS, De Heeren /an Welderen , van Dam, van Wynbergen, Torck, met een extraordinaris Gedeputeerde uyt de Provincie van Gelderland. Van Maasdam , Raadtpenfionaris van Hoorn=beeck. Velters, Ockerfe, Noey. Taats van Amerongen, van Renswoude. Vander Waasen , Vegilin, ’ Bentinck, van I(elmaden. Van Tamminga.\""
   ]
  },
  {
   "cell_type": "raw",
   "metadata": {},
   "source": [
    "from fuzzy_search.fuzzy_phrase_model import as_phrase_object\n",
    "mp = as_phrase_object(variants[0])\n",
    "'variants' in mp.metadata\n",
    "for vps in mp.metadata[\"variants\"]:\n",
    "    vp = as_phrase_object(vps)\n",
    "    print(vp)"
   ]
  },
  {
   "cell_type": "code",
   "execution_count": null,
   "metadata": {},
   "outputs": [],
   "source": [
    "for phrase_dict in variants:\n",
    "            main_phrase = as_phrase_object(phrase_dict, ngram_size=self.ngram_size, skip_size=self.skip_size)\n",
    "            if main_phrase.phrase_string not in self.phrase_index:\n",
    "                if add_new_phrases:\n",
    "                    self.add_phrase(main_phrase)\n",
    "                else:\n",
    "                    continue\n",
    "            if \"variants\" not in main_phrase.metadata:\n",
    "                continue\n",
    "            for variant_phrase_string in main_phrase.metadata[\"variants\"]:\n",
    "                variant_phrase = as_phrase_object(variant_phrase_string, ngram_size=self.ngram_size,\n",
    "                                                  skip_size=self.skip_size)\n",
    "                self.add_variant(variant_phrase, main_phrase)"
   ]
  },
  {
   "cell_type": "code",
   "execution_count": null,
   "metadata": {},
   "outputs": [],
   "source": [
    "umt = runner.find_unmarked_text()\n",
    "out = []\n",
    "for s in umt:\n",
    "    out.append(' '.join(s))\n",
    "allout = ' '.join(out)\n",
    "type(allout)"
   ]
  },
  {
   "cell_type": "code",
   "execution_count": null,
   "metadata": {},
   "outputs": [],
   "source": [
    "\n",
    "\n",
    "# unmarked_text = ''.join(umt)\n",
    "# splittekst = re.split(pattern=\"\\s\", string=unmarked_text)\n",
    "# for s in splitteks\n",
    "res = fuzzy_searcher.find_matches(text=\"we are all PRAESENTIBUS\", include_variants=False, use_word_boundaries=False)\n",
    "r = max(res, key=lambda x: x.score_levenshtein_similarity())\n",
    "#fks.find_candidates(s, include_variants=True)"
   ]
  },
  {
   "cell_type": "code",
   "execution_count": null,
   "metadata": {},
   "outputs": [],
   "source": [
    "res"
   ]
  },
  {
   "cell_type": "code",
   "execution_count": null,
   "metadata": {},
   "outputs": [],
   "source": [
    "searchob = runner.searchobs['session-1730-02-14-num-1']\n",
    "unmarked_text = ''.join(searchob.matched_text.get_unmatched_text())\n",
    "print(unmarked_text)\n",
    "splittekst = re.split(pattern=\"\\s\", string=unmarked_text)\n",
    "for s in splittekst:\n",
    "    if len(s) > 2 and len(fuzzy_searcher.find_matches(text=s, include_variants=False, use_word_boundaries=False)) == 0:\n",
    "        print('ok')"
   ]
  },
  {
   "cell_type": "code",
   "execution_count": null,
   "metadata": {},
   "outputs": [],
   "source": [
    "h = junksweeper.keyword_index['Holland']\n",
    "h."
   ]
  },
  {
   "cell_type": "code",
   "execution_count": null,
   "metadata": {},
   "outputs": [],
   "source": [
    "splittekst = re.split(pattern=\"\\s\", string=unmarked_text)"
   ]
  },
  {
   "cell_type": "code",
   "execution_count": null,
   "metadata": {},
   "outputs": [],
   "source": [
    "outdir = '/Users/rikhoekstra/republic_out'"
   ]
  },
  {
   "cell_type": "code",
   "execution_count": null,
   "metadata": {
    "scrolled": true
   },
   "outputs": [],
   "source": [
    "for yr in range(1729,1730):\n",
    "    %time run_attendancelist.run(year=yr, outdir=outdir, verbose=False)"
   ]
  },
  {
   "cell_type": "code",
   "execution_count": null,
   "metadata": {},
   "outputs": [],
   "source": [
    "import os\n",
    "os.path.join('a', 'b')"
   ]
  },
  {
   "cell_type": "raw",
   "metadata": {},
   "source": [
    "import json\n",
    "with open('/Users/rikhoekstra/republic_out/1705_out.json', 'w') as fout:\n",
    "    json.dump(fp=fout, obj=out1705)"
   ]
  },
  {
   "cell_type": "raw",
   "metadata": {},
   "source": [
    "def year_output(year):\n",
    "    out = []\n",
    "    for T in ra.searchobs:\n",
    "        ob = ra.searchobs[T]\n",
    "        out.append(ob.to_dict())\n",
    "    return out\n",
    "out1705 = year_output(1705)"
   ]
  },
  {
   "cell_type": "code",
   "execution_count": null,
   "metadata": {},
   "outputs": [],
   "source": []
  },
  {
   "cell_type": "code",
   "execution_count": null,
   "metadata": {},
   "outputs": [],
   "source": [
    "runner.moregentlemen"
   ]
  },
  {
   "cell_type": "code",
   "execution_count": null,
   "metadata": {},
   "outputs": [],
   "source": [
    "score_levenshtein_distance_ratio('Amerongen','Borre van Amerongen')"
   ]
  },
  {
   "cell_type": "code",
   "execution_count": null,
   "metadata": {},
   "outputs": [],
   "source": [
    "twijfelresults = []\n",
    "for im in runner.all_matched:\n",
    "    item = runner.all_matched[im]\n",
    "    if score_levenshtein_distance_ratio(item['m_kw'], item['name'])<0.6:\n",
    "        twijfelresults.append(im)\n",
    "        "
   ]
  },
  {
   "cell_type": "code",
   "execution_count": null,
   "metadata": {},
   "outputs": [],
   "source": [
    "len(runner.all_matched) - len(twijfelresults)"
   ]
  },
  {
   "cell_type": "code",
   "execution_count": null,
   "metadata": {},
   "outputs": [],
   "source": [
    "runner.all_matched[17821]"
   ]
  },
  {
   "cell_type": "code",
   "execution_count": null,
   "metadata": {},
   "outputs": [],
   "source": [
    "def match2pattern(match:dict, bestpattern='', year=0):\n",
    "    goodresults = []\n",
    "    quarantine = []\n",
    "    variants = match['variants']\n",
    "    if bestpattern == '':\n",
    "            try:\n",
    "                bestpattern = max(variants, key=lambda x: x[2])[0]\n",
    "            except TypeError:\n",
    "                print (variant)\n",
    "                raise\n",
    "    if match['score']>0.8:\n",
    "        results = goodresults\n",
    "    else:\n",
    "        results = quarantine\n",
    "    for variant in variants:\n",
    "        if variant[2]>0.8:\n",
    "            result = {}\n",
    "            result['variant_pattern'] = variant[0]\n",
    "            result['variant_score'] = variant[2]\n",
    "            result['variant_keyword'] = bestpattern\n",
    "            result['match_keyword']=match['m_kw']\n",
    "            result['match_name'] = match['name']\n",
    "            result['match_score'] = match['score']\n",
    "            result['match_id'] = match['id']\n",
    "            results.append(result)\n",
    "    return goodresults, quarantine\n"
   ]
  },
  {
   "cell_type": "code",
   "execution_count": null,
   "metadata": {},
   "outputs": [],
   "source": [
    "year = 1728\n",
    "indexkws = []\n",
    "qindexkws = []\n",
    "for item in runner.all_matched:\n",
    "    matches = runner.all_matched[item]\n",
    "    i_kws, q_kws = match2pattern(matches, year=year)\n",
    "    indexkws.extend(i_kws)\n",
    "    qindexkws.extend(q_kws)"
   ]
  },
  {
   "cell_type": "code",
   "execution_count": null,
   "metadata": {},
   "outputs": [],
   "source": [
    "from collections import defaultdict\n",
    "goodvariants = {}\n",
    "joined_good_variants = defaultdict(list)\n",
    "unique_ids = list(set([i.get('match_id') for i in indexkws]))\n",
    "\n",
    "for k in unique_ids:\n",
    "    dd = defaultdict(list)\n",
    "    ikws = [d for d in indexkws if d.get('match_id') == k]\n",
    "    for d in ikws: # you can list as many input dicts as you want here\n",
    "        for key, value in d.items():\n",
    "            if key != 'match_id':\n",
    "                dd[key].append(value)\n",
    "    for kie, v in dd.items():\n",
    "        v = list(set(v))\n",
    "        if len(v) == 1:\n",
    "            v = v[0]\n",
    "        dd[kie] = v\n",
    "    goodvariants[k] = dd"
   ]
  },
  {
   "cell_type": "code",
   "execution_count": null,
   "metadata": {
    "scrolled": true
   },
   "outputs": [],
   "source": [
    "goodvariants"
   ]
  },
  {
   "cell_type": "code",
   "execution_count": null,
   "metadata": {
    "scrolled": true
   },
   "outputs": [],
   "source": [
    "proposed_good_matches = []\n",
    "for item in qindexkws:\n",
    "    if item['variant_score'] > item['match_score']:\n",
    "        item['match_keyword'] = item['variant_pattern']\n",
    "        item['match_score'] = item['variant_score']\n",
    "        proposed_good_matches.append(item)\n",
    "        qindexkws.pop(qindexkws.index(item)) \n",
    "        "
   ]
  },
  {
   "cell_type": "code",
   "execution_count": null,
   "metadata": {},
   "outputs": [],
   "source": [
    "vrs = [i['variant_pattern'] for i in indexkws]\n",
    "vids = [i['match_id'] for i in indexkws]\n",
    "prids = [i['match_id'] for i in proposed_good_matches]\n",
    "vids.extend(prids)"
   ]
  },
  {
   "cell_type": "code",
   "execution_count": null,
   "metadata": {},
   "outputs": [],
   "source": [
    "for item in qindexkws:\n",
    "    if item['match_id'] in vids:\n",
    "        print(item)"
   ]
  },
  {
   "cell_type": "code",
   "execution_count": null,
   "metadata": {},
   "outputs": [],
   "source": [
    "len(qindexkws)"
   ]
  },
  {
   "cell_type": "code",
   "execution_count": null,
   "metadata": {},
   "outputs": [],
   "source": [
    "len(proposed_good_matches)"
   ]
  },
  {
   "cell_type": "code",
   "execution_count": null,
   "metadata": {},
   "outputs": [],
   "source": [
    "from statistics import mean\n",
    "mean([i.get('match_score') for i in indexkws])"
   ]
  },
  {
   "cell_type": "code",
   "execution_count": null,
   "metadata": {},
   "outputs": [],
   "source": [
    "min([i['match_score'] for i in indexkws])"
   ]
  },
  {
   "cell_type": "code",
   "execution_count": null,
   "metadata": {},
   "outputs": [],
   "source": [
    "from republic.republic_keyword_matcher.finders.identify import iterative_search\n",
    "reslt = {}\n",
    "for i in twijfelresults:\n",
    "    item = runner.all_matched[i]\n",
    "    l = 0\n",
    "    v = ''\n",
    "    v = max(item['variants'], key=lambda z: len(z[0]))[0]\n",
    "    reslt[v] = iterative_search(name=v, year=1728, debug=False, df=runner.abbreviated_delegates)"
   ]
  },
  {
   "cell_type": "code",
   "execution_count": null,
   "metadata": {},
   "outputs": [],
   "source": [
    "from republic.republic_keyword_matcher.finders.identify import identify"
   ]
  },
  {
   "cell_type": "code",
   "execution_count": null,
   "metadata": {},
   "outputs": [],
   "source": [
    "iterative_search(name='Taats', year=1728, df=runner.abbreviated_delegates)"
   ]
  },
  {
   "cell_type": "code",
   "execution_count": null,
   "metadata": {},
   "outputs": [],
   "source": [
    "from IPython.core.display import display, HTML\n",
    "for i in reslt:\n",
    "    display(i, reslt[i])"
   ]
  },
  {
   "cell_type": "markdown",
   "metadata": {},
   "source": [
    "G_heren = nx.Graph()\n",
    "d_nodes = sorted(cl_heren)\n",
    "for node in d_nodes:\n",
    "    attached_nodes = cl_heren[node]\n",
    "    G_heren.add_node(node)\n",
    "    for nod in attached_nodes:\n",
    "        G_heren.add_edge(node, nod)\n",
    "pm_heren = list(nx.connected_components(G_heren))\n",
    "pm_heren"
   ]
  },
  {
   "cell_type": "raw",
   "metadata": {},
   "source": [
    "out = []\n",
    "for T in ra.searchobs:\n",
    "    ob = ra.searchobs[T]\n",
    "    out.append(ob.to_dict())"
   ]
  },
  {
   "cell_type": "code",
   "execution_count": null,
   "metadata": {},
   "outputs": [],
   "source": [
    "item"
   ]
  },
  {
   "cell_type": "code",
   "execution_count": null,
   "metadata": {},
   "outputs": [],
   "source": [
    "from collections import Counter\n",
    "lastfragments = []\n",
    "lastpatterns = []\n",
    "for ob in runner.searchobs:\n",
    "    lastknownfragment = ''\n",
    "    lastpattern = ''\n",
    "    fragments = runner.searchobs[ob].get_fragments()\n",
    "    fragments.reverse()\n",
    "    for item in fragments:\n",
    "        f = item.get('delegate_name') or ''\n",
    "        p = item.get('pattern') or ''\n",
    "        if  f != '':\n",
    "            lastknownfragment = item['delegate_name']\n",
    "            lastfragments.append(lastknownfragment)\n",
    "            lastpattern = p\n",
    "            lastpatterns.append(lastpattern)\n",
    "            break\n",
    "Counter(lastfragments).most_common(10)"
   ]
  },
  {
   "cell_type": "code",
   "execution_count": null,
   "metadata": {},
   "outputs": [],
   "source": [
    "for pers in Counter(lastfragments).most_common(10):\n",
    "    print(pers, [goodvariants[d] for d in goodvariants if goodvariants[d]['match_name'].lower() == pers[0].lower()])\n",
    "    #print(pers, [runner.all_matched[d] for d in runner.all_matched if runner.all_matched[d]['name'].lower() == pers[0].lower()])"
   ]
  },
  {
   "cell_type": "code",
   "execution_count": null,
   "metadata": {},
   "outputs": [],
   "source": [
    "common_last_delegates = [pers[0] for pers in Counter(lastfragments).most_common(10)]"
   ]
  },
  {
   "cell_type": "code",
   "execution_count": null,
   "metadata": {},
   "outputs": [],
   "source": [
    "from republic.fuzzy.fuzzy_keyword_searcher import FuzzyKeywordSearcher\n",
    "fuzzysearch_config = {\n",
    "    \"char_match_threshold\": 0.8,\n",
    "    \"ngram_threshold\": 0.6,\n",
    "    \"levenshtein_threshold\": 0.5,\n",
    "    \"ignorecase\": False,\n",
    "    \"ngram_size\": 2,\n",
    "    \"skip_size\": 2,\n",
    "}\n",
    "fks = FuzzyKeywordSearcher(config=fuzzysearch_config)\n",
    "fks.use_word_boundaries = False\n",
    "kws = [goodvariants[p]['match_keyword'] for p in goodvariants]\n",
    "false_kws = ['PRAESIDE','PRAESENTIBUS', 'Nihil Actum']\n",
    "kws.extend(false_kws)\n",
    "fks.index_keywords(kws)\n",
    "for kw in kws:\n",
    "    if kw not in false_kws:\n",
    "        z = [goodvariants[d] for d in goodvariants if goodvariants[d]['match_keyword'] == kw][0]\n",
    "        vrs = z[\"variant_pattern\"]\n",
    "        for v in vrs:\n",
    "            fks.index_spelling_variant(kw, v)"
   ]
  },
  {
   "cell_type": "code",
   "execution_count": null,
   "metadata": {},
   "outputs": [],
   "source": [
    "suspect_obs = defaultdict(list)\n",
    "for ob in runner.searchobs:\n",
    "    fragments = runner.searchobs[ob].get_fragments()\n",
    "    fragments.reverse()\n",
    "    for item in fragments:\n",
    "        lastdelegate = ''\n",
    "        ld = item.get('delegate_name')\n",
    "        if ld in common_last_delegates:\n",
    "            break\n",
    "        elif ld == '': \n",
    "            p = item.get('pattern')\n",
    "            r = fks.find_candidates(text=p)\n",
    "            if len(r)>0:\n",
    "                r = max(r, key=lambda x: x['levenshtein_distance'])\n",
    "                if r[\"match_keyword\"] in false_kws:\n",
    "                    suspect_obs[r[\"match_keyword\"]].append(ob)\n",
    "                elif r[\"match_keyword\"] in commonlastgoodvariantsvs:\n",
    "                    begin = item['begin']\n",
    "                    changeob = runner.searchobs[ob]\n",
    "                    begin = res[-2]\n",
    "                    for span in changeob.matched_text.spans:\n",
    "                        if span.begin>=begin:\n",
    "                            changeob.matched_text.spans.remove(span)"
   ]
  },
  {
   "cell_type": "code",
   "execution_count": null,
   "metadata": {},
   "outputs": [],
   "source": [
    "suspect_obs"
   ]
  },
  {
   "cell_type": "code",
   "execution_count": null,
   "metadata": {},
   "outputs": [],
   "source": [
    "for i in suspect_obs:\n",
    "    print(runner.searchobs[i].get_fragments())"
   ]
  },
  {
   "cell_type": "code",
   "execution_count": null,
   "metadata": {},
   "outputs": [],
   "source": [
    "begin = res[-2]\n",
    "for span in changeob.matched_text.spans:\n",
    "    if span.begin>=begin:\n",
    "        changeob.matched_text.spans.remove(span)\n",
    "changeob.matched_text.spans"
   ]
  },
  {
   "cell_type": "code",
   "execution_count": null,
   "metadata": {},
   "outputs": [],
   "source": [
    "res[2]"
   ]
  },
  {
   "cell_type": "code",
   "execution_count": null,
   "metadata": {},
   "outputs": [],
   "source": [
    "commonlastgoodvariants = {v:goodvariants[v] for v in goodvariants if goodvariants[v]['match_name'] in common_last_delegates}"
   ]
  },
  {
   "cell_type": "code",
   "execution_count": null,
   "metadata": {},
   "outputs": [],
   "source": [
    "commonlastgoodvariantsvs = []\n",
    "for v in goodvariants:\n",
    "    if goodvariants[v]['match_name'] in common_last_delegates:\n",
    "        commonlastgoodvariantsvs.extend(goodvariants[v]['variant_pattern'])\n",
    "commonlastgoodvariantsvs"
   ]
  },
  {
   "cell_type": "code",
   "execution_count": null,
   "metadata": {},
   "outputs": [],
   "source": [
    "lastspans = [f[-1].to_json() for f in out]"
   ]
  },
  {
   "cell_type": "code",
   "execution_count": null,
   "metadata": {},
   "outputs": [],
   "source": [
    "lastfragments[-100]a"
   ]
  },
  {
   "cell_type": "code",
   "execution_count": null,
   "metadata": {},
   "outputs": [],
   "source": [
    "spans = []\n",
    "for T in ra.searchobs:\n",
    "    ob = ra.searchobs[T]\n",
    "    spans.append(ob.get_spans())"
   ]
  },
  {
   "cell_type": "code",
   "execution_count": null,
   "metadata": {},
   "outputs": [],
   "source": [
    "noprez = {}\n",
    "for T in ra.searchobs:\n",
    "    ob = ra.searchobs[T]\n",
    "    p = [s for s in ob.get_spans() if s.type=='president']\n",
    "    if p:\n",
    "        noprez[T] = p\n",
    "    else:\n",
    "        noprez[T] = None\n"
   ]
  },
  {
   "cell_type": "code",
   "execution_count": null,
   "metadata": {},
   "outputs": [],
   "source": [
    "upr = list(set(ra.presidents))"
   ]
  },
  {
   "cell_type": "code",
   "execution_count": null,
   "metadata": {},
   "outputs": [],
   "source": [
    "ks = list(noprez.keys())\n",
    "ks.sort()\n"
   ]
  },
  {
   "cell_type": "code",
   "execution_count": null,
   "metadata": {},
   "outputs": [],
   "source": [
    "noprez[t][0]"
   ]
  },
  {
   "cell_type": "code",
   "execution_count": null,
   "metadata": {},
   "outputs": [],
   "source": [
    "fks.keyword_index.keys()"
   ]
  },
  {
   "cell_type": "code",
   "execution_count": null,
   "metadata": {},
   "outputs": [],
   "source": [
    "# this does not generalize much, but we'll leave that for later\n",
    "from collections import defaultdict\n",
    "from republic.republic_keyword_matcher.finders.pattern_finders import make_herensearcher\n",
    "from republic.fuzzy.fuzzy_keyword_searcher import score_levenshtein_distance_ratio\n",
    "\n",
    "\n",
    "class DelegateChecker(object):\n",
    "    def __init__(self, keywords, searchobs):\n",
    "        self.searcher = make_herensearcher(keywords=keywords)\n",
    "        self.context_searcher = make_herensearcher(keywords={'PRAESENTIBUS':[], 'Den Heere':[]})\n",
    "        self.searchobs = searchobs\n",
    "        self.likely_prez = defaultdict(list)\n",
    "        self.checkdeps = self.make_noprez()\n",
    "        self.ks = self.make_keys()\n",
    "        \n",
    "    def make_keys(self):\n",
    "        ks = list(self.checkdeps.keys())\n",
    "        ks.sort() # we depend on the key order\n",
    "        return ks\n",
    "        \n",
    "    def get_vicinity_presidents(self,t):\n",
    "        mn = max(self.ks.index(t)-7, 0) \n",
    "        mx = min(self.ks.index(t)+7, len(ks)-1)\n",
    "        likely_prez = defaultdict(list)\n",
    "        for pt in ks[mn:mx]:\n",
    "            if self.checkdeps[pt]:\n",
    "                president = self.checkdeps[pt][0]\n",
    "                name = president.delegate_name\n",
    "                pattern = president.pattern\n",
    "                likely_prez[name].append(pattern)\n",
    "        return likely_prez\n",
    "        # for p in likely_prez:\n",
    "        #     ra.all_matched\n",
    "#         xsisting_kws = list(self.searcher.keyword_index.keys())\n",
    "#         kws = [k for k in list(likely_prez.keys()) if k not in xsisting_kws]            \n",
    "#         self.searcher.index_keywords(kws)\n",
    "#         for k in kws:\n",
    "#             for variant in likely_prez[k]:\n",
    "#                 self.searcher.index_spelling_variant(k, variant=variant)\n",
    "    \n",
    "    def check(self):\n",
    "        results = []\n",
    "        for t in self.ks:\n",
    "            if not self.checkdeps[t]:\n",
    "                txt = self.searchobs[t].text\n",
    "                if len(txt) > 10:\n",
    "                    res = s.find_candidates(text=txt)\n",
    "                    if len(res) == 0:\n",
    "                        break\n",
    "                    hres = [r for r in res if r['match_keyword']=='Den Heere']\n",
    "                    sres = min(hres, key=lambda x: x['match_offset'])\n",
    "                    if len(sres) > 0:\n",
    "                        start = sres['match_offset']  + len(sres['match_string'])\n",
    "                    else:\n",
    "                        start = 0\n",
    "                    pres = [r for r in res if r['match_keyword']=='PRAESENTIBUS']\n",
    "                    if len(pres) > 0:\n",
    "                        eres = min(pres, key=lambda x: x['match_offset'])\n",
    "                        end = eres['match_offset']\n",
    "                    else:\n",
    "                        end = start + 20\n",
    "                    stxt = txt[start:end]\n",
    "                    stxt = stxt.strip()\n",
    "                likely_prez = self.get_vicinity_presidents(t)\n",
    "                res = {}\n",
    "                for cand in likely_prez:\n",
    "                    candidate = likely_prez[cand]\n",
    "                    for i in candidate:\n",
    "                        res[i] = score_levenshtein_distance_ratio(i, stxt)\n",
    "                chosen = max(res, key=lambda x: res[x])\n",
    "                score = res[chosen]\n",
    "                if score > 0.6:\n",
    "#                     for cand in likely_prez:\n",
    "#                         candidate = max([(i, score_levenshtein_distance_ratio(stxt, i)) for i in likely_prez[cand]])\n",
    "                    candidate = chosen\n",
    "                else:\n",
    "                    prop = self.searcher.find_candidates(stxt)\n",
    "                    if len(prop)>0:\n",
    "                        candidate = max(prop, key=lambda x: x['levenshtein_distance'])\n",
    "                    else:\n",
    "                        candidate = None\n",
    "                results.append({'txt': stxt,\n",
    "#                                'lp':likely_prez,\n",
    "                                'search result': candidate}) \n",
    "        return results\n",
    "\n",
    "    \n",
    "    def make_noprez(self):\n",
    "        noprez = {}\n",
    "        for T in self.searchobs:\n",
    "            ob = self.searchobs[T]\n",
    "            p = [s for s in ob.get_spans() if s.type=='president']\n",
    "            if p:\n",
    "                noprez[T] = p\n",
    "            else:\n",
    "                noprez[T] = None\n",
    "        return noprez"
   ]
  },
  {
   "cell_type": "code",
   "execution_count": null,
   "metadata": {},
   "outputs": [],
   "source": [
    "s = make_herensearcher(keywords={'PRAESENTIBUS':[], 'Den Heere':[]})\n",
    "res = [r for r in s.find_candidates(keyword=\"Den Heere\", text=\"Den Heere Jan Steenbergen. PRAZSENTIBUS, De Heeren Van Lynden, van Singeudonck, van Heeckeren tot de\") if r['match_keyword']=='Den Heere']\n",
    "sres = min(res, key=lambda x: x['match_offset'])\n",
    "sres['match_offset']  + len(sres['match_string'])"
   ]
  },
  {
   "cell_type": "code",
   "execution_count": null,
   "metadata": {},
   "outputs": [],
   "source": [
    "keywords = {i.name:[v.form for v in i.variants['general']] for i in ra.moregentlemen}\n"
   ]
  },
  {
   "cell_type": "code",
   "execution_count": null,
   "metadata": {},
   "outputs": [],
   "source": [
    "keywrds = {}\n",
    "for e in ra.all_matched:\n",
    "    i = ra.all_matched[e]\n",
    "    nm = i[\"name\"]\n",
    "    f = [i[\"m_kw\"]]\n",
    "    f.extend([v[1] for v in i[\"variants\"]])\n",
    "    keywrds[nm]=list(set(f))\n",
    "    "
   ]
  },
  {
   "cell_type": "code",
   "execution_count": null,
   "metadata": {},
   "outputs": [],
   "source": [
    "keywrds['Tamminga van Alberda']"
   ]
  },
  {
   "cell_type": "code",
   "execution_count": null,
   "metadata": {},
   "outputs": [],
   "source": [
    "dlgchk = DelegateChecker(keywords=keywrds, searchobs=ra.searchobs)"
   ]
  },
  {
   "cell_type": "code",
   "execution_count": null,
   "metadata": {},
   "outputs": [],
   "source": [
    "dlgchk.searcher.find_candidates(\"Van Schwartzenbergh. \")"
   ]
  },
  {
   "cell_type": "code",
   "execution_count": null,
   "metadata": {},
   "outputs": [],
   "source": [
    "d = {'Velters': ['Velters', 'Velters', 'Velters', 'Velters'], 'van Wassenaer van Obdam': ['Van Wassenaer', 'Van Wassenaer'], 'van Reede tot Renswoude': ['Van Renswoude', 'Van Renswoude', 'Van Renswonde']}"
   ]
  },
  {
   "cell_type": "code",
   "execution_count": null,
   "metadata": {},
   "outputs": [],
   "source": [
    "txt = ' Van Renswoude.'\n",
    "res = {}\n",
    "for cand in d:\n",
    "    candidate = d[cand]\n",
    "    for i in candidate:\n",
    "        res[i] = score_levenshtein_distance_ratio(i, txt)"
   ]
  },
  {
   "cell_type": "code",
   "execution_count": null,
   "metadata": {},
   "outputs": [],
   "source": [
    "max(res, key=lambda x: res[x])"
   ]
  },
  {
   "cell_type": "code",
   "execution_count": null,
   "metadata": {},
   "outputs": [],
   "source": [
    "dlgchk.check()"
   ]
  },
  {
   "cell_type": "code",
   "execution_count": null,
   "metadata": {},
   "outputs": [],
   "source": [
    "len(\"'Van Lynden, van Singendonck, IS ter Vergaderinge gelesen de Requeste van Johan Coenraadts Hendricks\")"
   ]
  },
  {
   "cell_type": "code",
   "execution_count": null,
   "metadata": {},
   "outputs": [],
   "source": [
    "score_levenshtein_distance_ratio('Van Schwartzenbergh', 'Van Schwart zenbergh')"
   ]
  },
  {
   "cell_type": "code",
   "execution_count": null,
   "metadata": {},
   "outputs": [],
   "source": [
    "\n",
    "fks = make_herensearcher(keywords={i.name:[v.form for v in i.variants['general']] for i in ra.moregentlemen})"
   ]
  },
  {
   "cell_type": "code",
   "execution_count": null,
   "metadata": {},
   "outputs": [],
   "source": [
    "make_herensearcher(keywords={})"
   ]
  },
  {
   "cell_type": "code",
   "execution_count": null,
   "metadata": {},
   "outputs": [],
   "source": [
    "for t in ks:\n",
    "    if not noprez[t]:\n",
    "        likely_prez = get_vicinity_presidents(noprez, t, )\n",
    "        txt = ra.searchobs[t].text\n",
    "        if len(txt) > 10:\n",
    "            e = txt.find('PRAESENTIBUS')\n",
    "            if e > -1:\n",
    "                stxt = txt[:e]\n",
    "            else: \n",
    "                stxt = txt[:100]\n",
    "            print(likely_prez.find_candidates(stxt), stxt)\n",
    "                \n",
    "         "
   ]
  },
  {
   "cell_type": "code",
   "execution_count": null,
   "metadata": {},
   "outputs": [],
   "source": [
    "likely_prez"
   ]
  },
  {
   "cell_type": "code",
   "execution_count": null,
   "metadata": {},
   "outputs": [],
   "source": [
    "for k in ra.searchobs:\n",
    "    so = ra.searchobs[k]\n",
    "    sspans = so.get_spans()\n",
    "    for s in sspans:\n",
    "        if s.pattern in s.delegate_name:\n",
    "            if s.delegate_name > s.pattern\n",
    "            so.get_txt"
   ]
  },
  {
   "cell_type": "code",
   "execution_count": null,
   "metadata": {},
   "outputs": [],
   "source": [
    "ra.all_matched"
   ]
  },
  {
   "cell_type": "markdown",
   "metadata": {},
   "source": [
    "vars2graph(cl_heren) "
   ]
  },
  {
   "cell_type": "markdown",
   "metadata": {},
   "source": [
    "existing_herensearcher = FuzzyKeywordSearcher(config=fuzzysearch_config)\n",
    "existing_herensearcher.index_keywords(pm_heren)"
   ]
  },
  {
   "cell_type": "raw",
   "metadata": {},
   "source": [
    "es_republic = republic_elasticsearch.initialize_es(host_type=\"external\", timeout=60)"
   ]
  },
  {
   "cell_type": "raw",
   "metadata": {},
   "source": [
    "es_republic"
   ]
  },
  {
   "cell_type": "code",
   "execution_count": null,
   "metadata": {},
   "outputs": [],
   "source": [
    "fuzzysearch_config = {\n",
    "    \"char_match_threshold\": 0.8,\n",
    "    \"ngram_threshold\": 0.6,\n",
    "    \"levenshtein_threshold\": 0.5,\n",
    "    \"ignorecase\": False,\n",
    "    \"ngram_size\": 2,\n",
    "    \"skip_size\": 2,\n",
    "}"
   ]
  },
  {
   "cell_type": "markdown",
   "metadata": {},
   "source": [
    "## retrieve presentielijsten and convert to objects"
   ]
  },
  {
   "cell_type": "code",
   "execution_count": null,
   "metadata": {},
   "outputs": [],
   "source": []
  },
  {
   "cell_type": "raw",
   "metadata": {},
   "source": [
    "year = 1728\n",
    "q = {\"query\": \n",
    "  {\"bool\":\n",
    "    {\n",
    "        \"must\": [\n",
    "         {\"match\": \n",
    "      {\"annotations.metadata.type.keyword\": \n",
    "         \"attendance_list\"}},\n",
    "      {\"term\": {\"metadata.session_year\": \n",
    "         \"1728\"}}]\n",
    "    }\n",
    "  },\n",
    "  \"size\": 5000,\n",
    "  \"sort\": [\"_id\"],\n",
    "}\n",
    "q"
   ]
  },
  {
   "cell_type": "raw",
   "metadata": {},
   "source": [
    "prs_body = {\"query\":\n",
    "              {\"bool\":\n",
    "                {\n",
    "                    \"must\": [\n",
    "                     {\"term\":\n",
    "                  {\"annotations.metadata.type.keyword\":\n",
    "                     \"attendance_list\"}},\n",
    "                  {\"term\": {\"metadata.session_year\":\n",
    "                     year}}]\n",
    "                }\n",
    "              },\n",
    "              \"size\": 5000,\n",
    "            }\n",
    "\n",
    "presentielijsten = {}\n"
   ]
  },
  {
   "cell_type": "raw",
   "metadata": {},
   "source": [
    "obs = results['hits']['hits']\n",
    "ob = [ob for ob in obs if ob['_id']=='session-1728-06-15-num-1']\n",
    "al = [p for p in ob[0]['_source']['annotations'] if p['type']=='attendance_list']\n",
    "text = ob[0]['_source']['text'][al[0]['start_offset']:al[0]['end_offset']]\n",
    "text"
   ]
  },
  {
   "cell_type": "raw",
   "metadata": {},
   "source": [
    "ob[0]['_source']['metadata']"
   ]
  },
  {
   "cell_type": "raw",
   "metadata": {},
   "source": [
    "[p for p in ob[0]['_source']['annotations'] if p['type']=='scan']"
   ]
  },
  {
   "cell_type": "code",
   "execution_count": null,
   "metadata": {},
   "outputs": [],
   "source": [
    "searchobs = make_presentielijsten(year='1728')"
   ]
  },
  {
   "cell_type": "code",
   "execution_count": null,
   "metadata": {},
   "outputs": [],
   "source": [
    "searchobs['session-1728-01-01-num-1']"
   ]
  },
  {
   "cell_type": "markdown",
   "metadata": {},
   "source": [
    "### 1. Find presidents"
   ]
  },
  {
   "cell_type": "code",
   "execution_count": null,
   "metadata": {
    "scrolled": true
   },
   "outputs": [],
   "source": [
    "presidents = president_searcher(presentielijsten=searchobs)"
   ]
  },
  {
   "cell_type": "code",
   "execution_count": null,
   "metadata": {
    "scrolled": true
   },
   "outputs": [],
   "source": [
    "heren = presidents\n"
   ]
  },
  {
   "cell_type": "code",
   "execution_count": null,
   "metadata": {
    "scrolled": true
   },
   "outputs": [],
   "source": [
    "heren = [h.strip() for h in heren]"
   ]
  },
  {
   "cell_type": "markdown",
   "metadata": {},
   "source": [
    "### 2.find provincial extraordinaris gedeputeerden"
   ]
  },
  {
   "cell_type": "code",
   "execution_count": null,
   "metadata": {},
   "outputs": [],
   "source": [
    "ps = province_searcher(presentielijsten=searchobs)"
   ]
  },
  {
   "cell_type": "markdown",
   "metadata": {},
   "source": [
    "### 3. make a list of remaining words from the attendents lists\n",
    "\n",
    "This collects all non-'identified words' from the searchobjects"
   ]
  },
  {
   "cell_type": "code",
   "execution_count": null,
   "metadata": {},
   "outputs": [],
   "source": [
    "unmarked = make_groslijst(presentielijsten=searchobs)"
   ]
  },
  {
   "cell_type": "code",
   "execution_count": null,
   "metadata": {},
   "outputs": [],
   "source": [
    "# filter out words that occur less than 5 times \n",
    "from collections import Counter\n",
    "c = Counter(unmarked)\n",
    "len([k for k in c if c[k]>3])"
   ]
  },
  {
   "cell_type": "code",
   "execution_count": null,
   "metadata": {},
   "outputs": [],
   "source": [
    "filtered_text = \" \".join(list(c.keys()))"
   ]
  },
  {
   "cell_type": "code",
   "execution_count": null,
   "metadata": {
    "scrolled": true
   },
   "outputs": [],
   "source": [
    "fks = FuzzyKeywordSearcher(fuzzysearch_config)\n",
    "tussenkeys = fks.find_close_distance_keywords(list(c.keys()))\n"
   ]
  },
  {
   "cell_type": "code",
   "execution_count": null,
   "metadata": {},
   "outputs": [],
   "source": [
    "dralist = vars2graph(tussenkeys)\n"
   ]
  },
  {
   "cell_type": "code",
   "execution_count": null,
   "metadata": {},
   "outputs": [],
   "source": [
    "with open('republic_junk.json','r') as rj:\n",
    "    ekwz = json.load(fp=rj)\n",
    "provincies=['Holland','Zeeland','West-Vriesland','Gelderland','Overijssel', 'Utrecht','Friesland']\n",
    "from republic.model.republic_phrase_model import week_day_names, month_names_early, month_names_late, spelling_variants\n",
    "months = month_names_early + month_names_late \n",
    "junksweeper = FuzzyKeywordSearcher(config=fuzzysearch_config)\n",
    "junksweeper.index_keywords(list(ekwz.keys()))\n",
    "for key in ekwz.keys():\n",
    "    for variant in ekwz[key]:\n",
    "        junksweeper.index_spelling_variant(keyword=key, variant=variant)\n",
    "junksweeper.index_keywords(months)\n",
    "junksweeper.index_keywords(provincies)"
   ]
  },
  {
   "cell_type": "code",
   "execution_count": null,
   "metadata": {},
   "outputs": [],
   "source": [
    "def get_lscore(r):\n",
    "    return r['levenshtein_distance']\n",
    "\n",
    "rawres = []\n",
    "for t in dralist:\n",
    "#    t = rawlist[i]\n",
    "    if len(t)>1:\n",
    "        rawtext = ' '.join(t)\n",
    "    else: \n",
    "        rawtext = t[0]\n",
    "    r = junksweeper.find_candidates(rawtext)\n",
    "    try:\n",
    "        nr = max(r, key=get_lscore)\n",
    "        if nr['levenshtein_distance'] < 0.5:\n",
    "            rawres.append(t)\n",
    "    except ValueError:\n",
    "        rawres.append(t)"
   ]
  },
  {
   "cell_type": "code",
   "execution_count": null,
   "metadata": {},
   "outputs": [],
   "source": [
    "#deputies = fks.find_close_distance_keywords(rawlist)\n",
    "deputies = rawres"
   ]
  },
  {
   "cell_type": "markdown",
   "metadata": {},
   "source": [
    "We now have:\n",
    "\n",
    "1. __heren__: a list of presidents\n",
    "1. __ezkw__: a rough list of words that have been identified as junk before\n",
    "1. __deputies__: a rough list of words that are presumably delegates"
   ]
  },
  {
   "cell_type": "markdown",
   "metadata": {},
   "source": [
    "### 5. cluster them into connected variants. Ideally these would contain the different variants of deputies"
   ]
  },
  {
   "cell_type": "code",
   "execution_count": null,
   "metadata": {
    "scrolled": true
   },
   "outputs": [],
   "source": [
    "cl_heren = fks.find_close_distance_keywords(heren)\n",
    "G_heren = nx.Graph()\n",
    "d_nodes = sorted(cl_heren)\n",
    "for node in d_nodes:\n",
    "    attached_nodes = cl_heren[node]\n",
    "    G_heren.add_node(node)\n",
    "    for nod in attached_nodes:\n",
    "        G_heren.add_edge(node, nod)\n",
    "#list(nx.connected_components(G_heren))\n",
    "\n",
    "#which clusters them nicely"
   ]
  },
  {
   "cell_type": "markdown",
   "metadata": {},
   "source": [
    "### 6. Identify the attendance lists with this overview of deputies "
   ]
  },
  {
   "cell_type": "code",
   "execution_count": null,
   "metadata": {},
   "outputs": [],
   "source": [
    "abbreviated_delegates = pd.read_pickle('sheets/abbreviated_delegates.pickle')"
   ]
  },
  {
   "cell_type": "code",
   "execution_count": null,
   "metadata": {},
   "outputs": [],
   "source": [
    "#previously_matched = pd.read_excel('sheets/xml_herkend.xlsx')\n",
    "previously_matched = pd.read_pickle('sheets/found_deputies.pickle')\n",
    "previously_matched['id'] = previously_matched['ref_id']\n",
    "previously_matched.columns\n",
    "\n",
    "pm_heren = list(previously_matched['name'].unique())"
   ]
  },
  {
   "cell_type": "code",
   "execution_count": null,
   "metadata": {},
   "outputs": [],
   "source": [
    "TUSSENVOEGSELS = [\n",
    "    'à',\n",
    "    '\\xe0',\n",
    "    r'd\\'',\n",
    "    r'de',\n",
    "    r'den',\n",
    "    r'der',\n",
    "    r'des',\n",
    "    r'di',\n",
    "    r'en', \n",
    "    r'het',\n",
    "    r\"in 't\",\n",
    "    r'la',\n",
    "    r'la', \n",
    "    r'le',\n",
    "    r'of',\n",
    "    r'van',\n",
    "    r'ten', \n",
    "    r'thoe', \n",
    "    r'tot', \n",
    "    r\"'t\",\n",
    "]\n"
   ]
  },
  {
   "cell_type": "code",
   "execution_count": null,
   "metadata": {},
   "outputs": [],
   "source": [
    "stopwords = TUSSENVOEGSELS\n",
    "def nm_to_delen(naam, stopwords=stopwords):\n",
    "    nms = [n for n in naam.split(' ') if n not in stopwords]\n",
    "    #nms.append(naam)\n",
    "    return nms\n",
    "           \n",
    "keywords = list(abbreviated_delegates.name)\n",
    "kwrds = {key:nm_to_delen(key) for key in keywords}\n"
   ]
  },
  {
   "cell_type": "code",
   "execution_count": null,
   "metadata": {
    "scrolled": true
   },
   "outputs": [],
   "source": [
    "nwkw = {d:k for k in list(set(keywords)) for d in k.split(' ') if d not in stopwords}"
   ]
  },
  {
   "cell_type": "code",
   "execution_count": null,
   "metadata": {},
   "outputs": [],
   "source": [
    "# note that this config is more lenient than the default values \n",
    "fuzzysearch_config = {'char_match_threshold': 0.7,\n",
    " 'ngram_threshold': 0.5,\n",
    " 'levenshtein_threshold': 0.5,\n",
    " 'ignorecase': False,\n",
    " 'ngram_size': 2,\n",
    " 'skip_size': 2}"
   ]
  },
  {
   "cell_type": "code",
   "execution_count": null,
   "metadata": {},
   "outputs": [],
   "source": [
    "herensearcher = FuzzyKeywordSearcher(config=fuzzysearch_config)\n",
    "exclude = ['Heeren', 'van', 'met', 'Holland']\n",
    "filtered_kws = [kw for kw in nwkw.keys() if kw not in exclude]\n",
    "herensearcher.index_keywords(keywords=filtered_kws)\n",
    "for k in filtered_kws:\n",
    "    for variant in nwkw[k]:\n",
    "        herensearcher.index_spelling_variant(k,variant=variant)"
   ]
  },
  {
   "cell_type": "code",
   "execution_count": null,
   "metadata": {},
   "outputs": [],
   "source": [
    "from collections import defaultdict\n",
    "transposed_graph = defaultdict(list)\n",
    "for node, neighbours in kwrds.items():\n",
    "    for neighbour in neighbours:\n",
    "        transposed_graph[neighbour].append(node)"
   ]
  },
  {
   "cell_type": "code",
   "execution_count": null,
   "metadata": {},
   "outputs": [],
   "source": [
    "day = 1728\n",
    "year = day"
   ]
  },
  {
   "cell_type": "code",
   "execution_count": null,
   "metadata": {},
   "outputs": [],
   "source": [
    "\n",
    "dayinterval = pd.Interval(day, day, closed=\"both\")\n",
    "register = {}\n",
    "pats = []"
   ]
  },
  {
   "cell_type": "code",
   "execution_count": null,
   "metadata": {
    "scrolled": true
   },
   "outputs": [],
   "source": [
    "# setup presidents for matching\n",
    "existing_herensearcher = FuzzyKeywordSearcher(config=fuzzysearch_config)\n",
    "existing_herensearcher.index_keywords(pm_heren)\n",
    "connected_presidents = list(nx.connected_components(G_heren))\n",
    "matchfnd = FndMatch(year=year,\n",
    "                 #patterns=pats,\n",
    "                 register=register,\n",
    "                 rev_graph=transposed_graph,\n",
    "                 searcher=herensearcher,\n",
    "                 junksearcher=junksweeper,\n",
    "                 df=abbreviated_delegates)"
   ]
  },
  {
   "cell_type": "raw",
   "metadata": {},
   "source": [
    "\"\"\"\n",
    "- input is grouped delegates \n",
    "- output is matched delegates and unmatched \n",
    "\"\"\"\n",
    "def find_delegates(input=[],\n",
    "                  matchfnd=matchfnd,\n",
    "                  df=abbreviated_delegates,\n",
    "                  previously_matched=previously_matched,\n",
    "                  year=1728):\n",
    "    #matched_heren = defaultdict(list)\n",
    "    matched_deputies = defaultdict(list)\n",
    "    unmatched_deputies = []\n",
    "    for herengroup in input:\n",
    "        # we add the whole group to recognized if one name has a result\n",
    "        recognized_group = []\n",
    "        keyword_counter = Counter()\n",
    "        in_matched = False\n",
    "        for heer in herengroup: # we try to fuzzymatch the whole group and give the string a score\n",
    "            rslt = matchfnd.match_candidates(heer=heer)\n",
    "            if rslt:\n",
    "                in_matched = True\n",
    "                match_kw = getattr(rslt,'match_keyword')\n",
    "                match_distance = getattr(rslt,'levenshtein_distance')\n",
    "                recognized_group.append((heer, match_kw, match_distance))\n",
    "                keyword_counter.update([match_kw])\n",
    "            else:\n",
    "                recognized_group.append((heer, '', 0.0))\n",
    "        if in_matched == True: # if there is at least one match, proceed\n",
    "            kw = keyword_counter.most_common()[0][0]\n",
    "            rec = previously_matched.loc[previously_matched.name == kw]\n",
    "            #ncol = 'proposed_delegate'\n",
    "            ncol = 'name'\n",
    "            if len(rec) == 0:\n",
    "                rec = iterative_search(name=kw, year=year, df=df)\n",
    "                ncol = 'name'\n",
    "            drec = rec.to_dict(orient=\"records\")[0]\n",
    "            m_id = drec['id']\n",
    "#             if m_id == 'matched':\n",
    "#                 print(rec, kw)\n",
    "            name = drec[ncol]\n",
    "            score = drec.get('score') or 0.0\n",
    "            matched_deputies[m_id] = {'id': m_id, \n",
    "                                      'm_kw':kw,\n",
    "                                      'score':score,\n",
    "                                      'name':name, \n",
    "                                      'variants':recognized_group}\n",
    "        else:\n",
    "            unmatched_deputies.append(herengroup) # non-matched deputy-groups are also returned \n",
    "    return({\"matched\":matched_deputies,\n",
    "            \"unmatched\":unmatched_deputies})"
   ]
  },
  {
   "cell_type": "code",
   "execution_count": null,
   "metadata": {
    "scrolled": true
   },
   "outputs": [],
   "source": [
    "found_presidents = find_delegates(input=connected_presidents,\n",
    "                                  matchfnd=matchfnd,\n",
    "                                  df=abbreviated_delegates,\n",
    "                                  previously_matched=previously_matched,\n",
    "                                  year=1728)"
   ]
  },
  {
   "cell_type": "markdown",
   "metadata": {},
   "source": [
    "### Cluster deputies"
   ]
  },
  {
   "cell_type": "markdown",
   "metadata": {},
   "source": [
    "We now do the same trick with the delegates. "
   ]
  },
  {
   "cell_type": "code",
   "execution_count": null,
   "metadata": {},
   "outputs": [],
   "source": [
    "found_delegates = find_delegates(input=deputies,\n",
    "                                 matchfnd=matchfnd,\n",
    "                                 df=abbreviated_delegates,\n",
    "                                 previously_matched=previously_matched,\n",
    "                                 year=1728 )"
   ]
  },
  {
   "cell_type": "markdown",
   "metadata": {},
   "source": [
    "### join presidents and deputies\n"
   ]
  },
  {
   "cell_type": "code",
   "execution_count": null,
   "metadata": {},
   "outputs": [],
   "source": [
    "all_matched = {}\n",
    "for d in [found_presidents['matched'], found_delegates['matched']]:\n",
    "    for key in d:\n",
    "        if key not in all_matched.keys():\n",
    "            all_matched[key]= d[key]\n",
    "        else:\n",
    "            all_matched[key]['variants'].extend(d[key]['variants'])"
   ]
  },
  {
   "cell_type": "code",
   "execution_count": null,
   "metadata": {},
   "outputs": [],
   "source": [
    "moregentlemen = [MatchHeer(all_matched[d]) for d in all_matched.keys() if type(d)==int] # strange keys sneak in"
   ]
  },
  {
   "cell_type": "code",
   "execution_count": null,
   "metadata": {},
   "outputs": [],
   "source": [
    "mh_df = pd.DataFrame(all_matched).transpose().reset_index()"
   ]
  },
  {
   "cell_type": "code",
   "execution_count": null,
   "metadata": {},
   "outputs": [],
   "source": [
    "matchsearch = FuzzyKeywordSearcher(config=fuzzysearch_config)\n",
    "kws = defaultdict(list)\n",
    "matcher = {}\n",
    "for key in all_matched:\n",
    "    variants = all_matched[key].get('variants')\n",
    "    keyword = all_matched[key].get('m_kw')\n",
    "    idnr = all_matched[key].get('id')\n",
    "    name = all_matched[key].get('name')\n",
    "    for variant in variants:\n",
    "        kws[keyword].append(variant[0])\n",
    "        matcher[variant[0]] = {'kw':keyword, 'id':idnr, 'name':name}\n",
    "matchsearch.index_keywords(list(kws.keys()))\n",
    "for k in kws:\n",
    "    for v in kws[k]:\n",
    "        matchsearch.index_spelling_variant(keyword=k,variant=v)"
   ]
  },
  {
   "cell_type": "code",
   "execution_count": null,
   "metadata": {
    "scrolled": true
   },
   "outputs": [],
   "source": [
    "deputyregister = defaultdict(list)\n",
    "search_results = {}\n",
    "# fm = FndMatch(year=1728,\n",
    "#                  #patterns=pats,\n",
    "#                  register=register,\n",
    "#                  rev_graph=transposed_graph,\n",
    "#                  searcher=herensearcher,\n",
    "#                  junksearcher=junksweeper,\n",
    "#                  df=abbreviated_delegates)\n",
    "for T in searchobs:\n",
    "    ob = searchobs[T].matched_text\n",
    "    mo = MatchAndSpan(ob, junksweeper=junksweeper, previously_matched=previously_matched, match_search=matchsearch)\n",
    "#     for span in ob.spans:\n",
    "#         if span.type in ['president', 'delegate']:\n",
    "#             if span.pattern == '':\n",
    "#                 span.set_pattern(pattern=ob.item[span.begin:span.end])\n",
    "#             r = fm.match_candidates(heer=span.pattern)\n",
    "#             span.set_delegate(delegate_id=r.id, \n",
    "#                               delegate_name=r.proposed_delegate, \n",
    "#                               delegate_score=r.score)"
   ]
  },
  {
   "cell_type": "markdown",
   "metadata": {},
   "source": [
    "### 8. Mark delegates "
   ]
  },
  {
   "cell_type": "code",
   "execution_count": null,
   "metadata": {},
   "outputs": [],
   "source": [
    "delresults = Counter()\n",
    "for T in searchobs.keys():\n",
    "    searchob = searchobs[T]\n",
    "    result = get_delegates_from_spans(searchob.matched_text)\n",
    "    try:\n",
    "        id  = result['delegate']['id']\n",
    "        if id:\n",
    "            delresults.update([id])\n",
    "    except KeyError:\n",
    "        pass\n",
    "delresults\n",
    "\n",
    "previously_matched.loc[previously_matched.id.isin(delresults.keys())]\n",
    "abbreviated_delegates.loc[abbreviated_delegates.id.isin(delresults.keys())]"
   ]
  },
  {
   "cell_type": "code",
   "execution_count": null,
   "metadata": {},
   "outputs": [],
   "source": [
    "framed_gtlm = pd.DataFrame(moregentlemen)"
   ]
  },
  {
   "cell_type": "code",
   "execution_count": null,
   "metadata": {},
   "outputs": [],
   "source": [
    "framed_gtlm.rename(columns={0:'gentleobject'}, inplace=True)"
   ]
  },
  {
   "cell_type": "raw",
   "metadata": {},
   "source": [
    "framed_gtlm.to_pickle('sheets/framed_gtlm.pickle')"
   ]
  },
  {
   "cell_type": "code",
   "execution_count": null,
   "metadata": {},
   "outputs": [],
   "source": [
    "framed_gtlm['vs'] = framed_gtlm.gentleobject.apply(lambda x: [e for e in x.variants['general']])\n",
    "framed_gtlm['ref_id'] = framed_gtlm.gentleobject.apply(lambda x: x.heerid)\n",
    "#framed_gtlm['uuid'] = framed_gtlm.gentleobject.apply(lambda x: x.get_uuid())\n",
    "framed_gtlm['name'] = framed_gtlm.gentleobject.apply(lambda x: x.name)\n",
    "framed_gtlm['found_in'] = day\n",
    "framed_gtlm"
   ]
  },
  {
   "cell_type": "code",
   "execution_count": null,
   "metadata": {},
   "outputs": [],
   "source": [
    "def levenst_vals(x, txt):\n",
    "    scores= [score_levenshtein_distance_ratio(i.form,txt) for i in x if len(i.form)>1]\n",
    "    if max(scores) > 0.8:\n",
    "        return max(scores)\n",
    "    else:\n",
    "        return np.nan\n"
   ]
  },
  {
   "cell_type": "code",
   "execution_count": null,
   "metadata": {},
   "outputs": [],
   "source": [
    "def delegates2spans(searchob):\n",
    "    spans = searchob.matched_text.spans\n",
    "    for span in spans:\n",
    "        txt = searchob.matched_text.item[span.begin:span.end]\n",
    "        msk = framed_gtlm.vs.apply(lambda x: levenst_vals(x, txt))\n",
    "        mres = framed_gtlm.loc[msk==msk.max()]\n",
    "        if len(mres)>0:\n",
    "    #     if len(mres)>0:\n",
    "    #         setattr(span, 'delegate_id', mres.uuid.iat[0])\n",
    "    #         setattr(span, 'delegate_name', mres.name.iat[0])\n",
    "        #print(kand, all_matched[kand])\n",
    "            span.set_pattern(txt)\n",
    "        if len(mres)>0:\n",
    "            span.set_delegate(delegate_id=mres.ref_id.iat[0], delegate_name=mres.name.iat[0])\n"
   ]
  },
  {
   "cell_type": "code",
   "execution_count": null,
   "metadata": {},
   "outputs": [],
   "source": [
    "for T in searchobs:\n",
    "    searchob = searchobs[T]\n",
    "    #mo = MatchAndSpan(ob, junksweeper=junksweeper, previously_matched=previously_matched)\n",
    "    delegates2spans(searchob)"
   ]
  },
  {
   "cell_type": "code",
   "execution_count": null,
   "metadata": {},
   "outputs": [],
   "source": [
    "merged_deps = pd.merge(left=framed_gtlm, right=abbreviated_delegates, left_on=\"ref_id\", right_on=\"id\", how=\"left\")"
   ]
  },
  {
   "cell_type": "code",
   "execution_count": null,
   "metadata": {},
   "outputs": [],
   "source": [
    "serializable_df = merged_deps[['ref_id','geboortejaar', 'sterfjaar', 'colleges', 'functions',\n",
    "       'period', 'sg', 'was_gedeputeerde', 'p_interval', 'h_life', 'vs','name_x', 'found_in',]]\n",
    "serializable_df.rename(columns={'name_x':'name', \n",
    "                                'vs':'variants', \n",
    "                                \"h_life\": \"hypothetical_life\", \n",
    "                                \"p_interval\":\"period_active\", \n",
    "                                \"sg\": \"active_stgen\"},  inplace=True)\n"
   ]
  },
  {
   "cell_type": "code",
   "execution_count": null,
   "metadata": {},
   "outputs": [],
   "source": [
    "serializable_df.to_pickle('sheets/found_deputies.pickle')\n"
   ]
  },
  {
   "cell_type": "code",
   "execution_count": null,
   "metadata": {},
   "outputs": [],
   "source": [
    "for interval in [\"hypothetical_life\", \"period_active\"]:\n",
    "    serializable_df[interval]=serializable_df[interval].apply(lambda x: [x.left, x.right])\n",
    "serializable_df.to_excel('sheets/found_deputies.xlsx')"
   ]
  },
  {
   "cell_type": "code",
   "execution_count": null,
   "metadata": {},
   "outputs": [],
   "source": [
    "out=[]\n",
    "for T in searchobs:\n",
    "    ob = searchobs[T]\n",
    "    out.append(ob.to_dict())"
   ]
  },
  {
   "cell_type": "code",
   "execution_count": null,
   "metadata": {},
   "outputs": [],
   "source": [
    "#with open('/Users/rikhoekstra/Downloads/1728_pres2.json', 'w') as fp:\n",
    "json_year = json.dumps(obj=out)"
   ]
  },
  {
   "cell_type": "code",
   "execution_count": null,
   "metadata": {},
   "outputs": [],
   "source": [
    "with open('/Users/rikhoekstra/Downloads/1728_pres_20210420.json', 'w') as fp:\n",
    "    json.dump(fp=fp, obj=out)"
   ]
  },
  {
   "cell_type": "code",
   "execution_count": null,
   "metadata": {},
   "outputs": [],
   "source": []
  },
  {
   "cell_type": "raw",
   "metadata": {},
   "source": [
    "jsondelegates.rename(columns={\"h_life\": \"hypothetical_life\", \"p_interval\":\"period_active\", \"sg\": \"active_stgen\"},\n",
    "                     inplace=True)"
   ]
  },
  {
   "cell_type": "code",
   "execution_count": null,
   "metadata": {},
   "outputs": [],
   "source": [
    "delegate_json = serializable_df[['ref_id', 'name', 'geboortejaar', 'sterfjaar', 'colleges',\n",
    "       'functions', 'active_stgen', 'was_gedeputeerde',\n",
    "       'period_active', 'hypothetical_life']].to_json(orient=\"records\")"
   ]
  },
  {
   "cell_type": "raw",
   "metadata": {},
   "source": [
    "with open(\"/Users/rikhoekstra/Downloads/delegats.json\", 'w') as fp:\n",
    "    fp.write(delegate_json)"
   ]
  },
  {
   "cell_type": "code",
   "execution_count": null,
   "metadata": {},
   "outputs": [],
   "source": [
    "searchobs = runner.searchobs"
   ]
  },
  {
   "cell_type": "raw",
   "metadata": {},
   "source": [
    "from IPython.display import HTML\n",
    "htmlout=[]\n",
    "for T in searchobs:\n",
    "    ob = searchobs[T].matched_text\n",
    "    url = searchobs[T].make_url()\n",
    "    ob.mapcolors()\n",
    "    rest = ob.serialize()\n",
    "    rest = f\"\\n<h4>{T}</h4>\\n\" + rest\n",
    "    if url:\n",
    "        rest += f\"\"\"<br/><br/><a href='{url}'>link naar {T}-image</a><br/>\"\"\"\n",
    "    htmlout.append(rest)\n",
    "#out.reverse()\n",
    "HTML(\"<br><hr><br>\".join(htmlout))\n"
   ]
  },
  {
   "cell_type": "code",
   "execution_count": null,
   "metadata": {
    "scrolled": true
   },
   "outputs": [],
   "source": [
    "searchobs = runner.searchobs\n",
    "from IPython.display import HTML\n",
    "t_out=[]\n",
    "for T in searchobs:\n",
    "    ob = searchobs[T].matched_text\n",
    "    url = searchobs[T].make_url()\n",
    "    ob.mapcolors()\n",
    "    rest = ob.serialize()\n",
    "    rest = f\"\"\"\\n<tr><td><strong>{T}</strong></td><td>{rest}</td>\"\"\"\n",
    "    if url:\n",
    "        rest += f\"\"\"<td><a href='{url}'>link naar {T}-image</a></td>\"\"\"\n",
    "    rest += \"</tr>\"\n",
    "    t_out.append(rest)\n",
    "#out.reverse()\n",
    "outtable = \"\".join(t_out)\n",
    "HTML(f\"<table>{outtable}</table>\")\n"
   ]
  },
  {
   "cell_type": "code",
   "execution_count": null,
   "metadata": {
    "jupyter": {
     "source_hidden": true
    },
    "tags": []
   },
   "outputs": [],
   "source": [
    "with open(f\"/Users/rikhoekstra/Downloads/{day}_check.html\", 'w') as flout:\n",
    "    flout.write(f\"<html><body><h1>results for {day}</h1>\\n\")\n",
    "    flout.write(f\"<table>{outtable}</table>\")\n",
    "    flout.write(\"</body></html>\")"
   ]
  },
  {
   "cell_type": "raw",
   "metadata": {},
   "source": [
    "for T in searchobs:\n",
    "    search_results = {}\n",
    "    ob = searchobs[T].matched_text\n",
    "    unmarked_text = ''.join(ob.get_unmatched_text())\n",
    "    splittekst = re.split(pattern=\"\\s\",string=unmarked_text)\n",
    "    for s in splittekst:\n",
    "        if len(s)>2 and len(junksweeper.find_candidates(s))==0:\n",
    "            sr = identified.get(s)\n",
    "            try:\n",
    "                if len(sr) > 0:\n",
    "                    sr = sr.loc[sr.score == sr.score.max()]\n",
    "                    nm = sr.name.iat[0]\n",
    "                    idnr = sr.id.iat[0]\n",
    "                    score = sr.score.max()\n",
    "                    b = ob.item.find(s)\n",
    "                    e = b + len(s)\n",
    "                    span = ob.set_span(span=(b,e), clas='delegate', pattern=s, delegate=idnr, score=score)\n",
    "                    search_results.update({s:{'match_term':nm, 'match_string':s, 'score': score}, 'spandid':span})\n",
    "            except TypeError:\n",
    "                pass"
   ]
  },
  {
   "cell_type": "raw",
   "metadata": {},
   "source": [
    "# \"naam\": {\n",
    "#                         \"properties\":{\n",
    "#                             'geslachtsnaam': {\"type\":\"string\"},\n",
    "#                             'fullname': {\"type\":\"string\"},\n",
    "#                             'birth': {\"type\":\"string\"},\n",
    "#                             'death': {\"type\":\"string\"},\n",
    "#                             'by': {\"type\":\"integer\"},\n",
    "#                             'dy': {\"type\":\"integer\"},\n",
    "#                             'bp': {\"type\":\"string\"},\n",
    "#                             'dp': {\"type\":\"string\"},\n",
    "#                             'biography': {\"type\":\"text\"},\n",
    "#                             'reference': {\"type\":\"string\"}\n",
    "#                         }\n",
    "#                     },\n",
    "#         }\n",
    "\n",
    "att_lst_mapping = {\n",
    "    \"mappings\": {\n",
    "        \"properties\": {\n",
    "                 'metadata':{\"properties\":{\n",
    "                           \"coords\":{\"properties\":{\n",
    "                                 'bottom': {\"type\":\"int\"},\n",
    "                                 'height': {\"type\":\"int\"},\n",
    "                                 'left': {\"type\":\"int\"},\n",
    "                                 'right': {\"type\":\"int\"},\n",
    "                                 'top': {\"type\":\"int\"},\n",
    "                                 'width': {\"type\":\"int\"}\n",
    "                               },\n",
    "                            'inventory_num':{\"type\": \"int\"},\n",
    "                            'meeting_lines':{\"type\": \"string\"}, \n",
    "                            'text':{\"type\":\"string\"},\n",
    "                            'zittingsdag_id':{\"type\":\"string\"}, \n",
    "                            'url':{\"type\":\"string\"}\n",
    "                           }\n",
    "                         }\n",
    "                        }\n",
    "                    },\n",
    "                 'spans': {\"properties\":{\n",
    "                           'offset':{\"type\":\"integer\"},\n",
    "                             'end':{\"type\":\"integer\"},\n",
    "                             'pattern':{\"type\":\"string\"},\n",
    "                             'class':{\"type\":\"string\"},\n",
    "                             'delegate_id':{\"type\":\"string\"},\n",
    "                             'delegate_name':{\"type\":\"string\"},\n",
    "                             'delegate_score':{\"type\":\"float\"}}\n",
    "                           }\n",
    "            }\n",
    "    }\n"
   ]
  },
  {
   "cell_type": "markdown",
   "metadata": {},
   "source": [
    "## To Elasticsearch"
   ]
  },
  {
   "cell_type": "code",
   "execution_count": null,
   "metadata": {},
   "outputs": [],
   "source": [
    "from republic.republic_keyword_matcher.elastic_search_helpers import bulk_upload\n",
    "local_republic_es = Elasticsearch()\n",
    "local_republic_es"
   ]
  },
  {
   "cell_type": "code",
   "execution_count": null,
   "metadata": {},
   "outputs": [],
   "source": [
    "local_republic_es.indices.create(index='attendancelist')\n"
   ]
  },
  {
   "cell_type": "code",
   "execution_count": null,
   "metadata": {},
   "outputs": [],
   "source": [
    "data_dict = out\n",
    "bulk_upload(bulkdata=data_dict, index='attendancelist', doctype='attendancelist')"
   ]
  }
 ],
 "metadata": {
  "kernelspec": {
   "display_name": "republic",
   "language": "python",
   "name": "republic"
  },
  "language_info": {
   "codemirror_mode": {
    "name": "ipython",
    "version": 3
   },
   "file_extension": ".py",
   "mimetype": "text/x-python",
   "name": "python",
   "nbconvert_exporter": "python",
   "pygments_lexer": "ipython3",
   "version": "3.8.5"
  },
  "toc": {
   "base_numbering": 1,
   "nav_menu": {
    "height": "216px",
    "width": "436px"
   },
   "number_sections": true,
   "sideBar": true,
   "skip_h1_title": false,
   "title_cell": "Table of Contents",
   "title_sidebar": "Contents",
   "toc_cell": false,
   "toc_position": {},
   "toc_section_display": true,
   "toc_window_display": false
  }
 },
 "nbformat": 4,
 "nbformat_minor": 4
}
