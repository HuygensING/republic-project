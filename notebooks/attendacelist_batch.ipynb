{
 "cells": [
  {
   "cell_type": "markdown",
   "id": "7ebcfad8-e594-4cb2-8639-249d0dcbb299",
   "metadata": {},
   "source": [
    "# Attendance list batch runner"
   ]
  },
  {
   "cell_type": "code",
   "execution_count": 1,
   "id": "e6df7209-44cb-483d-bfac-aa0879d4908e",
   "metadata": {},
   "outputs": [],
   "source": [
    "# This reload library is just used for developing the REPUBLIC hOCR parser \n",
    "# and can be removed once this module is stable.\n",
    "%reload_ext autoreload\n",
    "%autoreload 2\n",
    "\n",
    "\n",
    "#This is needed to add the repo dir to the path so jupyter\n",
    "# can load the republic modules directly from the notebooks\n",
    "import os\n",
    "import sys\n",
    "import re\n",
    "\n",
    "# from collections import defaultdict\n",
    "import pandas as pd\n",
    "from collections import Counter, defaultdict\n",
    "# import numpy as np\n",
    "# #import xmltodict\n",
    "# import networkx as nx\n",
    "# from sqlalchemy import text\n",
    "\n",
    "\n",
    "repo_dir = os.path.split(os.getcwd())[0]\n",
    "\n",
    "if repo_dir not in sys.path:\n",
    "    sys.path.append(repo_dir)\n",
    "\n",
    "# import sys\n",
    "# !{sys.executable} -m pip install -U jupyter_nbextensions_configurator"
   ]
  },
  {
   "cell_type": "code",
   "execution_count": 2,
   "id": "60213499",
   "metadata": {},
   "outputs": [
    {
     "name": "stdout",
     "output_type": "stream",
     "text": [
      "Requirement already satisfied: fuzzy-search==1.6 in /Users/rikhoekstra/develop/republic_clean/.venv/lib/python3.9/site-packages (1.6.0)\n",
      "Note: you may need to restart the kernel to use updated packages.\n"
     ]
    }
   ],
   "source": [
    "pip install -U fuzzy-search==1.6"
   ]
  },
  {
   "cell_type": "code",
   "execution_count": 3,
   "id": "0558490c",
   "metadata": {},
   "outputs": [],
   "source": [
    "import fuzzy_search"
   ]
  },
  {
   "cell_type": "code",
   "execution_count": 4,
   "id": "4157768d",
   "metadata": {},
   "outputs": [
    {
     "data": {
      "text/plain": [
       "'1.6.0'"
      ]
     },
     "execution_count": 4,
     "metadata": {},
     "output_type": "execute_result"
    }
   ],
   "source": [
    "fuzzy_search.__version__"
   ]
  },
  {
   "cell_type": "code",
   "execution_count": 5,
   "id": "1b224ff8-23a5-4a5d-85d1-a7f83845be56",
   "metadata": {},
   "outputs": [],
   "source": [
    "# let's repress the warnings, esp. from pandas\n",
    "import warnings\n",
    "warnings.filterwarnings('ignore')\n",
    "warnings.simplefilter('ignore')"
   ]
  },
  {
   "cell_type": "code",
   "execution_count": 6,
   "id": "b6bf231c",
   "metadata": {},
   "outputs": [
    {
     "ename": "SyntaxError",
     "evalue": "invalid syntax (1090395685.py, line 2)",
     "output_type": "error",
     "traceback": [
      "\u001b[0;36m  Input \u001b[0;32mIn [6]\u001b[0;36m\u001b[0m\n\u001b[0;31m    from fuzzy_search.\u001b[0m\n\u001b[0m                      ^\u001b[0m\n\u001b[0;31mSyntaxError\u001b[0m\u001b[0;31m:\u001b[0m invalid syntax\n"
     ]
    }
   ],
   "source": [
    "from fuzzy_search.fuzzy_match import PhraseMatch\n",
    "from fuzzy_search."
   ]
  },
  {
   "cell_type": "code",
   "execution_count": 9,
   "id": "f83a874e",
   "metadata": {},
   "outputs": [
    {
     "name": "stderr",
     "output_type": "stream",
     "text": [
      "[autoreload of republic.helper.utils failed: Traceback (most recent call last):\n",
      "  File \"/Users/rikhoekstra/develop/republic_clean/.venv/lib/python3.9/site-packages/IPython/extensions/autoreload.py\", line 257, in check\n",
      "    superreload(m, reload, self.old_objects)\n",
      "  File \"/Users/rikhoekstra/develop/republic_clean/.venv/lib/python3.9/site-packages/IPython/extensions/autoreload.py\", line 455, in superreload\n",
      "    module = reload(module)\n",
      "  File \"/usr/local/Cellar/python@3.9/3.9.10/Frameworks/Python.framework/Versions/3.9/lib/python3.9/importlib/__init__.py\", line 169, in reload\n",
      "    _bootstrap._exec(spec, module)\n",
      "  File \"<frozen importlib._bootstrap>\", line 613, in _exec\n",
      "  File \"<frozen importlib._bootstrap_external>\", line 850, in exec_module\n",
      "  File \"<frozen importlib._bootstrap>\", line 228, in _call_with_frames_removed\n",
      "  File \"/Users/rikhoekstra/develop/republicgit/republic/helper/utils.py\", line 5, in <module>\n",
      "    from fuzzy_search.tokenization.string import score_levenshtein_similarity_ratio\n",
      "ModuleNotFoundError: No module named 'fuzzy_search.tokenization'\n",
      "]\n",
      "[autoreload of republic.model.republic_document_model failed: Traceback (most recent call last):\n",
      "  File \"/Users/rikhoekstra/develop/republic_clean/.venv/lib/python3.9/site-packages/IPython/extensions/autoreload.py\", line 257, in check\n",
      "    superreload(m, reload, self.old_objects)\n",
      "  File \"/Users/rikhoekstra/develop/republic_clean/.venv/lib/python3.9/site-packages/IPython/extensions/autoreload.py\", line 455, in superreload\n",
      "    module = reload(module)\n",
      "  File \"/usr/local/Cellar/python@3.9/3.9.10/Frameworks/Python.framework/Versions/3.9/lib/python3.9/importlib/__init__.py\", line 169, in reload\n",
      "    _bootstrap._exec(spec, module)\n",
      "  File \"<frozen importlib._bootstrap>\", line 613, in _exec\n",
      "  File \"<frozen importlib._bootstrap_external>\", line 850, in exec_module\n",
      "  File \"<frozen importlib._bootstrap>\", line 228, in _call_with_frames_removed\n",
      "  File \"/Users/rikhoekstra/develop/republicgit/republic/model/republic_document_model.py\", line 6, in <module>\n",
      "    from fuzzy_search.phrase.phrase import Phrase\n",
      "ModuleNotFoundError: No module named 'fuzzy_search.phrase'\n",
      "]\n",
      "[autoreload of republic.elastic.republic_retrieving failed: Traceback (most recent call last):\n",
      "  File \"/Users/rikhoekstra/develop/republic_clean/.venv/lib/python3.9/site-packages/IPython/extensions/autoreload.py\", line 257, in check\n",
      "    superreload(m, reload, self.old_objects)\n",
      "  File \"/Users/rikhoekstra/develop/republic_clean/.venv/lib/python3.9/site-packages/IPython/extensions/autoreload.py\", line 455, in superreload\n",
      "    module = reload(module)\n",
      "  File \"/usr/local/Cellar/python@3.9/3.9.10/Frameworks/Python.framework/Versions/3.9/lib/python3.9/importlib/__init__.py\", line 169, in reload\n",
      "    _bootstrap._exec(spec, module)\n",
      "  File \"<frozen importlib._bootstrap>\", line 613, in _exec\n",
      "  File \"<frozen importlib._bootstrap_external>\", line 850, in exec_module\n",
      "  File \"<frozen importlib._bootstrap>\", line 228, in _call_with_frames_removed\n",
      "  File \"/Users/rikhoekstra/develop/republicgit/republic/elastic/republic_retrieving.py\", line 7, in <module>\n",
      "    from fuzzy_search.match.phrase_match import PhraseMatch\n",
      "ModuleNotFoundError: No module named 'fuzzy_search.match'\n",
      "]\n"
     ]
    },
    {
     "ename": "ModuleNotFoundError",
     "evalue": "No module named 'fuzzy_search.match'",
     "output_type": "error",
     "traceback": [
      "\u001b[0;31m---------------------------------------------------------------------------\u001b[0m",
      "\u001b[0;31mModuleNotFoundError\u001b[0m                       Traceback (most recent call last)",
      "\u001b[1;32m/Users/rikhoekstra/develop/republicgit/notebooks/attendacelist_batch.ipynb Cell 8\u001b[0m in \u001b[0;36m<cell line: 1>\u001b[0;34m()\u001b[0m\n\u001b[0;32m----> <a href='vscode-notebook-cell:/Users/rikhoekstra/develop/republicgit/notebooks/attendacelist_batch.ipynb#X20sZmlsZQ%3D%3D?line=0'>1</a>\u001b[0m \u001b[39mfrom\u001b[39;00m \u001b[39mrepublic\u001b[39;00m\u001b[39m.\u001b[39;00m\u001b[39melastic\u001b[39;00m \u001b[39mimport\u001b[39;00m republic_elasticsearch\n",
      "File \u001b[0;32m~/develop/republicgit/republic/elastic/republic_elasticsearch.py:11\u001b[0m, in \u001b[0;36m<module>\u001b[0;34m\u001b[0m\n\u001b[1;32m      9\u001b[0m \u001b[39mfrom\u001b[39;00m \u001b[39mrepublic\u001b[39;00m\u001b[39m.\u001b[39;00m\u001b[39mconfig\u001b[39;00m\u001b[39m.\u001b[39;00m\u001b[39mrepublic_config\u001b[39;00m \u001b[39mimport\u001b[39;00m get_base_config\n\u001b[1;32m     10\u001b[0m \u001b[39mfrom\u001b[39;00m \u001b[39mrepublic\u001b[39;00m\u001b[39m.\u001b[39;00m\u001b[39melastic\u001b[39;00m\u001b[39m.\u001b[39;00m\u001b[39mrepublic_retrieving\u001b[39;00m \u001b[39mimport\u001b[39;00m Retriever\n\u001b[0;32m---> 11\u001b[0m \u001b[39mfrom\u001b[39;00m \u001b[39mrepublic\u001b[39;00m\u001b[39m.\u001b[39;00m\u001b[39melastic\u001b[39;00m\u001b[39m.\u001b[39;00m\u001b[39mrepublic_indexing\u001b[39;00m \u001b[39mimport\u001b[39;00m Indexer\n\u001b[1;32m     12\u001b[0m \u001b[39mimport\u001b[39;00m \u001b[39msettings\u001b[39;00m \u001b[39mas\u001b[39;00m \u001b[39msettings\u001b[39;00m\n\u001b[1;32m     15\u001b[0m \u001b[39mdef\u001b[39;00m \u001b[39minitialize_es_anno\u001b[39m(host_type: \u001b[39mstr\u001b[39m \u001b[39m=\u001b[39m \u001b[39m'\u001b[39m\u001b[39minternal\u001b[39m\u001b[39m'\u001b[39m, timeout: \u001b[39mint\u001b[39m \u001b[39m=\u001b[39m \u001b[39m10\u001b[39m) \u001b[39m-\u001b[39m\u001b[39m>\u001b[39m Elasticsearch:\n",
      "File \u001b[0;32m~/develop/republicgit/republic/elastic/republic_indexing.py:8\u001b[0m, in \u001b[0;36m<module>\u001b[0;34m\u001b[0m\n\u001b[1;32m      6\u001b[0m \u001b[39mfrom\u001b[39;00m \u001b[39melasticsearch\u001b[39;00m \u001b[39mimport\u001b[39;00m Elasticsearch\n\u001b[1;32m      7\u001b[0m \u001b[39mfrom\u001b[39;00m \u001b[39melasticsearch\u001b[39;00m\u001b[39m.\u001b[39;00m\u001b[39mexceptions\u001b[39;00m \u001b[39mimport\u001b[39;00m ElasticsearchException\n\u001b[0;32m----> 8\u001b[0m \u001b[39mfrom\u001b[39;00m \u001b[39mfuzzy_search\u001b[39;00m\u001b[39m.\u001b[39;00m\u001b[39mfuzzy_match\u001b[39;00m \u001b[39mimport\u001b[39;00m PhraseMatch\n\u001b[1;32m     10\u001b[0m \u001b[39mimport\u001b[39;00m \u001b[39mrepublic\u001b[39;00m\u001b[39m.\u001b[39;00m\u001b[39mparser\u001b[39;00m\u001b[39m.\u001b[39;00m\u001b[39mlogical\u001b[39;00m\u001b[39m.\u001b[39;00m\u001b[39mpagexml_session_parser\u001b[39;00m \u001b[39mas\u001b[39;00m \u001b[39msession_parser\u001b[39;00m\n\u001b[1;32m     11\u001b[0m \u001b[39mimport\u001b[39;00m \u001b[39mrepublic\u001b[39;00m\u001b[39m.\u001b[39;00m\u001b[39mmodel\u001b[39;00m\u001b[39m.\u001b[39;00m\u001b[39mrepublic_document_model\u001b[39;00m \u001b[39mas\u001b[39;00m \u001b[39mrdm\u001b[39;00m\n",
      "\u001b[0;31mModuleNotFoundError\u001b[0m: No module named 'fuzzy_search.match'"
     ]
    }
   ],
   "source": [
    "from republic.elastic import republic_elasticsearch"
   ]
  },
  {
   "cell_type": "code",
   "execution_count": 14,
   "id": "39115268",
   "metadata": {},
   "outputs": [
    {
     "ename": "NameError",
     "evalue": "name 'republic_elasticsearch' is not defined",
     "output_type": "error",
     "traceback": [
      "\u001b[0;31m---------------------------------------------------------------------------\u001b[0m",
      "\u001b[0;31mNameError\u001b[0m                                 Traceback (most recent call last)",
      "\u001b[1;32m/Users/rikhoekstra/develop/republicgit/notebooks/attendacelist_batch.ipynb Cell 4\u001b[0m in \u001b[0;36m<cell line: 2>\u001b[0;34m()\u001b[0m\n\u001b[1;32m      <a href='vscode-notebook-cell:/Users/rikhoekstra/develop/republicgit/notebooks/attendacelist_batch.ipynb#X16sZmlsZQ%3D%3D?line=0'>1</a>\u001b[0m host_type \u001b[39m=\u001b[39m \u001b[39m'\u001b[39m\u001b[39mexternal\u001b[39m\u001b[39m'\u001b[39m\n\u001b[0;32m----> <a href='vscode-notebook-cell:/Users/rikhoekstra/develop/republicgit/notebooks/attendacelist_batch.ipynb#X16sZmlsZQ%3D%3D?line=1'>2</a>\u001b[0m rep_es \u001b[39m=\u001b[39m republic_elasticsearch\u001b[39m.\u001b[39minitialize_es(host_type\u001b[39m=\u001b[39mhost_type, timeout\u001b[39m=\u001b[39m\u001b[39m60\u001b[39m)\n",
      "\u001b[0;31mNameError\u001b[0m: name 'republic_elasticsearch' is not defined"
     ]
    }
   ],
   "source": [
    "host_type = 'external'\n",
    "rep_es = republic_elasticsearch.initialize_es(host_type=host_type, timeout=60)"
   ]
  },
  {
   "cell_type": "code",
   "execution_count": 8,
   "id": "2039073a-e827-4728-a48d-16a719fa0226",
   "metadata": {},
   "outputs": [],
   "source": [
    "import run_attendancelist"
   ]
  },
  {
   "cell_type": "code",
   "execution_count": 9,
   "id": "f83f6709-e8f3-4b59-af71-5f5a5b00a65d",
   "metadata": {},
   "outputs": [],
   "source": [
    "run_attendancelist.outdir = '/Users/rikhoekstra/republic_out/20230626'"
   ]
  },
  {
   "cell_type": "code",
   "execution_count": 10,
   "id": "42843916-f37c-4c9b-81f8-69b3b296bab4",
   "metadata": {},
   "outputs": [],
   "source": [
    "years = list(range(1739, 1750))"
   ]
  },
  {
   "cell_type": "code",
   "execution_count": 11,
   "id": "fff2b14e-befa-41e3-9732-7578784c7691",
   "metadata": {
    "scrolled": true
   },
   "outputs": [
    {
     "name": "stdout",
     "output_type": "stream",
     "text": [
      "logging to attendancelist.log\n"
     ]
    },
    {
     "ename": "AttributeError",
     "evalue": "'int' object has no attribute 'search'",
     "output_type": "error",
     "traceback": [
      "\u001b[0;31m---------------------------------------------------------------------------\u001b[0m",
      "\u001b[0;31mAttributeError\u001b[0m                            Traceback (most recent call last)",
      "File \u001b[0;32m<timed eval>:1\u001b[0m, in \u001b[0;36m<module>\u001b[0;34m\u001b[0m\n",
      "File \u001b[0;32m~/develop/republicgit/run_attendancelist.py:104\u001b[0m, in \u001b[0;36mrun\u001b[0;34m(es, year, outdir, tofile, verbose, source_index)\u001b[0m\n\u001b[1;32m     98\u001b[0m kwrds \u001b[39m=\u001b[39m {key: parse_delegates\u001b[39m.\u001b[39mnm_to_delen(key) \u001b[39mfor\u001b[39;00m key \u001b[39min\u001b[39;00m keywords}\n\u001b[1;32m     99\u001b[0m matchfinder \u001b[39m=\u001b[39m parse_delegates\u001b[39m.\u001b[39mFndMatch(year\u001b[39m=\u001b[39m\u001b[39m0\u001b[39m, rev_graph\u001b[39m=\u001b[39mtransposed_graph,\n\u001b[1;32m    100\u001b[0m                                    searcher\u001b[39m=\u001b[39mparse_delegates\u001b[39m.\u001b[39mherensearcher,\n\u001b[1;32m    101\u001b[0m                                    junksearcher\u001b[39m=\u001b[39mjunksweeper,\n\u001b[1;32m    102\u001b[0m                                 \u001b[39m#    found_delegates=found_delegates,\u001b[39;00m\n\u001b[1;32m    103\u001b[0m                                    df\u001b[39m=\u001b[39mabbreviated_delegates)\n\u001b[0;32m--> 104\u001b[0m runner \u001b[39m=\u001b[39m RunAll(es\u001b[39m=\u001b[39;49mes, \n\u001b[1;32m    105\u001b[0m                 year\u001b[39m=\u001b[39;49myear, \n\u001b[1;32m    106\u001b[0m                 source_index\u001b[39m=\u001b[39;49msource_index,\n\u001b[1;32m    107\u001b[0m                 matchfnd\u001b[39m=\u001b[39;49mmatchfinder)\n\u001b[1;32m    108\u001b[0m \u001b[39mif\u001b[39;00m verbose:\n\u001b[1;32m    109\u001b[0m     \u001b[39mprint\u001b[39m(\u001b[39m\"\u001b[39m\u001b[39m- gathering attendance lists\u001b[39m\u001b[39m\"\u001b[39m)\n",
      "File \u001b[0;32m~/develop/republicgit/run_attendancelist.py:164\u001b[0m, in \u001b[0;36mRunAll.__init__\u001b[0;34m(self, es, year, abbreviated_delegates, kwrds, found_delegates, matchfnd, ekwz, outdir, source_index)\u001b[0m\n\u001b[1;32m    162\u001b[0m start_logger(outdir, year)\n\u001b[1;32m    163\u001b[0m \u001b[39mself\u001b[39m\u001b[39m.\u001b[39myear \u001b[39m=\u001b[39m year\n\u001b[0;32m--> 164\u001b[0m \u001b[39mself\u001b[39m\u001b[39m.\u001b[39msearchobs \u001b[39m=\u001b[39m make_presentielijsten(es\u001b[39m=\u001b[39;49mes, year\u001b[39m=\u001b[39;49m\u001b[39mself\u001b[39;49m\u001b[39m.\u001b[39;49myear, index\u001b[39m=\u001b[39;49msource_index)\n\u001b[1;32m    165\u001b[0m logging\u001b[39m.\u001b[39minfo(\u001b[39mf\u001b[39m\u001b[39m'\u001b[39m\u001b[39myear: \u001b[39m\u001b[39m{\u001b[39;00myear\u001b[39m}\u001b[39;00m\u001b[39m, nr of attendancelists \u001b[39m\u001b[39m{\u001b[39;00m\u001b[39mlen\u001b[39m(\u001b[39mself\u001b[39m\u001b[39m.\u001b[39msearchobs)\u001b[39m}\u001b[39;00m\u001b[39m'\u001b[39m)\n\u001b[1;32m    166\u001b[0m \u001b[39mself\u001b[39m\u001b[39m.\u001b[39mjunksweeper \u001b[39m=\u001b[39m make_junksweeper(ekwz)\n",
      "File \u001b[0;32m~/develop/republicgit/republic/elastic/attendancelist_retrieval.py:10\u001b[0m, in \u001b[0;36mmake_presentielijsten\u001b[0;34m(es, year, index)\u001b[0m\n\u001b[1;32m      9\u001b[0m \u001b[39mdef\u001b[39;00m \u001b[39mmake_presentielijsten\u001b[39m(es: Elasticsearch, year: \u001b[39mint\u001b[39m, index: \u001b[39mstr\u001b[39m):\n\u001b[0;32m---> 10\u001b[0m     \u001b[39mreturn\u001b[39;00m get_presentielijsten(es\u001b[39m=\u001b[39;49mes, year\u001b[39m=\u001b[39;49myear, index\u001b[39m=\u001b[39;49mindex)\n",
      "File \u001b[0;32m~/develop/republicgit/republic/elastic/attendancelist_retrieval.py:41\u001b[0m, in \u001b[0;36mget_presentielijsten\u001b[0;34m(es, year, index)\u001b[0m\n\u001b[1;32m     39\u001b[0m size \u001b[39m=\u001b[39m \u001b[39m5000\u001b[39m\n\u001b[1;32m     40\u001b[0m sort \u001b[39m=\u001b[39m [\u001b[39m\"\u001b[39m\u001b[39m_id\u001b[39m\u001b[39m\"\u001b[39m]\n\u001b[0;32m---> 41\u001b[0m results \u001b[39m=\u001b[39m query_es(es, index, query, size\u001b[39m=\u001b[39;49msize, sort\u001b[39m=\u001b[39;49msort)\n\u001b[1;32m     43\u001b[0m presentielijsten \u001b[39m=\u001b[39m {}\n\u001b[1;32m     44\u001b[0m \u001b[39mfor\u001b[39;00m hit \u001b[39min\u001b[39;00m results[\u001b[39m'\u001b[39m\u001b[39mhits\u001b[39m\u001b[39m'\u001b[39m][\u001b[39m'\u001b[39m\u001b[39mhits\u001b[39m\u001b[39m'\u001b[39m]:\n",
      "File \u001b[0;32m~/develop/republicgit/republic/elastic/attendancelist_retrieval.py:28\u001b[0m, in \u001b[0;36mquery_es\u001b[0;34m(es, index, query, size, sort, aggs)\u001b[0m\n\u001b[1;32m     26\u001b[0m     \u001b[39mreturn\u001b[39;00m es\u001b[39m.\u001b[39msearch(index\u001b[39m=\u001b[39mindex, body\u001b[39m=\u001b[39mbody)\n\u001b[1;32m     27\u001b[0m \u001b[39melse\u001b[39;00m:\n\u001b[0;32m---> 28\u001b[0m     \u001b[39mreturn\u001b[39;00m es\u001b[39m.\u001b[39;49msearch(index\u001b[39m=\u001b[39mindex, query\u001b[39m=\u001b[39mquery, size\u001b[39m=\u001b[39msize, sort\u001b[39m=\u001b[39msort, aggs\u001b[39m=\u001b[39maggs)\n",
      "\u001b[0;31mAttributeError\u001b[0m: 'int' object has no attribute 'search'"
     ]
    },
    {
     "name": "stdout",
     "output_type": "stream",
     "text": [
      "logging to attendancelist.log\n"
     ]
    },
    {
     "ename": "AttributeError",
     "evalue": "'int' object has no attribute 'search'",
     "output_type": "error",
     "traceback": [
      "\u001b[0;31m---------------------------------------------------------------------------\u001b[0m",
      "\u001b[0;31mAttributeError\u001b[0m                            Traceback (most recent call last)",
      "File \u001b[0;32m<timed eval>:1\u001b[0m, in \u001b[0;36m<module>\u001b[0;34m\u001b[0m\n",
      "File \u001b[0;32m~/develop/republicgit/run_attendancelist.py:104\u001b[0m, in \u001b[0;36mrun\u001b[0;34m(es, year, outdir, tofile, verbose, source_index)\u001b[0m\n\u001b[1;32m     98\u001b[0m kwrds \u001b[39m=\u001b[39m {key: parse_delegates\u001b[39m.\u001b[39mnm_to_delen(key) \u001b[39mfor\u001b[39;00m key \u001b[39min\u001b[39;00m keywords}\n\u001b[1;32m     99\u001b[0m matchfinder \u001b[39m=\u001b[39m parse_delegates\u001b[39m.\u001b[39mFndMatch(year\u001b[39m=\u001b[39m\u001b[39m0\u001b[39m, rev_graph\u001b[39m=\u001b[39mtransposed_graph,\n\u001b[1;32m    100\u001b[0m                                    searcher\u001b[39m=\u001b[39mparse_delegates\u001b[39m.\u001b[39mherensearcher,\n\u001b[1;32m    101\u001b[0m                                    junksearcher\u001b[39m=\u001b[39mjunksweeper,\n\u001b[1;32m    102\u001b[0m                                 \u001b[39m#    found_delegates=found_delegates,\u001b[39;00m\n\u001b[1;32m    103\u001b[0m                                    df\u001b[39m=\u001b[39mabbreviated_delegates)\n\u001b[0;32m--> 104\u001b[0m runner \u001b[39m=\u001b[39m RunAll(es\u001b[39m=\u001b[39;49mes, \n\u001b[1;32m    105\u001b[0m                 year\u001b[39m=\u001b[39;49myear, \n\u001b[1;32m    106\u001b[0m                 source_index\u001b[39m=\u001b[39;49msource_index,\n\u001b[1;32m    107\u001b[0m                 matchfnd\u001b[39m=\u001b[39;49mmatchfinder)\n\u001b[1;32m    108\u001b[0m \u001b[39mif\u001b[39;00m verbose:\n\u001b[1;32m    109\u001b[0m     \u001b[39mprint\u001b[39m(\u001b[39m\"\u001b[39m\u001b[39m- gathering attendance lists\u001b[39m\u001b[39m\"\u001b[39m)\n",
      "File \u001b[0;32m~/develop/republicgit/run_attendancelist.py:164\u001b[0m, in \u001b[0;36mRunAll.__init__\u001b[0;34m(self, es, year, abbreviated_delegates, kwrds, found_delegates, matchfnd, ekwz, outdir, source_index)\u001b[0m\n\u001b[1;32m    162\u001b[0m start_logger(outdir, year)\n\u001b[1;32m    163\u001b[0m \u001b[39mself\u001b[39m\u001b[39m.\u001b[39myear \u001b[39m=\u001b[39m year\n\u001b[0;32m--> 164\u001b[0m \u001b[39mself\u001b[39m\u001b[39m.\u001b[39msearchobs \u001b[39m=\u001b[39m make_presentielijsten(es\u001b[39m=\u001b[39;49mes, year\u001b[39m=\u001b[39;49m\u001b[39mself\u001b[39;49m\u001b[39m.\u001b[39;49myear, index\u001b[39m=\u001b[39;49msource_index)\n\u001b[1;32m    165\u001b[0m logging\u001b[39m.\u001b[39minfo(\u001b[39mf\u001b[39m\u001b[39m'\u001b[39m\u001b[39myear: \u001b[39m\u001b[39m{\u001b[39;00myear\u001b[39m}\u001b[39;00m\u001b[39m, nr of attendancelists \u001b[39m\u001b[39m{\u001b[39;00m\u001b[39mlen\u001b[39m(\u001b[39mself\u001b[39m\u001b[39m.\u001b[39msearchobs)\u001b[39m}\u001b[39;00m\u001b[39m'\u001b[39m)\n\u001b[1;32m    166\u001b[0m \u001b[39mself\u001b[39m\u001b[39m.\u001b[39mjunksweeper \u001b[39m=\u001b[39m make_junksweeper(ekwz)\n",
      "File \u001b[0;32m~/develop/republicgit/republic/elastic/attendancelist_retrieval.py:10\u001b[0m, in \u001b[0;36mmake_presentielijsten\u001b[0;34m(es, year, index)\u001b[0m\n\u001b[1;32m      9\u001b[0m \u001b[39mdef\u001b[39;00m \u001b[39mmake_presentielijsten\u001b[39m(es: Elasticsearch, year: \u001b[39mint\u001b[39m, index: \u001b[39mstr\u001b[39m):\n\u001b[0;32m---> 10\u001b[0m     \u001b[39mreturn\u001b[39;00m get_presentielijsten(es\u001b[39m=\u001b[39;49mes, year\u001b[39m=\u001b[39;49myear, index\u001b[39m=\u001b[39;49mindex)\n",
      "File \u001b[0;32m~/develop/republicgit/republic/elastic/attendancelist_retrieval.py:41\u001b[0m, in \u001b[0;36mget_presentielijsten\u001b[0;34m(es, year, index)\u001b[0m\n\u001b[1;32m     39\u001b[0m size \u001b[39m=\u001b[39m \u001b[39m5000\u001b[39m\n\u001b[1;32m     40\u001b[0m sort \u001b[39m=\u001b[39m [\u001b[39m\"\u001b[39m\u001b[39m_id\u001b[39m\u001b[39m\"\u001b[39m]\n\u001b[0;32m---> 41\u001b[0m results \u001b[39m=\u001b[39m query_es(es, index, query, size\u001b[39m=\u001b[39;49msize, sort\u001b[39m=\u001b[39;49msort)\n\u001b[1;32m     43\u001b[0m presentielijsten \u001b[39m=\u001b[39m {}\n\u001b[1;32m     44\u001b[0m \u001b[39mfor\u001b[39;00m hit \u001b[39min\u001b[39;00m results[\u001b[39m'\u001b[39m\u001b[39mhits\u001b[39m\u001b[39m'\u001b[39m][\u001b[39m'\u001b[39m\u001b[39mhits\u001b[39m\u001b[39m'\u001b[39m]:\n",
      "File \u001b[0;32m~/develop/republicgit/republic/elastic/attendancelist_retrieval.py:28\u001b[0m, in \u001b[0;36mquery_es\u001b[0;34m(es, index, query, size, sort, aggs)\u001b[0m\n\u001b[1;32m     26\u001b[0m     \u001b[39mreturn\u001b[39;00m es\u001b[39m.\u001b[39msearch(index\u001b[39m=\u001b[39mindex, body\u001b[39m=\u001b[39mbody)\n\u001b[1;32m     27\u001b[0m \u001b[39melse\u001b[39;00m:\n\u001b[0;32m---> 28\u001b[0m     \u001b[39mreturn\u001b[39;00m es\u001b[39m.\u001b[39;49msearch(index\u001b[39m=\u001b[39mindex, query\u001b[39m=\u001b[39mquery, size\u001b[39m=\u001b[39msize, sort\u001b[39m=\u001b[39msort, aggs\u001b[39m=\u001b[39maggs)\n",
      "\u001b[0;31mAttributeError\u001b[0m: 'int' object has no attribute 'search'"
     ]
    },
    {
     "name": "stdout",
     "output_type": "stream",
     "text": [
      "logging to attendancelist.log\n"
     ]
    },
    {
     "ename": "AttributeError",
     "evalue": "'int' object has no attribute 'search'",
     "output_type": "error",
     "traceback": [
      "\u001b[0;31m---------------------------------------------------------------------------\u001b[0m",
      "\u001b[0;31mAttributeError\u001b[0m                            Traceback (most recent call last)",
      "File \u001b[0;32m<timed eval>:1\u001b[0m, in \u001b[0;36m<module>\u001b[0;34m\u001b[0m\n",
      "File \u001b[0;32m~/develop/republicgit/run_attendancelist.py:104\u001b[0m, in \u001b[0;36mrun\u001b[0;34m(es, year, outdir, tofile, verbose, source_index)\u001b[0m\n\u001b[1;32m     98\u001b[0m kwrds \u001b[39m=\u001b[39m {key: parse_delegates\u001b[39m.\u001b[39mnm_to_delen(key) \u001b[39mfor\u001b[39;00m key \u001b[39min\u001b[39;00m keywords}\n\u001b[1;32m     99\u001b[0m matchfinder \u001b[39m=\u001b[39m parse_delegates\u001b[39m.\u001b[39mFndMatch(year\u001b[39m=\u001b[39m\u001b[39m0\u001b[39m, rev_graph\u001b[39m=\u001b[39mtransposed_graph,\n\u001b[1;32m    100\u001b[0m                                    searcher\u001b[39m=\u001b[39mparse_delegates\u001b[39m.\u001b[39mherensearcher,\n\u001b[1;32m    101\u001b[0m                                    junksearcher\u001b[39m=\u001b[39mjunksweeper,\n\u001b[1;32m    102\u001b[0m                                 \u001b[39m#    found_delegates=found_delegates,\u001b[39;00m\n\u001b[1;32m    103\u001b[0m                                    df\u001b[39m=\u001b[39mabbreviated_delegates)\n\u001b[0;32m--> 104\u001b[0m runner \u001b[39m=\u001b[39m RunAll(es\u001b[39m=\u001b[39;49mes, \n\u001b[1;32m    105\u001b[0m                 year\u001b[39m=\u001b[39;49myear, \n\u001b[1;32m    106\u001b[0m                 source_index\u001b[39m=\u001b[39;49msource_index,\n\u001b[1;32m    107\u001b[0m                 matchfnd\u001b[39m=\u001b[39;49mmatchfinder)\n\u001b[1;32m    108\u001b[0m \u001b[39mif\u001b[39;00m verbose:\n\u001b[1;32m    109\u001b[0m     \u001b[39mprint\u001b[39m(\u001b[39m\"\u001b[39m\u001b[39m- gathering attendance lists\u001b[39m\u001b[39m\"\u001b[39m)\n",
      "File \u001b[0;32m~/develop/republicgit/run_attendancelist.py:164\u001b[0m, in \u001b[0;36mRunAll.__init__\u001b[0;34m(self, es, year, abbreviated_delegates, kwrds, found_delegates, matchfnd, ekwz, outdir, source_index)\u001b[0m\n\u001b[1;32m    162\u001b[0m start_logger(outdir, year)\n\u001b[1;32m    163\u001b[0m \u001b[39mself\u001b[39m\u001b[39m.\u001b[39myear \u001b[39m=\u001b[39m year\n\u001b[0;32m--> 164\u001b[0m \u001b[39mself\u001b[39m\u001b[39m.\u001b[39msearchobs \u001b[39m=\u001b[39m make_presentielijsten(es\u001b[39m=\u001b[39;49mes, year\u001b[39m=\u001b[39;49m\u001b[39mself\u001b[39;49m\u001b[39m.\u001b[39;49myear, index\u001b[39m=\u001b[39;49msource_index)\n\u001b[1;32m    165\u001b[0m logging\u001b[39m.\u001b[39minfo(\u001b[39mf\u001b[39m\u001b[39m'\u001b[39m\u001b[39myear: \u001b[39m\u001b[39m{\u001b[39;00myear\u001b[39m}\u001b[39;00m\u001b[39m, nr of attendancelists \u001b[39m\u001b[39m{\u001b[39;00m\u001b[39mlen\u001b[39m(\u001b[39mself\u001b[39m\u001b[39m.\u001b[39msearchobs)\u001b[39m}\u001b[39;00m\u001b[39m'\u001b[39m)\n\u001b[1;32m    166\u001b[0m \u001b[39mself\u001b[39m\u001b[39m.\u001b[39mjunksweeper \u001b[39m=\u001b[39m make_junksweeper(ekwz)\n",
      "File \u001b[0;32m~/develop/republicgit/republic/elastic/attendancelist_retrieval.py:10\u001b[0m, in \u001b[0;36mmake_presentielijsten\u001b[0;34m(es, year, index)\u001b[0m\n\u001b[1;32m      9\u001b[0m \u001b[39mdef\u001b[39;00m \u001b[39mmake_presentielijsten\u001b[39m(es: Elasticsearch, year: \u001b[39mint\u001b[39m, index: \u001b[39mstr\u001b[39m):\n\u001b[0;32m---> 10\u001b[0m     \u001b[39mreturn\u001b[39;00m get_presentielijsten(es\u001b[39m=\u001b[39;49mes, year\u001b[39m=\u001b[39;49myear, index\u001b[39m=\u001b[39;49mindex)\n",
      "File \u001b[0;32m~/develop/republicgit/republic/elastic/attendancelist_retrieval.py:41\u001b[0m, in \u001b[0;36mget_presentielijsten\u001b[0;34m(es, year, index)\u001b[0m\n\u001b[1;32m     39\u001b[0m size \u001b[39m=\u001b[39m \u001b[39m5000\u001b[39m\n\u001b[1;32m     40\u001b[0m sort \u001b[39m=\u001b[39m [\u001b[39m\"\u001b[39m\u001b[39m_id\u001b[39m\u001b[39m\"\u001b[39m]\n\u001b[0;32m---> 41\u001b[0m results \u001b[39m=\u001b[39m query_es(es, index, query, size\u001b[39m=\u001b[39;49msize, sort\u001b[39m=\u001b[39;49msort)\n\u001b[1;32m     43\u001b[0m presentielijsten \u001b[39m=\u001b[39m {}\n\u001b[1;32m     44\u001b[0m \u001b[39mfor\u001b[39;00m hit \u001b[39min\u001b[39;00m results[\u001b[39m'\u001b[39m\u001b[39mhits\u001b[39m\u001b[39m'\u001b[39m][\u001b[39m'\u001b[39m\u001b[39mhits\u001b[39m\u001b[39m'\u001b[39m]:\n",
      "File \u001b[0;32m~/develop/republicgit/republic/elastic/attendancelist_retrieval.py:28\u001b[0m, in \u001b[0;36mquery_es\u001b[0;34m(es, index, query, size, sort, aggs)\u001b[0m\n\u001b[1;32m     26\u001b[0m     \u001b[39mreturn\u001b[39;00m es\u001b[39m.\u001b[39msearch(index\u001b[39m=\u001b[39mindex, body\u001b[39m=\u001b[39mbody)\n\u001b[1;32m     27\u001b[0m \u001b[39melse\u001b[39;00m:\n\u001b[0;32m---> 28\u001b[0m     \u001b[39mreturn\u001b[39;00m es\u001b[39m.\u001b[39;49msearch(index\u001b[39m=\u001b[39mindex, query\u001b[39m=\u001b[39mquery, size\u001b[39m=\u001b[39msize, sort\u001b[39m=\u001b[39msort, aggs\u001b[39m=\u001b[39maggs)\n",
      "\u001b[0;31mAttributeError\u001b[0m: 'int' object has no attribute 'search'"
     ]
    },
    {
     "name": "stdout",
     "output_type": "stream",
     "text": [
      "logging to attendancelist.log\n"
     ]
    },
    {
     "ename": "AttributeError",
     "evalue": "'int' object has no attribute 'search'",
     "output_type": "error",
     "traceback": [
      "\u001b[0;31m---------------------------------------------------------------------------\u001b[0m",
      "\u001b[0;31mAttributeError\u001b[0m                            Traceback (most recent call last)",
      "File \u001b[0;32m<timed eval>:1\u001b[0m, in \u001b[0;36m<module>\u001b[0;34m\u001b[0m\n",
      "File \u001b[0;32m~/develop/republicgit/run_attendancelist.py:104\u001b[0m, in \u001b[0;36mrun\u001b[0;34m(es, year, outdir, tofile, verbose, source_index)\u001b[0m\n\u001b[1;32m     98\u001b[0m kwrds \u001b[39m=\u001b[39m {key: parse_delegates\u001b[39m.\u001b[39mnm_to_delen(key) \u001b[39mfor\u001b[39;00m key \u001b[39min\u001b[39;00m keywords}\n\u001b[1;32m     99\u001b[0m matchfinder \u001b[39m=\u001b[39m parse_delegates\u001b[39m.\u001b[39mFndMatch(year\u001b[39m=\u001b[39m\u001b[39m0\u001b[39m, rev_graph\u001b[39m=\u001b[39mtransposed_graph,\n\u001b[1;32m    100\u001b[0m                                    searcher\u001b[39m=\u001b[39mparse_delegates\u001b[39m.\u001b[39mherensearcher,\n\u001b[1;32m    101\u001b[0m                                    junksearcher\u001b[39m=\u001b[39mjunksweeper,\n\u001b[1;32m    102\u001b[0m                                 \u001b[39m#    found_delegates=found_delegates,\u001b[39;00m\n\u001b[1;32m    103\u001b[0m                                    df\u001b[39m=\u001b[39mabbreviated_delegates)\n\u001b[0;32m--> 104\u001b[0m runner \u001b[39m=\u001b[39m RunAll(es\u001b[39m=\u001b[39;49mes, \n\u001b[1;32m    105\u001b[0m                 year\u001b[39m=\u001b[39;49myear, \n\u001b[1;32m    106\u001b[0m                 source_index\u001b[39m=\u001b[39;49msource_index,\n\u001b[1;32m    107\u001b[0m                 matchfnd\u001b[39m=\u001b[39;49mmatchfinder)\n\u001b[1;32m    108\u001b[0m \u001b[39mif\u001b[39;00m verbose:\n\u001b[1;32m    109\u001b[0m     \u001b[39mprint\u001b[39m(\u001b[39m\"\u001b[39m\u001b[39m- gathering attendance lists\u001b[39m\u001b[39m\"\u001b[39m)\n",
      "File \u001b[0;32m~/develop/republicgit/run_attendancelist.py:164\u001b[0m, in \u001b[0;36mRunAll.__init__\u001b[0;34m(self, es, year, abbreviated_delegates, kwrds, found_delegates, matchfnd, ekwz, outdir, source_index)\u001b[0m\n\u001b[1;32m    162\u001b[0m start_logger(outdir, year)\n\u001b[1;32m    163\u001b[0m \u001b[39mself\u001b[39m\u001b[39m.\u001b[39myear \u001b[39m=\u001b[39m year\n\u001b[0;32m--> 164\u001b[0m \u001b[39mself\u001b[39m\u001b[39m.\u001b[39msearchobs \u001b[39m=\u001b[39m make_presentielijsten(es\u001b[39m=\u001b[39;49mes, year\u001b[39m=\u001b[39;49m\u001b[39mself\u001b[39;49m\u001b[39m.\u001b[39;49myear, index\u001b[39m=\u001b[39;49msource_index)\n\u001b[1;32m    165\u001b[0m logging\u001b[39m.\u001b[39minfo(\u001b[39mf\u001b[39m\u001b[39m'\u001b[39m\u001b[39myear: \u001b[39m\u001b[39m{\u001b[39;00myear\u001b[39m}\u001b[39;00m\u001b[39m, nr of attendancelists \u001b[39m\u001b[39m{\u001b[39;00m\u001b[39mlen\u001b[39m(\u001b[39mself\u001b[39m\u001b[39m.\u001b[39msearchobs)\u001b[39m}\u001b[39;00m\u001b[39m'\u001b[39m)\n\u001b[1;32m    166\u001b[0m \u001b[39mself\u001b[39m\u001b[39m.\u001b[39mjunksweeper \u001b[39m=\u001b[39m make_junksweeper(ekwz)\n",
      "File \u001b[0;32m~/develop/republicgit/republic/elastic/attendancelist_retrieval.py:10\u001b[0m, in \u001b[0;36mmake_presentielijsten\u001b[0;34m(es, year, index)\u001b[0m\n\u001b[1;32m      9\u001b[0m \u001b[39mdef\u001b[39;00m \u001b[39mmake_presentielijsten\u001b[39m(es: Elasticsearch, year: \u001b[39mint\u001b[39m, index: \u001b[39mstr\u001b[39m):\n\u001b[0;32m---> 10\u001b[0m     \u001b[39mreturn\u001b[39;00m get_presentielijsten(es\u001b[39m=\u001b[39;49mes, year\u001b[39m=\u001b[39;49myear, index\u001b[39m=\u001b[39;49mindex)\n",
      "File \u001b[0;32m~/develop/republicgit/republic/elastic/attendancelist_retrieval.py:41\u001b[0m, in \u001b[0;36mget_presentielijsten\u001b[0;34m(es, year, index)\u001b[0m\n\u001b[1;32m     39\u001b[0m size \u001b[39m=\u001b[39m \u001b[39m5000\u001b[39m\n\u001b[1;32m     40\u001b[0m sort \u001b[39m=\u001b[39m [\u001b[39m\"\u001b[39m\u001b[39m_id\u001b[39m\u001b[39m\"\u001b[39m]\n\u001b[0;32m---> 41\u001b[0m results \u001b[39m=\u001b[39m query_es(es, index, query, size\u001b[39m=\u001b[39;49msize, sort\u001b[39m=\u001b[39;49msort)\n\u001b[1;32m     43\u001b[0m presentielijsten \u001b[39m=\u001b[39m {}\n\u001b[1;32m     44\u001b[0m \u001b[39mfor\u001b[39;00m hit \u001b[39min\u001b[39;00m results[\u001b[39m'\u001b[39m\u001b[39mhits\u001b[39m\u001b[39m'\u001b[39m][\u001b[39m'\u001b[39m\u001b[39mhits\u001b[39m\u001b[39m'\u001b[39m]:\n",
      "File \u001b[0;32m~/develop/republicgit/republic/elastic/attendancelist_retrieval.py:28\u001b[0m, in \u001b[0;36mquery_es\u001b[0;34m(es, index, query, size, sort, aggs)\u001b[0m\n\u001b[1;32m     26\u001b[0m     \u001b[39mreturn\u001b[39;00m es\u001b[39m.\u001b[39msearch(index\u001b[39m=\u001b[39mindex, body\u001b[39m=\u001b[39mbody)\n\u001b[1;32m     27\u001b[0m \u001b[39melse\u001b[39;00m:\n\u001b[0;32m---> 28\u001b[0m     \u001b[39mreturn\u001b[39;00m es\u001b[39m.\u001b[39;49msearch(index\u001b[39m=\u001b[39mindex, query\u001b[39m=\u001b[39mquery, size\u001b[39m=\u001b[39msize, sort\u001b[39m=\u001b[39msort, aggs\u001b[39m=\u001b[39maggs)\n",
      "\u001b[0;31mAttributeError\u001b[0m: 'int' object has no attribute 'search'"
     ]
    },
    {
     "name": "stdout",
     "output_type": "stream",
     "text": [
      "logging to attendancelist.log\n"
     ]
    },
    {
     "ename": "AttributeError",
     "evalue": "'int' object has no attribute 'search'",
     "output_type": "error",
     "traceback": [
      "\u001b[0;31m---------------------------------------------------------------------------\u001b[0m",
      "\u001b[0;31mAttributeError\u001b[0m                            Traceback (most recent call last)",
      "File \u001b[0;32m<timed eval>:1\u001b[0m, in \u001b[0;36m<module>\u001b[0;34m\u001b[0m\n",
      "File \u001b[0;32m~/develop/republicgit/run_attendancelist.py:104\u001b[0m, in \u001b[0;36mrun\u001b[0;34m(es, year, outdir, tofile, verbose, source_index)\u001b[0m\n\u001b[1;32m     98\u001b[0m kwrds \u001b[39m=\u001b[39m {key: parse_delegates\u001b[39m.\u001b[39mnm_to_delen(key) \u001b[39mfor\u001b[39;00m key \u001b[39min\u001b[39;00m keywords}\n\u001b[1;32m     99\u001b[0m matchfinder \u001b[39m=\u001b[39m parse_delegates\u001b[39m.\u001b[39mFndMatch(year\u001b[39m=\u001b[39m\u001b[39m0\u001b[39m, rev_graph\u001b[39m=\u001b[39mtransposed_graph,\n\u001b[1;32m    100\u001b[0m                                    searcher\u001b[39m=\u001b[39mparse_delegates\u001b[39m.\u001b[39mherensearcher,\n\u001b[1;32m    101\u001b[0m                                    junksearcher\u001b[39m=\u001b[39mjunksweeper,\n\u001b[1;32m    102\u001b[0m                                 \u001b[39m#    found_delegates=found_delegates,\u001b[39;00m\n\u001b[1;32m    103\u001b[0m                                    df\u001b[39m=\u001b[39mabbreviated_delegates)\n\u001b[0;32m--> 104\u001b[0m runner \u001b[39m=\u001b[39m RunAll(es\u001b[39m=\u001b[39;49mes, \n\u001b[1;32m    105\u001b[0m                 year\u001b[39m=\u001b[39;49myear, \n\u001b[1;32m    106\u001b[0m                 source_index\u001b[39m=\u001b[39;49msource_index,\n\u001b[1;32m    107\u001b[0m                 matchfnd\u001b[39m=\u001b[39;49mmatchfinder)\n\u001b[1;32m    108\u001b[0m \u001b[39mif\u001b[39;00m verbose:\n\u001b[1;32m    109\u001b[0m     \u001b[39mprint\u001b[39m(\u001b[39m\"\u001b[39m\u001b[39m- gathering attendance lists\u001b[39m\u001b[39m\"\u001b[39m)\n",
      "File \u001b[0;32m~/develop/republicgit/run_attendancelist.py:164\u001b[0m, in \u001b[0;36mRunAll.__init__\u001b[0;34m(self, es, year, abbreviated_delegates, kwrds, found_delegates, matchfnd, ekwz, outdir, source_index)\u001b[0m\n\u001b[1;32m    162\u001b[0m start_logger(outdir, year)\n\u001b[1;32m    163\u001b[0m \u001b[39mself\u001b[39m\u001b[39m.\u001b[39myear \u001b[39m=\u001b[39m year\n\u001b[0;32m--> 164\u001b[0m \u001b[39mself\u001b[39m\u001b[39m.\u001b[39msearchobs \u001b[39m=\u001b[39m make_presentielijsten(es\u001b[39m=\u001b[39;49mes, year\u001b[39m=\u001b[39;49m\u001b[39mself\u001b[39;49m\u001b[39m.\u001b[39;49myear, index\u001b[39m=\u001b[39;49msource_index)\n\u001b[1;32m    165\u001b[0m logging\u001b[39m.\u001b[39minfo(\u001b[39mf\u001b[39m\u001b[39m'\u001b[39m\u001b[39myear: \u001b[39m\u001b[39m{\u001b[39;00myear\u001b[39m}\u001b[39;00m\u001b[39m, nr of attendancelists \u001b[39m\u001b[39m{\u001b[39;00m\u001b[39mlen\u001b[39m(\u001b[39mself\u001b[39m\u001b[39m.\u001b[39msearchobs)\u001b[39m}\u001b[39;00m\u001b[39m'\u001b[39m)\n\u001b[1;32m    166\u001b[0m \u001b[39mself\u001b[39m\u001b[39m.\u001b[39mjunksweeper \u001b[39m=\u001b[39m make_junksweeper(ekwz)\n",
      "File \u001b[0;32m~/develop/republicgit/republic/elastic/attendancelist_retrieval.py:10\u001b[0m, in \u001b[0;36mmake_presentielijsten\u001b[0;34m(es, year, index)\u001b[0m\n\u001b[1;32m      9\u001b[0m \u001b[39mdef\u001b[39;00m \u001b[39mmake_presentielijsten\u001b[39m(es: Elasticsearch, year: \u001b[39mint\u001b[39m, index: \u001b[39mstr\u001b[39m):\n\u001b[0;32m---> 10\u001b[0m     \u001b[39mreturn\u001b[39;00m get_presentielijsten(es\u001b[39m=\u001b[39;49mes, year\u001b[39m=\u001b[39;49myear, index\u001b[39m=\u001b[39;49mindex)\n",
      "File \u001b[0;32m~/develop/republicgit/republic/elastic/attendancelist_retrieval.py:41\u001b[0m, in \u001b[0;36mget_presentielijsten\u001b[0;34m(es, year, index)\u001b[0m\n\u001b[1;32m     39\u001b[0m size \u001b[39m=\u001b[39m \u001b[39m5000\u001b[39m\n\u001b[1;32m     40\u001b[0m sort \u001b[39m=\u001b[39m [\u001b[39m\"\u001b[39m\u001b[39m_id\u001b[39m\u001b[39m\"\u001b[39m]\n\u001b[0;32m---> 41\u001b[0m results \u001b[39m=\u001b[39m query_es(es, index, query, size\u001b[39m=\u001b[39;49msize, sort\u001b[39m=\u001b[39;49msort)\n\u001b[1;32m     43\u001b[0m presentielijsten \u001b[39m=\u001b[39m {}\n\u001b[1;32m     44\u001b[0m \u001b[39mfor\u001b[39;00m hit \u001b[39min\u001b[39;00m results[\u001b[39m'\u001b[39m\u001b[39mhits\u001b[39m\u001b[39m'\u001b[39m][\u001b[39m'\u001b[39m\u001b[39mhits\u001b[39m\u001b[39m'\u001b[39m]:\n",
      "File \u001b[0;32m~/develop/republicgit/republic/elastic/attendancelist_retrieval.py:28\u001b[0m, in \u001b[0;36mquery_es\u001b[0;34m(es, index, query, size, sort, aggs)\u001b[0m\n\u001b[1;32m     26\u001b[0m     \u001b[39mreturn\u001b[39;00m es\u001b[39m.\u001b[39msearch(index\u001b[39m=\u001b[39mindex, body\u001b[39m=\u001b[39mbody)\n\u001b[1;32m     27\u001b[0m \u001b[39melse\u001b[39;00m:\n\u001b[0;32m---> 28\u001b[0m     \u001b[39mreturn\u001b[39;00m es\u001b[39m.\u001b[39;49msearch(index\u001b[39m=\u001b[39mindex, query\u001b[39m=\u001b[39mquery, size\u001b[39m=\u001b[39msize, sort\u001b[39m=\u001b[39msort, aggs\u001b[39m=\u001b[39maggs)\n",
      "\u001b[0;31mAttributeError\u001b[0m: 'int' object has no attribute 'search'"
     ]
    },
    {
     "name": "stdout",
     "output_type": "stream",
     "text": [
      "logging to attendancelist.log\n"
     ]
    },
    {
     "ename": "AttributeError",
     "evalue": "'int' object has no attribute 'search'",
     "output_type": "error",
     "traceback": [
      "\u001b[0;31m---------------------------------------------------------------------------\u001b[0m",
      "\u001b[0;31mAttributeError\u001b[0m                            Traceback (most recent call last)",
      "File \u001b[0;32m<timed eval>:1\u001b[0m, in \u001b[0;36m<module>\u001b[0;34m\u001b[0m\n",
      "File \u001b[0;32m~/develop/republicgit/run_attendancelist.py:104\u001b[0m, in \u001b[0;36mrun\u001b[0;34m(es, year, outdir, tofile, verbose, source_index)\u001b[0m\n\u001b[1;32m     98\u001b[0m kwrds \u001b[39m=\u001b[39m {key: parse_delegates\u001b[39m.\u001b[39mnm_to_delen(key) \u001b[39mfor\u001b[39;00m key \u001b[39min\u001b[39;00m keywords}\n\u001b[1;32m     99\u001b[0m matchfinder \u001b[39m=\u001b[39m parse_delegates\u001b[39m.\u001b[39mFndMatch(year\u001b[39m=\u001b[39m\u001b[39m0\u001b[39m, rev_graph\u001b[39m=\u001b[39mtransposed_graph,\n\u001b[1;32m    100\u001b[0m                                    searcher\u001b[39m=\u001b[39mparse_delegates\u001b[39m.\u001b[39mherensearcher,\n\u001b[1;32m    101\u001b[0m                                    junksearcher\u001b[39m=\u001b[39mjunksweeper,\n\u001b[1;32m    102\u001b[0m                                 \u001b[39m#    found_delegates=found_delegates,\u001b[39;00m\n\u001b[1;32m    103\u001b[0m                                    df\u001b[39m=\u001b[39mabbreviated_delegates)\n\u001b[0;32m--> 104\u001b[0m runner \u001b[39m=\u001b[39m RunAll(es\u001b[39m=\u001b[39;49mes, \n\u001b[1;32m    105\u001b[0m                 year\u001b[39m=\u001b[39;49myear, \n\u001b[1;32m    106\u001b[0m                 source_index\u001b[39m=\u001b[39;49msource_index,\n\u001b[1;32m    107\u001b[0m                 matchfnd\u001b[39m=\u001b[39;49mmatchfinder)\n\u001b[1;32m    108\u001b[0m \u001b[39mif\u001b[39;00m verbose:\n\u001b[1;32m    109\u001b[0m     \u001b[39mprint\u001b[39m(\u001b[39m\"\u001b[39m\u001b[39m- gathering attendance lists\u001b[39m\u001b[39m\"\u001b[39m)\n",
      "File \u001b[0;32m~/develop/republicgit/run_attendancelist.py:164\u001b[0m, in \u001b[0;36mRunAll.__init__\u001b[0;34m(self, es, year, abbreviated_delegates, kwrds, found_delegates, matchfnd, ekwz, outdir, source_index)\u001b[0m\n\u001b[1;32m    162\u001b[0m start_logger(outdir, year)\n\u001b[1;32m    163\u001b[0m \u001b[39mself\u001b[39m\u001b[39m.\u001b[39myear \u001b[39m=\u001b[39m year\n\u001b[0;32m--> 164\u001b[0m \u001b[39mself\u001b[39m\u001b[39m.\u001b[39msearchobs \u001b[39m=\u001b[39m make_presentielijsten(es\u001b[39m=\u001b[39;49mes, year\u001b[39m=\u001b[39;49m\u001b[39mself\u001b[39;49m\u001b[39m.\u001b[39;49myear, index\u001b[39m=\u001b[39;49msource_index)\n\u001b[1;32m    165\u001b[0m logging\u001b[39m.\u001b[39minfo(\u001b[39mf\u001b[39m\u001b[39m'\u001b[39m\u001b[39myear: \u001b[39m\u001b[39m{\u001b[39;00myear\u001b[39m}\u001b[39;00m\u001b[39m, nr of attendancelists \u001b[39m\u001b[39m{\u001b[39;00m\u001b[39mlen\u001b[39m(\u001b[39mself\u001b[39m\u001b[39m.\u001b[39msearchobs)\u001b[39m}\u001b[39;00m\u001b[39m'\u001b[39m)\n\u001b[1;32m    166\u001b[0m \u001b[39mself\u001b[39m\u001b[39m.\u001b[39mjunksweeper \u001b[39m=\u001b[39m make_junksweeper(ekwz)\n",
      "File \u001b[0;32m~/develop/republicgit/republic/elastic/attendancelist_retrieval.py:10\u001b[0m, in \u001b[0;36mmake_presentielijsten\u001b[0;34m(es, year, index)\u001b[0m\n\u001b[1;32m      9\u001b[0m \u001b[39mdef\u001b[39;00m \u001b[39mmake_presentielijsten\u001b[39m(es: Elasticsearch, year: \u001b[39mint\u001b[39m, index: \u001b[39mstr\u001b[39m):\n\u001b[0;32m---> 10\u001b[0m     \u001b[39mreturn\u001b[39;00m get_presentielijsten(es\u001b[39m=\u001b[39;49mes, year\u001b[39m=\u001b[39;49myear, index\u001b[39m=\u001b[39;49mindex)\n",
      "File \u001b[0;32m~/develop/republicgit/republic/elastic/attendancelist_retrieval.py:41\u001b[0m, in \u001b[0;36mget_presentielijsten\u001b[0;34m(es, year, index)\u001b[0m\n\u001b[1;32m     39\u001b[0m size \u001b[39m=\u001b[39m \u001b[39m5000\u001b[39m\n\u001b[1;32m     40\u001b[0m sort \u001b[39m=\u001b[39m [\u001b[39m\"\u001b[39m\u001b[39m_id\u001b[39m\u001b[39m\"\u001b[39m]\n\u001b[0;32m---> 41\u001b[0m results \u001b[39m=\u001b[39m query_es(es, index, query, size\u001b[39m=\u001b[39;49msize, sort\u001b[39m=\u001b[39;49msort)\n\u001b[1;32m     43\u001b[0m presentielijsten \u001b[39m=\u001b[39m {}\n\u001b[1;32m     44\u001b[0m \u001b[39mfor\u001b[39;00m hit \u001b[39min\u001b[39;00m results[\u001b[39m'\u001b[39m\u001b[39mhits\u001b[39m\u001b[39m'\u001b[39m][\u001b[39m'\u001b[39m\u001b[39mhits\u001b[39m\u001b[39m'\u001b[39m]:\n",
      "File \u001b[0;32m~/develop/republicgit/republic/elastic/attendancelist_retrieval.py:28\u001b[0m, in \u001b[0;36mquery_es\u001b[0;34m(es, index, query, size, sort, aggs)\u001b[0m\n\u001b[1;32m     26\u001b[0m     \u001b[39mreturn\u001b[39;00m es\u001b[39m.\u001b[39msearch(index\u001b[39m=\u001b[39mindex, body\u001b[39m=\u001b[39mbody)\n\u001b[1;32m     27\u001b[0m \u001b[39melse\u001b[39;00m:\n\u001b[0;32m---> 28\u001b[0m     \u001b[39mreturn\u001b[39;00m es\u001b[39m.\u001b[39;49msearch(index\u001b[39m=\u001b[39mindex, query\u001b[39m=\u001b[39mquery, size\u001b[39m=\u001b[39msize, sort\u001b[39m=\u001b[39msort, aggs\u001b[39m=\u001b[39maggs)\n",
      "\u001b[0;31mAttributeError\u001b[0m: 'int' object has no attribute 'search'"
     ]
    },
    {
     "name": "stdout",
     "output_type": "stream",
     "text": [
      "logging to attendancelist.log\n"
     ]
    },
    {
     "ename": "AttributeError",
     "evalue": "'int' object has no attribute 'search'",
     "output_type": "error",
     "traceback": [
      "\u001b[0;31m---------------------------------------------------------------------------\u001b[0m",
      "\u001b[0;31mAttributeError\u001b[0m                            Traceback (most recent call last)",
      "File \u001b[0;32m<timed eval>:1\u001b[0m, in \u001b[0;36m<module>\u001b[0;34m\u001b[0m\n",
      "File \u001b[0;32m~/develop/republicgit/run_attendancelist.py:104\u001b[0m, in \u001b[0;36mrun\u001b[0;34m(es, year, outdir, tofile, verbose, source_index)\u001b[0m\n\u001b[1;32m     98\u001b[0m kwrds \u001b[39m=\u001b[39m {key: parse_delegates\u001b[39m.\u001b[39mnm_to_delen(key) \u001b[39mfor\u001b[39;00m key \u001b[39min\u001b[39;00m keywords}\n\u001b[1;32m     99\u001b[0m matchfinder \u001b[39m=\u001b[39m parse_delegates\u001b[39m.\u001b[39mFndMatch(year\u001b[39m=\u001b[39m\u001b[39m0\u001b[39m, rev_graph\u001b[39m=\u001b[39mtransposed_graph,\n\u001b[1;32m    100\u001b[0m                                    searcher\u001b[39m=\u001b[39mparse_delegates\u001b[39m.\u001b[39mherensearcher,\n\u001b[1;32m    101\u001b[0m                                    junksearcher\u001b[39m=\u001b[39mjunksweeper,\n\u001b[1;32m    102\u001b[0m                                 \u001b[39m#    found_delegates=found_delegates,\u001b[39;00m\n\u001b[1;32m    103\u001b[0m                                    df\u001b[39m=\u001b[39mabbreviated_delegates)\n\u001b[0;32m--> 104\u001b[0m runner \u001b[39m=\u001b[39m RunAll(es\u001b[39m=\u001b[39;49mes, \n\u001b[1;32m    105\u001b[0m                 year\u001b[39m=\u001b[39;49myear, \n\u001b[1;32m    106\u001b[0m                 source_index\u001b[39m=\u001b[39;49msource_index,\n\u001b[1;32m    107\u001b[0m                 matchfnd\u001b[39m=\u001b[39;49mmatchfinder)\n\u001b[1;32m    108\u001b[0m \u001b[39mif\u001b[39;00m verbose:\n\u001b[1;32m    109\u001b[0m     \u001b[39mprint\u001b[39m(\u001b[39m\"\u001b[39m\u001b[39m- gathering attendance lists\u001b[39m\u001b[39m\"\u001b[39m)\n",
      "File \u001b[0;32m~/develop/republicgit/run_attendancelist.py:164\u001b[0m, in \u001b[0;36mRunAll.__init__\u001b[0;34m(self, es, year, abbreviated_delegates, kwrds, found_delegates, matchfnd, ekwz, outdir, source_index)\u001b[0m\n\u001b[1;32m    162\u001b[0m start_logger(outdir, year)\n\u001b[1;32m    163\u001b[0m \u001b[39mself\u001b[39m\u001b[39m.\u001b[39myear \u001b[39m=\u001b[39m year\n\u001b[0;32m--> 164\u001b[0m \u001b[39mself\u001b[39m\u001b[39m.\u001b[39msearchobs \u001b[39m=\u001b[39m make_presentielijsten(es\u001b[39m=\u001b[39;49mes, year\u001b[39m=\u001b[39;49m\u001b[39mself\u001b[39;49m\u001b[39m.\u001b[39;49myear, index\u001b[39m=\u001b[39;49msource_index)\n\u001b[1;32m    165\u001b[0m logging\u001b[39m.\u001b[39minfo(\u001b[39mf\u001b[39m\u001b[39m'\u001b[39m\u001b[39myear: \u001b[39m\u001b[39m{\u001b[39;00myear\u001b[39m}\u001b[39;00m\u001b[39m, nr of attendancelists \u001b[39m\u001b[39m{\u001b[39;00m\u001b[39mlen\u001b[39m(\u001b[39mself\u001b[39m\u001b[39m.\u001b[39msearchobs)\u001b[39m}\u001b[39;00m\u001b[39m'\u001b[39m)\n\u001b[1;32m    166\u001b[0m \u001b[39mself\u001b[39m\u001b[39m.\u001b[39mjunksweeper \u001b[39m=\u001b[39m make_junksweeper(ekwz)\n",
      "File \u001b[0;32m~/develop/republicgit/republic/elastic/attendancelist_retrieval.py:10\u001b[0m, in \u001b[0;36mmake_presentielijsten\u001b[0;34m(es, year, index)\u001b[0m\n\u001b[1;32m      9\u001b[0m \u001b[39mdef\u001b[39;00m \u001b[39mmake_presentielijsten\u001b[39m(es: Elasticsearch, year: \u001b[39mint\u001b[39m, index: \u001b[39mstr\u001b[39m):\n\u001b[0;32m---> 10\u001b[0m     \u001b[39mreturn\u001b[39;00m get_presentielijsten(es\u001b[39m=\u001b[39;49mes, year\u001b[39m=\u001b[39;49myear, index\u001b[39m=\u001b[39;49mindex)\n",
      "File \u001b[0;32m~/develop/republicgit/republic/elastic/attendancelist_retrieval.py:41\u001b[0m, in \u001b[0;36mget_presentielijsten\u001b[0;34m(es, year, index)\u001b[0m\n\u001b[1;32m     39\u001b[0m size \u001b[39m=\u001b[39m \u001b[39m5000\u001b[39m\n\u001b[1;32m     40\u001b[0m sort \u001b[39m=\u001b[39m [\u001b[39m\"\u001b[39m\u001b[39m_id\u001b[39m\u001b[39m\"\u001b[39m]\n\u001b[0;32m---> 41\u001b[0m results \u001b[39m=\u001b[39m query_es(es, index, query, size\u001b[39m=\u001b[39;49msize, sort\u001b[39m=\u001b[39;49msort)\n\u001b[1;32m     43\u001b[0m presentielijsten \u001b[39m=\u001b[39m {}\n\u001b[1;32m     44\u001b[0m \u001b[39mfor\u001b[39;00m hit \u001b[39min\u001b[39;00m results[\u001b[39m'\u001b[39m\u001b[39mhits\u001b[39m\u001b[39m'\u001b[39m][\u001b[39m'\u001b[39m\u001b[39mhits\u001b[39m\u001b[39m'\u001b[39m]:\n",
      "File \u001b[0;32m~/develop/republicgit/republic/elastic/attendancelist_retrieval.py:28\u001b[0m, in \u001b[0;36mquery_es\u001b[0;34m(es, index, query, size, sort, aggs)\u001b[0m\n\u001b[1;32m     26\u001b[0m     \u001b[39mreturn\u001b[39;00m es\u001b[39m.\u001b[39msearch(index\u001b[39m=\u001b[39mindex, body\u001b[39m=\u001b[39mbody)\n\u001b[1;32m     27\u001b[0m \u001b[39melse\u001b[39;00m:\n\u001b[0;32m---> 28\u001b[0m     \u001b[39mreturn\u001b[39;00m es\u001b[39m.\u001b[39;49msearch(index\u001b[39m=\u001b[39mindex, query\u001b[39m=\u001b[39mquery, size\u001b[39m=\u001b[39msize, sort\u001b[39m=\u001b[39msort, aggs\u001b[39m=\u001b[39maggs)\n",
      "\u001b[0;31mAttributeError\u001b[0m: 'int' object has no attribute 'search'"
     ]
    },
    {
     "name": "stdout",
     "output_type": "stream",
     "text": [
      "logging to attendancelist.log\n"
     ]
    },
    {
     "ename": "AttributeError",
     "evalue": "'int' object has no attribute 'search'",
     "output_type": "error",
     "traceback": [
      "\u001b[0;31m---------------------------------------------------------------------------\u001b[0m",
      "\u001b[0;31mAttributeError\u001b[0m                            Traceback (most recent call last)",
      "File \u001b[0;32m<timed eval>:1\u001b[0m, in \u001b[0;36m<module>\u001b[0;34m\u001b[0m\n",
      "File \u001b[0;32m~/develop/republicgit/run_attendancelist.py:104\u001b[0m, in \u001b[0;36mrun\u001b[0;34m(es, year, outdir, tofile, verbose, source_index)\u001b[0m\n\u001b[1;32m     98\u001b[0m kwrds \u001b[39m=\u001b[39m {key: parse_delegates\u001b[39m.\u001b[39mnm_to_delen(key) \u001b[39mfor\u001b[39;00m key \u001b[39min\u001b[39;00m keywords}\n\u001b[1;32m     99\u001b[0m matchfinder \u001b[39m=\u001b[39m parse_delegates\u001b[39m.\u001b[39mFndMatch(year\u001b[39m=\u001b[39m\u001b[39m0\u001b[39m, rev_graph\u001b[39m=\u001b[39mtransposed_graph,\n\u001b[1;32m    100\u001b[0m                                    searcher\u001b[39m=\u001b[39mparse_delegates\u001b[39m.\u001b[39mherensearcher,\n\u001b[1;32m    101\u001b[0m                                    junksearcher\u001b[39m=\u001b[39mjunksweeper,\n\u001b[1;32m    102\u001b[0m                                 \u001b[39m#    found_delegates=found_delegates,\u001b[39;00m\n\u001b[1;32m    103\u001b[0m                                    df\u001b[39m=\u001b[39mabbreviated_delegates)\n\u001b[0;32m--> 104\u001b[0m runner \u001b[39m=\u001b[39m RunAll(es\u001b[39m=\u001b[39;49mes, \n\u001b[1;32m    105\u001b[0m                 year\u001b[39m=\u001b[39;49myear, \n\u001b[1;32m    106\u001b[0m                 source_index\u001b[39m=\u001b[39;49msource_index,\n\u001b[1;32m    107\u001b[0m                 matchfnd\u001b[39m=\u001b[39;49mmatchfinder)\n\u001b[1;32m    108\u001b[0m \u001b[39mif\u001b[39;00m verbose:\n\u001b[1;32m    109\u001b[0m     \u001b[39mprint\u001b[39m(\u001b[39m\"\u001b[39m\u001b[39m- gathering attendance lists\u001b[39m\u001b[39m\"\u001b[39m)\n",
      "File \u001b[0;32m~/develop/republicgit/run_attendancelist.py:164\u001b[0m, in \u001b[0;36mRunAll.__init__\u001b[0;34m(self, es, year, abbreviated_delegates, kwrds, found_delegates, matchfnd, ekwz, outdir, source_index)\u001b[0m\n\u001b[1;32m    162\u001b[0m start_logger(outdir, year)\n\u001b[1;32m    163\u001b[0m \u001b[39mself\u001b[39m\u001b[39m.\u001b[39myear \u001b[39m=\u001b[39m year\n\u001b[0;32m--> 164\u001b[0m \u001b[39mself\u001b[39m\u001b[39m.\u001b[39msearchobs \u001b[39m=\u001b[39m make_presentielijsten(es\u001b[39m=\u001b[39;49mes, year\u001b[39m=\u001b[39;49m\u001b[39mself\u001b[39;49m\u001b[39m.\u001b[39;49myear, index\u001b[39m=\u001b[39;49msource_index)\n\u001b[1;32m    165\u001b[0m logging\u001b[39m.\u001b[39minfo(\u001b[39mf\u001b[39m\u001b[39m'\u001b[39m\u001b[39myear: \u001b[39m\u001b[39m{\u001b[39;00myear\u001b[39m}\u001b[39;00m\u001b[39m, nr of attendancelists \u001b[39m\u001b[39m{\u001b[39;00m\u001b[39mlen\u001b[39m(\u001b[39mself\u001b[39m\u001b[39m.\u001b[39msearchobs)\u001b[39m}\u001b[39;00m\u001b[39m'\u001b[39m)\n\u001b[1;32m    166\u001b[0m \u001b[39mself\u001b[39m\u001b[39m.\u001b[39mjunksweeper \u001b[39m=\u001b[39m make_junksweeper(ekwz)\n",
      "File \u001b[0;32m~/develop/republicgit/republic/elastic/attendancelist_retrieval.py:10\u001b[0m, in \u001b[0;36mmake_presentielijsten\u001b[0;34m(es, year, index)\u001b[0m\n\u001b[1;32m      9\u001b[0m \u001b[39mdef\u001b[39;00m \u001b[39mmake_presentielijsten\u001b[39m(es: Elasticsearch, year: \u001b[39mint\u001b[39m, index: \u001b[39mstr\u001b[39m):\n\u001b[0;32m---> 10\u001b[0m     \u001b[39mreturn\u001b[39;00m get_presentielijsten(es\u001b[39m=\u001b[39;49mes, year\u001b[39m=\u001b[39;49myear, index\u001b[39m=\u001b[39;49mindex)\n",
      "File \u001b[0;32m~/develop/republicgit/republic/elastic/attendancelist_retrieval.py:41\u001b[0m, in \u001b[0;36mget_presentielijsten\u001b[0;34m(es, year, index)\u001b[0m\n\u001b[1;32m     39\u001b[0m size \u001b[39m=\u001b[39m \u001b[39m5000\u001b[39m\n\u001b[1;32m     40\u001b[0m sort \u001b[39m=\u001b[39m [\u001b[39m\"\u001b[39m\u001b[39m_id\u001b[39m\u001b[39m\"\u001b[39m]\n\u001b[0;32m---> 41\u001b[0m results \u001b[39m=\u001b[39m query_es(es, index, query, size\u001b[39m=\u001b[39;49msize, sort\u001b[39m=\u001b[39;49msort)\n\u001b[1;32m     43\u001b[0m presentielijsten \u001b[39m=\u001b[39m {}\n\u001b[1;32m     44\u001b[0m \u001b[39mfor\u001b[39;00m hit \u001b[39min\u001b[39;00m results[\u001b[39m'\u001b[39m\u001b[39mhits\u001b[39m\u001b[39m'\u001b[39m][\u001b[39m'\u001b[39m\u001b[39mhits\u001b[39m\u001b[39m'\u001b[39m]:\n",
      "File \u001b[0;32m~/develop/republicgit/republic/elastic/attendancelist_retrieval.py:28\u001b[0m, in \u001b[0;36mquery_es\u001b[0;34m(es, index, query, size, sort, aggs)\u001b[0m\n\u001b[1;32m     26\u001b[0m     \u001b[39mreturn\u001b[39;00m es\u001b[39m.\u001b[39msearch(index\u001b[39m=\u001b[39mindex, body\u001b[39m=\u001b[39mbody)\n\u001b[1;32m     27\u001b[0m \u001b[39melse\u001b[39;00m:\n\u001b[0;32m---> 28\u001b[0m     \u001b[39mreturn\u001b[39;00m es\u001b[39m.\u001b[39;49msearch(index\u001b[39m=\u001b[39mindex, query\u001b[39m=\u001b[39mquery, size\u001b[39m=\u001b[39msize, sort\u001b[39m=\u001b[39msort, aggs\u001b[39m=\u001b[39maggs)\n",
      "\u001b[0;31mAttributeError\u001b[0m: 'int' object has no attribute 'search'"
     ]
    },
    {
     "name": "stdout",
     "output_type": "stream",
     "text": [
      "logging to attendancelist.log\n"
     ]
    },
    {
     "ename": "AttributeError",
     "evalue": "'int' object has no attribute 'search'",
     "output_type": "error",
     "traceback": [
      "\u001b[0;31m---------------------------------------------------------------------------\u001b[0m",
      "\u001b[0;31mAttributeError\u001b[0m                            Traceback (most recent call last)",
      "File \u001b[0;32m<timed eval>:1\u001b[0m, in \u001b[0;36m<module>\u001b[0;34m\u001b[0m\n",
      "File \u001b[0;32m~/develop/republicgit/run_attendancelist.py:104\u001b[0m, in \u001b[0;36mrun\u001b[0;34m(es, year, outdir, tofile, verbose, source_index)\u001b[0m\n\u001b[1;32m     98\u001b[0m kwrds \u001b[39m=\u001b[39m {key: parse_delegates\u001b[39m.\u001b[39mnm_to_delen(key) \u001b[39mfor\u001b[39;00m key \u001b[39min\u001b[39;00m keywords}\n\u001b[1;32m     99\u001b[0m matchfinder \u001b[39m=\u001b[39m parse_delegates\u001b[39m.\u001b[39mFndMatch(year\u001b[39m=\u001b[39m\u001b[39m0\u001b[39m, rev_graph\u001b[39m=\u001b[39mtransposed_graph,\n\u001b[1;32m    100\u001b[0m                                    searcher\u001b[39m=\u001b[39mparse_delegates\u001b[39m.\u001b[39mherensearcher,\n\u001b[1;32m    101\u001b[0m                                    junksearcher\u001b[39m=\u001b[39mjunksweeper,\n\u001b[1;32m    102\u001b[0m                                 \u001b[39m#    found_delegates=found_delegates,\u001b[39;00m\n\u001b[1;32m    103\u001b[0m                                    df\u001b[39m=\u001b[39mabbreviated_delegates)\n\u001b[0;32m--> 104\u001b[0m runner \u001b[39m=\u001b[39m RunAll(es\u001b[39m=\u001b[39;49mes, \n\u001b[1;32m    105\u001b[0m                 year\u001b[39m=\u001b[39;49myear, \n\u001b[1;32m    106\u001b[0m                 source_index\u001b[39m=\u001b[39;49msource_index,\n\u001b[1;32m    107\u001b[0m                 matchfnd\u001b[39m=\u001b[39;49mmatchfinder)\n\u001b[1;32m    108\u001b[0m \u001b[39mif\u001b[39;00m verbose:\n\u001b[1;32m    109\u001b[0m     \u001b[39mprint\u001b[39m(\u001b[39m\"\u001b[39m\u001b[39m- gathering attendance lists\u001b[39m\u001b[39m\"\u001b[39m)\n",
      "File \u001b[0;32m~/develop/republicgit/run_attendancelist.py:164\u001b[0m, in \u001b[0;36mRunAll.__init__\u001b[0;34m(self, es, year, abbreviated_delegates, kwrds, found_delegates, matchfnd, ekwz, outdir, source_index)\u001b[0m\n\u001b[1;32m    162\u001b[0m start_logger(outdir, year)\n\u001b[1;32m    163\u001b[0m \u001b[39mself\u001b[39m\u001b[39m.\u001b[39myear \u001b[39m=\u001b[39m year\n\u001b[0;32m--> 164\u001b[0m \u001b[39mself\u001b[39m\u001b[39m.\u001b[39msearchobs \u001b[39m=\u001b[39m make_presentielijsten(es\u001b[39m=\u001b[39;49mes, year\u001b[39m=\u001b[39;49m\u001b[39mself\u001b[39;49m\u001b[39m.\u001b[39;49myear, index\u001b[39m=\u001b[39;49msource_index)\n\u001b[1;32m    165\u001b[0m logging\u001b[39m.\u001b[39minfo(\u001b[39mf\u001b[39m\u001b[39m'\u001b[39m\u001b[39myear: \u001b[39m\u001b[39m{\u001b[39;00myear\u001b[39m}\u001b[39;00m\u001b[39m, nr of attendancelists \u001b[39m\u001b[39m{\u001b[39;00m\u001b[39mlen\u001b[39m(\u001b[39mself\u001b[39m\u001b[39m.\u001b[39msearchobs)\u001b[39m}\u001b[39;00m\u001b[39m'\u001b[39m)\n\u001b[1;32m    166\u001b[0m \u001b[39mself\u001b[39m\u001b[39m.\u001b[39mjunksweeper \u001b[39m=\u001b[39m make_junksweeper(ekwz)\n",
      "File \u001b[0;32m~/develop/republicgit/republic/elastic/attendancelist_retrieval.py:10\u001b[0m, in \u001b[0;36mmake_presentielijsten\u001b[0;34m(es, year, index)\u001b[0m\n\u001b[1;32m      9\u001b[0m \u001b[39mdef\u001b[39;00m \u001b[39mmake_presentielijsten\u001b[39m(es: Elasticsearch, year: \u001b[39mint\u001b[39m, index: \u001b[39mstr\u001b[39m):\n\u001b[0;32m---> 10\u001b[0m     \u001b[39mreturn\u001b[39;00m get_presentielijsten(es\u001b[39m=\u001b[39;49mes, year\u001b[39m=\u001b[39;49myear, index\u001b[39m=\u001b[39;49mindex)\n",
      "File \u001b[0;32m~/develop/republicgit/republic/elastic/attendancelist_retrieval.py:41\u001b[0m, in \u001b[0;36mget_presentielijsten\u001b[0;34m(es, year, index)\u001b[0m\n\u001b[1;32m     39\u001b[0m size \u001b[39m=\u001b[39m \u001b[39m5000\u001b[39m\n\u001b[1;32m     40\u001b[0m sort \u001b[39m=\u001b[39m [\u001b[39m\"\u001b[39m\u001b[39m_id\u001b[39m\u001b[39m\"\u001b[39m]\n\u001b[0;32m---> 41\u001b[0m results \u001b[39m=\u001b[39m query_es(es, index, query, size\u001b[39m=\u001b[39;49msize, sort\u001b[39m=\u001b[39;49msort)\n\u001b[1;32m     43\u001b[0m presentielijsten \u001b[39m=\u001b[39m {}\n\u001b[1;32m     44\u001b[0m \u001b[39mfor\u001b[39;00m hit \u001b[39min\u001b[39;00m results[\u001b[39m'\u001b[39m\u001b[39mhits\u001b[39m\u001b[39m'\u001b[39m][\u001b[39m'\u001b[39m\u001b[39mhits\u001b[39m\u001b[39m'\u001b[39m]:\n",
      "File \u001b[0;32m~/develop/republicgit/republic/elastic/attendancelist_retrieval.py:28\u001b[0m, in \u001b[0;36mquery_es\u001b[0;34m(es, index, query, size, sort, aggs)\u001b[0m\n\u001b[1;32m     26\u001b[0m     \u001b[39mreturn\u001b[39;00m es\u001b[39m.\u001b[39msearch(index\u001b[39m=\u001b[39mindex, body\u001b[39m=\u001b[39mbody)\n\u001b[1;32m     27\u001b[0m \u001b[39melse\u001b[39;00m:\n\u001b[0;32m---> 28\u001b[0m     \u001b[39mreturn\u001b[39;00m es\u001b[39m.\u001b[39;49msearch(index\u001b[39m=\u001b[39mindex, query\u001b[39m=\u001b[39mquery, size\u001b[39m=\u001b[39msize, sort\u001b[39m=\u001b[39msort, aggs\u001b[39m=\u001b[39maggs)\n",
      "\u001b[0;31mAttributeError\u001b[0m: 'int' object has no attribute 'search'"
     ]
    },
    {
     "name": "stdout",
     "output_type": "stream",
     "text": [
      "logging to attendancelist.log\n"
     ]
    },
    {
     "ename": "AttributeError",
     "evalue": "'int' object has no attribute 'search'",
     "output_type": "error",
     "traceback": [
      "\u001b[0;31m---------------------------------------------------------------------------\u001b[0m",
      "\u001b[0;31mAttributeError\u001b[0m                            Traceback (most recent call last)",
      "File \u001b[0;32m<timed eval>:1\u001b[0m, in \u001b[0;36m<module>\u001b[0;34m\u001b[0m\n",
      "File \u001b[0;32m~/develop/republicgit/run_attendancelist.py:104\u001b[0m, in \u001b[0;36mrun\u001b[0;34m(es, year, outdir, tofile, verbose, source_index)\u001b[0m\n\u001b[1;32m     98\u001b[0m kwrds \u001b[39m=\u001b[39m {key: parse_delegates\u001b[39m.\u001b[39mnm_to_delen(key) \u001b[39mfor\u001b[39;00m key \u001b[39min\u001b[39;00m keywords}\n\u001b[1;32m     99\u001b[0m matchfinder \u001b[39m=\u001b[39m parse_delegates\u001b[39m.\u001b[39mFndMatch(year\u001b[39m=\u001b[39m\u001b[39m0\u001b[39m, rev_graph\u001b[39m=\u001b[39mtransposed_graph,\n\u001b[1;32m    100\u001b[0m                                    searcher\u001b[39m=\u001b[39mparse_delegates\u001b[39m.\u001b[39mherensearcher,\n\u001b[1;32m    101\u001b[0m                                    junksearcher\u001b[39m=\u001b[39mjunksweeper,\n\u001b[1;32m    102\u001b[0m                                 \u001b[39m#    found_delegates=found_delegates,\u001b[39;00m\n\u001b[1;32m    103\u001b[0m                                    df\u001b[39m=\u001b[39mabbreviated_delegates)\n\u001b[0;32m--> 104\u001b[0m runner \u001b[39m=\u001b[39m RunAll(es\u001b[39m=\u001b[39;49mes, \n\u001b[1;32m    105\u001b[0m                 year\u001b[39m=\u001b[39;49myear, \n\u001b[1;32m    106\u001b[0m                 source_index\u001b[39m=\u001b[39;49msource_index,\n\u001b[1;32m    107\u001b[0m                 matchfnd\u001b[39m=\u001b[39;49mmatchfinder)\n\u001b[1;32m    108\u001b[0m \u001b[39mif\u001b[39;00m verbose:\n\u001b[1;32m    109\u001b[0m     \u001b[39mprint\u001b[39m(\u001b[39m\"\u001b[39m\u001b[39m- gathering attendance lists\u001b[39m\u001b[39m\"\u001b[39m)\n",
      "File \u001b[0;32m~/develop/republicgit/run_attendancelist.py:164\u001b[0m, in \u001b[0;36mRunAll.__init__\u001b[0;34m(self, es, year, abbreviated_delegates, kwrds, found_delegates, matchfnd, ekwz, outdir, source_index)\u001b[0m\n\u001b[1;32m    162\u001b[0m start_logger(outdir, year)\n\u001b[1;32m    163\u001b[0m \u001b[39mself\u001b[39m\u001b[39m.\u001b[39myear \u001b[39m=\u001b[39m year\n\u001b[0;32m--> 164\u001b[0m \u001b[39mself\u001b[39m\u001b[39m.\u001b[39msearchobs \u001b[39m=\u001b[39m make_presentielijsten(es\u001b[39m=\u001b[39;49mes, year\u001b[39m=\u001b[39;49m\u001b[39mself\u001b[39;49m\u001b[39m.\u001b[39;49myear, index\u001b[39m=\u001b[39;49msource_index)\n\u001b[1;32m    165\u001b[0m logging\u001b[39m.\u001b[39minfo(\u001b[39mf\u001b[39m\u001b[39m'\u001b[39m\u001b[39myear: \u001b[39m\u001b[39m{\u001b[39;00myear\u001b[39m}\u001b[39;00m\u001b[39m, nr of attendancelists \u001b[39m\u001b[39m{\u001b[39;00m\u001b[39mlen\u001b[39m(\u001b[39mself\u001b[39m\u001b[39m.\u001b[39msearchobs)\u001b[39m}\u001b[39;00m\u001b[39m'\u001b[39m)\n\u001b[1;32m    166\u001b[0m \u001b[39mself\u001b[39m\u001b[39m.\u001b[39mjunksweeper \u001b[39m=\u001b[39m make_junksweeper(ekwz)\n",
      "File \u001b[0;32m~/develop/republicgit/republic/elastic/attendancelist_retrieval.py:10\u001b[0m, in \u001b[0;36mmake_presentielijsten\u001b[0;34m(es, year, index)\u001b[0m\n\u001b[1;32m      9\u001b[0m \u001b[39mdef\u001b[39;00m \u001b[39mmake_presentielijsten\u001b[39m(es: Elasticsearch, year: \u001b[39mint\u001b[39m, index: \u001b[39mstr\u001b[39m):\n\u001b[0;32m---> 10\u001b[0m     \u001b[39mreturn\u001b[39;00m get_presentielijsten(es\u001b[39m=\u001b[39;49mes, year\u001b[39m=\u001b[39;49myear, index\u001b[39m=\u001b[39;49mindex)\n",
      "File \u001b[0;32m~/develop/republicgit/republic/elastic/attendancelist_retrieval.py:41\u001b[0m, in \u001b[0;36mget_presentielijsten\u001b[0;34m(es, year, index)\u001b[0m\n\u001b[1;32m     39\u001b[0m size \u001b[39m=\u001b[39m \u001b[39m5000\u001b[39m\n\u001b[1;32m     40\u001b[0m sort \u001b[39m=\u001b[39m [\u001b[39m\"\u001b[39m\u001b[39m_id\u001b[39m\u001b[39m\"\u001b[39m]\n\u001b[0;32m---> 41\u001b[0m results \u001b[39m=\u001b[39m query_es(es, index, query, size\u001b[39m=\u001b[39;49msize, sort\u001b[39m=\u001b[39;49msort)\n\u001b[1;32m     43\u001b[0m presentielijsten \u001b[39m=\u001b[39m {}\n\u001b[1;32m     44\u001b[0m \u001b[39mfor\u001b[39;00m hit \u001b[39min\u001b[39;00m results[\u001b[39m'\u001b[39m\u001b[39mhits\u001b[39m\u001b[39m'\u001b[39m][\u001b[39m'\u001b[39m\u001b[39mhits\u001b[39m\u001b[39m'\u001b[39m]:\n",
      "File \u001b[0;32m~/develop/republicgit/republic/elastic/attendancelist_retrieval.py:28\u001b[0m, in \u001b[0;36mquery_es\u001b[0;34m(es, index, query, size, sort, aggs)\u001b[0m\n\u001b[1;32m     26\u001b[0m     \u001b[39mreturn\u001b[39;00m es\u001b[39m.\u001b[39msearch(index\u001b[39m=\u001b[39mindex, body\u001b[39m=\u001b[39mbody)\n\u001b[1;32m     27\u001b[0m \u001b[39melse\u001b[39;00m:\n\u001b[0;32m---> 28\u001b[0m     \u001b[39mreturn\u001b[39;00m es\u001b[39m.\u001b[39;49msearch(index\u001b[39m=\u001b[39mindex, query\u001b[39m=\u001b[39mquery, size\u001b[39m=\u001b[39msize, sort\u001b[39m=\u001b[39msort, aggs\u001b[39m=\u001b[39maggs)\n",
      "\u001b[0;31mAttributeError\u001b[0m: 'int' object has no attribute 'search'"
     ]
    },
    {
     "name": "stdout",
     "output_type": "stream",
     "text": [
      "logging to attendancelist.log\n"
     ]
    },
    {
     "ename": "AttributeError",
     "evalue": "'int' object has no attribute 'search'",
     "output_type": "error",
     "traceback": [
      "\u001b[0;31m---------------------------------------------------------------------------\u001b[0m",
      "\u001b[0;31mAttributeError\u001b[0m                            Traceback (most recent call last)",
      "File \u001b[0;32m<timed eval>:1\u001b[0m, in \u001b[0;36m<module>\u001b[0;34m\u001b[0m\n",
      "File \u001b[0;32m~/develop/republicgit/run_attendancelist.py:104\u001b[0m, in \u001b[0;36mrun\u001b[0;34m(es, year, outdir, tofile, verbose, source_index)\u001b[0m\n\u001b[1;32m     98\u001b[0m kwrds \u001b[39m=\u001b[39m {key: parse_delegates\u001b[39m.\u001b[39mnm_to_delen(key) \u001b[39mfor\u001b[39;00m key \u001b[39min\u001b[39;00m keywords}\n\u001b[1;32m     99\u001b[0m matchfinder \u001b[39m=\u001b[39m parse_delegates\u001b[39m.\u001b[39mFndMatch(year\u001b[39m=\u001b[39m\u001b[39m0\u001b[39m, rev_graph\u001b[39m=\u001b[39mtransposed_graph,\n\u001b[1;32m    100\u001b[0m                                    searcher\u001b[39m=\u001b[39mparse_delegates\u001b[39m.\u001b[39mherensearcher,\n\u001b[1;32m    101\u001b[0m                                    junksearcher\u001b[39m=\u001b[39mjunksweeper,\n\u001b[1;32m    102\u001b[0m                                 \u001b[39m#    found_delegates=found_delegates,\u001b[39;00m\n\u001b[1;32m    103\u001b[0m                                    df\u001b[39m=\u001b[39mabbreviated_delegates)\n\u001b[0;32m--> 104\u001b[0m runner \u001b[39m=\u001b[39m RunAll(es\u001b[39m=\u001b[39;49mes, \n\u001b[1;32m    105\u001b[0m                 year\u001b[39m=\u001b[39;49myear, \n\u001b[1;32m    106\u001b[0m                 source_index\u001b[39m=\u001b[39;49msource_index,\n\u001b[1;32m    107\u001b[0m                 matchfnd\u001b[39m=\u001b[39;49mmatchfinder)\n\u001b[1;32m    108\u001b[0m \u001b[39mif\u001b[39;00m verbose:\n\u001b[1;32m    109\u001b[0m     \u001b[39mprint\u001b[39m(\u001b[39m\"\u001b[39m\u001b[39m- gathering attendance lists\u001b[39m\u001b[39m\"\u001b[39m)\n",
      "File \u001b[0;32m~/develop/republicgit/run_attendancelist.py:164\u001b[0m, in \u001b[0;36mRunAll.__init__\u001b[0;34m(self, es, year, abbreviated_delegates, kwrds, found_delegates, matchfnd, ekwz, outdir, source_index)\u001b[0m\n\u001b[1;32m    162\u001b[0m start_logger(outdir, year)\n\u001b[1;32m    163\u001b[0m \u001b[39mself\u001b[39m\u001b[39m.\u001b[39myear \u001b[39m=\u001b[39m year\n\u001b[0;32m--> 164\u001b[0m \u001b[39mself\u001b[39m\u001b[39m.\u001b[39msearchobs \u001b[39m=\u001b[39m make_presentielijsten(es\u001b[39m=\u001b[39;49mes, year\u001b[39m=\u001b[39;49m\u001b[39mself\u001b[39;49m\u001b[39m.\u001b[39;49myear, index\u001b[39m=\u001b[39;49msource_index)\n\u001b[1;32m    165\u001b[0m logging\u001b[39m.\u001b[39minfo(\u001b[39mf\u001b[39m\u001b[39m'\u001b[39m\u001b[39myear: \u001b[39m\u001b[39m{\u001b[39;00myear\u001b[39m}\u001b[39;00m\u001b[39m, nr of attendancelists \u001b[39m\u001b[39m{\u001b[39;00m\u001b[39mlen\u001b[39m(\u001b[39mself\u001b[39m\u001b[39m.\u001b[39msearchobs)\u001b[39m}\u001b[39;00m\u001b[39m'\u001b[39m)\n\u001b[1;32m    166\u001b[0m \u001b[39mself\u001b[39m\u001b[39m.\u001b[39mjunksweeper \u001b[39m=\u001b[39m make_junksweeper(ekwz)\n",
      "File \u001b[0;32m~/develop/republicgit/republic/elastic/attendancelist_retrieval.py:10\u001b[0m, in \u001b[0;36mmake_presentielijsten\u001b[0;34m(es, year, index)\u001b[0m\n\u001b[1;32m      9\u001b[0m \u001b[39mdef\u001b[39;00m \u001b[39mmake_presentielijsten\u001b[39m(es: Elasticsearch, year: \u001b[39mint\u001b[39m, index: \u001b[39mstr\u001b[39m):\n\u001b[0;32m---> 10\u001b[0m     \u001b[39mreturn\u001b[39;00m get_presentielijsten(es\u001b[39m=\u001b[39;49mes, year\u001b[39m=\u001b[39;49myear, index\u001b[39m=\u001b[39;49mindex)\n",
      "File \u001b[0;32m~/develop/republicgit/republic/elastic/attendancelist_retrieval.py:41\u001b[0m, in \u001b[0;36mget_presentielijsten\u001b[0;34m(es, year, index)\u001b[0m\n\u001b[1;32m     39\u001b[0m size \u001b[39m=\u001b[39m \u001b[39m5000\u001b[39m\n\u001b[1;32m     40\u001b[0m sort \u001b[39m=\u001b[39m [\u001b[39m\"\u001b[39m\u001b[39m_id\u001b[39m\u001b[39m\"\u001b[39m]\n\u001b[0;32m---> 41\u001b[0m results \u001b[39m=\u001b[39m query_es(es, index, query, size\u001b[39m=\u001b[39;49msize, sort\u001b[39m=\u001b[39;49msort)\n\u001b[1;32m     43\u001b[0m presentielijsten \u001b[39m=\u001b[39m {}\n\u001b[1;32m     44\u001b[0m \u001b[39mfor\u001b[39;00m hit \u001b[39min\u001b[39;00m results[\u001b[39m'\u001b[39m\u001b[39mhits\u001b[39m\u001b[39m'\u001b[39m][\u001b[39m'\u001b[39m\u001b[39mhits\u001b[39m\u001b[39m'\u001b[39m]:\n",
      "File \u001b[0;32m~/develop/republicgit/republic/elastic/attendancelist_retrieval.py:28\u001b[0m, in \u001b[0;36mquery_es\u001b[0;34m(es, index, query, size, sort, aggs)\u001b[0m\n\u001b[1;32m     26\u001b[0m     \u001b[39mreturn\u001b[39;00m es\u001b[39m.\u001b[39msearch(index\u001b[39m=\u001b[39mindex, body\u001b[39m=\u001b[39mbody)\n\u001b[1;32m     27\u001b[0m \u001b[39melse\u001b[39;00m:\n\u001b[0;32m---> 28\u001b[0m     \u001b[39mreturn\u001b[39;00m es\u001b[39m.\u001b[39;49msearch(index\u001b[39m=\u001b[39mindex, query\u001b[39m=\u001b[39mquery, size\u001b[39m=\u001b[39msize, sort\u001b[39m=\u001b[39msort, aggs\u001b[39m=\u001b[39maggs)\n",
      "\u001b[0;31mAttributeError\u001b[0m: 'int' object has no attribute 'search'"
     ]
    }
   ],
   "source": [
    "for y in years:\n",
    "    %time run_attendancelist.run(rep_es.anno, y, outdir='/Users/rikhoekstra/republic_out/20230626', verbose=True)\n",
    "    \n"
   ]
  },
  {
   "cell_type": "code",
   "execution_count": null,
   "id": "d96e9d76-67f7-404c-b960-790469d398c6",
   "metadata": {},
   "outputs": [],
   "source": [
    "import json\n",
    "txt = 'bla'\n",
    "outname = os.path.join(run_attendancelist.outdir, 'text.json')\n",
    "print(outname)\n",
    "with open(outname, 'wb') as fout:\n",
    "    json.dump(fout, txt)\n",
    "    \n"
   ]
  },
  {
   "cell_type": "code",
   "execution_count": 13,
   "id": "101378cc-4d5a-488f-8019-2ade0547932d",
   "metadata": {},
   "outputs": [
    {
     "data": {
      "text/plain": [
       "[]"
      ]
     },
     "execution_count": 13,
     "metadata": {},
     "output_type": "execute_result"
    }
   ],
   "source": [
    "os.listdir('/Users/rikhoekstra/republic_out/20211115/')"
   ]
  },
  {
   "cell_type": "code",
   "execution_count": 17,
   "id": "deda2006-20db-4d11-bac7-43116a097cb9",
   "metadata": {},
   "outputs": [
    {
     "data": {
      "text/plain": [
       "<_io.TextIOWrapper name='/Users/rikhoekstra/republic_out/20211115/text.json' mode='w' encoding='UTF-8'>"
      ]
     },
     "execution_count": 17,
     "metadata": {},
     "output_type": "execute_result"
    }
   ],
   "source": [
    "open('/Users/rikhoekstra/republic_out/20211115/text.json', 'w')"
   ]
  },
  {
   "cell_type": "code",
   "execution_count": null,
   "id": "8396f664-466d-4920-9251-ddeebab04b7a",
   "metadata": {},
   "outputs": [
    {
     "name": "stdout",
     "output_type": "stream",
     "text": [
      "logging to attendancelist.log\n"
     ]
    }
   ],
   "source": [
    "r1752 = run_attendancelist.run(1752, outdir='/Users/rikhoekstra/republic_out/20211115', verbose=False, tofile=False)"
   ]
  },
  {
   "cell_type": "code",
   "execution_count": null,
   "id": "b6a3307b-ce38-49c9-acc1-4e1c679b18bb",
   "metadata": {},
   "outputs": [],
   "source": []
  }
 ],
 "metadata": {
  "kernelspec": {
   "display_name": ".venv",
   "language": "python",
   "name": "python3"
  },
  "language_info": {
   "codemirror_mode": {
    "name": "ipython",
    "version": 3
   },
   "file_extension": ".py",
   "mimetype": "text/x-python",
   "name": "python",
   "nbconvert_exporter": "python",
   "pygments_lexer": "ipython3",
   "version": "3.9.10"
  }
 },
 "nbformat": 4,
 "nbformat_minor": 5
}
