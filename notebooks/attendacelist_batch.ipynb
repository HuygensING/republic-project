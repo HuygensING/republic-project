{
 "cells": [
  {
   "cell_type": "markdown",
   "id": "7ebcfad8-e594-4cb2-8639-249d0dcbb299",
   "metadata": {},
   "source": [
    "# Attendance list batch runner"
   ]
  },
  {
   "cell_type": "code",
   "execution_count": 2,
   "id": "e6df7209-44cb-483d-bfac-aa0879d4908e",
   "metadata": {},
   "outputs": [],
   "source": [
    "# This reload library is just used for developing the REPUBLIC hOCR parser \n",
    "# and can be removed once this module is stable.\n",
    "%reload_ext autoreload\n",
    "%autoreload 2\n",
    "\n",
    "\n",
    "#This is needed to add the repo dir to the path so jupyter\n",
    "# can load the republic modules directly from the notebooks\n",
    "import os\n",
    "import sys\n",
    "import re\n",
    "\n",
    "# from collections import defaultdict\n",
    "import pandas as pd\n",
    "from collections import Counter, defaultdict\n",
    "# import numpy as np\n",
    "# #import xmltodict\n",
    "# import networkx as nx\n",
    "# from sqlalchemy import text\n",
    "\n",
    "\n",
    "repo_dir = os.path.split(os.getcwd())[0]\n",
    "\n",
    "if repo_dir not in sys.path:\n",
    "    sys.path.append(repo_dir)\n",
    "\n",
    "# import sys\n",
    "# !{sys.executable} -m pip install -U jupyter_nbextensions_configurator"
   ]
  },
  {
   "cell_type": "code",
   "execution_count": 3,
   "id": "1b224ff8-23a5-4a5d-85d1-a7f83845be56",
   "metadata": {},
   "outputs": [],
   "source": [
    "# let's repress the warnings, esp. from pandas\n",
    "import warnings\n",
    "warnings.filterwarnings('ignore')\n",
    "warnings.simplefilter('ignore')"
   ]
  },
  {
   "cell_type": "code",
   "execution_count": 4,
   "id": "2039073a-e827-4728-a48d-16a719fa0226",
   "metadata": {},
   "outputs": [],
   "source": [
    "import run_attendancelist"
   ]
  },
  {
   "cell_type": "code",
   "execution_count": 18,
   "id": "f83f6709-e8f3-4b59-af71-5f5a5b00a65d",
   "metadata": {},
   "outputs": [],
   "source": [
    "run_attendancelist.outdir = '/Users/rikhoekstra/republic_out/20211115'"
   ]
  },
  {
   "cell_type": "code",
   "execution_count": 27,
   "id": "42843916-f37c-4c9b-81f8-69b3b296bab4",
   "metadata": {},
   "outputs": [],
   "source": [
    "years = list(range(1739, 1750))"
   ]
  },
  {
   "cell_type": "code",
   "execution_count": null,
   "id": "fff2b14e-befa-41e3-9732-7578784c7691",
   "metadata": {
    "scrolled": true
   },
   "outputs": [
    {
     "name": "stdout",
     "output_type": "stream",
     "text": [
      "logging to attendancelist.log\n",
      "- gathering attendance lists\n",
      "- running initial find\n",
      "1. finding presidents\n",
      "255 found\n",
      "2.find provincial extraordinaris gedeputeerden\n",
      "- running delegates_from_fragments\n",
      "- saving results to /Users/rikhoekstra/republic_out/20211115/1739_out.json\n",
      "1739 done\n",
      "CPU times: user 2min 56s, sys: 3.51 s, total: 2min 59s\n",
      "Wall time: 3min 9s\n",
      "logging to attendancelist.log\n",
      "- gathering attendance lists\n",
      "- running initial find\n",
      "1. finding presidents\n",
      "260 found\n",
      "2.find provincial extraordinaris gedeputeerden\n",
      "- running delegates_from_fragments\n",
      "- saving results to /Users/rikhoekstra/republic_out/20211115/1740_out.json\n",
      "1740 done\n",
      "CPU times: user 3min 5s, sys: 2.54 s, total: 3min 8s\n",
      "Wall time: 3min 18s\n",
      "logging to attendancelist.log\n",
      "- gathering attendance lists\n",
      "- running initial find\n",
      "1. finding presidents\n",
      "256 found\n",
      "2.find provincial extraordinaris gedeputeerden\n",
      "- running delegates_from_fragments\n",
      "- saving results to /Users/rikhoekstra/republic_out/20211115/1741_out.json\n",
      "1741 done\n",
      "CPU times: user 3min 20s, sys: 1.82 s, total: 3min 22s\n",
      "Wall time: 3min 31s\n",
      "logging to attendancelist.log\n",
      "- gathering attendance lists\n",
      "- running initial find\n",
      "1. finding presidents\n",
      "275 found\n",
      "2.find provincial extraordinaris gedeputeerden\n",
      "- running delegates_from_fragments\n",
      "- saving results to /Users/rikhoekstra/republic_out/20211115/1742_out.json\n",
      "1742 done\n",
      "CPU times: user 3min 36s, sys: 3.21 s, total: 3min 39s\n",
      "Wall time: 3min 52s\n",
      "logging to attendancelist.log\n",
      "- gathering attendance lists\n",
      "- running initial find\n",
      "1. finding presidents\n"
     ]
    }
   ],
   "source": [
    "for y in years:\n",
    "    %time run_attendancelist.run(y, outdir='/Users/rikhoekstra/republic_out/20211115', verbose=True)\n",
    "    \n"
   ]
  },
  {
   "cell_type": "code",
   "execution_count": null,
   "id": "d96e9d76-67f7-404c-b960-790469d398c6",
   "metadata": {},
   "outputs": [],
   "source": [
    "import json\n",
    "txt = 'bla'\n",
    "outname = os.path.join(run_attendancelist.outdir, 'text.json')\n",
    "print(outname)\n",
    "with open(outname, 'wb') as fout:\n",
    "    json.dump(fout, txt)\n",
    "    \n"
   ]
  },
  {
   "cell_type": "code",
   "execution_count": 13,
   "id": "101378cc-4d5a-488f-8019-2ade0547932d",
   "metadata": {},
   "outputs": [
    {
     "data": {
      "text/plain": [
       "[]"
      ]
     },
     "execution_count": 13,
     "metadata": {},
     "output_type": "execute_result"
    }
   ],
   "source": [
    "os.listdir('/Users/rikhoekstra/republic_out/20211115/')"
   ]
  },
  {
   "cell_type": "code",
   "execution_count": 17,
   "id": "deda2006-20db-4d11-bac7-43116a097cb9",
   "metadata": {},
   "outputs": [
    {
     "data": {
      "text/plain": [
       "<_io.TextIOWrapper name='/Users/rikhoekstra/republic_out/20211115/text.json' mode='w' encoding='UTF-8'>"
      ]
     },
     "execution_count": 17,
     "metadata": {},
     "output_type": "execute_result"
    }
   ],
   "source": [
    "open('/Users/rikhoekstra/republic_out/20211115/text.json', 'w')"
   ]
  },
  {
   "cell_type": "code",
   "execution_count": null,
   "id": "8396f664-466d-4920-9251-ddeebab04b7a",
   "metadata": {},
   "outputs": [],
   "source": []
  }
 ],
 "metadata": {
  "kernelspec": {
   "display_name": "republic",
   "language": "python",
   "name": "republic"
  },
  "language_info": {
   "codemirror_mode": {
    "name": "ipython",
    "version": 3
   },
   "file_extension": ".py",
   "mimetype": "text/x-python",
   "name": "python",
   "nbconvert_exporter": "python",
   "pygments_lexer": "ipython3",
   "version": "3.8.5"
  }
 },
 "nbformat": 4,
 "nbformat_minor": 5
}
