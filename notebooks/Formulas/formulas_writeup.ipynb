{
 "cells": [
  {
   "cell_type": "markdown",
   "id": "c0147419-bdf6-4906-859f-dcbd4f896f03",
   "metadata": {},
   "source": [
    "# Republic and formulas so far"
   ]
  },
  {
   "cell_type": "markdown",
   "id": "e6214c64-e1f0-4731-b3bf-51a98404d1fd",
   "metadata": {},
   "source": [
    "When we started the REPUBLIC project, the idea was all along that we we would have to use as much information as available in the corpus itself. THe guiding rule was that as much would have to be done automatically as possible, while keeping humans in the loop for direction and correction. \n",
    "\n",
    "Segmenting the resolution corpus of the States General proved to be possible, if we use a number of strategies. The basic ordering of the corpus is:\n",
    "\n",
    "1. by year, \n",
    "2. by volume (sometimes several volumes per year, but always an index per year), \n",
    "3. by session, usually a session day and \n",
    "4. by resolutions. \n",
    "\n",
    "Presumably for reasons of both convention and findability these elements were recognizable on a page.\n",
    "\n",
    "The use of formulas is another feature that served many of the same reasons and additionally served both the ease of the clerks and the need to express important elements of the resolutions unequivocally. For readers these formulaic expressions are tedious, but they allow readers to quickly find important passages.\n",
    "\n",
    "We have identified and used some of these formulas already to structure the resolutions:\n",
    "\n",
    "- The opening of a resolution is by way of a so called proposition in which its reason was stipulated. This included the receipt of a letter, a request, a report etc. \n",
    "- days on which there was no session were invariably indicated with 'nihil actum' (no actions), usually with the reason (mostly Sundays or holidays)\n",
    "- resolutions had several types of decisions: \n",
    "    - _no decision_ ('waar op geen resolutie is genomen'), \n",
    "    - _positive_ (e.g. 'is goedgevonden en verstaan'), \n",
    "    - _negative_ or \n",
    "    - _qualified decision_. \n",
    "    \n",
    "    Often actions the decision was followed by the actions that it caused. For instance, a committee of delegates from the council would get a commission to investigate further into the matter. For this several more or less fixed formulas were used.\n",
    "- the middle part was called the _deliberation_ ('deliberatie') and usually contains and expose of the issue at stake and the points on which a decision had to be taken. Due to the varied nature of the deliberation, this is not characterized by strict formulas. "
   ]
  },
  {
   "cell_type": "markdown",
   "id": "472d8927-d714-45f7-bbaa-89e6c5a95cd0",
   "metadata": {},
   "source": [
    "## About formulas"
   ]
  },
  {
   "cell_type": "markdown",
   "id": "5e912f46-192a-4e75-a237-b6dba3f9e709",
   "metadata": {},
   "source": [
    "### Variable form\n",
    "\n",
    "The term formulaic expressions may seem to indicate a fixed sequence of words, but in fact they are not. \n",
    "1. There is the practical issue that early modern texts have a lot of orthographic variation. This is complicated by our dependence on OCR and HTR for converting contemporary printed and manuscript text to machine readable text. While OCR and especially HTR have improved much over the last decade, the best results still have character error rates of 1-5 percent, which means that the word error rate is a bit higher.\n",
    "1. Formulaic expressions contain a lot of variation. What to a human seems repitition, to a computer is not. This ranges from slight variation in phrases, to grammatical changes due to for instance plural and singular. The subject of a formula may also change. For instance, a proposition may contain _\"Ontvangen/Gelezen/Gehoord een missive/request/rapport van\"_ (EN:_\"Received/Read/Heard a missive/request/report from\"_). When we compare different instances of a formula this variation will almost always only have constant parts in function words (_de, een, sal, werden_, etc) "
   ]
  },
  {
   "cell_type": "markdown",
   "id": "613e1493-267c-47fb-9e2a-7fd324df3a07",
   "metadata": {},
   "source": [
    "### Variable content\n",
    "\n",
    "Many formulaic expressions have constituent parts, that may be contiguous or not. For instance all 1726 resolutions containing 'in handen van' (in the hands of)\n",
    "\n",
    "- [1] _WAAR op gedelibereert zynde_ , [2] _is goedtgevonden ende verstaan_, [3] _dat Copie van de voorschreve Memorie gesteldt sal werden in handen van_ de Heeren van Heeckeren, [4] _ende andere haar Hoogh Mogende Gedeputeerden tot de_ buytenlandtsche [4a]_saaken_, [5]_om te visiteren, examineeren, ende van alles alhier ter Vergaderinge rapport te - doen_.\n",
    "\n",
    "- [1] _WAAR op gedelibereert zynde_ , [2] _is goedtgevonden ende verstaan_, [3] _dat Copie van de voorschreve Missive gestelt sal werden in handen van_ de Heeren van Heeckeren, [4] _ende andere haar Hoogh Mogende Gedeputeerden tot de_ buytenlandtsche [4a] _saaken_, [5] _om te visiteren, examineeren, ende van alles alhier ter Vergaderinge rapport te doen_.\n",
    "\n",
    "- [1] _WAAR op gedelibereert zynde_, hebben de Heeren Gedeputeerden van de Provincie van Hollandt ende West-Vrieslandt de voorschreve Misnive copielijck overgenomen, om in den haaren breder gecommuniceert te werden; ende is dien onverminderr [2] _goedtgevonden ende verstaan_, [3] _dat Copie van de voorschreve_ Missive [3a] _gestelt sal werden in handen van_ de Heeren van Heeckeren, [4] _ende andere haar Hoogh Mogende Gedeputeerden tot de_ buytenlandtsche [4a] _saaken_, [5] _om te visiteeren, examineeren, en van alles alhier ter Vergadermge rapport te doen_.\n",
    "\n",
    "- [1] _WAAR op gedelibereert zynde_ , [2] _is goedtgevonden ende verstaan_, [3] _dat Copie van de voorschrewe_ Missive [3a] _gestelt sal werden in handen van_ de Heeren van Singendonck , [4] _ende andere haar Hoogh Mogende Gedeputeerden tot de saaken van_ de Finantie, om met ende nevens eenige Heeren Gecommitteerden uyt den Raadt van Staate, by haar E. selfs te nomineeren , [5] _te visiteeren, examineeren, ende van alles alhier ter Vergaderinge rapport te doen_.\n",
    "\n",
    "- [1] _WAAR op gedelibereert zynde _, [2] _is goedtgevonden en verstaan_, [3] _dat Copie van de voorschreve_ Missive ende van de Memorie van den Secretaris d'Olivier gisteren gepraesenteert , [3a] _gestelt sal werden in handen van_ de Heeren van Heeckeren, [4] _ende andere haar Hoogh Mogende Gedeputeerden tot de_ buytenlandtsche [4a] _saaken_, [5] _om te visiteeren, examineeren, en van alles alhier ter Vergaderinge rapport te doen_.\n",
    "\n",
    "- [1] _WAAR op gedelibereert zynde_ , [2] _is goedtgevonden ende verstaan_, [3] _dat Copie van de voorschreve_ Missive [3a] _gestelt sal werden in handen van_ de Heeren Torck , [4] _ende andere haar Hoogh Mogende Gedeputeerden tot de saacken van_ de Landen van over Maaze,[5] _om te visiteeren, examineeren, ende van alles alhier ter Vergaderinge rapport te doen_.\n",
    "\n",
    "- [1] _WAAR op gedelibereert zynde_ , [2]_is goedtgevonden ende verstaan_, [3] _dat Copie van de voorschreve Resolutie gestelt sal werden in handen van_ de Heeren van Singendonck, [4] _en andere haar Hoogh Mogende Gedeputeerden tot de saacken van_ de Finantie, [5] _om te visiteeren, examieeren, ende van alles alhier ter Vergaderinge rapport te doen_.\n",
    "\n",
    "- [1] _WAAR op gedelibereert zynde_, [2] _is goedtgevonden ende verstaan_, [3] _dat Copie van de voorschreve Missive gestelt sal werden in handen van_ de Heeren van Singendonck , [4] _en andere haar Hoogh Mogende Gedeputeerden tot de saacken van_ Oost -Vrieslandt, om met ende nevens eenige Heeren Gecommitteerden uyt den Raadt van Staate, by haar E. selfs te nomineeren, [5] _te visiteren, examineeren, ende van alles alhier ter Vergaderinge rapport te doen. Sonder resumptie_.\n",
    "\n",
    "- [1] _WAAR op gedelibereert zijnde_, [2] _is goedtgevonden ende verstaan_, [3] _dat Copie van de voorschreve Missive en Bylage van dien gestelt sal werden in handen van_ de Heeren Essenius, [4] _ende andere haar Hoogh Mogende Gedeputeerden tot de saacken van_ de Finantie, om met ende nevens eenige Heeren Gecommitteerden uyt den Raadt van Staate, by haar E. selfs te nomineeren, [5] _te visiteeren, examineeren, ende van alles alhier ter Vergaderinge rapport te doen_. Sonder resumptie.\n",
    "\n",
    "- [1] _VAAR op gedelibereert zynde_ , [2] _is goedtgevonden ende verstaan_, [3] _dat Copie van de voorschreve_ Missive [3a] _geftelt sal werden in handen van_ de Heeren Essenius, [4] _ende andere haar Hoogh Mogende Gedeputeerden tot de saacken_ van de Finantie, om met ende nevens eenige Heeren Gecommitteerden uyt den Raadt van Staate, by haar B. selfs te nomineeren, [5] _te visiteeren, examineeren, ende van alles alhier ter Vergaderinge rapport te doen_.\n",
    "\n",
    "\n",
    "The basic form of this formula would be something like \n",
    "**NL**: [1] WAAR op gedelibereert zijnde, [2] is goedtgevonden ende verstaan, [3] dat Copie van de voorschreve [document] [3a] gestelt sal werden in handen van [committee president] [4] ende andere haar Hoogh Mogende Gedeputeerden tot de saacken [committee subject] [5] om te visiteeren, examieeren, ende van alles alhier ter Vergaderinge rapport te doen.\n",
    "\n",
    "**EN**: [1] WHEREOF, [2] it has been decided and agreed, [3] that a copy of the aforesaid [document] shall be placed in the hands of the [committee president] [4] and other her High and Mighty to the business concerning [committee subject] [5] to visit, examine, and report everything here at the Council.\n",
    "\n",
    "This general formula prototype consists of 5 constituent elements (numbered 1-5)\n",
    "1. [1] WAAR op gedelibereert zijnde (EN: WHEREOF)\n",
    "1. [2] is goedtgevonden ende verstaan (EN: it has been decided and agreed,)\n",
    "1. [3] dat Copie van de voorschreve (EN: that a copy of the aforesaid)\n",
    "1. [3a] gestelt sal werden in handen van (EN: shall be placed in the hands of the )\n",
    "1. [4] ende andere haar Hoogh Mogende Gedeputeerden tot de saacken (EN: and other her High and Mighty to the business concerning)\n",
    "1. [5] om te visiteeren, examieeren, ende van alles alhier ter Vergaderinge rapport te doen. (EN: to visit, examine, and report everything here at the Council.)\n",
    "\n",
    "Note:\n",
    "- that some parts of the formula, notably 1 and 2 are always the same (at least in these examples), while others change somewhat. Also, some formulas may be extended.\n",
    "- that many of the none standard parts contain information about the people and types of committees involved. The committee type is indicative of the sort of subject that was at hand. There is also variable information about the document that would be handed over, but that is of less importance. \n",
    "- in principle handing over the decision to a committee implies that follow-up actions are involved, but these are too little specific to be of much value.\n",
    "\n",
    "As a more general attribute, most formulas consist of smaller parts. For instance _Haar/Hun Hoog Mog[ende] [Gedeputeerden]_ is the (ubiquitous) name with which the delegates in the sessions of the States General were designated, but in itself it is a small formulaic expression that still may contain some variation. The same is true for the _Z[ijne] Ex[cellentie]_ that indicated the Prince of Orange at the time. Some of these shorter formulaic expressions are contained within the constituent elements of the formulas above. "
   ]
  },
  {
   "cell_type": "markdown",
   "id": "d596246e",
   "metadata": {},
   "source": [
    "The extent of formula variation raises the question where a variation ends and another formula begins. Perhaps working with elements within formulas may be a clue to a solution. \n",
    "\n",
    "For instance, taking the year 1726 as an example we find 'is goedtgevonden ende verstaan' 1168 and 20 times 'is goedtgevonden en verstaan', (that is, _en_ instead of _ende_), but numbers grow to  respectively 1370 and 40 for 'goedtgevonden en[de] verstaan'\n",
    "\n",
    "They are 1101 (and 15) times preceded elements containing 'gedelibereert', mostly  'WAAR op gedelibereert zynde' (not considering recognition errors) and 280 times  'IS naar voorgaande deliberatie' and only once the divergent 'sigh met het voorschreve geproponeerde te conformeeren'. \n",
    "\n",
    "In (slight) contrast, searching for phrases containing the word 'gedelibereert' in the same year return all variants of 'WAAR op gedelibereert zynde', in total 1594. \n",
    "\n",
    "This element is completely stable (not considering recognition errors), but it is followed by some different phrases. As stated above, 'is goedtgevonden en[de] verstaan,', but 'hebben haar Hoogh Mogende gemelde Heeren Gedeputeerden voor de genomen moeyte bedanckt' (EN: 'Their High Mighty have thanked the Lords Delegates for their trouble') occurs 26 times, and 'hebben de Heeren Gedeputeerden van de Provincien van Hollandt ende West-Vrieslandt en van Zeelandt' (and minor variations) 51 times, and once each phrases 'hebben haar Hoogh Mogende den gemelden Heere Calkoen geluck op de reyse gewenscht' (EN: wished their High Mighty the aforesaid Lord Calkoen luck on the journey') and 'hebben haar Hoogh Mogende den gemelden Andries van Vossen tot Contrerolleur van de Convoyen en Licenten' (EN: 'their High Mighty have appointed Andries van Vossen as controller of the Convoyen en Licenten')\n"
   ]
  },
  {
   "cell_type": "markdown",
   "id": "46280063",
   "metadata": {},
   "source": [
    "Even the simple examples from above using manual querying and counting for a single year make it very difficult to come to definitive results, as there is too much variation to consider.\n",
    "\n",
    "This calls for a measure of formula stability, following Joanna Kopaczyk (Kopaczyk 2012). I propose this should include percentage of diversity of elements, and of the variety of element variation. This has to be elaborated further. This should of course only include intended forms of formulaic expression, leaving aside unintended variation due to recognition errors. "
   ]
  },
  {
   "cell_type": "markdown",
   "id": "db4ea298",
   "metadata": {},
   "source": [
    "## Finding Formulas\n",
    "\n",
    "Because formulaic expressions have many variations, it is hard, not so much to find specific instances, but to find them, especially in a reliable form. \n"
   ]
  },
  {
   "cell_type": "markdown",
   "id": "9bc9fba5",
   "metadata": {},
   "source": [
    "### Corpus driven formula detection\n",
    "\n",
    "Marijn Koolen did a search for formulaic expressions in the Resolutions corpus, resulting in 7000 frequently occurring formulaic phrases, available at [https://docs.google.com/spreadsheets/d/1jLR_7pDP2bGMd9HwdEba5TH5dQLmbhsKVa-EGWmqWQ0/edit]. Many of these formulaic expressions contain some form of overlap. For those who know the corpus, many also occur together as elements of a single formula. Some even contain names of delegates, indicating that these may be variables in formulas, but still occur many times.\n",
    "\n",
    "It is not so hard to combine the overlapping formulas to larger chains into compound formulaic expressions. For operationalizing them as search instruments of the corpus, this is very important as most of the expressions contain too little information by themselves. \n",
    "\n",
    "As we have seen above, however, it cannot be assumed that formulaic expressions that are contained within other formulas are always part of the same phrase."
   ]
  },
  {
   "cell_type": "markdown",
   "id": "db2b3901",
   "metadata": {},
   "source": [
    "### Formulas from context\n",
    "\n",
    "There is also code to 'harvest' formulaic expressions from the context of search words. The idea is that we want to use formulaic expressions to detect named entities in the resolutions. A number of these entities we already know. These are the protagonists of the resolutions, the delegates in the sessions of the States General who also appeared as commissionaries and in many other roles in the resolutions. As we have identified their names from the attendance lists at each session, we also know in what form they appear in the text. \n",
    "\n",
    "Another type of entity we already know of are the representatives of the Republic in other countries and the foreign representatives in the Republic. Derived from the repertory compiled by Schutte we know their names and the approximate dates they were in function. \n",
    "\n",
    "Of course, there are many other entities we do not know, but for a start and a proof of concept, these will do. \n"
   ]
  },
  {
   "cell_type": "markdown",
   "id": "4cf2c471",
   "metadata": {},
   "source": [
    "With a keyword in context search, we find these entities in the resolutions and harvest their context, that is the surrounding words. Often, an entity will appear in the middle of a formulaic expression. For instance:\n",
    "searching for delegate 'Vegelin' results in\n",
    "\n",
    "- ontfangen een missive van de heeren vegilin van claarbergen en van haarsolte, haar hoogh mogende commissarissen deciseurs \n",
    "\n",
    "and 'Umbgroven' in\n",
    "\n",
    "- is gehoort het rapport van de heeren umbgroeven , en andere haar hoogh mogende gedeputeerden tot de militaire\n",
    "\n",
    "Here we see different formulaic expressions:\n",
    "\n",
    "*prefix*: \n",
    "- ontfangen een missive van de heeren\n",
    "- is gehoort het rapport van de heeren\n",
    "\n",
    "*suffix*:\n",
    "- en van haarsolte, haar hoogh mogende commissarissen deciseurs \n",
    "- en andere haar hoogh mogende gedeputeerden tot de militaire\n",
    "\n",
    "Because the size of the context is limited, the formulas are not complete. \n",
    "\n",
    "There are several things to note about these formulas:\n",
    "\n",
    "- prefixes contain different formulaic expressions from suffixes\n",
    "- some of the searched entities (i.e. delegates) act together with other delegates, who then become part of the context"
   ]
  },
  {
   "attachments": {},
   "cell_type": "markdown",
   "id": "4ad74fce",
   "metadata": {},
   "source": [
    "The different contexts need to be clustered into formula 'families' to identify formulaic expressions and variations. This is another take on formula harvesting than the corpus driven method as it is tied to the context and will yield much more variation. Formulaic expressions can be classified using automatic clustering methods. \n",
    "\n",
    "We have tried different methods to clustering:\n",
    "- jaccard distance (overlap in bag of words). This is fast, but as it works with set overlaps it does not take word order into account.\n",
    "- (variant of) levenshtein distance and clustering by (bayesian) KMeans. The clustering gives better results if the obvious (i.e. most stable and frequent formulaic expressions) are filtered at a first pass and the 'rest' is once again clustered. This is slower, but is also dependent on word order. \n",
    "In practice both methods give comparable results, but it is important to take the length of the formulas that are compared into account. While the intended context length is always the same, some contexts either have not enough words or the OCR (or HTR) has introduced single characters or interpunction that get filtered out in the tokenizing process.\n",
    "\n",
    "The problem with these methods is the variation in formulaic expressions. If we try to filter out variations by only keeping the most common words and replacing uncommon words by variables, we almost always end up with skeletons consisting of function words. While these are unsuitable form finding, they perhaps can still serve as a template for the general structure of a formula.\n",
    "\n",
    "The table below gives an impression of the variation of a single formula"
   ]
  },
  {
   "cell_type": "markdown",
   "id": "bdbf00b9",
   "metadata": {},
   "source": [
    "<table border=\"1\" class=\"dataframe\">\n",
    "  <thead>\n",
    "    <tr style=\"text-align: right;\">\n",
    "      <th></th>\n",
    "      <th>formula</th>\n",
    "    </tr>\n",
    "  </thead>\n",
    "  <tbody>\n",
    "    <tr>\n",
    "      <th>2</th>\n",
    "      <td>waar op gedelibereert zynde is</td>\n",
    "    </tr>\n",
    "    <tr>\n",
    "      <th>3</th>\n",
    "      <td>op gedelibereert zynde is goedgevonden en</td>\n",
    "    </tr>\n",
    "    <tr>\n",
    "      <th>4</th>\n",
    "      <td>zynde is goedgevonden en verstaan dat</td>\n",
    "    </tr>\n",
    "    <tr>\n",
    "      <th>29</th>\n",
    "      <td>op gedelibereert zynde hebben de</td>\n",
    "    </tr>\n",
    "    <tr>\n",
    "      <th>30</th>\n",
    "      <td>waar op gedelibereert zynde hebben</td>\n",
    "    </tr>\n",
    "    <tr>\n",
    "      <th>141</th>\n",
    "      <td>&lt;START&gt; waar op gedelibereert zynde</td>\n",
    "    </tr>\n",
    "    <tr>\n",
    "      <th>320</th>\n",
    "      <td>&lt;START&gt; by resumtie gedelibereert zynde op</td>\n",
    "    </tr>\n",
    "    <tr>\n",
    "      <th>383</th>\n",
    "      <td>worden waar op gedelibereert zynde</td>\n",
    "    </tr>\n",
    "    <tr>\n",
    "      <th>701</th>\n",
    "      <td>resumptie gedelibereert zynde op de</td>\n",
    "    </tr>\n",
    "    <tr>\n",
    "      <th>718</th>\n",
    "      <td>op gedelibereert zynde hebben haar hoogh mogende</td>\n",
    "    </tr>\n",
    "      <th>721</th>\n",
    "      <td>op gedelibereert zynde hebben haar edele mogende</td>\n",
    "    </tr>\n",
    "   \n",
    "  </tbody>\n",
    "</table>"
   ]
  },
  {
   "cell_type": "markdown",
   "id": "09fdc9e4",
   "metadata": {},
   "source": [
    "But as remarked above, 'waar op gedelibereert zynde' is a very stable formulaic expression. It is often, but not always followed by 'is goedtgevonden en[de] verstaan'. In this respect, both methods agree on the formulas."
   ]
  },
  {
   "attachments": {},
   "cell_type": "markdown",
   "id": "4d137b47",
   "metadata": {},
   "source": [
    "something about comparing formulas"
   ]
  },
  {
   "attachments": {},
   "cell_type": "markdown",
   "id": "dc83e5b0",
   "metadata": {},
   "source": [
    "Both methods yield overlapping results that are, however, different in the aspects they highlight. The corpus generated formulas are stable because they are based on frequency measures. The 7000 formulas that are harvested are the top 7000 occurring in the corpus. This also means\n",
    "- there is no direct way of telling which of the overlapping formulas should be regarded as the same or as belonging to different 'basis' formula\n",
    "- the formulas give no clue for change over time\n",
    "- less frequent, but still important or instable formula will not be in the top 7000. This may be remediated by extending the list, but this results in unmanagable amounts of formulas.\n",
    "\n",
    "The context generated formulas will yield all of the possible context in which the searched keywords occur and (if taken from the whole corpus) for changes over time, but\n",
    "- they only return the contexts that are specific for the type of keywords that are searched and by themselves they do not offer clues what other contexts may exist for other types of keywords.\n",
    "- there is a large amount of contexts that may not be very relevant. This can only be determined by comparing them  with the results from the whole corpus, but this will yield an enormous amount of variety\n",
    "\n"
   ]
  },
  {
   "attachments": {},
   "cell_type": "markdown",
   "id": "274c5156",
   "metadata": {},
   "source": [
    "#### Ways to extend the methodology\n",
    "\n",
    "There are several paths to extend the methods. The first task is to reduce the amount of formulas and to cluster them under basic formulas\n",
    "- find the overlap between the results from the two methods\n",
    "- find the overlap between the formulas from the frequency list\n",
    "- determine the function of the formulas. There are several ways to do this:\n",
    "    - look at the location of a formula within resolutions. For the first 100 of the formula list we have done so in the spreadsheet\n",
    "    - determine their content\n",
    "- reduce formula variation:\n",
    "    - normalize the words in the formulas. Many formulaic expressions contain plurals and singulars There are standard NLP preocedures for doing this, but they usually do not work on pre-modern text. Perhaps tools like GysBERT could offer some help here. Alternatively, we have experimented with dictionaries with variants. The fuzzy-search library is very well suited for dealing with small variants, but slows down with many large phrases\n",
    "\n",
    "\n",
    "search for key terms from formulas"
   ]
  },
  {
   "attachments": {},
   "cell_type": "markdown",
   "id": "c3784013",
   "metadata": {},
   "source": [
    "\n",
    "Desiderata:\n",
    "1. formula comparer (code available)\n",
    "1. formula chainer (some code available)\n",
    "1. ground truth for identifying formulas\n",
    "   - formula elements\n",
    "   - formula clusters\n",
    "   - formula variants\n",
    "   - formula location\n",
    "   - variant list of key terms in formulas\n",
    "   - keywords/sequences for formula search\n",
    "\n"
   ]
  },
  {
   "cell_type": "code",
   "execution_count": null,
   "id": "beb7da4a",
   "metadata": {
    "vscode": {
     "languageId": "plaintext"
    }
   },
   "outputs": [],
   "source": []
  },
  {
   "cell_type": "code",
   "execution_count": null,
   "id": "5a1b51be",
   "metadata": {
    "vscode": {
     "languageId": "plaintext"
    }
   },
   "outputs": [],
   "source": []
  }
 ],
 "metadata": {
  "kernelspec": {
   "display_name": "Python 3 (ipykernel)",
   "language": "python",
   "name": "python3"
  },
  "language_info": {
   "codemirror_mode": {
    "name": "ipython",
    "version": 3
   },
   "file_extension": ".py",
   "mimetype": "text/x-python",
   "name": "python",
   "nbconvert_exporter": "python",
   "pygments_lexer": "ipython3",
   "version": "3.10.9"
  },
  "toc": {
   "base_numbering": 1,
   "nav_menu": {},
   "number_sections": true,
   "sideBar": true,
   "skip_h1_title": false,
   "title_cell": "Table of Contents",
   "title_sidebar": "Contents",
   "toc_cell": false,
   "toc_position": {},
   "toc_section_display": true,
   "toc_window_display": false
  }
 },
 "nbformat": 4,
 "nbformat_minor": 5
}
