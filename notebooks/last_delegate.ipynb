{
 "cells": [
  {
   "cell_type": "markdown",
   "id": "8d829c16-47f2-4cbf-9be5-daa84d31e73c",
   "metadata": {},
   "source": [
    "## Calculate the ultimate delegate and cutoff texts beyond that\n",
    "\n",
    "So we do not get spurious words in the resumption marked as delegates"
   ]
  },
  {
   "cell_type": "raw",
   "id": "d61ec2cb-8dae-4617-a5f3-70f2472d9280",
   "metadata": {},
   "source": [
    "import statistics\n",
    "from collections import Counter\n",
    "runner = runner1715\n",
    "txtlens = [len(runner.searchobs[T].text) for T in runner.searchobs]\n",
    "print(min(txtlens), max(txtlens))\n",
    "print(statistics.mean(txtlens))\n",
    "print(statistics.stdev(txtlens))\n",
    "print(Counter(txtlens).most_common())"
   ]
  },
  {
   "cell_type": "code",
   "execution_count": 382,
   "id": "2d579024-5010-405d-a6f0-c72296387316",
   "metadata": {},
   "outputs": [
    {
     "data": {
      "text/plain": [
       "[{'phrase': 'BY refumptie gedelibereert zynde',\n",
       "  'label': 'resolution_opening',\n",
       "  'max_offset': 4},\n",
       " {'phrase': 'DE Resolutien, gisteren genomen',\n",
       "  'label': 'resolution_summarized',\n",
       "  'max_offset': 4,\n",
       "  'variants': ['DE Resolutien, eergisteren genomen',\n",
       "   'DE Resolutien voorleede ']},\n",
       " {'phrase': 'zyn gelesen en gerefumeert', 'label': 'resolution_summarized'}]"
      ]
     },
     "execution_count": 382,
     "metadata": {},
     "output_type": "execute_result"
    }
   ],
   "source": [
    "from republic.model.republic_phrase_model import resolution_phrase_model\n",
    "resolution_phrase_model[-3:]\n",
    "resumption = resolution_phrase_model[-3:]"
   ]
  },
  {
   "cell_type": "code",
   "execution_count": 392,
   "id": "34f7f0ee-da64-44a5-9181-040b20a11622",
   "metadata": {},
   "outputs": [],
   "source": [
    "yesterdays = ['gisteren', 'eergisteren', 'voorleden donderdag',\n",
    "              'voorleden vrijdagh', 'voorlede saterdagh']\n",
    "searchstring = \"DE Resolutien {g} ge-\"\n",
    "for g in yesterdays:\n",
    "    samenv.append(searchstring.format(g=g))\n",
    "resumption[1][\"variants\"].extend(samenv)"
   ]
  },
  {
   "cell_type": "code",
   "execution_count": 393,
   "id": "cf1f7b68-6ae1-4e9d-8c74-cfcf0fc67e58",
   "metadata": {},
   "outputs": [],
   "source": [
    "from fuzzy_search.fuzzy_phrase_searcher import FuzzyPhraseSearcher\n",
    "from fuzzy_search.fuzzy_phrase_model import PhraseModel\n",
    "\n",
    "# highger matching thresholds for higher quality OCR/HTR (higher precision, recall should be good anyway)\n",
    "# lower matching thresholds for lower quality OCR/HTR (higher recall, as that's the main problem)\n",
    "config = {\n",
    "    \"char_match_threshold\": 0.8,\n",
    "    \"ngram_threshold\": 0.6,\n",
    "    \"levenshtein_threshold\": 0.8,\n",
    "    \"ignorecase\": False,\n",
    "    \"ngram_size\": 2,\n",
    "    \"skip_size\": 2,\n",
    "}\n",
    "\n",
    "# initialize a new searcher instance with the config\n",
    "resumption_searcher = FuzzyPhraseSearcher(config)\n",
    "\n",
    "# create a list of domain keywords and phrases\n",
    "#variants = [{'phrase': k, 'variants': v['variants']} for k, v in runner1715.all_matched.items()]\n",
    "phrase = \"DE Reslolutien, gisteren genomen, zijn gelesen ende geresumeert, gelijck\"\n",
    "\n",
    "# create a PhraseModel object from the domain phrases\n",
    "phrase_model = PhraseModel(resumption)\n",
    "# phrase_model.add_variants(variants)\n",
    "resumption_searcher.index_phrase_model(phrase_model=phrase_model)"
   ]
  },
  {
   "cell_type": "code",
   "execution_count": 395,
   "id": "be005fad-609a-4075-8a1c-d6adc2d39d34",
   "metadata": {},
   "outputs": [],
   "source": [
    "from scipy.special import softmax\n",
    "from numpy import argmax\n",
    "def score_match(match):\n",
    "    result  = sum([match.levenshtein_similarity, match.character_overlap, match.ngram_overlap, score_levenshtein_distance_ratio(str(match.variant.exact_string),str(match.phrase.exact_string))])\n",
    "    return result\n",
    "\n"
   ]
  },
  {
   "cell_type": "code",
   "execution_count": 396,
   "id": "8646f8be-18d2-470d-aab1-da88c010f7e8",
   "metadata": {},
   "outputs": [
    {
     "data": {
      "text/plain": [
       "[PhraseMatch(phrase: \"DE Resolutien, gisteren genomen\", variant: \"DE Resolutien, gisteren genomen\",string: \"DE Resolutien, gisteren genomen\", offset: 342)]"
      ]
     },
     "execution_count": 396,
     "metadata": {},
     "output_type": "execute_result"
    }
   ],
   "source": [
    "res"
   ]
  },
  {
   "cell_type": "code",
   "execution_count": null,
   "id": "3b231e5b-34df-4eeb-97fd-4042b8eced60",
   "metadata": {},
   "outputs": [],
   "source": [
    "for T in runner1730.searchobs:\n",
    "    ob = runner1730.searchobs[T]\n",
    "    res = resumption_searcher.find_matches(ob.text, include_variants=True, use_word_boundaries=False)\n",
    "    if res:\n",
    "        softscore = softmax([score_match(match) for match in res])\n",
    "        i = argmax(softscore)\n",
    "        res[i].offset"
   ]
  },
  {
   "cell_type": "markdown",
   "id": "d806f5f2-df3f-4943-8c15-3178fbf86111",
   "metadata": {},
   "source": [
    "now we try to truncate the text after the last delegate. The delegates in the attendance lists appear in a fixed order of provinces. As there were a rotating, but limited number of delegates for the provinces at any given time, there is an even smaller number of delegates who appear as the last delegate in the attendancelist. For the 1715 year for instance the most common last delegate is Van der Lelij, who appeared 254 times, almost 32 times the 8 appearence of the next frequent delegate (du Tour). \n",
    "\n",
    "We check the attendance lists for inconsistencies. Even if the delegate for the last province (Friesland - English *Frysia*) was not present, or if the matcher missed him this will still truncate spurious delegate markers.\n"
   ]
  },
  {
   "cell_type": "code",
   "execution_count": 20,
   "id": "98f1eb2a-ec7e-47bc-a1c3-7dfddc87017b",
   "metadata": {},
   "outputs": [],
   "source": [
    "from collections import Counter\n",
    "lastfragments = []\n",
    "lastpatterns = []\n",
    "for ob in runner1730.searchobs:\n",
    "    lastknownfragment = ''\n",
    "    lastpattern = ''\n",
    "    fragments = runner1730.searchobs[ob].get_fragments()\n",
    "    fragments.reverse()\n",
    "    for item in fragments:\n",
    "        f = item.get('delegate_name') or ''\n",
    "        p = item.get('pattern') or ''\n",
    "        if  f != '':\n",
    "            lastknownfragment = item['delegate_name']\n",
    "            lastfragments.append(lastknownfragment)\n",
    "            lastpattern = p\n",
    "            lastpatterns.append(lastpattern)\n",
    "            break\n"
   ]
  },
  {
   "cell_type": "code",
   "execution_count": 21,
   "id": "59000a35-43f6-4966-8df5-62c4be46909e",
   "metadata": {},
   "outputs": [
    {
     "data": {
      "text/html": [
       "<div>\n",
       "<style scoped>\n",
       "    .dataframe tbody tr th:only-of-type {\n",
       "        vertical-align: middle;\n",
       "    }\n",
       "\n",
       "    .dataframe tbody tr th {\n",
       "        vertical-align: top;\n",
       "    }\n",
       "\n",
       "    .dataframe thead th {\n",
       "        text-align: right;\n",
       "    }\n",
       "</style>\n",
       "<table border=\"1\" class=\"dataframe\">\n",
       "  <thead>\n",
       "    <tr style=\"text-align: right;\">\n",
       "      <th></th>\n",
       "      <th>name</th>\n",
       "      <th>number</th>\n",
       "    </tr>\n",
       "  </thead>\n",
       "  <tbody>\n",
       "    <tr>\n",
       "      <th>0</th>\n",
       "      <td>Tamminga van Alberda</td>\n",
       "      <td>81</td>\n",
       "    </tr>\n",
       "    <tr>\n",
       "      <th>1</th>\n",
       "      <td>Berghuis</td>\n",
       "      <td>77</td>\n",
       "    </tr>\n",
       "    <tr>\n",
       "      <th>2</th>\n",
       "      <td>van Lintelo</td>\n",
       "      <td>29</td>\n",
       "    </tr>\n",
       "    <tr>\n",
       "      <th>3</th>\n",
       "      <td>Queisen</td>\n",
       "      <td>27</td>\n",
       "    </tr>\n",
       "    <tr>\n",
       "      <th>4</th>\n",
       "      <td>Clant</td>\n",
       "      <td>24</td>\n",
       "    </tr>\n",
       "    <tr>\n",
       "      <th>5</th>\n",
       "      <td>van der Waeyen</td>\n",
       "      <td>12</td>\n",
       "    </tr>\n",
       "    <tr>\n",
       "      <th>6</th>\n",
       "      <td>van Isselmuden tot Zwollingerkamp</td>\n",
       "      <td>10</td>\n",
       "    </tr>\n",
       "    <tr>\n",
       "      <th>7</th>\n",
       "      <td>van Welderen</td>\n",
       "      <td>6</td>\n",
       "    </tr>\n",
       "    <tr>\n",
       "      <th>8</th>\n",
       "      <td>van Sloterdijck</td>\n",
       "      <td>6</td>\n",
       "    </tr>\n",
       "    <tr>\n",
       "      <th>9</th>\n",
       "      <td>Baert</td>\n",
       "      <td>6</td>\n",
       "    </tr>\n",
       "    <tr>\n",
       "      <th>10</th>\n",
       "      <td>thoe Schwartzenbergh</td>\n",
       "      <td>6</td>\n",
       "    </tr>\n",
       "    <tr>\n",
       "      <th>11</th>\n",
       "      <td>Becker</td>\n",
       "      <td>2</td>\n",
       "    </tr>\n",
       "    <tr>\n",
       "      <th>12</th>\n",
       "      <td>Jordens</td>\n",
       "      <td>2</td>\n",
       "    </tr>\n",
       "    <tr>\n",
       "      <th>13</th>\n",
       "      <td>Ouwens</td>\n",
       "      <td>1</td>\n",
       "    </tr>\n",
       "    <tr>\n",
       "      <th>14</th>\n",
       "      <td>ten Brink</td>\n",
       "      <td>1</td>\n",
       "    </tr>\n",
       "    <tr>\n",
       "      <th>15</th>\n",
       "      <td>Eeckhout</td>\n",
       "      <td>1</td>\n",
       "    </tr>\n",
       "    <tr>\n",
       "      <th>16</th>\n",
       "      <td>Berchuis</td>\n",
       "      <td>1</td>\n",
       "    </tr>\n",
       "    <tr>\n",
       "      <th>17</th>\n",
       "      <td>de Kempenaer</td>\n",
       "      <td>1</td>\n",
       "    </tr>\n",
       "  </tbody>\n",
       "</table>\n",
       "</div>"
      ],
      "text/plain": [
       "                                 name  number\n",
       "0                Tamminga van Alberda      81\n",
       "1                            Berghuis      77\n",
       "2                         van Lintelo      29\n",
       "3                             Queisen      27\n",
       "4                               Clant      24\n",
       "5                      van der Waeyen      12\n",
       "6   van Isselmuden tot Zwollingerkamp      10\n",
       "7                        van Welderen       6\n",
       "8                     van Sloterdijck       6\n",
       "9                               Baert       6\n",
       "10               thoe Schwartzenbergh       6\n",
       "11                             Becker       2\n",
       "12                            Jordens       2\n",
       "13                             Ouwens       1\n",
       "14                          ten Brink       1\n",
       "15                           Eeckhout       1\n",
       "16                           Berchuis       1\n",
       "17                       de Kempenaer       1"
      ]
     },
     "execution_count": 21,
     "metadata": {},
     "output_type": "execute_result"
    }
   ],
   "source": [
    "# last marked delegates:\n",
    "c = Counter(lastfragments)\n",
    "# c.most_common():\n",
    "#     print(i[0], i[1])\n",
    "pd.DataFrame(c.most_common(), columns=['name', 'number'], )\n"
   ]
  },
  {
   "cell_type": "code",
   "execution_count": 23,
   "id": "9a006da3-1870-4f01-b4fc-f39efea8858f",
   "metadata": {
    "tags": []
   },
   "outputs": [
    {
     "ename": "NameError",
     "evalue": "name 'goodvariants' is not defined",
     "output_type": "error",
     "traceback": [
      "\u001b[0;31m---------------------------------------------------------------------------\u001b[0m",
      "\u001b[0;31mNameError\u001b[0m                                 Traceback (most recent call last)",
      "\u001b[0;32m<ipython-input-23-6a58fd7b5b74>\u001b[0m in \u001b[0;36m<module>\u001b[0;34m\u001b[0m\n\u001b[1;32m      1\u001b[0m \u001b[0;32mfor\u001b[0m \u001b[0mpers\u001b[0m \u001b[0;32min\u001b[0m \u001b[0mCounter\u001b[0m\u001b[0;34m(\u001b[0m\u001b[0mlastfragments\u001b[0m\u001b[0;34m)\u001b[0m\u001b[0;34m.\u001b[0m\u001b[0mmost_common\u001b[0m\u001b[0;34m(\u001b[0m\u001b[0;36m10\u001b[0m\u001b[0;34m)\u001b[0m\u001b[0;34m:\u001b[0m\u001b[0;34m\u001b[0m\u001b[0;34m\u001b[0m\u001b[0m\n\u001b[0;32m----> 2\u001b[0;31m     \u001b[0mprint\u001b[0m\u001b[0;34m(\u001b[0m\u001b[0mpers\u001b[0m\u001b[0;34m,\u001b[0m \u001b[0;34m[\u001b[0m\u001b[0mgoodvariants\u001b[0m\u001b[0;34m[\u001b[0m\u001b[0md\u001b[0m\u001b[0;34m]\u001b[0m \u001b[0;32mfor\u001b[0m \u001b[0md\u001b[0m \u001b[0;32min\u001b[0m \u001b[0mgoodvariants\u001b[0m \u001b[0;32mif\u001b[0m \u001b[0mgoodvariants\u001b[0m\u001b[0;34m[\u001b[0m\u001b[0md\u001b[0m\u001b[0;34m]\u001b[0m\u001b[0;34m[\u001b[0m\u001b[0;34m'match_name'\u001b[0m\u001b[0;34m]\u001b[0m\u001b[0;34m.\u001b[0m\u001b[0mlower\u001b[0m\u001b[0;34m(\u001b[0m\u001b[0;34m)\u001b[0m \u001b[0;34m==\u001b[0m \u001b[0mpers\u001b[0m\u001b[0;34m[\u001b[0m\u001b[0;36m0\u001b[0m\u001b[0;34m]\u001b[0m\u001b[0;34m.\u001b[0m\u001b[0mlower\u001b[0m\u001b[0;34m(\u001b[0m\u001b[0;34m)\u001b[0m\u001b[0;34m]\u001b[0m\u001b[0;34m)\u001b[0m\u001b[0;34m\u001b[0m\u001b[0;34m\u001b[0m\u001b[0m\n\u001b[0m\u001b[1;32m      3\u001b[0m     \u001b[0;31m#print(pers, [runner.all_matched[d] for d in runner.all_matched if runner.all_matched[d]['name'].lower() == pers[0].lower()])\u001b[0m\u001b[0;34m\u001b[0m\u001b[0;34m\u001b[0m\u001b[0;34m\u001b[0m\u001b[0m\n",
      "\u001b[0;31mNameError\u001b[0m: name 'goodvariants' is not defined"
     ]
    }
   ],
   "source": [
    "for pers in Counter(lastfragments).most_common(10):\n",
    "    print(pers, [goodvariants[d] for d in goodvariants if goodvariants[d]['match_name'].lower() == pers[0].lower()])\n",
    "    #print(pers, [runner.all_matched[d] for d in runner.all_matched if runner.all_matched[d]['name'].lower() == pers[0].lower()])"
   ]
  },
  {
   "cell_type": "code",
   "execution_count": 22,
   "id": "b31943d3-3be9-4af5-b829-461642fa1def",
   "metadata": {
    "tags": []
   },
   "outputs": [
    {
     "data": {
      "text/plain": [
       "['Tamminga van Alberda',\n",
       " 'Berghuis',\n",
       " 'van Lintelo',\n",
       " 'Queisen',\n",
       " 'Clant',\n",
       " 'van der Waeyen',\n",
       " 'van Isselmuden tot Zwollingerkamp',\n",
       " 'van Welderen',\n",
       " 'van Sloterdijck',\n",
       " 'Baert']"
      ]
     },
     "execution_count": 22,
     "metadata": {},
     "output_type": "execute_result"
    }
   ],
   "source": [
    "common_last_delegates = [pers[0] for pers in Counter(lastfragments).most_common(10)]\n",
    "common_last_delegates"
   ]
  },
  {
   "cell_type": "markdown",
   "id": "f7b70d5e-751f-463b-a80f-4c2ad3f2faba",
   "metadata": {},
   "source": [
    "- TODO: search after last delegate for common other last delegates\n",
    "- TODO: truncate text and spans after last known delegate."
   ]
  }
 ],
 "metadata": {
  "kernelspec": {
   "display_name": "republic",
   "language": "python",
   "name": "republic"
  },
  "language_info": {
   "codemirror_mode": {
    "name": "ipython",
    "version": 3
   },
   "file_extension": ".py",
   "mimetype": "text/x-python",
   "name": "python",
   "nbconvert_exporter": "python",
   "pygments_lexer": "ipython3",
   "version": "3.8.5"
  }
 },
 "nbformat": 4,
 "nbformat_minor": 5
}
