{
 "cells": [
  {
   "cell_type": "markdown",
   "id": "a0f2cab6",
   "metadata": {},
   "source": [
    "## Analyse Resoluties in het Rampjaar\n",
    "\n",
    "Vragen:\n",
    "- rondom commissies?\n",
    "- administrative veranderingen\n",
    "- wat kunnen we vinden in de ordinaris resoluties?\n",
    "- vertegenwoordiging van gewesten\n",
    "\n",
    "- 25 februari\n",
    "- April: aanleiding begin oorlog\n",
    "- zeeslagen in juni\n",
    "- moord op de Witt broers\n",
    "\n",
    "- sleutelmomenten bij stichting rampjaar\n"
   ]
  },
  {
   "cell_type": "code",
   "execution_count": 1,
   "id": "492d49ff",
   "metadata": {},
   "outputs": [
    {
     "name": "stdout",
     "output_type": "stream",
     "text": [
      "/Users/marijnkoolen/Code/Huygens/republic-project\n"
     ]
    }
   ],
   "source": [
    "# This is needed to add the repo dir to the path so jupyter\n",
    "# can load the republic modules directly from the notebooks\n",
    "import os\n",
    "import sys\n",
    "repo_name = 'republic-project'\n",
    "repo_dir = os.path.split(os.getcwd())[0].split(repo_name)[0] + repo_name\n",
    "print(repo_dir)\n",
    "if repo_dir not in sys.path:\n",
    "    sys.path.append(repo_dir)\n",
    "\n"
   ]
  },
  {
   "cell_type": "code",
   "execution_count": 2,
   "id": "d9a92ae8",
   "metadata": {},
   "outputs": [],
   "source": [
    "from republic.elastic.republic_elasticsearch import initialize_es\n",
    "\n",
    "rep_es = initialize_es(host_type='external', timeout=60)"
   ]
  },
  {
   "cell_type": "code",
   "execution_count": null,
   "id": "d856fad5",
   "metadata": {},
   "outputs": [],
   "source": [
    "# use single word or multi-word phrase\n",
    "for hit in rep_es.keyword_in_context(\"voornoemde Procureur\"):\n",
    "    print(hit[\"context\"])"
   ]
  },
  {
   "cell_type": "code",
   "execution_count": 4,
   "id": "e71a04e1",
   "metadata": {},
   "outputs": [],
   "source": [
    "import gzip\n",
    "import json\n",
    "\n",
    "import republic.model.republic_document_model as rdm\n",
    "\n",
    "\n",
    "resolutions_file = \"../../data/resolutions/rampjaar-ordinaris-resolutions.json.gz\"\n",
    "\n",
    "# Reading the JSON representations from file again and turning \n",
    "# them into Resolution objects again\n",
    "with gzip.open(resolutions_file, 'rt') as fh:\n",
    "    # the document model has a convenience function to turn a JSON representation\n",
    "    # to a Resolution object: json_to_republic_resolution\n",
    "    resolutions_1672 = [rdm.json_to_republic_resolution(res) for res in json.load(fh)]\n",
    "    "
   ]
  },
  {
   "cell_type": "code",
   "execution_count": 5,
   "id": "4e4694ad",
   "metadata": {},
   "outputs": [],
   "source": [
    "import gzip\n",
    "\n",
    "para_file = \"../../data/paragraphs/resolutions-paragraphs-3285-3286.tsv.gz\"\n",
    "\n",
    "with gzip.open(para_file, 'wt') as fh:\n",
    "    for res in resolutions_1672:\n",
    "        for para in res.paragraphs:\n",
    "            fh.write(f\"{res.id}\\t{para.id}\\t{para.text}\\n\")"
   ]
  },
  {
   "cell_type": "code",
   "execution_count": 18,
   "id": "7231176a",
   "metadata": {},
   "outputs": [
    {
     "name": "stdout",
     "output_type": "stream",
     "text": [
      "parsing file ../../data/paragraphs/resolutions-paragraphs-3285-3286.tsv.gz\n",
      "['jovis', 'den', '7']\n"
     ]
    }
   ],
   "source": [
    "from gensim.models import Word2Vec\n",
    "import republic.helper.text_helper as text_helper\n",
    "\n",
    "para_file = \"../../data/paragraphs/resolutions-paragraphs-3285-3286.tsv.gz\"\n",
    "\n",
    "res_sents = text_helper.ResolutionSentences(para_file)\n",
    "\n",
    "for sent in res_sents:\n",
    "    print(sent)\n",
    "    break"
   ]
  },
  {
   "cell_type": "code",
   "execution_count": 19,
   "id": "f02a8a07",
   "metadata": {},
   "outputs": [
    {
     "name": "stdout",
     "output_type": "stream",
     "text": [
      "parsing file ../../data/paragraphs/resolutions-paragraphs-3285-3286.tsv.gz\n",
      "parsing file ../../data/paragraphs/resolutions-paragraphs-3285-3286.tsv.gz\n",
      "parsing file ../../data/paragraphs/resolutions-paragraphs-3285-3286.tsv.gz\n",
      "parsing file ../../data/paragraphs/resolutions-paragraphs-3285-3286.tsv.gz\n",
      "parsing file ../../data/paragraphs/resolutions-paragraphs-3285-3286.tsv.gz\n",
      "parsing file ../../data/paragraphs/resolutions-paragraphs-3285-3286.tsv.gz\n"
     ]
    }
   ],
   "source": [
    "model_rampjaar = Word2Vec(sentences=res_sents, vector_size=100, window=100, min_count=3, workers=4)"
   ]
  },
  {
   "cell_type": "code",
   "execution_count": 20,
   "id": "33e28362",
   "metadata": {},
   "outputs": [
    {
     "data": {
      "text/plain": [
       "[('secreete', 0.8964669108390808),\n",
       " ('kondtschappen', 0.8894565105438232),\n",
       " ('crijsch', 0.8885893225669861),\n",
       " ('nadruck', 0.8840699195861816),\n",
       " ('ticheden', 0.8839587569236755),\n",
       " ('onser', 0.8797962069511414),\n",
       " ('voornamentlick', 0.8755388855934143),\n",
       " ('beswooren', 0.8736085295677185),\n",
       " ('complete', 0.8719626069068909),\n",
       " ('ritmeesteren', 0.8708713054656982)]"
      ]
     },
     "execution_count": 20,
     "metadata": {},
     "output_type": "execute_result"
    }
   ],
   "source": [
    "model_rampjaar.wv.most_similar('periculeuse')"
   ]
  },
  {
   "cell_type": "code",
   "execution_count": 14,
   "id": "382af938",
   "metadata": {},
   "outputs": [
    {
     "name": "stdout",
     "output_type": "stream",
     "text": [
      "parsing file ../../data/paragraphs/resolutions-paragraphs-random.tsv.gz\n",
      "parsing file ../../data/paragraphs/resolutions-paragraphs-3285-3286.tsv.gz\n",
      "parsing file ../../data/paragraphs/resolutions-paragraphs-random.tsv.gz\n",
      "parsing file ../../data/paragraphs/resolutions-paragraphs-3285-3286.tsv.gz\n",
      "parsing file ../../data/paragraphs/resolutions-paragraphs-random.tsv.gz\n",
      "parsing file ../../data/paragraphs/resolutions-paragraphs-3285-3286.tsv.gz\n",
      "parsing file ../../data/paragraphs/resolutions-paragraphs-random.tsv.gz\n",
      "parsing file ../../data/paragraphs/resolutions-paragraphs-3285-3286.tsv.gz\n",
      "parsing file ../../data/paragraphs/resolutions-paragraphs-random.tsv.gz\n",
      "parsing file ../../data/paragraphs/resolutions-paragraphs-3285-3286.tsv.gz\n",
      "parsing file ../../data/paragraphs/resolutions-paragraphs-random.tsv.gz\n",
      "parsing file ../../data/paragraphs/resolutions-paragraphs-3285-3286.tsv.gz\n"
     ]
    }
   ],
   "source": [
    "para_files = [\n",
    "    \"../../data/paragraphs/resolutions-paragraphs-random.tsv.gz\",\n",
    "    \"../../data/paragraphs/resolutions-paragraphs-3285-3286.tsv.gz\"\n",
    "]\n",
    "\n",
    "res_sents = text_helper.ResolutionSentences(para_files)\n",
    "\n",
    "model_rampjaar_big = Word2Vec(sentences=res_sents, vector_size=100, window=5, min_count=3, workers=4)"
   ]
  },
  {
   "cell_type": "code",
   "execution_count": 16,
   "id": "23b6337e",
   "metadata": {},
   "outputs": [],
   "source": [
    "model_rampjaar_big = model_rampjaar"
   ]
  },
  {
   "cell_type": "code",
   "execution_count": 17,
   "id": "6790bf31",
   "metadata": {},
   "outputs": [
    {
     "data": {
      "text/plain": [
       "[('kostelijke', 0.5713287591934204),\n",
       " ('fatigues', 0.5642806887626648),\n",
       " ('belegeringen', 0.5626934170722961),\n",
       " ('abdurahman', 0.5579507946968079),\n",
       " ('duwen', 0.5528756380081177),\n",
       " ('inductien', 0.5463021397590637),\n",
       " ('onvermijdelijcke', 0.5394834876060486),\n",
       " ('felle', 0.5383666157722473),\n",
       " ('gins', 0.5367465615272522),\n",
       " ('collusien', 0.5363394021987915)]"
      ]
     },
     "execution_count": 17,
     "metadata": {},
     "output_type": "execute_result"
    }
   ],
   "source": [
    "model_rampjaar_big.wv.most_similar('periculeuse')"
   ]
  },
  {
   "cell_type": "code",
   "execution_count": 22,
   "id": "a616b9d6",
   "metadata": {},
   "outputs": [],
   "source": [
    "misspelling_dict_file = '../../ground_truth/correction/misspelled_common_terms-corrections.tsv'\n",
    "\n",
    "rewrite = text_helper.read_rewrite_dictionary(misspelling_dict_file, include_uncertain=False)\n",
    "\n",
    "res_sents = text_helper.ResolutionSentences(para_files, lowercase=True, to_ascii=True, rewrite_dict=rewrite)\n"
   ]
  },
  {
   "cell_type": "code",
   "execution_count": 23,
   "id": "73dd3747",
   "metadata": {},
   "outputs": [
    {
     "name": "stdout",
     "output_type": "stream",
     "text": [
      "parsing file ../../data/paragraphs/resolutions-paragraphs-random.tsv.gz\n",
      "parsing file ../../data/paragraphs/resolutions-paragraphs-3285-3286.tsv.gz\n",
      "parsing file ../../data/paragraphs/resolutions-paragraphs-random.tsv.gz\n",
      "parsing file ../../data/paragraphs/resolutions-paragraphs-3285-3286.tsv.gz\n",
      "parsing file ../../data/paragraphs/resolutions-paragraphs-random.tsv.gz\n",
      "parsing file ../../data/paragraphs/resolutions-paragraphs-3285-3286.tsv.gz\n",
      "parsing file ../../data/paragraphs/resolutions-paragraphs-random.tsv.gz\n",
      "parsing file ../../data/paragraphs/resolutions-paragraphs-3285-3286.tsv.gz\n",
      "parsing file ../../data/paragraphs/resolutions-paragraphs-random.tsv.gz\n",
      "parsing file ../../data/paragraphs/resolutions-paragraphs-3285-3286.tsv.gz\n",
      "parsing file ../../data/paragraphs/resolutions-paragraphs-random.tsv.gz\n",
      "parsing file ../../data/paragraphs/resolutions-paragraphs-3285-3286.tsv.gz\n"
     ]
    }
   ],
   "source": [
    "model_rampjaar_bg_norm = Word2Vec(sentences=res_sents, vector_size=100, window=5, min_count=3, workers=4)"
   ]
  },
  {
   "cell_type": "code",
   "execution_count": 32,
   "id": "7213b2e4",
   "metadata": {},
   "outputs": [
    {
     "data": {
      "text/plain": [
       "[('kostelijke', 0.6283071637153625),\n",
       " ('onvoorsichtigheyt', 0.6088605523109436),\n",
       " ('praghtige', 0.6071582436561584),\n",
       " ('overmacht', 0.6026226878166199),\n",
       " ('wintertijdt', 0.5964421033859253),\n",
       " ('zeden', 0.5911127328872681),\n",
       " ('voorsichticheijt', 0.5852442383766174),\n",
       " ('tormenten', 0.5846596360206604),\n",
       " ('geduren', 0.5791469812393188),\n",
       " ('renaitre', 0.5742583870887756),\n",
       " ('cordaetheyt', 0.5725923180580139),\n",
       " ('battailles', 0.572464644908905),\n",
       " ('quetsuren', 0.5723572969436646),\n",
       " ('invoeringh', 0.5713678002357483),\n",
       " ('tineert', 0.5713167190551758),\n",
       " ('veroorsaeckten', 0.5713120102882385),\n",
       " ('knien', 0.5711950659751892),\n",
       " ('dispendieuse', 0.5711163282394409),\n",
       " ('eyfsch', 0.5708966255187988),\n",
       " ('betert', 0.569885790348053),\n",
       " ('steng', 0.5691151022911072),\n",
       " ('abry', 0.5683889985084534),\n",
       " ('attacques', 0.5683482885360718),\n",
       " ('trouweloose', 0.5683440566062927),\n",
       " ('vigoureuss', 0.5679720044136047)]"
      ]
     },
     "execution_count": 32,
     "metadata": {},
     "output_type": "execute_result"
    }
   ],
   "source": [
    "model_rampjaar_bg_norm.wv.most_similar('periculeuse', topn=25)"
   ]
  },
  {
   "cell_type": "code",
   "execution_count": 26,
   "id": "63f70ee6",
   "metadata": {},
   "outputs": [
    {
     "data": {
      "text/plain": [
       "[('overmacht', 0.7309702038764954),\n",
       " ('moetwillige', 0.6839448809623718),\n",
       " ('attacques', 0.6816102266311646),\n",
       " ('kostelijke', 0.6810553669929504),\n",
       " ('quellingen', 0.6772211194038391),\n",
       " ('fatigues', 0.6722176671028137),\n",
       " ('gedurige', 0.6714029908180237),\n",
       " ('quetsuren', 0.665451169013977),\n",
       " ('mishandelinge', 0.6651085019111633),\n",
       " ('stantvastigheyt', 0.6617364287376404)]"
      ]
     },
     "execution_count": 26,
     "metadata": {},
     "output_type": "execute_result"
    }
   ],
   "source": [
    "model_rampjaar_bg_norm.wv.most_similar(positive=['periculeuse', 'tormenten'])"
   ]
  },
  {
   "cell_type": "code",
   "execution_count": 33,
   "id": "a0434596",
   "metadata": {},
   "outputs": [
    {
     "name": "stdout",
     "output_type": "stream",
     "text": [
      "                         haar Hoog Mog. , aangesien de trouweloose verbreeking van de Vreede met\n",
      "                   schraapsugt aangedaan, en van sijne trouweloose desertie uit den dienst van\n",
      "                        op eene soo onregtvaardige als trouweloose wyse aangevallen, en in een\n",
      "               subtile vindingen ende bedenckingen van trouweloose Bediendens, bedriegeryen van Leveranciers en\n"
     ]
    }
   ],
   "source": [
    "for hit in rep_es.keyword_in_context(\"trouweloose\", context_size=5):\n",
    "    print(hit[\"context\"])"
   ]
  },
  {
   "cell_type": "code",
   "execution_count": null,
   "id": "7179bfc9",
   "metadata": {},
   "outputs": [],
   "source": []
  },
  {
   "cell_type": "code",
   "execution_count": null,
   "id": "0a797ebe",
   "metadata": {},
   "outputs": [],
   "source": []
  }
 ],
 "metadata": {
  "kernelspec": {
   "display_name": "Python 3 (ipykernel)",
   "language": "python",
   "name": "python3"
  },
  "language_info": {
   "codemirror_mode": {
    "name": "ipython",
    "version": 3
   },
   "file_extension": ".py",
   "mimetype": "text/x-python",
   "name": "python",
   "nbconvert_exporter": "python",
   "pygments_lexer": "ipython3",
   "version": "3.9.7"
  }
 },
 "nbformat": 4,
 "nbformat_minor": 5
}
