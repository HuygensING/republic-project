{
 "cells": [
  {
   "cell_type": "markdown",
   "id": "a0f2cab6",
   "metadata": {},
   "source": [
    "## Analyse Resoluties in het Rampjaar\n",
    "\n",
    "Vragen:\n",
    "- rondom commissies?\n",
    "- administrative veranderingen\n",
    "- wat kunnen we vinden in de ordinaris resoluties?\n",
    "- vertegenwoordiging van gewesten\n",
    "\n",
    "- 25 februari\n",
    "- April: aanleiding begin oorlog\n",
    "- zeeslagen in juni\n",
    "- moord op de Witt broers\n",
    "\n",
    "- sleutelmomenten bij stichting rampjaar\n"
   ]
  },
  {
   "cell_type": "code",
   "execution_count": 8,
   "id": "492d49ff",
   "metadata": {},
   "outputs": [
    {
     "name": "stdout",
     "output_type": "stream",
     "text": [
      "/Users/femkegordijn/republic-project\n"
     ]
    }
   ],
   "source": [
    "# This is needed to add the repo dir to the path so jupyter\n",
    "# can load the republic modules directly from the notebooks\n",
    "import os\n",
    "import sys\n",
    "repo_name = 'republic-project'\n",
    "repo_dir = os.path.split(os.getcwd())[0].split(repo_name)[0] + repo_name\n",
    "print(repo_dir)\n",
    "if repo_dir not in sys.path:\n",
    "    sys.path.append(repo_dir)\n",
    "\n"
   ]
  },
  {
   "cell_type": "code",
   "execution_count": 6,
   "id": "d9a92ae8",
   "metadata": {},
   "outputs": [],
   "source": [
    "from republic.elastic.republic_elasticsearch import initialize_es\n",
    "\n",
    "rep_es = initialize_es(host_type='external', timeout=60)"
   ]
  },
  {
   "cell_type": "code",
   "execution_count": 5,
   "id": "c99cf63e",
   "metadata": {},
   "outputs": [
    {
     "name": "stdout",
     "output_type": "stream",
     "text": [
      "Collecting package metadata (current_repodata.json): / ^C\n",
      "failed\n",
      "\n",
      "CondaError: KeyboardInterrupt\n",
      "\n"
     ]
    }
   ],
   "source": [
    "!conda install elasticsearch"
   ]
  },
  {
   "cell_type": "code",
   "execution_count": 7,
   "id": "d856fad5",
   "metadata": {},
   "outputs": [
    {
     "ename": "ApiError",
     "evalue": "ApiError(406, 'Content-Type header [application/vnd.elasticsearch+json; compatible-with=8] is not supported', 'Content-Type header [application/vnd.elasticsearch+json; compatible-with=8] is not supported')",
     "output_type": "error",
     "traceback": [
      "\u001b[0;31m---------------------------------------------------------------------------\u001b[0m",
      "\u001b[0;31mApiError\u001b[0m                                  Traceback (most recent call last)",
      "\u001b[0;32m<ipython-input-7-ebfca7929d7c>\u001b[0m in \u001b[0;36m<module>\u001b[0;34m\u001b[0m\n\u001b[1;32m      1\u001b[0m \u001b[0;31m# use single word or multi-word phrase\u001b[0m\u001b[0;34m\u001b[0m\u001b[0;34m\u001b[0m\u001b[0;34m\u001b[0m\u001b[0m\n\u001b[0;32m----> 2\u001b[0;31m \u001b[0;32mfor\u001b[0m \u001b[0mhit\u001b[0m \u001b[0;32min\u001b[0m \u001b[0mrep_es\u001b[0m\u001b[0;34m.\u001b[0m\u001b[0mkeyword_in_context\u001b[0m\u001b[0;34m(\u001b[0m\u001b[0;34m\"voornoemde Procureur\"\u001b[0m\u001b[0;34m)\u001b[0m\u001b[0;34m:\u001b[0m\u001b[0;34m\u001b[0m\u001b[0;34m\u001b[0m\u001b[0m\n\u001b[0m\u001b[1;32m      3\u001b[0m     \u001b[0mprint\u001b[0m\u001b[0;34m(\u001b[0m\u001b[0mhit\u001b[0m\u001b[0;34m[\u001b[0m\u001b[0;34m\"context\"\u001b[0m\u001b[0;34m]\u001b[0m\u001b[0;34m)\u001b[0m\u001b[0;34m\u001b[0m\u001b[0;34m\u001b[0m\u001b[0m\n",
      "\u001b[0;32m~/republic-project/republic/elastic/republic_retrieving.py\u001b[0m in \u001b[0;36mkeyword_in_context\u001b[0;34m(self, term, num_hits, context_size, index, filters)\u001b[0m\n\u001b[1;32m    522\u001b[0m             \u001b[0mquery\u001b[0m\u001b[0;34m[\u001b[0m\u001b[0;34m\"query\"\u001b[0m\u001b[0;34m]\u001b[0m\u001b[0;34m[\u001b[0m\u001b[0;34m\"bool\"\u001b[0m\u001b[0;34m]\u001b[0m\u001b[0;34m[\u001b[0m\u001b[0;34m\"must\"\u001b[0m\u001b[0;34m]\u001b[0m \u001b[0;34m+=\u001b[0m \u001b[0mfilters\u001b[0m\u001b[0;34m\u001b[0m\u001b[0;34m\u001b[0m\u001b[0m\n\u001b[1;32m    523\u001b[0m         \u001b[0mquery\u001b[0m\u001b[0;34m[\u001b[0m\u001b[0;34m'size'\u001b[0m\u001b[0;34m]\u001b[0m \u001b[0;34m=\u001b[0m \u001b[0mnum_hits\u001b[0m\u001b[0;34m\u001b[0m\u001b[0;34m\u001b[0m\u001b[0m\n\u001b[0;32m--> 524\u001b[0;31m         \u001b[0mresponse\u001b[0m \u001b[0;34m=\u001b[0m \u001b[0mself\u001b[0m\u001b[0;34m.\u001b[0m\u001b[0mes_anno\u001b[0m\u001b[0;34m.\u001b[0m\u001b[0msearch\u001b[0m\u001b[0;34m(\u001b[0m\u001b[0mindex\u001b[0m\u001b[0;34m=\u001b[0m\u001b[0mindex\u001b[0m\u001b[0;34m,\u001b[0m \u001b[0mbody\u001b[0m\u001b[0;34m=\u001b[0m\u001b[0mquery\u001b[0m\u001b[0;34m)\u001b[0m\u001b[0;34m\u001b[0m\u001b[0;34m\u001b[0m\u001b[0m\n\u001b[0m\u001b[1;32m    525\u001b[0m         \u001b[0mpre_regex\u001b[0m \u001b[0;34m=\u001b[0m \u001b[0;34mr'(\\w+\\W+){,'\u001b[0m \u001b[0;34m+\u001b[0m \u001b[0;34mf'{context_size}'\u001b[0m \u001b[0;34m+\u001b[0m \u001b[0;34mr'}\\b('\u001b[0m\u001b[0;34m\u001b[0m\u001b[0;34m\u001b[0m\u001b[0m\n\u001b[1;32m    526\u001b[0m         \u001b[0mpost_regex\u001b[0m \u001b[0;34m=\u001b[0m \u001b[0;34mr')\\b(\\W+\\w+){,'\u001b[0m \u001b[0;34m+\u001b[0m \u001b[0;34mf'{context_size}'\u001b[0m \u001b[0;34m+\u001b[0m \u001b[0;34m'}'\u001b[0m\u001b[0;34m\u001b[0m\u001b[0;34m\u001b[0m\u001b[0m\n",
      "\u001b[0;32m~/opt/anaconda3/lib/python3.8/site-packages/elasticsearch/_sync/client/utils.py\u001b[0m in \u001b[0;36mwrapped\u001b[0;34m(*args, **kwargs)\u001b[0m\n\u001b[1;32m    402\u001b[0m                         \u001b[0;32mpass\u001b[0m\u001b[0;34m\u001b[0m\u001b[0;34m\u001b[0m\u001b[0m\n\u001b[1;32m    403\u001b[0m \u001b[0;34m\u001b[0m\u001b[0m\n\u001b[0;32m--> 404\u001b[0;31m             \u001b[0;32mreturn\u001b[0m \u001b[0mapi\u001b[0m\u001b[0;34m(\u001b[0m\u001b[0;34m*\u001b[0m\u001b[0margs\u001b[0m\u001b[0;34m,\u001b[0m \u001b[0;34m**\u001b[0m\u001b[0mkwargs\u001b[0m\u001b[0;34m)\u001b[0m\u001b[0;34m\u001b[0m\u001b[0;34m\u001b[0m\u001b[0m\n\u001b[0m\u001b[1;32m    405\u001b[0m \u001b[0;34m\u001b[0m\u001b[0m\n\u001b[1;32m    406\u001b[0m         \u001b[0;32mreturn\u001b[0m \u001b[0mwrapped\u001b[0m  \u001b[0;31m# type: ignore[return-value]\u001b[0m\u001b[0;34m\u001b[0m\u001b[0;34m\u001b[0m\u001b[0m\n",
      "\u001b[0;32m~/opt/anaconda3/lib/python3.8/site-packages/elasticsearch/_sync/client/__init__.py\u001b[0m in \u001b[0;36msearch\u001b[0;34m(self, index, aggregations, aggs, allow_no_indices, allow_partial_search_results, analyze_wildcard, analyzer, batched_reduce_size, ccs_minimize_roundtrips, collapse, default_operator, df, docvalue_fields, error_trace, expand_wildcards, explain, fields, filter_path, from_, highlight, human, ignore_throttled, ignore_unavailable, indices_boost, lenient, max_concurrent_shard_requests, min_compatible_shard_node, min_score, pit, post_filter, pre_filter_shard_size, preference, pretty, profile, q, query, request_cache, rescore, rest_total_hits_as_int, routing, runtime_mappings, script_fields, scroll, search_after, search_type, seq_no_primary_term, size, slice, sort, source, source_excludes, source_includes, stats, stored_fields, suggest, suggest_field, suggest_mode, suggest_size, suggest_text, terminate_after, timeout, track_scores, track_total_hits, typed_keys, version)\u001b[0m\n\u001b[1;32m   3672\u001b[0m         \u001b[0;32mif\u001b[0m \u001b[0m__body\u001b[0m \u001b[0;32mis\u001b[0m \u001b[0;32mnot\u001b[0m \u001b[0;32mNone\u001b[0m\u001b[0;34m:\u001b[0m\u001b[0;34m\u001b[0m\u001b[0;34m\u001b[0m\u001b[0m\n\u001b[1;32m   3673\u001b[0m             \u001b[0m__headers\u001b[0m\u001b[0;34m[\u001b[0m\u001b[0;34m\"content-type\"\u001b[0m\u001b[0;34m]\u001b[0m \u001b[0;34m=\u001b[0m \u001b[0;34m\"application/json\"\u001b[0m\u001b[0;34m\u001b[0m\u001b[0;34m\u001b[0m\u001b[0m\n\u001b[0;32m-> 3674\u001b[0;31m         return self.perform_request(  # type: ignore[return-value]\n\u001b[0m\u001b[1;32m   3675\u001b[0m             \u001b[0;34m\"POST\"\u001b[0m\u001b[0;34m,\u001b[0m \u001b[0m__path\u001b[0m\u001b[0;34m,\u001b[0m \u001b[0mparams\u001b[0m\u001b[0;34m=\u001b[0m\u001b[0m__query\u001b[0m\u001b[0;34m,\u001b[0m \u001b[0mheaders\u001b[0m\u001b[0;34m=\u001b[0m\u001b[0m__headers\u001b[0m\u001b[0;34m,\u001b[0m \u001b[0mbody\u001b[0m\u001b[0;34m=\u001b[0m\u001b[0m__body\u001b[0m\u001b[0;34m\u001b[0m\u001b[0;34m\u001b[0m\u001b[0m\n\u001b[1;32m   3676\u001b[0m         )\n",
      "\u001b[0;32m~/opt/anaconda3/lib/python3.8/site-packages/elasticsearch/_sync/client/_base.py\u001b[0m in \u001b[0;36mperform_request\u001b[0;34m(self, method, path, params, headers, body)\u001b[0m\n\u001b[1;32m    319\u001b[0m                     \u001b[0;32mpass\u001b[0m\u001b[0;34m\u001b[0m\u001b[0;34m\u001b[0m\u001b[0m\n\u001b[1;32m    320\u001b[0m \u001b[0;34m\u001b[0m\u001b[0m\n\u001b[0;32m--> 321\u001b[0;31m             raise HTTP_EXCEPTIONS.get(meta.status, ApiError)(\n\u001b[0m\u001b[1;32m    322\u001b[0m                 \u001b[0mmessage\u001b[0m\u001b[0;34m=\u001b[0m\u001b[0mmessage\u001b[0m\u001b[0;34m,\u001b[0m \u001b[0mmeta\u001b[0m\u001b[0;34m=\u001b[0m\u001b[0mmeta\u001b[0m\u001b[0;34m,\u001b[0m \u001b[0mbody\u001b[0m\u001b[0;34m=\u001b[0m\u001b[0mresp_body\u001b[0m\u001b[0;34m\u001b[0m\u001b[0;34m\u001b[0m\u001b[0m\n\u001b[1;32m    323\u001b[0m             )\n",
      "\u001b[0;31mApiError\u001b[0m: ApiError(406, 'Content-Type header [application/vnd.elasticsearch+json; compatible-with=8] is not supported', 'Content-Type header [application/vnd.elasticsearch+json; compatible-with=8] is not supported')"
     ]
    }
   ],
   "source": [
    "# use single word or multi-word phrase\n",
    "for hit in rep_es.keyword_in_context(\"voornoemde Procureur\"):\n",
    "    print(hit[\"context\"])"
   ]
  },
  {
   "cell_type": "code",
   "execution_count": 9,
   "id": "e71a04e1",
   "metadata": {},
   "outputs": [
    {
     "ename": "FileNotFoundError",
     "evalue": "[Errno 2] No such file or directory: '../../data/resolutions/rampjaar-ordinaris-resolutions.json.gz'",
     "output_type": "error",
     "traceback": [
      "\u001b[0;31m---------------------------------------------------------------------------\u001b[0m",
      "\u001b[0;31mFileNotFoundError\u001b[0m                         Traceback (most recent call last)",
      "\u001b[0;32m<ipython-input-9-a170b65b6f27>\u001b[0m in \u001b[0;36m<module>\u001b[0;34m\u001b[0m\n\u001b[1;32m      9\u001b[0m \u001b[0;31m# Reading the JSON representations from file again and turning\u001b[0m\u001b[0;34m\u001b[0m\u001b[0;34m\u001b[0m\u001b[0;34m\u001b[0m\u001b[0m\n\u001b[1;32m     10\u001b[0m \u001b[0;31m# them into Resolution objects again\u001b[0m\u001b[0;34m\u001b[0m\u001b[0;34m\u001b[0m\u001b[0;34m\u001b[0m\u001b[0m\n\u001b[0;32m---> 11\u001b[0;31m \u001b[0;32mwith\u001b[0m \u001b[0mgzip\u001b[0m\u001b[0;34m.\u001b[0m\u001b[0mopen\u001b[0m\u001b[0;34m(\u001b[0m\u001b[0mresolutions_file\u001b[0m\u001b[0;34m,\u001b[0m \u001b[0;34m'rt'\u001b[0m\u001b[0;34m)\u001b[0m \u001b[0;32mas\u001b[0m \u001b[0mfh\u001b[0m\u001b[0;34m:\u001b[0m\u001b[0;34m\u001b[0m\u001b[0;34m\u001b[0m\u001b[0m\n\u001b[0m\u001b[1;32m     12\u001b[0m     \u001b[0;31m# the document model has a convenience function to turn a JSON representation\u001b[0m\u001b[0;34m\u001b[0m\u001b[0;34m\u001b[0m\u001b[0;34m\u001b[0m\u001b[0m\n\u001b[1;32m     13\u001b[0m     \u001b[0;31m# to a Resolution object: json_to_republic_resolution\u001b[0m\u001b[0;34m\u001b[0m\u001b[0;34m\u001b[0m\u001b[0;34m\u001b[0m\u001b[0m\n",
      "\u001b[0;32m~/opt/anaconda3/lib/python3.8/gzip.py\u001b[0m in \u001b[0;36mopen\u001b[0;34m(filename, mode, compresslevel, encoding, errors, newline)\u001b[0m\n\u001b[1;32m     56\u001b[0m     \u001b[0mgz_mode\u001b[0m \u001b[0;34m=\u001b[0m \u001b[0mmode\u001b[0m\u001b[0;34m.\u001b[0m\u001b[0mreplace\u001b[0m\u001b[0;34m(\u001b[0m\u001b[0;34m\"t\"\u001b[0m\u001b[0;34m,\u001b[0m \u001b[0;34m\"\"\u001b[0m\u001b[0;34m)\u001b[0m\u001b[0;34m\u001b[0m\u001b[0;34m\u001b[0m\u001b[0m\n\u001b[1;32m     57\u001b[0m     \u001b[0;32mif\u001b[0m \u001b[0misinstance\u001b[0m\u001b[0;34m(\u001b[0m\u001b[0mfilename\u001b[0m\u001b[0;34m,\u001b[0m \u001b[0;34m(\u001b[0m\u001b[0mstr\u001b[0m\u001b[0;34m,\u001b[0m \u001b[0mbytes\u001b[0m\u001b[0;34m,\u001b[0m \u001b[0mos\u001b[0m\u001b[0;34m.\u001b[0m\u001b[0mPathLike\u001b[0m\u001b[0;34m)\u001b[0m\u001b[0;34m)\u001b[0m\u001b[0;34m:\u001b[0m\u001b[0;34m\u001b[0m\u001b[0;34m\u001b[0m\u001b[0m\n\u001b[0;32m---> 58\u001b[0;31m         \u001b[0mbinary_file\u001b[0m \u001b[0;34m=\u001b[0m \u001b[0mGzipFile\u001b[0m\u001b[0;34m(\u001b[0m\u001b[0mfilename\u001b[0m\u001b[0;34m,\u001b[0m \u001b[0mgz_mode\u001b[0m\u001b[0;34m,\u001b[0m \u001b[0mcompresslevel\u001b[0m\u001b[0;34m)\u001b[0m\u001b[0;34m\u001b[0m\u001b[0;34m\u001b[0m\u001b[0m\n\u001b[0m\u001b[1;32m     59\u001b[0m     \u001b[0;32melif\u001b[0m \u001b[0mhasattr\u001b[0m\u001b[0;34m(\u001b[0m\u001b[0mfilename\u001b[0m\u001b[0;34m,\u001b[0m \u001b[0;34m\"read\"\u001b[0m\u001b[0;34m)\u001b[0m \u001b[0;32mor\u001b[0m \u001b[0mhasattr\u001b[0m\u001b[0;34m(\u001b[0m\u001b[0mfilename\u001b[0m\u001b[0;34m,\u001b[0m \u001b[0;34m\"write\"\u001b[0m\u001b[0;34m)\u001b[0m\u001b[0;34m:\u001b[0m\u001b[0;34m\u001b[0m\u001b[0;34m\u001b[0m\u001b[0m\n\u001b[1;32m     60\u001b[0m         \u001b[0mbinary_file\u001b[0m \u001b[0;34m=\u001b[0m \u001b[0mGzipFile\u001b[0m\u001b[0;34m(\u001b[0m\u001b[0;32mNone\u001b[0m\u001b[0;34m,\u001b[0m \u001b[0mgz_mode\u001b[0m\u001b[0;34m,\u001b[0m \u001b[0mcompresslevel\u001b[0m\u001b[0;34m,\u001b[0m \u001b[0mfilename\u001b[0m\u001b[0;34m)\u001b[0m\u001b[0;34m\u001b[0m\u001b[0;34m\u001b[0m\u001b[0m\n",
      "\u001b[0;32m~/opt/anaconda3/lib/python3.8/gzip.py\u001b[0m in \u001b[0;36m__init__\u001b[0;34m(self, filename, mode, compresslevel, fileobj, mtime)\u001b[0m\n\u001b[1;32m    171\u001b[0m             \u001b[0mmode\u001b[0m \u001b[0;34m+=\u001b[0m \u001b[0;34m'b'\u001b[0m\u001b[0;34m\u001b[0m\u001b[0;34m\u001b[0m\u001b[0m\n\u001b[1;32m    172\u001b[0m         \u001b[0;32mif\u001b[0m \u001b[0mfileobj\u001b[0m \u001b[0;32mis\u001b[0m \u001b[0;32mNone\u001b[0m\u001b[0;34m:\u001b[0m\u001b[0;34m\u001b[0m\u001b[0;34m\u001b[0m\u001b[0m\n\u001b[0;32m--> 173\u001b[0;31m             \u001b[0mfileobj\u001b[0m \u001b[0;34m=\u001b[0m \u001b[0mself\u001b[0m\u001b[0;34m.\u001b[0m\u001b[0mmyfileobj\u001b[0m \u001b[0;34m=\u001b[0m \u001b[0mbuiltins\u001b[0m\u001b[0;34m.\u001b[0m\u001b[0mopen\u001b[0m\u001b[0;34m(\u001b[0m\u001b[0mfilename\u001b[0m\u001b[0;34m,\u001b[0m \u001b[0mmode\u001b[0m \u001b[0;32mor\u001b[0m \u001b[0;34m'rb'\u001b[0m\u001b[0;34m)\u001b[0m\u001b[0;34m\u001b[0m\u001b[0;34m\u001b[0m\u001b[0m\n\u001b[0m\u001b[1;32m    174\u001b[0m         \u001b[0;32mif\u001b[0m \u001b[0mfilename\u001b[0m \u001b[0;32mis\u001b[0m \u001b[0;32mNone\u001b[0m\u001b[0;34m:\u001b[0m\u001b[0;34m\u001b[0m\u001b[0;34m\u001b[0m\u001b[0m\n\u001b[1;32m    175\u001b[0m             \u001b[0mfilename\u001b[0m \u001b[0;34m=\u001b[0m \u001b[0mgetattr\u001b[0m\u001b[0;34m(\u001b[0m\u001b[0mfileobj\u001b[0m\u001b[0;34m,\u001b[0m \u001b[0;34m'name'\u001b[0m\u001b[0;34m,\u001b[0m \u001b[0;34m''\u001b[0m\u001b[0;34m)\u001b[0m\u001b[0;34m\u001b[0m\u001b[0;34m\u001b[0m\u001b[0m\n",
      "\u001b[0;31mFileNotFoundError\u001b[0m: [Errno 2] No such file or directory: '../../data/resolutions/rampjaar-ordinaris-resolutions.json.gz'"
     ]
    }
   ],
   "source": [
    "import gzip\n",
    "import json\n",
    "\n",
    "import republic.model.republic_document_model as rdm\n",
    "\n",
    "\n",
    "resolutions_file = \"../../data/resolutions/rampjaar-ordinaris-resolutions.json.gz\"\n",
    "\n",
    "# Reading the JSON representations from file again and turning \n",
    "# them into Resolution objects again\n",
    "with gzip.open(resolutions_file, 'rt') as fh:\n",
    "    # the document model has a convenience function to turn a JSON representation\n",
    "    # to a Resolution object: json_to_republic_resolution\n",
    "    resolutions_1672 = [rdm.json_to_republic_resolution(res) for res in json.load(fh)]\n",
    "    "
   ]
  },
  {
   "cell_type": "code",
   "execution_count": 5,
   "id": "4e4694ad",
   "metadata": {},
   "outputs": [],
   "source": [
    "import gzip\n",
    "\n",
    "para_file = \"../../data/paragraphs/resolutions-paragraphs-3285-3286.tsv.gz\"\n",
    "\n",
    "with gzip.open(para_file, 'wt') as fh:\n",
    "    for res in resolutions_1672:\n",
    "        for para in res.paragraphs:\n",
    "            fh.write(f\"{res.id}\\t{para.id}\\t{para.text}\\n\")"
   ]
  },
  {
   "cell_type": "code",
   "execution_count": 3,
   "id": "7231176a",
   "metadata": {},
   "outputs": [
    {
     "name": "stdout",
     "output_type": "stream",
     "text": [
      "parsing file ../../data/paragraphs/resolutions-paragraphs-3285-3286.tsv.gz\n",
      "['jovis', 'den', '7']\n"
     ]
    }
   ],
   "source": [
    "from gensim.models import Word2Vec\n",
    "import republic.helper.text_helper as text_helper\n",
    "\n",
    "para_file = \"../../data/paragraphs/resolutions-paragraphs-3285-3286.tsv.gz\"\n",
    "\n",
    "res_sents = text_helper.ResolutionSentences(para_file)\n",
    "\n",
    "for sent in res_sents:\n",
    "    print(sent)\n",
    "    break"
   ]
  },
  {
   "cell_type": "code",
   "execution_count": 19,
   "id": "f02a8a07",
   "metadata": {},
   "outputs": [
    {
     "name": "stdout",
     "output_type": "stream",
     "text": [
      "parsing file ../../data/paragraphs/resolutions-paragraphs-3285-3286.tsv.gz\n",
      "parsing file ../../data/paragraphs/resolutions-paragraphs-3285-3286.tsv.gz\n",
      "parsing file ../../data/paragraphs/resolutions-paragraphs-3285-3286.tsv.gz\n",
      "parsing file ../../data/paragraphs/resolutions-paragraphs-3285-3286.tsv.gz\n",
      "parsing file ../../data/paragraphs/resolutions-paragraphs-3285-3286.tsv.gz\n",
      "parsing file ../../data/paragraphs/resolutions-paragraphs-3285-3286.tsv.gz\n"
     ]
    }
   ],
   "source": [
    "model_rampjaar = Word2Vec(sentences=res_sents, vector_size=100, window=100, min_count=3, workers=4)"
   ]
  },
  {
   "cell_type": "code",
   "execution_count": 20,
   "id": "33e28362",
   "metadata": {},
   "outputs": [
    {
     "data": {
      "text/plain": [
       "[('secreete', 0.8964669108390808),\n",
       " ('kondtschappen', 0.8894565105438232),\n",
       " ('crijsch', 0.8885893225669861),\n",
       " ('nadruck', 0.8840699195861816),\n",
       " ('ticheden', 0.8839587569236755),\n",
       " ('onser', 0.8797962069511414),\n",
       " ('voornamentlick', 0.8755388855934143),\n",
       " ('beswooren', 0.8736085295677185),\n",
       " ('complete', 0.8719626069068909),\n",
       " ('ritmeesteren', 0.8708713054656982)]"
      ]
     },
     "execution_count": 20,
     "metadata": {},
     "output_type": "execute_result"
    }
   ],
   "source": [
    "model_rampjaar.wv.most_similar('periculeuse')"
   ]
  },
  {
   "cell_type": "code",
   "execution_count": 14,
   "id": "382af938",
   "metadata": {},
   "outputs": [
    {
     "name": "stdout",
     "output_type": "stream",
     "text": [
      "parsing file ../../data/paragraphs/resolutions-paragraphs-random.tsv.gz\n",
      "parsing file ../../data/paragraphs/resolutions-paragraphs-3285-3286.tsv.gz\n",
      "parsing file ../../data/paragraphs/resolutions-paragraphs-random.tsv.gz\n",
      "parsing file ../../data/paragraphs/resolutions-paragraphs-3285-3286.tsv.gz\n",
      "parsing file ../../data/paragraphs/resolutions-paragraphs-random.tsv.gz\n",
      "parsing file ../../data/paragraphs/resolutions-paragraphs-3285-3286.tsv.gz\n",
      "parsing file ../../data/paragraphs/resolutions-paragraphs-random.tsv.gz\n",
      "parsing file ../../data/paragraphs/resolutions-paragraphs-3285-3286.tsv.gz\n",
      "parsing file ../../data/paragraphs/resolutions-paragraphs-random.tsv.gz\n",
      "parsing file ../../data/paragraphs/resolutions-paragraphs-3285-3286.tsv.gz\n",
      "parsing file ../../data/paragraphs/resolutions-paragraphs-random.tsv.gz\n",
      "parsing file ../../data/paragraphs/resolutions-paragraphs-3285-3286.tsv.gz\n"
     ]
    }
   ],
   "source": [
    "para_files = [\n",
    "    \"../../data/paragraphs/resolutions-paragraphs-random.tsv.gz\",\n",
    "    \"../../data/paragraphs/resolutions-paragraphs-3285-3286.tsv.gz\"\n",
    "]\n",
    "\n",
    "res_sents = text_helper.ResolutionSentences(para_files)\n",
    "\n",
    "model_rampjaar_big = Word2Vec(sentences=res_sents, vector_size=100, window=5, min_count=3, workers=4)"
   ]
  },
  {
   "cell_type": "code",
   "execution_count": 16,
   "id": "23b6337e",
   "metadata": {},
   "outputs": [],
   "source": [
    "model_rampjaar_big = model_rampjaar"
   ]
  },
  {
   "cell_type": "code",
   "execution_count": 17,
   "id": "6790bf31",
   "metadata": {},
   "outputs": [
    {
     "data": {
      "text/plain": [
       "[('kostelijke', 0.5713287591934204),\n",
       " ('fatigues', 0.5642806887626648),\n",
       " ('belegeringen', 0.5626934170722961),\n",
       " ('abdurahman', 0.5579507946968079),\n",
       " ('duwen', 0.5528756380081177),\n",
       " ('inductien', 0.5463021397590637),\n",
       " ('onvermijdelijcke', 0.5394834876060486),\n",
       " ('felle', 0.5383666157722473),\n",
       " ('gins', 0.5367465615272522),\n",
       " ('collusien', 0.5363394021987915)]"
      ]
     },
     "execution_count": 17,
     "metadata": {},
     "output_type": "execute_result"
    }
   ],
   "source": [
    "model_rampjaar_big.wv.most_similar('periculeuse')"
   ]
  },
  {
   "cell_type": "code",
   "execution_count": 22,
   "id": "a616b9d6",
   "metadata": {},
   "outputs": [],
   "source": [
    "misspelling_dict_file = '../../ground_truth/correction/misspelled_common_terms-corrections.tsv'\n",
    "\n",
    "rewrite = text_helper.read_rewrite_dictionary(misspelling_dict_file, include_uncertain=False)\n",
    "\n",
    "res_sents = text_helper.ResolutionSentences(para_files, lowercase=True, to_ascii=True, rewrite_dict=rewrite)\n"
   ]
  },
  {
   "cell_type": "code",
   "execution_count": 23,
   "id": "73dd3747",
   "metadata": {},
   "outputs": [
    {
     "name": "stdout",
     "output_type": "stream",
     "text": [
      "parsing file ../../data/paragraphs/resolutions-paragraphs-random.tsv.gz\n",
      "parsing file ../../data/paragraphs/resolutions-paragraphs-3285-3286.tsv.gz\n",
      "parsing file ../../data/paragraphs/resolutions-paragraphs-random.tsv.gz\n",
      "parsing file ../../data/paragraphs/resolutions-paragraphs-3285-3286.tsv.gz\n",
      "parsing file ../../data/paragraphs/resolutions-paragraphs-random.tsv.gz\n",
      "parsing file ../../data/paragraphs/resolutions-paragraphs-3285-3286.tsv.gz\n",
      "parsing file ../../data/paragraphs/resolutions-paragraphs-random.tsv.gz\n",
      "parsing file ../../data/paragraphs/resolutions-paragraphs-3285-3286.tsv.gz\n",
      "parsing file ../../data/paragraphs/resolutions-paragraphs-random.tsv.gz\n",
      "parsing file ../../data/paragraphs/resolutions-paragraphs-3285-3286.tsv.gz\n",
      "parsing file ../../data/paragraphs/resolutions-paragraphs-random.tsv.gz\n",
      "parsing file ../../data/paragraphs/resolutions-paragraphs-3285-3286.tsv.gz\n"
     ]
    }
   ],
   "source": [
    "model_rampjaar_bg_norm = Word2Vec(sentences=res_sents, vector_size=100, window=5, min_count=3, workers=4)"
   ]
  },
  {
   "cell_type": "code",
   "execution_count": 32,
   "id": "7213b2e4",
   "metadata": {},
   "outputs": [
    {
     "data": {
      "text/plain": [
       "[('kostelijke', 0.6283071637153625),\n",
       " ('onvoorsichtigheyt', 0.6088605523109436),\n",
       " ('praghtige', 0.6071582436561584),\n",
       " ('overmacht', 0.6026226878166199),\n",
       " ('wintertijdt', 0.5964421033859253),\n",
       " ('zeden', 0.5911127328872681),\n",
       " ('voorsichticheijt', 0.5852442383766174),\n",
       " ('tormenten', 0.5846596360206604),\n",
       " ('geduren', 0.5791469812393188),\n",
       " ('renaitre', 0.5742583870887756),\n",
       " ('cordaetheyt', 0.5725923180580139),\n",
       " ('battailles', 0.572464644908905),\n",
       " ('quetsuren', 0.5723572969436646),\n",
       " ('invoeringh', 0.5713678002357483),\n",
       " ('tineert', 0.5713167190551758),\n",
       " ('veroorsaeckten', 0.5713120102882385),\n",
       " ('knien', 0.5711950659751892),\n",
       " ('dispendieuse', 0.5711163282394409),\n",
       " ('eyfsch', 0.5708966255187988),\n",
       " ('betert', 0.569885790348053),\n",
       " ('steng', 0.5691151022911072),\n",
       " ('abry', 0.5683889985084534),\n",
       " ('attacques', 0.5683482885360718),\n",
       " ('trouweloose', 0.5683440566062927),\n",
       " ('vigoureuss', 0.5679720044136047)]"
      ]
     },
     "execution_count": 32,
     "metadata": {},
     "output_type": "execute_result"
    }
   ],
   "source": [
    "model_rampjaar_bg_norm.wv.most_similar('periculeuse', topn=25)"
   ]
  },
  {
   "cell_type": "code",
   "execution_count": 26,
   "id": "63f70ee6",
   "metadata": {},
   "outputs": [
    {
     "data": {
      "text/plain": [
       "[('overmacht', 0.7309702038764954),\n",
       " ('moetwillige', 0.6839448809623718),\n",
       " ('attacques', 0.6816102266311646),\n",
       " ('kostelijke', 0.6810553669929504),\n",
       " ('quellingen', 0.6772211194038391),\n",
       " ('fatigues', 0.6722176671028137),\n",
       " ('gedurige', 0.6714029908180237),\n",
       " ('quetsuren', 0.665451169013977),\n",
       " ('mishandelinge', 0.6651085019111633),\n",
       " ('stantvastigheyt', 0.6617364287376404)]"
      ]
     },
     "execution_count": 26,
     "metadata": {},
     "output_type": "execute_result"
    }
   ],
   "source": [
    "model_rampjaar_bg_norm.wv.most_similar(positive=['periculeuse', 'tormenten'])"
   ]
  },
  {
   "cell_type": "code",
   "execution_count": 33,
   "id": "a0434596",
   "metadata": {},
   "outputs": [
    {
     "name": "stdout",
     "output_type": "stream",
     "text": [
      "                         haar Hoog Mog. , aangesien de trouweloose verbreeking van de Vreede met\n",
      "                   schraapsugt aangedaan, en van sijne trouweloose desertie uit den dienst van\n",
      "                        op eene soo onregtvaardige als trouweloose wyse aangevallen, en in een\n",
      "               subtile vindingen ende bedenckingen van trouweloose Bediendens, bedriegeryen van Leveranciers en\n"
     ]
    }
   ],
   "source": [
    "for hit in rep_es.keyword_in_context(\"trouweloose\", context_size=5):\n",
    "    print(hit[\"context\"])"
   ]
  },
  {
   "cell_type": "code",
   "execution_count": 48,
   "id": "7179bfc9",
   "metadata": {},
   "outputs": [
    {
     "name": "stdout",
     "output_type": "stream",
     "text": [
      "1672-01-01 218\n",
      "1672-02-01 207\n",
      "1672-03-01 260\n",
      "1672-04-01 116\n",
      "1672-05-01 311\n",
      "1672-06-01 191\n",
      "1672-07-01 209\n",
      "1672-08-01 226\n",
      "1672-09-01 239\n",
      "1672-10-01 203\n",
      "1672-11-01 227\n",
      "1672-12-01 198\n",
      "Total: 2605\n"
     ]
    },
    {
     "data": {
      "text/plain": [
       "2605"
      ]
     },
     "execution_count": 48,
     "metadata": {},
     "output_type": "execute_result"
    }
   ],
   "source": [
    "query = {\n",
    "    \"bool\": {\n",
    "        \"must\": [\n",
    "            #{\"match\": {\"type\": \"resolution\"}},\n",
    "            {\"match\": {\"metadata.session_year\": 1672}}\n",
    "            #{\"match\": {\"metadata.proposition_type\": \"requeste\"}}\n",
    "        ]\n",
    "    }\n",
    "}\n",
    "aggs = {\n",
    "    \"months\": {\n",
    "        \"date_histogram\": {\n",
    "            \"field\": \"metadata.session_date\",\n",
    "            \"calendar_interval\": \"month\"\n",
    "        }\n",
    "    }\n",
    "}\n",
    "response = rep_es.es_anno.search(index=\"resolutions\", query=query, aggs=aggs, size=10000)\n",
    "buckets = response[\"aggregations\"][\"months\"][\"buckets\"]\n",
    "sum_buckets = 0\n",
    "for bucket in buckets:\n",
    "    print(bucket[\"key_as_string\"].split(\"T\")[0], bucket[\"doc_count\"])\n",
    "    sum_buckets += bucket[\"doc_count\"]\n",
    "    \n",
    "print(\"Total:\", sum_buckets)\n",
    "\n",
    "resolutions_1672 = [hit[\"_source\"] for hit in response[\"hits\"][\"hits\"]]\n",
    "len(resolutions_1672)"
   ]
  },
  {
   "cell_type": "code",
   "execution_count": 50,
   "id": "10ecb0f1",
   "metadata": {},
   "outputs": [
    {
     "data": {
      "text/plain": [
       "Counter({'missing': 193,\n",
       "         None: 460,\n",
       "         'missive': 1617,\n",
       "         'requeste': 289,\n",
       "         'rekening': 1,\n",
       "         'memorie': 36,\n",
       "         'declaratie': 7,\n",
       "         'rapport': 2})"
      ]
     },
     "execution_count": 50,
     "metadata": {},
     "output_type": "execute_result"
    }
   ],
   "source": [
    "from collections import Counter\n",
    "\n",
    "Counter([res[\"metadata\"][\"proposition_type\"] if \"proposition_type\" in res[\"metadata\"] else \"missing\" for res in resolutions_1672])"
   ]
  },
  {
   "cell_type": "code",
   "execution_count": 5,
   "id": "0a797ebe",
   "metadata": {},
   "outputs": [
    {
     "name": "stdout",
     "output_type": "stream",
     "text": [
      "1672-01-01 12\n",
      "1672-02-01 8\n",
      "1672-03-01 35\n",
      "1672-04-01 17\n",
      "1672-05-01 47\n",
      "1672-06-01 13\n",
      "1672-07-01 20\n",
      "1672-08-01 19\n",
      "1672-09-01 22\n",
      "1672-10-01 21\n",
      "1672-11-01 23\n",
      "1672-12-01 25\n"
     ]
    }
   ],
   "source": [
    "query = {\n",
    "    \"bool\": {\n",
    "        \"must\": [\n",
    "            #{\"match\": {\"type\": \"resolution\"}},\n",
    "            {\"match\": {\"metadata.session_year\": 1672}},\n",
    "            {\"match\": {\"metadata.proposition_type\": \"requeste\"}}\n",
    "        ]\n",
    "    }\n",
    "}\n",
    "aggs = {\n",
    "    \"months\": {\n",
    "        \"date_histogram\": {\n",
    "            \"field\": \"metadata.session_date\",\n",
    "            \"calendar_interval\": \"month\"\n",
    "        }\n",
    "    }\n",
    "}\n",
    "response = rep_es.es_anno.search(index=\"resolutions\", query=query, aggs=aggs, size=0)\n",
    "buckets = response[\"aggregations\"][\"months\"][\"buckets\"]\n",
    "for bucket in buckets:\n",
    "    print(bucket[\"key_as_string\"].split(\"T\")[0], bucket[\"doc_count\"])\n",
    "\n"
   ]
  },
  {
   "cell_type": "code",
   "execution_count": 7,
   "id": "4fe88d54",
   "metadata": {},
   "outputs": [
    {
     "data": {
      "text/plain": [
       "{'value': 262, 'relation': 'eq'}"
      ]
     },
     "execution_count": 7,
     "metadata": {},
     "output_type": "execute_result"
    }
   ],
   "source": [
    "response[\"hits\"][\"total\"]"
   ]
  },
  {
   "cell_type": "code",
   "execution_count": 12,
   "id": "2021dfd1",
   "metadata": {},
   "outputs": [
    {
     "data": {
      "text/plain": [
       "{'took': 1,\n",
       " 'timed_out': False,\n",
       " '_shards': {'total': 1, 'successful': 1, 'skipped': 0, 'failed': 0},\n",
       " 'hits': {'total': {'value': 2605, 'relation': 'eq'},\n",
       "  'max_score': None,\n",
       "  'hits': []},\n",
       " 'aggregations': {'prop_types': {'doc_count_error_upper_bound': 0,\n",
       "   'sum_other_doc_count': 0,\n",
       "   'buckets': [{'key': 'missive', 'doc_count': 1540},\n",
       "    {'key': 'requeste', 'doc_count': 262},\n",
       "    {'key': 'memorie', 'doc_count': 32},\n",
       "    {'key': 'declaratie', 'doc_count': 7},\n",
       "    {'key': 'rapport', 'doc_count': 1},\n",
       "    {'key': 'rekening', 'doc_count': 1}]}}}"
      ]
     },
     "execution_count": 12,
     "metadata": {},
     "output_type": "execute_result"
    }
   ],
   "source": [
    "query = {\n",
    "    \"bool\": {\n",
    "        \"must\": [\n",
    "            #{\"match\": {\"type\": \"resolution\"}},\n",
    "            {\"match\": {\"metadata.session_year\": 1672}}\n",
    "        ]\n",
    "    }\n",
    "}\n",
    "aggs = {\n",
    "    \"prop_types\": {\n",
    "        \"terms\": {\n",
    "            \"field\": \"metadata.proposition_type.keyword\"\n",
    "        }\n",
    "    }\n",
    "}\n",
    "response = rep_es.es_anno.search(index=\"resolutions\", query=query, aggs=aggs, size=0)\n",
    "response"
   ]
  },
  {
   "cell_type": "code",
   "execution_count": 11,
   "id": "4098eb5e",
   "metadata": {},
   "outputs": [
    {
     "name": "stdout",
     "output_type": "stream",
     "text": [
      "parsing file ../../data/paragraphs/resolutions-paragraphs-3285-3286.tsv.gz\n",
      "van 88\n",
      "in 14\n",
      "allen 12\n",
      "becommerlicke 4\n",
      "voorige 4\n",
      "perplexe 3\n",
      "voorgaende 3\n",
      "periculeuse 3\n",
      "trouble 3\n",
      "pressante 2\n",
      "dangereuse 2\n",
      "ongevallige 2\n",
      "bij 2\n",
      "dese 2\n",
      "beswaerlijcke 2\n",
      "immemoriale 1\n",
      "vreedige 1\n",
      "anderen 1\n",
      "gesette 1\n",
      "ter 1\n"
     ]
    }
   ],
   "source": [
    "from collections import Counter\n",
    "\n",
    "tijden_counter = Counter()\n",
    "\n",
    "for sent in res_sents:\n",
    "    if 'tijden' in sent:\n",
    "        index = sent.index('tijden')\n",
    "        tijden_counter.update([sent[index-1]])\n",
    "    if 'tyden' in sent:\n",
    "        index = sent.index('tyden')\n",
    "        tijden_counter.update([sent[index-1]])\n",
    "\n",
    "for tijden, count in tijden_counter.most_common(20):\n",
    "    print(tijden, count)"
   ]
  },
  {
   "cell_type": "code",
   "execution_count": 14,
   "id": "c402979f",
   "metadata": {},
   "outputs": [
    {
     "name": "stdout",
     "output_type": "stream",
     "text": [
      "parsing file ../../data/paragraphs/resolutions-paragraphs-3760-3769.tsv\n",
      "van 106\n",
      "allen 85\n",
      "oude 72\n",
      "in 36\n",
      "voorige 29\n",
      "alle 24\n",
      "verscheyde 22\n",
      "immemoriale 21\n",
      "dese 11\n",
      "der 8\n",
      "voorgaende 7\n",
      "andere 6\n",
      "tegenwoordige 5\n",
      "bedroefde 4\n",
      "die 4\n",
      "bekommerlijcke 4\n",
      "ende 4\n",
      "by 3\n",
      "oorloghs 3\n",
      "lange 3\n"
     ]
    }
   ],
   "source": [
    "para_file = \"../../data/paragraphs/resolutions-paragraphs-3760-3769.tsv\"\n",
    "\n",
    "res_sents = text_helper.ResolutionSentences(para_file)\n",
    "\n",
    "tijden_counter = Counter()\n",
    "\n",
    "for sent in res_sents:\n",
    "    if 'tijden' in sent:\n",
    "        index = sent.index('tijden')\n",
    "        tijden_counter.update([sent[index-1]])\n",
    "    if 'tyden' in sent:\n",
    "        index = sent.index('tyden')\n",
    "        tijden_counter.update([sent[index-1]])\n",
    "\n",
    "for tijden, count in tijden_counter.most_common(20):\n",
    "    print(tijden, count)"
   ]
  }
 ],
 "metadata": {
  "kernelspec": {
   "display_name": "Python 3",
   "language": "python",
   "name": "python3"
  },
  "language_info": {
   "codemirror_mode": {
    "name": "ipython",
    "version": 3
   },
   "file_extension": ".py",
   "mimetype": "text/x-python",
   "name": "python",
   "nbconvert_exporter": "python",
   "pygments_lexer": "ipython3",
   "version": "3.8.8"
  }
 },
 "nbformat": 4,
 "nbformat_minor": 5
}
