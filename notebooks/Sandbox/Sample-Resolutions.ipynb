{
 "cells": [
  {
   "cell_type": "code",
   "execution_count": 2,
   "id": "a7b4ed91-0896-4455-a45b-3be147f0e0c0",
   "metadata": {},
   "outputs": [
    {
     "name": "stdout",
     "output_type": "stream",
     "text": [
      "/Users/marijnkoolen/Code/Huygens/republic-project\n"
     ]
    }
   ],
   "source": [
    "# This reload library is just used for developing the REPUBLIC hOCR parser \n",
    "# and can be removed once this module is stable.\n",
    "%reload_ext autoreload\n",
    "%autoreload 2\n",
    "\n",
    "\n",
    "# This is needed to add the repo dir to the path so jupyter\n",
    "# can load the republic modules directly from the notebooks\n",
    "import os\n",
    "import sys\n",
    "repo_name = 'republic-project'\n",
    "repo_dir = os.path.split(os.getcwd())[0].split(repo_name)[0] + repo_name\n",
    "print(repo_dir)\n",
    "if repo_dir not in sys.path:\n",
    "    sys.path = [repo_dir] + sys.path\n",
    "\n"
   ]
  },
  {
   "cell_type": "code",
   "execution_count": 3,
   "id": "9d822380-bceb-457c-ab7a-272910192499",
   "metadata": {},
   "outputs": [],
   "source": [
    "from republic.elastic.republic_elasticsearch import initialize_es\n",
    "\n",
    "\n",
    "rep_es = initialize_es(host_type=\"external\", timeout=60)\n",
    "\n"
   ]
  },
  {
   "cell_type": "code",
   "execution_count": 29,
   "id": "99a21fdf-b8a1-4197-85a1-c8cb2c80a1bf",
   "metadata": {},
   "outputs": [
    {
     "name": "stdout",
     "output_type": "stream",
     "text": [
      "short    1000\t   22\t      50\n",
      "mid      1000\t  100\t     300\n",
      "long     1000\t  500\t   19800\n",
      "CPU times: user 21.4 s, sys: 784 ms, total: 22.2 s\n",
      "Wall time: 27.4 s\n"
     ]
    }
   ],
   "source": [
    "%%time\n",
    "\n",
    "import gzip\n",
    "import json\n",
    "\n",
    "def make_resolution_size_query(size_min: int = 0, size_max: int = 100000):\n",
    "    return {\n",
    "        'function_score': {\n",
    "            'query': {\n",
    "                'bool': {\n",
    "                    'must': [\n",
    "                        {'match': {'type': 'resolution'}},\n",
    "                        {'range': {'metadata.session_year': {'gte': 1700, 'lte': 1797}}},\n",
    "                        {'range': {'stats.words': {'lte': size_max, 'gte': size_min}}}\n",
    "                    ]\n",
    "                }            \n",
    "            },\n",
    "            'random_score': {\n",
    "                'seed': seed,\n",
    "                'field': '_seq_no'\n",
    "            }\n",
    "        }\n",
    "    }\n",
    "# query = {\n",
    "#     \"match\": {\n",
    "#         \"metadata.session_year\": 1672\n",
    "#     }\n",
    "# }\n",
    "\n",
    "seed = 937498\n",
    "\n",
    "res_lengths = [\n",
    "    {'length': 'short', 'size_min': 0, 'size_max': 50},\n",
    "    {'length': 'mid', 'size_min': 100, 'size_max': 300},\n",
    "    {'length': 'long', 'size_min': 500, 'size_max': 100000}\n",
    "]\n",
    "\n",
    "for res_length in res_lengths:\n",
    "    query = make_resolution_size_query(size_min=res_length['size_min'], size_max=res_length['size_max'])\n",
    "    resolutions = rep_es.retrieve_resolutions_by_query(query, size=1000)\n",
    "    words = [res.stats['words'] for res in resolutions]\n",
    "    print(f\"{res_length['length']: <8}{len(words): >5}\\t{min(words): >5}\\t{max(words): >8}\")\n",
    "    out_file = f\"../../data/resolutions/resolutions-{res_length['length']}.json.gz\"\n",
    "    with gzip.open(out_file, 'wt') as fh:\n",
    "        json.dump([res.json for res in resolutions], fh)\n",
    "\n",
    "#     for res in resolutions:\n",
    "#         for para in res.paragraphs:\n",
    "#             print(para.text)"
   ]
  },
  {
   "cell_type": "code",
   "execution_count": 31,
   "id": "95be1d9f",
   "metadata": {},
   "outputs": [
    {
     "data": {
      "text/plain": [
       "[]"
      ]
     },
     "execution_count": 31,
     "metadata": {},
     "output_type": "execute_result"
    }
   ],
   "source": [
    "query = {\n",
    "    'bool': {\n",
    "        'must': [\n",
    "            {'match': {'type': 'resolution'}},\n",
    "            {'range': {'metadata.session_year': {'gte': 1672, 'lte': 1672}}},\n",
    "        ]\n",
    "    }                \n",
    "}\n",
    "\n",
    "resolutions = rep_es.retrieve_resolutions_by_query(query, size=10)\n",
    "[res.id for res in resolutions]"
   ]
  },
  {
   "cell_type": "code",
   "execution_count": null,
   "id": "633bd821",
   "metadata": {},
   "outputs": [],
   "source": []
  },
  {
   "cell_type": "code",
   "execution_count": null,
   "id": "e900b332",
   "metadata": {},
   "outputs": [],
   "source": []
  },
  {
   "cell_type": "code",
   "execution_count": 7,
   "id": "402b2198-b83a-4586-b617-d30c96dd6362",
   "metadata": {},
   "outputs": [
    {
     "data": {
      "text/plain": [
       "2605"
      ]
     },
     "execution_count": 7,
     "metadata": {},
     "output_type": "execute_result"
    }
   ],
   "source": [
    "resolutions = [hit[\"_source\"] for hit in response[\"hits\"][\"hits\"]]\n",
    "len(resolutions)"
   ]
  },
  {
   "cell_type": "code",
   "execution_count": 9,
   "id": "f1cce4e3-e24a-4be3-90bc-bcf2e1ca9f97",
   "metadata": {},
   "outputs": [],
   "source": [
    "import json\n",
    "\n",
    "res_file = \"../../data/resolutions/rampjaar-ordinars-resolutions.json\"\n",
    "\n",
    "with open(res_file, 'wt') as fh:\n",
    "    json.dump(resolutions, fh)"
   ]
  },
  {
   "cell_type": "code",
   "execution_count": null,
   "id": "3fc99bae",
   "metadata": {},
   "outputs": [],
   "source": []
  }
 ],
 "metadata": {
  "kernelspec": {
   "display_name": "Python 3 (ipykernel)",
   "language": "python",
   "name": "python3"
  },
  "language_info": {
   "codemirror_mode": {
    "name": "ipython",
    "version": 3
   },
   "file_extension": ".py",
   "mimetype": "text/x-python",
   "name": "python",
   "nbconvert_exporter": "python",
   "pygments_lexer": "ipython3",
   "version": "3.10.9"
  },
  "toc": {
   "base_numbering": 1,
   "nav_menu": {},
   "number_sections": true,
   "sideBar": true,
   "skip_h1_title": false,
   "title_cell": "Table of Contents",
   "title_sidebar": "Contents",
   "toc_cell": false,
   "toc_position": {},
   "toc_section_display": true,
   "toc_window_display": false
  }
 },
 "nbformat": 4,
 "nbformat_minor": 5
}
