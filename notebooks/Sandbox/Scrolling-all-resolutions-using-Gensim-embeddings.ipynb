{
 "cells": [
  {
   "cell_type": "code",
   "execution_count": 1,
   "id": "d66228b4",
   "metadata": {},
   "outputs": [
    {
     "name": "stdout",
     "output_type": "stream",
     "text": [
      "adding project dir to path: /Users/marijnkoolen/Code/Huygens/republic-project\n"
     ]
    }
   ],
   "source": [
    "# This reload library is just used for developing the REPUBLIC hOCR parser \n",
    "# and can be removed once this module is stable.\n",
    "%reload_ext autoreload\n",
    "%autoreload 2\n",
    "\n",
    "\n",
    "# This is needed to add the repo dir to the path so jupyter\n",
    "# can load the republic modules directly from the notebooks\n",
    "import os\n",
    "import sys\n",
    "repo_name = 'republic-project'\n",
    "repo_dir = os.path.split(os.getcwd())[0].split(repo_name)[0] + repo_name\n",
    "print(\"adding project dir to path:\", repo_dir)\n",
    "if repo_dir not in sys.path:\n",
    "    sys.path.append(repo_dir)\n",
    "\n"
   ]
  },
  {
   "cell_type": "code",
   "execution_count": 3,
   "id": "32558cb5",
   "metadata": {},
   "outputs": [],
   "source": [
    "from republic.elastic.republic_elasticsearch import initialize_es\n",
    "\n",
    "rep_es = initialize_es(host_type='external', timeout=60)\n"
   ]
  },
  {
   "cell_type": "code",
   "execution_count": 8,
   "id": "8de1c2de",
   "metadata": {},
   "outputs": [],
   "source": [
    "from gensim.models import Word2Vec\n",
    "\n",
    "wv_file = \"../../data/embeddings/gensim_embeddings/word2vec-resolutions-18th_century-lowercase-win_5-min_count_3.model\"\n",
    "wv_model = Word2Vec.load(wv_file)\n"
   ]
  },
  {
   "cell_type": "code",
   "execution_count": 13,
   "id": "7b1b3bc8",
   "metadata": {},
   "outputs": [
    {
     "name": "stdout",
     "output_type": "stream",
     "text": [
      "total hits: {'value': 350761, 'relation': 'eq'} \thits per scroll: 10\n",
      "1672-10-29\n",
      "\t Is gehoort het rapport vande Heeren van Hoogendorp, ende andere hare Ho:Mo: Gedeputeerden tot de saecken vande Meijerije van ‛s Hertogen„ bosch, hebbende ingevolge ende tot voldoeninge van derselver resolutie Commissoriael van date den vijffen„ twintichsten deses, gevisiteert ende geexamineert de Requeste van Laurens Pelgum, woonende tot Amsterdam, houdende in effect dat wijlen Gijsbert Bacx in sijn leven Canonick binnen ‛s hertogen„ bosch, op seecker antaer, staende in seeckere kercke ofte Choor aldaer, genaempt Bacx Choorken, gesticht hadde tende Beneficien, ofte het incomen vandien, ges dat soo wan„ neer deselve Beneficien souden comen te vaceren, dat dan het eerst vacerende Beneficie vergeven soude werden bij de patroon in der tijt ende den Deecken, mitsgaders het Capittel vande kercke van St. Jan, gesamentlick, maer het tweede vacerende, dat tot het selve bij den persoon aenden Deecken ende Ca„ pittel voornoemt, gepresenteert soude werden een bequaem persoon, mits sijnde allesints ende in ijder geval een versooch vanden bloede vanden voornoemden Gijsbert Bacx, ende dat de persoon, door de voorschreve Patroon alsoo gepresenteert, oock bij de voornoemde Deecken ende Capittel soude moeten werden geinstitueert ende aengenomen, alles volgens de Brieven van fundatie in date den vijffden September 1455. Ende off wel den Suppliant door overlijden van sijn vader Henrick Pelgrom als de naeste vanden Bloede vanden voornoemden Gijsbert Bacx, was geworden gifter ende patroon vande voor„ schreve twee beneficien, dat echter eenen Aelstins, sich sub=en opreptivelick hebbende geaddresseert aen hare Ho:Mo: volgens derselver resolutie vanden elffden November 1662. eenigen tijt genooten ende getrocken hadde het incomen vande voorschreve beneficien, doch dat den Suppliant den voornoemden Aelstins in rechten betrocken hebbende voor den Raedt van Brabandt, denselven Aelstins bij Sententie in date den sevenentwin„ tichsten September lestleden was gecondemneert met de voors resolutie ofte acte, van haer Ho:Mo: geobtineert, niet te behelpen, ende voorts affstant te doen vant voor„ noemde Beneficie aldaer in questie, ende hem Suppliant daermede te laten gewerden. Ende dewijle nu het tweede der voornoemde Bene„ fitren, door overlijden van Jacob Pelgrom sijnde geweest laetste Vicaris, was comen te vaceren ende dat den Suppliant het selve bij Acte van collatie, in date den twaelffden deses, hadde geconfereert op sijn Broeder Petrus Pelgrom, wieus persoon, den Suppliant, als representerende den Deecken, ende het Capittel voornoemt, ingevolge vande voorschreve fundatie brieff ende Acte van Collatie aen haer Ho:Mo: was presenterende, dat den Suppliant derhalven versochte dat haer Ho:Mo: de persoon vanden voornoemden Petrus Pelgrom souden gelieven te institueren ende aen te nemen, mitsgaders aen denselven daervan te verleenen Acte, om te dienen daer sulcx van nooden wesen soude: Waerop gedelibereert sijnde, Is goetgevonden ende verstaen, mits desen te con„ senteren int voorschreve versoeck, ende hebben dienvolgende haer Ho: Mo: den persoon vanden voornoemden Petrus Pelgrom, op de presentatie vanden Suppliant, tot het vacante\n",
      "\t ['is', 'gehoort', 'het', 'rapport', 'vande', 'heeren', 'van', 'hoogendorp', 'ende', 'andere', 'hare', 'ho', 'mo', 'gedeputeerden', 'tot', 'de', 'saecken', 'vande', 'meijerije', 'van', 's', 'hertogen', 'bosch', 'hebbende', 'ingevolge', 'ende', 'tot', 'voldoeninge', 'van', 'derselver', 'resolutie', 'commissoriael', 'van', 'date', 'den', 'vijffen', 'twintichsten', 'deses', 'gevisiteert', 'ende', 'geexamineert', 'de', 'requeste', 'van', 'laurens', 'pelgum', 'woonende', 'tot', 'amsterdam', 'houdende', 'in', 'effect', 'dat', 'wijlen', 'gijsbert', 'bacx', 'in', 'sijn', 'leven', 'canonick', 'binnen', 's', 'hertogen', 'bosch', 'op', 'seecker', 'antaer', 'staende', 'in', 'seeckere', 'kercke', 'ofte', 'choor', 'aldaer', 'genaempt', 'bacx', 'choorken', 'gesticht', 'hadde', 'tende', 'beneficien', 'ofte', 'het', 'incomen', 'vandien', 'ges', 'dat', 'soo', 'wan', 'neer', 'deselve', 'beneficien', 'souden', 'comen', 'te', 'vaceren', 'dat', 'dan', 'het', 'eerst', 'vacerende', 'beneficie', 'vergeven', 'soude', 'werden', 'bij', 'de', 'patroon', 'in', 'der', 'tijt', 'ende', 'den', 'deecken', 'mitsgaders', 'het', 'capittel', 'vande', 'kercke', 'van', 'st', 'jan', 'gesamentlick', 'maer', 'het', 'tweede', 'vacerende', 'dat', 'tot', 'het', 'selve', 'bij', 'den', 'persoon', 'aenden', 'deecken', 'ende', 'ca', 'pittel', 'voornoemt', 'gepresenteert', 'soude', 'werden', 'een', 'bequaem', 'persoon', 'mits', 'sijnde', 'allesints', 'ende', 'in', 'ijder', 'geval', 'een', 'versooch', 'vanden', 'bloede', 'vanden', 'voornoemden', 'gijsbert', 'bacx', 'ende', 'dat', 'de', 'persoon', 'door', 'de', 'voorschreve', 'patroon', 'alsoo', 'gepresenteert', 'oock', 'bij', 'de', 'voornoemde', 'deecken', 'ende', 'capittel', 'soude', 'moeten', 'werden', 'geinstitueert', 'ende', 'aengenomen', 'alles', 'volgens', 'de', 'brieven', 'van', 'fundatie', 'in', 'date', 'den', 'vijffden', 'september', '1455', 'ende', 'off', 'wel', 'den', 'suppliant', 'door', 'overlijden', 'van', 'sijn', 'vader', 'henrick', 'pelgrom', 'als', 'de', 'naeste', 'vanden', 'bloede', 'vanden', 'voornoemden', 'gijsbert', 'bacx', 'was', 'geworden', 'gifter', 'ende', 'patroon', 'vande', 'voor', 'schreve', 'twee', 'beneficien', 'dat', 'echter', 'eenen', 'aelstins', 'sich', 'sub', 'en', 'opreptivelick', 'hebbende', 'geaddresseert', 'aen', 'hare', 'ho', 'mo', 'volgens', 'derselver', 'resolutie', 'vanden', 'elffden', 'november', '1662', 'eenigen', 'tijt', 'genooten', 'ende', 'getrocken', 'hadde', 'het', 'incomen', 'vande', 'voorschreve', 'beneficien', 'doch', 'dat', 'den', 'suppliant', 'den', 'voornoemden', 'aelstins', 'in', 'rechten', 'betrocken', 'hebbende', 'voor', 'den', 'raedt', 'van', 'brabandt', 'denselven', 'aelstins', 'bij', 'sententie', 'in', 'date', 'den', 'sevenentwin', 'tichsten', 'september', 'lestleden', 'was', 'gecondemneert', 'met', 'de', 'voors', 'resolutie', 'ofte', 'acte', 'van', 'haer', 'ho', 'mo', 'geobtineert', 'niet', 'te', 'behelpen', 'ende', 'voorts', 'affstant', 'te', 'doen', 'vant', 'voor', 'noemde', 'beneficie', 'aldaer', 'in', 'questie', 'ende', 'hem', 'suppliant', 'daermede', 'te', 'laten', 'gewerden', 'ende', 'dewijle', 'nu', 'het', 'tweede', 'der', 'voornoemde', 'bene', 'fitren', 'door', 'overlijden', 'van', 'jacob', 'pelgrom', 'sijnde', 'geweest', 'laetste', 'vicaris', 'was', 'comen', 'te', 'vaceren', 'ende', 'dat', 'den', 'suppliant', 'het', 'selve', 'bij', 'acte', 'van', 'collatie', 'in', 'date', 'den', 'twaelffden', 'deses', 'hadde', 'geconfereert', 'op', 'sijn', 'broeder', 'petrus', 'pelgrom', 'wieus', 'persoon', 'den', 'suppliant', 'als', 'representerende', 'den', 'deecken', 'ende', 'het', 'capittel', 'voornoemt', 'ingevolge', 'vande', 'voorschreve', 'fundatie', 'brieff', 'ende', 'acte', 'van', 'collatie', 'aen', 'haer', 'ho', 'mo', 'was', 'presenterende', 'dat', 'den', 'suppliant', 'derhalven', 'versochte', 'dat', 'haer', 'ho', 'mo', 'de', 'persoon', 'vanden', 'voornoemden', 'petrus', 'pelgrom', 'souden', 'gelieven', 'te', 'institueren', 'ende', 'aen', 'te', 'nemen', 'mitsgaders', 'aen', 'denselven', 'daervan', 'te', 'verleenen', 'acte', 'om', 'te', 'dienen', 'daer', 'sulcx', 'van', 'nooden', 'wesen', 'soude', 'waerop', 'gedelibereert', 'sijnde', 'is', 'goetgevonden', 'ende', 'verstaen', 'mits', 'desen', 'te', 'con', 'senteren', 'int', 'voorschreve', 'versoeck', 'ende', 'hebben', 'dienvolgende', 'haer', 'ho', 'mo', 'den', 'persoon', 'vanden', 'voornoemden', 'petrus', 'pelgrom', 'op', 'de', 'presentatie', 'vanden', 'suppliant', 'tot', 'het', 'vacante']\n",
      "is [('was', 0.6961964964866638)]\n",
      "gehoort [('gehoord', 0.8923174738883972)]\n",
      "het [('bet', 0.7642310261726379)]\n",
      "rapport [('gerapporteerde', 0.7022113800048828)]\n",
      "vande [('wolter', 0.6286771893501282)]\n",
      "heeren [('hecren', 0.7486603260040283)]\n",
      "van [('wan', 0.6725305318832397)]\n",
      "hoogendorp [('coppen', 0.7983619570732117)]\n",
      "ende [('ofte', 0.7509016990661621)]\n",
      "andere [('andete', 0.7404349446296692)]\n",
      "hare [('harer', 0.7310934066772461)]\n",
      "ho [('hoogl', 0.7014174461364746)]\n",
      "mo [('megende', 0.8357546925544739)]\n",
      "gedeputeerden [('gedepueerden', 0.7692481279373169)]\n",
      "tot [('tor', 0.7376329898834229)]\n",
      "de [('die', 0.6688355207443237)]\n",
      "saecken [('saken', 0.8902398943901062)]\n",
      "vande [('wolter', 0.6286771893501282)]\n"
     ]
    },
    {
     "ename": "KeyError",
     "evalue": "\"Key 'meijerije' not present\"",
     "output_type": "error",
     "traceback": [
      "\u001b[0;31m---------------------------------------------------------------------------\u001b[0m",
      "\u001b[0;31mKeyError\u001b[0m                                  Traceback (most recent call last)",
      "Input \u001b[0;32mIn [13]\u001b[0m, in \u001b[0;36m<module>\u001b[0;34m\u001b[0m\n\u001b[1;32m     15\u001b[0m     \u001b[38;5;28mprint\u001b[39m(\u001b[38;5;124m'\u001b[39m\u001b[38;5;130;01m\\t\u001b[39;00m\u001b[38;5;124m'\u001b[39m, words)\n\u001b[1;32m     16\u001b[0m     \u001b[38;5;28;01mfor\u001b[39;00m word \u001b[38;5;129;01min\u001b[39;00m words:\n\u001b[0;32m---> 17\u001b[0m         \u001b[38;5;28mprint\u001b[39m(word, \u001b[43mwv_model\u001b[49m\u001b[38;5;241;43m.\u001b[39;49m\u001b[43mwv\u001b[49m\u001b[38;5;241;43m.\u001b[39;49m\u001b[43mmost_similar\u001b[49m\u001b[43m(\u001b[49m\u001b[43mword\u001b[49m\u001b[43m,\u001b[49m\u001b[43m \u001b[49m\u001b[43mtopn\u001b[49m\u001b[38;5;241;43m=\u001b[39;49m\u001b[38;5;241;43m1\u001b[39;49m\u001b[43m)\u001b[49m)\n\u001b[1;32m     18\u001b[0m \u001b[38;5;28mprint\u001b[39m(\u001b[38;5;124m'\u001b[39m\u001b[38;5;130;01m\\n\u001b[39;00m\u001b[38;5;130;01m\\n\u001b[39;00m\u001b[38;5;124m'\u001b[39m)\n\u001b[1;32m     19\u001b[0m \u001b[38;5;28;01mbreak\u001b[39;00m\n",
      "File \u001b[0;32m/opt/homebrew/lib/python3.10/site-packages/gensim/models/keyedvectors.py:773\u001b[0m, in \u001b[0;36mKeyedVectors.most_similar\u001b[0;34m(self, positive, negative, topn, clip_start, clip_end, restrict_vocab, indexer)\u001b[0m\n\u001b[1;32m    771\u001b[0m     mean\u001b[38;5;241m.\u001b[39mappend(weight \u001b[38;5;241m*\u001b[39m key)\n\u001b[1;32m    772\u001b[0m \u001b[38;5;28;01melse\u001b[39;00m:\n\u001b[0;32m--> 773\u001b[0m     mean\u001b[38;5;241m.\u001b[39mappend(weight \u001b[38;5;241m*\u001b[39m \u001b[38;5;28;43mself\u001b[39;49m\u001b[38;5;241;43m.\u001b[39;49m\u001b[43mget_vector\u001b[49m\u001b[43m(\u001b[49m\u001b[43mkey\u001b[49m\u001b[43m,\u001b[49m\u001b[43m \u001b[49m\u001b[43mnorm\u001b[49m\u001b[38;5;241;43m=\u001b[39;49m\u001b[38;5;28;43;01mTrue\u001b[39;49;00m\u001b[43m)\u001b[49m)\n\u001b[1;32m    774\u001b[0m     \u001b[38;5;28;01mif\u001b[39;00m \u001b[38;5;28mself\u001b[39m\u001b[38;5;241m.\u001b[39mhas_index_for(key):\n\u001b[1;32m    775\u001b[0m         all_keys\u001b[38;5;241m.\u001b[39madd(\u001b[38;5;28mself\u001b[39m\u001b[38;5;241m.\u001b[39mget_index(key))\n",
      "File \u001b[0;32m/opt/homebrew/lib/python3.10/site-packages/gensim/models/keyedvectors.py:438\u001b[0m, in \u001b[0;36mKeyedVectors.get_vector\u001b[0;34m(self, key, norm)\u001b[0m\n\u001b[1;32m    414\u001b[0m \u001b[38;5;28;01mdef\u001b[39;00m \u001b[38;5;21mget_vector\u001b[39m(\u001b[38;5;28mself\u001b[39m, key, norm\u001b[38;5;241m=\u001b[39m\u001b[38;5;28;01mFalse\u001b[39;00m):\n\u001b[1;32m    415\u001b[0m     \u001b[38;5;124;03m\"\"\"Get the key's vector, as a 1D numpy array.\u001b[39;00m\n\u001b[1;32m    416\u001b[0m \n\u001b[1;32m    417\u001b[0m \u001b[38;5;124;03m    Parameters\u001b[39;00m\n\u001b[0;32m   (...)\u001b[0m\n\u001b[1;32m    436\u001b[0m \n\u001b[1;32m    437\u001b[0m \u001b[38;5;124;03m    \"\"\"\u001b[39;00m\n\u001b[0;32m--> 438\u001b[0m     index \u001b[38;5;241m=\u001b[39m \u001b[38;5;28;43mself\u001b[39;49m\u001b[38;5;241;43m.\u001b[39;49m\u001b[43mget_index\u001b[49m\u001b[43m(\u001b[49m\u001b[43mkey\u001b[49m\u001b[43m)\u001b[49m\n\u001b[1;32m    439\u001b[0m     \u001b[38;5;28;01mif\u001b[39;00m norm:\n\u001b[1;32m    440\u001b[0m         \u001b[38;5;28mself\u001b[39m\u001b[38;5;241m.\u001b[39mfill_norms()\n",
      "File \u001b[0;32m/opt/homebrew/lib/python3.10/site-packages/gensim/models/keyedvectors.py:412\u001b[0m, in \u001b[0;36mKeyedVectors.get_index\u001b[0;34m(self, key, default)\u001b[0m\n\u001b[1;32m    410\u001b[0m     \u001b[38;5;28;01mreturn\u001b[39;00m default\n\u001b[1;32m    411\u001b[0m \u001b[38;5;28;01melse\u001b[39;00m:\n\u001b[0;32m--> 412\u001b[0m     \u001b[38;5;28;01mraise\u001b[39;00m \u001b[38;5;167;01mKeyError\u001b[39;00m(\u001b[38;5;124mf\u001b[39m\u001b[38;5;124m\"\u001b[39m\u001b[38;5;124mKey \u001b[39m\u001b[38;5;124m'\u001b[39m\u001b[38;5;132;01m{\u001b[39;00mkey\u001b[38;5;132;01m}\u001b[39;00m\u001b[38;5;124m'\u001b[39m\u001b[38;5;124m not present\u001b[39m\u001b[38;5;124m\"\u001b[39m)\n",
      "\u001b[0;31mKeyError\u001b[0m: \"Key 'meijerije' not present\""
     ]
    }
   ],
   "source": [
    "import re\n",
    "\n",
    "\n",
    "def paragraph_to_words(paragraph_text: str, lowercase: bool = False, split_pattern: str = r'\\W+'):\n",
    "    if lowercase is True:\n",
    "        paragraph_text = paragraph_text.lower()\n",
    "    return [w for w in re.split(split_pattern, paragraph_text) if w != '']\n",
    "\n",
    "\n",
    "for res in rep_es.scroll_resolutions_by_query(None):\n",
    "    print(res.metadata['session_date'])\n",
    "    for para in res.paragraphs:\n",
    "        print('\\t', para.text)\n",
    "        words = paragraph_to_words(para.text, lowercase=True)\n",
    "        print('\\t', words)\n",
    "        for word in words:\n",
    "            print(word, wv_model.wv.most_similar(word, topn=1))\n",
    "    print('\\n\\n')\n",
    "    break"
   ]
  },
  {
   "cell_type": "code",
   "execution_count": null,
   "id": "b7bd8c9c",
   "metadata": {},
   "outputs": [],
   "source": []
  }
 ],
 "metadata": {
  "kernelspec": {
   "display_name": "Python 3 (ipykernel)",
   "language": "python",
   "name": "python3"
  },
  "language_info": {
   "codemirror_mode": {
    "name": "ipython",
    "version": 3
   },
   "file_extension": ".py",
   "mimetype": "text/x-python",
   "name": "python",
   "nbconvert_exporter": "python",
   "pygments_lexer": "ipython3",
   "version": "3.10.2"
  }
 },
 "nbformat": 4,
 "nbformat_minor": 5
}
