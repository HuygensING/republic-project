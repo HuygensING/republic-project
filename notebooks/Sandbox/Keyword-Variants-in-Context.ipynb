{
 "cells": [
  {
   "cell_type": "code",
   "execution_count": 1,
   "id": "21cd77e5",
   "metadata": {},
   "outputs": [
    {
     "name": "stdout",
     "output_type": "stream",
     "text": [
      "/Users/marijnkoolen/Code/Huygens/republic-project\n"
     ]
    }
   ],
   "source": [
    "# This reload library is just used for developing the REPUBLIC hOCR parser \n",
    "# and can be removed once this module is stable.\n",
    "%reload_ext autoreload\n",
    "%autoreload 2\n",
    "\n",
    "\n",
    "# This is needed to add the repo dir to the path so jupyter\n",
    "# can load the republic modules directly from the notebooks\n",
    "import os\n",
    "import sys\n",
    "repo_name = 'republic-project'\n",
    "repo_dir = os.path.split(os.getcwd())[0].split(repo_name)[0] + repo_name\n",
    "print(repo_dir)\n",
    "if repo_dir not in sys.path:\n",
    "    sys.path.append(repo_dir)\n",
    "\n"
   ]
  },
  {
   "cell_type": "code",
   "execution_count": 2,
   "id": "f11a8f77",
   "metadata": {},
   "outputs": [],
   "source": [
    "from republic.elastic.republic_elasticsearch import initialize_es\n",
    "\n",
    "rep_es = initialize_es(host_type='external', timeout=60)\n"
   ]
  },
  {
   "cell_type": "code",
   "execution_count": 3,
   "id": "02ea5605",
   "metadata": {},
   "outputs": [],
   "source": [
    "from collections import Counter\n",
    "import re\n",
    "\n",
    "query = {\n",
    "    \"bool\": {\n",
    "        \"must\": [\n",
    "            {\"match\": {\"type\": \"resolution\"}},\n",
    "            {\"match\": {\"metadata.session_year\": 1672}}\n",
    "        ]\n",
    "    }\n",
    "}\n",
    "\n",
    "resolutions_1672 = rep_es.retrieve_resolutions_by_query(query, size=10000)\n",
    "\n"
   ]
  },
  {
   "cell_type": "code",
   "execution_count": 31,
   "id": "3ae81ebc",
   "metadata": {},
   "outputs": [
    {
     "name": "stdout",
     "output_type": "stream",
     "text": [
      "ende                 26333\n",
      "van                  23211\n",
      "de                   20743\n",
      "te                   14955\n",
      "dat                  11138\n",
      "den                   9356\n",
      "haer                  8467\n",
      "vande                 8418\n",
      "tot                   8380\n",
      "in                    8012\n"
     ]
    }
   ],
   "source": [
    "from collections import defaultdict\n",
    "\n",
    "# Create a counting object\n",
    "unigram_freq = Counter()\n",
    "bigram_freq = Counter()\n",
    "prefix_freq = defaultdict(Counter)\n",
    "postfix_freq = defaultdict(Counter)\n",
    "\n",
    "# iterate over all resolutions and ...\n",
    "for res in resolutions_1672:\n",
    "    # ... over all paragraphs in a resolution\n",
    "    for para in res.paragraphs:\n",
    "        # and count the occurrence of each word\n",
    "        unigrams = [word for word in re.split(r\"\\W+\", para.text) if word != '']\n",
    "        bigrams = [f\"{unigrams[i]} {unigrams[i+1]}\" for i, w in enumerate(unigrams[:-1])]\n",
    "        unigram_freq.update(unigrams)\n",
    "        bigram_freq.update(bigrams)\n",
    "        for i, w1 in enumerate(unigrams[:-1]):\n",
    "            w2 = unigrams[i+1]\n",
    "            prefix_freq[w2].update([w1])\n",
    "            postfix_freq[w1].update([w2])\n",
    "\n",
    "# show the frequency of the 10 most frequent words\n",
    "for unigram, freq in unigram_freq.most_common(10):\n",
    "    print(f\"{unigram: <20}{freq: >6}\")"
   ]
  },
  {
   "cell_type": "code",
   "execution_count": 19,
   "id": "a4594681",
   "metadata": {},
   "outputs": [
    {
     "name": "stdout",
     "output_type": "stream",
     "text": [
      "Ho Mo                 7155\n",
      "haer Ho               5225\n",
      "ende verstaen         2851\n",
      "dat de                2665\n",
      "de voorschreve        2587\n",
      "sal werden            2346\n",
      "verstaen dat          2262\n",
      "goetgevonden ende     2182\n",
      "Waerop gedelibereert  2167\n",
      "gedelibereert sijnde  2028\n"
     ]
    }
   ],
   "source": [
    "# show the frequency of the 10 most frequent words\n",
    "for bigram, freq in bigram_freq.most_common(10):\n",
    "    print(f\"{bigram: <20}{freq: >6}\")"
   ]
  },
  {
   "cell_type": "code",
   "execution_count": 21,
   "id": "a26c10b9",
   "metadata": {},
   "outputs": [],
   "source": [
    "from republic.helper.text_helper import SkipgramSimilarity\n",
    "\n",
    "unigram_sim = SkipgramSimilarity(ngram_length=2, skip_length=2, terms=unigram_freq.keys())\n"
   ]
  },
  {
   "cell_type": "code",
   "execution_count": 34,
   "id": "b6f51df5",
   "metadata": {},
   "outputs": [
    {
     "name": "stdout",
     "output_type": "stream",
     "text": [
      "becommerlijcke                    5  1.00\n",
      "becommerlijcken                   1  0.97\n",
      "commerlijcke                      1  0.93\n",
      "becommerlicke                     7  0.89\n",
      "becommerlicken                    3  0.86\n",
      "beecomerlijcken                   1  0.84\n",
      "becommeringe                      3  0.68\n",
      "onbecommerden                     2  0.62\n",
      "becommernisse                     1  0.62\n",
      "behoerlijcke                      1  0.61\n",
      "merckelijcke                     11  0.58\n",
      "commercieren                      1  0.56\n",
      "merckelijcken                     3  0.56\n",
      "baerblijckelijck                  1  0.54\n",
      "baerblijckelicke                  1  0.53\n",
      "keijserlijcke                     1  0.52\n",
      "Keijserlijcke                     3  0.51\n",
      "gebruijckelijcke                  1  0.51\n",
      "gelijckelick                      1  0.50\n",
      "beswaerlijcke                     2  0.50\n"
     ]
    }
   ],
   "source": [
    "for t, s in unigram_sim.rank_similar('becommerlijcke', top_n=20):\n",
    "    print(f\"{t: <30}{unigram_freq[t]: >5}{s: 6.2f}\")"
   ]
  },
  {
   "cell_type": "code",
   "execution_count": 32,
   "id": "95cb4c2d",
   "metadata": {},
   "outputs": [
    {
     "data": {
      "text/plain": [
       "[('dese', 4), ('tegenwoordige', 1)]"
      ]
     },
     "execution_count": 32,
     "metadata": {},
     "output_type": "execute_result"
    }
   ],
   "source": [
    "prefix_freq['becommerlijcke'].most_common(10)"
   ]
  },
  {
   "cell_type": "code",
   "execution_count": 33,
   "id": "145d20c3",
   "metadata": {},
   "outputs": [
    {
     "data": {
      "text/plain": [
       "[('tijden', 2), ('toestant', 1), ('constitutie', 1), ('conuuoture', 1)]"
      ]
     },
     "execution_count": 33,
     "metadata": {},
     "output_type": "execute_result"
    }
   ],
   "source": [
    "postfix_freq['becommerlijcke'].most_common(10)"
   ]
  },
  {
   "cell_type": "code",
   "execution_count": 24,
   "id": "50f1128f",
   "metadata": {},
   "outputs": [],
   "source": [
    "bigram_sim = SkipgramSimilarity(ngram_length=2, skip_length=2, terms=bigram_freq.keys())\n"
   ]
  },
  {
   "cell_type": "code",
   "execution_count": 28,
   "id": "d11dfaab",
   "metadata": {},
   "outputs": [
    {
     "data": {
      "text/plain": [
       "[('ter tijden', 0.7080881928749334),\n",
       " ('dese tijden', 0.648074069840786),\n",
       " ('vande tijden', 0.6454972243679028),\n",
       " ('onder tijden', 0.6454972243679028),\n",
       " ('anderen tijden', 0.6324555320336759),\n",
       " ('dien tijde', 0.6210590034081187),\n",
       " ('ouden tijden', 0.6085806194501846),\n",
       " ('tijden wert', 0.5973191135873606),\n",
       " ('ware sijne', 0.5962847939999439),\n",
       " ('van tijden', 0.5962847939999439),\n",
       " ('sware diensten', 0.5923488777590924),\n",
       " ('Vredens tijden', 0.5797509043642028),\n",
       " ('tijden ten', 0.5728918992315464),\n",
       " ('tijden tot', 0.5728918992315464),\n",
       " ('tijden sij', 0.5728918992315464),\n",
       " ('bij tijden', 0.5728918992315464),\n",
       " ('daertoe bijden', 0.5627314338711378),\n",
       " ('allen tijden', 0.5627314338711378),\n",
       " ('slechte tijden', 0.5627314338711378),\n",
       " ('hare zijde', 0.5590169943749475)]"
      ]
     },
     "execution_count": 28,
     "metadata": {},
     "output_type": "execute_result"
    }
   ],
   "source": [
    "bigram_sim.rank_similar('sware tijden', top_n=20)"
   ]
  },
  {
   "cell_type": "code",
   "execution_count": 26,
   "id": "6ed0786a",
   "metadata": {
    "scrolled": false
   },
   "outputs": [
    {
     "name": "stdout",
     "output_type": "stream",
     "text": [
      "            in tijden van\n",
      "       gesette tijden, van\n",
      "       sware - tijden van\n",
      "          dese tijden van\n",
      "becommerlijcke tijden te\n",
      "          dese tijden niet\n",
      "         allen tijden van\n",
      "            in tijden van\n",
      "           van tijden ende\n",
      "           van tijden en\n",
      "           van tijden ende\n",
      "         allen tijden, als\n",
      "           van tijden sigh\n",
      "         allen tijden, soo\n",
      "overdenckelijcke tijden, de\n",
      "           van tijden Præside\n",
      "    voorgaende tijden van\n",
      "           van tijden ende\n",
      "           van tijden, ten\n",
      "       trouble tijden met\n",
      "      perplexe tijden 't\n",
      "       voorige tijden tot\n",
      "         allen tijden, de\n",
      "          dese tijden te\n"
     ]
    }
   ],
   "source": [
    "for hit in rep_es.keyword_in_context(\"tijden\", num_hits=20, context_size=1):\n",
    "    print(hit[\"context\"])\n"
   ]
  },
  {
   "cell_type": "code",
   "execution_count": 4,
   "id": "6bace550",
   "metadata": {},
   "outputs": [
    {
     "name": "stdout",
     "output_type": "stream",
     "text": [
      "['session-1672-01-07-num-1-resolution-1', RepublicDate(1672-01-07), None, \"Is gehoort het rapport vande Heeren Schimmelpenningh, ende andere hare Ho:Mo: Gedeputeerden tot de saken vande Zee, hebbende ingevolge ende tot voldoeninge van derselver resolutie Commissoriael vanden negenentwin„ tichsten December laestleden, gevi, siteert ende geexamineert de Requeste van David Centsen, Consul vande Nederlantsche natie tot Rochelle, versoeckende door hare Ho:Mo: met eene somme van penningen te mogen werden gesubvenieert, ten aensien vande oncosten bij hem gesupporteert in een continueel vervolgh van ontrent acht maenden, om expeditie, en het obtineren van eene resolutie op de Consulaetrechten aldaer, ende een daghgelt aen hem Suppliant als Con„ sul toe te leggen: Waerop gedelibereert sijnde, Is goetgevonden ende verstaen, mits desen te versoec„ ken de Heeren Gedeputeerden vande Provincie van Hollandt ende West,, vrieslandt, dat haer E. haer hoe eerder soo liever willen verclaren op het rapport vande gemelte Heeren Schimmel„ penningh ende andere hare Ho:Mo: Gedeputeerden den achthienden Julij laestleden gedaen, raeckende de voorschreve Consulaet rechten, mitsge„ ders het advis vande Heeren Gecommitteerden uijt de respective Collegien ter Admiraliteijt 't voor„ schreve daghgelt concernerende in de Notulen vanden thienden December laestleden breeder gementioneert.\"]\n"
     ]
    }
   ],
   "source": [
    "def json_to_csv(data):\n",
    "    return [data[field] for field in data]\n",
    "\n",
    "\n",
    "def get_resolution_text(resolution, join_char: str = ' '):\n",
    "    return join_char.join([para.text for para in resolution.paragraphs])\n",
    "\n",
    "\n",
    "def resolution_to_csv(resolution, headers):\n",
    "    row = []\n",
    "    for header in headers:\n",
    "        if header == \"text\":\n",
    "            text = get_resolution_text(resolution)\n",
    "            row.append(text)\n",
    "        elif hasattr(resolution, header):\n",
    "            row.append(getattr(resolution, header))\n",
    "        elif header in resolution.metadata:\n",
    "            row.append(resolution.metadata[header])\n",
    "        else:\n",
    "            row.append(None)\n",
    "    return row\n",
    "    \n",
    "\n",
    "for resolution in resolutions_1672:\n",
    "    res_row = resolution_to_csv(resolution, ['id', 'session_date', 'proposition_type', 'text'])\n",
    "    print(res_row)\n",
    "    break"
   ]
  },
  {
   "cell_type": "code",
   "execution_count": 4,
   "id": "df61644f",
   "metadata": {},
   "outputs": [
    {
     "name": "stdout",
     "output_type": "stream",
     "text": [
      "['id', 'session_date', 'proposition_type', 'text', 'phrase', 'match_string', 'match_context']\n",
      "\n",
      "session-1672-01-07-num-1-resolution-1 None\n",
      "session-1672-01-07-num-1-resolution-2 missive\n",
      "session-1672-01-07-num-1-resolution-3 requeste\n",
      "session-1672-01-07-num-1-resolution-4 missive\n",
      "session-1672-01-07-num-1-resolution-5 missive\n",
      "session-1672-01-07-num-1-resolution-6 missive\n",
      "session-1672-01-07-num-1-resolution-7 missive\n",
      "session-1672-01-07-num-1-resolution-8 missive\n",
      "session-1672-01-07-num-1-resolution-9 missive\n",
      "session-1672-01-07-num-1-resolution-10 None\n",
      "session-1672-01-07-num-1-resolution-11 None\n",
      "session-1672-01-12-num-1-resolution-1 missive\n",
      "session-1672-01-12-num-1-resolution-2 missive\n",
      "session-1672-01-12-num-1-resolution-3 missive\n",
      "session-1672-01-12-num-1-resolution-4 missive\n",
      "session-1672-01-12-num-1-resolution-5 None\n",
      "session-1672-01-12-num-1-resolution-6 None\n",
      "session-1672-01-12-num-1-resolution-7 missive\n",
      "session-1672-01-12-num-1-resolution-8 missive\n",
      "session-1672-01-12-num-1-resolution-9 missive\n",
      "session-1672-06-08-num-1-resolution-1 missive\n",
      "session-1672-06-08-num-1-resolution-2 missive\n",
      "session-1672-06-08-num-1-resolution-3 missive\n",
      "session-1672-06-08-num-1-resolution-4 missive\n",
      "session-1672-06-08-num-1-resolution-5 missive\n",
      "session-1672-06-08-num-1-resolution-6 missive\n",
      "['session-1672-06-08-num-1-resolution-6', '1672-06-08', 'missive', 'Ontfangen een missive van het Collegie ter Admiraliteijt tot Amsterdam, geschreven aldaer den 21e. deses, houdende advertentie, ende haer Ho:Mo: onder anderen in bedencken gevende, off bij de jegenwoordige conjuncture van tijden en saken niet soude behooren ingetrecken te werden, de extraorde belastinge van 25. ten hondert ge„ stelt op alle Eet waren van buijten incomende, ende off die voorsr Eetwaren niet souden behoren te passeren op de oude Lijste Waerop gedelibereert sijnde, Is goetgevonden, ende verstaen, dat de voors missive gestelt sal werden in handen vande Heeren van Ommeren ende andere haer Ho:Mo: Gedeputeerden tot de saecken vande Zee, om te visiteren, examineren, en daer van rapport te doen.']\n",
      "['session-1672-06-08-num-1-resolution-6', '1672-06-08', 'missive', 'Ontfangen een missive van het Collegie ter Admiraliteijt tot Amsterdam, geschreven aldaer den 21e. deses, houdende advertentie, ende haer Ho:Mo: onder anderen in bedencken gevende, off bij de jegenwoordige conjuncture van tijden en saken niet soude behooren ingetrecken te werden, de extraorde belastinge van 25. ten hondert ge„ stelt op alle Eet waren van buijten incomende, ende off die voorsr Eetwaren niet souden behoren te passeren op de oude Lijste Waerop gedelibereert sijnde, Is goetgevonden, ende verstaen, dat de voors missive gestelt sal werden in handen vande Heeren van Ommeren ende andere haer Ho:Mo: Gedeputeerden tot de saecken vande Zee, om te visiteren, examineren, en daer van rapport te doen.', 'tijden', 'tijden', 'ntie, ende haer Ho:Mo: onder anderen in bedencken gevende, off bij de jegenwoordige conjuncture van tijden en saken niet soude behooren ingetrecken te werden, de extraorde belastinge van 25. ten hondert ge„']\n",
      "session-1672-06-08-num-1-resolution-7 missive\n",
      "session-1672-06-08-num-1-resolution-8 missive\n",
      "session-1672-06-08-num-1-resolution-9 requeste\n",
      "session-1672-06-08-num-1-resolution-10 missive\n",
      "session-1672-06-08-num-1-resolution-11 missive\n",
      "session-1672-06-08-num-1-resolution-12 missive\n",
      "['session-1672-06-08-num-1-resolution-12', '1672-06-08', 'missive', \"Ontfangen een Missive vande Heeren Staten van Lande van Utrecht, ge„ schreven tot Utrecht, den 11en. deses stilo loci, houdende advertentie, ende onder anderen raeckende de constitutie van de Hoogh gemelte provincie, ende t' gunt bij de hoochgeme. heeren Staten in dese conjuncture van tijden ende saecken was geresolveert ende gedaen: Waerop gedelibereert zijnde, Is goetgevonden ende ver„ staen, dat Copie vande voorsr. missive gegeven sal werden, aen de Heeren Gedeputeerden vande Heeren Staten vande respective provincien, sulcx begeerende, ende is op den verderen inhouden vandien, geene resolutie gevallen.\"]\n",
      "['session-1672-06-08-num-1-resolution-12', '1672-06-08', 'missive', \"Ontfangen een Missive vande Heeren Staten van Lande van Utrecht, ge„ schreven tot Utrecht, den 11en. deses stilo loci, houdende advertentie, ende onder anderen raeckende de constitutie van de Hoogh gemelte provincie, ende t' gunt bij de hoochgeme. heeren Staten in dese conjuncture van tijden ende saecken was geresolveert ende gedaen: Waerop gedelibereert zijnde, Is goetgevonden ende ver„ staen, dat Copie vande voorsr. missive gegeven sal werden, aen de Heeren Gedeputeerden vande Heeren Staten vande respective provincien, sulcx begeerende, ende is op den verderen inhouden vandien, geene resolutie gevallen.\", 'tijden', 'tijden', \"an de Hoogh gemelte provincie, ende t' gunt bij de hoochgeme. heeren Staten in dese conjuncture van tijden ende saecken was geresolveert ende gedaen: Waerop gedelibereert zijnde, Is goetgevonden ende ver„ s\"]\n",
      "session-1672-06-08-num-1-resolution-13 missive\n",
      "session-1672-06-08-num-1-resolution-14 None\n",
      "session-1672-06-08-num-1-resolution-15 missive\n",
      "session-1672-06-08-num-1-resolution-16 None\n",
      "session-1672-06-08-num-1-resolution-17 missive\n",
      "session-1672-06-08-num-1-resolution-18 missive\n",
      "session-1672-06-08-num-1-resolution-19 missive\n",
      "session-1672-06-08-num-1-resolution-20 missive\n",
      "session-1672-06-08-num-1-resolution-21 None\n",
      "session-1672-06-08-num-1-resolution-22 missive\n",
      "session-1672-06-08-num-1-resolution-23 missive\n",
      "session-1672-06-08-num-1-resolution-24 missive\n",
      "session-1672-06-09-num-1-resolution-1 missive\n",
      "session-1672-06-09-num-1-resolution-2 missive\n",
      "session-1672-06-09-num-1-resolution-3 missive\n",
      "session-1672-06-09-num-1-resolution-4 missive\n",
      "session-1672-06-09-num-1-resolution-5 missive\n",
      "session-1672-06-09-num-1-resolution-6 missive\n",
      "session-1672-06-10-num-1-resolution-1 missive\n",
      "session-1672-06-10-num-1-resolution-2 missive\n",
      "session-1672-06-10-num-1-resolution-3 missive\n",
      "session-1672-06-10-num-1-resolution-4 requeste\n",
      "session-1672-06-10-num-1-resolution-5 missive\n",
      "session-1672-06-10-num-1-resolution-6 missive\n",
      "session-1672-06-10-num-1-resolution-7 missive\n",
      "['session-1672-06-10-num-1-resolution-7', '1672-06-10', 'missive', \"Ontfangen een missive vanden resident Hamel Bruijnincx, geschreven tot Weeenen den 12en. deses, houdende advertentie Waerop geen resolutie en is gevallen. Is ter Vergaderinge gelesen de requeste vande Ingesetenen van Reusel en Bladel, houdende, dat naer de publicatie vande Vreede tusschen desen Staet, ende den Coningh van Spaignen geduijrigh questie is geweest, off deselve dorpen onder de Meijerije van s' Hertogenbos, dan onder t' quartier van Antwerpen waren gehoorende, dat oock den Coningh van Spaignen inden Jare 1665. ten tijde vanden Munsterschen Oorlogh bij speciale Acte hadde verclaert de voors dorpen ende de Inwoonders van dien altijt voor sijn onderdanen te hebben gehouden, ende dat den Marquis van Castel Rodrigo, als Gou„ verneur Generael van de Spaen„ sche Nederlanden, daer van doen, maels, ende den Heere Grave van Monterij inde hoochgemelte qualiteijt als nu daer van wederom verclaringe, hebben gegeven; Ende nademael het, om d'effecten vande voors. verclaringe te mogen genieten, ende sulcx om te ontgaen de contri„ butien, die van wegen den Coningh van Vranckrijck vande voors dorpen werden gevordert, seer dien„ stigh soude wesen, dat de kercken, mede voors twees dorpen tot den Paepsen dienst geduijrende den Oorlogh tegens den hoochstgedachten Coningh van Vranckrijck mochten werden gebruijckt, dat sij derhalven versochten, dat het selve aen haer bij haer Ho:Mo: soude mogen werden toegestaen, soo nochtans, dat het selve alleen geduijrende den voorsr. Oorlogh soude geschieden, ende tot geen consequentie te werelt, getrocken werden, ende dat sij Supplten de ordinaris gemeijne lasten aenden Staet souden opbrengen; Waerop gedeli„ bereert zijnde, Is goetgevonden & verstaen, dat de voors. requeste gestelt sal werden in handen vande Hren van Brakel, ende andere haer Ho: Mo: Gedeputeerden tot de saken vande Meijereije van s' Hertogenbos, om te visiteren, examineren, en daer van rapport te doen. De Heeren Gedeputeerden vande Provincie van Gelderlandt hebben ter Vergaderinge gecommuniceert een missive vande Heeren Burger„ meesteren Schepenen ende raedt der Stadt Salt Bommel, geschreven aldaer den 14e. deses, St: loci, ge„ adresseert aen geme. Heeren Gede„ puteerden houdende advertentie vande constitutie ende gelegentheijt der voors Stadt: Waerop gedelibereert sijnde, Is goetgevonden ende verstaen, dat de voorsr missive gestelt sal werden in handen vande heeren van Brakel, ende andere haere Ho:Mo: Gedeputeer„ den tot de militaire saecken met ende nevens eenige Heeren Gecom„ mitteerden uijt den Raet van State bij haer E. selfs te nomineren om te visiteren, examineren, ende daer van rapport te doen. Nominica den 26en. Junij 1672. Den elff uijren na de predicatie. PPræside den Heer Kann, Præsentibus de Heeren van Brakel, Els, Heuckelom, Ten Hove, Ripperda tot Buirse, Schimmelpenningh, Raesfelt, Ammeren, Len extraords. Gedepden. vande provincie van Hollant en Westvrieslandt Reijgersbergh, Pieterszon, Stavenisse, met eenige extraords. Gedepden van provincie van Zeelandt. Schade, vander Hoolck, Coeverden,\"]\n",
      "['session-1672-06-10-num-1-resolution-7', '1672-06-10', 'missive', \"Ontfangen een missive vanden resident Hamel Bruijnincx, geschreven tot Weeenen den 12en. deses, houdende advertentie Waerop geen resolutie en is gevallen. Is ter Vergaderinge gelesen de requeste vande Ingesetenen van Reusel en Bladel, houdende, dat naer de publicatie vande Vreede tusschen desen Staet, ende den Coningh van Spaignen geduijrigh questie is geweest, off deselve dorpen onder de Meijerije van s' Hertogenbos, dan onder t' quartier van Antwerpen waren gehoorende, dat oock den Coningh van Spaignen inden Jare 1665. ten tijde vanden Munsterschen Oorlogh bij speciale Acte hadde verclaert de voors dorpen ende de Inwoonders van dien altijt voor sijn onderdanen te hebben gehouden, ende dat den Marquis van Castel Rodrigo, als Gou„ verneur Generael van de Spaen„ sche Nederlanden, daer van doen, maels, ende den Heere Grave van Monterij inde hoochgemelte qualiteijt als nu daer van wederom verclaringe, hebben gegeven; Ende nademael het, om d'effecten vande voors. verclaringe te mogen genieten, ende sulcx om te ontgaen de contri„ butien, die van wegen den Coningh van Vranckrijck vande voors dorpen werden gevordert, seer dien„ stigh soude wesen, dat de kercken, mede voors twees dorpen tot den Paepsen dienst geduijrende den Oorlogh tegens den hoochstgedachten Coningh van Vranckrijck mochten werden gebruijckt, dat sij derhalven versochten, dat het selve aen haer bij haer Ho:Mo: soude mogen werden toegestaen, soo nochtans, dat het selve alleen geduijrende den voorsr. Oorlogh soude geschieden, ende tot geen consequentie te werelt, getrocken werden, ende dat sij Supplten de ordinaris gemeijne lasten aenden Staet souden opbrengen; Waerop gedeli„ bereert zijnde, Is goetgevonden & verstaen, dat de voors. requeste gestelt sal werden in handen vande Hren van Brakel, ende andere haer Ho: Mo: Gedeputeerden tot de saken vande Meijereije van s' Hertogenbos, om te visiteren, examineren, en daer van rapport te doen. De Heeren Gedeputeerden vande Provincie van Gelderlandt hebben ter Vergaderinge gecommuniceert een missive vande Heeren Burger„ meesteren Schepenen ende raedt der Stadt Salt Bommel, geschreven aldaer den 14e. deses, St: loci, ge„ adresseert aen geme. Heeren Gede„ puteerden houdende advertentie vande constitutie ende gelegentheijt der voors Stadt: Waerop gedelibereert sijnde, Is goetgevonden ende verstaen, dat de voorsr missive gestelt sal werden in handen vande heeren van Brakel, ende andere haere Ho:Mo: Gedeputeer„ den tot de militaire saecken met ende nevens eenige Heeren Gecom„ mitteerden uijt den Raet van State bij haer E. selfs te nomineren om te visiteren, examineren, ende daer van rapport te doen. Nominica den 26en. Junij 1672. Den elff uijren na de predicatie. PPræside den Heer Kann, Præsentibus de Heeren van Brakel, Els, Heuckelom, Ten Hove, Ripperda tot Buirse, Schimmelpenningh, Raesfelt, Ammeren, Len extraords. Gedepden. vande provincie van Hollant en Westvrieslandt Reijgersbergh, Pieterszon, Stavenisse, met eenige extraords. Gedepden van provincie van Zeelandt. Schade, vander Hoolck, Coeverden,\", 'tijden', 'tijde', \" t' quartier van Antwerpen waren gehoorende, dat oock den Coningh van Spaignen inden Jare 1665. ten tijde vanden Munsterschen Oorlogh bij speciale Acte hadde verclaert de voors dorpen ende de Inwoonders va\"]\n",
      "session-1672-06-10-num-1-resolution-8 missive\n",
      "session-1672-06-10-num-1-resolution-9 missive\n",
      "session-1672-06-10-num-1-resolution-10 missive\n",
      "session-1672-06-10-num-1-resolution-11 missive\n",
      "session-1672-06-11-num-1-resolution-1 requeste\n",
      "['session-1672-06-11-num-1-resolution-1', '1672-06-11', 'requeste', \"Is ter Vergaderinge gelesen de requeste van Balthasar van geersbergen, Secretaris van Derssel, Wessen & Beersen alle inde Meijerije van s' Hertogenbos, houdende dat hij Supplt in dese beswaerlicke conjuncture van tijden ende saken hadde moeten vluchten uijt het dorp van Eerssel voornt. ende hem begeven tot ‛s Hertogenbos, & ten aensien hij de voors sijne bedie, ninge niet conde waernemen, als Lieutenant dienst te nemen onder de Compagnie vanden Capiteijn Engelb: Tiras, ende alsoo hij Supplt. doenmaels niet heeft geweeten van haer Ho:Mo: resolutie vanden 29en. Martij lestleden verclarende de voorsr bedieningen met den anderen niet compatibel te sijn, ende dat den voor Tiras hem vanden voorsr. dienst niet en wil ontslaen, dat hij derhalven versochte, dat haer Ho:Mo: gelieven aenden voorne Supplt. tottestaen, dat hij dese Somer de voorsr. Lieutenants plaets soude mogen bedienen, mits dat hij een bequaem substituijt in sijn plaets soude mogen setten: Waerop gedelibereert zijnde, Is goetgevonden ende verstaen, te persisteren bij haer Ho:Mo: resolutien vanden 25en. Maij lestleden ende vanden 17e. deses, ende dat mits dien int voors versoeck niet en can werden getreden.\"]\n",
      "['session-1672-06-11-num-1-resolution-1', '1672-06-11', 'requeste', \"Is ter Vergaderinge gelesen de requeste van Balthasar van geersbergen, Secretaris van Derssel, Wessen & Beersen alle inde Meijerije van s' Hertogenbos, houdende dat hij Supplt in dese beswaerlicke conjuncture van tijden ende saken hadde moeten vluchten uijt het dorp van Eerssel voornt. ende hem begeven tot ‛s Hertogenbos, & ten aensien hij de voors sijne bedie, ninge niet conde waernemen, als Lieutenant dienst te nemen onder de Compagnie vanden Capiteijn Engelb: Tiras, ende alsoo hij Supplt. doenmaels niet heeft geweeten van haer Ho:Mo: resolutie vanden 29en. Martij lestleden verclarende de voorsr bedieningen met den anderen niet compatibel te sijn, ende dat den voor Tiras hem vanden voorsr. dienst niet en wil ontslaen, dat hij derhalven versochte, dat haer Ho:Mo: gelieven aenden voorne Supplt. tottestaen, dat hij dese Somer de voorsr. Lieutenants plaets soude mogen bedienen, mits dat hij een bequaem substituijt in sijn plaets soude mogen setten: Waerop gedelibereert zijnde, Is goetgevonden ende verstaen, te persisteren bij haer Ho:Mo: resolutien vanden 25en. Maij lestleden ende vanden 17e. deses, ende dat mits dien int voors versoeck niet en can werden getreden.\", 'tijden', 'tijden', \"lle inde Meijerije van s' Hertogenbos, houdende dat hij Supplt in dese beswaerlicke conjuncture van tijden ende saken hadde moeten vluchten uijt het dorp van Eerssel voornt. ende hem begeven tot ‛s Hertogen\"]\n",
      "session-1672-06-11-num-1-resolution-2 missive\n",
      "session-1672-06-11-num-1-resolution-3 missive\n",
      "session-1672-06-11-num-1-resolution-4 missive\n",
      "session-1672-06-11-num-1-resolution-5 missive\n",
      "session-1672-06-11-num-1-resolution-6 missive\n",
      "session-1672-06-11-num-1-resolution-7 missive\n",
      "session-1672-06-11-num-1-resolution-8 None\n",
      "session-1672-06-11-num-1-resolution-9 None\n",
      "session-1672-06-11-num-1-resolution-10 None\n",
      "session-1672-06-14-num-1-resolution-1 requeste\n",
      "session-1672-06-14-num-1-resolution-2 None\n",
      "session-1672-06-14-num-1-resolution-3 requeste\n",
      "['session-1672-06-14-num-1-resolution-3', '1672-06-14', 'requeste', \"Is ter Vergaderinge gelesen de reqte van Boulliu, Burgemeesteren ende Schepenen der Stede ende Ambachte van Neuse, houdende dat de voorsr Stadt en Ambachte in Capitael op interesse, tegens vijff ten hondert loopende, Schuldigh is de somme van boven de twee duijsent ponden Vlaems, ende daer onder hondert ponden Vlaems aen Pieter de Bijff, dat niettegen„ staende de renten van het voors Capitael Jaerlicx precis ten vervaldage werden betaelt, de voorn de Bijff, haer Supplten hadde doen dachvaerden voor den Raet van Vlaenderen, om voldoeningh van het voorsr. Capitael, ende alsoo de Supplten t' selve onno„ gelijck was, dat zij derhalven ver„ sochten dat haer Ho:Mo: souden be„ lieven die voorsieninge te doen, dat de Supplten bij dese conjuncture van tijden ende saecken souden mogen sijn geexcuseert van het voorsr. Capitael op te brengen, soo nochtans, dat de Supplten de renten vandien gehouden blijven precise ten vervoldage te be„ talen: Waerop gedelibereert zijnde, Is goetgevonden, ende ver„ staen, dat de voorsr. requeste gestelt sal werden in handen vande heeren van Raesfelt, ende andere hare Ho:Mo: Gedeputeerden tot de saecken van Vlaenderen, om te visiteren, examineren, ende daer van rapport te doen.\"]\n",
      "['session-1672-06-14-num-1-resolution-3', '1672-06-14', 'requeste', \"Is ter Vergaderinge gelesen de reqte van Boulliu, Burgemeesteren ende Schepenen der Stede ende Ambachte van Neuse, houdende dat de voorsr Stadt en Ambachte in Capitael op interesse, tegens vijff ten hondert loopende, Schuldigh is de somme van boven de twee duijsent ponden Vlaems, ende daer onder hondert ponden Vlaems aen Pieter de Bijff, dat niettegen„ staende de renten van het voors Capitael Jaerlicx precis ten vervaldage werden betaelt, de voorn de Bijff, haer Supplten hadde doen dachvaerden voor den Raet van Vlaenderen, om voldoeningh van het voorsr. Capitael, ende alsoo de Supplten t' selve onno„ gelijck was, dat zij derhalven ver„ sochten dat haer Ho:Mo: souden be„ lieven die voorsieninge te doen, dat de Supplten bij dese conjuncture van tijden ende saecken souden mogen sijn geexcuseert van het voorsr. Capitael op te brengen, soo nochtans, dat de Supplten de renten vandien gehouden blijven precise ten vervoldage te be„ talen: Waerop gedelibereert zijnde, Is goetgevonden, ende ver„ staen, dat de voorsr. requeste gestelt sal werden in handen vande heeren van Raesfelt, ende andere hare Ho:Mo: Gedeputeerden tot de saecken van Vlaenderen, om te visiteren, examineren, ende daer van rapport te doen.\", 'tijden', 'tijden', 'at haer Ho:Mo: souden be„ lieven die voorsieninge te doen, dat de Supplten bij dese conjuncture van tijden ende saecken souden mogen sijn geexcuseert van het voorsr. Capitael op te brengen, soo nochtans, da']\n",
      "session-1672-06-14-num-1-resolution-4 requeste\n",
      "session-1672-06-14-num-1-resolution-5 None\n",
      "session-1672-06-14-num-1-resolution-6 missive\n",
      "session-1672-06-14-num-1-resolution-7 missive\n",
      "session-1672-06-14-num-1-resolution-8 missive\n",
      "session-1672-06-14-num-1-resolution-9 requeste\n",
      "session-1672-06-14-num-1-resolution-10 missive\n",
      "session-1672-06-14-num-1-resolution-11 requeste\n",
      "session-1672-06-15-num-1-resolution-1 requeste\n",
      "session-1672-06-15-num-1-resolution-2 missive\n",
      "session-1672-06-15-num-1-resolution-3 missive\n",
      "session-1672-06-15-num-1-resolution-4 missive\n",
      "session-1672-06-15-num-1-resolution-5 missive\n",
      "session-1672-06-15-num-1-resolution-6 missive\n",
      "session-1672-06-15-num-1-resolution-7 None\n",
      "session-1672-06-15-num-1-resolution-8 missive\n",
      "session-1672-06-15-num-1-resolution-9 missive\n",
      "session-1672-06-16-num-1-resolution-1 None\n",
      "session-1672-06-16-num-1-resolution-2 missive\n",
      "session-1672-06-16-num-1-resolution-3 missive\n",
      "session-1672-06-16-num-1-resolution-4 missive\n",
      "session-1672-06-16-num-1-resolution-5 missive\n",
      "session-1672-06-16-num-1-resolution-6 None\n",
      "session-1672-06-16-num-1-resolution-7 None\n",
      "session-1672-06-16-num-1-resolution-8 None\n",
      "['session-1672-06-16-num-1-resolution-8', '1672-06-16', '', \"Is gehoort het rapport vande heeren van Brakel, ende andere hare Ho:Mo: gedeputeerden tot de militaire saken, hebbende ingevolge ende tot voldoeninge van derselver resolutie Commissoriael vanden 26en. deses, gevisiteert ende — geexamineert de requeste vande Ingesetenen van Rousel, ende Bladel, houdende dat naer de publicatie vande Vreede tusschen desen Staet, ende den Coninck van Spaigne geduijrigh questie is geweest, off deselve dorpen onder de Meijerije van s' Hertogenbosch dan ondertquartier van Antwerpen waren ge„ hoorende, dat oock den Coninck van Spaignes inden Jare 1665. ten tijde vanden Munsterschen Oorlogh bij speciale acte hadde verclaert de voors dorpen, ende de Inwai„ ders vandien altijt voor sijn onder„ danen te hebben gehouden, ende dat den Marquis van Castel Rodrigo, als Gouverneur Generael vande Spaensche Nederlanden, daer van doenmaels, ende den heere Grave van Montereij inde hoochgemelte qualiteijt alsnu daer van wederom verclaringe hebben gegeven, E nademael het om d'effecten vande voors. verclaringe te mogen ge„ nieten, ende sulcx om te ontgaen, de contributien die van wegens den Coninck van Vranckrijck vande voors dorpen werden gevordert, seer dienstigh soude wesen, dat dekercken inde voorsr twee dorpen tot den paepschen dienst geduijrende den Oorlogh tegens den hoochstged: Coninck van Vranckrijck mochten werden gebruijckt, dat sij derhalven versochten dat het selve aen haer bij haer Ho:Mo: soude mogen werden toegestaen, soo nochtans dat het selve alleen geduijrende den voorsr Oorlogh soude geschieden, ende tot geen consie„ quentie ter werelt getrocken werden, Ende dat sij Supplianten de ordinaris gemeijne lasten aenden Staet souden opbrengen: Waerop gedelibereert sijnde, Is goetgevonden ende verstaen, dat in het voors versoeck, niet en can werden getreden.\"]\n",
      "['session-1672-06-16-num-1-resolution-8', '1672-06-16', '', \"Is gehoort het rapport vande heeren van Brakel, ende andere hare Ho:Mo: gedeputeerden tot de militaire saken, hebbende ingevolge ende tot voldoeninge van derselver resolutie Commissoriael vanden 26en. deses, gevisiteert ende — geexamineert de requeste vande Ingesetenen van Rousel, ende Bladel, houdende dat naer de publicatie vande Vreede tusschen desen Staet, ende den Coninck van Spaigne geduijrigh questie is geweest, off deselve dorpen onder de Meijerije van s' Hertogenbosch dan ondertquartier van Antwerpen waren ge„ hoorende, dat oock den Coninck van Spaignes inden Jare 1665. ten tijde vanden Munsterschen Oorlogh bij speciale acte hadde verclaert de voors dorpen, ende de Inwai„ ders vandien altijt voor sijn onder„ danen te hebben gehouden, ende dat den Marquis van Castel Rodrigo, als Gouverneur Generael vande Spaensche Nederlanden, daer van doenmaels, ende den heere Grave van Montereij inde hoochgemelte qualiteijt alsnu daer van wederom verclaringe hebben gegeven, E nademael het om d'effecten vande voors. verclaringe te mogen ge„ nieten, ende sulcx om te ontgaen, de contributien die van wegens den Coninck van Vranckrijck vande voors dorpen werden gevordert, seer dienstigh soude wesen, dat dekercken inde voorsr twee dorpen tot den paepschen dienst geduijrende den Oorlogh tegens den hoochstged: Coninck van Vranckrijck mochten werden gebruijckt, dat sij derhalven versochten dat het selve aen haer bij haer Ho:Mo: soude mogen werden toegestaen, soo nochtans dat het selve alleen geduijrende den voorsr Oorlogh soude geschieden, ende tot geen consie„ quentie ter werelt getrocken werden, Ende dat sij Supplianten de ordinaris gemeijne lasten aenden Staet souden opbrengen: Waerop gedelibereert sijnde, Is goetgevonden ende verstaen, dat in het voors versoeck, niet en can werden getreden.\", 'tijden', 'tijde', 'rtquartier van Antwerpen waren ge„ hoorende, dat oock den Coninck van Spaignes inden Jare 1665. ten tijde vanden Munsterschen Oorlogh bij speciale acte hadde verclaert de voors dorpen, ende de Inwai„ ders ']\n",
      "session-1672-06-16-num-1-resolution-9 None\n",
      "session-1672-05-12-num-1-resolution-1 missive\n",
      "session-1672-05-13-num-1-resolution-1 requeste\n",
      "session-1672-05-13-num-1-resolution-2 missive\n"
     ]
    },
    {
     "name": "stdout",
     "output_type": "stream",
     "text": [
      "session-1672-05-13-num-1-resolution-3 missive\n",
      "session-1672-05-13-num-1-resolution-4 missive\n",
      "session-1672-05-13-num-1-resolution-5 missive\n",
      "session-1672-05-13-num-1-resolution-6 missive\n",
      "['session-1672-05-13-num-1-resolution-6', '1672-05-13', 'missive', \"Ontfangen een Missive vanden Heere Grave van Dhona, geschreven tot Lurich den derden deses, houdende advertentie: Waerop geen resolutie en is gevallen. De Heeren Gedeputeerden vande Pro„ vincie van Vrieslandt hebben ten Vergaderinge geopent de provinciale resolutien vande Heeren Staten vande hoochgemelte Provincie, tot bevorde, ringe vande gemeijne saecke ge,, nomen, hier naer van woorde te woorde geinsereert: Waerop geen resolutie en is gevallen. Oopia Gehoort de propositie vande heeren haer Ho:Mo: Gedeputeerden den drijentwintichsten deses in volle Vergaderinge gedaen, hebben haer Ed:Mo: opt eerste poinct, raec„ kende het werven ende aenstellen van derselver quote in de thien duijsent Waertgelders, goetgevonden te inhereren haer voorigh consent ende verclaringe bij 's Lants resolutie vanden dertichsten Martij jonghstleden vermelt, met last aende Heeren Gedeputeerden aldaer, soodanige goede voorsieninge te doen, ten eijnde het contingent van dese Provincie in de voors Waertgelders metten eersten gelicht ende opde been gebracht werde, opde voet in de voorige Oorlogen met Spaignen gepracti„ seert. Ende omme meer ende meer tegens de gedreijchde invasien gesecureert ende verseeckert te wesen, vinden haer Ed:Mo: mede dienstigh, welgemelte hare Gedeputeerden guarder te lasten bij ende omtrent het stellen vande noodige ordres tot het lichten van voorschreve Waertgelders, nieuwe aenschrijvinge alomme aende Officieren ende Magistraten, soo ten platten Lande, als in de Steden te doen, met bevel, dat een ijder derselver, de Ingesetenen van sijn bedrieve, spoedich onder de Wapenen sal hebben te brengen, ende deselve daerinne van tijt tot tijt exerceren ende bequaem maecken, omme, des noot, met vrucht geemploijeert te connen werden. En wat de nadere wer„ vinge belanght, gelijck deselve bij dese pressante noot ten hoochsten dienstich ende nootsaec„ kelick is, Soo sullen haer Ed: Mo: haer dien te neffens mede naer haer uijtterste macht ende vermogen trachten te acquiteren. Edoch alsoo de Petitie daeraff er lange staet geformeert ende overgesonden te worden, Is goetge„ vonden ende verstaen, deselve, voor ende aleer tot de effective wer„ vinge te treden, nader aff te wachten, ten eijnde sulcx gesien ende geexamineert, wijders daerop gedisponeert mach worden naer behooren. Oock patten ende begrijpen haer Ed:Mo: seer wel„ hoe veel den Staet althans aende goede intelligentie ende vrunt schap niet andere Princen ende potentaten gelegen is, mitsga„ ders dat een goede armee nietten eersten te Velde gebracht, ende sonderhouden werde ende dat tot bevorderinge ende conservatie van 't een ende ‛t ander notable gelt sommen worden vereijscht ende sullen derhalven niet ledichstaen haer ten uijttersten te evertreren, ten eijnde hare de„ fecten in de gedragene consenten ten spoedichsten werden gesuijvert, om het welcke met eenige speciale applicatie ende nadruck ten volsten te betuijgen, Is goetge,, vonden ende verstaen, de vier hondert duijsent le bij resolutie vanden achtentwintichsten februarij laestleden op de Doopsgesinde alhier geleijt, ende in corten te berde gebracht staende te worden te affecteren, tot bevorderinge van haer Ed:Mo: contingent in de bewuste seven millioenen ende Legerlasten, Ende sullen de Heeren Gedeputeerden alhier goede sorge hebben te dragen, ten eijnde voorschreve penningen sooras doenlick overgemaeckt ende tot geen anderen fine als vooren verhaelt, werden gediver„ teert. Aldus geresolveert opt Landt schaps huijs den sevenentwintichsten April 1672. verteeckent voor Oostergoo V. Boelens, Isbrandt, offes voor Westergoo, Oene van Grovestins, S: A: Brunia, voor de Levenwolden. J. Andringa, G. W. V. Jonges zal, voor de Steden, Hr. Schotanus a Starringa, Sijds Michiels Schagen, Accordeert met de principale resolutie deses, in kennisse van nij, geteeckent, H. Schepper. Copia De Staten van Vrieslandt gelesen ende geexamineert hebbende de missive vande Heeren haer Ho:Mo: Gedeputeerden ende Ge,, volmachtichden te Velde, geschreven tot Doesburch den 21e. aprel 1672. Maij houdende onder anderen clachten over de slechte toestant van ‛s Lants militie, ende daerinne willende voorsien hebben goetgevonden hoochgemelte Heeren Gedepu„ teerden ende Gevolmachtichden te Velde, seriemelick te recom„ manderen ende versoecken, soodanige prompte ordre te willen stellen, ende die voorsieninge doen, ten eijnde de frauden ende misusen die bij eenige Officieren ontrent het completeren van heere onderhebbende Compagnien bevonden worden ge,, committeert te sijn, met den eers ten mogen werden gerepareert, met authorisatie op de Heeren Gede, puteerden voornoemt, om bij mancque, ment ende ontstentenisse van behoorlick redres ende suppletie der voorige fanten ende defecten de quade ende onvillige Offi„ cieren te mogen in boeten slaen, suspenderen ende casseren, naer gelegentheijt ende bevindinge van saecken. Aldus geresolveert opt Lantschaps huijs den sevenentwintichsten April 1672. verteeckent voor Oostergoo, V: Boelens, Isbrandt Offes, voor Westergoo D. thol Grovestins, S. H. Brunia, voor de Levenwolden, St. Adringa, G. W. V. Jongestat, voor de Steden, Intie Piers Buwema, Ippe, Getties, Accordeert met de principale resolutie deses, in kennisse van mij, geteeckent J: D. Schepper. Copu In nadere deliberatie geleijt sijnde, off de militie tot het emploij te Velde gedestineert, niet indistinctelick behoorde gelaten te worden aende dispositie vande Heeren haer Ho: Mo: Gedeputeerden ende Gevolmach„ tichden te Velde, sonder dat daertegens eenige contrarie directie werde gebruijckt, off de militie op de repar„ titie van dese provincie staende eenichsints daer van gediverteert, ende daerop gehoort ende geexami„ neert de redenen de consideratien bij de Heeren haer Ho:Mo: Gede,, puteerden alhier ter Vergaderinge gerepresenteert, hebben haer Ed: Mo: goetgevonden te verclaren, dat sij bij gevolgh vande andere Bondtgenoten mede voor goet sullen aensien, dat bij ende geduijrende de aenstaende expeditien te Velde, de dispositie over voorschreve militie werde gelaten aende Heeren haer Ho:Mo: Gedeputeerden ende Gevolmachtichden voornoemt, Des dat dan oock met een goede sorge voor de verseeckeringe van dese Provincie, ende voorsieninge van desselffs frontieren werde ge,, dragen, mitsgaders een Brugge ontrent de Roterschans geleijt ten eijnde de secourssen bij noot ende onverhoopten overvall daer over met des te meer faciliteijt ende gemack herwaerts aen mogen werden gevoert. Aldus geresolveert opt Landt schaps huijs den sevenentwintichsten april 1672. verteeckent voor Oostergoo, C. V. Boelens, Isbrant Offes, voor Westergoo, Duco Martna van Burmania, S: Gosinga, voor de Levenwolden. — voor de Steden, H: Gosinga, Pr: Heemstra, Onderstrott Accordeert met de principale resolutie deses, in kennisse van mij, geteeckent 1. Pr. Schepper. Copia Onder andere propositien ende voor„ slagen van nieuwe ende prompte gelt middelen, noodich tot verval vande meest krijtende lasten op het Capijt gebracht sijnde, het middel van een capitale eeninge en verschot van penningen, bij de gequalificeerste Ingesetenen aenden Lande te doen. Is naer deliberatie goetgevonden te arreste„ ren, gelijck gearresteert wort bij desen, dat de jonghst gemaeckte Quohieren vanden hondertsten penningh nader sullen werden geex„ ammineert, ende de persoonen die aldaer hoochstgebracht, ende het meeste bemiddelt gehouden werden, in vier onderscheijdene Classen verdeelt, Sullende de hondert vande eerste ende hoochste Classe aende Provincie op interessen tegens vijff ten hondert hebben te ver„ schieten ijder een Capitael van een duijsent te de twee hondert daeraenvolgende vande tweedevangh, ijder de somme van ses hondert is de vier hondert daer aenvolgende vande derde ordre ijder drie hondert te, ende de vier hondert vande laetste Classe ijder twee hondert pont te ver„ schieten voor den eersten Junij aen„ staende voor de eene helft, ende Martuij daeraenvolgende voor de tweede helfte welver„ staende nochtans, dat onder de vierde ende laetste Classe niemant onder de thien duijsent Is aen Capi„ tael begoedicht, werde betrocken waeraff, opdat een ijgelick die 't aen„ gaen mach, in tijts mach werden geinformeert, Soo worden de Heeren Gedeputeerden mits desen gelast, in tijts behoorlicke notificatie ende publicatie alomme te doen ende soodanige vordere ordre tie stellen, ten eijnde dese haer Ed:Mo: goede meeninge wel ende naer be„ hooren geexecuteert ende naegecomen werden. Aldus geresolveert opt Landtschaps huijs den sevenentwintichsten April 1672. geteeckent voor Oostergoo, V. Boelens, Isbrant Offes, voor Westergoo, Veco Martna van Burmania, R. Haarsma, voor de Zevenwolden, T.cinoringa, G: W:V: Jonges sal, voor de Steden, Matten Janssen van Steenwijck, St. Tjet ses Forrijsma, Accordeert met de principale resolutie, in kennisse van , gelesen 's Lants premier Clerij absente Secretaris, geteeckent H Coptadi. Pieckrach Bij resumptie gedelibereert sijnde op de fauxatie, ende impolitie bij resolutie vanden negenentwintichsten februarij laestleden alhier op de consumptie. vant Sout, gelecht ende geleth, dat in de Classen ende verdeelingen aldaer gemaeckt wel eenige nadere alte„ ratie tot verbeteringe van ‛s Lants middelen soude connen ende behooren aengestelt te worden hebben haer Ho:Mo: goetgevonden ende verstaen, te arresteren, sulcx doende mits desen, dat in plaetse vande voorige voet ende ordre deselve tanxatie voortaen sal werden geheven ende gecollecteert in voegen ende manieren navolgende, dat ijder huijsgesin off hooft vande familie onder de drie hondert 16. begoedicht, sal geven int Jaer twee Car guldens, van drie hondert tot twaelff hondert te vier guldens van twaelff hondert tot twee duijsent Ises guldens, van twee duijsent tot ses duijsent le acht guldens van ses duijsent tot twaelff duijsent L twaelff guldens, van twaelff duijsent tot twintich duijsent te sesthien gulden, van twintich duijsent tot dertich duijsent te twin„ tich guldens, van dertich duijsent tot vijfftigh duijsent Sachtentwin„ tich guldens, van vijfftich duijsent tot vijffent seventich duijsent t vierendertich guldens, van vijffsent seventich duijsent tot hondert duijsent te veertich guldens, ende die boven de hondert duijsent besitten, veertich guldens, ende sal van voorschreve tauxatie ende impost niemant vrij sijn, als alleen het Hoff vanden Heere Staetholder, de Gecononne tot francker, het Landtschaps Tucht ende Werckhuijs, Oasthuijsen, Weeshuijsen, ende voorts andere huijsen, door publijcque voochen bedient wordende, mitsgaders de gealimenteerde persoonen ende Soldaten, tot Corporaels incluijs sonder wijders, met last aende Heeren Gedeputeerde goede sorge te dragen, ten eijnde de gerechte vierdepart vande voorschreve penmogen op eerste Maij, Augusti„ November ende februarij aenstaende respectivelick werden geint ende betaelt. Aldus geresolveert opt Landtschaps huijs den sevenentwintichsten April 1672. geteeckent voor Oostergoo, V. Boelens, Isbrant, Offes, voor Westerges, Duco Martna van Burmania, . R. Aaursmu, voor de Levenwolden, St. Andringa, G: W:Vr. Jongestal, voor de Steden, Regnerus, Bruijnsmi, Lijck le, Reters d'Olde Accordeert met de principale resolutie, in kennisse van mij, geteeckent. J.D. Schepper. Copia. D.De Staten van Vrieslandt geconfereert hebbende de Staet van ‛s Lants Comptoiren met de excessive lasten, die de Provincie bij dese perplexe tijden onvermijdelick heeft te hoeden, en geconsidereert, dat tot stuijr vande gemeene saecke noot„ saeckelick eenige prompte en importante middelen geheven dienen te worden, hebben nae rijpe ex„ ammatie van saecken, goetge„ vonden voor eerst te introduceren de contributie vanden hondertsten penningh van alle de middelen, die deser Provincie Ingesetenen in bonis mogen hebben, welverstaende, dat van Goederen in de Provincie ge,, legen, ende uijtheemsche Eijgenaers toebehoorende, ofte in questie han,, gende, mede naer behoorlicke propor„ tie bij den provisionelen eijgenaer ofte bruijcker werde betaelt, het welcke, omme op de beste wijse te vernemen, verstaen haer Ed Mo: t‛eenemael dienstigh en nootsaec„ kelick te wesen, dat nadere calcu„ latie van hooffden ende middelen werde gemaeckt, in diervoegen, dat deselve in de Grietenien door de respective Grietsluijden geal„ ssisteert met Gecommitteerde uijt de Steden ende vree versa inde Steden door de Magistraten aldaer, met overroepinge vande Griets,, luijden, alle bevooren daertoe specialick beeedicht werden gemaect, sonder dat de eene off andere wegens vacatien off oncosten ijetwes d sal mogen pretenderen; In aen„ gesien de Provincie met de pen„ ningen uijt dit middel verwacht werdende metten eersten dient geassisteert te worden, Soo vinden haer Ed:Mo: dienstigh, dat voor„ schreve nadere calcullatie van hooffden, ende middelen noch voor den aenstaenden ordinaris Lants, dagh werde geperfecteert, ten eijnde de Heeren Volmachten alsdan gelegentheijt mogen hebben om hare gedachten ende delibera, tien nader daer over te laten gaen, ende de Ingesetenen tijt ende occasie werde gegeven om hare penningen tegens de behoorlicke termijnen van beta„ linge, te weeten van princ Martij aenstaende voor de eene helfte ende op St. Jacobij daer aenvolgende voor de andere helft gereet te maecken, met last aende Ontfangers ende rent, meesters der Grietenien, ende Steden voorschreve penningen op de respective verschijndagen te innen, ende ten Comptaire vanden Ont„ fanger Ockinga te bestellen sonder ijetwes ter saecke dies te declareren off te trecken en ten eijnde dese haer Ed:Mo: welmeijninge promptelick ende effectivelick gepareert ende naegecomen werde. Soo werden de Heeren Gedeputeerden mits desen gelast de noodige depesches daertoe metten eersten en sonder de minste versuijminge van tijt te laten affgaen, ende voorts goede voorsorge te dragen dat geene de minste inbrencke daerjegens bij ijemant, iie 't oock zij, worde gedaen, alsoo st haer Ed: Mo: ernstige wille ende intentie is, dat dese hare resolutie in voegen verhaelt, alomme eenparichlick werde geexecuteert ende naergecomen. Aldus geresolveert opt Landtschaps huijs den derthienden Januarij 1672. verteeckent voor Oostergoo van Loo, H. de Schepper, voor Woestergoo, C. thol Grovestins, 8. H. Josinga, voor de Zevenwolden, G: W. V. Songestal ..... voor de Steden. S: Oppinga, Drucs Gellij. accordeert met de principale resolutie deses, in kennisse van mij, geteeckent, G Schepper.\"]\n",
      "['session-1672-05-13-num-1-resolution-6', '1672-05-13', 'missive', \"Ontfangen een Missive vanden Heere Grave van Dhona, geschreven tot Lurich den derden deses, houdende advertentie: Waerop geen resolutie en is gevallen. De Heeren Gedeputeerden vande Pro„ vincie van Vrieslandt hebben ten Vergaderinge geopent de provinciale resolutien vande Heeren Staten vande hoochgemelte Provincie, tot bevorde, ringe vande gemeijne saecke ge,, nomen, hier naer van woorde te woorde geinsereert: Waerop geen resolutie en is gevallen. Oopia Gehoort de propositie vande heeren haer Ho:Mo: Gedeputeerden den drijentwintichsten deses in volle Vergaderinge gedaen, hebben haer Ed:Mo: opt eerste poinct, raec„ kende het werven ende aenstellen van derselver quote in de thien duijsent Waertgelders, goetgevonden te inhereren haer voorigh consent ende verclaringe bij 's Lants resolutie vanden dertichsten Martij jonghstleden vermelt, met last aende Heeren Gedeputeerden aldaer, soodanige goede voorsieninge te doen, ten eijnde het contingent van dese Provincie in de voors Waertgelders metten eersten gelicht ende opde been gebracht werde, opde voet in de voorige Oorlogen met Spaignen gepracti„ seert. Ende omme meer ende meer tegens de gedreijchde invasien gesecureert ende verseeckert te wesen, vinden haer Ed:Mo: mede dienstigh, welgemelte hare Gedeputeerden guarder te lasten bij ende omtrent het stellen vande noodige ordres tot het lichten van voorschreve Waertgelders, nieuwe aenschrijvinge alomme aende Officieren ende Magistraten, soo ten platten Lande, als in de Steden te doen, met bevel, dat een ijder derselver, de Ingesetenen van sijn bedrieve, spoedich onder de Wapenen sal hebben te brengen, ende deselve daerinne van tijt tot tijt exerceren ende bequaem maecken, omme, des noot, met vrucht geemploijeert te connen werden. En wat de nadere wer„ vinge belanght, gelijck deselve bij dese pressante noot ten hoochsten dienstich ende nootsaec„ kelick is, Soo sullen haer Ed: Mo: haer dien te neffens mede naer haer uijtterste macht ende vermogen trachten te acquiteren. Edoch alsoo de Petitie daeraff er lange staet geformeert ende overgesonden te worden, Is goetge„ vonden ende verstaen, deselve, voor ende aleer tot de effective wer„ vinge te treden, nader aff te wachten, ten eijnde sulcx gesien ende geexamineert, wijders daerop gedisponeert mach worden naer behooren. Oock patten ende begrijpen haer Ed:Mo: seer wel„ hoe veel den Staet althans aende goede intelligentie ende vrunt schap niet andere Princen ende potentaten gelegen is, mitsga„ ders dat een goede armee nietten eersten te Velde gebracht, ende sonderhouden werde ende dat tot bevorderinge ende conservatie van 't een ende ‛t ander notable gelt sommen worden vereijscht ende sullen derhalven niet ledichstaen haer ten uijttersten te evertreren, ten eijnde hare de„ fecten in de gedragene consenten ten spoedichsten werden gesuijvert, om het welcke met eenige speciale applicatie ende nadruck ten volsten te betuijgen, Is goetge,, vonden ende verstaen, de vier hondert duijsent le bij resolutie vanden achtentwintichsten februarij laestleden op de Doopsgesinde alhier geleijt, ende in corten te berde gebracht staende te worden te affecteren, tot bevorderinge van haer Ed:Mo: contingent in de bewuste seven millioenen ende Legerlasten, Ende sullen de Heeren Gedeputeerden alhier goede sorge hebben te dragen, ten eijnde voorschreve penningen sooras doenlick overgemaeckt ende tot geen anderen fine als vooren verhaelt, werden gediver„ teert. Aldus geresolveert opt Landt schaps huijs den sevenentwintichsten April 1672. verteeckent voor Oostergoo V. Boelens, Isbrandt, offes voor Westergoo, Oene van Grovestins, S: A: Brunia, voor de Levenwolden. J. Andringa, G. W. V. Jonges zal, voor de Steden, Hr. Schotanus a Starringa, Sijds Michiels Schagen, Accordeert met de principale resolutie deses, in kennisse van nij, geteeckent, H. Schepper. Copia De Staten van Vrieslandt gelesen ende geexamineert hebbende de missive vande Heeren haer Ho:Mo: Gedeputeerden ende Ge,, volmachtichden te Velde, geschreven tot Doesburch den 21e. aprel 1672. Maij houdende onder anderen clachten over de slechte toestant van ‛s Lants militie, ende daerinne willende voorsien hebben goetgevonden hoochgemelte Heeren Gedepu„ teerden ende Gevolmachtichden te Velde, seriemelick te recom„ manderen ende versoecken, soodanige prompte ordre te willen stellen, ende die voorsieninge doen, ten eijnde de frauden ende misusen die bij eenige Officieren ontrent het completeren van heere onderhebbende Compagnien bevonden worden ge,, committeert te sijn, met den eers ten mogen werden gerepareert, met authorisatie op de Heeren Gede, puteerden voornoemt, om bij mancque, ment ende ontstentenisse van behoorlick redres ende suppletie der voorige fanten ende defecten de quade ende onvillige Offi„ cieren te mogen in boeten slaen, suspenderen ende casseren, naer gelegentheijt ende bevindinge van saecken. Aldus geresolveert opt Lantschaps huijs den sevenentwintichsten April 1672. verteeckent voor Oostergoo, V: Boelens, Isbrandt Offes, voor Westergoo D. thol Grovestins, S. H. Brunia, voor de Levenwolden, St. Adringa, G. W. V. Jongestat, voor de Steden, Intie Piers Buwema, Ippe, Getties, Accordeert met de principale resolutie deses, in kennisse van mij, geteeckent J: D. Schepper. Copu In nadere deliberatie geleijt sijnde, off de militie tot het emploij te Velde gedestineert, niet indistinctelick behoorde gelaten te worden aende dispositie vande Heeren haer Ho: Mo: Gedeputeerden ende Gevolmach„ tichden te Velde, sonder dat daertegens eenige contrarie directie werde gebruijckt, off de militie op de repar„ titie van dese provincie staende eenichsints daer van gediverteert, ende daerop gehoort ende geexami„ neert de redenen de consideratien bij de Heeren haer Ho:Mo: Gede,, puteerden alhier ter Vergaderinge gerepresenteert, hebben haer Ed: Mo: goetgevonden te verclaren, dat sij bij gevolgh vande andere Bondtgenoten mede voor goet sullen aensien, dat bij ende geduijrende de aenstaende expeditien te Velde, de dispositie over voorschreve militie werde gelaten aende Heeren haer Ho:Mo: Gedeputeerden ende Gevolmachtichden voornoemt, Des dat dan oock met een goede sorge voor de verseeckeringe van dese Provincie, ende voorsieninge van desselffs frontieren werde ge,, dragen, mitsgaders een Brugge ontrent de Roterschans geleijt ten eijnde de secourssen bij noot ende onverhoopten overvall daer over met des te meer faciliteijt ende gemack herwaerts aen mogen werden gevoert. Aldus geresolveert opt Landt schaps huijs den sevenentwintichsten april 1672. verteeckent voor Oostergoo, C. V. Boelens, Isbrant Offes, voor Westergoo, Duco Martna van Burmania, S: Gosinga, voor de Levenwolden. — voor de Steden, H: Gosinga, Pr: Heemstra, Onderstrott Accordeert met de principale resolutie deses, in kennisse van mij, geteeckent 1. Pr. Schepper. Copia Onder andere propositien ende voor„ slagen van nieuwe ende prompte gelt middelen, noodich tot verval vande meest krijtende lasten op het Capijt gebracht sijnde, het middel van een capitale eeninge en verschot van penningen, bij de gequalificeerste Ingesetenen aenden Lande te doen. Is naer deliberatie goetgevonden te arreste„ ren, gelijck gearresteert wort bij desen, dat de jonghst gemaeckte Quohieren vanden hondertsten penningh nader sullen werden geex„ ammineert, ende de persoonen die aldaer hoochstgebracht, ende het meeste bemiddelt gehouden werden, in vier onderscheijdene Classen verdeelt, Sullende de hondert vande eerste ende hoochste Classe aende Provincie op interessen tegens vijff ten hondert hebben te ver„ schieten ijder een Capitael van een duijsent te de twee hondert daeraenvolgende vande tweedevangh, ijder de somme van ses hondert is de vier hondert daer aenvolgende vande derde ordre ijder drie hondert te, ende de vier hondert vande laetste Classe ijder twee hondert pont te ver„ schieten voor den eersten Junij aen„ staende voor de eene helft, ende Martuij daeraenvolgende voor de tweede helfte welver„ staende nochtans, dat onder de vierde ende laetste Classe niemant onder de thien duijsent Is aen Capi„ tael begoedicht, werde betrocken waeraff, opdat een ijgelick die 't aen„ gaen mach, in tijts mach werden geinformeert, Soo worden de Heeren Gedeputeerden mits desen gelast, in tijts behoorlicke notificatie ende publicatie alomme te doen ende soodanige vordere ordre tie stellen, ten eijnde dese haer Ed:Mo: goede meeninge wel ende naer be„ hooren geexecuteert ende naegecomen werden. Aldus geresolveert opt Landtschaps huijs den sevenentwintichsten April 1672. geteeckent voor Oostergoo, V. Boelens, Isbrant Offes, voor Westergoo, Veco Martna van Burmania, R. Haarsma, voor de Zevenwolden, T.cinoringa, G: W:V: Jonges sal, voor de Steden, Matten Janssen van Steenwijck, St. Tjet ses Forrijsma, Accordeert met de principale resolutie, in kennisse van , gelesen 's Lants premier Clerij absente Secretaris, geteeckent H Coptadi. Pieckrach Bij resumptie gedelibereert sijnde op de fauxatie, ende impolitie bij resolutie vanden negenentwintichsten februarij laestleden alhier op de consumptie. vant Sout, gelecht ende geleth, dat in de Classen ende verdeelingen aldaer gemaeckt wel eenige nadere alte„ ratie tot verbeteringe van ‛s Lants middelen soude connen ende behooren aengestelt te worden hebben haer Ho:Mo: goetgevonden ende verstaen, te arresteren, sulcx doende mits desen, dat in plaetse vande voorige voet ende ordre deselve tanxatie voortaen sal werden geheven ende gecollecteert in voegen ende manieren navolgende, dat ijder huijsgesin off hooft vande familie onder de drie hondert 16. begoedicht, sal geven int Jaer twee Car guldens, van drie hondert tot twaelff hondert te vier guldens van twaelff hondert tot twee duijsent Ises guldens, van twee duijsent tot ses duijsent le acht guldens van ses duijsent tot twaelff duijsent L twaelff guldens, van twaelff duijsent tot twintich duijsent te sesthien gulden, van twintich duijsent tot dertich duijsent te twin„ tich guldens, van dertich duijsent tot vijfftigh duijsent Sachtentwin„ tich guldens, van vijfftich duijsent tot vijffent seventich duijsent t vierendertich guldens, van vijffsent seventich duijsent tot hondert duijsent te veertich guldens, ende die boven de hondert duijsent besitten, veertich guldens, ende sal van voorschreve tauxatie ende impost niemant vrij sijn, als alleen het Hoff vanden Heere Staetholder, de Gecononne tot francker, het Landtschaps Tucht ende Werckhuijs, Oasthuijsen, Weeshuijsen, ende voorts andere huijsen, door publijcque voochen bedient wordende, mitsgaders de gealimenteerde persoonen ende Soldaten, tot Corporaels incluijs sonder wijders, met last aende Heeren Gedeputeerde goede sorge te dragen, ten eijnde de gerechte vierdepart vande voorschreve penmogen op eerste Maij, Augusti„ November ende februarij aenstaende respectivelick werden geint ende betaelt. Aldus geresolveert opt Landtschaps huijs den sevenentwintichsten April 1672. geteeckent voor Oostergoo, V. Boelens, Isbrant, Offes, voor Westerges, Duco Martna van Burmania, . R. Aaursmu, voor de Levenwolden, St. Andringa, G: W:Vr. Jongestal, voor de Steden, Regnerus, Bruijnsmi, Lijck le, Reters d'Olde Accordeert met de principale resolutie, in kennisse van mij, geteeckent. J.D. Schepper. Copia. D.De Staten van Vrieslandt geconfereert hebbende de Staet van ‛s Lants Comptoiren met de excessive lasten, die de Provincie bij dese perplexe tijden onvermijdelick heeft te hoeden, en geconsidereert, dat tot stuijr vande gemeene saecke noot„ saeckelick eenige prompte en importante middelen geheven dienen te worden, hebben nae rijpe ex„ ammatie van saecken, goetge„ vonden voor eerst te introduceren de contributie vanden hondertsten penningh van alle de middelen, die deser Provincie Ingesetenen in bonis mogen hebben, welverstaende, dat van Goederen in de Provincie ge,, legen, ende uijtheemsche Eijgenaers toebehoorende, ofte in questie han,, gende, mede naer behoorlicke propor„ tie bij den provisionelen eijgenaer ofte bruijcker werde betaelt, het welcke, omme op de beste wijse te vernemen, verstaen haer Ed Mo: t‛eenemael dienstigh en nootsaec„ kelick te wesen, dat nadere calcu„ latie van hooffden ende middelen werde gemaeckt, in diervoegen, dat deselve in de Grietenien door de respective Grietsluijden geal„ ssisteert met Gecommitteerde uijt de Steden ende vree versa inde Steden door de Magistraten aldaer, met overroepinge vande Griets,, luijden, alle bevooren daertoe specialick beeedicht werden gemaect, sonder dat de eene off andere wegens vacatien off oncosten ijetwes d sal mogen pretenderen; In aen„ gesien de Provincie met de pen„ ningen uijt dit middel verwacht werdende metten eersten dient geassisteert te worden, Soo vinden haer Ed:Mo: dienstigh, dat voor„ schreve nadere calcullatie van hooffden, ende middelen noch voor den aenstaenden ordinaris Lants, dagh werde geperfecteert, ten eijnde de Heeren Volmachten alsdan gelegentheijt mogen hebben om hare gedachten ende delibera, tien nader daer over te laten gaen, ende de Ingesetenen tijt ende occasie werde gegeven om hare penningen tegens de behoorlicke termijnen van beta„ linge, te weeten van princ Martij aenstaende voor de eene helfte ende op St. Jacobij daer aenvolgende voor de andere helft gereet te maecken, met last aende Ontfangers ende rent, meesters der Grietenien, ende Steden voorschreve penningen op de respective verschijndagen te innen, ende ten Comptaire vanden Ont„ fanger Ockinga te bestellen sonder ijetwes ter saecke dies te declareren off te trecken en ten eijnde dese haer Ed:Mo: welmeijninge promptelick ende effectivelick gepareert ende naegecomen werde. Soo werden de Heeren Gedeputeerden mits desen gelast de noodige depesches daertoe metten eersten en sonder de minste versuijminge van tijt te laten affgaen, ende voorts goede voorsorge te dragen dat geene de minste inbrencke daerjegens bij ijemant, iie 't oock zij, worde gedaen, alsoo st haer Ed: Mo: ernstige wille ende intentie is, dat dese hare resolutie in voegen verhaelt, alomme eenparichlick werde geexecuteert ende naergecomen. Aldus geresolveert opt Landtschaps huijs den derthienden Januarij 1672. verteeckent voor Oostergoo van Loo, H. de Schepper, voor Woestergoo, C. thol Grovestins, 8. H. Josinga, voor de Zevenwolden, G: W. V. Songestal ..... voor de Steden. S: Oppinga, Drucs Gellij. accordeert met de principale resolutie deses, in kennisse van mij, geteeckent, G Schepper.\", 'tijden', 'tijden', 'bbende de Staet van ‛s Lants Comptoiren met de excessive lasten, die de Provincie bij dese perplexe tijden onvermijdelick heeft te hoeden, en geconsidereert, dat tot stuijr vande gemeene saecke noot„ saecke']\n",
      "session-1672-05-13-num-1-resolution-7 missive\n",
      "session-1672-05-13-num-1-resolution-8 requeste\n",
      "session-1672-05-13-num-1-resolution-9 None\n",
      "session-1672-05-13-num-1-resolution-10 None\n",
      "session-1672-05-16-num-1-resolution-1 missive\n",
      "session-1672-05-16-num-1-resolution-2 missive\n",
      "session-1672-05-16-num-1-resolution-3 missive\n",
      "session-1672-05-16-num-1-resolution-4 missive\n",
      "session-1672-05-16-num-1-resolution-5 missive\n",
      "session-1672-05-16-num-1-resolution-6 missive\n",
      "session-1672-05-16-num-1-resolution-7 missive\n",
      "session-1672-05-16-num-1-resolution-8 missive\n"
     ]
    },
    {
     "name": "stdout",
     "output_type": "stream",
     "text": [
      "session-1672-05-16-num-1-resolution-9 None\n",
      "session-1672-05-17-num-1-resolution-1 missive\n",
      "session-1672-05-17-num-1-resolution-2 missive\n",
      "session-1672-05-17-num-1-resolution-3 missive\n",
      "session-1672-05-17-num-1-resolution-4 missive\n",
      "session-1672-05-17-num-1-resolution-5 missive\n",
      "session-1672-05-17-num-1-resolution-6 requeste\n",
      "session-1672-05-17-num-1-resolution-7 missive\n",
      "session-1672-05-17-num-1-resolution-8 missive\n",
      "session-1672-05-17-num-1-resolution-9 missive\n",
      "session-1672-05-17-num-1-resolution-10 missive\n",
      "session-1672-05-17-num-1-resolution-11 missive\n",
      "session-1672-05-17-num-1-resolution-12 missive\n",
      "session-1672-05-17-num-1-resolution-13 missive\n",
      "session-1672-05-18-num-1-resolution-1 missive\n",
      "session-1672-05-18-num-1-resolution-2 missive\n",
      "session-1672-05-18-num-1-resolution-3 missive\n",
      "session-1672-05-18-num-1-resolution-4 missive\n",
      "session-1672-05-18-num-1-resolution-5 missive\n",
      "session-1672-05-18-num-1-resolution-6 missive\n",
      "['session-1672-05-18-num-1-resolution-6', '1672-05-18', 'missive', \"Ontfangen een misssive van het Collegie ter Admiraliteijt in Zeelant, ge,, schreven tot Middelburgh den sesthienden deses, houdende nominatie vande per„ soonen van Abraham Bisschop ende Henrick Grun tot een Capiteijns plaetse ondert gemelte Collegie Waerop gedelibereert sijnde, hebben haer Ho:Mo: tot de voorschreve Capiteijnsplaetse geeligeert den voorschreven Abraham Bisschop, oock geordonneert, dat voor hem Commissie in gewoonlicke forme sal werden gedepescheert, doende daerop den behoor„ licken Eedt. De Heeren van Brakell, Pesser ende Isbrant van Vierssen, haer Ho:Mo: Gedeputeerden, hebbende ingevolge ende tot voldoeninge van haer Ho:Mo: resolutien vanden bij de Heeren Staten van Zeelant ende het Collegie ter Admiraliteijt aldaer, alle mogelicke debvoiren aengewent, tot uijtwerckinge van haer Ho:Mo: goede intentie in de voorschreve resolutien begrepen hebben ter Vergaderinge gerappor„ teert 't gunt haer E. in de uijtvoe„ ringe vande voorschreve Commissie aldaer voorgecomen is: Waerop gedelibereert sijnde, hebben haer Ho:Mo: de gemelte Heeren derselver Gedeputeerden voor de genomene moeijten, ijver, ende vigilantie be„ danckt, gelijck deselve bedanckt werden bij desen. Den Heer Meerens (de Heer van Starckenburgh absent sijnde:) hebbende ingevolge ende tot voldoeninge van haer Ho:Mo: resolutie vande bij de Collegien ter Admiraliteijt in het Noorderquartier ende in Vries„ landt, alle mogelicke debvoiren aengewent, tot uijtwerckinge van haer Ho:Mo: goede intentie in de voorschreve resolutie begrepen heeft ter Vergaderinge gerappor„ teert, 't gunt haer E. de uijt„ voeringe vande voorschreve Commissie aldaer voorgecomen is: Waerop gedelibereert sijnde, hebben haer Ho:Mo: de gemelte Heeren der„ selver Gedeputeerden voor de ge,, nomene moeijten, ijver, ende vigilantie bedanckt, gelijck deselve bedanckt werden bij desen Is naer voorgaende deliberatie goetge„ svonden ende verstaen, mits desen te versoecken de Heeren van Ommeren, ende andere hare Ho:Mo: Gedeputeerden tot de saecken vande Zee, om te overleggen ende overwegen, off niet lest soude wesen, dat aende Lootsluijden de Schepen van Oorloge van desen Staet moetende uijtlootsen, in plaetse van daghgelden werde toegevoecht een seeckere somme gelts eens soo wanneer de voorschreve Loots, mijden deselve Schepen in Zee sullen hebben gebracht alsmede off niet soude behooren, dat de voorschreve Schepen op de reede werden gebracht door matroosen, ende niet door Schouwers, ende daervan alhier ter Vergaderinge rapport te doen. Is naer voorgaende deliberatie goetge„ vonden ende verstaen, mits desen te versoecken de Heeren Gedeputeerden vande Provincie van Zeelandt, dat deselve alle debvoiren willen aenwenden, ten eijnde de Heeren Staten vande hoochgemelte Provincie haer hoe eerder soo liever mogen consenteren in de petitie bij den Raet van State tot het aen„ nemen van thien duijsent Waert gelders gedaen. Is naer voorgaende deliberatie goetge„ vonden ende verstaen, mits desen te versoecken de Heeren Gedeputeerden vande Heeren Staten vande respe„ ctive Provincien, Hollant uijtgesondert, dat deselve alle debvoiren willen aen„ wenden, ten eijnde de hoochgemelte Heeren Staten, hoe eerder soo liever mogen consenteren in de petitie bij den raet van State den achtentwin„ tichsten April lestleden, tot het aennemen van meerder Militie, het equiperen van noch eenige meerder Schepen van Oorloge, ende tot verval van verscheijde andere lasten gedaen. Is naer voorgaende deliberatie goetge„ vonden ende verstaen, mits desen te versoecken de Heeren Gedeputeerden vande Provincien van Gelderlant, Zeelandt, ende Overijssel, dat deselve doch alle debvoiren willen aenwenden ten eijnde het restant, dat de hoochge,, melte Provincien aenden Coningh van Denemarcken schuldigh sijn, ter saecke vande subsidien in den laesten Engelschen Oorlogh belooft, eenmael eijndelick mach werden betaelt. Is gehoort het rapport vanden Heeren Cant, hebbende ingevolge van hare Ho: Mo: resolutie vanden tweeentwintichsten April lestleden, gevisiteert ende geex„ amineert de requeste van Gervas, Engelsch Edelman, woonende in het ressort van desen Staet, versoeckende mits den geresen Oorlogh tusschen den Coningh van Groot Brittannien, ende desen Staet, dat hij sigh hier te Lande, ten minsten voor eenigen tijt soude mogen ophouden ende hare Ho:Mo: protectie genieten: Waerop gedelibereert sijnde, hebben de Heeren Gedeputeerden vande provincie van Hollandt ende Westvrieslant de voor„ schreve Requeste overgenomen, om inden haren breeder gecommuniceert te werden.\"]\n",
      "['session-1672-05-18-num-1-resolution-6', '1672-05-18', 'missive', \"Ontfangen een misssive van het Collegie ter Admiraliteijt in Zeelant, ge,, schreven tot Middelburgh den sesthienden deses, houdende nominatie vande per„ soonen van Abraham Bisschop ende Henrick Grun tot een Capiteijns plaetse ondert gemelte Collegie Waerop gedelibereert sijnde, hebben haer Ho:Mo: tot de voorschreve Capiteijnsplaetse geeligeert den voorschreven Abraham Bisschop, oock geordonneert, dat voor hem Commissie in gewoonlicke forme sal werden gedepescheert, doende daerop den behoor„ licken Eedt. De Heeren van Brakell, Pesser ende Isbrant van Vierssen, haer Ho:Mo: Gedeputeerden, hebbende ingevolge ende tot voldoeninge van haer Ho:Mo: resolutien vanden bij de Heeren Staten van Zeelant ende het Collegie ter Admiraliteijt aldaer, alle mogelicke debvoiren aengewent, tot uijtwerckinge van haer Ho:Mo: goede intentie in de voorschreve resolutien begrepen hebben ter Vergaderinge gerappor„ teert 't gunt haer E. in de uijtvoe„ ringe vande voorschreve Commissie aldaer voorgecomen is: Waerop gedelibereert sijnde, hebben haer Ho:Mo: de gemelte Heeren derselver Gedeputeerden voor de genomene moeijten, ijver, ende vigilantie be„ danckt, gelijck deselve bedanckt werden bij desen. Den Heer Meerens (de Heer van Starckenburgh absent sijnde:) hebbende ingevolge ende tot voldoeninge van haer Ho:Mo: resolutie vande bij de Collegien ter Admiraliteijt in het Noorderquartier ende in Vries„ landt, alle mogelicke debvoiren aengewent, tot uijtwerckinge van haer Ho:Mo: goede intentie in de voorschreve resolutie begrepen heeft ter Vergaderinge gerappor„ teert, 't gunt haer E. de uijt„ voeringe vande voorschreve Commissie aldaer voorgecomen is: Waerop gedelibereert sijnde, hebben haer Ho:Mo: de gemelte Heeren der„ selver Gedeputeerden voor de ge,, nomene moeijten, ijver, ende vigilantie bedanckt, gelijck deselve bedanckt werden bij desen Is naer voorgaende deliberatie goetge„ svonden ende verstaen, mits desen te versoecken de Heeren van Ommeren, ende andere hare Ho:Mo: Gedeputeerden tot de saecken vande Zee, om te overleggen ende overwegen, off niet lest soude wesen, dat aende Lootsluijden de Schepen van Oorloge van desen Staet moetende uijtlootsen, in plaetse van daghgelden werde toegevoecht een seeckere somme gelts eens soo wanneer de voorschreve Loots, mijden deselve Schepen in Zee sullen hebben gebracht alsmede off niet soude behooren, dat de voorschreve Schepen op de reede werden gebracht door matroosen, ende niet door Schouwers, ende daervan alhier ter Vergaderinge rapport te doen. Is naer voorgaende deliberatie goetge„ vonden ende verstaen, mits desen te versoecken de Heeren Gedeputeerden vande Provincie van Zeelandt, dat deselve alle debvoiren willen aenwenden, ten eijnde de Heeren Staten vande hoochgemelte Provincie haer hoe eerder soo liever mogen consenteren in de petitie bij den Raet van State tot het aen„ nemen van thien duijsent Waert gelders gedaen. Is naer voorgaende deliberatie goetge„ vonden ende verstaen, mits desen te versoecken de Heeren Gedeputeerden vande Heeren Staten vande respe„ ctive Provincien, Hollant uijtgesondert, dat deselve alle debvoiren willen aen„ wenden, ten eijnde de hoochgemelte Heeren Staten, hoe eerder soo liever mogen consenteren in de petitie bij den raet van State den achtentwin„ tichsten April lestleden, tot het aennemen van meerder Militie, het equiperen van noch eenige meerder Schepen van Oorloge, ende tot verval van verscheijde andere lasten gedaen. Is naer voorgaende deliberatie goetge„ vonden ende verstaen, mits desen te versoecken de Heeren Gedeputeerden vande Provincien van Gelderlant, Zeelandt, ende Overijssel, dat deselve doch alle debvoiren willen aenwenden ten eijnde het restant, dat de hoochge,, melte Provincien aenden Coningh van Denemarcken schuldigh sijn, ter saecke vande subsidien in den laesten Engelschen Oorlogh belooft, eenmael eijndelick mach werden betaelt. Is gehoort het rapport vanden Heeren Cant, hebbende ingevolge van hare Ho: Mo: resolutie vanden tweeentwintichsten April lestleden, gevisiteert ende geex„ amineert de requeste van Gervas, Engelsch Edelman, woonende in het ressort van desen Staet, versoeckende mits den geresen Oorlogh tusschen den Coningh van Groot Brittannien, ende desen Staet, dat hij sigh hier te Lande, ten minsten voor eenigen tijt soude mogen ophouden ende hare Ho:Mo: protectie genieten: Waerop gedelibereert sijnde, hebben de Heeren Gedeputeerden vande provincie van Hollandt ende Westvrieslant de voor„ schreve Requeste overgenomen, om inden haren breeder gecommuniceert te werden.\", 'tijden', 'mijden', 'se van daghgelden werde toegevoecht een seeckere somme gelts eens soo wanneer de voorschreve Loots, mijden deselve Schepen in Zee sullen hebben gebracht alsmede off niet soude behooren, dat de voorschreve S']\n",
      "session-1672-05-18-num-1-resolution-7 requeste\n",
      "session-1672-05-18-num-1-resolution-8 missive\n",
      "session-1672-05-18-num-1-resolution-9 requeste\n",
      "session-1672-05-18-num-1-resolution-10 missive\n",
      "['session-1672-05-18-num-1-resolution-10', '1672-05-18', 'missive', \"Ontfangen een missive vanden Heer Hertoch van Brunswijck ende Lunenburch tot Celle, geschreven in het ampt Brenchausen den eersten deses, stilo loci, mede brengende dat Sijne furstelicke Doorluchticheijt haer Ho:Mo: niet connende veronthouden, dat desselffs moeije Vrouwe Charlotte, Weduwe, furstame tot Oostvrieslandt, uijt crachte vande Voochdije van haren min derjarigen Soon den Heere Christiaen Everharefurst tot Oostvrieslandt aen Sijn furstelicke Doorluchticheijt hadde te kennen gegeven, dat sij haer bij dese gevaerlicke conjuncture gene„ cessiteert hadden gevonden, om haer gedachten te laten gaen op de wer„ vinge van eenich volck, tot besettinge der vaste plaetsen ende Grenshuijsen van Oostvrieslandt voornoemt, ende dat daerover een provisioneel Accordt, ende seeckere reservatien getroffen sijnde, de gemelte Vrouwe furstene in verdere overweginge der saecken soo veel hadde onder„ vonden, dat door sulcke offere, de seeckerheijt vant Landt in het minste niet stoude geconserveert te werden, maer wel, dat de gerech, ticheden van haren furstelicke Pa,, pille noch meerder waren vermindert ende derhalven geobligeert was ‛t voor„ schreve provisioneel Tractaet in soo verre aff te gaen, ende te begeren dat de Officieren ende Soldaten in het veraccordeerde getal wel vande Landt Stenden mochten werden onderhouden, maer dat aenden furste, licken Pupil ofte aen desselffs Vooch„ den alleen den Eedt moet werden gestaeft, ende derhalven van Sijn furstelicke Doorluchticheijt hadde versocht, sich bij haer Ho:Mo: te willen interponeren op dat, soo wanneer de Landt Stenden haer recours tot haer Ho:Mo: souden willen nemen, sij alsdan van hare harde postulatas veel eerder affgemaent, dan dat aen haer eenigen bijstant gedaen mochte werden ende dat den hoochgemelten Heere Hertoch derhalven alsmede ij consideratie, dat Sijne furste„ licke Doorlichticheijt bij sijne keijser, licke Majesteijt tot mede voocht over den gemelten furstelicken Pe. pille is gestelt, versochte, dat haer Ho: Mo: niet souden willen toestaen dat de gerechticheden vanden hooch„ gemelten furstelicken Pupille door faveur souden werden, gekrenckt ende aende Landt Stenden tegens ende contrarie de Rijcx consti„ tutien ende hercomen gemeijn ge,, maeckt. Waerop gedelibereert sijnde, Is goetgevonden ende verstaen, dat de voorschreve missive gestelt sal werden in handen vande Heeren Schimmelpenningh ende andere hare Ho:Mo: Gedepeputeerden tot de saecken van Oost,, vrieslandt, om te visiteren, examineren, ende daervan rapport te doen. Is ter Vergaderinge gelesen de remon„ strantie van Johan van Stockhenmb, Ridder affgesante vanden Heere Churfurst van Maintz aenden Coningh van Groot Brittannien, houdende dat haer Ho:Mo: op het versoeck van Sijn Churfurstelicke Door„ luchticheijt hebben, verleent eenen vrijen pas voor dertich voeder wijnen aenden hoochstgedachten Coningh, ende Heeren Hertogh van Jorck, ende Prince Rupert ge,, souden, maer niet voor sijn ver„ toonders Persoon, Goederen, dienaers ende bagagie, mitsgaders Schip, ende Schippers, ende nademael hij vertoonder 't selve van nooden hadde, dat hij derhalven versochte vrij paspoort voor desselffs per„ soon, Goederen, Dienaers, ende Bagagie, mitsgaders het Schip, en Scheepsvolck: Waerop gedelibereert sijnde, Is goetgevonden ende verstaen, te consenteren in het voorschreve versoeck, ende dat mits dien voor den voorschreven Vertoonder de Acte daertoe gerequireert sal worden gedepescheert. Is ter Vergaderinge gelesen de reqte. vande Ingesetenen vande vier Quartieren vande Meijerije van shertogenbosch, houdende dat tot haer kennisse gecomen sijnde seeckere gedruckte waerschouwinge, waer bij uijt den naem ende van wegen haer Ho:Mo: door Gecommitteerden uijt den Raet van State in de ge„ heele Meijerije van ‛s Hertogenbosch voornoemt is geordonneert, ende belast aen alle de opgesetenen aldaer, dat sij alle hare Meublen mitsgaders Coorn ende Hon souden transporteren ende verbrengen in de vaste Steden van desen Staet alsmede, dat het platte Landt soo„ danigh soude werden omgeploecht omgehaelt, vertreden, ende geraseert, dat alles, dat daerop soude mogen wassen voor menschen ende vee onbequaem gemaeckt mochte werden, met bij voeginge, dat alles 't gunt voorschreve is, binnen den tijt van vier dagen geeffectueert, ofte anders door de stercke handt vanden Staet geexecuteert soude werden, dat sij Supplianten dien conform hare Meublen, mitsgaders Coorn, Hou, ende Eetwaren voor het meerendeel binnen de Stadt shertogenbosch, als haer Hooft Stadt hadden, verbracht, dan dat hij niet hoopten noch vertrouwen, dat de voorschreve waerschouwinge ten aensien van het omploegen, om halen ende devasteren van haer eijgen gesaij, ende gewas, oock geexecu„ teert, soude moeten werden, door dien de Vijandt selffs, soo wanneer sij haer die nu eenichsints in Wapenen ende op haer defensie eenichsints sijn gestelt soude mogen comen te verrassen, daer door seer weijnich voordeel, maer eer nadeel soude comen te lijden, alsoo het Coorengewas jegenwoordich inde aerde sijnde, niet bequaem is d tot eenich voetsel voor menschen ofte paerden, ende den Boeckweijt noch meest ongehaijt sijnde, met gesaeijt, ende huijsvrouwen ende kinderen daer door alle hoope be„ nomen soude werden, van noch eenige vruchten daervan in tijden ende wijlen naer verloop ende verdwijn van desen bedroeffden tijt, te sullen connen genieten, sonderlinge daerraen de arme gemeente op het selve gewas alomme wert ge,, borcht, ende dat die mits dien door de voorschreve devastatie van alle credit, ende sulcx van alle levens middelen souden werden ontset, ende dat sij Supplianten als getrouwe Onderdanen haer Ho:Mo: volcomentlick connen verseeckeren, dat soo wanneer den Vijandt met sijn gros de voorschreve Meijerije soude comen te naderen, het selve gewas bij haer Supplianten noch tijts genoech sal connen werden gede„ vasteert. Ende dat sij derhalven voor de uijtterste nootsaeckelick, heijt tot dien deplorablen staet niet behooren gebracht te werden te meer daer sij te vreeden sijn, in cas van verschooninge de ver„ pondingen, Coninghsbeden, het be„ saeijde, hoorngelt, ende andere lastten tot desen dage toe gehoor„ haenlick te betalen, ende dat sij Supplianten mits dien versochten dat haer Ho:Mo: insiende haren soberen ende bedroeffden toestant, de voorschreve gegevene ordre soodanich willen nodereren ofte daer van dispenseren, als de„ selve naer hare medogentheijt ontrent soo veele arme ende be„ droeffde hielen tot haer lijff ende onderhout sullen oordeelen te behooren Waerop gedelibereert sijnde, Is goetge„ vonden ende verstaen, dat de voor„ schreve Requeste gestelt sall werden in handen vande Heeren van Brakell ende andere hare Ho:Mo: Gedeputeerden tot de militaire saken, met ende nevens eenige Heeren Gecommitteerden uijt den Raet van State, bij haer E. selffs te nomineren, om te visiteren, examineren, ende daer van rapport te doen. Is naer voorgaende deliberatie goet„ gevonden ende verstaen, mits desen te versoecken den Raet van State, dat haer E. alsnoch in con„ formité van haer Ho:Mo: reso,, lutie vanden achtsten ende twin„ tichsten April lestleden willen overleggen, ende overwegen, off oock van nooden is aen te stellen een Contrerolleur over de Schepen die tot de expeditie te verde werden gebruijckt, ende haer Ho:Mo: daerop morgen laten toecomen haer E. consideratien en advis, ofte dat haer Ho:Mo: bij faulte vandien op de begevinge vande voorschreve plaetse soodanich sullen disponeren, als deselve sullen oordeelen te behooren.\"]\n",
      "['session-1672-05-18-num-1-resolution-10', '1672-05-18', 'missive', \"Ontfangen een missive vanden Heer Hertoch van Brunswijck ende Lunenburch tot Celle, geschreven in het ampt Brenchausen den eersten deses, stilo loci, mede brengende dat Sijne furstelicke Doorluchticheijt haer Ho:Mo: niet connende veronthouden, dat desselffs moeije Vrouwe Charlotte, Weduwe, furstame tot Oostvrieslandt, uijt crachte vande Voochdije van haren min derjarigen Soon den Heere Christiaen Everharefurst tot Oostvrieslandt aen Sijn furstelicke Doorluchticheijt hadde te kennen gegeven, dat sij haer bij dese gevaerlicke conjuncture gene„ cessiteert hadden gevonden, om haer gedachten te laten gaen op de wer„ vinge van eenich volck, tot besettinge der vaste plaetsen ende Grenshuijsen van Oostvrieslandt voornoemt, ende dat daerover een provisioneel Accordt, ende seeckere reservatien getroffen sijnde, de gemelte Vrouwe furstene in verdere overweginge der saecken soo veel hadde onder„ vonden, dat door sulcke offere, de seeckerheijt vant Landt in het minste niet stoude geconserveert te werden, maer wel, dat de gerech, ticheden van haren furstelicke Pa,, pille noch meerder waren vermindert ende derhalven geobligeert was ‛t voor„ schreve provisioneel Tractaet in soo verre aff te gaen, ende te begeren dat de Officieren ende Soldaten in het veraccordeerde getal wel vande Landt Stenden mochten werden onderhouden, maer dat aenden furste, licken Pupil ofte aen desselffs Vooch„ den alleen den Eedt moet werden gestaeft, ende derhalven van Sijn furstelicke Doorluchticheijt hadde versocht, sich bij haer Ho:Mo: te willen interponeren op dat, soo wanneer de Landt Stenden haer recours tot haer Ho:Mo: souden willen nemen, sij alsdan van hare harde postulatas veel eerder affgemaent, dan dat aen haer eenigen bijstant gedaen mochte werden ende dat den hoochgemelten Heere Hertoch derhalven alsmede ij consideratie, dat Sijne furste„ licke Doorlichticheijt bij sijne keijser, licke Majesteijt tot mede voocht over den gemelten furstelicken Pe. pille is gestelt, versochte, dat haer Ho: Mo: niet souden willen toestaen dat de gerechticheden vanden hooch„ gemelten furstelicken Pupille door faveur souden werden, gekrenckt ende aende Landt Stenden tegens ende contrarie de Rijcx consti„ tutien ende hercomen gemeijn ge,, maeckt. Waerop gedelibereert sijnde, Is goetgevonden ende verstaen, dat de voorschreve missive gestelt sal werden in handen vande Heeren Schimmelpenningh ende andere hare Ho:Mo: Gedepeputeerden tot de saecken van Oost,, vrieslandt, om te visiteren, examineren, ende daervan rapport te doen. Is ter Vergaderinge gelesen de remon„ strantie van Johan van Stockhenmb, Ridder affgesante vanden Heere Churfurst van Maintz aenden Coningh van Groot Brittannien, houdende dat haer Ho:Mo: op het versoeck van Sijn Churfurstelicke Door„ luchticheijt hebben, verleent eenen vrijen pas voor dertich voeder wijnen aenden hoochstgedachten Coningh, ende Heeren Hertogh van Jorck, ende Prince Rupert ge,, souden, maer niet voor sijn ver„ toonders Persoon, Goederen, dienaers ende bagagie, mitsgaders Schip, ende Schippers, ende nademael hij vertoonder 't selve van nooden hadde, dat hij derhalven versochte vrij paspoort voor desselffs per„ soon, Goederen, Dienaers, ende Bagagie, mitsgaders het Schip, en Scheepsvolck: Waerop gedelibereert sijnde, Is goetgevonden ende verstaen, te consenteren in het voorschreve versoeck, ende dat mits dien voor den voorschreven Vertoonder de Acte daertoe gerequireert sal worden gedepescheert. Is ter Vergaderinge gelesen de reqte. vande Ingesetenen vande vier Quartieren vande Meijerije van shertogenbosch, houdende dat tot haer kennisse gecomen sijnde seeckere gedruckte waerschouwinge, waer bij uijt den naem ende van wegen haer Ho:Mo: door Gecommitteerden uijt den Raet van State in de ge„ heele Meijerije van ‛s Hertogenbosch voornoemt is geordonneert, ende belast aen alle de opgesetenen aldaer, dat sij alle hare Meublen mitsgaders Coorn ende Hon souden transporteren ende verbrengen in de vaste Steden van desen Staet alsmede, dat het platte Landt soo„ danigh soude werden omgeploecht omgehaelt, vertreden, ende geraseert, dat alles, dat daerop soude mogen wassen voor menschen ende vee onbequaem gemaeckt mochte werden, met bij voeginge, dat alles 't gunt voorschreve is, binnen den tijt van vier dagen geeffectueert, ofte anders door de stercke handt vanden Staet geexecuteert soude werden, dat sij Supplianten dien conform hare Meublen, mitsgaders Coorn, Hou, ende Eetwaren voor het meerendeel binnen de Stadt shertogenbosch, als haer Hooft Stadt hadden, verbracht, dan dat hij niet hoopten noch vertrouwen, dat de voorschreve waerschouwinge ten aensien van het omploegen, om halen ende devasteren van haer eijgen gesaij, ende gewas, oock geexecu„ teert, soude moeten werden, door dien de Vijandt selffs, soo wanneer sij haer die nu eenichsints in Wapenen ende op haer defensie eenichsints sijn gestelt soude mogen comen te verrassen, daer door seer weijnich voordeel, maer eer nadeel soude comen te lijden, alsoo het Coorengewas jegenwoordich inde aerde sijnde, niet bequaem is d tot eenich voetsel voor menschen ofte paerden, ende den Boeckweijt noch meest ongehaijt sijnde, met gesaeijt, ende huijsvrouwen ende kinderen daer door alle hoope be„ nomen soude werden, van noch eenige vruchten daervan in tijden ende wijlen naer verloop ende verdwijn van desen bedroeffden tijt, te sullen connen genieten, sonderlinge daerraen de arme gemeente op het selve gewas alomme wert ge,, borcht, ende dat die mits dien door de voorschreve devastatie van alle credit, ende sulcx van alle levens middelen souden werden ontset, ende dat sij Supplianten als getrouwe Onderdanen haer Ho:Mo: volcomentlick connen verseeckeren, dat soo wanneer den Vijandt met sijn gros de voorschreve Meijerije soude comen te naderen, het selve gewas bij haer Supplianten noch tijts genoech sal connen werden gede„ vasteert. Ende dat sij derhalven voor de uijtterste nootsaeckelick, heijt tot dien deplorablen staet niet behooren gebracht te werden te meer daer sij te vreeden sijn, in cas van verschooninge de ver„ pondingen, Coninghsbeden, het be„ saeijde, hoorngelt, ende andere lastten tot desen dage toe gehoor„ haenlick te betalen, ende dat sij Supplianten mits dien versochten dat haer Ho:Mo: insiende haren soberen ende bedroeffden toestant, de voorschreve gegevene ordre soodanich willen nodereren ofte daer van dispenseren, als de„ selve naer hare medogentheijt ontrent soo veele arme ende be„ droeffde hielen tot haer lijff ende onderhout sullen oordeelen te behooren Waerop gedelibereert sijnde, Is goetge„ vonden ende verstaen, dat de voor„ schreve Requeste gestelt sall werden in handen vande Heeren van Brakell ende andere hare Ho:Mo: Gedeputeerden tot de militaire saken, met ende nevens eenige Heeren Gecommitteerden uijt den Raet van State, bij haer E. selffs te nomineren, om te visiteren, examineren, ende daer van rapport te doen. Is naer voorgaende deliberatie goet„ gevonden ende verstaen, mits desen te versoecken den Raet van State, dat haer E. alsnoch in con„ formité van haer Ho:Mo: reso,, lutie vanden achtsten ende twin„ tichsten April lestleden willen overleggen, ende overwegen, off oock van nooden is aen te stellen een Contrerolleur over de Schepen die tot de expeditie te verde werden gebruijckt, ende haer Ho:Mo: daerop morgen laten toecomen haer E. consideratien en advis, ofte dat haer Ho:Mo: bij faulte vandien op de begevinge vande voorschreve plaetse soodanich sullen disponeren, als deselve sullen oordeelen te behooren.\", 'tijden', 'tijden', 'uwen ende kinderen daer door alle hoope be„ nomen soude werden, van noch eenige vruchten daervan in tijden ende wijlen naer verloop ende verdwijn van desen bedroeffden tijt, te sullen connen genieten, sonde']\n",
      "session-1672-05-18-num-1-resolution-11 None\n",
      "session-1672-05-18-num-1-resolution-12 requeste\n",
      "session-1672-05-20-num-1-resolution-1 missive\n",
      "session-1672-05-20-num-1-resolution-2 missive\n",
      "session-1672-05-20-num-1-resolution-3 missive\n",
      "session-1672-05-20-num-1-resolution-4 missive\n",
      "['session-1672-05-20-num-1-resolution-4', '1672-05-20', 'missive', 'Ontfangen een Missive van het Collegie ter Admiraliteijt in Westvrieslant ende den Noorderquartiere, ge,, schreven tot Enchuijsen den achthienden deses, houdende dat de Heeren Burgermeesteren, Schepenen ende Raden der Stadt Swolle, bij missive aen haer hadden versocht, dat deselve op het exempel van alle voorgaende tijden van Oorlogh, op het Swarte water wilden senden een uijtlegger, gemonteert ende gemant naer vereijsch van saken, dat het gemelte Collegie wel hadde geoordeelt, sulcx in redenen te bestaen, doch bij haer selffs geen macht hebbende, en de uijt„ leggers op den Staet van Oorloch niet gebracht sijnde, sij haer Ho: Mo: in bedencken moesten geven off den Raet van State met diende te werden versocht, dien„ aengaende eene petitie te doen: Waerop gedelibereert sijnde, Is goet„ gevonden ende verstaen, dat de voorschreve missive gestelt sal werden in handen vande Heeren van Ommeren, ende andere hare Ho:Mo: Gedeputeerden tot de saecken vande Zee, om te visiteren, examineren, ende daervan rapport te doen.']\n",
      "['session-1672-05-20-num-1-resolution-4', '1672-05-20', 'missive', 'Ontfangen een Missive van het Collegie ter Admiraliteijt in Westvrieslant ende den Noorderquartiere, ge,, schreven tot Enchuijsen den achthienden deses, houdende dat de Heeren Burgermeesteren, Schepenen ende Raden der Stadt Swolle, bij missive aen haer hadden versocht, dat deselve op het exempel van alle voorgaende tijden van Oorlogh, op het Swarte water wilden senden een uijtlegger, gemonteert ende gemant naer vereijsch van saken, dat het gemelte Collegie wel hadde geoordeelt, sulcx in redenen te bestaen, doch bij haer selffs geen macht hebbende, en de uijt„ leggers op den Staet van Oorloch niet gebracht sijnde, sij haer Ho: Mo: in bedencken moesten geven off den Raet van State met diende te werden versocht, dien„ aengaende eene petitie te doen: Waerop gedelibereert sijnde, Is goet„ gevonden ende verstaen, dat de voorschreve missive gestelt sal werden in handen vande Heeren van Ommeren, ende andere hare Ho:Mo: Gedeputeerden tot de saecken vande Zee, om te visiteren, examineren, ende daervan rapport te doen.', 'tijden', 'tijden', ' Stadt Swolle, bij missive aen haer hadden versocht, dat deselve op het exempel van alle voorgaende tijden van Oorlogh, op het Swarte water wilden senden een uijtlegger, gemonteert ende gemant naer vereijsc']\n",
      "session-1672-05-20-num-1-resolution-5 missive\n",
      "session-1672-05-20-num-1-resolution-6 requeste\n"
     ]
    },
    {
     "name": "stdout",
     "output_type": "stream",
     "text": [
      "session-1672-05-20-num-1-resolution-7 missive\n",
      "session-1672-05-20-num-1-resolution-8 requeste\n",
      "session-1672-05-20-num-1-resolution-9 missive\n",
      "session-1672-05-20-num-1-resolution-10 missive\n",
      "session-1672-05-20-num-1-resolution-11 missive\n",
      "session-1672-05-20-num-1-resolution-12 None\n",
      "session-1672-05-20-num-1-resolution-13 None\n",
      "session-1672-05-20-num-1-resolution-14 None\n",
      "['session-1672-05-20-num-1-resolution-14', '1672-05-20', '', \"Is gehoort het rapport vande heeren van Brakell, ende andere hare Ho:Mo: Gedeputeerden tot de militaire saecken, hebbende in„ gevolge ende tot voldoeninge van derselver resolutie Commissoriael vanden negenthienden deses, gevi„ siteert ende geexamineert de requeste vande Ingesetenen vande vier Quartieren vande Meijerije van shertogenbosch, houdende dat tot haer kennisse gecomen sijnde, seeckere gedruckte Waerschouwinge, waerbij uijt den naem ende van wegen haer Ho:Mo: door Ge,, committeerden uijt den Raet van State in de geheele Meijerije van ‛s Hertogen„ bosch voornoemt is geordonneert ende belast aen alle de opgesetenen aldaer, dat sij alle hare meublen mitsgaders voorn ende Hoij souden transporteren ende verbrengen in de verste Steden van desen Staet, alsmede, dat het platte Landt soo, danich soude werden omgeploecht ongehaelt, vertreden ende geraseert, dat alles dat daerop soude mogen Wassen voor Menschen ende Vee, onbe„ giaem gemaeckt mochte werden met bijvoeginge, dat alles t' gunt voorschreve is, binnen den tijt van vier dagen geeffectueert, ofte anders door de sterckehandt vanden Staet geexecuteert soude werden, dat sij Supplianten dien conform hare Neu„ blen, mitsgaders Coorn, Hon ende Eetwaren, voor het meerendeel binnen de Stadt ‛s Hertogenbosch, als haer hooft Stadt hadden verbracht, dan dat sij met hoopten noch vertrouwden dat de voorschreve Waerschouwinge ten aensien van het omploijgen, omhalen ende devasteren van haer eijgen gesaen ende gewas oock geexecuteert soude moeten werden, door dien de Vijandt selffs soo wanneer sij haer die nu eenich„ sints in Wapenen, ende op haer defensie sijn gestelt, soude mogen comen te verrassen, daer door seer weijnich voordeel, maer eer nadeel soude comen te lijden, alsoo het Corengewas jegenwoordigh in de Aerde sijnde met bequaemt is tot eenich voetsel voor menschen ofte Paerden, ende den Boeckweijt noch meest ongesaeijt sijnde, niet gesaeijt ende huijsvrouwen ende kinderen daer door alle hoope benomen soude werden van noch eenige vruchten daervan in tijden ende wijlen, naer verloop ende verdwijn van desen bedroeffden tijt, te sullen connen genieten, sonderlinge daeraen de arme gemeente op het selve gewas alomme wert geborcht ende dat die mits dien door de voor„ schreve devastatie van alle credit ende sulcx van alle levens middelen souden werden, ontseth, ende dat sij Supplianten als getrouwe Onder„ danen haer Ho:Mo: volcomentlick connen verseeckeren, dat soo wanneer den Vijandt met sijn gros de voorschreve Meijerije soude comen te naderen, het selve gewasch bij haer Supplianten noch tijts ge„ noech sal connen werden gede„, vasteert, ende dat sij derhalven voor de uijtterste nootsaeckelick„ heijt tot dien deplorablen Staet niet behooren gebracht te worden te meer, daer sij te vreeden sijn, in cas van verschooninge de verpondingen, Coninghsbeden het besaeijde, hoorngelt, ende andere lasten tot desen dage toe„ gehoorsaenlick te betalen, ende dat sij Supplianten mits dien ver„ sochten, dat haer Ho:Mo: insiende haren soberen ende bedroeffden toestant, de voorschreve gegevene ordre soodanich willen modereren ofte daervan dispenseren, als deselve naer hare medegentheijt ontrent soo veele arme ende bedroeffde zielen tot haer Lijff ende onderhout souden oordeelen te behooren: Waerop gedelibereert sijnde, Is goetgevonden ende verstaen, mits desen te autho,, riseren de Heeren vander Tocht ende van Vrijbergen, haer Ho:Mo: Gedeputeerden ende Gevolmachtichden tusschen Maes ende Schelde, omme met communicatie ende correspon„ dentie vande Heeren van Brakell, ende Thesaurier Burgh, de noodige voorsieninge te doen, ten eijnde alle de Granen ende Eetwaren ten platten Lande in het voorschreve district, mochen werden gebracht in de vaste Steden plaetsen van desen Staet. Ende voor soo veel het on„ ploegen ende om halen vande voor„ schreve Landen belanght, dat de gemelte Heeren, met communicatie ende correspondentie vande gemelte Heeren van Brakell, ende Burgh soodanigh te disponeren, 't zij met daermede in het geheel ofte ten deele voort te gaen, ofte te super„ sederen, als deselve naer ingenomen advis vande hooge Officieren van deselve respective districten sullen oordeelen te behooren, ende in allen gevallen daer tegens wederom sien vast te stellen, dat een gedeelte vande manschap ten voorschreven platten Lande in de Steden van ‛s hertogenbosch, Breda, en Bergen, op den zoom mach werden gebracht, oock soodanige ordre niet com„ municatie ende correspondentie als boven willen stellen, dat het platte Landt vande Meijerije var ‛s Hertogenbosch, Breda, Bergen op den zoom, en andere naer behooren beseth, ende gedefendeert, ende ten dien eijnde de Bruggens affge„ worpen, ende slagh boomen gestelt mogen werden.\"]\n",
      "['session-1672-05-20-num-1-resolution-14', '1672-05-20', '', \"Is gehoort het rapport vande heeren van Brakell, ende andere hare Ho:Mo: Gedeputeerden tot de militaire saecken, hebbende in„ gevolge ende tot voldoeninge van derselver resolutie Commissoriael vanden negenthienden deses, gevi„ siteert ende geexamineert de requeste vande Ingesetenen vande vier Quartieren vande Meijerije van shertogenbosch, houdende dat tot haer kennisse gecomen sijnde, seeckere gedruckte Waerschouwinge, waerbij uijt den naem ende van wegen haer Ho:Mo: door Ge,, committeerden uijt den Raet van State in de geheele Meijerije van ‛s Hertogen„ bosch voornoemt is geordonneert ende belast aen alle de opgesetenen aldaer, dat sij alle hare meublen mitsgaders voorn ende Hoij souden transporteren ende verbrengen in de verste Steden van desen Staet, alsmede, dat het platte Landt soo, danich soude werden omgeploecht ongehaelt, vertreden ende geraseert, dat alles dat daerop soude mogen Wassen voor Menschen ende Vee, onbe„ giaem gemaeckt mochte werden met bijvoeginge, dat alles t' gunt voorschreve is, binnen den tijt van vier dagen geeffectueert, ofte anders door de sterckehandt vanden Staet geexecuteert soude werden, dat sij Supplianten dien conform hare Neu„ blen, mitsgaders Coorn, Hon ende Eetwaren, voor het meerendeel binnen de Stadt ‛s Hertogenbosch, als haer hooft Stadt hadden verbracht, dan dat sij met hoopten noch vertrouwden dat de voorschreve Waerschouwinge ten aensien van het omploijgen, omhalen ende devasteren van haer eijgen gesaen ende gewas oock geexecuteert soude moeten werden, door dien de Vijandt selffs soo wanneer sij haer die nu eenich„ sints in Wapenen, ende op haer defensie sijn gestelt, soude mogen comen te verrassen, daer door seer weijnich voordeel, maer eer nadeel soude comen te lijden, alsoo het Corengewas jegenwoordigh in de Aerde sijnde met bequaemt is tot eenich voetsel voor menschen ofte Paerden, ende den Boeckweijt noch meest ongesaeijt sijnde, niet gesaeijt ende huijsvrouwen ende kinderen daer door alle hoope benomen soude werden van noch eenige vruchten daervan in tijden ende wijlen, naer verloop ende verdwijn van desen bedroeffden tijt, te sullen connen genieten, sonderlinge daeraen de arme gemeente op het selve gewas alomme wert geborcht ende dat die mits dien door de voor„ schreve devastatie van alle credit ende sulcx van alle levens middelen souden werden, ontseth, ende dat sij Supplianten als getrouwe Onder„ danen haer Ho:Mo: volcomentlick connen verseeckeren, dat soo wanneer den Vijandt met sijn gros de voorschreve Meijerije soude comen te naderen, het selve gewasch bij haer Supplianten noch tijts ge„ noech sal connen werden gede„, vasteert, ende dat sij derhalven voor de uijtterste nootsaeckelick„ heijt tot dien deplorablen Staet niet behooren gebracht te worden te meer, daer sij te vreeden sijn, in cas van verschooninge de verpondingen, Coninghsbeden het besaeijde, hoorngelt, ende andere lasten tot desen dage toe„ gehoorsaenlick te betalen, ende dat sij Supplianten mits dien ver„ sochten, dat haer Ho:Mo: insiende haren soberen ende bedroeffden toestant, de voorschreve gegevene ordre soodanich willen modereren ofte daervan dispenseren, als deselve naer hare medegentheijt ontrent soo veele arme ende bedroeffde zielen tot haer Lijff ende onderhout souden oordeelen te behooren: Waerop gedelibereert sijnde, Is goetgevonden ende verstaen, mits desen te autho,, riseren de Heeren vander Tocht ende van Vrijbergen, haer Ho:Mo: Gedeputeerden ende Gevolmachtichden tusschen Maes ende Schelde, omme met communicatie ende correspon„ dentie vande Heeren van Brakell, ende Thesaurier Burgh, de noodige voorsieninge te doen, ten eijnde alle de Granen ende Eetwaren ten platten Lande in het voorschreve district, mochen werden gebracht in de vaste Steden plaetsen van desen Staet. Ende voor soo veel het on„ ploegen ende om halen vande voor„ schreve Landen belanght, dat de gemelte Heeren, met communicatie ende correspondentie vande gemelte Heeren van Brakell, ende Burgh soodanigh te disponeren, 't zij met daermede in het geheel ofte ten deele voort te gaen, ofte te super„ sederen, als deselve naer ingenomen advis vande hooge Officieren van deselve respective districten sullen oordeelen te behooren, ende in allen gevallen daer tegens wederom sien vast te stellen, dat een gedeelte vande manschap ten voorschreven platten Lande in de Steden van ‛s hertogenbosch, Breda, en Bergen, op den zoom mach werden gebracht, oock soodanige ordre niet com„ municatie ende correspondentie als boven willen stellen, dat het platte Landt vande Meijerije var ‛s Hertogenbosch, Breda, Bergen op den zoom, en andere naer behooren beseth, ende gedefendeert, ende ten dien eijnde de Bruggens affge„ worpen, ende slagh boomen gestelt mogen werden.\", 'tijden', 'tijden', 'vrouwen ende kinderen daer door alle hoope benomen soude werden van noch eenige vruchten daervan in tijden ende wijlen, naer verloop ende verdwijn van desen bedroeffden tijt, te sullen connen genieten, sond']\n",
      "session-1672-05-21-num-1-resolution-1 missive\n",
      "session-1672-05-21-num-1-resolution-2 missive\n",
      "session-1672-05-21-num-1-resolution-3 requeste\n",
      "session-1672-05-21-num-1-resolution-4 missive\n",
      "session-1672-05-21-num-1-resolution-5 missive\n",
      "session-1672-05-21-num-1-resolution-6 missive\n",
      "session-1672-05-21-num-1-resolution-7 missive\n",
      "session-1672-05-21-num-1-resolution-8 missive\n",
      "session-1672-05-21-num-1-resolution-9 missive\n",
      "session-1672-05-21-num-1-resolution-10 missive\n",
      "session-1672-05-21-num-1-resolution-11 requeste\n",
      "session-1672-05-21-num-1-resolution-12 requeste\n",
      "session-1672-05-21-num-1-resolution-13 None\n",
      "session-1672-05-23-num-1-resolution-1 missive\n",
      "session-1672-05-23-num-1-resolution-2 missive\n",
      "session-1672-05-23-num-1-resolution-3 missive\n",
      "session-1672-05-23-num-1-resolution-4 missive\n",
      "session-1672-05-23-num-1-resolution-5 missive\n",
      "session-1672-05-23-num-1-resolution-6 None\n",
      "session-1672-05-24-num-1-resolution-1 missive\n",
      "['session-1672-05-24-num-1-resolution-1', '1672-05-24', 'missive', \"Ontfangen een Missive van Bailliu, Burgermeesteren ende Schepenen der Stadt ende Ambachte van Axel geschreven tot Axel den twintichsten deser, houdende, dat nademael bij dese becommerlicke tijden de Ingesetenen van Axel Ambacht beruijden de Geule dagelicx in pericul staen, om door fransche parthijen, oft andere voleurs gespo„ lieert te werden, de voorschreve Ingesetenen hadden versocht, om tot haerder defensie, haer in de wapenen te mogen begeven, ende eene Borger„ licke Compagnie te formeren om haer vervolgens vande moet,, willige parthij gangers te bevrijden, ende dat sij derhalven daertoe permissie van haer Ho:Mo: ver„ sochten: Waerop gedelibereert sijnde, Is goetgevonden ende verstaen, dat de voorschreve missive gesonden sal werden aenden Raet van State, met versoeck, dat haer E. ten spoedichsten die voorsieninge willen doen, dat niet alleen de voorschreve Compagnie in Wapenen gebracht, maer oock alle de Ingesetenen inden voorschreven Ambachte op de Wapenen gestelt, ende dat in het voorschreve Ambacht voorts ten coste van het selve noodige Slagh boomen, ende 't geen verders tot defensie dienen can, aldaer gestelt mach werden. De conclusie van Antwoort van Pieter vande Velde, als Procureur van Jan Baptista Lamberti, woonende tot Antwerpen, Gedaechde in cas relief d'appel ter eenre, ende Pieter Lauwaert Landt man woonende in Hulster Ambacht, Impetrant ter andere zijde: Is naer voorgaende deliberatie goetgevonden ende verstaen, dat gestelt sal werden in handen vanden voorschreven Impetrant, om daertegens te repli„ ceren binnen den tijt van drie Weecken naer de insinuatie deses, Ontfangen een missive vande Vrouwe Gravinne van Bentheim Stenwoorde geschreven tot Steinfort den seven„ entwintichsten April laestleden, stilo loci, houdende advertentie, ende onder anderen versoeckende dat het Stedeken en Casteel van Alpen soude mogen werden verschoont van inquartieringe, ende dat haer E Sauveguarde soude mogen werden verleent: Waerop gedelibereert sijnde, Is goetgevonden ende verstaen, dat de voorschreve missive gestelt sal werden in handen vande Heeren van Brakell, ende andere hare Ho:Mo: Gedepu„ teerden tot de militaire saecken met ende nevens eenige Heeren Gecommitteerden uijt den Raet van State, bij haer E. selffs te nami„ neren, om te visiteren, examineren ende daer van rapport te doen. Ontfangen twee missiven vanden heere de Witt, hare Ho:Mo: Gedepu„ teerde ende Gevolmachtichde op ‛s Lants Vloote in de jegenwoor„ dige expeditie, d‛eene geschreven in het Schip de seven Provincien, zeijlende in het gesichte van Calais en negenthienden deser, ende daer„ nevens een bijlage, ende d'ander in het selffde Schip de seven Provincien, geanckert leggende op de hoochte van Duijnkercken, deselve Plaets Oost Luijd Oost ontrent vijff mijlen van haer den twin„ tutsten deser, ende daernevens een bijlage: Waerop geen resolutie en is gevallen.\"]\n",
      "['session-1672-05-24-num-1-resolution-1', '1672-05-24', 'missive', \"Ontfangen een Missive van Bailliu, Burgermeesteren ende Schepenen der Stadt ende Ambachte van Axel geschreven tot Axel den twintichsten deser, houdende, dat nademael bij dese becommerlicke tijden de Ingesetenen van Axel Ambacht beruijden de Geule dagelicx in pericul staen, om door fransche parthijen, oft andere voleurs gespo„ lieert te werden, de voorschreve Ingesetenen hadden versocht, om tot haerder defensie, haer in de wapenen te mogen begeven, ende eene Borger„ licke Compagnie te formeren om haer vervolgens vande moet,, willige parthij gangers te bevrijden, ende dat sij derhalven daertoe permissie van haer Ho:Mo: ver„ sochten: Waerop gedelibereert sijnde, Is goetgevonden ende verstaen, dat de voorschreve missive gesonden sal werden aenden Raet van State, met versoeck, dat haer E. ten spoedichsten die voorsieninge willen doen, dat niet alleen de voorschreve Compagnie in Wapenen gebracht, maer oock alle de Ingesetenen inden voorschreven Ambachte op de Wapenen gestelt, ende dat in het voorschreve Ambacht voorts ten coste van het selve noodige Slagh boomen, ende 't geen verders tot defensie dienen can, aldaer gestelt mach werden. De conclusie van Antwoort van Pieter vande Velde, als Procureur van Jan Baptista Lamberti, woonende tot Antwerpen, Gedaechde in cas relief d'appel ter eenre, ende Pieter Lauwaert Landt man woonende in Hulster Ambacht, Impetrant ter andere zijde: Is naer voorgaende deliberatie goetgevonden ende verstaen, dat gestelt sal werden in handen vanden voorschreven Impetrant, om daertegens te repli„ ceren binnen den tijt van drie Weecken naer de insinuatie deses, Ontfangen een missive vande Vrouwe Gravinne van Bentheim Stenwoorde geschreven tot Steinfort den seven„ entwintichsten April laestleden, stilo loci, houdende advertentie, ende onder anderen versoeckende dat het Stedeken en Casteel van Alpen soude mogen werden verschoont van inquartieringe, ende dat haer E Sauveguarde soude mogen werden verleent: Waerop gedelibereert sijnde, Is goetgevonden ende verstaen, dat de voorschreve missive gestelt sal werden in handen vande Heeren van Brakell, ende andere hare Ho:Mo: Gedepu„ teerden tot de militaire saecken met ende nevens eenige Heeren Gecommitteerden uijt den Raet van State, bij haer E. selffs te nami„ neren, om te visiteren, examineren ende daer van rapport te doen. Ontfangen twee missiven vanden heere de Witt, hare Ho:Mo: Gedepu„ teerde ende Gevolmachtichde op ‛s Lants Vloote in de jegenwoor„ dige expeditie, d‛eene geschreven in het Schip de seven Provincien, zeijlende in het gesichte van Calais en negenthienden deser, ende daer„ nevens een bijlage, ende d'ander in het selffde Schip de seven Provincien, geanckert leggende op de hoochte van Duijnkercken, deselve Plaets Oost Luijd Oost ontrent vijff mijlen van haer den twin„ tutsten deser, ende daernevens een bijlage: Waerop geen resolutie en is gevallen.\", 'tijden', 'tijden', ' van Axel geschreven tot Axel den twintichsten deser, houdende, dat nademael bij dese becommerlicke tijden de Ingesetenen van Axel Ambacht beruijden de Geule dagelicx in pericul staen, om door fransche part']\n"
     ]
    },
    {
     "name": "stdout",
     "output_type": "stream",
     "text": [
      "session-1672-05-24-num-1-resolution-2 missive\n",
      "session-1672-05-24-num-1-resolution-3 missive\n",
      "session-1672-05-24-num-1-resolution-4 missive\n",
      "session-1672-05-24-num-1-resolution-5 missive\n",
      "session-1672-05-24-num-1-resolution-6 missive\n",
      "session-1672-05-24-num-1-resolution-7 missive\n",
      "session-1672-05-24-num-1-resolution-8 None\n",
      "session-1672-05-24-num-1-resolution-9 None\n",
      "session-1672-05-24-num-1-resolution-10 missive\n",
      "session-1672-05-24-num-1-resolution-11 missive\n",
      "session-1672-05-24-num-1-resolution-12 requeste\n",
      "session-1672-05-24-num-1-resolution-13 requeste\n",
      "session-1672-05-24-num-1-resolution-14 None\n",
      "session-1672-05-24-num-1-resolution-15 missive\n",
      "session-1672-05-24-num-1-resolution-16 missive\n",
      "session-1672-05-24-num-1-resolution-17 missive\n",
      "session-1672-05-24-num-1-resolution-18 missive\n",
      "session-1672-05-27-num-1-resolution-1 missive\n",
      "session-1672-05-27-num-1-resolution-2 missive\n",
      "session-1672-05-27-num-1-resolution-3 missive\n",
      "session-1672-05-27-num-1-resolution-4 missive\n"
     ]
    }
   ],
   "source": [
    "from fuzzy_search.fuzzy_context_searcher import FuzzyContextSearcher\n",
    "from fuzzy_search.fuzzy_phrase_model import PhraseModel\n",
    "\n",
    "\n",
    "def get_resolution_text(resolution, join_char: str = ' '):\n",
    "    \"\"\"Return all paragraphs of a resolution joined into a single text string.\"\"\"\n",
    "    return join_char.join([para.text for para in resolution.paragraphs])\n",
    "\n",
    "\n",
    "def resolution_to_csv(resolution, headers):\n",
    "    \"\"\"Extra fields from a resolution given a list of headers.\"\"\"\n",
    "    row = []\n",
    "    for header in headers:\n",
    "        if header == \"text\":\n",
    "            text = get_resolution_text(resolution)\n",
    "            row.append(text)\n",
    "        elif header == \"session_date\":\n",
    "            row.append(resolution.session_date.isoformat())\n",
    "        elif hasattr(resolution, header):\n",
    "            value = getattr(resolution, header)\n",
    "            row.append(value if value is not None else '')\n",
    "        elif header in resolution.metadata:\n",
    "            row.append(resolution.metadata[header])\n",
    "        else:\n",
    "            row.append('')\n",
    "    return row\n",
    "    \n",
    "\n",
    "\n",
    "phrases = [\n",
    "    {\n",
    "        \"phrase\": \"tijden\",\n",
    "        \"distractors\": [\n",
    "            \"lijden\", 'Leijden', 'huijden'\n",
    "        ]\n",
    "    }\n",
    "]\n",
    "\n",
    "config = {\n",
    "    'levenshtein_threshold': 0.7,\n",
    "    'ngram_size': 3,\n",
    "    'skip_size': 1,\n",
    "    'include_variants': True,\n",
    "    'filter_distractors': True\n",
    "}\n",
    "\n",
    "phrase_model = PhraseModel(phrases, config=config)\n",
    "searcher = FuzzyContextSearcher(config)\n",
    "searcher.index_phrase_model(phrase_model)\n",
    "\n",
    "# fields to extract from the matches\n",
    "match_headers = [\n",
    "    'phrase', 'match_string', 'match_context'\n",
    "]\n",
    "# fields to extract from the resolutions\n",
    "res_headers = [\n",
    "    'id', 'session_date', 'proposition_type', 'text'    \n",
    "]\n",
    "\n",
    "# the set of all column headers for the output file\n",
    "all_headers = res_headers + match_headers\n",
    "\n",
    "# start with an empty list for collecting rows of matches\n",
    "rows = []\n",
    "\n",
    "output_file = \"tijden_matches.csv\"\n",
    "\n",
    "with open(output_file, 'wt') as fh:\n",
    "    print(all_headers)\n",
    "    print()\n",
    "    row = '\\t'.join(all_headers)\n",
    "    fh.write(f\"{row}\\n\")\n",
    "    for res in resolutions_1672[:200]:\n",
    "        print(res.id, res.proposition_type)\n",
    "        for para in res.paragraphs:\n",
    "            matches = searcher.find_matches(para.text)\n",
    "            res_row = resolution_to_csv(res, res_headers)\n",
    "            for match in matches:\n",
    "                match_row = res_row + [match.phrase.phrase_string, match.string, match.context]\n",
    "                print(res_row)\n",
    "                print(match_row)\n",
    "                row = '\\t'.join(match_row)\n",
    "                fh.write(f\"{row}\\n\")"
   ]
  },
  {
   "cell_type": "code",
   "execution_count": 4,
   "id": "4636dd57",
   "metadata": {
    "scrolled": true
   },
   "outputs": [
    {
     "name": "stdout",
     "output_type": "stream",
     "text": [
      "adding phrases from set proposition_opening_phrases\n",
      "adding phrases from set proposition_reason_phrases\n",
      "adding phrases from set proposition_closing_phrases\n",
      "adding phrases from set proposition_from_phrases\n",
      "adding phrases from set proposition_verbs\n",
      "adding phrases from set decision_phrases\n",
      "adding phrases from set resolution_link_phrases\n",
      "adding phrases from set prefix_phrases\n",
      "adding phrases from set organisation_phrases\n",
      "adding phrases from set location_phrases\n",
      "adding phrases from set esteem_titles\n",
      "adding phrases from set person_role_phrases\n",
      "adding phrases from set military_phrases\n",
      "adding phrases from set misc\n",
      "adding phrases from set provinces\n",
      "building phrase model for 250 resolution phrases\n"
     ]
    },
    {
     "data": {
      "text/plain": [
       "{Phrase(Advocaat voor, None),\n",
       " Phrase(DE Conclusie van eisen, None),\n",
       " Phrase(DE Resolutien eergisteren genomen, None),\n",
       " Phrase(DE Resolutien gisteren ge-, None),\n",
       " Phrase(DE Resolutien voorleede , None),\n",
       " Phrase(De resolutien eergisteren genomen, None),\n",
       " Phrase(De resolutien gisteren ge-, None),\n",
       " Phrase(De resolutien voorleden , None),\n",
       " Phrase(IS naar voorgaande deliberatie goedgevonden ende verstaan, None),\n",
       " Phrase(IS ter Vergaderinge geëxhibeert een Resolutie van, None),\n",
       " Phrase(Is gehoort het rapport vande , None),\n",
       " Phrase(Koopluyden, None),\n",
       " Phrase(Koopvrouw, None),\n",
       " Phrase(ONtfangen twee Missiven van , None),\n",
       " Phrase(Ontfangen een missive vanden , None),\n",
       " Phrase(Op de requeste van , None),\n",
       " Phrase(Regenten, None),\n",
       " Phrase(WAAR op geen resolutie voor alsnoch is gevallen, None),\n",
       " Phrase(Waer op geen resolutie is gevallen, None),\n",
       " Phrase(Waer op geen resolutie voor alsnoch is gevallen, None),\n",
       " Phrase(de Heer, None),\n",
       " Phrase(de Heeren, None),\n",
       " Phrase(de gewoonlijke Nieuwejaars-Gifte van, None),\n",
       " Phrase(den 1 April laatstleden, None),\n",
       " Phrase(den 1 Augustus laatstleden, None),\n",
       " Phrase(den 1 Juni laatstleden, None),\n",
       " Phrase(den 1 Maart laatstleden, None),\n",
       " Phrase(den 1 Mei laatstleden, None),\n",
       " Phrase(den 1 November laatstleden, None),\n",
       " Phrase(den 1 en 2 deeser loopende maand, None),\n",
       " Phrase(den 1 en 2 der voorleeden maand, None),\n",
       " Phrase(den Commis Generaal, None),\n",
       " Phrase(den Heeren, None),\n",
       " Phrase(den Westindische Handel, None),\n",
       " Phrase(den dertienden deeser loopende maand, None),\n",
       " Phrase(den dertienden der voorleeden maand, None),\n",
       " Phrase(den elfden deeser loopende maand, None),\n",
       " Phrase(den elfden der voorleeden maand, None),\n",
       " Phrase(den negentienden deeser loopende maand, None),\n",
       " Phrase(den negentienden der voorleeden maand, None),\n",
       " Phrase(den seeven en twintighsten deeser loopende maand, None),\n",
       " Phrase(den seeven en twintighsten der voorleeden maand, None),\n",
       " Phrase(den tienden deeser loopende maand, None),\n",
       " Phrase(den tienden der voorleeden maand, None),\n",
       " Phrase(den twaalfden deeser loopende maand, None),\n",
       " Phrase(den twaalfden der voorleeden maand, None),\n",
       " Phrase(den zestienden deeser loopende maand, None),\n",
       " Phrase(den zestienden der voorleeden maand, None),\n",
       " Phrase(geschreven - alhier in Den Hage, None),\n",
       " Phrase(haar Ho. Mo., None),\n",
       " Phrase(haar Hoog Mog., None),\n",
       " Phrase(hebben ter Vergaderinge bekent gemaeckt, None),\n",
       " Phrase(hebben ter Vergaderinge voortgebraght en laaten leesen der selver Resolutie, None),\n",
       " Phrase(hebben ter Vergaderinge wederom voorgedragen , None),\n",
       " Phrase(heeft aan haar Hoog Mog. gecommuniceert, None),\n",
       " Phrase(heeft aan haar Hoog Mog. ingebraght, None),\n",
       " Phrase(heeft ter Vergaderinge ingebragt en laaten leezen de Resolutie , None),\n",
       " Phrase(heeft ter Vergaderinge voorgedraagen, None),\n",
       " Phrase(in gevolge en tot voldoeninge van, None),\n",
       " Phrase(resideerende alhier in den Hage, None),\n",
       " Phrase(resideerende te, None),\n",
       " Phrase(sijne Doorlugtigste Hoogheid, None),\n",
       " Phrase(van Hollandt ende West - Vrieslandt, None),\n",
       " Phrase(weegens Arbeidsloon en gedaane Leeverantie, None)}"
      ]
     },
     "execution_count": 4,
     "metadata": {},
     "output_type": "execute_result"
    }
   ],
   "source": [
    "import republic.model.resolution_phrase_model as rpm\n",
    "\n",
    "from republic.parser.logical.pagexml_resolution_parser import make_resolution_phrase_model_searcher\n",
    "\n",
    "res_searcher = make_resolution_phrase_model_searcher()\n",
    "res_searcher.variants"
   ]
  },
  {
   "cell_type": "code",
   "execution_count": 6,
   "id": "51cefc22",
   "metadata": {},
   "outputs": [
    {
     "name": "stdout",
     "output_type": "stream",
     "text": [
      "Is gehoort het rapport vande Heeren Schimmelpenningh, ende andere hare Ho:Mo: Gedeputeerden tot de saken vande Zee, hebbende ingevolge ende tot voldoeninge van derselver resolutie Commissoriael vanden negenentwin„ tichsten December laestleden, gevi, siteert ende geexamineert de Requeste van David Centsen, Consul vande Nederlantsche natie tot Rochelle, versoeckende door hare Ho:Mo: met eene somme van penningen te mogen werden gesubvenieert, ten aensien vande oncosten bij hem gesupporteert in een continueel vervolgh van ontrent acht maenden, om expeditie, en het obtineren van eene resolutie op de Consulaetrechten aldaer, ende een daghgelt aen hem Suppliant als Con„ sul toe te leggen: Waerop gedelibereert sijnde, Is goetgevonden ende verstaen, mits desen te versoec„ ken de Heeren Gedeputeerden vande Provincie van Hollandt ende West,, vrieslandt, dat haer E. haer hoe eerder soo liever willen verclaren op het rapport vande gemelte Heeren Schimmel„ penningh ende andere hare Ho:Mo: Gedeputeerden den achthienden Julij laestleden gedaen, raeckende de voorschreve Consulaet rechten, mitsge„ ders het advis vande Heeren Gecommitteerden uijt de respective Collegien ter Admiraliteijt 't voor„ schreve daghgelt concernerende in de Notulen vanden thienden December laestleden breeder gementioneert.\n",
      "\t IS gehoort het rapport van  Is gehoort het rapport vande  ['proposition_type:rapport', 'proposition_opening']\n",
      "\t in gevolge en tot voldoeninge van der selver Resolutie commissoriaal van den ingevolge ende tot voldoeninge van derselver resolutie Commissoriael vanden ['proposition_type:speciaal', 'proposition_opening']\n",
      "\n",
      "De Heeren Gedeputeerden vande Provincie van Hollandt ende Westvrieslandt hebben ter Vergaderinge bekent gemaeckt, dat de Heeren Staten vande hoochgemelte Provincie hadden verstaen, dat conform voorige prac,, tijcque vande Wijn, Bier ende andere nootdrufticheden die tot het defroije, ment vanden Heer Ambassadeur Downingh souden mogen werden gerequireert, ende waer over voor desen, in gelijcke gelegentheden geen impost betaelt is geweest. oock alsnu ende voortaen geen impost betaelt soude werden, soo als in de resolutie dienaengaende genomen hier naer geinsereert, breeder was gementionneert.\n",
      "\t hebben ter Vergaderinge voorgedragen  hebben ter Vergaderinge bekent  ['proposition_type:voordracht', 'proposition_opening']\n",
      "\t hebben ter Vergaderinge voorgedragen  hebben ter Vergaderinge bekent gemaeckt ['proposition_type:voordracht', 'proposition_opening']\n",
      "\n",
      "Is gehoort het rapport vande Heeren Schimmelpenningh ende andere hare Ho:Mo: Gedeputeerden tot de saecken vande Westindische Compagnie, heb„ bende ingevolge ende tot voldoeninge van derselver resolutie Commissoriael vanden sevenden December lestleden, in conferentie geweest met de Heeren Lorenso Luis de Capela, ende Diego Fernanden Affgesanten vanden grooten Prince van Sonho, ende Capiteijn Generael over het geheele Coninck„ rijck van Congo, oock gevisiteert ende geexamineert 't geen de gemelte Heeren affgesanten aende gemelte Heeren haer Ho:Mo: Gedeputeerden tenselven dage hadden geexhibeert: Waerop gedelibereert sijnde, Is goetge„ vonden ende verstaen, dat aende hooch„ gemelte Prince van Sonho bij missive sal werden bekent gemaeckt, dat de Vruntschap vanden hoochgemelten Prince haer Ho:Mo: niet alleen seer aenge„ naem is, maer dat deselve haer oock ten hoochsten laten gelegen wesen, aen sijne conservatie ende subsistentie, Ende derhalven seer geerne door alle bequame wegen ende middelen daertoe sullen laboreren, dat wijders aende Geoctroijeerde Westindische Compagnie deser Landen sullen werden gelaten de hondert Slaven die den hoochgemelten Heere Prince aen haer Ho:Mo: heeft gepre„ senteert, om daer van te disponeren naer haer welgevallen. Des dat de gemelte Compagnie daer tegens aenden hoochgemelten Prince van Sonho: sullen leveren Canon, Snaphanen en Buscruijt, ter waerdije van vier duijsent guldens, ende daervan aen haer Ho:Mo: doen blijcken, dat wijders aende hoochgemelte Prince van Sonho sal werden gedaen een contra present ter waerdije van vijffentwintich hondert guldens, ende aen ijder vande ge,, melte Heeren affgesanten een present ter Waerdije van,, \"vier hondert guldens, in soodanige waren ende specien, als de gemelte Westindische Com„ pagnie sal oordeelen aldaer aenge„ naemst te sijn. Ende dat voorts de gemelte Affgesanten sullen werden gedefroijeert van alle costen hier te Lande tot haer subsistentie, ende onderhout gesupporteert. Ende wert den Raet van State bij desen versocht, hier toe de noodige ordon„ nantie te willen depescheren.\n",
      "\t IS gehoort het rapport van  Is gehoort het rapport vande  ['proposition_type:rapport', 'proposition_opening']\n",
      "\t in gevolge en tot voldoeninge van der selver Resolutie commissoriaal van den ingevolge ende tot voldoeninge van derselver resolutie Commissoriael vanden ['proposition_type:speciaal', 'proposition_opening']\n",
      "\n",
      "Op de Requeste van Mr. Louis d' Outrelean, Licentiaet in de rechten woonende tot Middelburch in Zeelandt, versoeckende executorien op de Sententie den twaelffden December 1671. bij hem van haer Ho:Mo: geobtineert, tegens Mr. Daniel van Ceulen Professer Juris inde Universiteijt tot Leijden, soo voor hem selven, alsmede als Oom ende Testamentaire Voocht over de kinderen ende Erffgenamen van Bonaventura Elsevier, geprocreert bij Sara van Ceulen, met de clau,, sule van Edicte, alsoo den voors Professor van Ceulen is woonende buijten de jurisdictie van haer Ho:Mo: Is naer voorgaende deliberatie goetgevonden ende verstaen, te consenteren in het voor„ schreve versoeck, ende dat mits dien de voorschreve executorien met de voorschreve clausule van Edicte aenden Suppliant sullen werden verleent.\n",
      "\t OP de Requeste van  Op de Requeste van  ['proposition_type:request', 'proposition_opening']\n",
      "\n",
      "Is gehoort het rapport vande Heeren Ripperda tot Buirse, ende andere hare Ho:Mo: Gedeputeerden tot de Militaire saecken, hebbende ingevolge ende tot voldoeninge van derselver resolutie Commissariael vanden vierden deses, gevisiteert ende geexamineert de consenten bij de Heeren Staten vande respective Provincien gedragen tot de bewuste Equipagie, wervinge het furneren vande bewuste seven millioenen, ende het arresteren vande Lijste vande ordinaris besettinge, alle breeder in haer Ho:Mo: reso,, lutie vanden achtsten deser gemen„ tionneert: Waerop gedelibereert sijnde, is goetgevonden ende verstaen, dat alle de voors consenten gesonden sullen werden aenden Raedt van State, met ver„ soeck, dat haer E. ten alderspoe„ dichsten, is het doenlinck, een Conci„ liatoir op de discrepantie daerinnegevonden werdende willen uijtvinden, ende voorts een concept van repar„ titie ende conclusie, soo wel op de voorschreve Equipage als de voor„ schreve wervinge, het furneren vande voorschreve seven millioenen ende het arresteren vande ordinaris Lijste van besettinge, willen for„ meren, ende aen haer Ho:Mo: soo haest mogelick laten toecomen, omme 't selve gesien, voorts gere„ solveert te werden, als haer Ho: Mo: sullen oordeelen te behooren. sonder resumptie. Is ter Vergaderinge gelesen het memoriael vanden Heer Doconingh Ambassadeur van den Coningh van Groot Brittannien, geschreven alhier inden Hage den tweeden deser, ouden stijl, houdende clachten over seeckere rencontre inden voorleden jare voorgevallen tusschen het Jacht de Merlin, gevoert werdende door den Capiteijn Crouw ende eenige Schepen van Oorloge van desen Staet ende versoeckende dienaengaende redres, reparatie ende satisfactie: Waerop gedelibereert sijnde, is goetgevonden ende verstaen, dat het voorschreve memoriael gestelt sal werden in handen vande Heeren van Gent, ende andere hare Ho:Mo: Gede,, puteerden tot de saecken vande Triple Alliancie, om te visiteren, examineren, ende daervan rapport te doen.\n",
      "\t IS gehoort het rapport van  Is gehoort het rapport vande  ['proposition_type:rapport', 'proposition_opening']\n",
      "\t in gevolge en tot voldoeninge van der selver Resolutie commissoriaal van den ingevolge ende tot voldoeninge van derselver resolutie Commissariael vanden ['proposition_type:speciaal', 'proposition_opening']\n",
      "\n",
      "Op de requeste van Jacob Pesijn, Ontfanger vande gemeijne middelen opt' Sas van Gent, Impt, ende geexcipieerde ter eenre, op ende jegen Abrahant le gouche, ende d'Erffgenamen van Jan le Gouche, woonende tot Middelburgh in Zeelandt, gedaechdens ende excipienten te andere zijde, versoeckende nochmaels uijtstel voor den tijt van een maent, om onder be„ hoorlijcken Inventaris van stucken te wisselen: Is naer voorgaende deli„ beratie goetgevonden ende verstaen, aenden Suppliant mits desen te accor„ deren uijtstel voor den tijt van veertien dagen, voor alle dilaij.\n"
     ]
    },
    {
     "name": "stdout",
     "output_type": "stream",
     "text": [
      "\t OP de Requeste van  Op de requeste van  ['proposition_type:request', 'proposition_opening']\n",
      "\n",
      "De requeste van Buijrschap Bokeles gelegen in het Stift van Munster in Westphalen, op de grensen van Oostvrieslant, ende der selver Ingesetenen, mitsgaders die van het huijs Esterwegen mede in het voor ss. Stift Munster aen Hummelingh gelegen, versoeckende Sauveguarde van haer Ho:Mo: Is naer voorgaende deliberatie goetgevonden ende verstaen, dat gestelt sal werden in handen vandeheeren van Brakel ende andere haer Ho:Mo: Gedeputeerden tot de militaire saecken, met ende nevens eenige heeren Gecommitteerden uijt den den Raet van State bij haer E. selfs te nomineren, om te visiteren, examineren, ende daer van rapport te doen.\n",
      "\t De requeste van  De requeste van  ['proposition_type:requeste', 'proposition_opening']\n",
      "\n"
     ]
    }
   ],
   "source": [
    "for res in resolutions_1672[:40]:\n",
    "    if res.proposition_type is not None:\n",
    "        continue\n",
    "    #for match in res.evidence:\n",
    "    #    print(match)\n",
    "    for para in res.paragraphs[:1]:\n",
    "        print(para.text)\n",
    "        matches = res_searcher.find_matches(para.text)\n",
    "        for match in matches:\n",
    "            if 'proposition_opening' in match.label:\n",
    "                print('\\t', match.phrase.phrase_string, match.string, match.label)\n",
    "        print()"
   ]
  },
  {
   "cell_type": "code",
   "execution_count": null,
   "id": "62c9990e",
   "metadata": {},
   "outputs": [],
   "source": []
  },
  {
   "cell_type": "code",
   "execution_count": 8,
   "id": "82bbba9a",
   "metadata": {},
   "outputs": [
    {
     "name": "stdout",
     "output_type": "stream",
     "text": [
      "{'phrase': 'IS gehoort het rapport van ', 'variants': ['Is gehoort het rapport vande '], 'label': ['proposition_opening', 'proposition_type:rapport'], 'proposition_type': 'rapport', 'max_offset': 10}\n"
     ]
    }
   ],
   "source": [
    "print(res_searcher.phrase_model.custom[\"IS gehoort het rapport van \"])"
   ]
  },
  {
   "cell_type": "code",
   "execution_count": null,
   "id": "b35787a4",
   "metadata": {},
   "outputs": [],
   "source": []
  },
  {
   "cell_type": "code",
   "execution_count": null,
   "id": "89c8b6f3",
   "metadata": {},
   "outputs": [],
   "source": []
  }
 ],
 "metadata": {
  "kernelspec": {
   "display_name": "Python 3 (ipykernel)",
   "language": "python",
   "name": "python3"
  },
  "language_info": {
   "codemirror_mode": {
    "name": "ipython",
    "version": 3
   },
   "file_extension": ".py",
   "mimetype": "text/x-python",
   "name": "python",
   "nbconvert_exporter": "python",
   "pygments_lexer": "ipython3",
   "version": "3.9.7"
  }
 },
 "nbformat": 4,
 "nbformat_minor": 5
}
