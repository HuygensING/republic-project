{
 "cells": [
  {
   "cell_type": "markdown",
   "metadata": {},
   "source": [
    "## Parsing REPBULIC hOCR Files\n",
    "\n",
    "The scans of the printed RSG volumes have the following characteristics\n",
    "\n",
    "- all scans:\n",
    "  - have two pages per scan\n",
    "  - have up to 4 columns per scan, 2 per page \n",
    "  - full scan is around 4800 pixels wide, left page is up to pixel 2400, right page is from pixel 2400 (roughly)\n",
    "- scans of index pages\n",
    "  - have no page numbers\n",
    "- scans of resolution pages\n",
    "  - have page numbers (left-side page is even, right-side page is odd)\n",
    "  \n",
    "### Columns\n",
    "\n",
    "The scans are normalized such that the columns are straight. The text width should be around 1000 pixels. Some columns are not cut out properly, resulting in columns that are either to small (some of the column text is missing), or too wide (the hOCR output contains partial texts from two columns)\n",
    "\n",
    "### Index pages\n",
    "\n",
    "- start of entry: \n",
    "  - start left alignment\n",
    "- end of entry:\n",
    "  - end of line possibly before end of text column. \n",
    "  - One or more page numbers\n",
    "\n",
    "\n",
    "### Resolution pages\n",
    "\n",
    "- header:\n",
    "  - next top of page (less than 350 pixels from the top)\n",
    "  - page has header with:\n",
    "    - even numbered pages: date page_number year\n",
    "    - odd numbered pages: year page_number date\n",
    "  - columns have half of page header, e.g.:\n",
    "    - even numbered pages: \n",
    "      - first column: date left aligned and part of page_number right aligned\n",
    "      - second column: part of page_number left aligned and year right aligned\n",
    "    - odd numbered pages: \n",
    "      - first column: year left aligned and part of page_number right aligned\n",
    "      - second column: part of page_number left aligned and date right aligned\n",
    "      \n",
    "### Viewer\n",
    "\n",
    "- page viewer: https://images.huygens.knaw.nl/assets/argos/index.html\n",
    "- list of page URLs: https://images.huygens.knaw.nl/api/argos\n",
    "\n",
    "\n",
    "### National Archive site\n",
    "\n",
    "- search in the archive: https://www.nationaalarchief.nl/onderzoeken/index/nt00444?searchTerm=\n",
    "- search the index: https://www.nationaalarchief.nl/onderzoeken/zoekhulpen/voc-opvarenden\n",
    "- example page: https://www.nationaalarchief.nl/onderzoeken/index/nt00444/d110980c-c864-11e6-9d8b-00505693001d\n"
   ]
  },
  {
   "cell_type": "code",
   "execution_count": 8,
   "metadata": {},
   "outputs": [],
   "source": [
    "# This reload library is just used for developing the REPUBLIC hOCR parser \n",
    "# and can be removed once this module is stable.\n",
    "%reload_ext autoreload\n",
    "%autoreload 2\n",
    "\n",
    "\n",
    "# This is needed to add the repo dir to the path so jupyter\n",
    "# can load the republic modules directly from the notebooks\n",
    "import os\n",
    "import sys\n",
    "repo_dir = os.path.split(os.getcwd())[0]\n",
    "if repo_dir not in sys.path:\n",
    "    sys.path.append(repo_dir)"
   ]
  },
  {
   "cell_type": "code",
   "execution_count": 9,
   "metadata": {},
   "outputs": [],
   "source": [
    "import json\n",
    "import os\n",
    "import re\n",
    "from collections import defaultdict\n",
    "#from republic.parser.generic_hocr_parser import make_hocr_doc\n",
    "import republic.parser.republic_page_parser as page_parser\n",
    "import republic.parser.republic_paragraph_parser as paragraph_parser\n",
    "import republic.parser.republic_file_parser as file_parser\n",
    "\n",
    "from elasticsearch import Elasticsearch\n",
    "import republic.elastic.republic_elasticsearch as rep_es\n",
    "\n",
    "es = Elasticsearch()\n",
    "es_republic = rep_es.initialize_es() # using the configuration in settings.py\n",
    "\n",
    "\n",
    "# The hOCR file name contains relevant information for parsing. Here's an example:\n",
    "# NL-HaNA_1.01.02_3780_0016.jpg-0-251-98--0.40.hocr\n",
    "\n",
    "# NL-HaNA_1.01.02 is the name of the archive\n",
    "# 3780_0016 identifies the specific page with a specific contract\n",
    "# 0-251-98--0.40 identifies four aspects:\n",
    "#   1. the number of the column (0)\n",
    "#   2. the offset from the left (251)\n",
    "#   3. the offset from the top (98)\n",
    "#   4. and the slant (-0.40)\n",
    "\n"
   ]
  },
  {
   "cell_type": "markdown",
   "metadata": {},
   "source": [
    "### Reading column scans for a single volume\n",
    "\n",
    "1. get scan file info\n",
    "    - scan number, page number, page side, column number, slant, page\n",
    "2. iterate over pages\n",
    "    - create hocr_page\n",
    "    - determine page type: index, resolution, other\n",
    "    "
   ]
  },
  {
   "cell_type": "code",
   "execution_count": null,
   "metadata": {},
   "outputs": [],
   "source": []
  },
  {
   "cell_type": "code",
   "execution_count": 10,
   "metadata": {},
   "outputs": [
    {
     "name": "stdout",
     "output_type": "stream",
     "text": [
      "Number of scan files: 2161\n"
     ]
    }
   ],
   "source": [
    "#from republic.parser.generic_hocr_parser import make_hocr_doc\n",
    "import republic.parser.republic_page_parser as page_parser\n",
    "import republic.parser.republic_file_parser as file_parser\n",
    "from republic.config.republic_config import base_config, set_config_year\n",
    "\n",
    "import copy\n",
    "\n",
    "year = 1725\n",
    "data_dir = \"/Users/marijnkoolen/Data/Projects/REPUBLIC/hocr\"\n",
    "\n",
    "\n",
    "def get_pages_info(config):\n",
    "    scan_files = file_parser.get_files(config[\"data_dir\"])\n",
    "    print(\"Number of scan files:\", len(scan_files))\n",
    "    return file_parser.gather_page_columns(scan_files)\n",
    "\n",
    "year_config = set_config_year(base_config, year, data_dir)\n",
    "pages_info = get_pages_info(year_config)\n",
    "\n"
   ]
  },
  {
   "cell_type": "markdown",
   "metadata": {},
   "source": [
    "## Indexing Page Data in Elasticsearch\n",
    "\n",
    "Index the resolution volumes at the page level.\n",
    "\n",
    "Every scan contains two pages. Since index terms reference page numbers, we want to be able to access individual pages for later matching.\n",
    "\n",
    "### Determining Page Type\n",
    "\n",
    "We want to parse index pages differently from resolution pages and filter out non-text pages and pages where the columns are not properly identified.\n",
    "\n",
    "So a first step is to use the page layout and content to distinguish pages containing indices from pages containing resolution summaries. There are also title pages, that indicate where a new part starts (e.g. indices, resolutions of the first half of the year, resolutions of the second half of the year).\n",
    "\n",
    "For examples of title pages, see: https://www.nationaalarchief.nl/onderzoeken/archief/1.01.02/inventaris?inventarisnr=3780&scans-inventarispagina=43&activeTab=gahetnascans#tab-heading"
   ]
  },
  {
   "cell_type": "code",
   "execution_count": 4,
   "metadata": {},
   "outputs": [],
   "source": [
    "special_pages = {\n",
    "    154: {\n",
    "        \"scan_num\": 77,\n",
    "        \"page_num\": 153,\n",
    "        \"type_page_num\": 64,\n",
    "        \"special_type\": \"table\",\n",
    "    },\n",
    "    155: {\n",
    "        \"scan_num\": 77,\n",
    "        \"page_num\": 154,\n",
    "        \"type_page_num\": 65,\n",
    "        \"special_type\": \"table\",\n",
    "    },\n",
    "    156: {\n",
    "        \"scan_num\": 78,\n",
    "        \"page_num\": 155,\n",
    "        \"type_page_num\": 66,\n",
    "        \"special_type\": \"table\",\n",
    "    },\n",
    "}"
   ]
  },
  {
   "cell_type": "code",
   "execution_count": 13,
   "metadata": {},
   "outputs": [
    {
     "name": "stdout",
     "output_type": "stream",
     "text": [
      "year-1725-scan-6-even 10\n",
      "year-1725-scan-6-odd 11\n"
     ]
    }
   ],
   "source": [
    "# What page info do we get\n",
    "import json\n",
    "\n",
    "for page_id in pages_info:\n",
    "    if pages_info[page_id][\"scan_num\"] > 6 or pages_info[page_id][\"scan_num\"] < 6:\n",
    "        continue\n",
    "    print(page_id, pages_info[page_id][\"page_num\"])\n",
    "    #print(json.dumps(pages_info[page_id], indent=2))\n",
    "    for column_info in pages_info[page_id][\"columns\"]:\n",
    "        #print(json.dumps(column_info, indent=2))\n",
    "        column_hocr = page_parser.get_column_hocr(column_info, year_config)\n",
    "        #print(json.dumps(column_hocr, indent=2))\n",
    "    #break\n",
    "\n"
   ]
  },
  {
   "cell_type": "code",
   "execution_count": 17,
   "metadata": {},
   "outputs": [],
   "source": [
    "from elasticsearch import Elasticsearch\n",
    "import republic.elastic.republic_elasticsearch as rep_es\n",
    "\n",
    "es = Elasticsearch()\n",
    "es_republic = rep_es.initialize_es() # using the configuration in settings.py\n",
    "#es_republic.indices.delete(index=\"republic_hocr_pages\")\n",
    "\n",
    "rep_es.parse_pre_split_column_inventory(es_republic, pages_info, year_config, delete_index=False)\n"
   ]
  },
  {
   "cell_type": "markdown",
   "metadata": {},
   "source": [
    "### Adjusting Incorrect Page Type Assignments and Numbered Page Numbers\n",
    "\n",
    "**Problem 1**: For some pages the page type may be incorrectly identified (e.g. an index page identified as a resolution page or vice versa). This mainly happens on pages with little text content or pages where the columns are misidentified. \n",
    "\n",
    "**Solution**: Using the title pages as part separators, and knowing that the indices precede the resolution pages, we can identify misclassified page and correct their labels.\n",
    "\n",
    "**Problem 2**: Some pages are duplicates of the preceding scan. When the page turning mechanism fails, subsequent scans are images of the same two pages. Duplicate page shoulds therefore come in pairs, that is, even and odd side of scan $n$ are duplicates of even and odd side of scan $n-1$. Shingling or straightforward text tiling won't work because of OCR variation. Many words may be recognized slightly different and lines and words may not align.\n",
    "\n",
    "**Solution**: Compare each pair of even+odd pages against preceding pair of even+odd pages, using Levenshtein distance. This deals with slight character-level variations due to OCR. Most pairs will be very dissimilar. Use a heuristic threshold to determine whether pages are duplicates.\n",
    "\n",
    "**Problem 3**: A second problem is that page numbers of numbered pages are reset per part, starting from page 1, but the title page separating the first and second halves of the year should not reset the page numbering. \n",
    "\n",
    "**Solution**: Iterate over the pages, using a flag to keep track of whether we're in the indices part or a resolution part. If the title page is within the resolution part, update the page numbers by incrementing from the previous page.\n"
   ]
  },
  {
   "cell_type": "code",
   "execution_count": 15,
   "metadata": {},
   "outputs": [],
   "source": [
    "import republic.elastic.republic_page_checks as page_checks\n",
    "\n",
    "#page_checks.correct_page_types(es_republic, year_config)\n",
    "\n",
    "\n"
   ]
  },
  {
   "cell_type": "code",
   "execution_count": 9,
   "metadata": {},
   "outputs": [
    {
     "name": "stdout",
     "output_type": "stream",
     "text": [
      "Page year-1725-scan-139-odd is duplicate of page year-1725-scan-138-odd\n",
      "Page year-1725-scan-139-even is duplicate of page year-1725-scan-138-even\n",
      "Page year-1725-scan-279-odd is duplicate of page year-1725-scan-278-odd\n",
      "Page year-1725-scan-279-even is duplicate of page year-1725-scan-278-even\n",
      "Page year-1725-scan-286-odd is duplicate of page year-1725-scan-285-odd\n",
      "Page year-1725-scan-286-even is duplicate of page year-1725-scan-285-even\n",
      "Page year-1725-scan-492-odd is duplicate of page year-1725-scan-491-odd\n",
      "Page year-1725-scan-492-even is duplicate of page year-1725-scan-491-even\n",
      "\n",
      "Done with year 1725, inventory 3780!\n"
     ]
    }
   ],
   "source": [
    "\n",
    "page_checks.detect_duplicate_scans(es_republic, year_config)\n"
   ]
  },
  {
   "cell_type": "code",
   "execution_count": 16,
   "metadata": {},
   "outputs": [],
   "source": [
    "\n",
    "page_checks.correct_page_numbers(es_republic, year_config)\n",
    "\n"
   ]
  },
  {
   "cell_type": "code",
   "execution_count": null,
   "metadata": {},
   "outputs": [],
   "source": []
  }
 ],
 "metadata": {
  "kernelspec": {
   "display_name": "Python 3",
   "language": "python",
   "name": "python3"
  },
  "language_info": {
   "codemirror_mode": {
    "name": "ipython",
    "version": 3
   },
   "file_extension": ".py",
   "mimetype": "text/x-python",
   "name": "python",
   "nbconvert_exporter": "python",
   "pygments_lexer": "ipython3",
   "version": "3.6.2"
  }
 },
 "nbformat": 4,
 "nbformat_minor": 2
}
